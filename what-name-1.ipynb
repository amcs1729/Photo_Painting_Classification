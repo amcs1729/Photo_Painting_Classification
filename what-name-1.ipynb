{
 "cells": [
  {
   "cell_type": "code",
   "execution_count": 1,
   "metadata": {
    "_cell_guid": "b1076dfc-b9ad-4769-8c92-a6c4dae69d19",
    "_uuid": "8f2839f25d086af736a60e9eeb907d3b93b6e0e5"
   },
   "outputs": [
    {
     "name": "stderr",
     "output_type": "stream",
     "text": [
      "Using TensorFlow backend.\n"
     ]
    }
   ],
   "source": [
    "# This Python 3 environment comes with many helpful analytics libraries installed\n",
    "# It is defined by the kaggle/python Docker image: https://github.com/kaggle/docker-python\n",
    "# For example, here's several helpful packages to load\n",
    "\n",
    "import numpy as np # linear algebra\n",
    "import pandas as pd # data processing, CSV file I/O (e.g. pd.read_csv)\n",
    "from numpy import expand_dims\n",
    "from keras.preprocessing.image import load_img\n",
    "from keras.preprocessing.image import img_to_array\n",
    "from keras.preprocessing.image import ImageDataGenerator\n",
    "from os import listdir\n",
    "from os.path import isfile, join\n",
    "# Input data files are available in the read-only \"../input/\" directory\n",
    "# For example, running this (by clicking run or pressing Shift+Enter) will list all files under the input directory\n",
    "\n",
    "\n",
    "# You can write up to 5GB to the current directory (/kaggle/working/) that gets preserved as output when you create a version using \"Save & Run All\" \n",
    "# You can also write temporary files to /kaggle/temp/, but they won't be saved outside of the current session"
   ]
  },
  {
   "cell_type": "code",
   "execution_count": 2,
   "metadata": {},
   "outputs": [
    {
     "name": "stdout",
     "output_type": "stream",
     "text": [
      "rm: cannot remove '/kaggle/working/': Device or resource busy\r\n"
     ]
    }
   ],
   "source": [
    "rm -rf /kaggle/working/"
   ]
  },
  {
   "cell_type": "code",
   "execution_count": 3,
   "metadata": {},
   "outputs": [],
   "source": [
    "painting_path = '../input/painting-vs-photograph-classification-dataset/Raw Data/painting'"
   ]
  },
  {
   "cell_type": "code",
   "execution_count": 4,
   "metadata": {},
   "outputs": [],
   "source": [
    "photo_path = '../input/painting-vs-photograph-classification-dataset/Raw Data/photos'"
   ]
  },
  {
   "cell_type": "code",
   "execution_count": 5,
   "metadata": {},
   "outputs": [],
   "source": [
    "\n",
    "painting_images=[(f) for f in listdir(painting_path) if isfile(join(painting_path, f))]\n",
    "photo_images = [(f) for f in listdir(photo_path) if isfile(join(photo_path, f))]\n",
    "\n"
   ]
  },
  {
   "cell_type": "code",
   "execution_count": 6,
   "metadata": {},
   "outputs": [],
   "source": [
    "painting_df = pd.DataFrame()\n",
    "painting_df['file_name']=[painting_path  +'/'+  str(x) for x in painting_images]"
   ]
  },
  {
   "cell_type": "code",
   "execution_count": 7,
   "metadata": {},
   "outputs": [],
   "source": [
    "photo_df = pd.DataFrame()\n",
    "photo_df['file_name']=[photo_path  +'/'+  str(x) for x in photo_images]"
   ]
  },
  {
   "cell_type": "code",
   "execution_count": 8,
   "metadata": {},
   "outputs": [],
   "source": [
    "photo_df['category']= np.zeros(len(photo_df))\n",
    "photo_df['category']= 0"
   ]
  },
  {
   "cell_type": "code",
   "execution_count": 9,
   "metadata": {},
   "outputs": [],
   "source": [
    "painting_df['category']= np.zeros(len(painting_df))\n",
    "painting_df['category'] = 1"
   ]
  },
  {
   "cell_type": "code",
   "execution_count": 10,
   "metadata": {},
   "outputs": [],
   "source": [
    "df = painting_df.append(photo_df, ignore_index = True)"
   ]
  },
  {
   "cell_type": "code",
   "execution_count": 11,
   "metadata": {},
   "outputs": [
    {
     "name": "stdout",
     "output_type": "stream",
     "text": [
      "2.2.0\n"
     ]
    }
   ],
   "source": [
    "from sklearn.model_selection import train_test_split\n",
    "\n",
    "import tensorflow as tf\n",
    "print(tf.__version__)"
   ]
  },
  {
   "cell_type": "code",
   "execution_count": 12,
   "metadata": {},
   "outputs": [],
   "source": [
    "image_augment = tf.keras.preprocessing.image.ImageDataGenerator(    \n",
    "    rotation_range=40,\n",
    "    width_shift_range=0.2,\n",
    "    height_shift_range=0.2,\n",
    "    shear_range=0.2,\n",
    "    zoom_range=0.2,\n",
    "    horizontal_flip=True,\n",
    "    fill_mode='nearest'\n",
    "    )"
   ]
  },
  {
   "cell_type": "code",
   "execution_count": 13,
   "metadata": {},
   "outputs": [],
   "source": [
    "VALID_FRACTION = 0.2\n",
    "TEST_FRACTION = 0.33\n",
    "BATCH_SIZE = 256\n",
    "EPOCHS = 50\n",
    "\n",
    "IMAGE_WIDTH = IMAGE_HEIGHT = 256\n",
    "IMAGE_CHANNELS = 3"
   ]
  },
  {
   "cell_type": "code",
   "execution_count": 14,
   "metadata": {},
   "outputs": [],
   "source": [
    "train_df, test_df = train_test_split(df, test_size=TEST_FRACTION, random_state= 42)"
   ]
  },
  {
   "cell_type": "code",
   "execution_count": 15,
   "metadata": {},
   "outputs": [],
   "source": [
    "train_df, valid_df = train_test_split(train_df, test_size=VALID_FRACTION, random_state= 42 )"
   ]
  },
  {
   "cell_type": "code",
   "execution_count": 16,
   "metadata": {},
   "outputs": [],
   "source": [
    "from PIL import Image"
   ]
  },
  {
   "cell_type": "code",
   "execution_count": 17,
   "metadata": {},
   "outputs": [],
   "source": [
    "from tqdm import tqdm"
   ]
  },
  {
   "cell_type": "code",
   "execution_count": 18,
   "metadata": {},
   "outputs": [],
   "source": [
    "import cv2"
   ]
  },
  {
   "cell_type": "code",
   "execution_count": 19,
   "metadata": {},
   "outputs": [
    {
     "data": {
      "text/html": [
       "<div>\n",
       "<style scoped>\n",
       "    .dataframe tbody tr th:only-of-type {\n",
       "        vertical-align: middle;\n",
       "    }\n",
       "\n",
       "    .dataframe tbody tr th {\n",
       "        vertical-align: top;\n",
       "    }\n",
       "\n",
       "    .dataframe thead th {\n",
       "        text-align: right;\n",
       "    }\n",
       "</style>\n",
       "<table border=\"1\" class=\"dataframe\">\n",
       "  <thead>\n",
       "    <tr style=\"text-align: right;\">\n",
       "      <th></th>\n",
       "      <th>file_name</th>\n",
       "      <th>category</th>\n",
       "    </tr>\n",
       "  </thead>\n",
       "  <tbody>\n",
       "    <tr>\n",
       "      <th>3988</th>\n",
       "      <td>../input/painting-vs-photograph-classification...</td>\n",
       "      <td>0</td>\n",
       "    </tr>\n",
       "    <tr>\n",
       "      <th>2933</th>\n",
       "      <td>../input/painting-vs-photograph-classification...</td>\n",
       "      <td>0</td>\n",
       "    </tr>\n",
       "    <tr>\n",
       "      <th>475</th>\n",
       "      <td>../input/painting-vs-photograph-classification...</td>\n",
       "      <td>1</td>\n",
       "    </tr>\n",
       "    <tr>\n",
       "      <th>3390</th>\n",
       "      <td>../input/painting-vs-photograph-classification...</td>\n",
       "      <td>0</td>\n",
       "    </tr>\n",
       "    <tr>\n",
       "      <th>2235</th>\n",
       "      <td>../input/painting-vs-photograph-classification...</td>\n",
       "      <td>0</td>\n",
       "    </tr>\n",
       "    <tr>\n",
       "      <th>...</th>\n",
       "      <td>...</td>\n",
       "      <td>...</td>\n",
       "    </tr>\n",
       "    <tr>\n",
       "      <th>2881</th>\n",
       "      <td>../input/painting-vs-photograph-classification...</td>\n",
       "      <td>0</td>\n",
       "    </tr>\n",
       "    <tr>\n",
       "      <th>4813</th>\n",
       "      <td>../input/painting-vs-photograph-classification...</td>\n",
       "      <td>0</td>\n",
       "    </tr>\n",
       "    <tr>\n",
       "      <th>1462</th>\n",
       "      <td>../input/painting-vs-photograph-classification...</td>\n",
       "      <td>0</td>\n",
       "    </tr>\n",
       "    <tr>\n",
       "      <th>4066</th>\n",
       "      <td>../input/painting-vs-photograph-classification...</td>\n",
       "      <td>0</td>\n",
       "    </tr>\n",
       "    <tr>\n",
       "      <th>956</th>\n",
       "      <td>../input/painting-vs-photograph-classification...</td>\n",
       "      <td>1</td>\n",
       "    </tr>\n",
       "  </tbody>\n",
       "</table>\n",
       "<p>2737 rows × 2 columns</p>\n",
       "</div>"
      ],
      "text/plain": [
       "                                              file_name  category\n",
       "3988  ../input/painting-vs-photograph-classification...         0\n",
       "2933  ../input/painting-vs-photograph-classification...         0\n",
       "475   ../input/painting-vs-photograph-classification...         1\n",
       "3390  ../input/painting-vs-photograph-classification...         0\n",
       "2235  ../input/painting-vs-photograph-classification...         0\n",
       "...                                                 ...       ...\n",
       "2881  ../input/painting-vs-photograph-classification...         0\n",
       "4813  ../input/painting-vs-photograph-classification...         0\n",
       "1462  ../input/painting-vs-photograph-classification...         0\n",
       "4066  ../input/painting-vs-photograph-classification...         0\n",
       "956   ../input/painting-vs-photograph-classification...         1\n",
       "\n",
       "[2737 rows x 2 columns]"
      ]
     },
     "execution_count": 19,
     "metadata": {},
     "output_type": "execute_result"
    }
   ],
   "source": [
    "train_df"
   ]
  },
  {
   "cell_type": "code",
   "execution_count": null,
   "metadata": {},
   "outputs": [],
   "source": []
  },
  {
   "cell_type": "code",
   "execution_count": 20,
   "metadata": {},
   "outputs": [
    {
     "name": "stderr",
     "output_type": "stream",
     "text": [
      "  0%|          | 0/2737 [00:00<?, ?it/s]"
     ]
    },
    {
     "name": "stdout",
     "output_type": "stream",
     "text": [
      "../input/painting-vs-photograph-classification-dataset/Raw Data/photos/e92272c233bb3ba5434926da5701c49bfe3580b7.jpg\n"
     ]
    },
    {
     "name": "stderr",
     "output_type": "stream",
     "text": [
      "  0%|          | 1/2737 [00:00<11:52,  3.84it/s]"
     ]
    },
    {
     "name": "stdout",
     "output_type": "stream",
     "text": [
      "../input/painting-vs-photograph-classification-dataset/Raw Data/photos/2bb9906c24b42da47a2ef4d113f208df28f01f2a.jpg\n"
     ]
    },
    {
     "name": "stderr",
     "output_type": "stream",
     "text": [
      "  0%|          | 2/2737 [00:00<11:35,  3.93it/s]"
     ]
    },
    {
     "name": "stdout",
     "output_type": "stream",
     "text": [
      "../input/painting-vs-photograph-classification-dataset/Raw Data/painting/dddc034505fb1e597cdefaae4945e70c701ea91c.jpg\n"
     ]
    },
    {
     "name": "stderr",
     "output_type": "stream",
     "text": [
      "  0%|          | 3/2737 [00:01<21:25,  2.13it/s]"
     ]
    },
    {
     "name": "stdout",
     "output_type": "stream",
     "text": [
      "../input/painting-vs-photograph-classification-dataset/Raw Data/photos/cba024986805a4c44e71ef461833b35aba29ee03.jpg\n"
     ]
    },
    {
     "name": "stderr",
     "output_type": "stream",
     "text": [
      "  0%|          | 4/2737 [00:01<18:20,  2.48it/s]"
     ]
    },
    {
     "name": "stdout",
     "output_type": "stream",
     "text": [
      "../input/painting-vs-photograph-classification-dataset/Raw Data/photos/add2baf7e0c49ca628fabba3c132e444a0f9a853.jpg\n"
     ]
    },
    {
     "name": "stderr",
     "output_type": "stream",
     "text": [
      "  0%|          | 5/2737 [00:01<16:06,  2.83it/s]"
     ]
    },
    {
     "name": "stdout",
     "output_type": "stream",
     "text": [
      "../input/painting-vs-photograph-classification-dataset/Raw Data/photos/b066b63b1c8d35e19aeb32a955bd405fc3db63f7.jpg\n"
     ]
    },
    {
     "name": "stderr",
     "output_type": "stream",
     "text": [
      "  0%|          | 7/2737 [00:02<12:35,  3.61it/s]"
     ]
    },
    {
     "name": "stdout",
     "output_type": "stream",
     "text": [
      "../input/painting-vs-photograph-classification-dataset/Raw Data/photos/17d432b034f52e93696e5c00fdd65a21d3ab4e41.jpg\n",
      "../input/painting-vs-photograph-classification-dataset/Raw Data/photos/a76e9c0e6306c2f5020f9f7370bb124375226b4c.jpg\n"
     ]
    },
    {
     "name": "stderr",
     "output_type": "stream",
     "text": [
      "  0%|          | 8/2737 [00:02<12:01,  3.78it/s]"
     ]
    },
    {
     "name": "stdout",
     "output_type": "stream",
     "text": [
      "../input/painting-vs-photograph-classification-dataset/Raw Data/photos/f74b58ff5c34a954b8b419e37defeed3f7c0e13c.jpg\n"
     ]
    },
    {
     "name": "stderr",
     "output_type": "stream",
     "text": [
      "  0%|          | 9/2737 [00:02<12:54,  3.52it/s]"
     ]
    },
    {
     "name": "stdout",
     "output_type": "stream",
     "text": [
      "../input/painting-vs-photograph-classification-dataset/Raw Data/photos/af46679689ad450fc18f48b9f722590c3290abf8.jpg\n"
     ]
    },
    {
     "name": "stderr",
     "output_type": "stream",
     "text": [
      "  0%|          | 10/2737 [00:03<12:33,  3.62it/s]"
     ]
    },
    {
     "name": "stdout",
     "output_type": "stream",
     "text": [
      "../input/painting-vs-photograph-classification-dataset/Raw Data/photos/05463e49d5fede5a45e16c96ca5bb8fb1ef1904d.jpg\n"
     ]
    },
    {
     "name": "stderr",
     "output_type": "stream",
     "text": [
      "  0%|          | 11/2737 [00:03<12:16,  3.70it/s]"
     ]
    },
    {
     "name": "stdout",
     "output_type": "stream",
     "text": [
      "../input/painting-vs-photograph-classification-dataset/Raw Data/painting/41c158b8e292106637e6b396edc4e4f5eb810460.jpg\n"
     ]
    },
    {
     "name": "stderr",
     "output_type": "stream",
     "text": [
      "  0%|          | 12/2737 [00:03<15:18,  2.97it/s]"
     ]
    },
    {
     "name": "stdout",
     "output_type": "stream",
     "text": [
      "../input/painting-vs-photograph-classification-dataset/Raw Data/painting/65008fd23b218444ee2c5159dd67897e52f8707f.jpg\n"
     ]
    },
    {
     "name": "stderr",
     "output_type": "stream",
     "text": [
      "  0%|          | 13/2737 [00:04<19:00,  2.39it/s]"
     ]
    },
    {
     "name": "stdout",
     "output_type": "stream",
     "text": [
      "../input/painting-vs-photograph-classification-dataset/Raw Data/painting/1e5c2aa30844ccf2b71fd3b06e6ec046255579bd.jpg\n"
     ]
    },
    {
     "name": "stderr",
     "output_type": "stream",
     "text": [
      "  1%|          | 14/2737 [00:05<20:18,  2.24it/s]"
     ]
    },
    {
     "name": "stdout",
     "output_type": "stream",
     "text": [
      "../input/painting-vs-photograph-classification-dataset/Raw Data/photos/f542ac683bc7099b8675f22f76f105418bf8e34a.jpg\n"
     ]
    },
    {
     "name": "stderr",
     "output_type": "stream",
     "text": [
      "  1%|          | 15/2737 [00:05<17:29,  2.59it/s]"
     ]
    },
    {
     "name": "stdout",
     "output_type": "stream",
     "text": [
      "../input/painting-vs-photograph-classification-dataset/Raw Data/photos/f2f05a85693fa9465543790248a0a71314c6f39d.jpg\n"
     ]
    },
    {
     "name": "stderr",
     "output_type": "stream",
     "text": [
      "  1%|          | 16/2737 [00:05<15:11,  2.98it/s]"
     ]
    },
    {
     "name": "stdout",
     "output_type": "stream",
     "text": [
      "../input/painting-vs-photograph-classification-dataset/Raw Data/photos/272c62477590b9b08de266798004bb00c9c59351.jpg\n"
     ]
    },
    {
     "name": "stderr",
     "output_type": "stream",
     "text": [
      "  1%|          | 17/2737 [00:05<14:09,  3.20it/s]"
     ]
    },
    {
     "name": "stdout",
     "output_type": "stream",
     "text": [
      "../input/painting-vs-photograph-classification-dataset/Raw Data/photos/523ae50e4e15127933653fc1713be0cea73f01e9.jpg\n"
     ]
    },
    {
     "name": "stderr",
     "output_type": "stream",
     "text": [
      "  1%|          | 18/2737 [00:06<13:07,  3.45it/s]"
     ]
    },
    {
     "name": "stdout",
     "output_type": "stream",
     "text": [
      "../input/painting-vs-photograph-classification-dataset/Raw Data/photos/e73a0d48495179eb3c4c15083061ced9d9238f8f.jpg\n"
     ]
    },
    {
     "name": "stderr",
     "output_type": "stream",
     "text": [
      "  1%|          | 19/2737 [00:06<12:23,  3.66it/s]"
     ]
    },
    {
     "name": "stdout",
     "output_type": "stream",
     "text": [
      "../input/painting-vs-photograph-classification-dataset/Raw Data/painting/e5eb255eb9176512d8baf7c41d2fe2a6724850ee.jpg\n"
     ]
    },
    {
     "name": "stderr",
     "output_type": "stream",
     "text": [
      "  1%|          | 20/2737 [00:07<21:33,  2.10it/s]"
     ]
    },
    {
     "name": "stdout",
     "output_type": "stream",
     "text": [
      "../input/painting-vs-photograph-classification-dataset/Raw Data/photos/15216f6175b55d029d12a5fe75734c739fcbd585.jpg\n"
     ]
    },
    {
     "name": "stderr",
     "output_type": "stream",
     "text": [
      "  1%|          | 21/2737 [00:07<18:18,  2.47it/s]"
     ]
    },
    {
     "name": "stdout",
     "output_type": "stream",
     "text": [
      "../input/painting-vs-photograph-classification-dataset/Raw Data/photos/e3b84ddd5b8b8ddcd17c93add0f90684635072fc.jpg\n"
     ]
    },
    {
     "name": "stderr",
     "output_type": "stream",
     "text": [
      "  1%|          | 22/2737 [00:07<16:08,  2.80it/s]"
     ]
    },
    {
     "name": "stdout",
     "output_type": "stream",
     "text": [
      "../input/painting-vs-photograph-classification-dataset/Raw Data/photos/549b6f5ac7a05aa2ef2be6b359e7493c1a0afc4f.jpg\n"
     ]
    },
    {
     "name": "stderr",
     "output_type": "stream",
     "text": [
      "  1%|          | 23/2737 [00:07<14:35,  3.10it/s]"
     ]
    },
    {
     "name": "stdout",
     "output_type": "stream",
     "text": [
      "../input/painting-vs-photograph-classification-dataset/Raw Data/photos/159f3c8f450c29d23b569b566dfcf6c754de2a4a.jpg\n"
     ]
    },
    {
     "name": "stderr",
     "output_type": "stream",
     "text": [
      "  1%|          | 24/2737 [00:08<13:21,  3.39it/s]"
     ]
    },
    {
     "name": "stdout",
     "output_type": "stream",
     "text": [
      "../input/painting-vs-photograph-classification-dataset/Raw Data/photos/34565fda8bb0855dad30ce795ef7c37446cd0624.jpg\n"
     ]
    },
    {
     "name": "stderr",
     "output_type": "stream",
     "text": [
      "  1%|          | 25/2737 [00:08<12:32,  3.60it/s]"
     ]
    },
    {
     "name": "stdout",
     "output_type": "stream",
     "text": [
      "../input/painting-vs-photograph-classification-dataset/Raw Data/photos/68ff911d82db799cb4cf65591fb615cd3f246ce1.jpg\n"
     ]
    },
    {
     "name": "stderr",
     "output_type": "stream",
     "text": [
      "  1%|          | 26/2737 [00:08<11:32,  3.91it/s]"
     ]
    },
    {
     "name": "stdout",
     "output_type": "stream",
     "text": [
      "../input/painting-vs-photograph-classification-dataset/Raw Data/painting/99daae885138163adb48838fb8831819d9778090.jpg\n"
     ]
    },
    {
     "name": "stderr",
     "output_type": "stream",
     "text": [
      "  1%|          | 27/2737 [00:09<18:20,  2.46it/s]"
     ]
    },
    {
     "name": "stdout",
     "output_type": "stream",
     "text": [
      "../input/painting-vs-photograph-classification-dataset/Raw Data/painting/fad5f24faa30c19f0fdc7fea84e91c493f5c898d.jpg\n"
     ]
    },
    {
     "name": "stderr",
     "output_type": "stream",
     "text": [
      "  1%|          | 28/2737 [00:10<24:27,  1.85it/s]"
     ]
    },
    {
     "name": "stdout",
     "output_type": "stream",
     "text": [
      "../input/painting-vs-photograph-classification-dataset/Raw Data/photos/eaefff9d2df9262c810ea41ed952033e65a6d492.jpg\n"
     ]
    },
    {
     "name": "stderr",
     "output_type": "stream",
     "text": [
      "  1%|          | 29/2737 [00:10<20:22,  2.22it/s]"
     ]
    },
    {
     "name": "stdout",
     "output_type": "stream",
     "text": [
      "../input/painting-vs-photograph-classification-dataset/Raw Data/photos/989439fe19b762bbbb84d9f7210173fef64e9929.jpg\n"
     ]
    },
    {
     "name": "stderr",
     "output_type": "stream",
     "text": [
      "  1%|          | 30/2737 [00:10<17:24,  2.59it/s]"
     ]
    },
    {
     "name": "stdout",
     "output_type": "stream",
     "text": [
      "../input/painting-vs-photograph-classification-dataset/Raw Data/photos/e4af35ebb7017c8f6682ab5be0805f0e57a47100.jpg\n"
     ]
    },
    {
     "name": "stderr",
     "output_type": "stream",
     "text": [
      "  1%|          | 31/2737 [00:10<15:26,  2.92it/s]"
     ]
    },
    {
     "name": "stdout",
     "output_type": "stream",
     "text": [
      "../input/painting-vs-photograph-classification-dataset/Raw Data/photos/868636cf4fa3bfa851c0a9f7beee62a1fcd2198a.jpg\n"
     ]
    },
    {
     "name": "stderr",
     "output_type": "stream",
     "text": [
      "  1%|          | 33/2737 [00:11<12:53,  3.50it/s]"
     ]
    },
    {
     "name": "stdout",
     "output_type": "stream",
     "text": [
      "../input/painting-vs-photograph-classification-dataset/Raw Data/photos/e98458d83243677f4b66a68e7d786b6cdf57a195.jpg\n",
      "../input/painting-vs-photograph-classification-dataset/Raw Data/photos/f3b1b1f018598c3950feb0821cd5d1da338a775e.jpg\n"
     ]
    },
    {
     "name": "stderr",
     "output_type": "stream",
     "text": [
      "  1%|          | 34/2737 [00:11<12:12,  3.69it/s]"
     ]
    },
    {
     "name": "stdout",
     "output_type": "stream",
     "text": [
      "../input/painting-vs-photograph-classification-dataset/Raw Data/photos/bbe75e22941f3b30e93b036a96e7c229aaa195c4.jpg\n"
     ]
    },
    {
     "name": "stderr",
     "output_type": "stream",
     "text": [
      "  1%|▏         | 35/2737 [00:11<11:44,  3.84it/s]"
     ]
    },
    {
     "name": "stdout",
     "output_type": "stream",
     "text": [
      "../input/painting-vs-photograph-classification-dataset/Raw Data/photos/ed2624b8c003ab14fdc48f5ac5df995e8bc15b62.jpg\n"
     ]
    },
    {
     "name": "stderr",
     "output_type": "stream",
     "text": [
      "  1%|▏         | 36/2737 [00:12<13:05,  3.44it/s]"
     ]
    },
    {
     "name": "stdout",
     "output_type": "stream",
     "text": [
      "../input/painting-vs-photograph-classification-dataset/Raw Data/photos/625aa63bb201fdd45bbb47e7f2c8d94a72819325.jpg\n"
     ]
    },
    {
     "name": "stderr",
     "output_type": "stream",
     "text": [
      "  1%|▏         | 37/2737 [00:12<12:21,  3.64it/s]"
     ]
    },
    {
     "name": "stdout",
     "output_type": "stream",
     "text": [
      "../input/painting-vs-photograph-classification-dataset/Raw Data/photos/fbbec96508f674ec047a86b3378c449e31a6b40b.jpg\n"
     ]
    },
    {
     "name": "stderr",
     "output_type": "stream",
     "text": [
      "  1%|▏         | 38/2737 [00:12<11:45,  3.83it/s]"
     ]
    },
    {
     "name": "stdout",
     "output_type": "stream",
     "text": [
      "../input/painting-vs-photograph-classification-dataset/Raw Data/painting/f8665ff21a6eb136faafc4df43e82f32b8e0c39c.jpg\n"
     ]
    },
    {
     "name": "stderr",
     "output_type": "stream",
     "text": [
      "  1%|▏         | 39/2737 [00:13<16:21,  2.75it/s]"
     ]
    },
    {
     "name": "stdout",
     "output_type": "stream",
     "text": [
      "../input/painting-vs-photograph-classification-dataset/Raw Data/painting/64e06511b677f74a47bdf2056f5bf34e786f7271.jpg\n"
     ]
    },
    {
     "name": "stderr",
     "output_type": "stream",
     "text": [
      "  1%|▏         | 40/2737 [00:13<18:36,  2.41it/s]"
     ]
    },
    {
     "name": "stdout",
     "output_type": "stream",
     "text": [
      "../input/painting-vs-photograph-classification-dataset/Raw Data/photos/d1c7e6873a6232f4a6d3927de4ac331191f445fe.jpg\n"
     ]
    },
    {
     "name": "stderr",
     "output_type": "stream",
     "text": [
      "  1%|▏         | 41/2737 [00:14<16:04,  2.80it/s]"
     ]
    },
    {
     "name": "stdout",
     "output_type": "stream",
     "text": [
      "../input/painting-vs-photograph-classification-dataset/Raw Data/photos/adc4b9248f26e5844e717aef70fce22a267b8721.jpg\n"
     ]
    },
    {
     "name": "stderr",
     "output_type": "stream",
     "text": [
      "  2%|▏         | 42/2737 [00:14<14:06,  3.18it/s]"
     ]
    },
    {
     "name": "stdout",
     "output_type": "stream",
     "text": [
      "../input/painting-vs-photograph-classification-dataset/Raw Data/photos/a94f70250419d0b471979e470bc8b0eb0b6f6836.jpg\n"
     ]
    },
    {
     "name": "stderr",
     "output_type": "stream",
     "text": [
      "  2%|▏         | 43/2737 [00:14<13:04,  3.44it/s]"
     ]
    },
    {
     "name": "stdout",
     "output_type": "stream",
     "text": [
      "../input/painting-vs-photograph-classification-dataset/Raw Data/photos/c55615d549cfb39ba9737d0c96943d667c86c9e0.jpg\n"
     ]
    },
    {
     "name": "stderr",
     "output_type": "stream",
     "text": [
      "  2%|▏         | 44/2737 [00:14<12:34,  3.57it/s]"
     ]
    },
    {
     "name": "stdout",
     "output_type": "stream",
     "text": [
      "../input/painting-vs-photograph-classification-dataset/Raw Data/photos/344e193efc0ba10c0c7bc15cc4a35b0852fd491a.jpg\n"
     ]
    },
    {
     "name": "stderr",
     "output_type": "stream",
     "text": [
      "  2%|▏         | 45/2737 [00:15<12:03,  3.72it/s]"
     ]
    },
    {
     "name": "stdout",
     "output_type": "stream",
     "text": [
      "../input/painting-vs-photograph-classification-dataset/Raw Data/painting/11eb7ed3c1c90785f89157eca0396992d6cdc91c.jpg\n"
     ]
    },
    {
     "name": "stderr",
     "output_type": "stream",
     "text": [
      "  2%|▏         | 46/2737 [00:15<14:40,  3.06it/s]"
     ]
    },
    {
     "name": "stdout",
     "output_type": "stream",
     "text": [
      "../input/painting-vs-photograph-classification-dataset/Raw Data/painting/9eeea22a6b759b65b9c47dfd4a95b49bb84c8149.jpg\n"
     ]
    },
    {
     "name": "stderr",
     "output_type": "stream",
     "text": [
      "  2%|▏         | 47/2737 [00:16<21:50,  2.05it/s]"
     ]
    },
    {
     "name": "stdout",
     "output_type": "stream",
     "text": [
      "../input/painting-vs-photograph-classification-dataset/Raw Data/photos/dfbdf825cef650fb6096e1f66aa61ea61303e5a4.jpg\n"
     ]
    },
    {
     "name": "stderr",
     "output_type": "stream",
     "text": [
      "  2%|▏         | 48/2737 [00:16<18:31,  2.42it/s]"
     ]
    },
    {
     "name": "stdout",
     "output_type": "stream",
     "text": [
      "../input/painting-vs-photograph-classification-dataset/Raw Data/photos/81e079845caca467f0f15fd59550c66cc49f2361.jpg\n"
     ]
    },
    {
     "name": "stderr",
     "output_type": "stream",
     "text": [
      "  2%|▏         | 49/2737 [00:16<16:11,  2.77it/s]"
     ]
    },
    {
     "name": "stdout",
     "output_type": "stream",
     "text": [
      "../input/painting-vs-photograph-classification-dataset/Raw Data/photos/b220dae89f0f51997eaecf0eacb0108e79b55e41.jpg\n"
     ]
    },
    {
     "name": "stderr",
     "output_type": "stream",
     "text": [
      "  2%|▏         | 50/2737 [00:17<14:56,  3.00it/s]"
     ]
    },
    {
     "name": "stdout",
     "output_type": "stream",
     "text": [
      "../input/painting-vs-photograph-classification-dataset/Raw Data/painting/ca738de8f29f947630057a7936e72d3728e82a3c.jpg\n"
     ]
    },
    {
     "name": "stderr",
     "output_type": "stream",
     "text": [
      "  2%|▏         | 51/2737 [00:17<21:07,  2.12it/s]"
     ]
    },
    {
     "name": "stdout",
     "output_type": "stream",
     "text": [
      "../input/painting-vs-photograph-classification-dataset/Raw Data/photos/357bebb9ed5fb4d2abc1da78f085acbb86a4a67a.jpg\n"
     ]
    },
    {
     "name": "stderr",
     "output_type": "stream",
     "text": [
      "  2%|▏         | 52/2737 [00:18<17:57,  2.49it/s]"
     ]
    },
    {
     "name": "stdout",
     "output_type": "stream",
     "text": [
      "../input/painting-vs-photograph-classification-dataset/Raw Data/photos/c2ddf5d5cb6ca8e560312a0815b1e6dc87ac39cf.jpg\n"
     ]
    },
    {
     "name": "stderr",
     "output_type": "stream",
     "text": [
      "  2%|▏         | 53/2737 [00:18<16:08,  2.77it/s]"
     ]
    },
    {
     "name": "stdout",
     "output_type": "stream",
     "text": [
      "../input/painting-vs-photograph-classification-dataset/Raw Data/photos/f3d5513277f141fde6b6745bd239faf7db0b54eb.jpg\n"
     ]
    },
    {
     "name": "stderr",
     "output_type": "stream",
     "text": [
      "  2%|▏         | 54/2737 [00:18<14:29,  3.09it/s]"
     ]
    },
    {
     "name": "stdout",
     "output_type": "stream",
     "text": [
      "../input/painting-vs-photograph-classification-dataset/Raw Data/photos/a951992f6dd91c3c2c7643f12fabf776cd6d34e7.jpg\n"
     ]
    },
    {
     "name": "stderr",
     "output_type": "stream",
     "text": [
      "  2%|▏         | 55/2737 [00:18<13:17,  3.36it/s]"
     ]
    },
    {
     "name": "stdout",
     "output_type": "stream",
     "text": [
      "../input/painting-vs-photograph-classification-dataset/Raw Data/photos/122859345c738d87d94156109699555b7e52afec.jpg\n"
     ]
    },
    {
     "name": "stderr",
     "output_type": "stream",
     "text": [
      "  2%|▏         | 57/2737 [00:19<11:21,  3.94it/s]"
     ]
    },
    {
     "name": "stdout",
     "output_type": "stream",
     "text": [
      "../input/painting-vs-photograph-classification-dataset/Raw Data/photos/60113a033d7636231385ec93a26b70a0d0b78f71.jpg\n",
      "../input/painting-vs-photograph-classification-dataset/Raw Data/photos/749aa5e96e23902be4a8262bbf7d2362df8ef77a.jpg\n"
     ]
    },
    {
     "name": "stderr",
     "output_type": "stream",
     "text": [
      "  2%|▏         | 58/2737 [00:19<11:02,  4.04it/s]"
     ]
    },
    {
     "name": "stdout",
     "output_type": "stream",
     "text": [
      "../input/painting-vs-photograph-classification-dataset/Raw Data/painting/44b60c834dbf86e62a0406760212ee26f9486923.jpg\n"
     ]
    },
    {
     "name": "stderr",
     "output_type": "stream",
     "text": [
      "  2%|▏         | 59/2737 [00:20<17:23,  2.57it/s]"
     ]
    },
    {
     "name": "stdout",
     "output_type": "stream",
     "text": [
      "../input/painting-vs-photograph-classification-dataset/Raw Data/photos/ae61e6fdd5920331768c9e8c543038cf80320bb9.jpg\n"
     ]
    },
    {
     "name": "stderr",
     "output_type": "stream",
     "text": [
      "  2%|▏         | 60/2737 [00:20<15:26,  2.89it/s]"
     ]
    },
    {
     "name": "stdout",
     "output_type": "stream",
     "text": [
      "../input/painting-vs-photograph-classification-dataset/Raw Data/photos/c4f3838fa0465805276f9ec2064ba1271d100d2e.jpg\n"
     ]
    },
    {
     "name": "stderr",
     "output_type": "stream",
     "text": [
      "  2%|▏         | 61/2737 [00:20<13:31,  3.30it/s]"
     ]
    },
    {
     "name": "stdout",
     "output_type": "stream",
     "text": [
      "../input/painting-vs-photograph-classification-dataset/Raw Data/photos/bcd22112fe87925ec41323af8926a225c480b88b.jpg\n"
     ]
    },
    {
     "name": "stderr",
     "output_type": "stream",
     "text": [
      "  2%|▏         | 62/2737 [00:20<12:26,  3.58it/s]"
     ]
    },
    {
     "name": "stdout",
     "output_type": "stream",
     "text": [
      "../input/painting-vs-photograph-classification-dataset/Raw Data/photos/a9f24f56e941a11988785e1df2fa378e28c0ba26.jpg\n"
     ]
    },
    {
     "name": "stderr",
     "output_type": "stream",
     "text": [
      "  2%|▏         | 64/2737 [00:21<10:46,  4.13it/s]"
     ]
    },
    {
     "name": "stdout",
     "output_type": "stream",
     "text": [
      "../input/painting-vs-photograph-classification-dataset/Raw Data/photos/d90917de46f1a70a6c9076963a7259849c9888d4.jpg\n",
      "../input/painting-vs-photograph-classification-dataset/Raw Data/photos/e3f276a6a0ca18bcbc29b234fe7d78be5eea1406.jpg\n"
     ]
    },
    {
     "name": "stderr",
     "output_type": "stream",
     "text": [
      "  2%|▏         | 65/2737 [00:21<09:32,  4.67it/s]"
     ]
    },
    {
     "name": "stdout",
     "output_type": "stream",
     "text": [
      "../input/painting-vs-photograph-classification-dataset/Raw Data/photos/cb87da81ad90b6a413628170110bdd5f06374665.jpg\n"
     ]
    },
    {
     "name": "stderr",
     "output_type": "stream",
     "text": [
      "  2%|▏         | 66/2737 [00:21<09:46,  4.55it/s]"
     ]
    },
    {
     "name": "stdout",
     "output_type": "stream",
     "text": [
      "../input/painting-vs-photograph-classification-dataset/Raw Data/painting/2bd3ab6fae7ea56705d4718fd9b827fb34c8174b.jpg\n"
     ]
    },
    {
     "name": "stderr",
     "output_type": "stream",
     "text": [
      "  2%|▏         | 67/2737 [00:22<16:41,  2.67it/s]"
     ]
    },
    {
     "name": "stdout",
     "output_type": "stream",
     "text": [
      "../input/painting-vs-photograph-classification-dataset/Raw Data/photos/f87506dcf5b92dda941cb4a34d3032f85eff685e.jpg\n"
     ]
    },
    {
     "name": "stderr",
     "output_type": "stream",
     "text": [
      "  2%|▏         | 68/2737 [00:22<16:07,  2.76it/s]"
     ]
    },
    {
     "name": "stdout",
     "output_type": "stream",
     "text": [
      "../input/painting-vs-photograph-classification-dataset/Raw Data/photos/203c6fa1e64e063269da10965952414b9dd80501.jpg\n"
     ]
    },
    {
     "name": "stderr",
     "output_type": "stream",
     "text": [
      "  3%|▎         | 70/2737 [00:23<12:35,  3.53it/s]"
     ]
    },
    {
     "name": "stdout",
     "output_type": "stream",
     "text": [
      "../input/painting-vs-photograph-classification-dataset/Raw Data/photos/875ed87eebe697c4910158f274c376bf7a23602e.jpg\n",
      "../input/painting-vs-photograph-classification-dataset/Raw Data/painting/cd6d90c593281e4d4ecf043604935b92b973d4b4.jpg\n"
     ]
    },
    {
     "name": "stderr",
     "output_type": "stream",
     "text": [
      "  3%|▎         | 71/2737 [00:23<16:06,  2.76it/s]"
     ]
    },
    {
     "name": "stdout",
     "output_type": "stream",
     "text": [
      "../input/painting-vs-photograph-classification-dataset/Raw Data/photos/5714687c4dacca910e8d3da6be52d7744b550075.jpg\n"
     ]
    },
    {
     "name": "stderr",
     "output_type": "stream",
     "text": [
      "  3%|▎         | 72/2737 [00:24<14:28,  3.07it/s]"
     ]
    },
    {
     "name": "stdout",
     "output_type": "stream",
     "text": [
      "../input/painting-vs-photograph-classification-dataset/Raw Data/photos/308527e68b3f54d9e45d0e8815e53643ef29100e.jpg\n"
     ]
    },
    {
     "name": "stderr",
     "output_type": "stream",
     "text": [
      "  3%|▎         | 73/2737 [00:24<13:36,  3.26it/s]"
     ]
    },
    {
     "name": "stdout",
     "output_type": "stream",
     "text": [
      "../input/painting-vs-photograph-classification-dataset/Raw Data/painting/4e63807a6a32e130c1d65f751ff016d2a54a2b2c.jpg\n"
     ]
    },
    {
     "name": "stderr",
     "output_type": "stream",
     "text": [
      "  3%|▎         | 74/2737 [00:25<22:47,  1.95it/s]"
     ]
    },
    {
     "name": "stdout",
     "output_type": "stream",
     "text": [
      "../input/painting-vs-photograph-classification-dataset/Raw Data/photos/fef4699811749f5ba87a6085564d9af1c987ad75.jpg\n"
     ]
    },
    {
     "name": "stderr",
     "output_type": "stream",
     "text": [
      "  3%|▎         | 75/2737 [00:25<18:59,  2.34it/s]"
     ]
    },
    {
     "name": "stdout",
     "output_type": "stream",
     "text": [
      "../input/painting-vs-photograph-classification-dataset/Raw Data/photos/e64634f702a746210d6e11471b45dcf18430bcf5.jpg\n"
     ]
    },
    {
     "name": "stderr",
     "output_type": "stream",
     "text": [
      "  3%|▎         | 76/2737 [00:25<16:32,  2.68it/s]"
     ]
    },
    {
     "name": "stdout",
     "output_type": "stream",
     "text": [
      "../input/painting-vs-photograph-classification-dataset/Raw Data/photos/f0da0f89365dc5819d6584d973b49c0bfce9f44e.jpg\n"
     ]
    },
    {
     "name": "stderr",
     "output_type": "stream",
     "text": [
      "  3%|▎         | 77/2737 [00:25<14:40,  3.02it/s]"
     ]
    },
    {
     "name": "stdout",
     "output_type": "stream",
     "text": [
      "../input/painting-vs-photograph-classification-dataset/Raw Data/photos/dbaec191a453c031043860c0493f3130c0deedef.jpg\n"
     ]
    },
    {
     "name": "stderr",
     "output_type": "stream",
     "text": [
      "  3%|▎         | 78/2737 [00:26<13:05,  3.38it/s]"
     ]
    },
    {
     "name": "stdout",
     "output_type": "stream",
     "text": [
      "../input/painting-vs-photograph-classification-dataset/Raw Data/photos/ae9fe457985c987f8043b6fe20939c05c12df0ea.jpg\n"
     ]
    },
    {
     "name": "stderr",
     "output_type": "stream",
     "text": [
      "  3%|▎         | 79/2737 [00:26<11:52,  3.73it/s]"
     ]
    },
    {
     "name": "stdout",
     "output_type": "stream",
     "text": [
      "../input/painting-vs-photograph-classification-dataset/Raw Data/photos/f6385ff852a2091e50805b2065b2f23ab6d13009.jpg\n"
     ]
    },
    {
     "name": "stderr",
     "output_type": "stream",
     "text": [
      "  3%|▎         | 80/2737 [00:26<11:30,  3.85it/s]"
     ]
    },
    {
     "name": "stdout",
     "output_type": "stream",
     "text": [
      "../input/painting-vs-photograph-classification-dataset/Raw Data/painting/7dbc5d91b595842736e321e08cb0dc92f3739592.jpg\n"
     ]
    },
    {
     "name": "stderr",
     "output_type": "stream",
     "text": [
      "  3%|▎         | 81/2737 [00:27<20:49,  2.13it/s]"
     ]
    },
    {
     "name": "stdout",
     "output_type": "stream",
     "text": [
      "../input/painting-vs-photograph-classification-dataset/Raw Data/photos/e3f64ac7be5ab25dc98dfb9ed4f29aa52eb92d9c.jpg\n"
     ]
    },
    {
     "name": "stderr",
     "output_type": "stream",
     "text": [
      "  3%|▎         | 82/2737 [00:27<18:17,  2.42it/s]"
     ]
    },
    {
     "name": "stdout",
     "output_type": "stream",
     "text": [
      "../input/painting-vs-photograph-classification-dataset/Raw Data/photos/f6cdc09c8553eac95adadaccedee9f022e2323ec.jpg\n"
     ]
    },
    {
     "name": "stderr",
     "output_type": "stream",
     "text": [
      "  3%|▎         | 83/2737 [00:28<15:54,  2.78it/s]"
     ]
    },
    {
     "name": "stdout",
     "output_type": "stream",
     "text": [
      "../input/painting-vs-photograph-classification-dataset/Raw Data/photos/d1252bcad32b22ef76bb53ff6601877acc755db2.jpg\n"
     ]
    },
    {
     "name": "stderr",
     "output_type": "stream",
     "text": [
      "  3%|▎         | 84/2737 [00:28<14:26,  3.06it/s]"
     ]
    },
    {
     "name": "stdout",
     "output_type": "stream",
     "text": [
      "../input/painting-vs-photograph-classification-dataset/Raw Data/photos/f938fadfdf52883029b6f08b193a4984ce195cb6.jpg\n"
     ]
    },
    {
     "name": "stderr",
     "output_type": "stream",
     "text": [
      "  3%|▎         | 85/2737 [00:28<15:06,  2.92it/s]"
     ]
    },
    {
     "name": "stdout",
     "output_type": "stream",
     "text": [
      "../input/painting-vs-photograph-classification-dataset/Raw Data/photos/2bacd716f4ccb4df815b78a38e4d4098670ef431.jpg\n"
     ]
    },
    {
     "name": "stderr",
     "output_type": "stream",
     "text": [
      "  3%|▎         | 86/2737 [00:28<13:42,  3.22it/s]"
     ]
    },
    {
     "name": "stdout",
     "output_type": "stream",
     "text": [
      "../input/painting-vs-photograph-classification-dataset/Raw Data/painting/f429ab60d391bde592d1a816653a05b17758cbd9.jpg\n"
     ]
    },
    {
     "name": "stderr",
     "output_type": "stream",
     "text": [
      "  3%|▎         | 87/2737 [00:29<19:41,  2.24it/s]"
     ]
    },
    {
     "name": "stdout",
     "output_type": "stream",
     "text": [
      "../input/painting-vs-photograph-classification-dataset/Raw Data/painting/f3c3c0e1fecd904d744bd60b912c85420902d5c5.jpg\n"
     ]
    },
    {
     "name": "stderr",
     "output_type": "stream",
     "text": [
      "  3%|▎         | 88/2737 [00:30<28:15,  1.56it/s]"
     ]
    },
    {
     "name": "stdout",
     "output_type": "stream",
     "text": [
      "../input/painting-vs-photograph-classification-dataset/Raw Data/painting/ea0696521ebe2f0e5730fcb98b2b3dbf3072f442.jpg\n"
     ]
    },
    {
     "name": "stderr",
     "output_type": "stream",
     "text": [
      "  3%|▎         | 89/2737 [00:31<31:11,  1.42it/s]"
     ]
    },
    {
     "name": "stdout",
     "output_type": "stream",
     "text": [
      "../input/painting-vs-photograph-classification-dataset/Raw Data/photos/37860937edfba07afebf470b1c3fc80ae598a825.jpg\n"
     ]
    },
    {
     "name": "stderr",
     "output_type": "stream",
     "text": [
      "  3%|▎         | 90/2737 [00:31<25:11,  1.75it/s]"
     ]
    },
    {
     "name": "stdout",
     "output_type": "stream",
     "text": [
      "../input/painting-vs-photograph-classification-dataset/Raw Data/photos/c04e4efe158c9a5d055090e0d41fa464cbe1bbc4.jpg\n"
     ]
    },
    {
     "name": "stderr",
     "output_type": "stream",
     "text": [
      "  3%|▎         | 91/2737 [00:32<20:49,  2.12it/s]"
     ]
    },
    {
     "name": "stdout",
     "output_type": "stream",
     "text": [
      "../input/painting-vs-photograph-classification-dataset/Raw Data/photos/4a1509d20e7791a04d926d3e902a2d3d2c38667b.jpg\n"
     ]
    },
    {
     "name": "stderr",
     "output_type": "stream",
     "text": [
      "  3%|▎         | 92/2737 [00:32<17:50,  2.47it/s]"
     ]
    },
    {
     "name": "stdout",
     "output_type": "stream",
     "text": [
      "../input/painting-vs-photograph-classification-dataset/Raw Data/photos/72bc2edbe02f235e8c332143aaac392354d8be1a.jpg\n"
     ]
    },
    {
     "name": "stderr",
     "output_type": "stream",
     "text": [
      "  3%|▎         | 93/2737 [00:32<15:42,  2.81it/s]"
     ]
    },
    {
     "name": "stdout",
     "output_type": "stream",
     "text": [
      "../input/painting-vs-photograph-classification-dataset/Raw Data/photos/afe559e0cd18cd0b5d685e4b1cff987c600b25b1.jpg\n"
     ]
    },
    {
     "name": "stderr",
     "output_type": "stream",
     "text": [
      "  3%|▎         | 94/2737 [00:32<14:37,  3.01it/s]"
     ]
    },
    {
     "name": "stdout",
     "output_type": "stream",
     "text": [
      "../input/painting-vs-photograph-classification-dataset/Raw Data/photos/fffd5014dd6ca2bd30eeb0de31d70e89deebf537.jpg\n"
     ]
    },
    {
     "name": "stderr",
     "output_type": "stream",
     "text": [
      "  3%|▎         | 95/2737 [00:33<13:38,  3.23it/s]"
     ]
    },
    {
     "name": "stdout",
     "output_type": "stream",
     "text": [
      "../input/painting-vs-photograph-classification-dataset/Raw Data/photos/75cf1d64acbdef6db2d7cc0c7a372873f355a15d.jpg\n"
     ]
    },
    {
     "name": "stderr",
     "output_type": "stream",
     "text": [
      "  4%|▎         | 96/2737 [00:33<12:51,  3.42it/s]"
     ]
    },
    {
     "name": "stdout",
     "output_type": "stream",
     "text": [
      "../input/painting-vs-photograph-classification-dataset/Raw Data/photos/93fc09dbfaa43d3dbb8f5383e7c786640c1713d1.jpg\n"
     ]
    },
    {
     "name": "stderr",
     "output_type": "stream",
     "text": [
      "  4%|▎         | 97/2737 [00:33<13:22,  3.29it/s]"
     ]
    },
    {
     "name": "stdout",
     "output_type": "stream",
     "text": [
      "../input/painting-vs-photograph-classification-dataset/Raw Data/photos/65430536d2eddd57b57b08d7cf7544bb02112072.jpg\n"
     ]
    },
    {
     "name": "stderr",
     "output_type": "stream",
     "text": [
      "  4%|▎         | 98/2737 [00:34<12:36,  3.49it/s]"
     ]
    },
    {
     "name": "stdout",
     "output_type": "stream",
     "text": [
      "../input/painting-vs-photograph-classification-dataset/Raw Data/photos/fdf7e1f81b4b341b7f2196e99eb812cd2a94d778.jpg\n"
     ]
    },
    {
     "name": "stderr",
     "output_type": "stream",
     "text": [
      "  4%|▎         | 99/2737 [00:34<11:49,  3.72it/s]"
     ]
    },
    {
     "name": "stdout",
     "output_type": "stream",
     "text": [
      "../input/painting-vs-photograph-classification-dataset/Raw Data/photos/74d161458b4208216b4d0e75002f35366c05dec7.jpg\n"
     ]
    },
    {
     "name": "stderr",
     "output_type": "stream",
     "text": [
      "  4%|▎         | 100/2737 [00:34<11:18,  3.89it/s]"
     ]
    },
    {
     "name": "stdout",
     "output_type": "stream",
     "text": [
      "../input/painting-vs-photograph-classification-dataset/Raw Data/painting/b083ded9398fc48c4dd222dfa354f982e4111f6e.jpg\n"
     ]
    },
    {
     "name": "stderr",
     "output_type": "stream",
     "text": [
      "  4%|▎         | 101/2737 [00:35<17:44,  2.48it/s]"
     ]
    },
    {
     "name": "stdout",
     "output_type": "stream",
     "text": [
      "../input/painting-vs-photograph-classification-dataset/Raw Data/photos/584db580cadea5f85f138b290238b06d5f546a09.jpg\n"
     ]
    },
    {
     "name": "stderr",
     "output_type": "stream",
     "text": [
      "  4%|▍         | 103/2737 [00:35<12:57,  3.39it/s]"
     ]
    },
    {
     "name": "stdout",
     "output_type": "stream",
     "text": [
      "../input/painting-vs-photograph-classification-dataset/Raw Data/photos/ed83904934a03eb8bb429c708e1a531bb6ef1dd8.jpg\n",
      "../input/painting-vs-photograph-classification-dataset/Raw Data/photos/06819e8842abbacb164ca928f02e0bfb878fc826.jpg\n"
     ]
    },
    {
     "name": "stderr",
     "output_type": "stream",
     "text": [
      "  4%|▍         | 104/2737 [00:35<12:41,  3.46it/s]"
     ]
    },
    {
     "name": "stdout",
     "output_type": "stream",
     "text": [
      "../input/painting-vs-photograph-classification-dataset/Raw Data/photos/e5be666d7fd7b89c3a783e1dd176ad5ccf66e73d.jpg\n"
     ]
    },
    {
     "name": "stderr",
     "output_type": "stream",
     "text": [
      "  4%|▍         | 105/2737 [00:36<13:00,  3.37it/s]"
     ]
    },
    {
     "name": "stdout",
     "output_type": "stream",
     "text": [
      "../input/painting-vs-photograph-classification-dataset/Raw Data/photos/d69d4839099c070083f11a644d577349a0193afc.jpg\n"
     ]
    },
    {
     "name": "stderr",
     "output_type": "stream",
     "text": [
      "  4%|▍         | 106/2737 [00:36<12:18,  3.56it/s]"
     ]
    },
    {
     "name": "stdout",
     "output_type": "stream",
     "text": [
      "../input/painting-vs-photograph-classification-dataset/Raw Data/painting/41e0e0784252f8ace387d59a37808c267cb86e6f.jpg\n"
     ]
    },
    {
     "name": "stderr",
     "output_type": "stream",
     "text": [
      "  4%|▍         | 108/2737 [00:37<16:05,  2.72it/s]"
     ]
    },
    {
     "name": "stdout",
     "output_type": "stream",
     "text": [
      "../input/painting-vs-photograph-classification-dataset/Raw Data/photos/34f795fa7087b9d233fd26705a14a386644dcee7.jpg\n",
      "../input/painting-vs-photograph-classification-dataset/Raw Data/photos/b262c2162a3f4b1894cb05a6ab2eacf088a1ee3f.jpg\n"
     ]
    },
    {
     "name": "stderr",
     "output_type": "stream",
     "text": [
      "  4%|▍         | 109/2737 [00:37<14:26,  3.03it/s]"
     ]
    },
    {
     "name": "stdout",
     "output_type": "stream",
     "text": [
      "../input/painting-vs-photograph-classification-dataset/Raw Data/photos/39608ece3dffb9a3abfa922850115ab6b4b2e8a6.jpg\n"
     ]
    },
    {
     "name": "stderr",
     "output_type": "stream",
     "text": [
      "  4%|▍         | 110/2737 [00:37<13:31,  3.24it/s]"
     ]
    },
    {
     "name": "stdout",
     "output_type": "stream",
     "text": [
      "../input/painting-vs-photograph-classification-dataset/Raw Data/painting/35a224a43772f6d73c7218f951e61b26ebb163d5.jpg\n"
     ]
    },
    {
     "name": "stderr",
     "output_type": "stream",
     "text": [
      "  4%|▍         | 111/2737 [00:38<15:52,  2.76it/s]"
     ]
    },
    {
     "name": "stdout",
     "output_type": "stream",
     "text": [
      "../input/painting-vs-photograph-classification-dataset/Raw Data/photos/fdaf1fda066498fb089da33eeb37ad58271ba24b.jpg\n"
     ]
    },
    {
     "name": "stderr",
     "output_type": "stream",
     "text": [
      "  4%|▍         | 112/2737 [00:38<14:19,  3.06it/s]"
     ]
    },
    {
     "name": "stdout",
     "output_type": "stream",
     "text": [
      "../input/painting-vs-photograph-classification-dataset/Raw Data/painting/f44197a9d76f0860d86d2749765e012dafae81ff.jpg\n"
     ]
    },
    {
     "name": "stderr",
     "output_type": "stream",
     "text": [
      "  4%|▍         | 114/2737 [00:39<18:57,  2.31it/s]"
     ]
    },
    {
     "name": "stdout",
     "output_type": "stream",
     "text": [
      "../input/painting-vs-photograph-classification-dataset/Raw Data/photos/f4ecdd733ad7168b5fb5e28ce64ad7f86d0e0650.jpg\n",
      "../input/painting-vs-photograph-classification-dataset/Raw Data/painting/406259cddec74678c96d4f4473fdb806b7a17754.jpg\n"
     ]
    },
    {
     "name": "stderr",
     "output_type": "stream",
     "text": [
      "  4%|▍         | 115/2737 [00:40<24:01,  1.82it/s]"
     ]
    },
    {
     "name": "stdout",
     "output_type": "stream",
     "text": [
      "../input/painting-vs-photograph-classification-dataset/Raw Data/painting/e7789efd8e49b7a66227eca46e72050bd55b4896.jpg\n"
     ]
    },
    {
     "name": "stderr",
     "output_type": "stream",
     "text": [
      "  4%|▍         | 116/2737 [00:41<25:47,  1.69it/s]"
     ]
    },
    {
     "name": "stdout",
     "output_type": "stream",
     "text": [
      "../input/painting-vs-photograph-classification-dataset/Raw Data/photos/48af188cd200217aa9dd25226142e3baccde690e.jpg\n"
     ]
    },
    {
     "name": "stderr",
     "output_type": "stream",
     "text": [
      "  4%|▍         | 117/2737 [00:41<20:58,  2.08it/s]"
     ]
    },
    {
     "name": "stdout",
     "output_type": "stream",
     "text": [
      "../input/painting-vs-photograph-classification-dataset/Raw Data/photos/d9547802311265ef9df710eaab91373e73e48fa3.jpg\n"
     ]
    },
    {
     "name": "stderr",
     "output_type": "stream",
     "text": [
      "  4%|▍         | 118/2737 [00:41<17:37,  2.48it/s]"
     ]
    },
    {
     "name": "stdout",
     "output_type": "stream",
     "text": [
      "../input/painting-vs-photograph-classification-dataset/Raw Data/painting/d077d583040915d89dce925dfa5c27d1a67ea0b8.jpg\n"
     ]
    },
    {
     "name": "stderr",
     "output_type": "stream",
     "text": [
      "  4%|▍         | 119/2737 [00:42<22:20,  1.95it/s]"
     ]
    },
    {
     "name": "stdout",
     "output_type": "stream",
     "text": [
      "../input/painting-vs-photograph-classification-dataset/Raw Data/photos/f662649498439f79475f2e5515a0e56610ba6db7.jpg\n"
     ]
    },
    {
     "name": "stderr",
     "output_type": "stream",
     "text": [
      "  4%|▍         | 120/2737 [00:42<18:47,  2.32it/s]"
     ]
    },
    {
     "name": "stdout",
     "output_type": "stream",
     "text": [
      "../input/painting-vs-photograph-classification-dataset/Raw Data/photos/b262c3426247b1e2761ef19036dd90018e08f46c.jpg\n"
     ]
    },
    {
     "name": "stderr",
     "output_type": "stream",
     "text": [
      "  4%|▍         | 121/2737 [00:43<15:59,  2.73it/s]"
     ]
    },
    {
     "name": "stdout",
     "output_type": "stream",
     "text": [
      "../input/painting-vs-photograph-classification-dataset/Raw Data/photos/73c107ed8120564feb5997dfea9299e8e3596c30.jpg\n"
     ]
    },
    {
     "name": "stderr",
     "output_type": "stream",
     "text": [
      "  4%|▍         | 122/2737 [00:43<14:03,  3.10it/s]"
     ]
    },
    {
     "name": "stdout",
     "output_type": "stream",
     "text": [
      "../input/painting-vs-photograph-classification-dataset/Raw Data/photos/135a129b001530ff2dda9e4093e653e856cdf3a9.jpg\n"
     ]
    },
    {
     "name": "stderr",
     "output_type": "stream",
     "text": [
      "  4%|▍         | 123/2737 [00:43<13:01,  3.34it/s]"
     ]
    },
    {
     "name": "stdout",
     "output_type": "stream",
     "text": [
      "../input/painting-vs-photograph-classification-dataset/Raw Data/photos/b8a6f319a59bc363e75a61c416627f039e769fd7.jpg\n"
     ]
    },
    {
     "name": "stderr",
     "output_type": "stream",
     "text": [
      "  5%|▍         | 124/2737 [00:43<11:59,  3.63it/s]"
     ]
    },
    {
     "name": "stdout",
     "output_type": "stream",
     "text": [
      "../input/painting-vs-photograph-classification-dataset/Raw Data/painting/4bbfb1711851362ffeffb83d84eec7ff2a178fa4.jpg\n"
     ]
    },
    {
     "name": "stderr",
     "output_type": "stream",
     "text": [
      "  5%|▍         | 125/2737 [00:44<15:24,  2.83it/s]"
     ]
    },
    {
     "name": "stdout",
     "output_type": "stream",
     "text": [
      "../input/painting-vs-photograph-classification-dataset/Raw Data/photos/d7b4562a3dc8efe9ea50caaedbce80b2c0b9f269.jpg\n"
     ]
    },
    {
     "name": "stderr",
     "output_type": "stream",
     "text": [
      "  5%|▍         | 126/2737 [00:44<14:20,  3.03it/s]"
     ]
    },
    {
     "name": "stdout",
     "output_type": "stream",
     "text": [
      "../input/painting-vs-photograph-classification-dataset/Raw Data/photos/ba03e9fa1efd6438e223eb00cd2d7502eda6b891.jpg\n"
     ]
    },
    {
     "name": "stderr",
     "output_type": "stream",
     "text": [
      "  5%|▍         | 127/2737 [00:44<13:19,  3.27it/s]"
     ]
    },
    {
     "name": "stdout",
     "output_type": "stream",
     "text": [
      "../input/painting-vs-photograph-classification-dataset/Raw Data/painting/4e74ca94bad325757d8ffec47860f92cc9f9cd8f.jpg\n"
     ]
    },
    {
     "name": "stderr",
     "output_type": "stream",
     "text": [
      "  5%|▍         | 128/2737 [00:45<15:50,  2.75it/s]"
     ]
    },
    {
     "name": "stdout",
     "output_type": "stream",
     "text": [
      "../input/painting-vs-photograph-classification-dataset/Raw Data/photos/d53c3fd4c9d5e0b4c0619642eb6aa076ee8f39cc.jpg\n"
     ]
    },
    {
     "name": "stderr",
     "output_type": "stream",
     "text": [
      "  5%|▍         | 129/2737 [00:45<14:15,  3.05it/s]"
     ]
    },
    {
     "name": "stdout",
     "output_type": "stream",
     "text": [
      "../input/painting-vs-photograph-classification-dataset/Raw Data/photos/ec0d6030c440b8ef12f669724c92d1ad95266aa4.jpg\n"
     ]
    },
    {
     "name": "stderr",
     "output_type": "stream",
     "text": [
      "  5%|▍         | 131/2737 [00:46<11:26,  3.79it/s]"
     ]
    },
    {
     "name": "stdout",
     "output_type": "stream",
     "text": [
      "../input/painting-vs-photograph-classification-dataset/Raw Data/photos/c04fa1d3c844c3679654a1d87ba9ca2de42c5c3b.jpg\n",
      "../input/painting-vs-photograph-classification-dataset/Raw Data/painting/f068add6650411969e32214b019dea00d49d971d.jpg\n"
     ]
    },
    {
     "name": "stderr",
     "output_type": "stream",
     "text": [
      "  5%|▍         | 132/2737 [00:46<17:12,  2.52it/s]"
     ]
    },
    {
     "name": "stdout",
     "output_type": "stream",
     "text": [
      "../input/painting-vs-photograph-classification-dataset/Raw Data/painting/9acd78e10f57a1208de03b80750441c72b49465e.jpg\n"
     ]
    },
    {
     "name": "stderr",
     "output_type": "stream",
     "text": [
      "  5%|▍         | 133/2737 [00:47<22:13,  1.95it/s]"
     ]
    },
    {
     "name": "stdout",
     "output_type": "stream",
     "text": [
      "../input/painting-vs-photograph-classification-dataset/Raw Data/photos/004e914c306fd28129c3ede8ec95ef40461114ee.jpg\n"
     ]
    },
    {
     "name": "stderr",
     "output_type": "stream",
     "text": [
      "  5%|▍         | 134/2737 [00:47<18:38,  2.33it/s]"
     ]
    },
    {
     "name": "stdout",
     "output_type": "stream",
     "text": [
      "../input/painting-vs-photograph-classification-dataset/Raw Data/photos/70912ccf9010bbc47333ed6e4472eaa1f678be9c.jpg\n"
     ]
    },
    {
     "name": "stderr",
     "output_type": "stream",
     "text": [
      "  5%|▍         | 135/2737 [00:48<16:16,  2.67it/s]"
     ]
    },
    {
     "name": "stdout",
     "output_type": "stream",
     "text": [
      "../input/painting-vs-photograph-classification-dataset/Raw Data/photos/e6b8f9e4090e0ced06fc8b6c43c04bff1ee1256c.jpg\n"
     ]
    },
    {
     "name": "stderr",
     "output_type": "stream",
     "text": [
      "  5%|▍         | 136/2737 [00:48<14:27,  3.00it/s]"
     ]
    },
    {
     "name": "stdout",
     "output_type": "stream",
     "text": [
      "../input/painting-vs-photograph-classification-dataset/Raw Data/photos/6c58f8892d4775a54de4f0f07e01c5599280ef5d.jpg\n"
     ]
    },
    {
     "name": "stderr",
     "output_type": "stream",
     "text": [
      "  5%|▌         | 137/2737 [00:48<13:10,  3.29it/s]"
     ]
    },
    {
     "name": "stdout",
     "output_type": "stream",
     "text": [
      "../input/painting-vs-photograph-classification-dataset/Raw Data/painting/ec4769be359812c312d3674cb302df2ea3c6632b.jpg\n"
     ]
    },
    {
     "name": "stderr",
     "output_type": "stream",
     "text": [
      "  5%|▌         | 138/2737 [00:49<21:44,  1.99it/s]"
     ]
    },
    {
     "name": "stdout",
     "output_type": "stream",
     "text": [
      "../input/painting-vs-photograph-classification-dataset/Raw Data/photos/e3cfd7caf35e9491b6ed0153be440bbd1535d494.jpg\n"
     ]
    },
    {
     "name": "stderr",
     "output_type": "stream",
     "text": [
      "  5%|▌         | 139/2737 [00:49<19:48,  2.19it/s]"
     ]
    },
    {
     "name": "stdout",
     "output_type": "stream",
     "text": [
      "../input/painting-vs-photograph-classification-dataset/Raw Data/painting/13b5ad13755768527e06ce93f4155dcf7a2f0054.jpg\n"
     ]
    },
    {
     "name": "stderr",
     "output_type": "stream",
     "text": [
      "  5%|▌         | 140/2737 [00:50<28:15,  1.53it/s]"
     ]
    },
    {
     "name": "stdout",
     "output_type": "stream",
     "text": [
      "../input/painting-vs-photograph-classification-dataset/Raw Data/painting/9643ee0c441c010d6a91b77210cdd13bb1cd3e5c.jpg\n"
     ]
    },
    {
     "name": "stderr",
     "output_type": "stream",
     "text": [
      "  5%|▌         | 141/2737 [00:51<30:10,  1.43it/s]"
     ]
    },
    {
     "name": "stdout",
     "output_type": "stream",
     "text": [
      "../input/painting-vs-photograph-classification-dataset/Raw Data/photos/7e79321c80ea6e962275c74d2640613676037a31.jpg\n"
     ]
    },
    {
     "name": "stderr",
     "output_type": "stream",
     "text": [
      "  5%|▌         | 142/2737 [00:51<24:25,  1.77it/s]"
     ]
    },
    {
     "name": "stdout",
     "output_type": "stream",
     "text": [
      "../input/painting-vs-photograph-classification-dataset/Raw Data/photos/e45be61f572671f0e6b444bff4825a820fbdaa4e.jpg\n"
     ]
    },
    {
     "name": "stderr",
     "output_type": "stream",
     "text": [
      "  5%|▌         | 143/2737 [00:52<20:24,  2.12it/s]"
     ]
    },
    {
     "name": "stdout",
     "output_type": "stream",
     "text": [
      "../input/painting-vs-photograph-classification-dataset/Raw Data/photos/7ad3d5a3c5c80851b3daf08700f289799de29f8a.jpg\n"
     ]
    },
    {
     "name": "stderr",
     "output_type": "stream",
     "text": [
      "  5%|▌         | 144/2737 [00:52<17:23,  2.48it/s]"
     ]
    },
    {
     "name": "stdout",
     "output_type": "stream",
     "text": [
      "../input/painting-vs-photograph-classification-dataset/Raw Data/photos/497c2125fb2b46f0cf63d7d06789483a122156f5.jpg\n"
     ]
    },
    {
     "name": "stderr",
     "output_type": "stream",
     "text": [
      "  5%|▌         | 145/2737 [00:52<15:09,  2.85it/s]"
     ]
    },
    {
     "name": "stdout",
     "output_type": "stream",
     "text": [
      "../input/painting-vs-photograph-classification-dataset/Raw Data/painting/6d90d7c0d948ac3c53b5f78c6026faf7972ebceb.jpg\n"
     ]
    },
    {
     "name": "stderr",
     "output_type": "stream",
     "text": [
      "  5%|▌         | 146/2737 [00:53<20:28,  2.11it/s]"
     ]
    },
    {
     "name": "stdout",
     "output_type": "stream",
     "text": [
      "../input/painting-vs-photograph-classification-dataset/Raw Data/photos/0663a2598e3bac21d4324cc3fa2d15633ebca90c.jpg\n"
     ]
    },
    {
     "name": "stderr",
     "output_type": "stream",
     "text": [
      "  5%|▌         | 147/2737 [00:53<17:15,  2.50it/s]"
     ]
    },
    {
     "name": "stdout",
     "output_type": "stream",
     "text": [
      "../input/painting-vs-photograph-classification-dataset/Raw Data/photos/828bfd1e61a67a3d821de3b99c8b43da82fb754d.jpg\n"
     ]
    },
    {
     "name": "stderr",
     "output_type": "stream",
     "text": [
      "  5%|▌         | 148/2737 [00:53<15:16,  2.82it/s]"
     ]
    },
    {
     "name": "stdout",
     "output_type": "stream",
     "text": [
      "../input/painting-vs-photograph-classification-dataset/Raw Data/photos/101fa7a87d3d9191fe6a897a2041fa5a41a33f3e.jpg\n"
     ]
    },
    {
     "name": "stderr",
     "output_type": "stream",
     "text": [
      "  5%|▌         | 149/2737 [00:54<13:57,  3.09it/s]"
     ]
    },
    {
     "name": "stdout",
     "output_type": "stream",
     "text": [
      "../input/painting-vs-photograph-classification-dataset/Raw Data/photos/5b2838eee1369253620e78fc256b5ccdf1a1ca00.jpg\n"
     ]
    },
    {
     "name": "stderr",
     "output_type": "stream",
     "text": [
      "  5%|▌         | 150/2737 [00:54<13:03,  3.30it/s]"
     ]
    },
    {
     "name": "stdout",
     "output_type": "stream",
     "text": [
      "../input/painting-vs-photograph-classification-dataset/Raw Data/photos/491f3d8609f8f64222c7eaec95e10dab9a4fd928.jpg\n"
     ]
    },
    {
     "name": "stderr",
     "output_type": "stream",
     "text": [
      "  6%|▌         | 151/2737 [00:54<11:49,  3.65it/s]"
     ]
    },
    {
     "name": "stdout",
     "output_type": "stream",
     "text": [
      "../input/painting-vs-photograph-classification-dataset/Raw Data/photos/db39a2d8586c36a68219d4b1333be3140406c78b.jpg\n"
     ]
    },
    {
     "name": "stderr",
     "output_type": "stream",
     "text": [
      "  6%|▌         | 152/2737 [00:54<11:21,  3.79it/s]"
     ]
    },
    {
     "name": "stdout",
     "output_type": "stream",
     "text": [
      "../input/painting-vs-photograph-classification-dataset/Raw Data/photos/7fada8da6fdf9675143c6948ac2252bb37e89ba1.jpg\n"
     ]
    },
    {
     "name": "stderr",
     "output_type": "stream",
     "text": [
      "  6%|▌         | 153/2737 [00:55<11:14,  3.83it/s]"
     ]
    },
    {
     "name": "stdout",
     "output_type": "stream",
     "text": [
      "../input/painting-vs-photograph-classification-dataset/Raw Data/painting/beb4056c01ab0d9fa8169a78e09462913204f213.jpg\n"
     ]
    },
    {
     "name": "stderr",
     "output_type": "stream",
     "text": [
      "  6%|▌         | 154/2737 [00:55<17:41,  2.43it/s]"
     ]
    },
    {
     "name": "stdout",
     "output_type": "stream",
     "text": [
      "../input/painting-vs-photograph-classification-dataset/Raw Data/painting/851b8c1b80b134817e6bc8b284836e09d067cd25.jpg\n"
     ]
    },
    {
     "name": "stderr",
     "output_type": "stream",
     "text": [
      "  6%|▌         | 155/2737 [00:56<19:08,  2.25it/s]"
     ]
    },
    {
     "name": "stdout",
     "output_type": "stream",
     "text": [
      "../input/painting-vs-photograph-classification-dataset/Raw Data/painting/08d0ba13309ed73be016bcd6e90e3f68aff2373b.jpg\n"
     ]
    },
    {
     "name": "stderr",
     "output_type": "stream",
     "text": [
      "  6%|▌         | 156/2737 [00:57<26:29,  1.62it/s]"
     ]
    },
    {
     "name": "stdout",
     "output_type": "stream",
     "text": [
      "../input/painting-vs-photograph-classification-dataset/Raw Data/photos/ac3c0929b6e2e0a2961056f52964bc91b80136f9.jpg\n"
     ]
    },
    {
     "name": "stderr",
     "output_type": "stream",
     "text": [
      "  6%|▌         | 157/2737 [00:57<21:56,  1.96it/s]"
     ]
    },
    {
     "name": "stdout",
     "output_type": "stream",
     "text": [
      "../input/painting-vs-photograph-classification-dataset/Raw Data/photos/58b0bf265aaf2dee95827e7f3380e6287957d91e.jpg\n"
     ]
    },
    {
     "name": "stderr",
     "output_type": "stream",
     "text": [
      "  6%|▌         | 158/2737 [00:57<18:17,  2.35it/s]"
     ]
    },
    {
     "name": "stdout",
     "output_type": "stream",
     "text": [
      "../input/painting-vs-photograph-classification-dataset/Raw Data/photos/e962cf6533ed71ce095de80af05ef5b1d308fabf.jpg\n"
     ]
    },
    {
     "name": "stderr",
     "output_type": "stream",
     "text": [
      "  6%|▌         | 159/2737 [00:58<15:48,  2.72it/s]"
     ]
    },
    {
     "name": "stdout",
     "output_type": "stream",
     "text": [
      "../input/painting-vs-photograph-classification-dataset/Raw Data/photos/bd37d97f9a66d473cc210de7bc828222e3fbde44.jpg\n"
     ]
    },
    {
     "name": "stderr",
     "output_type": "stream",
     "text": [
      "  6%|▌         | 160/2737 [00:58<14:15,  3.01it/s]"
     ]
    },
    {
     "name": "stdout",
     "output_type": "stream",
     "text": [
      "../input/painting-vs-photograph-classification-dataset/Raw Data/painting/e78424a15f70d3c51e417abe8abbd08e3ad39e1b.jpg\n"
     ]
    },
    {
     "name": "stderr",
     "output_type": "stream",
     "text": [
      "  6%|▌         | 161/2737 [00:59<23:17,  1.84it/s]"
     ]
    },
    {
     "name": "stdout",
     "output_type": "stream",
     "text": [
      "../input/painting-vs-photograph-classification-dataset/Raw Data/photos/fca1d752a6fc55f6fafa74cc2297b95f4f353752.jpg\n"
     ]
    },
    {
     "name": "stderr",
     "output_type": "stream",
     "text": [
      "  6%|▌         | 162/2737 [00:59<19:23,  2.21it/s]"
     ]
    },
    {
     "name": "stdout",
     "output_type": "stream",
     "text": [
      "../input/painting-vs-photograph-classification-dataset/Raw Data/painting/e0813fdbf5b512944ebc0b441987ce03f13a5ad6.jpg\n"
     ]
    },
    {
     "name": "stderr",
     "output_type": "stream",
     "text": [
      "  6%|▌         | 163/2737 [01:00<22:12,  1.93it/s]"
     ]
    },
    {
     "name": "stdout",
     "output_type": "stream",
     "text": [
      "../input/painting-vs-photograph-classification-dataset/Raw Data/photos/d0246665d463199ddd8a9a339249be29555171e6.jpg\n"
     ]
    },
    {
     "name": "stderr",
     "output_type": "stream",
     "text": [
      "  6%|▌         | 164/2737 [01:00<18:28,  2.32it/s]"
     ]
    },
    {
     "name": "stdout",
     "output_type": "stream",
     "text": [
      "../input/painting-vs-photograph-classification-dataset/Raw Data/painting/ea44a698be5012e11a69b28dad54f0be5e150708.jpg\n"
     ]
    },
    {
     "name": "stderr",
     "output_type": "stream",
     "text": [
      "  6%|▌         | 165/2737 [01:01<19:29,  2.20it/s]"
     ]
    },
    {
     "name": "stdout",
     "output_type": "stream",
     "text": [
      "../input/painting-vs-photograph-classification-dataset/Raw Data/painting/44d5254d4fa68f4c388ce5e02694d1f0604d363f.jpg\n"
     ]
    },
    {
     "name": "stderr",
     "output_type": "stream",
     "text": [
      "  6%|▌         | 167/2737 [01:02<19:10,  2.23it/s]"
     ]
    },
    {
     "name": "stdout",
     "output_type": "stream",
     "text": [
      "../input/painting-vs-photograph-classification-dataset/Raw Data/photos/928b1866f77c3de30ee1e153bf74fe3da6891219.jpg\n",
      "../input/painting-vs-photograph-classification-dataset/Raw Data/photos/f3dbfa01d129dce84d43fbe74d67416f374dcddf.jpg\n"
     ]
    },
    {
     "name": "stderr",
     "output_type": "stream",
     "text": [
      "  6%|▌         | 168/2737 [01:02<16:16,  2.63it/s]"
     ]
    },
    {
     "name": "stdout",
     "output_type": "stream",
     "text": [
      "../input/painting-vs-photograph-classification-dataset/Raw Data/painting/f42e6d34f5b0abe57175ddb33c178fbd01c91fd5.jpg\n"
     ]
    },
    {
     "name": "stderr",
     "output_type": "stream",
     "text": [
      "  6%|▌         | 169/2737 [01:02<20:08,  2.12it/s]"
     ]
    },
    {
     "name": "stdout",
     "output_type": "stream",
     "text": [
      "../input/painting-vs-photograph-classification-dataset/Raw Data/photos/a78ccb961a5f5ce0d91fc0a4fd3da616a79d6060.jpg\n"
     ]
    },
    {
     "name": "stderr",
     "output_type": "stream",
     "text": [
      "  6%|▌         | 171/2737 [01:03<14:05,  3.04it/s]"
     ]
    },
    {
     "name": "stdout",
     "output_type": "stream",
     "text": [
      "../input/painting-vs-photograph-classification-dataset/Raw Data/photos/d781935422e4ac04ad2d81197c2596613cd5e2d8.jpg\n",
      "../input/painting-vs-photograph-classification-dataset/Raw Data/painting/485b3e03cade297af4a86688921fa8f89de90a4d.jpg\n"
     ]
    },
    {
     "name": "stderr",
     "output_type": "stream",
     "text": [
      "  6%|▋         | 172/2737 [01:03<17:43,  2.41it/s]"
     ]
    },
    {
     "name": "stdout",
     "output_type": "stream",
     "text": [
      "../input/painting-vs-photograph-classification-dataset/Raw Data/photos/759ed22a0a00efb5ce869adfca70ea6858dbab50.jpg\n"
     ]
    },
    {
     "name": "stderr",
     "output_type": "stream",
     "text": [
      "  6%|▋         | 173/2737 [01:04<15:15,  2.80it/s]"
     ]
    },
    {
     "name": "stdout",
     "output_type": "stream",
     "text": [
      "../input/painting-vs-photograph-classification-dataset/Raw Data/photos/45f78a4a804dcef6d24d2e0e6861a7c016e97114.jpg\n"
     ]
    },
    {
     "name": "stderr",
     "output_type": "stream",
     "text": [
      "  6%|▋         | 174/2737 [01:04<13:42,  3.12it/s]"
     ]
    },
    {
     "name": "stdout",
     "output_type": "stream",
     "text": [
      "../input/painting-vs-photograph-classification-dataset/Raw Data/photos/92953acee66fab8e91231a3165b3f5a66ac047b4.jpg\n"
     ]
    },
    {
     "name": "stderr",
     "output_type": "stream",
     "text": [
      "  6%|▋         | 175/2737 [01:04<12:12,  3.50it/s]"
     ]
    },
    {
     "name": "stdout",
     "output_type": "stream",
     "text": [
      "../input/painting-vs-photograph-classification-dataset/Raw Data/photos/2954da8b8ca17cf29e95923573f28737ad087ff2.jpg\n"
     ]
    },
    {
     "name": "stderr",
     "output_type": "stream",
     "text": [
      "  6%|▋         | 176/2737 [01:04<11:38,  3.66it/s]"
     ]
    },
    {
     "name": "stdout",
     "output_type": "stream",
     "text": [
      "../input/painting-vs-photograph-classification-dataset/Raw Data/photos/f6a78abe81c3c28e119992065a1a675e5124cae6.jpg\n"
     ]
    },
    {
     "name": "stderr",
     "output_type": "stream",
     "text": [
      "  6%|▋         | 177/2737 [01:05<11:09,  3.82it/s]"
     ]
    },
    {
     "name": "stdout",
     "output_type": "stream",
     "text": [
      "../input/painting-vs-photograph-classification-dataset/Raw Data/photos/6403013296f7690752fbe0d5129aae4828506bf8.jpg\n"
     ]
    },
    {
     "name": "stderr",
     "output_type": "stream",
     "text": [
      "  7%|▋         | 178/2737 [01:05<10:52,  3.92it/s]"
     ]
    },
    {
     "name": "stdout",
     "output_type": "stream",
     "text": [
      "../input/painting-vs-photograph-classification-dataset/Raw Data/photos/dc4d518890f3b8011b5d9d990ba3f3446ded81ec.jpg\n"
     ]
    },
    {
     "name": "stderr",
     "output_type": "stream",
     "text": [
      "  7%|▋         | 179/2737 [01:05<10:38,  4.01it/s]"
     ]
    },
    {
     "name": "stdout",
     "output_type": "stream",
     "text": [
      "../input/painting-vs-photograph-classification-dataset/Raw Data/photos/d351ad55fd7ff31fd3bb5dced6db175b79f0edf5.jpg\n"
     ]
    },
    {
     "name": "stderr",
     "output_type": "stream",
     "text": [
      "  7%|▋         | 180/2737 [01:05<10:12,  4.18it/s]"
     ]
    },
    {
     "name": "stdout",
     "output_type": "stream",
     "text": [
      "../input/painting-vs-photograph-classification-dataset/Raw Data/photos/30663fa0dae031be3a524571fd8759e8bdd2ff0a.jpg\n"
     ]
    },
    {
     "name": "stderr",
     "output_type": "stream",
     "text": [
      "  7%|▋         | 181/2737 [01:06<10:33,  4.04it/s]"
     ]
    },
    {
     "name": "stdout",
     "output_type": "stream",
     "text": [
      "../input/painting-vs-photograph-classification-dataset/Raw Data/photos/aac14d5389486f54773c1f49d34da003412b1fc3.jpg\n"
     ]
    },
    {
     "name": "stderr",
     "output_type": "stream",
     "text": [
      "  7%|▋         | 182/2737 [01:06<10:20,  4.12it/s]"
     ]
    },
    {
     "name": "stdout",
     "output_type": "stream",
     "text": [
      "../input/painting-vs-photograph-classification-dataset/Raw Data/photos/24572493866057dbafebeaf83b72990130280143.jpg\n"
     ]
    },
    {
     "name": "stderr",
     "output_type": "stream",
     "text": [
      "  7%|▋         | 183/2737 [01:06<11:54,  3.58it/s]"
     ]
    },
    {
     "name": "stdout",
     "output_type": "stream",
     "text": [
      "../input/painting-vs-photograph-classification-dataset/Raw Data/painting/464d414160bd0badc556b281155474d9acdc4454.jpg\n"
     ]
    },
    {
     "name": "stderr",
     "output_type": "stream",
     "text": [
      "  7%|▋         | 184/2737 [01:07<15:50,  2.69it/s]"
     ]
    },
    {
     "name": "stdout",
     "output_type": "stream",
     "text": [
      "../input/painting-vs-photograph-classification-dataset/Raw Data/painting/79b9d27999ade0e9bcfbebe2de515d0609e1e193.jpg\n"
     ]
    },
    {
     "name": "stderr",
     "output_type": "stream",
     "text": [
      "  7%|▋         | 186/2737 [01:08<17:04,  2.49it/s]"
     ]
    },
    {
     "name": "stdout",
     "output_type": "stream",
     "text": [
      "../input/painting-vs-photograph-classification-dataset/Raw Data/photos/3746dd4b787ea541ef673d4a18c5185ef0f2f458.jpg\n",
      "../input/painting-vs-photograph-classification-dataset/Raw Data/photos/50051b40e72946a49b4e412c745dcb20da771aa9.jpg\n"
     ]
    },
    {
     "name": "stderr",
     "output_type": "stream",
     "text": [
      "  7%|▋         | 187/2737 [01:08<14:54,  2.85it/s]"
     ]
    },
    {
     "name": "stdout",
     "output_type": "stream",
     "text": [
      "../input/painting-vs-photograph-classification-dataset/Raw Data/photos/fbf0f027b9c06bc733061f1274f7a6400350cb89.jpg\n"
     ]
    },
    {
     "name": "stderr",
     "output_type": "stream",
     "text": [
      "  7%|▋         | 188/2737 [01:08<13:45,  3.09it/s]"
     ]
    },
    {
     "name": "stdout",
     "output_type": "stream",
     "text": [
      "../input/painting-vs-photograph-classification-dataset/Raw Data/painting/b33a3cd69bfd0a42f04c7f6a978b7d3c573838bb.jpg\n"
     ]
    },
    {
     "name": "stderr",
     "output_type": "stream",
     "text": [
      "  7%|▋         | 190/2737 [01:09<16:14,  2.61it/s]"
     ]
    },
    {
     "name": "stdout",
     "output_type": "stream",
     "text": [
      "../input/painting-vs-photograph-classification-dataset/Raw Data/photos/5b7771e60ced09f8cb8a7a306c3f0af4263e787d.jpg\n",
      "../input/painting-vs-photograph-classification-dataset/Raw Data/painting/000f6904299a382edafaf7396ce5f80295389f52.jpg\n"
     ]
    },
    {
     "name": "stderr",
     "output_type": "stream",
     "text": [
      "  7%|▋         | 191/2737 [01:10<19:49,  2.14it/s]"
     ]
    },
    {
     "name": "stdout",
     "output_type": "stream",
     "text": [
      "../input/painting-vs-photograph-classification-dataset/Raw Data/photos/cad6d0325e46c726a4687af29f2bdb2899afabee.jpg\n"
     ]
    },
    {
     "name": "stderr",
     "output_type": "stream",
     "text": [
      "  7%|▋         | 192/2737 [01:10<16:52,  2.51it/s]"
     ]
    },
    {
     "name": "stdout",
     "output_type": "stream",
     "text": [
      "../input/painting-vs-photograph-classification-dataset/Raw Data/photos/90da792a3a9134b85c62912a04a58382718cbfb0.jpg\n"
     ]
    },
    {
     "name": "stderr",
     "output_type": "stream",
     "text": [
      "  7%|▋         | 193/2737 [01:10<14:53,  2.85it/s]"
     ]
    },
    {
     "name": "stdout",
     "output_type": "stream",
     "text": [
      "../input/painting-vs-photograph-classification-dataset/Raw Data/photos/f25b48b0b534bf189f82bd2761d4952284fd99a4.jpg\n"
     ]
    },
    {
     "name": "stderr",
     "output_type": "stream",
     "text": [
      "  7%|▋         | 194/2737 [01:11<13:16,  3.19it/s]"
     ]
    },
    {
     "name": "stdout",
     "output_type": "stream",
     "text": [
      "../input/painting-vs-photograph-classification-dataset/Raw Data/photos/77ee17f4d7f436af109be0815c1a6fec24496856.jpg\n"
     ]
    },
    {
     "name": "stderr",
     "output_type": "stream",
     "text": [
      "  7%|▋         | 195/2737 [01:11<12:33,  3.37it/s]"
     ]
    },
    {
     "name": "stdout",
     "output_type": "stream",
     "text": [
      "../input/painting-vs-photograph-classification-dataset/Raw Data/painting/44ce084d7ec3d3cd0dca2d4f1879cea788d834f8.jpg\n"
     ]
    },
    {
     "name": "stderr",
     "output_type": "stream",
     "text": [
      "  7%|▋         | 196/2737 [01:12<19:32,  2.17it/s]"
     ]
    },
    {
     "name": "stdout",
     "output_type": "stream",
     "text": [
      "../input/painting-vs-photograph-classification-dataset/Raw Data/painting/6d41edee3b5212840036f5bbc8efe4bbe597d5c2.jpg\n"
     ]
    },
    {
     "name": "stderr",
     "output_type": "stream",
     "text": [
      "  7%|▋         | 197/2737 [01:12<22:25,  1.89it/s]"
     ]
    },
    {
     "name": "stdout",
     "output_type": "stream",
     "text": [
      "../input/painting-vs-photograph-classification-dataset/Raw Data/photos/749566a579346109dc8938695bd05c2ad74df95c.jpg\n"
     ]
    },
    {
     "name": "stderr",
     "output_type": "stream",
     "text": [
      "  7%|▋         | 198/2737 [01:13<18:27,  2.29it/s]"
     ]
    },
    {
     "name": "stdout",
     "output_type": "stream",
     "text": [
      "../input/painting-vs-photograph-classification-dataset/Raw Data/painting/70130c99aaa3883fd46924c0362efca98ee2e5fb.jpg\n"
     ]
    },
    {
     "name": "stderr",
     "output_type": "stream",
     "text": [
      "  7%|▋         | 199/2737 [01:14<25:57,  1.63it/s]"
     ]
    },
    {
     "name": "stdout",
     "output_type": "stream",
     "text": [
      "../input/painting-vs-photograph-classification-dataset/Raw Data/photos/e568ebf744955f1264cd8840aa5047fdad4486d4.jpg\n"
     ]
    },
    {
     "name": "stderr",
     "output_type": "stream",
     "text": [
      "  7%|▋         | 200/2737 [01:14<20:49,  2.03it/s]"
     ]
    },
    {
     "name": "stdout",
     "output_type": "stream",
     "text": [
      "../input/painting-vs-photograph-classification-dataset/Raw Data/photos/0010187cc7cac045096a3261568d94aadde56feb.jpg\n"
     ]
    },
    {
     "name": "stderr",
     "output_type": "stream",
     "text": [
      "  7%|▋         | 201/2737 [01:14<17:31,  2.41it/s]"
     ]
    },
    {
     "name": "stdout",
     "output_type": "stream",
     "text": [
      "../input/painting-vs-photograph-classification-dataset/Raw Data/photos/d9e266afbd393c5a06da2f12867c2a7f7e4eab29.jpg\n"
     ]
    },
    {
     "name": "stderr",
     "output_type": "stream",
     "text": [
      "  7%|▋         | 202/2737 [01:14<15:02,  2.81it/s]"
     ]
    },
    {
     "name": "stdout",
     "output_type": "stream",
     "text": [
      "../input/painting-vs-photograph-classification-dataset/Raw Data/photos/f15e220a601971bc6b065529dd266cf18d08556a.jpg\n"
     ]
    },
    {
     "name": "stderr",
     "output_type": "stream",
     "text": [
      "  7%|▋         | 203/2737 [01:15<13:20,  3.16it/s]"
     ]
    },
    {
     "name": "stdout",
     "output_type": "stream",
     "text": [
      "../input/painting-vs-photograph-classification-dataset/Raw Data/photos/dbb2d2ba9d717fa0df74664d5f216d6808491d9d.jpg\n"
     ]
    },
    {
     "name": "stderr",
     "output_type": "stream",
     "text": [
      "  7%|▋         | 204/2737 [01:15<12:22,  3.41it/s]"
     ]
    },
    {
     "name": "stdout",
     "output_type": "stream",
     "text": [
      "../input/painting-vs-photograph-classification-dataset/Raw Data/photos/3940a678495aaff9a95055c59c8380d47c2d1806.jpg\n"
     ]
    },
    {
     "name": "stderr",
     "output_type": "stream",
     "text": [
      "  7%|▋         | 205/2737 [01:15<12:01,  3.51it/s]"
     ]
    },
    {
     "name": "stdout",
     "output_type": "stream",
     "text": [
      "../input/painting-vs-photograph-classification-dataset/Raw Data/photos/b4b4ad8e863db0445f8479e782782008f3553f21.jpg\n"
     ]
    },
    {
     "name": "stderr",
     "output_type": "stream",
     "text": [
      "  8%|▊         | 206/2737 [01:15<11:17,  3.73it/s]"
     ]
    },
    {
     "name": "stdout",
     "output_type": "stream",
     "text": [
      "../input/painting-vs-photograph-classification-dataset/Raw Data/painting/c73352ede5e8735fe4b3f03b82fdf4fa75dc3e84.jpg\n"
     ]
    },
    {
     "name": "stderr",
     "output_type": "stream",
     "text": [
      "  8%|▊         | 207/2737 [01:16<17:21,  2.43it/s]"
     ]
    },
    {
     "name": "stdout",
     "output_type": "stream",
     "text": [
      "../input/painting-vs-photograph-classification-dataset/Raw Data/photos/be2a72e2d9ee110f7d3ded415176c60dfc66630b.jpg\n"
     ]
    },
    {
     "name": "stderr",
     "output_type": "stream",
     "text": [
      "  8%|▊         | 208/2737 [01:16<15:06,  2.79it/s]"
     ]
    },
    {
     "name": "stdout",
     "output_type": "stream",
     "text": [
      "../input/painting-vs-photograph-classification-dataset/Raw Data/photos/d60bcfcbeb6256812be636e69e9adb12a24aba8e.jpg\n"
     ]
    },
    {
     "name": "stderr",
     "output_type": "stream",
     "text": [
      "  8%|▊         | 209/2737 [01:16<13:34,  3.10it/s]"
     ]
    },
    {
     "name": "stdout",
     "output_type": "stream",
     "text": [
      "../input/painting-vs-photograph-classification-dataset/Raw Data/photos/47e0b83515aaf5c810fbfabab16b2b0c9d3d3fb9.jpg\n"
     ]
    },
    {
     "name": "stderr",
     "output_type": "stream",
     "text": [
      "  8%|▊         | 210/2737 [01:17<12:36,  3.34it/s]"
     ]
    },
    {
     "name": "stdout",
     "output_type": "stream",
     "text": [
      "../input/painting-vs-photograph-classification-dataset/Raw Data/photos/b8846bed132b5e906f7b5c35127b272bc61dbdc3.jpg\n"
     ]
    },
    {
     "name": "stderr",
     "output_type": "stream",
     "text": [
      "  8%|▊         | 211/2737 [01:17<11:41,  3.60it/s]"
     ]
    },
    {
     "name": "stdout",
     "output_type": "stream",
     "text": [
      "../input/painting-vs-photograph-classification-dataset/Raw Data/photos/8029534143096b84c754316b44c7c7011c898a90.jpg\n"
     ]
    },
    {
     "name": "stderr",
     "output_type": "stream",
     "text": [
      "  8%|▊         | 212/2737 [01:17<11:11,  3.76it/s]"
     ]
    },
    {
     "name": "stdout",
     "output_type": "stream",
     "text": [
      "../input/painting-vs-photograph-classification-dataset/Raw Data/photos/6c6958bec83762204550dfce6f3fde5bece9ad9f.jpg\n"
     ]
    },
    {
     "name": "stderr",
     "output_type": "stream",
     "text": [
      "  8%|▊         | 213/2737 [01:17<10:38,  3.95it/s]"
     ]
    },
    {
     "name": "stdout",
     "output_type": "stream",
     "text": [
      "../input/painting-vs-photograph-classification-dataset/Raw Data/painting/601ad4cc63ee0e9b3d8f6bde1402e06dc398a3ed.jpg\n"
     ]
    },
    {
     "name": "stderr",
     "output_type": "stream",
     "text": [
      "  8%|▊         | 214/2737 [01:18<17:38,  2.38it/s]"
     ]
    },
    {
     "name": "stdout",
     "output_type": "stream",
     "text": [
      "../input/painting-vs-photograph-classification-dataset/Raw Data/photos/58da37b474067587d8218b42f9c759c86a35993a.jpg\n"
     ]
    },
    {
     "name": "stderr",
     "output_type": "stream",
     "text": [
      "  8%|▊         | 215/2737 [01:18<15:11,  2.77it/s]"
     ]
    },
    {
     "name": "stdout",
     "output_type": "stream",
     "text": [
      "../input/painting-vs-photograph-classification-dataset/Raw Data/photos/f2492783ad23f0f6740a22d18100e19874de2c69.jpg\n"
     ]
    },
    {
     "name": "stderr",
     "output_type": "stream",
     "text": [
      "  8%|▊         | 216/2737 [01:19<13:24,  3.13it/s]"
     ]
    },
    {
     "name": "stdout",
     "output_type": "stream",
     "text": [
      "../input/painting-vs-photograph-classification-dataset/Raw Data/photos/c559c57d0b2543e027fd151121f04f678027eb5f.jpg\n"
     ]
    },
    {
     "name": "stderr",
     "output_type": "stream",
     "text": [
      "  8%|▊         | 217/2737 [01:19<12:17,  3.42it/s]"
     ]
    },
    {
     "name": "stdout",
     "output_type": "stream",
     "text": [
      "../input/painting-vs-photograph-classification-dataset/Raw Data/photos/e549cf8851e680c96559ef9ea9f7a634404a9fcc.jpg\n"
     ]
    },
    {
     "name": "stderr",
     "output_type": "stream",
     "text": [
      "  8%|▊         | 218/2737 [01:19<11:32,  3.64it/s]"
     ]
    },
    {
     "name": "stdout",
     "output_type": "stream",
     "text": [
      "../input/painting-vs-photograph-classification-dataset/Raw Data/photos/d3c3d1df7988c6f4e94656ba71a324eb6dc69197.jpg\n"
     ]
    },
    {
     "name": "stderr",
     "output_type": "stream",
     "text": [
      "  8%|▊         | 219/2737 [01:19<11:06,  3.78it/s]"
     ]
    },
    {
     "name": "stdout",
     "output_type": "stream",
     "text": [
      "../input/painting-vs-photograph-classification-dataset/Raw Data/painting/6311a1aad230b3540c0ba110f25877aa589d7cfb.jpg\n"
     ]
    },
    {
     "name": "stderr",
     "output_type": "stream",
     "text": [
      "  8%|▊         | 220/2737 [01:20<18:15,  2.30it/s]"
     ]
    },
    {
     "name": "stdout",
     "output_type": "stream",
     "text": [
      "../input/painting-vs-photograph-classification-dataset/Raw Data/painting/ee19a95eea4b492fecd4e767e7cdb155703dd1eb.jpg\n"
     ]
    },
    {
     "name": "stderr",
     "output_type": "stream",
     "text": [
      "  8%|▊         | 221/2737 [01:20<16:32,  2.54it/s]"
     ]
    },
    {
     "name": "stdout",
     "output_type": "stream",
     "text": [
      "../input/painting-vs-photograph-classification-dataset/Raw Data/photos/e2e1b1b7da32f9845ce91fcfdd467cd8a6e6ce29.jpg\n"
     ]
    },
    {
     "name": "stderr",
     "output_type": "stream",
     "text": [
      "  8%|▊         | 222/2737 [01:21<14:29,  2.89it/s]"
     ]
    },
    {
     "name": "stdout",
     "output_type": "stream",
     "text": [
      "../input/painting-vs-photograph-classification-dataset/Raw Data/photos/0655d9faf29de045b01fc6f5084817e523980bb4.jpg\n"
     ]
    },
    {
     "name": "stderr",
     "output_type": "stream",
     "text": [
      "  8%|▊         | 223/2737 [01:21<13:34,  3.09it/s]"
     ]
    },
    {
     "name": "stdout",
     "output_type": "stream",
     "text": [
      "../input/painting-vs-photograph-classification-dataset/Raw Data/painting/a9239b4e88d97bdc8505dd161883fcde779f7553.jpg\n"
     ]
    },
    {
     "name": "stderr",
     "output_type": "stream",
     "text": [
      "  8%|▊         | 224/2737 [01:22<19:45,  2.12it/s]"
     ]
    },
    {
     "name": "stdout",
     "output_type": "stream",
     "text": [
      "../input/painting-vs-photograph-classification-dataset/Raw Data/photos/d81f075a5d67b64003fb7625b3c6e1849cc44749.jpg\n"
     ]
    },
    {
     "name": "stderr",
     "output_type": "stream",
     "text": [
      "  8%|▊         | 225/2737 [01:22<16:45,  2.50it/s]"
     ]
    },
    {
     "name": "stdout",
     "output_type": "stream",
     "text": [
      "../input/painting-vs-photograph-classification-dataset/Raw Data/photos/abc8987894b159381e513212be6a150264a91a2d.jpg\n"
     ]
    },
    {
     "name": "stderr",
     "output_type": "stream",
     "text": [
      "  8%|▊         | 226/2737 [01:22<14:45,  2.84it/s]"
     ]
    },
    {
     "name": "stdout",
     "output_type": "stream",
     "text": [
      "../input/painting-vs-photograph-classification-dataset/Raw Data/painting/f6a7c0d7e52fd95d09d88954d32ac2b0f06479da.jpg\n"
     ]
    },
    {
     "name": "stderr",
     "output_type": "stream",
     "text": [
      "  8%|▊         | 227/2737 [01:23<21:35,  1.94it/s]"
     ]
    },
    {
     "name": "stdout",
     "output_type": "stream",
     "text": [
      "../input/painting-vs-photograph-classification-dataset/Raw Data/photos/e10b8757fee51312ed3762cb2819516f6ebe732a.jpg\n"
     ]
    },
    {
     "name": "stderr",
     "output_type": "stream",
     "text": [
      "  8%|▊         | 228/2737 [01:23<17:43,  2.36it/s]"
     ]
    },
    {
     "name": "stdout",
     "output_type": "stream",
     "text": [
      "../input/painting-vs-photograph-classification-dataset/Raw Data/painting/57221b74f3c6996612197037b2fb1895038e08aa.jpg\n"
     ]
    },
    {
     "name": "stderr",
     "output_type": "stream",
     "text": [
      "  8%|▊         | 230/2737 [01:24<17:37,  2.37it/s]"
     ]
    },
    {
     "name": "stdout",
     "output_type": "stream",
     "text": [
      "../input/painting-vs-photograph-classification-dataset/Raw Data/photos/805a9288652890c1e9c602b35fe1dc1153e95644.jpg\n",
      "../input/painting-vs-photograph-classification-dataset/Raw Data/photos/814ae6f200a604cda768d67aea811fc1d59651d1.jpg\n"
     ]
    },
    {
     "name": "stderr",
     "output_type": "stream",
     "text": [
      "  8%|▊         | 231/2737 [01:25<15:00,  2.78it/s]"
     ]
    },
    {
     "name": "stdout",
     "output_type": "stream",
     "text": [
      "../input/painting-vs-photograph-classification-dataset/Raw Data/photos/eb9d7c4e41cdfe41e333af68e5437384009f77e9.jpg\n"
     ]
    },
    {
     "name": "stderr",
     "output_type": "stream",
     "text": [
      "  8%|▊         | 232/2737 [01:25<13:15,  3.15it/s]"
     ]
    },
    {
     "name": "stdout",
     "output_type": "stream",
     "text": [
      "../input/painting-vs-photograph-classification-dataset/Raw Data/painting/6cf2bc85b604f9f40ea5f80c6aa3ef2256c0d3e8.jpg\n"
     ]
    },
    {
     "name": "stderr",
     "output_type": "stream",
     "text": [
      "  9%|▊         | 233/2737 [01:25<15:09,  2.75it/s]"
     ]
    },
    {
     "name": "stdout",
     "output_type": "stream",
     "text": [
      "../input/painting-vs-photograph-classification-dataset/Raw Data/painting/b8896fd0c2e7810a2444c974e96b9be8a95cb75c.jpg\n"
     ]
    },
    {
     "name": "stderr",
     "output_type": "stream",
     "text": [
      "  9%|▊         | 234/2737 [01:26<23:20,  1.79it/s]"
     ]
    },
    {
     "name": "stdout",
     "output_type": "stream",
     "text": [
      "../input/painting-vs-photograph-classification-dataset/Raw Data/photos/b80130dc94a3a0c36beb65d45a74eb7b391ec8d3.jpg\n"
     ]
    },
    {
     "name": "stderr",
     "output_type": "stream",
     "text": [
      "  9%|▊         | 236/2737 [01:27<16:09,  2.58it/s]"
     ]
    },
    {
     "name": "stdout",
     "output_type": "stream",
     "text": [
      "../input/painting-vs-photograph-classification-dataset/Raw Data/photos/ed6b7c38c1adec28655d7bb6b84b64ad25f47e53.jpg\n",
      "../input/painting-vs-photograph-classification-dataset/Raw Data/painting/4a14160cca2649c77c4c135d7895ea32807ddaf3.jpg\n"
     ]
    },
    {
     "name": "stderr",
     "output_type": "stream",
     "text": [
      "  9%|▊         | 238/2737 [01:28<16:16,  2.56it/s]"
     ]
    },
    {
     "name": "stdout",
     "output_type": "stream",
     "text": [
      "../input/painting-vs-photograph-classification-dataset/Raw Data/photos/f62bc189729f046a7d1210a35fcfc3ef49f8d4ce.jpg\n",
      "../input/painting-vs-photograph-classification-dataset/Raw Data/photos/cd825c264f39fda2223aa408437a82731a045fe7.jpg\n"
     ]
    },
    {
     "name": "stderr",
     "output_type": "stream",
     "text": [
      "  9%|▊         | 239/2737 [01:28<14:20,  2.90it/s]"
     ]
    },
    {
     "name": "stdout",
     "output_type": "stream",
     "text": [
      "../input/painting-vs-photograph-classification-dataset/Raw Data/photos/326ffae277272e5aef1770ae48be70d51f2cd984.jpg\n"
     ]
    },
    {
     "name": "stderr",
     "output_type": "stream",
     "text": [
      "  9%|▉         | 240/2737 [01:28<12:42,  3.28it/s]"
     ]
    },
    {
     "name": "stdout",
     "output_type": "stream",
     "text": [
      "../input/painting-vs-photograph-classification-dataset/Raw Data/painting/5cb34c8f750be32fffcd8fede01285fa4114f822.jpg\n"
     ]
    },
    {
     "name": "stderr",
     "output_type": "stream",
     "text": [
      "  9%|▉         | 241/2737 [01:29<16:42,  2.49it/s]"
     ]
    },
    {
     "name": "stdout",
     "output_type": "stream",
     "text": [
      "../input/painting-vs-photograph-classification-dataset/Raw Data/photos/8bcded127acc3eeee42698506da9a43fa6452074.jpg\n"
     ]
    },
    {
     "name": "stderr",
     "output_type": "stream",
     "text": [
      "  9%|▉         | 242/2737 [01:29<14:36,  2.85it/s]"
     ]
    },
    {
     "name": "stdout",
     "output_type": "stream",
     "text": [
      "../input/painting-vs-photograph-classification-dataset/Raw Data/photos/b761a769705b62ad2d3611a1877a39285c38bca5.jpg\n"
     ]
    },
    {
     "name": "stderr",
     "output_type": "stream",
     "text": [
      "  9%|▉         | 244/2737 [01:29<11:14,  3.70it/s]"
     ]
    },
    {
     "name": "stdout",
     "output_type": "stream",
     "text": [
      "../input/painting-vs-photograph-classification-dataset/Raw Data/photos/6645c431d4a63cd531253a5b478b49b9ee2ff96e.jpg\n",
      "../input/painting-vs-photograph-classification-dataset/Raw Data/painting/ecde85601f2e4c585d517b91df6fbed68136d9db.jpg\n"
     ]
    },
    {
     "name": "stderr",
     "output_type": "stream",
     "text": [
      "  9%|▉         | 246/2737 [01:30<16:29,  2.52it/s]"
     ]
    },
    {
     "name": "stdout",
     "output_type": "stream",
     "text": [
      "../input/painting-vs-photograph-classification-dataset/Raw Data/photos/92ec5b5921b2fc55cd1e89b014133cabb759ea0b.jpg\n",
      "../input/painting-vs-photograph-classification-dataset/Raw Data/photos/b7112e6d9306ae5e53c48232f4f92a839f886ebd.jpg\n"
     ]
    },
    {
     "name": "stderr",
     "output_type": "stream",
     "text": [
      "  9%|▉         | 247/2737 [01:31<14:28,  2.87it/s]"
     ]
    },
    {
     "name": "stdout",
     "output_type": "stream",
     "text": [
      "../input/painting-vs-photograph-classification-dataset/Raw Data/photos/8084f7d78a78c274665492b4fc593b5c46e60a1d.jpg\n"
     ]
    },
    {
     "name": "stderr",
     "output_type": "stream",
     "text": [
      "  9%|▉         | 248/2737 [01:31<12:46,  3.25it/s]"
     ]
    },
    {
     "name": "stdout",
     "output_type": "stream",
     "text": [
      "../input/painting-vs-photograph-classification-dataset/Raw Data/painting/f4ada28c051c30ee615e87c35888b2e76ba64538.jpg\n"
     ]
    },
    {
     "name": "stderr",
     "output_type": "stream",
     "text": [
      "  9%|▉         | 249/2737 [01:32<17:30,  2.37it/s]"
     ]
    },
    {
     "name": "stdout",
     "output_type": "stream",
     "text": [
      "../input/painting-vs-photograph-classification-dataset/Raw Data/photos/be3d55e5015d11b9ebd082e854d09996614ff20e.jpg\n"
     ]
    },
    {
     "name": "stderr",
     "output_type": "stream",
     "text": [
      "  9%|▉         | 250/2737 [01:32<15:09,  2.73it/s]"
     ]
    },
    {
     "name": "stdout",
     "output_type": "stream",
     "text": [
      "../input/painting-vs-photograph-classification-dataset/Raw Data/photos/76973bd137487b76847c77584a736c3f2922d564.jpg\n"
     ]
    },
    {
     "name": "stderr",
     "output_type": "stream",
     "text": [
      "  9%|▉         | 251/2737 [01:32<13:29,  3.07it/s]"
     ]
    },
    {
     "name": "stdout",
     "output_type": "stream",
     "text": [
      "../input/painting-vs-photograph-classification-dataset/Raw Data/photos/03294302fa2fc610d5a335923c81bac54741f51a.jpg\n"
     ]
    },
    {
     "name": "stderr",
     "output_type": "stream",
     "text": [
      "  9%|▉         | 252/2737 [01:32<12:38,  3.28it/s]"
     ]
    },
    {
     "name": "stdout",
     "output_type": "stream",
     "text": [
      "../input/painting-vs-photograph-classification-dataset/Raw Data/photos/819b0974c455d5ebfd1df630f1477e12bd3d2eaa.jpg\n"
     ]
    },
    {
     "name": "stderr",
     "output_type": "stream",
     "text": [
      "  9%|▉         | 253/2737 [01:33<11:42,  3.54it/s]"
     ]
    },
    {
     "name": "stdout",
     "output_type": "stream",
     "text": [
      "../input/painting-vs-photograph-classification-dataset/Raw Data/photos/d1475712cdd2d869cec5efeebcb94d18c1eaacc3.jpg\n"
     ]
    },
    {
     "name": "stderr",
     "output_type": "stream",
     "text": [
      "  9%|▉         | 254/2737 [01:33<11:07,  3.72it/s]"
     ]
    },
    {
     "name": "stdout",
     "output_type": "stream",
     "text": [
      "../input/painting-vs-photograph-classification-dataset/Raw Data/photos/a8f67e92b68092a5f6c6e33a12ee4c1bcf33dcc2.jpg\n"
     ]
    },
    {
     "name": "stderr",
     "output_type": "stream",
     "text": [
      "  9%|▉         | 255/2737 [01:33<12:21,  3.35it/s]"
     ]
    },
    {
     "name": "stdout",
     "output_type": "stream",
     "text": [
      "../input/painting-vs-photograph-classification-dataset/Raw Data/photos/ef1407fc6c31a6b796ad6b6234f0c79bc6341d88.jpg\n"
     ]
    },
    {
     "name": "stderr",
     "output_type": "stream",
     "text": [
      "  9%|▉         | 256/2737 [01:33<11:16,  3.67it/s]"
     ]
    },
    {
     "name": "stdout",
     "output_type": "stream",
     "text": [
      "../input/painting-vs-photograph-classification-dataset/Raw Data/photos/ea4b4a3a085abacf5a7f12374c8364bff50bdc60.jpg\n"
     ]
    },
    {
     "name": "stderr",
     "output_type": "stream",
     "text": [
      "  9%|▉         | 257/2737 [01:34<10:39,  3.88it/s]"
     ]
    },
    {
     "name": "stdout",
     "output_type": "stream",
     "text": [
      "../input/painting-vs-photograph-classification-dataset/Raw Data/photos/ed41ff38706d772ca31308258fa8b0250026590d.jpg\n"
     ]
    },
    {
     "name": "stderr",
     "output_type": "stream",
     "text": [
      "  9%|▉         | 258/2737 [01:34<10:23,  3.98it/s]"
     ]
    },
    {
     "name": "stdout",
     "output_type": "stream",
     "text": [
      "../input/painting-vs-photograph-classification-dataset/Raw Data/photos/e3dd701b0aaaa5ba4abc30cd49f6bdd9d1f58ec4.jpg\n"
     ]
    },
    {
     "name": "stderr",
     "output_type": "stream",
     "text": [
      "  9%|▉         | 259/2737 [01:34<10:10,  4.06it/s]"
     ]
    },
    {
     "name": "stdout",
     "output_type": "stream",
     "text": [
      "../input/painting-vs-photograph-classification-dataset/Raw Data/photos/e0e1a446c25884a29792693b2679fc772617fb81.jpg\n"
     ]
    },
    {
     "name": "stderr",
     "output_type": "stream",
     "text": [
      "  9%|▉         | 260/2737 [01:34<10:10,  4.06it/s]"
     ]
    },
    {
     "name": "stdout",
     "output_type": "stream",
     "text": [
      "../input/painting-vs-photograph-classification-dataset/Raw Data/photos/d58e2064fd1cd83a45735514f8d689fc8bd4dcfa.jpg\n"
     ]
    },
    {
     "name": "stderr",
     "output_type": "stream",
     "text": [
      " 10%|▉         | 261/2737 [01:35<10:00,  4.12it/s]"
     ]
    },
    {
     "name": "stdout",
     "output_type": "stream",
     "text": [
      "../input/painting-vs-photograph-classification-dataset/Raw Data/photos/ef23a21fa5dbc3df92e5b5c76c847ccc743bb27c.jpg\n"
     ]
    },
    {
     "name": "stderr",
     "output_type": "stream",
     "text": [
      " 10%|▉         | 262/2737 [01:35<10:23,  3.97it/s]"
     ]
    },
    {
     "name": "stdout",
     "output_type": "stream",
     "text": [
      "../input/painting-vs-photograph-classification-dataset/Raw Data/photos/1414061c1a8c8e7a0ec20bcdee9a0d23111878cd.jpg\n"
     ]
    },
    {
     "name": "stderr",
     "output_type": "stream",
     "text": [
      " 10%|▉         | 263/2737 [01:35<10:05,  4.09it/s]"
     ]
    },
    {
     "name": "stdout",
     "output_type": "stream",
     "text": [
      "../input/painting-vs-photograph-classification-dataset/Raw Data/painting/0d20d31fa6825c49e35d6dea82060482ac63fc08.jpg\n"
     ]
    },
    {
     "name": "stderr",
     "output_type": "stream",
     "text": [
      " 10%|▉         | 264/2737 [01:36<16:00,  2.57it/s]"
     ]
    },
    {
     "name": "stdout",
     "output_type": "stream",
     "text": [
      "../input/painting-vs-photograph-classification-dataset/Raw Data/photos/5814b5fecdcc082ca616c59625589b61394ede9c.jpg\n"
     ]
    },
    {
     "name": "stderr",
     "output_type": "stream",
     "text": [
      " 10%|▉         | 265/2737 [01:36<13:57,  2.95it/s]"
     ]
    },
    {
     "name": "stdout",
     "output_type": "stream",
     "text": [
      "../input/painting-vs-photograph-classification-dataset/Raw Data/photos/949e26e37398889306e1e4ff1280411402825fa3.jpg\n"
     ]
    },
    {
     "name": "stderr",
     "output_type": "stream",
     "text": [
      " 10%|▉         | 266/2737 [01:36<12:33,  3.28it/s]"
     ]
    },
    {
     "name": "stdout",
     "output_type": "stream",
     "text": [
      "../input/painting-vs-photograph-classification-dataset/Raw Data/photos/609f8b3501c6e47a183f40661fc656e54ead5a78.jpg\n"
     ]
    },
    {
     "name": "stderr",
     "output_type": "stream",
     "text": [
      " 10%|▉         | 267/2737 [01:36<11:42,  3.52it/s]"
     ]
    },
    {
     "name": "stdout",
     "output_type": "stream",
     "text": [
      "../input/painting-vs-photograph-classification-dataset/Raw Data/photos/293e31b32f9783ffb6b19d29b9c69810c90f706f.jpg\n"
     ]
    },
    {
     "name": "stderr",
     "output_type": "stream",
     "text": [
      " 10%|▉         | 268/2737 [01:37<10:46,  3.82it/s]"
     ]
    },
    {
     "name": "stdout",
     "output_type": "stream",
     "text": [
      "../input/painting-vs-photograph-classification-dataset/Raw Data/photos/c0b28e486f140f6ff73ff4dcad2e8220dee12076.jpg\n"
     ]
    },
    {
     "name": "stderr",
     "output_type": "stream",
     "text": [
      " 10%|▉         | 269/2737 [01:37<10:49,  3.80it/s]"
     ]
    },
    {
     "name": "stdout",
     "output_type": "stream",
     "text": [
      "../input/painting-vs-photograph-classification-dataset/Raw Data/painting/f43c60ee384b9a97255370983c8edbd58ccfd32d.jpg\n"
     ]
    },
    {
     "name": "stderr",
     "output_type": "stream",
     "text": [
      " 10%|▉         | 270/2737 [01:38<17:16,  2.38it/s]"
     ]
    },
    {
     "name": "stdout",
     "output_type": "stream",
     "text": [
      "../input/painting-vs-photograph-classification-dataset/Raw Data/photos/232e7d5058c24b0e9951558e6d8711a8f492591a.jpg\n"
     ]
    },
    {
     "name": "stderr",
     "output_type": "stream",
     "text": [
      " 10%|▉         | 271/2737 [01:38<14:58,  2.74it/s]"
     ]
    },
    {
     "name": "stdout",
     "output_type": "stream",
     "text": [
      "../input/painting-vs-photograph-classification-dataset/Raw Data/painting/44489f9e64a159d8d46bbbd6b3dd6b1b27b70b11.jpg\n"
     ]
    },
    {
     "name": "stderr",
     "output_type": "stream",
     "text": [
      " 10%|▉         | 272/2737 [01:38<16:13,  2.53it/s]"
     ]
    },
    {
     "name": "stdout",
     "output_type": "stream",
     "text": [
      "../input/painting-vs-photograph-classification-dataset/Raw Data/painting/203a7af7d622e43436b2b8bafed567095a7440de.jpg\n"
     ]
    },
    {
     "name": "stderr",
     "output_type": "stream",
     "text": [
      " 10%|▉         | 273/2737 [01:39<18:55,  2.17it/s]"
     ]
    },
    {
     "name": "stdout",
     "output_type": "stream",
     "text": [
      "../input/painting-vs-photograph-classification-dataset/Raw Data/painting/99277b6bde4d8dfd725b01092721a37a613348a8.jpg\n"
     ]
    },
    {
     "name": "stderr",
     "output_type": "stream",
     "text": [
      " 10%|█         | 275/2737 [01:40<16:11,  2.53it/s]"
     ]
    },
    {
     "name": "stdout",
     "output_type": "stream",
     "text": [
      "../input/painting-vs-photograph-classification-dataset/Raw Data/photos/35103559dbd106b158933411fc0f9b569712149a.jpg\n",
      "../input/painting-vs-photograph-classification-dataset/Raw Data/photos/db52256b725161275bdaa6d760fe434eb0a8a0f5.jpg\n"
     ]
    },
    {
     "name": "stderr",
     "output_type": "stream",
     "text": [
      " 10%|█         | 276/2737 [01:40<14:05,  2.91it/s]"
     ]
    },
    {
     "name": "stdout",
     "output_type": "stream",
     "text": [
      "../input/painting-vs-photograph-classification-dataset/Raw Data/photos/f8684095e1c726496e712d0e3e6d370f4202ccaa.jpg\n"
     ]
    },
    {
     "name": "stderr",
     "output_type": "stream",
     "text": [
      " 10%|█         | 277/2737 [01:40<12:54,  3.18it/s]"
     ]
    },
    {
     "name": "stdout",
     "output_type": "stream",
     "text": [
      "../input/painting-vs-photograph-classification-dataset/Raw Data/photos/8be87de82000a2dcd7fae45c5ce1282566db289c.jpg\n"
     ]
    },
    {
     "name": "stderr",
     "output_type": "stream",
     "text": [
      " 10%|█         | 279/2737 [01:41<10:46,  3.80it/s]"
     ]
    },
    {
     "name": "stdout",
     "output_type": "stream",
     "text": [
      "../input/painting-vs-photograph-classification-dataset/Raw Data/photos/f367d42f724450f4722de770060ee3f3b49b90da.jpg\n",
      "../input/painting-vs-photograph-classification-dataset/Raw Data/photos/ca52ad1cdadae11961f5dea533ced6034af02b9f.jpg\n"
     ]
    },
    {
     "name": "stderr",
     "output_type": "stream",
     "text": [
      " 10%|█         | 280/2737 [01:41<10:24,  3.94it/s]"
     ]
    },
    {
     "name": "stdout",
     "output_type": "stream",
     "text": [
      "../input/painting-vs-photograph-classification-dataset/Raw Data/photos/ecdf0c64ec3f284a613485646b44c7fe3cd9b11e.jpg\n"
     ]
    },
    {
     "name": "stderr",
     "output_type": "stream",
     "text": [
      " 10%|█         | 282/2737 [01:41<09:33,  4.28it/s]"
     ]
    },
    {
     "name": "stdout",
     "output_type": "stream",
     "text": [
      "../input/painting-vs-photograph-classification-dataset/Raw Data/photos/613bb3117f2d4659c775bacd093657ebf3d425a3.jpg\n",
      "../input/painting-vs-photograph-classification-dataset/Raw Data/photos/619eb762230fdc086cd2567edf925661bdbb9d6e.jpg\n"
     ]
    },
    {
     "name": "stderr",
     "output_type": "stream",
     "text": [
      " 10%|█         | 283/2737 [01:42<09:38,  4.24it/s]"
     ]
    },
    {
     "name": "stdout",
     "output_type": "stream",
     "text": [
      "../input/painting-vs-photograph-classification-dataset/Raw Data/photos/766337b0c33b1573abe5838b30d451140924be8c.jpg\n"
     ]
    },
    {
     "name": "stderr",
     "output_type": "stream",
     "text": [
      " 10%|█         | 284/2737 [01:42<09:27,  4.32it/s]"
     ]
    },
    {
     "name": "stdout",
     "output_type": "stream",
     "text": [
      "../input/painting-vs-photograph-classification-dataset/Raw Data/painting/5c7cc1153f94688264c9a792f5a5d1ce60259362.jpg\n"
     ]
    },
    {
     "name": "stderr",
     "output_type": "stream",
     "text": [
      " 10%|█         | 285/2737 [01:42<13:59,  2.92it/s]"
     ]
    },
    {
     "name": "stdout",
     "output_type": "stream",
     "text": [
      "../input/painting-vs-photograph-classification-dataset/Raw Data/photos/b96aa55aacb40b1d25298d6c71451b7653a1988c.jpg\n"
     ]
    },
    {
     "name": "stderr",
     "output_type": "stream",
     "text": [
      " 10%|█         | 286/2737 [01:43<12:24,  3.29it/s]"
     ]
    },
    {
     "name": "stdout",
     "output_type": "stream",
     "text": [
      "../input/painting-vs-photograph-classification-dataset/Raw Data/photos/49fc89aff56299a4cd84141129385f811e9289e7.jpg\n"
     ]
    },
    {
     "name": "stderr",
     "output_type": "stream",
     "text": [
      " 10%|█         | 287/2737 [01:43<12:06,  3.37it/s]"
     ]
    },
    {
     "name": "stdout",
     "output_type": "stream",
     "text": [
      "../input/painting-vs-photograph-classification-dataset/Raw Data/photos/dce358f7dd7aca2a0c4d725ab9dc42e76921fd77.jpg\n"
     ]
    },
    {
     "name": "stderr",
     "output_type": "stream",
     "text": [
      " 11%|█         | 288/2737 [01:43<11:19,  3.60it/s]"
     ]
    },
    {
     "name": "stdout",
     "output_type": "stream",
     "text": [
      "../input/painting-vs-photograph-classification-dataset/Raw Data/photos/443bc0f3f1bf378acbe27f110bf1f451cbcf4924.jpg\n"
     ]
    },
    {
     "name": "stderr",
     "output_type": "stream",
     "text": [
      " 11%|█         | 289/2737 [01:43<11:09,  3.66it/s]"
     ]
    },
    {
     "name": "stdout",
     "output_type": "stream",
     "text": [
      "../input/painting-vs-photograph-classification-dataset/Raw Data/photos/a422a7e3553cf5b7308020f52996139d7e7334d3.jpg\n"
     ]
    },
    {
     "name": "stderr",
     "output_type": "stream",
     "text": [
      " 11%|█         | 290/2737 [01:44<10:49,  3.77it/s]"
     ]
    },
    {
     "name": "stdout",
     "output_type": "stream",
     "text": [
      "../input/painting-vs-photograph-classification-dataset/Raw Data/photos/5931ff7864fd7a63ccb2615a710f0003c1a6ecdd.jpg\n"
     ]
    },
    {
     "name": "stderr",
     "output_type": "stream",
     "text": [
      " 11%|█         | 291/2737 [01:44<10:30,  3.88it/s]"
     ]
    },
    {
     "name": "stdout",
     "output_type": "stream",
     "text": [
      "../input/painting-vs-photograph-classification-dataset/Raw Data/photos/feb9092aa2311bad63c5188768a62a5b293695a4.jpg\n"
     ]
    },
    {
     "name": "stderr",
     "output_type": "stream",
     "text": [
      " 11%|█         | 292/2737 [01:44<10:08,  4.02it/s]"
     ]
    },
    {
     "name": "stdout",
     "output_type": "stream",
     "text": [
      "../input/painting-vs-photograph-classification-dataset/Raw Data/painting/e7959502d1e167d69ea28eeca96019cd9418f09d.jpg\n"
     ]
    },
    {
     "name": "stderr",
     "output_type": "stream",
     "text": [
      " 11%|█         | 293/2737 [01:45<15:07,  2.69it/s]"
     ]
    },
    {
     "name": "stdout",
     "output_type": "stream",
     "text": [
      "../input/painting-vs-photograph-classification-dataset/Raw Data/photos/e951fa6f1cb8954ffe3f234e7b1f2407c849a1d8.jpg\n"
     ]
    },
    {
     "name": "stderr",
     "output_type": "stream",
     "text": [
      " 11%|█         | 295/2737 [01:45<11:18,  3.60it/s]"
     ]
    },
    {
     "name": "stdout",
     "output_type": "stream",
     "text": [
      "../input/painting-vs-photograph-classification-dataset/Raw Data/photos/e1a683f4adf56f6d433d1109cbc818e546aae8df.jpg\n",
      "../input/painting-vs-photograph-classification-dataset/Raw Data/painting/9f119e5b9ff0ab49d75aa5ae9141f1ad8cfe8992.jpg\n"
     ]
    },
    {
     "name": "stderr",
     "output_type": "stream",
     "text": [
      " 11%|█         | 297/2737 [01:46<12:44,  3.19it/s]"
     ]
    },
    {
     "name": "stdout",
     "output_type": "stream",
     "text": [
      "../input/painting-vs-photograph-classification-dataset/Raw Data/photos/d4c07582be04870db0139e6a13c63a210a36cbc5.jpg\n",
      "../input/painting-vs-photograph-classification-dataset/Raw Data/painting/faebf49e5488dbe55e903701f86fbfb004c26492.jpg\n"
     ]
    },
    {
     "name": "stderr",
     "output_type": "stream",
     "text": [
      " 11%|█         | 298/2737 [01:47<18:42,  2.17it/s]"
     ]
    },
    {
     "name": "stdout",
     "output_type": "stream",
     "text": [
      "../input/painting-vs-photograph-classification-dataset/Raw Data/painting/003323259a6612b48df041418cdd43d24452e11b.jpg\n"
     ]
    },
    {
     "name": "stderr",
     "output_type": "stream",
     "text": [
      " 11%|█         | 299/2737 [01:48<25:55,  1.57it/s]"
     ]
    },
    {
     "name": "stdout",
     "output_type": "stream",
     "text": [
      "../input/painting-vs-photograph-classification-dataset/Raw Data/photos/984c0581c2082b218206568826fa8396463720e1.jpg\n"
     ]
    },
    {
     "name": "stderr",
     "output_type": "stream",
     "text": [
      " 11%|█         | 300/2737 [01:48<21:16,  1.91it/s]"
     ]
    },
    {
     "name": "stdout",
     "output_type": "stream",
     "text": [
      "../input/painting-vs-photograph-classification-dataset/Raw Data/painting/f2ec0002bba6ce4044d6a323ecb7d17fdaf6d573.jpg\n"
     ]
    },
    {
     "name": "stderr",
     "output_type": "stream",
     "text": [
      " 11%|█         | 301/2737 [01:49<21:52,  1.86it/s]"
     ]
    },
    {
     "name": "stdout",
     "output_type": "stream",
     "text": [
      "../input/painting-vs-photograph-classification-dataset/Raw Data/photos/6c378f3677979fb1a39c7e1d6d6170102e907417.jpg\n"
     ]
    },
    {
     "name": "stderr",
     "output_type": "stream",
     "text": [
      " 11%|█         | 302/2737 [01:49<18:14,  2.23it/s]"
     ]
    },
    {
     "name": "stdout",
     "output_type": "stream",
     "text": [
      "../input/painting-vs-photograph-classification-dataset/Raw Data/photos/668526cb5484ea89fdd1c2cf79a03d842bc83f20.jpg\n"
     ]
    },
    {
     "name": "stderr",
     "output_type": "stream",
     "text": [
      " 11%|█         | 303/2737 [01:49<16:05,  2.52it/s]"
     ]
    },
    {
     "name": "stdout",
     "output_type": "stream",
     "text": [
      "../input/painting-vs-photograph-classification-dataset/Raw Data/photos/775bf9bc7723b9ace0978e27016acb731ef9c475.jpg\n"
     ]
    },
    {
     "name": "stderr",
     "output_type": "stream",
     "text": [
      " 11%|█         | 304/2737 [01:50<15:18,  2.65it/s]"
     ]
    },
    {
     "name": "stdout",
     "output_type": "stream",
     "text": [
      "../input/painting-vs-photograph-classification-dataset/Raw Data/photos/ac19314b2dbae766765e4518d6b554a932cfbca5.jpg\n"
     ]
    },
    {
     "name": "stderr",
     "output_type": "stream",
     "text": [
      " 11%|█         | 305/2737 [01:50<13:39,  2.97it/s]"
     ]
    },
    {
     "name": "stdout",
     "output_type": "stream",
     "text": [
      "../input/painting-vs-photograph-classification-dataset/Raw Data/photos/378a0b6403453b25bbad3abe3d64a93845a058b5.jpg\n"
     ]
    },
    {
     "name": "stderr",
     "output_type": "stream",
     "text": [
      " 11%|█         | 306/2737 [01:50<12:27,  3.25it/s]"
     ]
    },
    {
     "name": "stdout",
     "output_type": "stream",
     "text": [
      "../input/painting-vs-photograph-classification-dataset/Raw Data/painting/1115e452cf89b3703d199d87387d0957089c4082.jpg\n"
     ]
    },
    {
     "name": "stderr",
     "output_type": "stream",
     "text": [
      " 11%|█         | 307/2737 [01:51<17:00,  2.38it/s]"
     ]
    },
    {
     "name": "stdout",
     "output_type": "stream",
     "text": [
      "../input/painting-vs-photograph-classification-dataset/Raw Data/photos/8193ac543755dd68b0d91a9a91535a2994c82b48.jpg\n"
     ]
    },
    {
     "name": "stderr",
     "output_type": "stream",
     "text": [
      " 11%|█▏        | 308/2737 [01:51<14:44,  2.75it/s]"
     ]
    },
    {
     "name": "stdout",
     "output_type": "stream",
     "text": [
      "../input/painting-vs-photograph-classification-dataset/Raw Data/painting/f849e9a42db69b575b65fe198c663a2fc2b2a453.jpg\n"
     ]
    },
    {
     "name": "stderr",
     "output_type": "stream",
     "text": [
      " 11%|█▏        | 309/2737 [01:52<22:57,  1.76it/s]"
     ]
    },
    {
     "name": "stdout",
     "output_type": "stream",
     "text": [
      "../input/painting-vs-photograph-classification-dataset/Raw Data/painting/e51dab9515ef7c549cc1f8045ddcd35ee068dd13.jpg\n"
     ]
    },
    {
     "name": "stderr",
     "output_type": "stream",
     "text": [
      " 11%|█▏        | 310/2737 [01:53<29:01,  1.39it/s]"
     ]
    },
    {
     "name": "stdout",
     "output_type": "stream",
     "text": [
      "../input/painting-vs-photograph-classification-dataset/Raw Data/photos/d870eeb938632c1fa4577005072db26de1c6e271.jpg\n"
     ]
    },
    {
     "name": "stderr",
     "output_type": "stream",
     "text": [
      " 11%|█▏        | 311/2737 [01:53<23:09,  1.75it/s]"
     ]
    },
    {
     "name": "stdout",
     "output_type": "stream",
     "text": [
      "../input/painting-vs-photograph-classification-dataset/Raw Data/photos/767b0ca74c1a523c1741ef9f7bd82911349d9253.jpg\n"
     ]
    },
    {
     "name": "stderr",
     "output_type": "stream",
     "text": [
      " 11%|█▏        | 313/2737 [01:54<15:47,  2.56it/s]"
     ]
    },
    {
     "name": "stdout",
     "output_type": "stream",
     "text": [
      "../input/painting-vs-photograph-classification-dataset/Raw Data/photos/c6f7e07bfe5d8b92232fbd412946b9d6f2a16230.jpg\n",
      "../input/painting-vs-photograph-classification-dataset/Raw Data/photos/05f9c733baa48a9ad67d78616594cd6fb4fa7788.jpg\n"
     ]
    },
    {
     "name": "stderr",
     "output_type": "stream",
     "text": [
      " 11%|█▏        | 314/2737 [01:54<13:57,  2.89it/s]"
     ]
    },
    {
     "name": "stdout",
     "output_type": "stream",
     "text": [
      "../input/painting-vs-photograph-classification-dataset/Raw Data/photos/f7023612ac858c51994b53e8259061a5a507530d.jpg\n"
     ]
    },
    {
     "name": "stderr",
     "output_type": "stream",
     "text": [
      " 12%|█▏        | 315/2737 [01:54<12:52,  3.14it/s]"
     ]
    },
    {
     "name": "stdout",
     "output_type": "stream",
     "text": [
      "../input/painting-vs-photograph-classification-dataset/Raw Data/photos/b45567394f33e02154d8fa7ddc4b04b743b05254.jpg\n"
     ]
    },
    {
     "name": "stderr",
     "output_type": "stream",
     "text": [
      " 12%|█▏        | 316/2737 [01:55<13:53,  2.91it/s]"
     ]
    },
    {
     "name": "stdout",
     "output_type": "stream",
     "text": [
      "../input/painting-vs-photograph-classification-dataset/Raw Data/photos/f2de0a21c531006581f009a7162e9533ee6f9bb4.jpg\n"
     ]
    },
    {
     "name": "stderr",
     "output_type": "stream",
     "text": [
      " 12%|█▏        | 317/2737 [01:55<12:36,  3.20it/s]"
     ]
    },
    {
     "name": "stdout",
     "output_type": "stream",
     "text": [
      "../input/painting-vs-photograph-classification-dataset/Raw Data/photos/93d546be32a8b84c841918240c633849832058bd.jpg\n"
     ]
    },
    {
     "name": "stderr",
     "output_type": "stream",
     "text": [
      " 12%|█▏        | 318/2737 [01:55<11:22,  3.54it/s]"
     ]
    },
    {
     "name": "stdout",
     "output_type": "stream",
     "text": [
      "../input/painting-vs-photograph-classification-dataset/Raw Data/painting/8d9f209ca0f3b9de5e7d5d31d888ce2c76bed093.jpg\n"
     ]
    },
    {
     "name": "stderr",
     "output_type": "stream",
     "text": [
      " 12%|█▏        | 319/2737 [01:56<17:21,  2.32it/s]"
     ]
    },
    {
     "name": "stdout",
     "output_type": "stream",
     "text": [
      "../input/painting-vs-photograph-classification-dataset/Raw Data/painting/73568959eac40830fe65bcf4278231f3bcfb6b3a.jpg\n"
     ]
    },
    {
     "name": "stderr",
     "output_type": "stream",
     "text": [
      " 12%|█▏        | 320/2737 [01:57<24:50,  1.62it/s]"
     ]
    },
    {
     "name": "stdout",
     "output_type": "stream",
     "text": [
      "../input/painting-vs-photograph-classification-dataset/Raw Data/photos/b35636c59aca71f9420836de065e28f7f9286130.jpg\n"
     ]
    },
    {
     "name": "stderr",
     "output_type": "stream",
     "text": [
      " 12%|█▏        | 321/2737 [01:57<20:13,  1.99it/s]"
     ]
    },
    {
     "name": "stdout",
     "output_type": "stream",
     "text": [
      "../input/painting-vs-photograph-classification-dataset/Raw Data/photos/acf5c72559d5b9ec45776170d5a2aeaecb1c2798.jpg\n"
     ]
    },
    {
     "name": "stderr",
     "output_type": "stream",
     "text": [
      " 12%|█▏        | 322/2737 [01:57<16:41,  2.41it/s]"
     ]
    },
    {
     "name": "stdout",
     "output_type": "stream",
     "text": [
      "../input/painting-vs-photograph-classification-dataset/Raw Data/photos/31717f0286468b1931ebffe4672f50b563e0baf1.jpg\n"
     ]
    },
    {
     "name": "stderr",
     "output_type": "stream",
     "text": [
      " 12%|█▏        | 323/2737 [01:58<14:30,  2.77it/s]"
     ]
    },
    {
     "name": "stdout",
     "output_type": "stream",
     "text": [
      "../input/painting-vs-photograph-classification-dataset/Raw Data/photos/ce958c5c309687612f982b51b052e5f7c1579445.jpg\n"
     ]
    },
    {
     "name": "stderr",
     "output_type": "stream",
     "text": [
      " 12%|█▏        | 324/2737 [01:58<13:23,  3.00it/s]"
     ]
    },
    {
     "name": "stdout",
     "output_type": "stream",
     "text": [
      "../input/painting-vs-photograph-classification-dataset/Raw Data/photos/e451af083822bc0098d67f6205c9519bb768c8e8.jpg\n"
     ]
    },
    {
     "name": "stderr",
     "output_type": "stream",
     "text": [
      " 12%|█▏        | 325/2737 [01:58<12:15,  3.28it/s]"
     ]
    },
    {
     "name": "stdout",
     "output_type": "stream",
     "text": [
      "../input/painting-vs-photograph-classification-dataset/Raw Data/painting/b7ec218c1d1dc6648227b71fb81f834535b3d02e.jpg\n"
     ]
    },
    {
     "name": "stderr",
     "output_type": "stream",
     "text": [
      " 12%|█▏        | 326/2737 [01:59<16:53,  2.38it/s]"
     ]
    },
    {
     "name": "stdout",
     "output_type": "stream",
     "text": [
      "../input/painting-vs-photograph-classification-dataset/Raw Data/painting/80f3486f74592ac3fa01239ef3b8bb348e0454d6.jpg\n"
     ]
    },
    {
     "name": "stderr",
     "output_type": "stream",
     "text": [
      " 12%|█▏        | 327/2737 [01:59<21:01,  1.91it/s]"
     ]
    },
    {
     "name": "stdout",
     "output_type": "stream",
     "text": [
      "../input/painting-vs-photograph-classification-dataset/Raw Data/photos/093508ffd952e73fb8b5d066e69e836ad596f0f7.jpg\n"
     ]
    },
    {
     "name": "stderr",
     "output_type": "stream",
     "text": [
      " 12%|█▏        | 328/2737 [02:00<17:17,  2.32it/s]"
     ]
    },
    {
     "name": "stdout",
     "output_type": "stream",
     "text": [
      "../input/painting-vs-photograph-classification-dataset/Raw Data/photos/e11ffe6f85f9f0dc2e74378c1363b18e5f5f3006.jpg\n"
     ]
    },
    {
     "name": "stderr",
     "output_type": "stream",
     "text": [
      " 12%|█▏        | 329/2737 [02:00<15:02,  2.67it/s]"
     ]
    },
    {
     "name": "stdout",
     "output_type": "stream",
     "text": [
      "../input/painting-vs-photograph-classification-dataset/Raw Data/photos/ac1efaad55ec2b8074c367353a34a02a74e8fb9e.jpg\n"
     ]
    },
    {
     "name": "stderr",
     "output_type": "stream",
     "text": [
      " 12%|█▏        | 331/2737 [02:00<11:12,  3.58it/s]"
     ]
    },
    {
     "name": "stdout",
     "output_type": "stream",
     "text": [
      "../input/painting-vs-photograph-classification-dataset/Raw Data/photos/bf3780498085778165b8fbe845a7b1936d06d4c8.jpg\n",
      "../input/painting-vs-photograph-classification-dataset/Raw Data/photos/d8dc3308d2903089bf1718f2a00fe3c4b9c43dc3.jpg\n"
     ]
    },
    {
     "name": "stderr",
     "output_type": "stream",
     "text": [
      " 12%|█▏        | 333/2737 [02:01<09:55,  4.04it/s]"
     ]
    },
    {
     "name": "stdout",
     "output_type": "stream",
     "text": [
      "../input/painting-vs-photograph-classification-dataset/Raw Data/photos/b04d41b0142836970b6a84bad01f1f48432a6013.jpg\n",
      "../input/painting-vs-photograph-classification-dataset/Raw Data/photos/243dd3feca53b292101877e2c2534a7ccf382236.jpg\n"
     ]
    },
    {
     "name": "stderr",
     "output_type": "stream",
     "text": [
      " 12%|█▏        | 334/2737 [02:01<09:27,  4.23it/s]"
     ]
    },
    {
     "name": "stdout",
     "output_type": "stream",
     "text": [
      "../input/painting-vs-photograph-classification-dataset/Raw Data/photos/021cc655ca9ebdad9d1db2882236692dea8ec54e.jpg\n"
     ]
    },
    {
     "name": "stderr",
     "output_type": "stream",
     "text": [
      " 12%|█▏        | 335/2737 [02:01<09:50,  4.06it/s]"
     ]
    },
    {
     "name": "stdout",
     "output_type": "stream",
     "text": [
      "../input/painting-vs-photograph-classification-dataset/Raw Data/photos/d9486ff48bb7be32fff968abd1d8f9e366e9a5dc.jpg\n"
     ]
    },
    {
     "name": "stderr",
     "output_type": "stream",
     "text": [
      " 12%|█▏        | 336/2737 [02:02<09:48,  4.08it/s]"
     ]
    },
    {
     "name": "stdout",
     "output_type": "stream",
     "text": [
      "../input/painting-vs-photograph-classification-dataset/Raw Data/painting/ed6adbc123de6b32dd38a630ed28145a000dcb84.jpg\n"
     ]
    },
    {
     "name": "stderr",
     "output_type": "stream",
     "text": [
      " 12%|█▏        | 337/2737 [02:02<11:57,  3.34it/s]"
     ]
    },
    {
     "name": "stdout",
     "output_type": "stream",
     "text": [
      "../input/painting-vs-photograph-classification-dataset/Raw Data/photos/c925ff2b2ba56096dc960f321bd80725979ece67.jpg\n"
     ]
    },
    {
     "name": "stderr",
     "output_type": "stream",
     "text": [
      " 12%|█▏        | 338/2737 [02:02<11:19,  3.53it/s]"
     ]
    },
    {
     "name": "stdout",
     "output_type": "stream",
     "text": [
      "../input/painting-vs-photograph-classification-dataset/Raw Data/painting/2c647e48cc8fb4df6e76a44d986aaa39589ab7c0.jpg\n"
     ]
    },
    {
     "name": "stderr",
     "output_type": "stream",
     "text": [
      " 12%|█▏        | 339/2737 [02:03<13:55,  2.87it/s]"
     ]
    },
    {
     "name": "stdout",
     "output_type": "stream",
     "text": [
      "../input/painting-vs-photograph-classification-dataset/Raw Data/painting/b066102d1ade22705a0c7a0cf60b92dba73fa56f.jpg\n"
     ]
    },
    {
     "name": "stderr",
     "output_type": "stream",
     "text": [
      " 12%|█▏        | 341/2737 [02:03<14:06,  2.83it/s]"
     ]
    },
    {
     "name": "stdout",
     "output_type": "stream",
     "text": [
      "../input/painting-vs-photograph-classification-dataset/Raw Data/photos/b40e5e419dc9df171283727da921bef74014c1fe.jpg\n",
      "../input/painting-vs-photograph-classification-dataset/Raw Data/painting/f311657363200a338c4b06b95f533e75532ef4ac.jpg\n"
     ]
    },
    {
     "name": "stderr",
     "output_type": "stream",
     "text": [
      " 12%|█▏        | 342/2737 [02:04<17:45,  2.25it/s]"
     ]
    },
    {
     "name": "stdout",
     "output_type": "stream",
     "text": [
      "../input/painting-vs-photograph-classification-dataset/Raw Data/painting/3d7eeb184fa03b5b69613504425f2526f632205a.jpg\n"
     ]
    },
    {
     "name": "stderr",
     "output_type": "stream",
     "text": [
      " 13%|█▎        | 344/2737 [02:05<17:24,  2.29it/s]"
     ]
    },
    {
     "name": "stdout",
     "output_type": "stream",
     "text": [
      "../input/painting-vs-photograph-classification-dataset/Raw Data/photos/ab9797e9d58e85b7816eb7eed03e14c2be77f20e.jpg\n",
      "../input/painting-vs-photograph-classification-dataset/Raw Data/photos/80608f726329d075a640803995e76347bf6d36fa.jpg\n"
     ]
    },
    {
     "name": "stderr",
     "output_type": "stream",
     "text": [
      " 13%|█▎        | 345/2737 [02:05<14:49,  2.69it/s]"
     ]
    },
    {
     "name": "stdout",
     "output_type": "stream",
     "text": [
      "../input/painting-vs-photograph-classification-dataset/Raw Data/photos/77122b2659c0ec3ee8068665ddf1f19084db73c1.jpg\n"
     ]
    },
    {
     "name": "stderr",
     "output_type": "stream",
     "text": [
      " 13%|█▎        | 346/2737 [02:06<14:44,  2.70it/s]"
     ]
    },
    {
     "name": "stdout",
     "output_type": "stream",
     "text": [
      "../input/painting-vs-photograph-classification-dataset/Raw Data/photos/b25ca02a7f74c7f2ba0b9b40f9a99c0bd7953ebb.jpg\n"
     ]
    },
    {
     "name": "stderr",
     "output_type": "stream",
     "text": [
      " 13%|█▎        | 348/2737 [02:06<10:51,  3.66it/s]"
     ]
    },
    {
     "name": "stdout",
     "output_type": "stream",
     "text": [
      "../input/painting-vs-photograph-classification-dataset/Raw Data/photos/f75c8c7627191e116536d4dec2dbadd157a7833a.jpg\n",
      "../input/painting-vs-photograph-classification-dataset/Raw Data/photos/71de5fd9b3c04950187322e1574e245e3111c8fc.jpg\n"
     ]
    },
    {
     "name": "stderr",
     "output_type": "stream",
     "text": [
      " 13%|█▎        | 349/2737 [02:06<10:28,  3.80it/s]"
     ]
    },
    {
     "name": "stdout",
     "output_type": "stream",
     "text": [
      "../input/painting-vs-photograph-classification-dataset/Raw Data/photos/810098e5abf29e46fb7d8e243cf888b690c0142a.jpg\n"
     ]
    },
    {
     "name": "stderr",
     "output_type": "stream",
     "text": [
      " 13%|█▎        | 350/2737 [02:07<09:51,  4.04it/s]"
     ]
    },
    {
     "name": "stdout",
     "output_type": "stream",
     "text": [
      "../input/painting-vs-photograph-classification-dataset/Raw Data/photos/68affc02a1e479e07c21923ce4a68389f96c4725.jpg\n"
     ]
    },
    {
     "name": "stderr",
     "output_type": "stream",
     "text": [
      " 13%|█▎        | 351/2737 [02:07<10:08,  3.92it/s]"
     ]
    },
    {
     "name": "stdout",
     "output_type": "stream",
     "text": [
      "../input/painting-vs-photograph-classification-dataset/Raw Data/photos/86fbe68d328926dba54701de003fa871634397a0.jpg\n"
     ]
    },
    {
     "name": "stderr",
     "output_type": "stream",
     "text": [
      " 13%|█▎        | 352/2737 [02:07<11:11,  3.55it/s]"
     ]
    },
    {
     "name": "stdout",
     "output_type": "stream",
     "text": [
      "../input/painting-vs-photograph-classification-dataset/Raw Data/painting/25f3b03f809c48a18f810b1244a8060f2a4d6f96.jpg\n"
     ]
    },
    {
     "name": "stderr",
     "output_type": "stream",
     "text": [
      " 13%|█▎        | 353/2737 [02:08<17:03,  2.33it/s]"
     ]
    },
    {
     "name": "stdout",
     "output_type": "stream",
     "text": [
      "../input/painting-vs-photograph-classification-dataset/Raw Data/photos/67985bc7c384a89c352be5efeb6062af59016fd4.jpg\n"
     ]
    },
    {
     "name": "stderr",
     "output_type": "stream",
     "text": [
      " 13%|█▎        | 354/2737 [02:08<15:19,  2.59it/s]"
     ]
    },
    {
     "name": "stdout",
     "output_type": "stream",
     "text": [
      "../input/painting-vs-photograph-classification-dataset/Raw Data/photos/9094138353aa5287fe49f3cbb761619804dece02.jpg\n"
     ]
    },
    {
     "name": "stderr",
     "output_type": "stream",
     "text": [
      " 13%|█▎        | 355/2737 [02:08<13:28,  2.95it/s]"
     ]
    },
    {
     "name": "stdout",
     "output_type": "stream",
     "text": [
      "../input/painting-vs-photograph-classification-dataset/Raw Data/painting/704be067aa6c166a26614a484244dd6afe2e6ac9.jpg\n"
     ]
    },
    {
     "name": "stderr",
     "output_type": "stream",
     "text": [
      " 13%|█▎        | 356/2737 [02:09<17:01,  2.33it/s]"
     ]
    },
    {
     "name": "stdout",
     "output_type": "stream",
     "text": [
      "../input/painting-vs-photograph-classification-dataset/Raw Data/photos/ef0b724391ea95cc741bef1290b51e96704cf75c.jpg\n"
     ]
    },
    {
     "name": "stderr",
     "output_type": "stream",
     "text": [
      " 13%|█▎        | 357/2737 [02:09<14:46,  2.68it/s]"
     ]
    },
    {
     "name": "stdout",
     "output_type": "stream",
     "text": [
      "../input/painting-vs-photograph-classification-dataset/Raw Data/photos/410d06baf13315560244b11182190e4801e28f65.jpg\n"
     ]
    },
    {
     "name": "stderr",
     "output_type": "stream",
     "text": [
      " 13%|█▎        | 358/2737 [02:10<13:00,  3.05it/s]"
     ]
    },
    {
     "name": "stdout",
     "output_type": "stream",
     "text": [
      "../input/painting-vs-photograph-classification-dataset/Raw Data/photos/76bd3db8518917fd850adc703895d410f928d24d.jpg\n"
     ]
    },
    {
     "name": "stderr",
     "output_type": "stream",
     "text": [
      " 13%|█▎        | 359/2737 [02:10<13:08,  3.02it/s]"
     ]
    },
    {
     "name": "stdout",
     "output_type": "stream",
     "text": [
      "../input/painting-vs-photograph-classification-dataset/Raw Data/photos/d89731d7c7d16461e3a2b90050beb7b360a620a4.jpg\n"
     ]
    },
    {
     "name": "stderr",
     "output_type": "stream",
     "text": [
      " 13%|█▎        | 360/2737 [02:10<11:48,  3.36it/s]"
     ]
    },
    {
     "name": "stdout",
     "output_type": "stream",
     "text": [
      "../input/painting-vs-photograph-classification-dataset/Raw Data/painting/56da51ac4cf83166588edfb62314b9e3c64bc06a.jpg\n"
     ]
    },
    {
     "name": "stderr",
     "output_type": "stream",
     "text": [
      " 13%|█▎        | 361/2737 [02:11<17:36,  2.25it/s]"
     ]
    },
    {
     "name": "stdout",
     "output_type": "stream",
     "text": [
      "../input/painting-vs-photograph-classification-dataset/Raw Data/painting/cdc69cf8ffdc96b91041e1aa7defefd7b8f64437.jpg\n"
     ]
    },
    {
     "name": "stderr",
     "output_type": "stream",
     "text": [
      " 13%|█▎        | 362/2737 [02:12<21:02,  1.88it/s]"
     ]
    },
    {
     "name": "stdout",
     "output_type": "stream",
     "text": [
      "../input/painting-vs-photograph-classification-dataset/Raw Data/painting/f289f4e6c965da455501f8af74656268d1d1b629.jpg\n"
     ]
    },
    {
     "name": "stderr",
     "output_type": "stream",
     "text": [
      " 13%|█▎        | 363/2737 [02:12<23:03,  1.72it/s]"
     ]
    },
    {
     "name": "stdout",
     "output_type": "stream",
     "text": [
      "../input/painting-vs-photograph-classification-dataset/Raw Data/photos/ecb0be84df4722aaed58d929d77c34cb2beac9c6.jpg\n"
     ]
    },
    {
     "name": "stderr",
     "output_type": "stream",
     "text": [
      " 13%|█▎        | 364/2737 [02:13<18:55,  2.09it/s]"
     ]
    },
    {
     "name": "stdout",
     "output_type": "stream",
     "text": [
      "../input/painting-vs-photograph-classification-dataset/Raw Data/photos/c2e31e6739c5c468cdda85cdd945c8711e63a095.jpg\n"
     ]
    },
    {
     "name": "stderr",
     "output_type": "stream",
     "text": [
      " 13%|█▎        | 365/2737 [02:13<15:51,  2.49it/s]"
     ]
    },
    {
     "name": "stdout",
     "output_type": "stream",
     "text": [
      "../input/painting-vs-photograph-classification-dataset/Raw Data/painting/10b19a062fbac8bef9acd63229df136149aa0617.jpg\n"
     ]
    },
    {
     "name": "stderr",
     "output_type": "stream",
     "text": [
      " 13%|█▎        | 366/2737 [02:13<17:51,  2.21it/s]"
     ]
    },
    {
     "name": "stdout",
     "output_type": "stream",
     "text": [
      "../input/painting-vs-photograph-classification-dataset/Raw Data/photos/a04835341eaa1c50aa08a354ea27ba3ec49805ef.jpg\n"
     ]
    },
    {
     "name": "stderr",
     "output_type": "stream",
     "text": [
      " 13%|█▎        | 367/2737 [02:14<15:20,  2.58it/s]"
     ]
    },
    {
     "name": "stdout",
     "output_type": "stream",
     "text": [
      "../input/painting-vs-photograph-classification-dataset/Raw Data/photos/e5cca09a87e7b20019288d5a0fd5b5998dabfb62.jpg\n"
     ]
    },
    {
     "name": "stderr",
     "output_type": "stream",
     "text": [
      " 13%|█▎        | 368/2737 [02:14<14:52,  2.65it/s]"
     ]
    },
    {
     "name": "stdout",
     "output_type": "stream",
     "text": [
      "../input/painting-vs-photograph-classification-dataset/Raw Data/photos/7872f31012fd49b3676badb3af9dbef69a106513.jpg\n"
     ]
    },
    {
     "name": "stderr",
     "output_type": "stream",
     "text": [
      " 13%|█▎        | 369/2737 [02:14<14:28,  2.73it/s]"
     ]
    },
    {
     "name": "stdout",
     "output_type": "stream",
     "text": [
      "../input/painting-vs-photograph-classification-dataset/Raw Data/photos/a0d88a3dad907103670e4dda789fefd5b4faaf02.jpg\n"
     ]
    },
    {
     "name": "stderr",
     "output_type": "stream",
     "text": [
      " 14%|█▎        | 370/2737 [02:14<12:50,  3.07it/s]"
     ]
    },
    {
     "name": "stdout",
     "output_type": "stream",
     "text": [
      "../input/painting-vs-photograph-classification-dataset/Raw Data/photos/633db1d43d953b5074921a75f5cb08ea7f3a64b5.jpg\n"
     ]
    },
    {
     "name": "stderr",
     "output_type": "stream",
     "text": [
      " 14%|█▎        | 371/2737 [02:15<11:29,  3.43it/s]"
     ]
    },
    {
     "name": "stdout",
     "output_type": "stream",
     "text": [
      "../input/painting-vs-photograph-classification-dataset/Raw Data/painting/9f130115ce98bfd3fa7ad914ec1e21de07d17cec.jpg\n"
     ]
    },
    {
     "name": "stderr",
     "output_type": "stream",
     "text": [
      " 14%|█▎        | 372/2737 [02:15<15:50,  2.49it/s]"
     ]
    },
    {
     "name": "stdout",
     "output_type": "stream",
     "text": [
      "../input/painting-vs-photograph-classification-dataset/Raw Data/photos/a7754931bb26984863d5cbc824dfc734201c4583.jpg\n"
     ]
    },
    {
     "name": "stderr",
     "output_type": "stream",
     "text": [
      " 14%|█▎        | 373/2737 [02:16<13:48,  2.85it/s]"
     ]
    },
    {
     "name": "stdout",
     "output_type": "stream",
     "text": [
      "../input/painting-vs-photograph-classification-dataset/Raw Data/photos/a74877e4ab6d8c31cd7fb3b8e8416c15a2538b66.jpg\n"
     ]
    },
    {
     "name": "stderr",
     "output_type": "stream",
     "text": [
      " 14%|█▎        | 374/2737 [02:16<12:07,  3.25it/s]"
     ]
    },
    {
     "name": "stdout",
     "output_type": "stream",
     "text": [
      "../input/painting-vs-photograph-classification-dataset/Raw Data/photos/f24aee8d1854c17a50481801133cbd90e3b7c6c6.jpg\n"
     ]
    },
    {
     "name": "stderr",
     "output_type": "stream",
     "text": [
      " 14%|█▎        | 375/2737 [02:16<11:06,  3.54it/s]"
     ]
    },
    {
     "name": "stdout",
     "output_type": "stream",
     "text": [
      "../input/painting-vs-photograph-classification-dataset/Raw Data/photos/b4276b7eb7e77358650cd4dec0472252bc3dd341.jpg\n"
     ]
    },
    {
     "name": "stderr",
     "output_type": "stream",
     "text": [
      " 14%|█▎        | 376/2737 [02:16<10:52,  3.62it/s]"
     ]
    },
    {
     "name": "stdout",
     "output_type": "stream",
     "text": [
      "../input/painting-vs-photograph-classification-dataset/Raw Data/photos/dcae5086cd7b8ea2ef21a1cc7d3d2d7a3fba34dd.jpg\n"
     ]
    },
    {
     "name": "stderr",
     "output_type": "stream",
     "text": [
      " 14%|█▍        | 377/2737 [02:17<10:25,  3.77it/s]"
     ]
    },
    {
     "name": "stdout",
     "output_type": "stream",
     "text": [
      "../input/painting-vs-photograph-classification-dataset/Raw Data/photos/117ce6ac0f81d80d8764634a798bd040728c661d.jpg\n"
     ]
    },
    {
     "name": "stderr",
     "output_type": "stream",
     "text": [
      " 14%|█▍        | 378/2737 [02:17<10:08,  3.88it/s]"
     ]
    },
    {
     "name": "stdout",
     "output_type": "stream",
     "text": [
      "../input/painting-vs-photograph-classification-dataset/Raw Data/painting/07960b9a6806f21e8e2e01895e967382d233b0e0.jpg\n"
     ]
    },
    {
     "name": "stderr",
     "output_type": "stream",
     "text": [
      " 14%|█▍        | 379/2737 [02:17<15:46,  2.49it/s]"
     ]
    },
    {
     "name": "stdout",
     "output_type": "stream",
     "text": [
      "../input/painting-vs-photograph-classification-dataset/Raw Data/photos/39d519a1354e556b7980bfabb3b180c6c9b8a7f6.jpg\n"
     ]
    },
    {
     "name": "stderr",
     "output_type": "stream",
     "text": [
      " 14%|█▍        | 380/2737 [02:18<15:05,  2.60it/s]"
     ]
    },
    {
     "name": "stdout",
     "output_type": "stream",
     "text": [
      "../input/painting-vs-photograph-classification-dataset/Raw Data/painting/f3b0553366fe61b8b0a2b81ef77397e926b6c108.jpg\n"
     ]
    },
    {
     "name": "stderr",
     "output_type": "stream",
     "text": [
      " 14%|█▍        | 381/2737 [02:19<19:20,  2.03it/s]"
     ]
    },
    {
     "name": "stdout",
     "output_type": "stream",
     "text": [
      "../input/painting-vs-photograph-classification-dataset/Raw Data/painting/534ebbdf134e39fd994ece443a7ca965230238d6.jpg\n"
     ]
    },
    {
     "name": "stderr",
     "output_type": "stream",
     "text": [
      " 14%|█▍        | 382/2737 [02:19<22:25,  1.75it/s]"
     ]
    },
    {
     "name": "stdout",
     "output_type": "stream",
     "text": [
      "../input/painting-vs-photograph-classification-dataset/Raw Data/painting/44c4b842ba7423bfe919248ca9543ead1a1d6f8f.jpg\n"
     ]
    },
    {
     "name": "stderr",
     "output_type": "stream",
     "text": [
      " 14%|█▍        | 384/2737 [02:20<19:37,  2.00it/s]"
     ]
    },
    {
     "name": "stdout",
     "output_type": "stream",
     "text": [
      "../input/painting-vs-photograph-classification-dataset/Raw Data/photos/ca02702f002a716859751543800c59cbda5c7839.jpg\n",
      "../input/painting-vs-photograph-classification-dataset/Raw Data/photos/b09106bf40046773671669464a34932a6b16888b.jpg\n"
     ]
    },
    {
     "name": "stderr",
     "output_type": "stream",
     "text": [
      " 14%|█▍        | 385/2737 [02:21<16:23,  2.39it/s]"
     ]
    },
    {
     "name": "stdout",
     "output_type": "stream",
     "text": [
      "../input/painting-vs-photograph-classification-dataset/Raw Data/photos/48b1d6df934245df7853328c7e0412b1ae9802d8.jpg\n"
     ]
    },
    {
     "name": "stderr",
     "output_type": "stream",
     "text": [
      " 14%|█▍        | 386/2737 [02:21<14:28,  2.71it/s]"
     ]
    },
    {
     "name": "stdout",
     "output_type": "stream",
     "text": [
      "../input/painting-vs-photograph-classification-dataset/Raw Data/photos/90757254d8a12190793bb9ac1f0df384e6d13117.jpg\n"
     ]
    },
    {
     "name": "stderr",
     "output_type": "stream",
     "text": [
      " 14%|█▍        | 387/2737 [02:21<12:55,  3.03it/s]"
     ]
    },
    {
     "name": "stdout",
     "output_type": "stream",
     "text": [
      "../input/painting-vs-photograph-classification-dataset/Raw Data/photos/90b5fff39ead4a0dd70f11e28544210286ec924b.jpg\n"
     ]
    },
    {
     "name": "stderr",
     "output_type": "stream",
     "text": [
      " 14%|█▍        | 388/2737 [02:21<11:53,  3.29it/s]"
     ]
    },
    {
     "name": "stdout",
     "output_type": "stream",
     "text": [
      "../input/painting-vs-photograph-classification-dataset/Raw Data/photos/318407396444d3d7d9d638a6aa34e0fcbc11795c.jpg\n"
     ]
    },
    {
     "name": "stderr",
     "output_type": "stream",
     "text": [
      " 14%|█▍        | 389/2737 [02:22<11:07,  3.52it/s]"
     ]
    },
    {
     "name": "stdout",
     "output_type": "stream",
     "text": [
      "../input/painting-vs-photograph-classification-dataset/Raw Data/photos/cb77f18715a839b78a116b5a5eab58cf29c428d8.jpg\n"
     ]
    },
    {
     "name": "stderr",
     "output_type": "stream",
     "text": [
      " 14%|█▍        | 391/2737 [02:22<09:27,  4.14it/s]"
     ]
    },
    {
     "name": "stdout",
     "output_type": "stream",
     "text": [
      "../input/painting-vs-photograph-classification-dataset/Raw Data/photos/032038557ac55fa7f0b0cf7d0f91c38fb9fd3a5f.jpg\n",
      "../input/painting-vs-photograph-classification-dataset/Raw Data/photos/8358f984558fc79ffc95f0c69fa9fe163ec4ce21.jpg\n"
     ]
    },
    {
     "name": "stderr",
     "output_type": "stream",
     "text": [
      " 14%|█▍        | 392/2737 [02:22<09:10,  4.26it/s]"
     ]
    },
    {
     "name": "stdout",
     "output_type": "stream",
     "text": [
      "../input/painting-vs-photograph-classification-dataset/Raw Data/photos/aaec49433ba3f7a3743936e7db64aa64fa9b4df9.jpg\n"
     ]
    },
    {
     "name": "stderr",
     "output_type": "stream",
     "text": [
      " 14%|█▍        | 393/2737 [02:22<09:32,  4.10it/s]"
     ]
    },
    {
     "name": "stdout",
     "output_type": "stream",
     "text": [
      "../input/painting-vs-photograph-classification-dataset/Raw Data/photos/ef3dc754d462518be4168bcae7bb5ab95be84bb3.jpg\n"
     ]
    },
    {
     "name": "stderr",
     "output_type": "stream",
     "text": [
      " 14%|█▍        | 394/2737 [02:23<09:34,  4.08it/s]"
     ]
    },
    {
     "name": "stdout",
     "output_type": "stream",
     "text": [
      "../input/painting-vs-photograph-classification-dataset/Raw Data/photos/4611169918ead5d60b78490c9236af5416b359c5.jpg\n"
     ]
    },
    {
     "name": "stderr",
     "output_type": "stream",
     "text": [
      " 14%|█▍        | 395/2737 [02:23<09:20,  4.18it/s]"
     ]
    },
    {
     "name": "stdout",
     "output_type": "stream",
     "text": [
      "../input/painting-vs-photograph-classification-dataset/Raw Data/photos/a425e7527bf464ae16f0b831491a522fdf3ee72d.jpg\n"
     ]
    },
    {
     "name": "stderr",
     "output_type": "stream",
     "text": [
      " 14%|█▍        | 396/2737 [02:23<09:12,  4.23it/s]"
     ]
    },
    {
     "name": "stdout",
     "output_type": "stream",
     "text": [
      "../input/painting-vs-photograph-classification-dataset/Raw Data/photos/77cafc6c395b104064b717f88c9251fd83d68db2.jpg\n"
     ]
    },
    {
     "name": "stderr",
     "output_type": "stream",
     "text": [
      " 15%|█▍        | 397/2737 [02:23<09:03,  4.30it/s]"
     ]
    },
    {
     "name": "stdout",
     "output_type": "stream",
     "text": [
      "../input/painting-vs-photograph-classification-dataset/Raw Data/photos/975b5caf5f6796b0ac2a56a033897f4ea240a611.jpg\n"
     ]
    },
    {
     "name": "stderr",
     "output_type": "stream",
     "text": [
      " 15%|█▍        | 398/2737 [02:24<08:59,  4.34it/s]"
     ]
    },
    {
     "name": "stdout",
     "output_type": "stream",
     "text": [
      "../input/painting-vs-photograph-classification-dataset/Raw Data/photos/ce8a8d9c7c7fdebd97684757af5f67ed328eb92b.jpg\n"
     ]
    },
    {
     "name": "stderr",
     "output_type": "stream",
     "text": [
      " 15%|█▍        | 400/2737 [02:24<09:15,  4.20it/s]"
     ]
    },
    {
     "name": "stdout",
     "output_type": "stream",
     "text": [
      "../input/painting-vs-photograph-classification-dataset/Raw Data/photos/97c111a88ae0149ca63e64d601be02356942d7fb.jpg\n",
      "../input/painting-vs-photograph-classification-dataset/Raw Data/photos/772744b979d2dccb570f55df2e938292b3bdc469.jpg\n"
     ]
    },
    {
     "name": "stderr",
     "output_type": "stream",
     "text": [
      " 15%|█▍        | 401/2737 [02:24<10:24,  3.74it/s]"
     ]
    },
    {
     "name": "stdout",
     "output_type": "stream",
     "text": [
      "../input/painting-vs-photograph-classification-dataset/Raw Data/photos/7104c14a6427f386a616f4bac2e5859d0e2c4951.jpg\n"
     ]
    },
    {
     "name": "stderr",
     "output_type": "stream",
     "text": [
      " 15%|█▍        | 402/2737 [02:25<10:01,  3.88it/s]"
     ]
    },
    {
     "name": "stdout",
     "output_type": "stream",
     "text": [
      "../input/painting-vs-photograph-classification-dataset/Raw Data/photos/39174d65ae9760a6bf202e1b48b60802fa1017e2.jpg\n"
     ]
    },
    {
     "name": "stderr",
     "output_type": "stream",
     "text": [
      " 15%|█▍        | 403/2737 [02:25<09:45,  3.99it/s]"
     ]
    },
    {
     "name": "stdout",
     "output_type": "stream",
     "text": [
      "../input/painting-vs-photograph-classification-dataset/Raw Data/photos/05efb5464708876e658913fc09fffae15fd6dac2.jpg\n"
     ]
    },
    {
     "name": "stderr",
     "output_type": "stream",
     "text": [
      " 15%|█▍        | 404/2737 [02:25<09:26,  4.12it/s]"
     ]
    },
    {
     "name": "stdout",
     "output_type": "stream",
     "text": [
      "../input/painting-vs-photograph-classification-dataset/Raw Data/photos/f29a4079dc566c022be6ace04a1d4b3efd1ca612.jpg\n"
     ]
    },
    {
     "name": "stderr",
     "output_type": "stream",
     "text": [
      " 15%|█▍        | 405/2737 [02:25<09:28,  4.10it/s]"
     ]
    },
    {
     "name": "stdout",
     "output_type": "stream",
     "text": [
      "../input/painting-vs-photograph-classification-dataset/Raw Data/painting/536478ec0f45e84674aa304f3b856ea758ba64e8.jpg\n"
     ]
    },
    {
     "name": "stderr",
     "output_type": "stream",
     "text": [
      " 15%|█▍        | 406/2737 [02:26<16:47,  2.31it/s]"
     ]
    },
    {
     "name": "stdout",
     "output_type": "stream",
     "text": [
      "../input/painting-vs-photograph-classification-dataset/Raw Data/photos/2bba01cb983d1d5de3e70dbcc550cef1f7494fe5.jpg\n"
     ]
    },
    {
     "name": "stderr",
     "output_type": "stream",
     "text": [
      " 15%|█▍        | 407/2737 [02:26<14:30,  2.68it/s]"
     ]
    },
    {
     "name": "stdout",
     "output_type": "stream",
     "text": [
      "../input/painting-vs-photograph-classification-dataset/Raw Data/photos/48b0dfd9e0d38145159f6bea7823b2764d86ab87.jpg\n"
     ]
    },
    {
     "name": "stderr",
     "output_type": "stream",
     "text": [
      " 15%|█▍        | 408/2737 [02:27<12:36,  3.08it/s]"
     ]
    },
    {
     "name": "stdout",
     "output_type": "stream",
     "text": [
      "../input/painting-vs-photograph-classification-dataset/Raw Data/painting/3b048e515bc21483415267dbb984011098433efc.jpg\n"
     ]
    },
    {
     "name": "stderr",
     "output_type": "stream",
     "text": [
      " 15%|█▍        | 409/2737 [02:27<16:23,  2.37it/s]"
     ]
    },
    {
     "name": "stdout",
     "output_type": "stream",
     "text": [
      "../input/painting-vs-photograph-classification-dataset/Raw Data/photos/1430d4a4ea3b74b86cd1fa3a54830fc37d4fbcf7.jpg\n"
     ]
    },
    {
     "name": "stderr",
     "output_type": "stream",
     "text": [
      " 15%|█▍        | 410/2737 [02:28<14:43,  2.63it/s]"
     ]
    },
    {
     "name": "stdout",
     "output_type": "stream",
     "text": [
      "../input/painting-vs-photograph-classification-dataset/Raw Data/photos/b364b2916bcadbd5eccffb3caa902a1ff10bbd0f.jpg\n"
     ]
    },
    {
     "name": "stderr",
     "output_type": "stream",
     "text": [
      " 15%|█▌        | 411/2737 [02:28<13:35,  2.85it/s]"
     ]
    },
    {
     "name": "stdout",
     "output_type": "stream",
     "text": [
      "../input/painting-vs-photograph-classification-dataset/Raw Data/photos/40bfd06532a02f24dd78379776c99e51898d2893.jpg\n"
     ]
    },
    {
     "name": "stderr",
     "output_type": "stream",
     "text": [
      " 15%|█▌        | 412/2737 [02:28<12:13,  3.17it/s]"
     ]
    },
    {
     "name": "stdout",
     "output_type": "stream",
     "text": [
      "../input/painting-vs-photograph-classification-dataset/Raw Data/painting/6d0db5c00326419d146e7002b7d1623c6ccf6994.jpg\n"
     ]
    },
    {
     "name": "stderr",
     "output_type": "stream",
     "text": [
      " 15%|█▌        | 413/2737 [02:29<18:17,  2.12it/s]"
     ]
    },
    {
     "name": "stdout",
     "output_type": "stream",
     "text": [
      "../input/painting-vs-photograph-classification-dataset/Raw Data/painting/039e0fc96b4c7e8c09489d14de22c01cedadf2d0.jpg\n"
     ]
    },
    {
     "name": "stderr",
     "output_type": "stream",
     "text": [
      " 15%|█▌        | 414/2737 [02:30<21:32,  1.80it/s]"
     ]
    },
    {
     "name": "stdout",
     "output_type": "stream",
     "text": [
      "../input/painting-vs-photograph-classification-dataset/Raw Data/painting/fa5883d1edced13ab0ee10e4cedf76842955fdc2.jpg\n"
     ]
    },
    {
     "name": "stderr",
     "output_type": "stream",
     "text": [
      " 15%|█▌        | 415/2737 [02:30<22:19,  1.73it/s]"
     ]
    },
    {
     "name": "stdout",
     "output_type": "stream",
     "text": [
      "../input/painting-vs-photograph-classification-dataset/Raw Data/photos/81841d35416312a17713fdffd2a75666cd4493b6.jpg\n"
     ]
    },
    {
     "name": "stderr",
     "output_type": "stream",
     "text": [
      " 15%|█▌        | 416/2737 [02:31<18:18,  2.11it/s]"
     ]
    },
    {
     "name": "stdout",
     "output_type": "stream",
     "text": [
      "../input/painting-vs-photograph-classification-dataset/Raw Data/painting/aa1b27fe2759d4098e81bc3e23ddcb530b9d9f6c.jpg\n"
     ]
    },
    {
     "name": "stderr",
     "output_type": "stream",
     "text": [
      " 15%|█▌        | 417/2737 [02:31<21:29,  1.80it/s]"
     ]
    },
    {
     "name": "stdout",
     "output_type": "stream",
     "text": [
      "../input/painting-vs-photograph-classification-dataset/Raw Data/painting/5dd905751cfc238363d2ca730f6bf9f0f786c662.jpg\n"
     ]
    },
    {
     "name": "stderr",
     "output_type": "stream",
     "text": [
      " 15%|█▌        | 418/2737 [02:32<22:13,  1.74it/s]"
     ]
    },
    {
     "name": "stdout",
     "output_type": "stream",
     "text": [
      "../input/painting-vs-photograph-classification-dataset/Raw Data/photos/230e3bfe3da41a3186a04086b523eccde47c437c.jpg\n"
     ]
    },
    {
     "name": "stderr",
     "output_type": "stream",
     "text": [
      " 15%|█▌        | 419/2737 [02:32<18:15,  2.12it/s]"
     ]
    },
    {
     "name": "stdout",
     "output_type": "stream",
     "text": [
      "../input/painting-vs-photograph-classification-dataset/Raw Data/photos/ed1103d1ea8793a6ce46aa526547c5a408c078e7.jpg\n"
     ]
    },
    {
     "name": "stderr",
     "output_type": "stream",
     "text": [
      " 15%|█▌        | 420/2737 [02:33<17:13,  2.24it/s]"
     ]
    },
    {
     "name": "stdout",
     "output_type": "stream",
     "text": [
      "../input/painting-vs-photograph-classification-dataset/Raw Data/painting/64d3cd0225ff9385e4ad849db84a894d7bcede7c.jpg\n"
     ]
    },
    {
     "name": "stderr",
     "output_type": "stream",
     "text": [
      " 15%|█▌        | 421/2737 [02:33<20:28,  1.89it/s]"
     ]
    },
    {
     "name": "stdout",
     "output_type": "stream",
     "text": [
      "../input/painting-vs-photograph-classification-dataset/Raw Data/painting/98c1571fdcae99bb1bf272cd46c29387125d8394.jpg\n"
     ]
    },
    {
     "name": "stderr",
     "output_type": "stream",
     "text": [
      " 15%|█▌        | 423/2737 [02:34<16:04,  2.40it/s]"
     ]
    },
    {
     "name": "stdout",
     "output_type": "stream",
     "text": [
      "../input/painting-vs-photograph-classification-dataset/Raw Data/photos/71beffd8792df33f5df7446118e400444654a75d.jpg\n",
      "../input/painting-vs-photograph-classification-dataset/Raw Data/photos/a9236e86f47a5610028280096a885129e9dece9f.jpg\n"
     ]
    },
    {
     "name": "stderr",
     "output_type": "stream",
     "text": [
      " 15%|█▌        | 424/2737 [02:34<13:53,  2.77it/s]"
     ]
    },
    {
     "name": "stdout",
     "output_type": "stream",
     "text": [
      "../input/painting-vs-photograph-classification-dataset/Raw Data/painting/16c27d5aa0214a33783a78e54386b014aad6e97b.jpg\n"
     ]
    },
    {
     "name": "stderr",
     "output_type": "stream",
     "text": [
      " 16%|█▌        | 425/2737 [02:35<18:39,  2.07it/s]"
     ]
    },
    {
     "name": "stdout",
     "output_type": "stream",
     "text": [
      "../input/painting-vs-photograph-classification-dataset/Raw Data/photos/9205f856c0189ae4966e2f7161a7681bfe05c0d4.jpg\n"
     ]
    },
    {
     "name": "stderr",
     "output_type": "stream",
     "text": [
      " 16%|█▌        | 426/2737 [02:35<15:58,  2.41it/s]"
     ]
    },
    {
     "name": "stdout",
     "output_type": "stream",
     "text": [
      "../input/painting-vs-photograph-classification-dataset/Raw Data/photos/55dbf7619c5fed7f1b998ab1ac526e2161ce8ce4.jpg\n"
     ]
    },
    {
     "name": "stderr",
     "output_type": "stream",
     "text": [
      " 16%|█▌        | 427/2737 [02:35<14:07,  2.73it/s]"
     ]
    },
    {
     "name": "stdout",
     "output_type": "stream",
     "text": [
      "../input/painting-vs-photograph-classification-dataset/Raw Data/photos/df9d1f1a253f0d7ce26cbad79dd3f47c5c4f67d7.jpg\n"
     ]
    },
    {
     "name": "stderr",
     "output_type": "stream",
     "text": [
      " 16%|█▌        | 428/2737 [02:36<12:34,  3.06it/s]"
     ]
    },
    {
     "name": "stdout",
     "output_type": "stream",
     "text": [
      "../input/painting-vs-photograph-classification-dataset/Raw Data/photos/628b74d6d5791d2003f4a422c5d6d60f3c2079a6.jpg\n"
     ]
    },
    {
     "name": "stderr",
     "output_type": "stream",
     "text": [
      " 16%|█▌        | 429/2737 [02:36<11:14,  3.42it/s]"
     ]
    },
    {
     "name": "stdout",
     "output_type": "stream",
     "text": [
      "../input/painting-vs-photograph-classification-dataset/Raw Data/photos/cd7916d268ee9fd076ecf63b2a567b6e0d0f449f.jpg\n"
     ]
    },
    {
     "name": "stderr",
     "output_type": "stream",
     "text": [
      " 16%|█▌        | 430/2737 [02:36<10:32,  3.65it/s]"
     ]
    },
    {
     "name": "stdout",
     "output_type": "stream",
     "text": [
      "../input/painting-vs-photograph-classification-dataset/Raw Data/painting/7b267218489291f4c33575e45733de4e91ef2052.jpg\n"
     ]
    },
    {
     "name": "stderr",
     "output_type": "stream",
     "text": [
      " 16%|█▌        | 432/2737 [02:37<13:15,  2.90it/s]"
     ]
    },
    {
     "name": "stdout",
     "output_type": "stream",
     "text": [
      "../input/painting-vs-photograph-classification-dataset/Raw Data/photos/61d616389a98bbcb1745f1832f6e81b19f75e6d1.jpg\n",
      "../input/painting-vs-photograph-classification-dataset/Raw Data/photos/bca9b84c3629575186aec144e5a8354436822ca5.jpg\n"
     ]
    },
    {
     "name": "stderr",
     "output_type": "stream",
     "text": [
      " 16%|█▌        | 433/2737 [02:37<11:58,  3.21it/s]"
     ]
    },
    {
     "name": "stdout",
     "output_type": "stream",
     "text": [
      "../input/painting-vs-photograph-classification-dataset/Raw Data/photos/dd00604eac3aaa88075246e2e4ebc33b8e5102f7.jpg\n"
     ]
    },
    {
     "name": "stderr",
     "output_type": "stream",
     "text": [
      " 16%|█▌        | 434/2737 [02:38<11:00,  3.48it/s]"
     ]
    },
    {
     "name": "stdout",
     "output_type": "stream",
     "text": [
      "../input/painting-vs-photograph-classification-dataset/Raw Data/painting/e394fa8ab128721f79123a001b83bedede9864e1.jpg\n"
     ]
    },
    {
     "name": "stderr",
     "output_type": "stream",
     "text": [
      " 16%|█▌        | 435/2737 [02:39<19:59,  1.92it/s]"
     ]
    },
    {
     "name": "stdout",
     "output_type": "stream",
     "text": [
      "../input/painting-vs-photograph-classification-dataset/Raw Data/photos/d1d3cf9ad4eeb7fe6f33e9ee4914b5c49de201f4.jpg\n"
     ]
    },
    {
     "name": "stderr",
     "output_type": "stream",
     "text": [
      " 16%|█▌        | 436/2737 [02:39<17:28,  2.19it/s]"
     ]
    },
    {
     "name": "stdout",
     "output_type": "stream",
     "text": [
      "../input/painting-vs-photograph-classification-dataset/Raw Data/photos/b814029e302a2819b6fcdd5a8466cc11d972dd8b.jpg\n"
     ]
    },
    {
     "name": "stderr",
     "output_type": "stream",
     "text": [
      " 16%|█▌        | 437/2737 [02:39<15:34,  2.46it/s]"
     ]
    },
    {
     "name": "stdout",
     "output_type": "stream",
     "text": [
      "../input/painting-vs-photograph-classification-dataset/Raw Data/painting/f09e3dd687039a62f1158266a14c9a1b73792f55.jpg\n"
     ]
    },
    {
     "name": "stderr",
     "output_type": "stream",
     "text": [
      " 16%|█▌        | 438/2737 [02:40<18:42,  2.05it/s]"
     ]
    },
    {
     "name": "stdout",
     "output_type": "stream",
     "text": [
      "../input/painting-vs-photograph-classification-dataset/Raw Data/photos/b1dfee5ff32a212eb227557a2731adb64be813d1.jpg\n"
     ]
    },
    {
     "name": "stderr",
     "output_type": "stream",
     "text": [
      " 16%|█▌        | 439/2737 [02:40<15:39,  2.45it/s]"
     ]
    },
    {
     "name": "stdout",
     "output_type": "stream",
     "text": [
      "../input/painting-vs-photograph-classification-dataset/Raw Data/painting/c81f6c90a5e748402f26d9b53a424fb4173fc823.jpg\n"
     ]
    },
    {
     "name": "stderr",
     "output_type": "stream",
     "text": [
      " 16%|█▌        | 440/2737 [02:41<23:35,  1.62it/s]"
     ]
    },
    {
     "name": "stdout",
     "output_type": "stream",
     "text": [
      "../input/painting-vs-photograph-classification-dataset/Raw Data/photos/f92f420414172b4581ac61dbcaae3d11e6160313.jpg\n"
     ]
    },
    {
     "name": "stderr",
     "output_type": "stream",
     "text": [
      " 16%|█▌        | 441/2737 [02:41<19:16,  1.99it/s]"
     ]
    },
    {
     "name": "stdout",
     "output_type": "stream",
     "text": [
      "../input/painting-vs-photograph-classification-dataset/Raw Data/photos/f4545d234e3e3d4304a92924bacf442eea3bf15a.jpg\n"
     ]
    },
    {
     "name": "stderr",
     "output_type": "stream",
     "text": [
      " 16%|█▌        | 442/2737 [02:42<16:06,  2.37it/s]"
     ]
    },
    {
     "name": "stdout",
     "output_type": "stream",
     "text": [
      "../input/painting-vs-photograph-classification-dataset/Raw Data/photos/9277d4d0df9b53201cb010321ed9e1a9a4e16b1c.jpg\n"
     ]
    },
    {
     "name": "stderr",
     "output_type": "stream",
     "text": [
      " 16%|█▌        | 443/2737 [02:42<13:53,  2.75it/s]"
     ]
    },
    {
     "name": "stdout",
     "output_type": "stream",
     "text": [
      "../input/painting-vs-photograph-classification-dataset/Raw Data/photos/c310c7585105879d18a9b8883f44bfe9810b04f5.jpg\n"
     ]
    },
    {
     "name": "stderr",
     "output_type": "stream",
     "text": [
      " 16%|█▌        | 444/2737 [02:42<12:19,  3.10it/s]"
     ]
    },
    {
     "name": "stdout",
     "output_type": "stream",
     "text": [
      "../input/painting-vs-photograph-classification-dataset/Raw Data/photos/56863cec572604415091be8cbc83a3fcc4d95e46.jpg\n"
     ]
    },
    {
     "name": "stderr",
     "output_type": "stream",
     "text": [
      " 16%|█▋        | 445/2737 [02:42<11:33,  3.30it/s]"
     ]
    },
    {
     "name": "stdout",
     "output_type": "stream",
     "text": [
      "../input/painting-vs-photograph-classification-dataset/Raw Data/photos/f3e72f2b833add48fe27dc2e604c0a471a3f389d.jpg\n"
     ]
    },
    {
     "name": "stderr",
     "output_type": "stream",
     "text": [
      " 16%|█▋        | 446/2737 [02:43<10:47,  3.54it/s]"
     ]
    },
    {
     "name": "stdout",
     "output_type": "stream",
     "text": [
      "../input/painting-vs-photograph-classification-dataset/Raw Data/photos/f580248264995ee34eb531ca72ffdeb9d790400b.jpg\n"
     ]
    },
    {
     "name": "stderr",
     "output_type": "stream",
     "text": [
      " 16%|█▋        | 447/2737 [02:43<10:13,  3.73it/s]"
     ]
    },
    {
     "name": "stdout",
     "output_type": "stream",
     "text": [
      "../input/painting-vs-photograph-classification-dataset/Raw Data/photos/a1cbe6a39e933ca04d360abf7f9328f76d2b276f.jpg\n"
     ]
    },
    {
     "name": "stderr",
     "output_type": "stream",
     "text": [
      " 16%|█▋        | 448/2737 [02:43<09:30,  4.01it/s]"
     ]
    },
    {
     "name": "stdout",
     "output_type": "stream",
     "text": [
      "../input/painting-vs-photograph-classification-dataset/Raw Data/photos/ec50ecc94359f97089ece512561fa3e95fb0b020.jpg\n"
     ]
    },
    {
     "name": "stderr",
     "output_type": "stream",
     "text": [
      " 16%|█▋        | 449/2737 [02:43<09:36,  3.97it/s]"
     ]
    },
    {
     "name": "stdout",
     "output_type": "stream",
     "text": [
      "../input/painting-vs-photograph-classification-dataset/Raw Data/photos/65936bba1f1581a6ed9a83fb2230f6f9348fe671.jpg\n"
     ]
    },
    {
     "name": "stderr",
     "output_type": "stream",
     "text": [
      " 16%|█▋        | 450/2737 [02:44<09:18,  4.10it/s]"
     ]
    },
    {
     "name": "stdout",
     "output_type": "stream",
     "text": [
      "../input/painting-vs-photograph-classification-dataset/Raw Data/painting/026f6cfdb6f0ea49b5d68418a3d18cce77b18e67.jpg\n"
     ]
    },
    {
     "name": "stderr",
     "output_type": "stream",
     "text": [
      " 16%|█▋        | 451/2737 [02:44<15:37,  2.44it/s]"
     ]
    },
    {
     "name": "stdout",
     "output_type": "stream",
     "text": [
      "../input/painting-vs-photograph-classification-dataset/Raw Data/painting/d05d4a23ef46b4944b34b67d33a5a2d168b8a5fc.jpg\n"
     ]
    },
    {
     "name": "stderr",
     "output_type": "stream",
     "text": [
      " 17%|█▋        | 452/2737 [02:45<22:58,  1.66it/s]"
     ]
    },
    {
     "name": "stdout",
     "output_type": "stream",
     "text": [
      "../input/painting-vs-photograph-classification-dataset/Raw Data/photos/c447433effb99c8030964074b21da6796d0d4faf.jpg\n"
     ]
    },
    {
     "name": "stderr",
     "output_type": "stream",
     "text": [
      " 17%|█▋        | 453/2737 [02:46<18:47,  2.03it/s]"
     ]
    },
    {
     "name": "stdout",
     "output_type": "stream",
     "text": [
      "../input/painting-vs-photograph-classification-dataset/Raw Data/photos/75fbaa0df680f03e1ea95b68abe31dacdc595041.jpg\n"
     ]
    },
    {
     "name": "stderr",
     "output_type": "stream",
     "text": [
      " 17%|█▋        | 454/2737 [02:46<15:39,  2.43it/s]"
     ]
    },
    {
     "name": "stdout",
     "output_type": "stream",
     "text": [
      "../input/painting-vs-photograph-classification-dataset/Raw Data/photos/eeb980959680d28111586180c3a1467f4d454126.jpg\n"
     ]
    },
    {
     "name": "stderr",
     "output_type": "stream",
     "text": [
      " 17%|█▋        | 455/2737 [02:46<13:34,  2.80it/s]"
     ]
    },
    {
     "name": "stdout",
     "output_type": "stream",
     "text": [
      "../input/painting-vs-photograph-classification-dataset/Raw Data/photos/603ed77fedf1de62e9b10bfa15386a03a8754994.jpg\n"
     ]
    },
    {
     "name": "stderr",
     "output_type": "stream",
     "text": [
      " 17%|█▋        | 456/2737 [02:46<12:08,  3.13it/s]"
     ]
    },
    {
     "name": "stdout",
     "output_type": "stream",
     "text": [
      "../input/painting-vs-photograph-classification-dataset/Raw Data/photos/65799fb92efa964563878021170ac85166834d32.jpg\n"
     ]
    },
    {
     "name": "stderr",
     "output_type": "stream",
     "text": [
      " 17%|█▋        | 457/2737 [02:47<11:46,  3.23it/s]"
     ]
    },
    {
     "name": "stdout",
     "output_type": "stream",
     "text": [
      "../input/painting-vs-photograph-classification-dataset/Raw Data/photos/d368fdfca94dba09749413a9e195094339b0a3ca.jpg\n"
     ]
    },
    {
     "name": "stderr",
     "output_type": "stream",
     "text": [
      " 17%|█▋        | 458/2737 [02:47<11:14,  3.38it/s]"
     ]
    },
    {
     "name": "stdout",
     "output_type": "stream",
     "text": [
      "../input/painting-vs-photograph-classification-dataset/Raw Data/photos/6636afdd3de2ddfa1ca5114d83731e0ccf01efbe.jpg\n"
     ]
    },
    {
     "name": "stderr",
     "output_type": "stream",
     "text": [
      " 17%|█▋        | 459/2737 [02:47<10:21,  3.66it/s]"
     ]
    },
    {
     "name": "stdout",
     "output_type": "stream",
     "text": [
      "../input/painting-vs-photograph-classification-dataset/Raw Data/photos/c257d226e6b7c2ae4cc5323972d9cdbccf705554.jpg\n"
     ]
    },
    {
     "name": "stderr",
     "output_type": "stream",
     "text": [
      " 17%|█▋        | 461/2737 [02:47<08:47,  4.31it/s]"
     ]
    },
    {
     "name": "stdout",
     "output_type": "stream",
     "text": [
      "../input/painting-vs-photograph-classification-dataset/Raw Data/photos/730f2cafa480a018066ed06ede5a29b55d68fd68.jpg\n",
      "../input/painting-vs-photograph-classification-dataset/Raw Data/photos/f748496c3b0a83e6fdd03132e8778002b99821a8.jpg\n"
     ]
    },
    {
     "name": "stderr",
     "output_type": "stream",
     "text": [
      " 17%|█▋        | 462/2737 [02:48<08:51,  4.28it/s]"
     ]
    },
    {
     "name": "stdout",
     "output_type": "stream",
     "text": [
      "../input/painting-vs-photograph-classification-dataset/Raw Data/photos/72eaf8c0897a03c7de48955dcc05089c6cad3f57.jpg\n"
     ]
    },
    {
     "name": "stderr",
     "output_type": "stream",
     "text": [
      " 17%|█▋        | 463/2737 [02:48<08:44,  4.33it/s]"
     ]
    },
    {
     "name": "stdout",
     "output_type": "stream",
     "text": [
      "../input/painting-vs-photograph-classification-dataset/Raw Data/painting/eeed017735b3f9a45dee0db3e0f9a89d27105bf7.jpg\n"
     ]
    },
    {
     "name": "stderr",
     "output_type": "stream",
     "text": [
      " 17%|█▋        | 464/2737 [02:49<14:55,  2.54it/s]"
     ]
    },
    {
     "name": "stdout",
     "output_type": "stream",
     "text": [
      "../input/painting-vs-photograph-classification-dataset/Raw Data/photos/15384dad3fe32f1d279ead18ead4e9778d5e6ed1.jpg\n"
     ]
    },
    {
     "name": "stderr",
     "output_type": "stream",
     "text": [
      " 17%|█▋        | 465/2737 [02:49<13:53,  2.72it/s]"
     ]
    },
    {
     "name": "stdout",
     "output_type": "stream",
     "text": [
      "../input/painting-vs-photograph-classification-dataset/Raw Data/photos/a263032445f622010fdcbc0ae04a3f017a4f1cac.jpg\n"
     ]
    },
    {
     "name": "stderr",
     "output_type": "stream",
     "text": [
      " 17%|█▋        | 466/2737 [02:49<12:29,  3.03it/s]"
     ]
    },
    {
     "name": "stdout",
     "output_type": "stream",
     "text": [
      "../input/painting-vs-photograph-classification-dataset/Raw Data/painting/f3e1281f3a7a6ea66da35616501d096ffcaa4ecf.jpg\n"
     ]
    },
    {
     "name": "stderr",
     "output_type": "stream",
     "text": [
      " 17%|█▋        | 467/2737 [02:50<14:38,  2.59it/s]"
     ]
    },
    {
     "name": "stdout",
     "output_type": "stream",
     "text": [
      "../input/painting-vs-photograph-classification-dataset/Raw Data/photos/053586b3ce3c66a13d6954dd0657c2ec919f2704.jpg\n"
     ]
    },
    {
     "name": "stderr",
     "output_type": "stream",
     "text": [
      " 17%|█▋        | 468/2737 [02:50<12:52,  2.94it/s]"
     ]
    },
    {
     "name": "stdout",
     "output_type": "stream",
     "text": [
      "../input/painting-vs-photograph-classification-dataset/Raw Data/painting/e0529473f516366f61810a0441c9b80e8d4d560d.jpg\n"
     ]
    },
    {
     "name": "stderr",
     "output_type": "stream",
     "text": [
      " 17%|█▋        | 469/2737 [02:51<21:02,  1.80it/s]"
     ]
    },
    {
     "name": "stdout",
     "output_type": "stream",
     "text": [
      "../input/painting-vs-photograph-classification-dataset/Raw Data/photos/e1cf7aa86f64dd4ea0c0dd4172bdc51f69cfca4d.jpg\n"
     ]
    },
    {
     "name": "stderr",
     "output_type": "stream",
     "text": [
      " 17%|█▋        | 470/2737 [02:51<18:53,  2.00it/s]"
     ]
    },
    {
     "name": "stdout",
     "output_type": "stream",
     "text": [
      "../input/painting-vs-photograph-classification-dataset/Raw Data/photos/c7201ce3d58b486954122ca8d71718c2b718ab62.jpg\n"
     ]
    },
    {
     "name": "stderr",
     "output_type": "stream",
     "text": [
      " 17%|█▋        | 471/2737 [02:52<15:52,  2.38it/s]"
     ]
    },
    {
     "name": "stdout",
     "output_type": "stream",
     "text": [
      "../input/painting-vs-photograph-classification-dataset/Raw Data/photos/fd8ee7844a6836238349c3e64143720455cab87a.jpg\n"
     ]
    },
    {
     "name": "stderr",
     "output_type": "stream",
     "text": [
      " 17%|█▋        | 472/2737 [02:52<13:46,  2.74it/s]"
     ]
    },
    {
     "name": "stdout",
     "output_type": "stream",
     "text": [
      "../input/painting-vs-photograph-classification-dataset/Raw Data/painting/e56391a90bf2a7c3dbf732cec54be2b8aaaf33b3.jpg\n"
     ]
    },
    {
     "name": "stderr",
     "output_type": "stream",
     "text": [
      " 17%|█▋        | 474/2737 [02:53<14:02,  2.69it/s]"
     ]
    },
    {
     "name": "stdout",
     "output_type": "stream",
     "text": [
      "../input/painting-vs-photograph-classification-dataset/Raw Data/photos/76b5487bdba1745aa07195d8700080f14f410da7.jpg\n",
      "../input/painting-vs-photograph-classification-dataset/Raw Data/photos/e5f8403e100d032fc2c52dff96920152de739649.jpg\n"
     ]
    },
    {
     "name": "stderr",
     "output_type": "stream",
     "text": [
      " 17%|█▋        | 475/2737 [02:53<12:26,  3.03it/s]"
     ]
    },
    {
     "name": "stdout",
     "output_type": "stream",
     "text": [
      "../input/painting-vs-photograph-classification-dataset/Raw Data/photos/c4276fda6bb30d0e314d8c928770930e390f7509.jpg\n"
     ]
    },
    {
     "name": "stderr",
     "output_type": "stream",
     "text": [
      " 17%|█▋        | 477/2737 [02:53<09:50,  3.83it/s]"
     ]
    },
    {
     "name": "stdout",
     "output_type": "stream",
     "text": [
      "../input/painting-vs-photograph-classification-dataset/Raw Data/photos/4683fbc969ddd0b941215c9c75bcb8a7bbe843eb.jpg\n",
      "../input/painting-vs-photograph-classification-dataset/Raw Data/photos/1217b390b6ebd88062931056e5de64f90f122ced.jpg\n"
     ]
    },
    {
     "name": "stderr",
     "output_type": "stream",
     "text": [
      " 17%|█▋        | 478/2737 [02:54<09:36,  3.92it/s]"
     ]
    },
    {
     "name": "stdout",
     "output_type": "stream",
     "text": [
      "../input/painting-vs-photograph-classification-dataset/Raw Data/painting/efdba190a4a65a2b0fcbf8eef5d09eb5b2c921be.jpg\n"
     ]
    },
    {
     "name": "stderr",
     "output_type": "stream",
     "text": [
      " 18%|█▊        | 479/2737 [02:54<15:44,  2.39it/s]"
     ]
    },
    {
     "name": "stdout",
     "output_type": "stream",
     "text": [
      "../input/painting-vs-photograph-classification-dataset/Raw Data/photos/277a53c898d171dc96f5863b96730b11deaddb47.jpg\n"
     ]
    },
    {
     "name": "stderr",
     "output_type": "stream",
     "text": [
      " 18%|█▊        | 480/2737 [02:55<13:29,  2.79it/s]"
     ]
    },
    {
     "name": "stdout",
     "output_type": "stream",
     "text": [
      "../input/painting-vs-photograph-classification-dataset/Raw Data/painting/23a98941151c01de5fb28b8dfc4dd0b075213c95.jpg\n"
     ]
    },
    {
     "name": "stderr",
     "output_type": "stream",
     "text": [
      " 18%|█▊        | 481/2737 [02:55<15:08,  2.48it/s]"
     ]
    },
    {
     "name": "stdout",
     "output_type": "stream",
     "text": [
      "../input/painting-vs-photograph-classification-dataset/Raw Data/photos/47c8d94850a6f9ab56c763d80b6f277b41c5adbc.jpg\n"
     ]
    },
    {
     "name": "stderr",
     "output_type": "stream",
     "text": [
      " 18%|█▊        | 482/2737 [02:55<13:19,  2.82it/s]"
     ]
    },
    {
     "name": "stdout",
     "output_type": "stream",
     "text": [
      "../input/painting-vs-photograph-classification-dataset/Raw Data/photos/c035fb1743208eb7915ec26aa7a9b94ad3007cb6.jpg\n"
     ]
    },
    {
     "name": "stderr",
     "output_type": "stream",
     "text": [
      " 18%|█▊        | 483/2737 [02:56<11:52,  3.16it/s]"
     ]
    },
    {
     "name": "stdout",
     "output_type": "stream",
     "text": [
      "../input/painting-vs-photograph-classification-dataset/Raw Data/painting/0de1fb90ca08dd3861df188e7e7b915303227a5d.jpg\n"
     ]
    },
    {
     "name": "stderr",
     "output_type": "stream",
     "text": [
      " 18%|█▊        | 484/2737 [02:56<17:04,  2.20it/s]"
     ]
    },
    {
     "name": "stdout",
     "output_type": "stream",
     "text": [
      "../input/painting-vs-photograph-classification-dataset/Raw Data/photos/a5f9bfd4eeaaf95dc343d987606818fad67ecaea.jpg\n"
     ]
    },
    {
     "name": "stderr",
     "output_type": "stream",
     "text": [
      " 18%|█▊        | 485/2737 [02:57<15:02,  2.49it/s]"
     ]
    },
    {
     "name": "stdout",
     "output_type": "stream",
     "text": [
      "../input/painting-vs-photograph-classification-dataset/Raw Data/photos/e4bf5e0f62e8231c5ff2d1da83f0ce69ea78a1d1.jpg\n"
     ]
    },
    {
     "name": "stderr",
     "output_type": "stream",
     "text": [
      " 18%|█▊        | 486/2737 [02:57<12:47,  2.93it/s]"
     ]
    },
    {
     "name": "stdout",
     "output_type": "stream",
     "text": [
      "../input/painting-vs-photograph-classification-dataset/Raw Data/photos/669844f99fb0e569a381ff073be9051be763e36d.jpg\n"
     ]
    },
    {
     "name": "stderr",
     "output_type": "stream",
     "text": [
      " 18%|█▊        | 487/2737 [02:57<12:05,  3.10it/s]"
     ]
    },
    {
     "name": "stdout",
     "output_type": "stream",
     "text": [
      "../input/painting-vs-photograph-classification-dataset/Raw Data/photos/331a6246cbaec3375ff8289f6fbca05f61f96c85.jpg\n"
     ]
    },
    {
     "name": "stderr",
     "output_type": "stream",
     "text": [
      " 18%|█▊        | 488/2737 [02:57<11:04,  3.39it/s]"
     ]
    },
    {
     "name": "stdout",
     "output_type": "stream",
     "text": [
      "../input/painting-vs-photograph-classification-dataset/Raw Data/photos/c2ae6eaf75a91f6614ff611bd9dbfff8169b4ff7.jpg\n"
     ]
    },
    {
     "name": "stderr",
     "output_type": "stream",
     "text": [
      " 18%|█▊        | 489/2737 [02:58<10:26,  3.59it/s]"
     ]
    },
    {
     "name": "stdout",
     "output_type": "stream",
     "text": [
      "../input/painting-vs-photograph-classification-dataset/Raw Data/photos/cf50dd85e9d7568e24ea970723b672395dadb02a.jpg\n"
     ]
    },
    {
     "name": "stderr",
     "output_type": "stream",
     "text": [
      " 18%|█▊        | 490/2737 [02:58<09:35,  3.91it/s]"
     ]
    },
    {
     "name": "stdout",
     "output_type": "stream",
     "text": [
      "../input/painting-vs-photograph-classification-dataset/Raw Data/painting/34c00ff081d150583411df76174bdddd103bbc05.jpg\n"
     ]
    },
    {
     "name": "stderr",
     "output_type": "stream",
     "text": [
      " 18%|█▊        | 492/2737 [02:59<11:50,  3.16it/s]"
     ]
    },
    {
     "name": "stdout",
     "output_type": "stream",
     "text": [
      "../input/painting-vs-photograph-classification-dataset/Raw Data/photos/39c3acc70950e6f9a1b33b456075de7f5a7fe04f.jpg\n",
      "../input/painting-vs-photograph-classification-dataset/Raw Data/painting/d53a061dc8e42e62bfd90e2b3ddd881f49004d32.jpg\n"
     ]
    },
    {
     "name": "stderr",
     "output_type": "stream",
     "text": [
      " 18%|█▊        | 493/2737 [03:00<19:54,  1.88it/s]"
     ]
    },
    {
     "name": "stdout",
     "output_type": "stream",
     "text": [
      "../input/painting-vs-photograph-classification-dataset/Raw Data/photos/bb9bc7b1bef359a91008146c4bde329289b5c924.jpg\n"
     ]
    },
    {
     "name": "stderr",
     "output_type": "stream",
     "text": [
      " 18%|█▊        | 494/2737 [03:00<16:32,  2.26it/s]"
     ]
    },
    {
     "name": "stdout",
     "output_type": "stream",
     "text": [
      "../input/painting-vs-photograph-classification-dataset/Raw Data/painting/27c8db3f24071f0dbcc233af6e3e0571e883fd21.jpg\n"
     ]
    },
    {
     "name": "stderr",
     "output_type": "stream",
     "text": [
      " 18%|█▊        | 495/2737 [03:01<22:54,  1.63it/s]"
     ]
    },
    {
     "name": "stdout",
     "output_type": "stream",
     "text": [
      "../input/painting-vs-photograph-classification-dataset/Raw Data/photos/00477402da576fae7db63e184048f00ce6cb56de.jpg\n"
     ]
    },
    {
     "name": "stderr",
     "output_type": "stream",
     "text": [
      " 18%|█▊        | 496/2737 [03:01<18:19,  2.04it/s]"
     ]
    },
    {
     "name": "stdout",
     "output_type": "stream",
     "text": [
      "../input/painting-vs-photograph-classification-dataset/Raw Data/photos/54a2f757bd5c2225ee7bc68643c6950f244e51ce.jpg\n"
     ]
    },
    {
     "name": "stderr",
     "output_type": "stream",
     "text": [
      " 18%|█▊        | 497/2737 [03:01<15:28,  2.41it/s]"
     ]
    },
    {
     "name": "stdout",
     "output_type": "stream",
     "text": [
      "../input/painting-vs-photograph-classification-dataset/Raw Data/photos/f18bd5756e4366abd067b6a8e022414bb562a294.jpg\n"
     ]
    },
    {
     "name": "stderr",
     "output_type": "stream",
     "text": [
      " 18%|█▊        | 498/2737 [03:02<13:30,  2.76it/s]"
     ]
    },
    {
     "name": "stdout",
     "output_type": "stream",
     "text": [
      "../input/painting-vs-photograph-classification-dataset/Raw Data/photos/eadaeb107059c90b0c06038d849b216d9bae96f1.jpg\n"
     ]
    },
    {
     "name": "stderr",
     "output_type": "stream",
     "text": [
      " 18%|█▊        | 499/2737 [03:02<12:07,  3.07it/s]"
     ]
    },
    {
     "name": "stdout",
     "output_type": "stream",
     "text": [
      "../input/painting-vs-photograph-classification-dataset/Raw Data/photos/121fc57f33dfb2af4e15427c0d09df4a10853739.jpg\n"
     ]
    },
    {
     "name": "stderr",
     "output_type": "stream",
     "text": [
      " 18%|█▊        | 500/2737 [03:02<12:21,  3.02it/s]"
     ]
    },
    {
     "name": "stdout",
     "output_type": "stream",
     "text": [
      "../input/painting-vs-photograph-classification-dataset/Raw Data/photos/a5ee1c807940e6ff882e1e13fa7cb3734fbf8c0b.jpg\n"
     ]
    },
    {
     "name": "stderr",
     "output_type": "stream",
     "text": [
      " 18%|█▊        | 501/2737 [03:02<11:12,  3.33it/s]"
     ]
    },
    {
     "name": "stdout",
     "output_type": "stream",
     "text": [
      "../input/painting-vs-photograph-classification-dataset/Raw Data/photos/bb0ebd73a63ea401f269a04b3c996dde4e6821f6.jpg\n"
     ]
    },
    {
     "name": "stderr",
     "output_type": "stream",
     "text": [
      " 18%|█▊        | 502/2737 [03:03<10:13,  3.64it/s]"
     ]
    },
    {
     "name": "stdout",
     "output_type": "stream",
     "text": [
      "../input/painting-vs-photograph-classification-dataset/Raw Data/photos/fc6b38f72c153e682e5cc9f2687f0d483fc206da.jpg\n"
     ]
    },
    {
     "name": "stderr",
     "output_type": "stream",
     "text": [
      " 18%|█▊        | 503/2737 [03:03<09:25,  3.95it/s]"
     ]
    },
    {
     "name": "stdout",
     "output_type": "stream",
     "text": [
      "../input/painting-vs-photograph-classification-dataset/Raw Data/photos/e12419d266c3a4aa07007140af74d6332d3be309.jpg\n"
     ]
    },
    {
     "name": "stderr",
     "output_type": "stream",
     "text": [
      " 18%|█▊        | 504/2737 [03:03<09:32,  3.90it/s]"
     ]
    },
    {
     "name": "stdout",
     "output_type": "stream",
     "text": [
      "../input/painting-vs-photograph-classification-dataset/Raw Data/photos/54820d8b61f8993fe3ab0dea4c75f0a92eabd84e.jpg\n"
     ]
    },
    {
     "name": "stderr",
     "output_type": "stream",
     "text": [
      " 18%|█▊        | 505/2737 [03:03<09:17,  4.01it/s]"
     ]
    },
    {
     "name": "stdout",
     "output_type": "stream",
     "text": [
      "../input/painting-vs-photograph-classification-dataset/Raw Data/painting/f8aae78ac6b885e9fdee7a3deb76b225ac9193cd.jpg\n"
     ]
    },
    {
     "name": "stderr",
     "output_type": "stream",
     "text": [
      " 18%|█▊        | 506/2737 [03:04<18:02,  2.06it/s]"
     ]
    },
    {
     "name": "stdout",
     "output_type": "stream",
     "text": [
      "../input/painting-vs-photograph-classification-dataset/Raw Data/photos/75dc9843d458db26d0851c07a301bc35e289383f.jpg\n"
     ]
    },
    {
     "name": "stderr",
     "output_type": "stream",
     "text": [
      " 19%|█▊        | 507/2737 [03:05<14:56,  2.49it/s]"
     ]
    },
    {
     "name": "stdout",
     "output_type": "stream",
     "text": [
      "../input/painting-vs-photograph-classification-dataset/Raw Data/photos/800aaeb4d192f0c69f6a1cdd271cc5d0ab095e56.jpg\n"
     ]
    },
    {
     "name": "stderr",
     "output_type": "stream",
     "text": [
      " 19%|█▊        | 508/2737 [03:05<13:07,  2.83it/s]"
     ]
    },
    {
     "name": "stdout",
     "output_type": "stream",
     "text": [
      "../input/painting-vs-photograph-classification-dataset/Raw Data/photos/ebcc202d000b0f300142a4bd7d1a81914b0d5b1d.jpg\n"
     ]
    },
    {
     "name": "stderr",
     "output_type": "stream",
     "text": [
      " 19%|█▊        | 509/2737 [03:05<12:23,  2.99it/s]"
     ]
    },
    {
     "name": "stdout",
     "output_type": "stream",
     "text": [
      "../input/painting-vs-photograph-classification-dataset/Raw Data/photos/eda563b4772771f473db25353b8de9e608c9a058.jpg\n"
     ]
    },
    {
     "name": "stderr",
     "output_type": "stream",
     "text": [
      " 19%|█▊        | 510/2737 [03:05<11:11,  3.32it/s]"
     ]
    },
    {
     "name": "stdout",
     "output_type": "stream",
     "text": [
      "../input/painting-vs-photograph-classification-dataset/Raw Data/photos/fa8e9066352c98c82a49ef68b76c340f8707c66a.jpg\n"
     ]
    },
    {
     "name": "stderr",
     "output_type": "stream",
     "text": [
      " 19%|█▊        | 511/2737 [03:06<10:22,  3.57it/s]"
     ]
    },
    {
     "name": "stdout",
     "output_type": "stream",
     "text": [
      "../input/painting-vs-photograph-classification-dataset/Raw Data/painting/4f7f318ac046795dd84231d74928c1948af9cff3.jpg\n"
     ]
    },
    {
     "name": "stderr",
     "output_type": "stream",
     "text": [
      " 19%|█▊        | 512/2737 [03:06<16:18,  2.27it/s]"
     ]
    },
    {
     "name": "stdout",
     "output_type": "stream",
     "text": [
      "../input/painting-vs-photograph-classification-dataset/Raw Data/photos/aae5176cd2a20514cc6a2c662a3281ea6d7b2bdd.jpg\n"
     ]
    },
    {
     "name": "stderr",
     "output_type": "stream",
     "text": [
      " 19%|█▊        | 513/2737 [03:07<15:34,  2.38it/s]"
     ]
    },
    {
     "name": "stdout",
     "output_type": "stream",
     "text": [
      "../input/painting-vs-photograph-classification-dataset/Raw Data/photos/48c78b8b2c4641bf4cc62b9b4dc231f4c10e5ad1.jpg\n"
     ]
    },
    {
     "name": "stderr",
     "output_type": "stream",
     "text": [
      " 19%|█▉        | 514/2737 [03:07<13:33,  2.73it/s]"
     ]
    },
    {
     "name": "stdout",
     "output_type": "stream",
     "text": [
      "../input/painting-vs-photograph-classification-dataset/Raw Data/painting/e690eb113c9e98664ca15e9904b43c96c2c7bd48.jpg\n"
     ]
    },
    {
     "name": "stderr",
     "output_type": "stream",
     "text": [
      " 19%|█▉        | 515/2737 [03:08<21:24,  1.73it/s]"
     ]
    },
    {
     "name": "stdout",
     "output_type": "stream",
     "text": [
      "../input/painting-vs-photograph-classification-dataset/Raw Data/photos/4e1328aec1d94be57e05ec6b23a815ef43156a66.jpg\n"
     ]
    },
    {
     "name": "stderr",
     "output_type": "stream",
     "text": [
      " 19%|█▉        | 516/2737 [03:08<17:38,  2.10it/s]"
     ]
    },
    {
     "name": "stdout",
     "output_type": "stream",
     "text": [
      "../input/painting-vs-photograph-classification-dataset/Raw Data/painting/4f678a6ee96a83b446dd1eef8febb1066d802c31.jpg\n"
     ]
    },
    {
     "name": "stderr",
     "output_type": "stream",
     "text": [
      " 19%|█▉        | 518/2737 [03:09<17:23,  2.13it/s]"
     ]
    },
    {
     "name": "stdout",
     "output_type": "stream",
     "text": [
      "../input/painting-vs-photograph-classification-dataset/Raw Data/photos/2692684dcd4fe3e10e12ea23cf88a6c77179363b.jpg\n",
      "../input/painting-vs-photograph-classification-dataset/Raw Data/photos/36652b4df6edd109794cf96649e86182575f8ae7.jpg\n"
     ]
    },
    {
     "name": "stderr",
     "output_type": "stream",
     "text": [
      " 19%|█▉        | 520/2737 [03:10<12:10,  3.03it/s]"
     ]
    },
    {
     "name": "stdout",
     "output_type": "stream",
     "text": [
      "../input/painting-vs-photograph-classification-dataset/Raw Data/photos/ca3fd1219549574d82ca3726c40ce63432a1749d.jpg\n",
      "../input/painting-vs-photograph-classification-dataset/Raw Data/photos/dea7595cf79c4212125aa03fa4cced6381f6aa3e.jpg\n"
     ]
    },
    {
     "name": "stderr",
     "output_type": "stream",
     "text": [
      " 19%|█▉        | 521/2737 [03:10<11:25,  3.23it/s]"
     ]
    },
    {
     "name": "stdout",
     "output_type": "stream",
     "text": [
      "../input/painting-vs-photograph-classification-dataset/Raw Data/photos/221d38e09a08e9a4fc873c398b85148bad2cc5e7.jpg\n"
     ]
    },
    {
     "name": "stderr",
     "output_type": "stream",
     "text": [
      " 19%|█▉        | 522/2737 [03:10<11:06,  3.32it/s]"
     ]
    },
    {
     "name": "stdout",
     "output_type": "stream",
     "text": [
      "../input/painting-vs-photograph-classification-dataset/Raw Data/photos/f5dcefd100212ac817f777bf7a76ad1a0e0fe042.jpg\n"
     ]
    },
    {
     "name": "stderr",
     "output_type": "stream",
     "text": [
      " 19%|█▉        | 523/2737 [03:11<10:28,  3.52it/s]"
     ]
    },
    {
     "name": "stdout",
     "output_type": "stream",
     "text": [
      "../input/painting-vs-photograph-classification-dataset/Raw Data/photos/07ead14b100ab57548ba13bb19384d62a235c12f.jpg\n"
     ]
    },
    {
     "name": "stderr",
     "output_type": "stream",
     "text": [
      " 19%|█▉        | 524/2737 [03:11<10:19,  3.57it/s]"
     ]
    },
    {
     "name": "stdout",
     "output_type": "stream",
     "text": [
      "../input/painting-vs-photograph-classification-dataset/Raw Data/photos/657b8767dccaf6896da304705e5ecc70f20b3d08.jpg\n"
     ]
    },
    {
     "name": "stderr",
     "output_type": "stream",
     "text": [
      " 19%|█▉        | 526/2737 [03:11<09:19,  3.95it/s]"
     ]
    },
    {
     "name": "stdout",
     "output_type": "stream",
     "text": [
      "../input/painting-vs-photograph-classification-dataset/Raw Data/photos/b263b63458f749c900671705902f751ac864a32d.jpg\n",
      "../input/painting-vs-photograph-classification-dataset/Raw Data/painting/e8229d43c70cf3b3484503a2eeb0d14a8c5d028b.jpg\n"
     ]
    },
    {
     "name": "stderr",
     "output_type": "stream",
     "text": [
      " 19%|█▉        | 527/2737 [03:12<16:00,  2.30it/s]"
     ]
    },
    {
     "name": "stdout",
     "output_type": "stream",
     "text": [
      "../input/painting-vs-photograph-classification-dataset/Raw Data/photos/6066125f8679e9bf19dcf3942ac6e410cb5dc1bc.jpg\n"
     ]
    },
    {
     "name": "stderr",
     "output_type": "stream",
     "text": [
      " 19%|█▉        | 528/2737 [03:12<13:47,  2.67it/s]"
     ]
    },
    {
     "name": "stdout",
     "output_type": "stream",
     "text": [
      "../input/painting-vs-photograph-classification-dataset/Raw Data/painting/2036ef9922923cc9decb765cdcb69a516901d3ca.jpg\n"
     ]
    },
    {
     "name": "stderr",
     "output_type": "stream",
     "text": [
      " 19%|█▉        | 529/2737 [03:13<19:27,  1.89it/s]"
     ]
    },
    {
     "name": "stdout",
     "output_type": "stream",
     "text": [
      "../input/painting-vs-photograph-classification-dataset/Raw Data/photos/74c088a8dd78ce87e50b2c48b87b50f2b0672337.jpg\n"
     ]
    },
    {
     "name": "stderr",
     "output_type": "stream",
     "text": [
      " 19%|█▉        | 530/2737 [03:14<16:17,  2.26it/s]"
     ]
    },
    {
     "name": "stdout",
     "output_type": "stream",
     "text": [
      "../input/painting-vs-photograph-classification-dataset/Raw Data/photos/b8a1ba1ce85f73232de4029e778ea55edf7655c1.jpg\n"
     ]
    },
    {
     "name": "stderr",
     "output_type": "stream",
     "text": [
      " 19%|█▉        | 531/2737 [03:14<13:54,  2.64it/s]"
     ]
    },
    {
     "name": "stdout",
     "output_type": "stream",
     "text": [
      "../input/painting-vs-photograph-classification-dataset/Raw Data/painting/4c418a8673dfd9a51a2b115ae18058a13040a579.jpg\n"
     ]
    },
    {
     "name": "stderr",
     "output_type": "stream",
     "text": [
      " 19%|█▉        | 533/2737 [03:15<16:34,  2.22it/s]"
     ]
    },
    {
     "name": "stdout",
     "output_type": "stream",
     "text": [
      "../input/painting-vs-photograph-classification-dataset/Raw Data/photos/d737a4d578688dc864ccc17a971c35311f630590.jpg\n",
      "../input/painting-vs-photograph-classification-dataset/Raw Data/painting/1092215bab114a8aa718c69c689db82e491437ca.jpg\n"
     ]
    },
    {
     "name": "stderr",
     "output_type": "stream",
     "text": [
      " 20%|█▉        | 534/2737 [03:16<23:15,  1.58it/s]"
     ]
    },
    {
     "name": "stdout",
     "output_type": "stream",
     "text": [
      "../input/painting-vs-photograph-classification-dataset/Raw Data/painting/f41c3cc842edb8bf5346bd04296b42d09b6d4c56.jpg\n"
     ]
    },
    {
     "name": "stderr",
     "output_type": "stream",
     "text": [
      " 20%|█▉        | 535/2737 [03:17<25:02,  1.47it/s]"
     ]
    },
    {
     "name": "stdout",
     "output_type": "stream",
     "text": [
      "../input/painting-vs-photograph-classification-dataset/Raw Data/photos/c76dfa0f58508803f5a4ed1c7f657df77b1414a7.jpg\n"
     ]
    },
    {
     "name": "stderr",
     "output_type": "stream",
     "text": [
      " 20%|█▉        | 536/2737 [03:17<21:08,  1.73it/s]"
     ]
    },
    {
     "name": "stdout",
     "output_type": "stream",
     "text": [
      "../input/painting-vs-photograph-classification-dataset/Raw Data/photos/e81fb7fb0226ccf2a2e301551e09e0e4fa4a3ccf.jpg\n"
     ]
    },
    {
     "name": "stderr",
     "output_type": "stream",
     "text": [
      " 20%|█▉        | 537/2737 [03:17<17:32,  2.09it/s]"
     ]
    },
    {
     "name": "stdout",
     "output_type": "stream",
     "text": [
      "../input/painting-vs-photograph-classification-dataset/Raw Data/photos/add9054ac8671a7b07227094b5ade25dfd323ac7.jpg\n"
     ]
    },
    {
     "name": "stderr",
     "output_type": "stream",
     "text": [
      " 20%|█▉        | 538/2737 [03:18<14:52,  2.46it/s]"
     ]
    },
    {
     "name": "stdout",
     "output_type": "stream",
     "text": [
      "../input/painting-vs-photograph-classification-dataset/Raw Data/photos/74a3227209184ee3b10c317e556f9da1fb5031d1.jpg\n"
     ]
    },
    {
     "name": "stderr",
     "output_type": "stream",
     "text": [
      " 20%|█▉        | 539/2737 [03:18<12:56,  2.83it/s]"
     ]
    },
    {
     "name": "stdout",
     "output_type": "stream",
     "text": [
      "../input/painting-vs-photograph-classification-dataset/Raw Data/photos/f168eb7694c0f474cfb45e847a5c3b79ab4c793b.jpg\n"
     ]
    },
    {
     "name": "stderr",
     "output_type": "stream",
     "text": [
      " 20%|█▉        | 540/2737 [03:18<11:25,  3.20it/s]"
     ]
    },
    {
     "name": "stdout",
     "output_type": "stream",
     "text": [
      "../input/painting-vs-photograph-classification-dataset/Raw Data/photos/e41e144b99b35480b772ef263e8fd93b08e0cdf7.jpg\n"
     ]
    },
    {
     "name": "stderr",
     "output_type": "stream",
     "text": [
      " 20%|█▉        | 541/2737 [03:18<10:41,  3.42it/s]"
     ]
    },
    {
     "name": "stdout",
     "output_type": "stream",
     "text": [
      "../input/painting-vs-photograph-classification-dataset/Raw Data/photos/512192be6bbfe518cef25ccd09894e35cd92645e.jpg\n"
     ]
    },
    {
     "name": "stderr",
     "output_type": "stream",
     "text": [
      " 20%|█▉        | 542/2737 [03:19<10:09,  3.60it/s]"
     ]
    },
    {
     "name": "stdout",
     "output_type": "stream",
     "text": [
      "../input/painting-vs-photograph-classification-dataset/Raw Data/photos/9a48ac645447c99b1b4ce5ebfc1e1146e5ff4040.jpg\n"
     ]
    },
    {
     "name": "stderr",
     "output_type": "stream",
     "text": [
      " 20%|█▉        | 543/2737 [03:19<09:24,  3.88it/s]"
     ]
    },
    {
     "name": "stdout",
     "output_type": "stream",
     "text": [
      "../input/painting-vs-photograph-classification-dataset/Raw Data/photos/afbef2573695f7e200fe347afdd1ee2cf926053f.jpg\n"
     ]
    },
    {
     "name": "stderr",
     "output_type": "stream",
     "text": [
      " 20%|█▉        | 544/2737 [03:19<08:54,  4.10it/s]"
     ]
    },
    {
     "name": "stdout",
     "output_type": "stream",
     "text": [
      "../input/painting-vs-photograph-classification-dataset/Raw Data/photos/a1b3dfed4d707813b0e92178adba73b7bfe18dfb.jpg\n"
     ]
    },
    {
     "name": "stderr",
     "output_type": "stream",
     "text": [
      " 20%|█▉        | 545/2737 [03:19<08:39,  4.22it/s]"
     ]
    },
    {
     "name": "stdout",
     "output_type": "stream",
     "text": [
      "../input/painting-vs-photograph-classification-dataset/Raw Data/photos/a235b0fa8a7116b169e84e77408badf3fb3b0340.jpg\n"
     ]
    },
    {
     "name": "stderr",
     "output_type": "stream",
     "text": [
      " 20%|█▉        | 546/2737 [03:19<09:09,  3.99it/s]"
     ]
    },
    {
     "name": "stdout",
     "output_type": "stream",
     "text": [
      "../input/painting-vs-photograph-classification-dataset/Raw Data/photos/a61fadf2dbe40d1fabdf91c5cf66d61abf7951b1.jpg\n"
     ]
    },
    {
     "name": "stderr",
     "output_type": "stream",
     "text": [
      " 20%|██        | 548/2737 [03:20<08:17,  4.40it/s]"
     ]
    },
    {
     "name": "stdout",
     "output_type": "stream",
     "text": [
      "../input/painting-vs-photograph-classification-dataset/Raw Data/photos/bf9934cca35003113af893295bf4927a97328836.jpg\n",
      "../input/painting-vs-photograph-classification-dataset/Raw Data/photos/f0c331eb7bbf455dabed4f4ecaa982c29b7f183a.jpg\n"
     ]
    },
    {
     "name": "stderr",
     "output_type": "stream",
     "text": [
      " 20%|██        | 549/2737 [03:20<08:10,  4.46it/s]"
     ]
    },
    {
     "name": "stdout",
     "output_type": "stream",
     "text": [
      "../input/painting-vs-photograph-classification-dataset/Raw Data/photos/b09dca880de7b715ac94049cd69d3385af88ab1c.jpg\n"
     ]
    },
    {
     "name": "stderr",
     "output_type": "stream",
     "text": [
      " 20%|██        | 550/2737 [03:20<08:17,  4.40it/s]"
     ]
    },
    {
     "name": "stdout",
     "output_type": "stream",
     "text": [
      "../input/painting-vs-photograph-classification-dataset/Raw Data/photos/a21cb1ef2093f11071c02ddf63d5e3ce27531b52.jpg\n"
     ]
    },
    {
     "name": "stderr",
     "output_type": "stream",
     "text": [
      " 20%|██        | 551/2737 [03:21<08:08,  4.48it/s]"
     ]
    },
    {
     "name": "stdout",
     "output_type": "stream",
     "text": [
      "../input/painting-vs-photograph-classification-dataset/Raw Data/photos/1583d19512104a84ad45a01f837a14373ed5b663.jpg\n"
     ]
    },
    {
     "name": "stderr",
     "output_type": "stream",
     "text": [
      " 20%|██        | 552/2737 [03:21<08:10,  4.46it/s]"
     ]
    },
    {
     "name": "stdout",
     "output_type": "stream",
     "text": [
      "../input/painting-vs-photograph-classification-dataset/Raw Data/painting/fb1eaaf684ff4d973eb6f9feddeb5ab41af720b4.jpg\n"
     ]
    },
    {
     "name": "stderr",
     "output_type": "stream",
     "text": [
      " 20%|██        | 553/2737 [03:21<11:51,  3.07it/s]"
     ]
    },
    {
     "name": "stdout",
     "output_type": "stream",
     "text": [
      "../input/painting-vs-photograph-classification-dataset/Raw Data/photos/1648ec0f0d15878097322c162da995ce192a68c6.jpg\n"
     ]
    },
    {
     "name": "stderr",
     "output_type": "stream",
     "text": [
      " 20%|██        | 554/2737 [03:22<10:48,  3.37it/s]"
     ]
    },
    {
     "name": "stdout",
     "output_type": "stream",
     "text": [
      "../input/painting-vs-photograph-classification-dataset/Raw Data/photos/58ef7435e29b2a1393e6cda52c68d931e0b4b9f8.jpg\n"
     ]
    },
    {
     "name": "stderr",
     "output_type": "stream",
     "text": [
      " 20%|██        | 555/2737 [03:22<09:52,  3.68it/s]"
     ]
    },
    {
     "name": "stdout",
     "output_type": "stream",
     "text": [
      "../input/painting-vs-photograph-classification-dataset/Raw Data/painting/6c9a40907271b5573fd62715bde682db70eb966a.jpg\n"
     ]
    },
    {
     "name": "stderr",
     "output_type": "stream",
     "text": [
      " 20%|██        | 556/2737 [03:23<18:02,  2.01it/s]"
     ]
    },
    {
     "name": "stdout",
     "output_type": "stream",
     "text": [
      "../input/painting-vs-photograph-classification-dataset/Raw Data/photos/f5a97351a21284c796034440d5a54f0541bbf845.jpg\n"
     ]
    },
    {
     "name": "stderr",
     "output_type": "stream",
     "text": [
      " 20%|██        | 557/2737 [03:23<15:08,  2.40it/s]"
     ]
    },
    {
     "name": "stdout",
     "output_type": "stream",
     "text": [
      "../input/painting-vs-photograph-classification-dataset/Raw Data/photos/314a4239ca3cabc9c61d2c50f636bcaeb7e1a93e.jpg\n"
     ]
    },
    {
     "name": "stderr",
     "output_type": "stream",
     "text": [
      " 20%|██        | 558/2737 [03:23<13:09,  2.76it/s]"
     ]
    },
    {
     "name": "stdout",
     "output_type": "stream",
     "text": [
      "../input/painting-vs-photograph-classification-dataset/Raw Data/painting/b4fc5546c3315aaf201e8eac30cb927c08fad163.jpg\n"
     ]
    },
    {
     "name": "stderr",
     "output_type": "stream",
     "text": [
      " 20%|██        | 559/2737 [03:24<17:45,  2.04it/s]"
     ]
    },
    {
     "name": "stdout",
     "output_type": "stream",
     "text": [
      "../input/painting-vs-photograph-classification-dataset/Raw Data/photos/df40fc69f9095d441733b2fd3eb890f9e67a58c7.jpg\n"
     ]
    },
    {
     "name": "stderr",
     "output_type": "stream",
     "text": [
      " 20%|██        | 560/2737 [03:24<14:59,  2.42it/s]"
     ]
    },
    {
     "name": "stdout",
     "output_type": "stream",
     "text": [
      "../input/painting-vs-photograph-classification-dataset/Raw Data/painting/9d822c12cb658b77d6071108d2633650fb0f35ea.jpg\n"
     ]
    },
    {
     "name": "stderr",
     "output_type": "stream",
     "text": [
      " 20%|██        | 561/2737 [03:25<21:28,  1.69it/s]"
     ]
    },
    {
     "name": "stdout",
     "output_type": "stream",
     "text": [
      "../input/painting-vs-photograph-classification-dataset/Raw Data/photos/789074362951583b4cc8c87e624057e5717d8c91.jpg\n"
     ]
    },
    {
     "name": "stderr",
     "output_type": "stream",
     "text": [
      " 21%|██        | 563/2737 [03:26<14:12,  2.55it/s]"
     ]
    },
    {
     "name": "stdout",
     "output_type": "stream",
     "text": [
      "../input/painting-vs-photograph-classification-dataset/Raw Data/photos/313f32d8c6b029ed1b8854a2b424f3d17c87715a.jpg\n",
      "../input/painting-vs-photograph-classification-dataset/Raw Data/photos/997c4f381c8c787418d2fd2acc1ee239044d4658.jpg\n"
     ]
    },
    {
     "name": "stderr",
     "output_type": "stream",
     "text": [
      " 21%|██        | 564/2737 [03:26<12:28,  2.90it/s]"
     ]
    },
    {
     "name": "stdout",
     "output_type": "stream",
     "text": [
      "../input/painting-vs-photograph-classification-dataset/Raw Data/photos/a2d86f0d36e703139cc70dae737875e8b3a6b81f.jpg\n"
     ]
    },
    {
     "name": "stderr",
     "output_type": "stream",
     "text": [
      " 21%|██        | 565/2737 [03:26<11:22,  3.18it/s]"
     ]
    },
    {
     "name": "stdout",
     "output_type": "stream",
     "text": [
      "../input/painting-vs-photograph-classification-dataset/Raw Data/photos/c811f1fdcde978fda21d9f2bfa512a5714445925.jpg\n"
     ]
    },
    {
     "name": "stderr",
     "output_type": "stream",
     "text": [
      " 21%|██        | 566/2737 [03:26<10:34,  3.42it/s]"
     ]
    },
    {
     "name": "stdout",
     "output_type": "stream",
     "text": [
      "../input/painting-vs-photograph-classification-dataset/Raw Data/photos/e66dc7f7daf482659b767a6ff6b81abce66e7cad.jpg\n"
     ]
    },
    {
     "name": "stderr",
     "output_type": "stream",
     "text": [
      " 21%|██        | 567/2737 [03:27<10:32,  3.43it/s]"
     ]
    },
    {
     "name": "stdout",
     "output_type": "stream",
     "text": [
      "../input/painting-vs-photograph-classification-dataset/Raw Data/photos/730597bf215e4a2d4278c58ad463aefa5c6647d0.jpg\n"
     ]
    },
    {
     "name": "stderr",
     "output_type": "stream",
     "text": [
      " 21%|██        | 568/2737 [03:27<09:53,  3.66it/s]"
     ]
    },
    {
     "name": "stdout",
     "output_type": "stream",
     "text": [
      "../input/painting-vs-photograph-classification-dataset/Raw Data/painting/6adc5a7515e7f51bdf7208377a5e6d34e5ee773f.jpg\n"
     ]
    },
    {
     "name": "stderr",
     "output_type": "stream",
     "text": [
      " 21%|██        | 570/2737 [03:28<12:22,  2.92it/s]"
     ]
    },
    {
     "name": "stdout",
     "output_type": "stream",
     "text": [
      "../input/painting-vs-photograph-classification-dataset/Raw Data/photos/53571f1b378af2eeb5dbc274666f6f5b9901f4fa.jpg\n",
      "../input/painting-vs-photograph-classification-dataset/Raw Data/painting/00c26a7edce46e42b09cab4dacd581d89984cb80.jpg\n"
     ]
    },
    {
     "name": "stderr",
     "output_type": "stream",
     "text": [
      " 21%|██        | 571/2737 [03:29<21:06,  1.71it/s]"
     ]
    },
    {
     "name": "stdout",
     "output_type": "stream",
     "text": [
      "../input/painting-vs-photograph-classification-dataset/Raw Data/photos/d838de0703d5db4d53b19d1ec33766f352068afb.jpg\n"
     ]
    },
    {
     "name": "stderr",
     "output_type": "stream",
     "text": [
      " 21%|██        | 572/2737 [03:29<17:24,  2.07it/s]"
     ]
    },
    {
     "name": "stdout",
     "output_type": "stream",
     "text": [
      "../input/painting-vs-photograph-classification-dataset/Raw Data/photos/217fc51b8fd6a5dfe6c43110a49eb5434be53c69.jpg\n"
     ]
    },
    {
     "name": "stderr",
     "output_type": "stream",
     "text": [
      " 21%|██        | 573/2737 [03:29<14:22,  2.51it/s]"
     ]
    },
    {
     "name": "stdout",
     "output_type": "stream",
     "text": [
      "../input/painting-vs-photograph-classification-dataset/Raw Data/photos/72af3fb4da3e1c7769fe40d25aa4d410e5eac923.jpg\n"
     ]
    },
    {
     "name": "stderr",
     "output_type": "stream",
     "text": [
      " 21%|██        | 574/2737 [03:30<12:34,  2.87it/s]"
     ]
    },
    {
     "name": "stdout",
     "output_type": "stream",
     "text": [
      "../input/painting-vs-photograph-classification-dataset/Raw Data/painting/705c744ae17a12bbd669366e1e859529bd1839e4.jpg\n"
     ]
    },
    {
     "name": "stderr",
     "output_type": "stream",
     "text": [
      " 21%|██        | 575/2737 [03:30<16:12,  2.22it/s]"
     ]
    },
    {
     "name": "stdout",
     "output_type": "stream",
     "text": [
      "../input/painting-vs-photograph-classification-dataset/Raw Data/painting/0dc9436d6ca9f2c7451ee42346bfefe6c330497e.jpg\n"
     ]
    },
    {
     "name": "stderr",
     "output_type": "stream",
     "text": [
      " 21%|██        | 576/2737 [03:31<19:16,  1.87it/s]"
     ]
    },
    {
     "name": "stdout",
     "output_type": "stream",
     "text": [
      "../input/painting-vs-photograph-classification-dataset/Raw Data/painting/5f3d79553b1f05dfc58939f11164b22b0bb9d2ba.jpg\n"
     ]
    },
    {
     "name": "stderr",
     "output_type": "stream",
     "text": [
      " 21%|██        | 577/2737 [03:32<21:57,  1.64it/s]"
     ]
    },
    {
     "name": "stdout",
     "output_type": "stream",
     "text": [
      "../input/painting-vs-photograph-classification-dataset/Raw Data/painting/f5169b180dc980b0efccf8c92a44c8e67253b6f4.jpg\n"
     ]
    },
    {
     "name": "stderr",
     "output_type": "stream",
     "text": [
      " 21%|██        | 578/2737 [03:33<27:12,  1.32it/s]"
     ]
    },
    {
     "name": "stdout",
     "output_type": "stream",
     "text": [
      "../input/painting-vs-photograph-classification-dataset/Raw Data/photos/49a521aef1e1fe02f1255b76749b555e0fa7b031.jpg\n"
     ]
    },
    {
     "name": "stderr",
     "output_type": "stream",
     "text": [
      " 21%|██        | 579/2737 [03:33<21:35,  1.67it/s]"
     ]
    },
    {
     "name": "stdout",
     "output_type": "stream",
     "text": [
      "../input/painting-vs-photograph-classification-dataset/Raw Data/photos/d1b6cd161e7aed363aba94abf7e3595919c54abe.jpg\n"
     ]
    },
    {
     "name": "stderr",
     "output_type": "stream",
     "text": [
      " 21%|██        | 580/2737 [03:33<17:41,  2.03it/s]"
     ]
    },
    {
     "name": "stdout",
     "output_type": "stream",
     "text": [
      "../input/painting-vs-photograph-classification-dataset/Raw Data/photos/45a52e26b8f7bd13e5d493cb32bbb234fb97957a.jpg\n"
     ]
    },
    {
     "name": "stderr",
     "output_type": "stream",
     "text": [
      " 21%|██▏       | 582/2737 [03:34<12:11,  2.94it/s]"
     ]
    },
    {
     "name": "stdout",
     "output_type": "stream",
     "text": [
      "../input/painting-vs-photograph-classification-dataset/Raw Data/photos/d0a8e47e775db6abd086f100d233dd3e61ec2e3e.jpg\n",
      "../input/painting-vs-photograph-classification-dataset/Raw Data/painting/0aeb0542edd33cacf497e1d0fbef2be8c29e3dc1.jpg\n"
     ]
    },
    {
     "name": "stderr",
     "output_type": "stream",
     "text": [
      " 21%|██▏       | 583/2737 [03:35<17:06,  2.10it/s]"
     ]
    },
    {
     "name": "stdout",
     "output_type": "stream",
     "text": [
      "../input/painting-vs-photograph-classification-dataset/Raw Data/photos/56991ad9b3bdd06f005120e5cbffa944505a3ec6.jpg\n"
     ]
    },
    {
     "name": "stderr",
     "output_type": "stream",
     "text": [
      " 21%|██▏       | 584/2737 [03:35<14:33,  2.46it/s]"
     ]
    },
    {
     "name": "stdout",
     "output_type": "stream",
     "text": [
      "../input/painting-vs-photograph-classification-dataset/Raw Data/painting/7b125c6b05e545c729656a7685ee2253b1c157d9.jpg\n"
     ]
    },
    {
     "name": "stderr",
     "output_type": "stream",
     "text": [
      " 21%|██▏       | 585/2737 [03:35<15:59,  2.24it/s]"
     ]
    },
    {
     "name": "stdout",
     "output_type": "stream",
     "text": [
      "../input/painting-vs-photograph-classification-dataset/Raw Data/photos/b4eca375ec05f52e18334533f6c6eefda3767c07.jpg\n"
     ]
    },
    {
     "name": "stderr",
     "output_type": "stream",
     "text": [
      " 21%|██▏       | 586/2737 [03:36<13:48,  2.60it/s]"
     ]
    },
    {
     "name": "stdout",
     "output_type": "stream",
     "text": [
      "../input/painting-vs-photograph-classification-dataset/Raw Data/photos/36829671b99c9c1dfd05e337fc3bd4011943d65c.jpg\n"
     ]
    },
    {
     "name": "stderr",
     "output_type": "stream",
     "text": [
      " 21%|██▏       | 587/2737 [03:36<11:55,  3.01it/s]"
     ]
    },
    {
     "name": "stdout",
     "output_type": "stream",
     "text": [
      "../input/painting-vs-photograph-classification-dataset/Raw Data/photos/b9b9d219b88e95dea4f4bcab2cf7c0ea26a7c14c.jpg\n"
     ]
    },
    {
     "name": "stderr",
     "output_type": "stream",
     "text": [
      " 21%|██▏       | 588/2737 [03:36<11:12,  3.20it/s]"
     ]
    },
    {
     "name": "stdout",
     "output_type": "stream",
     "text": [
      "../input/painting-vs-photograph-classification-dataset/Raw Data/photos/e970b4624b8eff556ba5ef09f59def3eca0e6426.jpg\n"
     ]
    },
    {
     "name": "stderr",
     "output_type": "stream",
     "text": [
      " 22%|██▏       | 589/2737 [03:36<10:35,  3.38it/s]"
     ]
    },
    {
     "name": "stdout",
     "output_type": "stream",
     "text": [
      "../input/painting-vs-photograph-classification-dataset/Raw Data/photos/3003f073db5d6c4c441cd892745f6688a02ff042.jpg\n"
     ]
    },
    {
     "name": "stderr",
     "output_type": "stream",
     "text": [
      " 22%|██▏       | 590/2737 [03:37<09:55,  3.61it/s]"
     ]
    },
    {
     "name": "stdout",
     "output_type": "stream",
     "text": [
      "../input/painting-vs-photograph-classification-dataset/Raw Data/photos/c6ebe7e851ea49d547c768ad83c27783d7828897.jpg\n"
     ]
    },
    {
     "name": "stderr",
     "output_type": "stream",
     "text": [
      " 22%|██▏       | 591/2737 [03:37<09:59,  3.58it/s]"
     ]
    },
    {
     "name": "stdout",
     "output_type": "stream",
     "text": [
      "../input/painting-vs-photograph-classification-dataset/Raw Data/painting/b8d8930fd10b69ac9a81e6f5b50be4fd2b646663.jpg\n"
     ]
    },
    {
     "name": "stderr",
     "output_type": "stream",
     "text": [
      " 22%|██▏       | 592/2737 [03:38<15:08,  2.36it/s]"
     ]
    },
    {
     "name": "stdout",
     "output_type": "stream",
     "text": [
      "../input/painting-vs-photograph-classification-dataset/Raw Data/photos/1574a14f7d3461852ec0a6eb2ea495aaadf935f4.jpg\n"
     ]
    },
    {
     "name": "stderr",
     "output_type": "stream",
     "text": [
      " 22%|██▏       | 593/2737 [03:38<13:07,  2.72it/s]"
     ]
    },
    {
     "name": "stdout",
     "output_type": "stream",
     "text": [
      "../input/painting-vs-photograph-classification-dataset/Raw Data/painting/97c49f087f98cd5dd72d63d17a1295b551080f34.jpg\n"
     ]
    },
    {
     "name": "stderr",
     "output_type": "stream",
     "text": [
      " 22%|██▏       | 595/2737 [03:39<15:14,  2.34it/s]"
     ]
    },
    {
     "name": "stdout",
     "output_type": "stream",
     "text": [
      "../input/painting-vs-photograph-classification-dataset/Raw Data/photos/774f226b27aa46a47dd1f144770f717701a8a686.jpg\n",
      "../input/painting-vs-photograph-classification-dataset/Raw Data/photos/b9447f3a667467083db5215fb3497490a71f0468.jpg\n"
     ]
    },
    {
     "name": "stderr",
     "output_type": "stream",
     "text": [
      " 22%|██▏       | 596/2737 [03:39<13:10,  2.71it/s]"
     ]
    },
    {
     "name": "stdout",
     "output_type": "stream",
     "text": [
      "../input/painting-vs-photograph-classification-dataset/Raw Data/painting/e54779b3036d20add1f04478402acced2e9ec22b.jpg\n"
     ]
    },
    {
     "name": "stderr",
     "output_type": "stream",
     "text": [
      " 22%|██▏       | 598/2737 [03:40<14:08,  2.52it/s]"
     ]
    },
    {
     "name": "stdout",
     "output_type": "stream",
     "text": [
      "../input/painting-vs-photograph-classification-dataset/Raw Data/photos/3270ea2e0c6e911c0dde61277e5af4424c979cfb.jpg\n",
      "../input/painting-vs-photograph-classification-dataset/Raw Data/painting/f434091d7206f13aef6fa3b346435fb7df95c0ee.jpg\n"
     ]
    },
    {
     "name": "stderr",
     "output_type": "stream",
     "text": [
      " 22%|██▏       | 599/2737 [03:41<21:36,  1.65it/s]"
     ]
    },
    {
     "name": "stdout",
     "output_type": "stream",
     "text": [
      "../input/painting-vs-photograph-classification-dataset/Raw Data/photos/f3e0163362e0c73ba96629458e7e84482fcd0cde.jpg\n"
     ]
    },
    {
     "name": "stderr",
     "output_type": "stream",
     "text": [
      " 22%|██▏       | 600/2737 [03:42<18:52,  1.89it/s]"
     ]
    },
    {
     "name": "stdout",
     "output_type": "stream",
     "text": [
      "../input/painting-vs-photograph-classification-dataset/Raw Data/photos/ad10741b3bd58d361d290dcc4325ba884e3d9e15.jpg\n"
     ]
    },
    {
     "name": "stderr",
     "output_type": "stream",
     "text": [
      " 22%|██▏       | 601/2737 [03:42<15:48,  2.25it/s]"
     ]
    },
    {
     "name": "stdout",
     "output_type": "stream",
     "text": [
      "../input/painting-vs-photograph-classification-dataset/Raw Data/photos/687e52dc4123bc3e24674a5afd05d9be08d1dc19.jpg\n"
     ]
    },
    {
     "name": "stderr",
     "output_type": "stream",
     "text": [
      " 22%|██▏       | 602/2737 [03:42<13:46,  2.58it/s]"
     ]
    },
    {
     "name": "stdout",
     "output_type": "stream",
     "text": [
      "../input/painting-vs-photograph-classification-dataset/Raw Data/photos/c04ae841567c5e0ca3d771399916738ebb02b515.jpg\n"
     ]
    },
    {
     "name": "stderr",
     "output_type": "stream",
     "text": [
      " 22%|██▏       | 603/2737 [03:42<12:11,  2.92it/s]"
     ]
    },
    {
     "name": "stdout",
     "output_type": "stream",
     "text": [
      "../input/painting-vs-photograph-classification-dataset/Raw Data/painting/35b75692af3723e85a098bab93381e23ca5e1930.jpg\n"
     ]
    },
    {
     "name": "stderr",
     "output_type": "stream",
     "text": [
      " 22%|██▏       | 604/2737 [03:43<16:27,  2.16it/s]"
     ]
    },
    {
     "name": "stdout",
     "output_type": "stream",
     "text": [
      "../input/painting-vs-photograph-classification-dataset/Raw Data/photos/67efdca5a756eaa58e3db575b35297346ab828d6.jpg\n"
     ]
    },
    {
     "name": "stderr",
     "output_type": "stream",
     "text": [
      " 22%|██▏       | 605/2737 [03:43<13:47,  2.58it/s]"
     ]
    },
    {
     "name": "stdout",
     "output_type": "stream",
     "text": [
      "../input/painting-vs-photograph-classification-dataset/Raw Data/photos/8431c936ae43c9a908901bdb291b64a29cb24a6d.jpg\n"
     ]
    },
    {
     "name": "stderr",
     "output_type": "stream",
     "text": [
      " 22%|██▏       | 606/2737 [03:44<12:04,  2.94it/s]"
     ]
    },
    {
     "name": "stdout",
     "output_type": "stream",
     "text": [
      "../input/painting-vs-photograph-classification-dataset/Raw Data/painting/e65664de8742bc9ae7b57a7884a3997205e77b1b.jpg\n"
     ]
    },
    {
     "name": "stderr",
     "output_type": "stream",
     "text": [
      " 22%|██▏       | 607/2737 [03:44<14:48,  2.40it/s]"
     ]
    },
    {
     "name": "stdout",
     "output_type": "stream",
     "text": [
      "../input/painting-vs-photograph-classification-dataset/Raw Data/photos/fbdf2c933a3e1a0bac804a421409e967a3fcacc2.jpg\n"
     ]
    },
    {
     "name": "stderr",
     "output_type": "stream",
     "text": [
      " 22%|██▏       | 608/2737 [03:44<12:52,  2.76it/s]"
     ]
    },
    {
     "name": "stdout",
     "output_type": "stream",
     "text": [
      "../input/painting-vs-photograph-classification-dataset/Raw Data/photos/30466a63c1b12044f52d6acd9b5f51f306b4e86d.jpg\n"
     ]
    },
    {
     "name": "stderr",
     "output_type": "stream",
     "text": [
      " 22%|██▏       | 609/2737 [03:45<12:56,  2.74it/s]"
     ]
    },
    {
     "name": "stdout",
     "output_type": "stream",
     "text": [
      "../input/painting-vs-photograph-classification-dataset/Raw Data/photos/91d0436c8e7172f1e7d86e7fb2311984950e9805.jpg\n"
     ]
    },
    {
     "name": "stderr",
     "output_type": "stream",
     "text": [
      " 22%|██▏       | 610/2737 [03:45<11:35,  3.06it/s]"
     ]
    },
    {
     "name": "stdout",
     "output_type": "stream",
     "text": [
      "../input/painting-vs-photograph-classification-dataset/Raw Data/photos/661badaba5e469f1b6b4c93bb31c9d386561b61b.jpg\n"
     ]
    },
    {
     "name": "stderr",
     "output_type": "stream",
     "text": [
      " 22%|██▏       | 611/2737 [03:45<10:49,  3.27it/s]"
     ]
    },
    {
     "name": "stdout",
     "output_type": "stream",
     "text": [
      "../input/painting-vs-photograph-classification-dataset/Raw Data/photos/873b4d1c6986549688e59f8c3c8e8e7763538cb0.jpg\n"
     ]
    },
    {
     "name": "stderr",
     "output_type": "stream",
     "text": [
      " 22%|██▏       | 612/2737 [03:46<10:02,  3.53it/s]"
     ]
    },
    {
     "name": "stdout",
     "output_type": "stream",
     "text": [
      "../input/painting-vs-photograph-classification-dataset/Raw Data/photos/e3a8112f36c043cb0cb7ccbe5ef71cf4fc35af69.jpg\n"
     ]
    },
    {
     "name": "stderr",
     "output_type": "stream",
     "text": [
      " 22%|██▏       | 613/2737 [03:46<09:36,  3.68it/s]"
     ]
    },
    {
     "name": "stdout",
     "output_type": "stream",
     "text": [
      "../input/painting-vs-photograph-classification-dataset/Raw Data/photos/acd2bbfc3b782864759f5a97977957f18d4eb74f.jpg\n"
     ]
    },
    {
     "name": "stderr",
     "output_type": "stream",
     "text": [
      " 22%|██▏       | 614/2737 [03:46<09:39,  3.67it/s]"
     ]
    },
    {
     "name": "stdout",
     "output_type": "stream",
     "text": [
      "../input/painting-vs-photograph-classification-dataset/Raw Data/photos/543b58932055e54e3dd92f9b242efac9f4e26ced.jpg\n"
     ]
    },
    {
     "name": "stderr",
     "output_type": "stream",
     "text": [
      " 22%|██▏       | 615/2737 [03:46<09:58,  3.55it/s]"
     ]
    },
    {
     "name": "stdout",
     "output_type": "stream",
     "text": [
      "../input/painting-vs-photograph-classification-dataset/Raw Data/painting/0aeaaf7359e77b5d34a4ad6f9a333121ec9f02f2.jpg\n"
     ]
    },
    {
     "name": "stderr",
     "output_type": "stream",
     "text": [
      " 23%|██▎       | 616/2737 [03:47<17:58,  1.97it/s]"
     ]
    },
    {
     "name": "stdout",
     "output_type": "stream",
     "text": [
      "../input/painting-vs-photograph-classification-dataset/Raw Data/photos/61e5578353d7b0c164132046d08bc118b30c3338.jpg\n"
     ]
    },
    {
     "name": "stderr",
     "output_type": "stream",
     "text": [
      " 23%|██▎       | 617/2737 [03:48<15:08,  2.33it/s]"
     ]
    },
    {
     "name": "stdout",
     "output_type": "stream",
     "text": [
      "../input/painting-vs-photograph-classification-dataset/Raw Data/photos/b0e3b087b174e7d7637e03e6cdee330f27f9a3d8.jpg\n"
     ]
    },
    {
     "name": "stderr",
     "output_type": "stream",
     "text": [
      " 23%|██▎       | 618/2737 [03:48<12:51,  2.75it/s]"
     ]
    },
    {
     "name": "stdout",
     "output_type": "stream",
     "text": [
      "../input/painting-vs-photograph-classification-dataset/Raw Data/photos/3d20f0fa7d447bf87b29f9a62ba0b95bcebd6dc9.jpg\n"
     ]
    },
    {
     "name": "stderr",
     "output_type": "stream",
     "text": [
      " 23%|██▎       | 619/2737 [03:48<11:30,  3.07it/s]"
     ]
    },
    {
     "name": "stdout",
     "output_type": "stream",
     "text": [
      "../input/painting-vs-photograph-classification-dataset/Raw Data/painting/b4d2815dd90624407d233d5da4106ffe4c4ce0bb.jpg\n"
     ]
    },
    {
     "name": "stderr",
     "output_type": "stream",
     "text": [
      " 23%|██▎       | 620/2737 [03:49<15:11,  2.32it/s]"
     ]
    },
    {
     "name": "stdout",
     "output_type": "stream",
     "text": [
      "../input/painting-vs-photograph-classification-dataset/Raw Data/painting/34bdb8652060d56afcfae746e7696308bcdfe814.jpg\n"
     ]
    },
    {
     "name": "stderr",
     "output_type": "stream",
     "text": [
      " 23%|██▎       | 621/2737 [03:50<18:47,  1.88it/s]"
     ]
    },
    {
     "name": "stdout",
     "output_type": "stream",
     "text": [
      "../input/painting-vs-photograph-classification-dataset/Raw Data/photos/ee07ddef84eda91cde70fa94e90e6d0619c67953.jpg\n"
     ]
    },
    {
     "name": "stderr",
     "output_type": "stream",
     "text": [
      " 23%|██▎       | 622/2737 [03:50<15:38,  2.25it/s]"
     ]
    },
    {
     "name": "stdout",
     "output_type": "stream",
     "text": [
      "../input/painting-vs-photograph-classification-dataset/Raw Data/photos/08735259f9caeedb08678406d3fb54987ec96d14.jpg\n"
     ]
    },
    {
     "name": "stderr",
     "output_type": "stream",
     "text": [
      " 23%|██▎       | 623/2737 [03:50<13:26,  2.62it/s]"
     ]
    },
    {
     "name": "stdout",
     "output_type": "stream",
     "text": [
      "../input/painting-vs-photograph-classification-dataset/Raw Data/photos/bb2dc1754ce672b4fee140b4a6a74ce9703845c7.jpg\n"
     ]
    },
    {
     "name": "stderr",
     "output_type": "stream",
     "text": [
      " 23%|██▎       | 624/2737 [03:50<11:53,  2.96it/s]"
     ]
    },
    {
     "name": "stdout",
     "output_type": "stream",
     "text": [
      "../input/painting-vs-photograph-classification-dataset/Raw Data/painting/3f2e84a8cb3fb9351ee30338eb66e09734fa10d2.jpg\n"
     ]
    },
    {
     "name": "stderr",
     "output_type": "stream",
     "text": [
      " 23%|██▎       | 625/2737 [03:51<16:23,  2.15it/s]"
     ]
    },
    {
     "name": "stdout",
     "output_type": "stream",
     "text": [
      "../input/painting-vs-photograph-classification-dataset/Raw Data/painting/5e6db6ac49438e345f902345de10cb79fa17bab0.jpg\n"
     ]
    },
    {
     "name": "stderr",
     "output_type": "stream",
     "text": [
      " 23%|██▎       | 626/2737 [03:52<18:38,  1.89it/s]"
     ]
    },
    {
     "name": "stdout",
     "output_type": "stream",
     "text": [
      "../input/painting-vs-photograph-classification-dataset/Raw Data/painting/1e19b09e82cd30cfe3f0f3d3186a64a54e66747d.jpg\n"
     ]
    },
    {
     "name": "stderr",
     "output_type": "stream",
     "text": [
      " 23%|██▎       | 628/2737 [03:53<16:33,  2.12it/s]"
     ]
    },
    {
     "name": "stdout",
     "output_type": "stream",
     "text": [
      "../input/painting-vs-photograph-classification-dataset/Raw Data/photos/2bbfeefaa6b65d335ba5e0fd04547ef033344af0.jpg\n",
      "../input/painting-vs-photograph-classification-dataset/Raw Data/photos/753165a9cad2462509c359ecf6cdfb1639fd6c36.jpg\n"
     ]
    },
    {
     "name": "stderr",
     "output_type": "stream",
     "text": [
      " 23%|██▎       | 629/2737 [03:53<14:07,  2.49it/s]"
     ]
    },
    {
     "name": "stdout",
     "output_type": "stream",
     "text": [
      "../input/painting-vs-photograph-classification-dataset/Raw Data/painting/f0f88d2536324da1c8cfba33d020d213b4ac7414.jpg\n"
     ]
    },
    {
     "name": "stderr",
     "output_type": "stream",
     "text": [
      " 23%|██▎       | 630/2737 [03:53<16:03,  2.19it/s]"
     ]
    },
    {
     "name": "stdout",
     "output_type": "stream",
     "text": [
      "../input/painting-vs-photograph-classification-dataset/Raw Data/painting/426c2bf7c596d790720a634afed292285947c9c7.jpg\n"
     ]
    },
    {
     "name": "stderr",
     "output_type": "stream",
     "text": [
      " 23%|██▎       | 631/2737 [03:54<18:06,  1.94it/s]"
     ]
    },
    {
     "name": "stdout",
     "output_type": "stream",
     "text": [
      "../input/painting-vs-photograph-classification-dataset/Raw Data/photos/ec7a65d66c1ca429fe9f1e96160d0694732685c4.jpg\n"
     ]
    },
    {
     "name": "stderr",
     "output_type": "stream",
     "text": [
      " 23%|██▎       | 632/2737 [03:54<15:10,  2.31it/s]"
     ]
    },
    {
     "name": "stdout",
     "output_type": "stream",
     "text": [
      "../input/painting-vs-photograph-classification-dataset/Raw Data/painting/a6d226f5f964a459a84aa7d513bb975dbb93bc42.jpg\n"
     ]
    },
    {
     "name": "stderr",
     "output_type": "stream",
     "text": [
      " 23%|██▎       | 633/2737 [03:55<21:15,  1.65it/s]"
     ]
    },
    {
     "name": "stdout",
     "output_type": "stream",
     "text": [
      "../input/painting-vs-photograph-classification-dataset/Raw Data/painting/04d67ad683d0492bab2b5052a75bd3d8fbaba771.jpg\n"
     ]
    },
    {
     "name": "stderr",
     "output_type": "stream",
     "text": [
      " 23%|██▎       | 634/2737 [03:56<25:54,  1.35it/s]"
     ]
    },
    {
     "name": "stdout",
     "output_type": "stream",
     "text": [
      "../input/painting-vs-photograph-classification-dataset/Raw Data/painting/ce09de5cf424883f74732e53cb2e3894c0a83745.jpg\n"
     ]
    },
    {
     "name": "stderr",
     "output_type": "stream",
     "text": [
      " 23%|██▎       | 635/2737 [03:57<25:49,  1.36it/s]"
     ]
    },
    {
     "name": "stdout",
     "output_type": "stream",
     "text": [
      "../input/painting-vs-photograph-classification-dataset/Raw Data/photos/68ebc4ddab6b35b0ba54d3144a7b1bb34711ded1.jpg\n"
     ]
    },
    {
     "name": "stderr",
     "output_type": "stream",
     "text": [
      " 23%|██▎       | 636/2737 [03:57<20:24,  1.72it/s]"
     ]
    },
    {
     "name": "stdout",
     "output_type": "stream",
     "text": [
      "../input/painting-vs-photograph-classification-dataset/Raw Data/photos/e313dc55f4121993de5988f696a3ba457e27cd96.jpg\n"
     ]
    },
    {
     "name": "stderr",
     "output_type": "stream",
     "text": [
      " 23%|██▎       | 637/2737 [03:58<16:46,  2.09it/s]"
     ]
    },
    {
     "name": "stdout",
     "output_type": "stream",
     "text": [
      "../input/painting-vs-photograph-classification-dataset/Raw Data/photos/81d5eb0687d1a77dd176ae3d7d941bae89926c44.jpg\n"
     ]
    },
    {
     "name": "stderr",
     "output_type": "stream",
     "text": [
      " 23%|██▎       | 639/2737 [03:58<11:36,  3.01it/s]"
     ]
    },
    {
     "name": "stdout",
     "output_type": "stream",
     "text": [
      "../input/painting-vs-photograph-classification-dataset/Raw Data/photos/81962f5e55d50b06c727f337103c12e6a1d9e63f.jpg\n",
      "../input/painting-vs-photograph-classification-dataset/Raw Data/photos/1484608b985b68f648db9f25754b0c8646b58d07.jpg\n"
     ]
    },
    {
     "name": "stderr",
     "output_type": "stream",
     "text": [
      " 23%|██▎       | 640/2737 [03:58<10:41,  3.27it/s]"
     ]
    },
    {
     "name": "stdout",
     "output_type": "stream",
     "text": [
      "../input/painting-vs-photograph-classification-dataset/Raw Data/photos/f932acbd84d79544295c4cf143a80693d3c88723.jpg\n"
     ]
    },
    {
     "name": "stderr",
     "output_type": "stream",
     "text": [
      " 23%|██▎       | 641/2737 [03:59<10:53,  3.21it/s]"
     ]
    },
    {
     "name": "stdout",
     "output_type": "stream",
     "text": [
      "../input/painting-vs-photograph-classification-dataset/Raw Data/photos/41442aba847bc64d4e8b001d3a68cf334e729b98.jpg\n"
     ]
    },
    {
     "name": "stderr",
     "output_type": "stream",
     "text": [
      " 23%|██▎       | 642/2737 [03:59<10:08,  3.45it/s]"
     ]
    },
    {
     "name": "stdout",
     "output_type": "stream",
     "text": [
      "../input/painting-vs-photograph-classification-dataset/Raw Data/photos/2892cfa77be4865a0cd0de300586ff555293b202.jpg\n"
     ]
    },
    {
     "name": "stderr",
     "output_type": "stream",
     "text": [
      " 23%|██▎       | 643/2737 [03:59<09:13,  3.78it/s]"
     ]
    },
    {
     "name": "stdout",
     "output_type": "stream",
     "text": [
      "../input/painting-vs-photograph-classification-dataset/Raw Data/painting/d76417b96f2fddebce28192aecb97f4ac325137f.jpg\n"
     ]
    },
    {
     "name": "stderr",
     "output_type": "stream",
     "text": [
      " 24%|██▎       | 644/2737 [04:00<16:21,  2.13it/s]"
     ]
    },
    {
     "name": "stdout",
     "output_type": "stream",
     "text": [
      "../input/painting-vs-photograph-classification-dataset/Raw Data/photos/054ecccd293aa7863a0f92a295f89338effcd34d.jpg\n"
     ]
    },
    {
     "name": "stderr",
     "output_type": "stream",
     "text": [
      " 24%|██▎       | 645/2737 [04:00<13:52,  2.51it/s]"
     ]
    },
    {
     "name": "stdout",
     "output_type": "stream",
     "text": [
      "../input/painting-vs-photograph-classification-dataset/Raw Data/photos/fe524db7680d8e09a625277af2a1faa3b8a089fd.jpg\n"
     ]
    },
    {
     "name": "stderr",
     "output_type": "stream",
     "text": [
      " 24%|██▎       | 646/2737 [04:00<12:25,  2.80it/s]"
     ]
    },
    {
     "name": "stdout",
     "output_type": "stream",
     "text": [
      "../input/painting-vs-photograph-classification-dataset/Raw Data/photos/5072c9955123d69980efce87a8734189c8e4d545.jpg\n"
     ]
    },
    {
     "name": "stderr",
     "output_type": "stream",
     "text": [
      " 24%|██▎       | 648/2737 [04:01<10:09,  3.43it/s]"
     ]
    },
    {
     "name": "stdout",
     "output_type": "stream",
     "text": [
      "../input/painting-vs-photograph-classification-dataset/Raw Data/photos/74b02c0cd8529309653718d744a4c4de5f37e9e9.jpg\n",
      "../input/painting-vs-photograph-classification-dataset/Raw Data/photos/91aee1b822e5b8c4db5c149deb3a3e92e0ffcc17.jpg\n"
     ]
    },
    {
     "name": "stderr",
     "output_type": "stream",
     "text": [
      " 24%|██▎       | 649/2737 [04:01<08:55,  3.90it/s]"
     ]
    },
    {
     "name": "stdout",
     "output_type": "stream",
     "text": [
      "../input/painting-vs-photograph-classification-dataset/Raw Data/photos/2158c166f4b172ccf33f3fc13ed96c2193491807.jpg\n"
     ]
    },
    {
     "name": "stderr",
     "output_type": "stream",
     "text": [
      " 24%|██▎       | 650/2737 [04:01<08:49,  3.95it/s]"
     ]
    },
    {
     "name": "stdout",
     "output_type": "stream",
     "text": [
      "../input/painting-vs-photograph-classification-dataset/Raw Data/photos/b6080fb701e510c4057c1603a5e0ed9e60d8c278.jpg\n"
     ]
    },
    {
     "name": "stderr",
     "output_type": "stream",
     "text": [
      " 24%|██▍       | 651/2737 [04:02<08:37,  4.03it/s]"
     ]
    },
    {
     "name": "stdout",
     "output_type": "stream",
     "text": [
      "../input/painting-vs-photograph-classification-dataset/Raw Data/painting/728332326224afc429c741c8bd9a3e886ac95638.jpg\n"
     ]
    },
    {
     "name": "stderr",
     "output_type": "stream",
     "text": [
      " 24%|██▍       | 652/2737 [04:02<15:20,  2.26it/s]"
     ]
    },
    {
     "name": "stdout",
     "output_type": "stream",
     "text": [
      "../input/painting-vs-photograph-classification-dataset/Raw Data/photos/984f2623feed39ad203eb7b56d83d4eda11c6bec.jpg\n"
     ]
    },
    {
     "name": "stderr",
     "output_type": "stream",
     "text": [
      " 24%|██▍       | 653/2737 [04:03<13:16,  2.62it/s]"
     ]
    },
    {
     "name": "stdout",
     "output_type": "stream",
     "text": [
      "../input/painting-vs-photograph-classification-dataset/Raw Data/photos/f1c693ab2ade45ff1b7a6c37e1d0e5678c45b909.jpg\n"
     ]
    },
    {
     "name": "stderr",
     "output_type": "stream",
     "text": [
      " 24%|██▍       | 654/2737 [04:03<11:35,  2.99it/s]"
     ]
    },
    {
     "name": "stdout",
     "output_type": "stream",
     "text": [
      "../input/painting-vs-photograph-classification-dataset/Raw Data/photos/5b0aa29a4a133dddd962fdb063895b8e34d30e6e.jpg\n"
     ]
    },
    {
     "name": "stderr",
     "output_type": "stream",
     "text": [
      " 24%|██▍       | 655/2737 [04:03<10:21,  3.35it/s]"
     ]
    },
    {
     "name": "stdout",
     "output_type": "stream",
     "text": [
      "../input/painting-vs-photograph-classification-dataset/Raw Data/photos/d4505692a7869738f3d39e7a1379f79e914c5809.jpg\n"
     ]
    },
    {
     "name": "stderr",
     "output_type": "stream",
     "text": [
      " 24%|██▍       | 656/2737 [04:03<09:47,  3.54it/s]"
     ]
    },
    {
     "name": "stdout",
     "output_type": "stream",
     "text": [
      "../input/painting-vs-photograph-classification-dataset/Raw Data/photos/bf3e569a46a6a6e13ac8d428ff7fe3238928ac1f.jpg\n"
     ]
    },
    {
     "name": "stderr",
     "output_type": "stream",
     "text": [
      " 24%|██▍       | 657/2737 [04:04<09:20,  3.71it/s]"
     ]
    },
    {
     "name": "stdout",
     "output_type": "stream",
     "text": [
      "../input/painting-vs-photograph-classification-dataset/Raw Data/photos/452869ca072f994cea3b0758c7d7574e9a494711.jpg\n"
     ]
    },
    {
     "name": "stderr",
     "output_type": "stream",
     "text": [
      " 24%|██▍       | 658/2737 [04:04<08:59,  3.85it/s]"
     ]
    },
    {
     "name": "stdout",
     "output_type": "stream",
     "text": [
      "../input/painting-vs-photograph-classification-dataset/Raw Data/photos/37fc931d7875978bd2329dab9235ca91acac8944.jpg\n"
     ]
    },
    {
     "name": "stderr",
     "output_type": "stream",
     "text": [
      " 24%|██▍       | 659/2737 [04:04<08:37,  4.02it/s]"
     ]
    },
    {
     "name": "stdout",
     "output_type": "stream",
     "text": [
      "../input/painting-vs-photograph-classification-dataset/Raw Data/painting/f7d7bb89a1616840aff24a6007546f9ee9c3db3b.jpg\n"
     ]
    },
    {
     "name": "stderr",
     "output_type": "stream",
     "text": [
      " 24%|██▍       | 660/2737 [04:05<16:55,  2.05it/s]"
     ]
    },
    {
     "name": "stdout",
     "output_type": "stream",
     "text": [
      "../input/painting-vs-photograph-classification-dataset/Raw Data/photos/72f8a8afa0f07568cc5f651142f05e86fa1c5240.jpg\n"
     ]
    },
    {
     "name": "stderr",
     "output_type": "stream",
     "text": [
      " 24%|██▍       | 661/2737 [04:05<14:41,  2.36it/s]"
     ]
    },
    {
     "name": "stdout",
     "output_type": "stream",
     "text": [
      "../input/painting-vs-photograph-classification-dataset/Raw Data/photos/153937552b7d8d877a73a1fdd5346d2607eca22f.jpg\n"
     ]
    },
    {
     "name": "stderr",
     "output_type": "stream",
     "text": [
      " 24%|██▍       | 662/2737 [04:06<13:01,  2.66it/s]"
     ]
    },
    {
     "name": "stdout",
     "output_type": "stream",
     "text": [
      "../input/painting-vs-photograph-classification-dataset/Raw Data/photos/e7018cbdc97c6702c1bec6aea1cb2dd6965404ed.jpg\n"
     ]
    },
    {
     "name": "stderr",
     "output_type": "stream",
     "text": [
      " 24%|██▍       | 663/2737 [04:06<11:22,  3.04it/s]"
     ]
    },
    {
     "name": "stdout",
     "output_type": "stream",
     "text": [
      "../input/painting-vs-photograph-classification-dataset/Raw Data/photos/96304ed94ab24069df41156e3a3fff932ec52abe.jpg\n"
     ]
    },
    {
     "name": "stderr",
     "output_type": "stream",
     "text": [
      " 24%|██▍       | 664/2737 [04:06<10:29,  3.29it/s]"
     ]
    },
    {
     "name": "stdout",
     "output_type": "stream",
     "text": [
      "../input/painting-vs-photograph-classification-dataset/Raw Data/photos/eb6fc40496a5694d84b2a7d3598ae1235db4c094.jpg\n"
     ]
    },
    {
     "name": "stderr",
     "output_type": "stream",
     "text": [
      " 24%|██▍       | 665/2737 [04:06<10:15,  3.36it/s]"
     ]
    },
    {
     "name": "stdout",
     "output_type": "stream",
     "text": [
      "../input/painting-vs-photograph-classification-dataset/Raw Data/painting/6d3a7ff95fb4dc3af38d166d0bf530fdd62ea0b6.jpg\n"
     ]
    },
    {
     "name": "stderr",
     "output_type": "stream",
     "text": [
      " 24%|██▍       | 666/2737 [04:07<14:55,  2.31it/s]"
     ]
    },
    {
     "name": "stdout",
     "output_type": "stream",
     "text": [
      "../input/painting-vs-photograph-classification-dataset/Raw Data/painting/89a2ce5d2bd75d349a65f79fd5553ff2d9cb4a65.jpg\n"
     ]
    },
    {
     "name": "stderr",
     "output_type": "stream",
     "text": [
      " 24%|██▍       | 667/2737 [04:07<13:55,  2.48it/s]"
     ]
    },
    {
     "name": "stdout",
     "output_type": "stream",
     "text": [
      "../input/painting-vs-photograph-classification-dataset/Raw Data/photos/340018f79031617271cf28de11fda12a44534c5b.jpg\n"
     ]
    },
    {
     "name": "stderr",
     "output_type": "stream",
     "text": [
      " 24%|██▍       | 668/2737 [04:08<12:08,  2.84it/s]"
     ]
    },
    {
     "name": "stdout",
     "output_type": "stream",
     "text": [
      "../input/painting-vs-photograph-classification-dataset/Raw Data/photos/324cac043c24074831fc4c4bd6752eb8c86b7f81.jpg\n"
     ]
    },
    {
     "name": "stderr",
     "output_type": "stream",
     "text": [
      " 24%|██▍       | 670/2737 [04:08<09:28,  3.64it/s]"
     ]
    },
    {
     "name": "stdout",
     "output_type": "stream",
     "text": [
      "../input/painting-vs-photograph-classification-dataset/Raw Data/photos/7e826be8c4d1f7f22208ad542c27ef2925e9d83b.jpg\n",
      "../input/painting-vs-photograph-classification-dataset/Raw Data/photos/9bc140cd977a4302a4dbe3a14d228b5d945ca055.jpg\n"
     ]
    },
    {
     "name": "stderr",
     "output_type": "stream",
     "text": [
      " 25%|██▍       | 671/2737 [04:08<08:20,  4.13it/s]"
     ]
    },
    {
     "name": "stdout",
     "output_type": "stream",
     "text": [
      "../input/painting-vs-photograph-classification-dataset/Raw Data/photos/879b50d0c991a9b822d829bebf85fbfe44b76886.jpg\n"
     ]
    },
    {
     "name": "stderr",
     "output_type": "stream",
     "text": [
      " 25%|██▍       | 672/2737 [04:09<08:18,  4.14it/s]"
     ]
    },
    {
     "name": "stdout",
     "output_type": "stream",
     "text": [
      "../input/painting-vs-photograph-classification-dataset/Raw Data/photos/6550728be265f710a1ef88828bae165ca7872e87.jpg\n"
     ]
    },
    {
     "name": "stderr",
     "output_type": "stream",
     "text": [
      " 25%|██▍       | 673/2737 [04:09<08:13,  4.18it/s]"
     ]
    },
    {
     "name": "stdout",
     "output_type": "stream",
     "text": [
      "../input/painting-vs-photograph-classification-dataset/Raw Data/photos/4013162aabba1a6285d53db2bf91742a9f944eb7.jpg\n"
     ]
    },
    {
     "name": "stderr",
     "output_type": "stream",
     "text": [
      " 25%|██▍       | 674/2737 [04:09<08:07,  4.23it/s]"
     ]
    },
    {
     "name": "stdout",
     "output_type": "stream",
     "text": [
      "../input/painting-vs-photograph-classification-dataset/Raw Data/photos/df41b0324a7682a6ce9cf4be91902461669f6db2.jpg\n"
     ]
    },
    {
     "name": "stderr",
     "output_type": "stream",
     "text": [
      " 25%|██▍       | 675/2737 [04:09<08:04,  4.26it/s]"
     ]
    },
    {
     "name": "stdout",
     "output_type": "stream",
     "text": [
      "../input/painting-vs-photograph-classification-dataset/Raw Data/photos/c837e2065727793935139dd0835b8829fffeb6e7.jpg\n"
     ]
    },
    {
     "name": "stderr",
     "output_type": "stream",
     "text": [
      " 25%|██▍       | 676/2737 [04:10<08:53,  3.87it/s]"
     ]
    },
    {
     "name": "stdout",
     "output_type": "stream",
     "text": [
      "../input/painting-vs-photograph-classification-dataset/Raw Data/photos/f9ab5d2f99d6ce8a5208bc54d6733299489aea33.jpg\n"
     ]
    },
    {
     "name": "stderr",
     "output_type": "stream",
     "text": [
      " 25%|██▍       | 677/2737 [04:10<09:56,  3.45it/s]"
     ]
    },
    {
     "name": "stdout",
     "output_type": "stream",
     "text": [
      "../input/painting-vs-photograph-classification-dataset/Raw Data/photos/ca3951226a93b6afc12c46f926fa41dcff7b4018.jpg\n"
     ]
    },
    {
     "name": "stderr",
     "output_type": "stream",
     "text": [
      " 25%|██▍       | 679/2737 [04:10<08:25,  4.07it/s]"
     ]
    },
    {
     "name": "stdout",
     "output_type": "stream",
     "text": [
      "../input/painting-vs-photograph-classification-dataset/Raw Data/photos/83890d5b41f9207a714871577419e017a7bce05c.jpg\n",
      "../input/painting-vs-photograph-classification-dataset/Raw Data/photos/250500efc9e153d9964389936cb4faabd5a07af6.jpg\n"
     ]
    },
    {
     "name": "stderr",
     "output_type": "stream",
     "text": [
      " 25%|██▍       | 681/2737 [04:11<07:43,  4.44it/s]"
     ]
    },
    {
     "name": "stdout",
     "output_type": "stream",
     "text": [
      "../input/painting-vs-photograph-classification-dataset/Raw Data/photos/891f480f371febdb052fa6f1c7b8d231f2434426.jpg\n",
      "../input/painting-vs-photograph-classification-dataset/Raw Data/photos/b920e5c37994d19642e0325e44b5046f5ff43170.jpg\n"
     ]
    },
    {
     "name": "stderr",
     "output_type": "stream",
     "text": [
      " 25%|██▍       | 682/2737 [04:11<07:48,  4.38it/s]"
     ]
    },
    {
     "name": "stdout",
     "output_type": "stream",
     "text": [
      "../input/painting-vs-photograph-classification-dataset/Raw Data/photos/d9260acb33b4fc20b4111559ebb88a463f4afaea.jpg\n"
     ]
    },
    {
     "name": "stderr",
     "output_type": "stream",
     "text": [
      " 25%|██▍       | 683/2737 [04:11<07:52,  4.34it/s]"
     ]
    },
    {
     "name": "stdout",
     "output_type": "stream",
     "text": [
      "../input/painting-vs-photograph-classification-dataset/Raw Data/photos/cb08958ab4c5d15327a582674e3f015563b091d8.jpg\n"
     ]
    },
    {
     "name": "stderr",
     "output_type": "stream",
     "text": [
      " 25%|██▍       | 684/2737 [04:11<07:58,  4.29it/s]"
     ]
    },
    {
     "name": "stdout",
     "output_type": "stream",
     "text": [
      "../input/painting-vs-photograph-classification-dataset/Raw Data/painting/0b220870e37498e50d2de10541286313d12833a3.jpg\n"
     ]
    },
    {
     "name": "stderr",
     "output_type": "stream",
     "text": [
      " 25%|██▌       | 685/2737 [04:12<13:55,  2.46it/s]"
     ]
    },
    {
     "name": "stdout",
     "output_type": "stream",
     "text": [
      "../input/painting-vs-photograph-classification-dataset/Raw Data/painting/674f18773ff0d8bfcf542bae6a751aedf335c45e.jpg\n"
     ]
    },
    {
     "name": "stderr",
     "output_type": "stream",
     "text": [
      " 25%|██▌       | 686/2737 [04:13<17:20,  1.97it/s]"
     ]
    },
    {
     "name": "stdout",
     "output_type": "stream",
     "text": [
      "../input/painting-vs-photograph-classification-dataset/Raw Data/photos/908e18c679f25b0d28401ec01d8663dbe9e203ae.jpg\n"
     ]
    },
    {
     "name": "stderr",
     "output_type": "stream",
     "text": [
      " 25%|██▌       | 687/2737 [04:13<15:42,  2.18it/s]"
     ]
    },
    {
     "name": "stdout",
     "output_type": "stream",
     "text": [
      "../input/painting-vs-photograph-classification-dataset/Raw Data/photos/2914f2f083b22e0cf5d131de429bbd57f4459cc5.jpg\n"
     ]
    },
    {
     "name": "stderr",
     "output_type": "stream",
     "text": [
      " 25%|██▌       | 688/2737 [04:14<13:23,  2.55it/s]"
     ]
    },
    {
     "name": "stdout",
     "output_type": "stream",
     "text": [
      "../input/painting-vs-photograph-classification-dataset/Raw Data/painting/fbd009403f2b928fe4841145f800c175b182af42.jpg\n"
     ]
    },
    {
     "name": "stderr",
     "output_type": "stream",
     "text": [
      " 25%|██▌       | 690/2737 [04:15<15:49,  2.16it/s]"
     ]
    },
    {
     "name": "stdout",
     "output_type": "stream",
     "text": [
      "../input/painting-vs-photograph-classification-dataset/Raw Data/photos/b0f8a48605ae26aebf739cb25a4035a417af02ff.jpg\n",
      "../input/painting-vs-photograph-classification-dataset/Raw Data/photos/ed38d55ce59b0199490ce06ec166e8c358c9ee77.jpg\n"
     ]
    },
    {
     "name": "stderr",
     "output_type": "stream",
     "text": [
      " 25%|██▌       | 691/2737 [04:15<13:28,  2.53it/s]"
     ]
    },
    {
     "name": "stdout",
     "output_type": "stream",
     "text": [
      "../input/painting-vs-photograph-classification-dataset/Raw Data/painting/84d33b18e5baafd5d427888cd13f790bed21fbf2.jpg\n"
     ]
    },
    {
     "name": "stderr",
     "output_type": "stream",
     "text": [
      " 25%|██▌       | 692/2737 [04:16<16:09,  2.11it/s]"
     ]
    },
    {
     "name": "stdout",
     "output_type": "stream",
     "text": [
      "../input/painting-vs-photograph-classification-dataset/Raw Data/painting/32bbb17cada89978ebf016992566cf7793affc06.jpg\n"
     ]
    },
    {
     "name": "stderr",
     "output_type": "stream",
     "text": [
      " 25%|██▌       | 693/2737 [04:16<16:18,  2.09it/s]"
     ]
    },
    {
     "name": "stdout",
     "output_type": "stream",
     "text": [
      "../input/painting-vs-photograph-classification-dataset/Raw Data/photos/d7b532a31a5189d6180046128b7047c617c58680.jpg\n"
     ]
    },
    {
     "name": "stderr",
     "output_type": "stream",
     "text": [
      " 25%|██▌       | 694/2737 [04:16<13:55,  2.45it/s]"
     ]
    },
    {
     "name": "stdout",
     "output_type": "stream",
     "text": [
      "../input/painting-vs-photograph-classification-dataset/Raw Data/photos/67a8b104160de6edbba2f29200ba0012c89eea94.jpg\n"
     ]
    },
    {
     "name": "stderr",
     "output_type": "stream",
     "text": [
      " 25%|██▌       | 696/2737 [04:17<10:13,  3.33it/s]"
     ]
    },
    {
     "name": "stdout",
     "output_type": "stream",
     "text": [
      "../input/painting-vs-photograph-classification-dataset/Raw Data/photos/0503a66e68ac5fba48adb9db9984a1810322a8cb.jpg\n",
      "../input/painting-vs-photograph-classification-dataset/Raw Data/photos/7002d5c20d462cf6b2100f8c97fc4dea743a7d7d.jpg\n"
     ]
    },
    {
     "name": "stderr",
     "output_type": "stream",
     "text": [
      " 25%|██▌       | 697/2737 [04:17<09:34,  3.55it/s]"
     ]
    },
    {
     "name": "stdout",
     "output_type": "stream",
     "text": [
      "../input/painting-vs-photograph-classification-dataset/Raw Data/photos/fbc3d6efe4ae2565c1e8a23c54bf5a7b958b0ed2.jpg\n"
     ]
    },
    {
     "name": "stderr",
     "output_type": "stream",
     "text": [
      " 26%|██▌       | 698/2737 [04:17<09:08,  3.72it/s]"
     ]
    },
    {
     "name": "stdout",
     "output_type": "stream",
     "text": [
      "../input/painting-vs-photograph-classification-dataset/Raw Data/photos/ae8d6e28ea1b9ed3a50588371315b69d37c148fc.jpg\n"
     ]
    },
    {
     "name": "stderr",
     "output_type": "stream",
     "text": [
      " 26%|██▌       | 699/2737 [04:18<08:55,  3.81it/s]"
     ]
    },
    {
     "name": "stdout",
     "output_type": "stream",
     "text": [
      "../input/painting-vs-photograph-classification-dataset/Raw Data/painting/abfd4501dc35e1eab1bba9e0e6b5c4b99757ed1f.jpg\n"
     ]
    },
    {
     "name": "stderr",
     "output_type": "stream",
     "text": [
      " 26%|██▌       | 700/2737 [04:18<12:30,  2.71it/s]"
     ]
    },
    {
     "name": "stdout",
     "output_type": "stream",
     "text": [
      "../input/painting-vs-photograph-classification-dataset/Raw Data/painting/77f17b49f7b4c8a77326d4dd780c1ec6878f4704.jpg\n"
     ]
    },
    {
     "name": "stderr",
     "output_type": "stream",
     "text": [
      " 26%|██▌       | 701/2737 [04:19<17:48,  1.90it/s]"
     ]
    },
    {
     "name": "stdout",
     "output_type": "stream",
     "text": [
      "../input/painting-vs-photograph-classification-dataset/Raw Data/photos/45b23a0c2e93a84bdb017eacfb7347809e671333.jpg\n"
     ]
    },
    {
     "name": "stderr",
     "output_type": "stream",
     "text": [
      " 26%|██▌       | 702/2737 [04:19<14:50,  2.29it/s]"
     ]
    },
    {
     "name": "stdout",
     "output_type": "stream",
     "text": [
      "../input/painting-vs-photograph-classification-dataset/Raw Data/painting/f6b8079527119c7245186cc6c49808ad453a3437.jpg\n"
     ]
    },
    {
     "name": "stderr",
     "output_type": "stream",
     "text": [
      " 26%|██▌       | 703/2737 [04:20<18:23,  1.84it/s]"
     ]
    },
    {
     "name": "stdout",
     "output_type": "stream",
     "text": [
      "../input/painting-vs-photograph-classification-dataset/Raw Data/photos/a28a241c8e9f958a4826cf4acc3cec281485db9a.jpg\n"
     ]
    },
    {
     "name": "stderr",
     "output_type": "stream",
     "text": [
      " 26%|██▌       | 704/2737 [04:20<15:19,  2.21it/s]"
     ]
    },
    {
     "name": "stdout",
     "output_type": "stream",
     "text": [
      "../input/painting-vs-photograph-classification-dataset/Raw Data/photos/94fdaa407e1c70ba174386c78a09c144f7ae9047.jpg\n"
     ]
    },
    {
     "name": "stderr",
     "output_type": "stream",
     "text": [
      " 26%|██▌       | 705/2737 [04:21<14:04,  2.41it/s]"
     ]
    },
    {
     "name": "stdout",
     "output_type": "stream",
     "text": [
      "../input/painting-vs-photograph-classification-dataset/Raw Data/painting/be307e1a9052a4b274128ceaca49ecd58d5d9278.jpg\n"
     ]
    },
    {
     "name": "stderr",
     "output_type": "stream",
     "text": [
      " 26%|██▌       | 706/2737 [04:21<12:44,  2.66it/s]"
     ]
    },
    {
     "name": "stdout",
     "output_type": "stream",
     "text": [
      "../input/painting-vs-photograph-classification-dataset/Raw Data/photos/141a679a22b7b2494ce1269096750c88d770527a.jpg\n"
     ]
    },
    {
     "name": "stderr",
     "output_type": "stream",
     "text": [
      " 26%|██▌       | 707/2737 [04:21<11:15,  3.00it/s]"
     ]
    },
    {
     "name": "stdout",
     "output_type": "stream",
     "text": [
      "../input/painting-vs-photograph-classification-dataset/Raw Data/photos/a414ed0e7c9a8def3a7460b744cba2d236b911ac.jpg\n"
     ]
    },
    {
     "name": "stderr",
     "output_type": "stream",
     "text": [
      " 26%|██▌       | 708/2737 [04:21<10:13,  3.31it/s]"
     ]
    },
    {
     "name": "stdout",
     "output_type": "stream",
     "text": [
      "../input/painting-vs-photograph-classification-dataset/Raw Data/painting/bb10f5fb3c3459f61cb25c48d0ba7d5deedf9ebf.jpg\n"
     ]
    },
    {
     "name": "stderr",
     "output_type": "stream",
     "text": [
      " 26%|██▌       | 709/2737 [04:22<14:21,  2.35it/s]"
     ]
    },
    {
     "name": "stdout",
     "output_type": "stream",
     "text": [
      "../input/painting-vs-photograph-classification-dataset/Raw Data/painting/21cd706fb84730f949b79afc2ef9cbabc5a71f69.jpg\n"
     ]
    },
    {
     "name": "stderr",
     "output_type": "stream",
     "text": [
      " 26%|██▌       | 710/2737 [04:23<20:54,  1.62it/s]"
     ]
    },
    {
     "name": "stdout",
     "output_type": "stream",
     "text": [
      "../input/painting-vs-photograph-classification-dataset/Raw Data/painting/fb503458c4383f99add179bd3287c17bb37cacd8.jpg\n"
     ]
    },
    {
     "name": "stderr",
     "output_type": "stream",
     "text": [
      " 26%|██▌       | 712/2737 [04:24<18:07,  1.86it/s]"
     ]
    },
    {
     "name": "stdout",
     "output_type": "stream",
     "text": [
      "../input/painting-vs-photograph-classification-dataset/Raw Data/photos/af4eddb15cb8fa1a2455fa7831483f5eaa550862.jpg\n",
      "../input/painting-vs-photograph-classification-dataset/Raw Data/photos/e82ebf07ebfcab5a19790d4dd1cf3fc98eb6f5e3.jpg\n"
     ]
    },
    {
     "name": "stderr",
     "output_type": "stream",
     "text": [
      " 26%|██▌       | 713/2737 [04:24<15:16,  2.21it/s]"
     ]
    },
    {
     "name": "stdout",
     "output_type": "stream",
     "text": [
      "../input/painting-vs-photograph-classification-dataset/Raw Data/photos/364fdabe2f97d2ae370b545987e36656dd67ecf2.jpg\n"
     ]
    },
    {
     "name": "stderr",
     "output_type": "stream",
     "text": [
      " 26%|██▌       | 714/2737 [04:25<13:07,  2.57it/s]"
     ]
    },
    {
     "name": "stdout",
     "output_type": "stream",
     "text": [
      "../input/painting-vs-photograph-classification-dataset/Raw Data/photos/98324f1b3062c9db57328944fd9e125dffece860.jpg\n"
     ]
    },
    {
     "name": "stderr",
     "output_type": "stream",
     "text": [
      " 26%|██▌       | 716/2737 [04:25<10:11,  3.31it/s]"
     ]
    },
    {
     "name": "stdout",
     "output_type": "stream",
     "text": [
      "../input/painting-vs-photograph-classification-dataset/Raw Data/photos/d16fd09da2b5531068d219d480eb0e7cac420f8f.jpg\n",
      "../input/painting-vs-photograph-classification-dataset/Raw Data/photos/7182bb48c9a66bc732bafc1518de9261bdb81cd1.jpg\n"
     ]
    },
    {
     "name": "stderr",
     "output_type": "stream",
     "text": [
      " 26%|██▌       | 717/2737 [04:25<08:49,  3.82it/s]"
     ]
    },
    {
     "name": "stdout",
     "output_type": "stream",
     "text": [
      "../input/painting-vs-photograph-classification-dataset/Raw Data/photos/5816ae24e0dd410e438dfeb07072afdf5c2d015a.jpg\n"
     ]
    },
    {
     "name": "stderr",
     "output_type": "stream",
     "text": [
      " 26%|██▌       | 718/2737 [04:26<09:04,  3.71it/s]"
     ]
    },
    {
     "name": "stdout",
     "output_type": "stream",
     "text": [
      "../input/painting-vs-photograph-classification-dataset/Raw Data/painting/e76585daa5ef9677cf89c23e153f6c26b86a609a.jpg\n"
     ]
    },
    {
     "name": "stderr",
     "output_type": "stream",
     "text": [
      " 26%|██▋       | 719/2737 [04:26<14:53,  2.26it/s]"
     ]
    },
    {
     "name": "stdout",
     "output_type": "stream",
     "text": [
      "../input/painting-vs-photograph-classification-dataset/Raw Data/photos/d61d4a8a744d48aca78a5f7af2c680e3663c533c.jpg\n"
     ]
    },
    {
     "name": "stderr",
     "output_type": "stream",
     "text": [
      " 26%|██▋       | 720/2737 [04:27<12:42,  2.65it/s]"
     ]
    },
    {
     "name": "stdout",
     "output_type": "stream",
     "text": [
      "../input/painting-vs-photograph-classification-dataset/Raw Data/painting/e79ec10f82e723baf74097e9d987ed36a0267b54.jpg\n"
     ]
    },
    {
     "name": "stderr",
     "output_type": "stream",
     "text": [
      " 26%|██▋       | 721/2737 [04:27<15:32,  2.16it/s]"
     ]
    },
    {
     "name": "stdout",
     "output_type": "stream",
     "text": [
      "../input/painting-vs-photograph-classification-dataset/Raw Data/photos/2ba7133d9d8393227477621df4739584472baed1.jpg\n"
     ]
    },
    {
     "name": "stderr",
     "output_type": "stream",
     "text": [
      " 26%|██▋       | 722/2737 [04:28<13:08,  2.55it/s]"
     ]
    },
    {
     "name": "stdout",
     "output_type": "stream",
     "text": [
      "../input/painting-vs-photograph-classification-dataset/Raw Data/photos/b0fe897392706d7bd4a7bb80a52b44133a0b8508.jpg\n"
     ]
    },
    {
     "name": "stderr",
     "output_type": "stream",
     "text": [
      " 26%|██▋       | 723/2737 [04:28<11:27,  2.93it/s]"
     ]
    },
    {
     "name": "stdout",
     "output_type": "stream",
     "text": [
      "../input/painting-vs-photograph-classification-dataset/Raw Data/painting/fb17c68f99ba67b2624de9c8e2c4a84e87f2d673.jpg\n"
     ]
    },
    {
     "name": "stderr",
     "output_type": "stream",
     "text": [
      " 26%|██▋       | 724/2737 [04:29<16:22,  2.05it/s]"
     ]
    },
    {
     "name": "stdout",
     "output_type": "stream",
     "text": [
      "../input/painting-vs-photograph-classification-dataset/Raw Data/photos/89161ea454d4d1fe476f8f978d26e7d444d18616.jpg\n"
     ]
    },
    {
     "name": "stderr",
     "output_type": "stream",
     "text": [
      " 26%|██▋       | 725/2737 [04:29<15:07,  2.22it/s]"
     ]
    },
    {
     "name": "stdout",
     "output_type": "stream",
     "text": [
      "../input/painting-vs-photograph-classification-dataset/Raw Data/photos/7be0b904cd3a02b29f70a24705b93543dad23668.jpg\n"
     ]
    },
    {
     "name": "stderr",
     "output_type": "stream",
     "text": [
      " 27%|██▋       | 726/2737 [04:29<12:59,  2.58it/s]"
     ]
    },
    {
     "name": "stdout",
     "output_type": "stream",
     "text": [
      "../input/painting-vs-photograph-classification-dataset/Raw Data/photos/2bc8f5356bdc1a5dabedd5c3d494ff728044f141.jpg\n"
     ]
    },
    {
     "name": "stderr",
     "output_type": "stream",
     "text": [
      " 27%|██▋       | 727/2737 [04:29<11:32,  2.90it/s]"
     ]
    },
    {
     "name": "stdout",
     "output_type": "stream",
     "text": [
      "../input/painting-vs-photograph-classification-dataset/Raw Data/photos/d3c1f196107f5aca013edc949f2c94e2660f17b7.jpg\n"
     ]
    },
    {
     "name": "stderr",
     "output_type": "stream",
     "text": [
      " 27%|██▋       | 728/2737 [04:30<11:09,  3.00it/s]"
     ]
    },
    {
     "name": "stdout",
     "output_type": "stream",
     "text": [
      "../input/painting-vs-photograph-classification-dataset/Raw Data/painting/41e59a1ab749fae43e138d8f892f9814b415cd4e.jpg\n"
     ]
    },
    {
     "name": "stderr",
     "output_type": "stream",
     "text": [
      " 27%|██▋       | 729/2737 [04:30<12:25,  2.70it/s]"
     ]
    },
    {
     "name": "stdout",
     "output_type": "stream",
     "text": [
      "../input/painting-vs-photograph-classification-dataset/Raw Data/photos/c8597e5dadfe75ffbffcf3028dc7ec87023b9308.jpg\n"
     ]
    },
    {
     "name": "stderr",
     "output_type": "stream",
     "text": [
      " 27%|██▋       | 730/2737 [04:31<11:17,  2.96it/s]"
     ]
    },
    {
     "name": "stdout",
     "output_type": "stream",
     "text": [
      "../input/painting-vs-photograph-classification-dataset/Raw Data/painting/815258f14d2717d78c68e624d820e203649dc107.jpg\n"
     ]
    },
    {
     "name": "stderr",
     "output_type": "stream",
     "text": [
      " 27%|██▋       | 732/2737 [04:31<12:12,  2.74it/s]"
     ]
    },
    {
     "name": "stdout",
     "output_type": "stream",
     "text": [
      "../input/painting-vs-photograph-classification-dataset/Raw Data/photos/c476ed1930d63b37347573b5aaae58194a1fee19.jpg\n",
      "../input/painting-vs-photograph-classification-dataset/Raw Data/photos/70edf72eb2f82f5e37cb1796fc536fc5705405a4.jpg\n"
     ]
    },
    {
     "name": "stderr",
     "output_type": "stream",
     "text": [
      " 27%|██▋       | 733/2737 [04:32<12:19,  2.71it/s]"
     ]
    },
    {
     "name": "stdout",
     "output_type": "stream",
     "text": [
      "../input/painting-vs-photograph-classification-dataset/Raw Data/photos/087041dd5ab7de8d98037b7c6a5edb6fd001260a.jpg\n"
     ]
    },
    {
     "name": "stderr",
     "output_type": "stream",
     "text": [
      " 27%|██▋       | 734/2737 [04:32<11:08,  3.00it/s]"
     ]
    },
    {
     "name": "stdout",
     "output_type": "stream",
     "text": [
      "../input/painting-vs-photograph-classification-dataset/Raw Data/photos/168c47f2cc7b1565affe0ab2a9914005654be892.jpg\n"
     ]
    },
    {
     "name": "stderr",
     "output_type": "stream",
     "text": [
      " 27%|██▋       | 735/2737 [04:32<10:35,  3.15it/s]"
     ]
    },
    {
     "name": "stdout",
     "output_type": "stream",
     "text": [
      "../input/painting-vs-photograph-classification-dataset/Raw Data/painting/0aefbec337b17597daf0b086d91360c995029545.jpg\n"
     ]
    },
    {
     "name": "stderr",
     "output_type": "stream",
     "text": [
      " 27%|██▋       | 736/2737 [04:33<18:13,  1.83it/s]"
     ]
    },
    {
     "name": "stdout",
     "output_type": "stream",
     "text": [
      "../input/painting-vs-photograph-classification-dataset/Raw Data/painting/f86f27d8a142741d892586e3131011e35e46db13.jpg\n"
     ]
    },
    {
     "name": "stderr",
     "output_type": "stream",
     "text": [
      " 27%|██▋       | 737/2737 [04:34<20:15,  1.65it/s]"
     ]
    },
    {
     "name": "stdout",
     "output_type": "stream",
     "text": [
      "../input/painting-vs-photograph-classification-dataset/Raw Data/photos/e2b4488667f296a6c08bdfefd72d5df9e3d1e354.jpg\n"
     ]
    },
    {
     "name": "stderr",
     "output_type": "stream",
     "text": [
      " 27%|██▋       | 738/2737 [04:34<16:34,  2.01it/s]"
     ]
    },
    {
     "name": "stdout",
     "output_type": "stream",
     "text": [
      "../input/painting-vs-photograph-classification-dataset/Raw Data/photos/f616fa33a0e9563f7a5f08907eda9d2ad829d997.jpg\n"
     ]
    },
    {
     "name": "stderr",
     "output_type": "stream",
     "text": [
      " 27%|██▋       | 739/2737 [04:35<14:00,  2.38it/s]"
     ]
    },
    {
     "name": "stdout",
     "output_type": "stream",
     "text": [
      "../input/painting-vs-photograph-classification-dataset/Raw Data/photos/143f82a4856e8234376513423576c7646330d067.jpg\n"
     ]
    },
    {
     "name": "stderr",
     "output_type": "stream",
     "text": [
      " 27%|██▋       | 740/2737 [04:35<11:54,  2.79it/s]"
     ]
    },
    {
     "name": "stdout",
     "output_type": "stream",
     "text": [
      "../input/painting-vs-photograph-classification-dataset/Raw Data/photos/5890562e4145587cfd4aa37547f5fa1428b44071.jpg\n"
     ]
    },
    {
     "name": "stderr",
     "output_type": "stream",
     "text": [
      " 27%|██▋       | 741/2737 [04:35<10:41,  3.11it/s]"
     ]
    },
    {
     "name": "stdout",
     "output_type": "stream",
     "text": [
      "../input/painting-vs-photograph-classification-dataset/Raw Data/photos/29b7282ea0f7c7d611d90d88c98651f4d464fb41.jpg\n"
     ]
    },
    {
     "name": "stderr",
     "output_type": "stream",
     "text": [
      " 27%|██▋       | 742/2737 [04:35<11:04,  3.00it/s]"
     ]
    },
    {
     "name": "stdout",
     "output_type": "stream",
     "text": [
      "../input/painting-vs-photograph-classification-dataset/Raw Data/photos/a338df5afbcf359f58e02047a0e3da53eafd9bf0.jpg\n"
     ]
    },
    {
     "name": "stderr",
     "output_type": "stream",
     "text": [
      " 27%|██▋       | 743/2737 [04:36<10:16,  3.24it/s]"
     ]
    },
    {
     "name": "stdout",
     "output_type": "stream",
     "text": [
      "../input/painting-vs-photograph-classification-dataset/Raw Data/painting/5c81057c90d1e7b0096dda632ab94d8770cc234b.jpg\n"
     ]
    },
    {
     "name": "stderr",
     "output_type": "stream",
     "text": [
      " 27%|██▋       | 744/2737 [04:36<15:10,  2.19it/s]"
     ]
    },
    {
     "name": "stdout",
     "output_type": "stream",
     "text": [
      "../input/painting-vs-photograph-classification-dataset/Raw Data/painting/9dd95062b466a4f2d1716dd48dfa185066a0c545.jpg\n"
     ]
    },
    {
     "name": "stderr",
     "output_type": "stream",
     "text": [
      " 27%|██▋       | 745/2737 [04:38<21:29,  1.54it/s]"
     ]
    },
    {
     "name": "stdout",
     "output_type": "stream",
     "text": [
      "../input/painting-vs-photograph-classification-dataset/Raw Data/photos/3d4400fca594423bc6ec65f469c450ab11ad2ea5.jpg\n"
     ]
    },
    {
     "name": "stderr",
     "output_type": "stream",
     "text": [
      " 27%|██▋       | 747/2737 [04:38<13:38,  2.43it/s]"
     ]
    },
    {
     "name": "stdout",
     "output_type": "stream",
     "text": [
      "../input/painting-vs-photograph-classification-dataset/Raw Data/photos/d11a7ab2c54c77dc742913542788241e5409b29f.jpg\n",
      "../input/painting-vs-photograph-classification-dataset/Raw Data/photos/00c8116a69ff5749f10752200c1419ac41ebe46d.jpg\n"
     ]
    },
    {
     "name": "stderr",
     "output_type": "stream",
     "text": [
      " 27%|██▋       | 748/2737 [04:38<11:58,  2.77it/s]"
     ]
    },
    {
     "name": "stdout",
     "output_type": "stream",
     "text": [
      "../input/painting-vs-photograph-classification-dataset/Raw Data/photos/c73dd344602259d81955bef298c9abd88f83b77c.jpg\n"
     ]
    },
    {
     "name": "stderr",
     "output_type": "stream",
     "text": [
      " 27%|██▋       | 749/2737 [04:38<10:49,  3.06it/s]"
     ]
    },
    {
     "name": "stdout",
     "output_type": "stream",
     "text": [
      "../input/painting-vs-photograph-classification-dataset/Raw Data/photos/53dcf0799e4ca2f7becfcc645dfeb419b1cefea7.jpg\n"
     ]
    },
    {
     "name": "stderr",
     "output_type": "stream",
     "text": [
      " 27%|██▋       | 751/2737 [04:39<08:49,  3.75it/s]"
     ]
    },
    {
     "name": "stdout",
     "output_type": "stream",
     "text": [
      "../input/painting-vs-photograph-classification-dataset/Raw Data/photos/e3f8eb058348892f9b4efc0922c109c8152ced40.jpg\n",
      "../input/painting-vs-photograph-classification-dataset/Raw Data/photos/811ef88c283457ff0aa37596a694cd1fe462ce82.jpg\n"
     ]
    },
    {
     "name": "stderr",
     "output_type": "stream",
     "text": [
      " 28%|██▊       | 753/2737 [04:39<07:40,  4.31it/s]"
     ]
    },
    {
     "name": "stdout",
     "output_type": "stream",
     "text": [
      "../input/painting-vs-photograph-classification-dataset/Raw Data/photos/e5f04e6a33b94cb1a902e7cc0aa31d92f8b00741.jpg\n",
      "../input/painting-vs-photograph-classification-dataset/Raw Data/photos/f46c0b5ffc9d28f5fa7b87efd9be016f62690e1f.jpg\n"
     ]
    },
    {
     "name": "stderr",
     "output_type": "stream",
     "text": [
      " 28%|██▊       | 754/2737 [04:40<07:45,  4.26it/s]"
     ]
    },
    {
     "name": "stdout",
     "output_type": "stream",
     "text": [
      "../input/painting-vs-photograph-classification-dataset/Raw Data/photos/e2fdfef8abba8e8cc6301f81ea1a0502ab125e81.jpg\n"
     ]
    },
    {
     "name": "stderr",
     "output_type": "stream",
     "text": [
      " 28%|██▊       | 755/2737 [04:40<07:56,  4.16it/s]"
     ]
    },
    {
     "name": "stdout",
     "output_type": "stream",
     "text": [
      "../input/painting-vs-photograph-classification-dataset/Raw Data/photos/1774899981ab40aebf56b5c764ccdf291729b80f.jpg\n"
     ]
    },
    {
     "name": "stderr",
     "output_type": "stream",
     "text": [
      " 28%|██▊       | 756/2737 [04:40<08:04,  4.09it/s]"
     ]
    },
    {
     "name": "stdout",
     "output_type": "stream",
     "text": [
      "../input/painting-vs-photograph-classification-dataset/Raw Data/painting/5f3fbd821e25c86479d753ce3ad6cb18bc34db81.jpg\n"
     ]
    },
    {
     "name": "stderr",
     "output_type": "stream",
     "text": [
      " 28%|██▊       | 757/2737 [04:41<13:26,  2.46it/s]"
     ]
    },
    {
     "name": "stdout",
     "output_type": "stream",
     "text": [
      "../input/painting-vs-photograph-classification-dataset/Raw Data/photos/fda6c844ea1e1a61416e78ec7b2051267a994f71.jpg\n"
     ]
    },
    {
     "name": "stderr",
     "output_type": "stream",
     "text": [
      " 28%|██▊       | 758/2737 [04:41<11:42,  2.82it/s]"
     ]
    },
    {
     "name": "stdout",
     "output_type": "stream",
     "text": [
      "../input/painting-vs-photograph-classification-dataset/Raw Data/photos/78981b2699e6862be5986f9dba6ec01a1a951251.jpg\n"
     ]
    },
    {
     "name": "stderr",
     "output_type": "stream",
     "text": [
      " 28%|██▊       | 759/2737 [04:41<10:41,  3.08it/s]"
     ]
    },
    {
     "name": "stdout",
     "output_type": "stream",
     "text": [
      "../input/painting-vs-photograph-classification-dataset/Raw Data/photos/7011ab2ea4cf22b09bacbfc1311219409e6010d9.jpg\n"
     ]
    },
    {
     "name": "stderr",
     "output_type": "stream",
     "text": [
      " 28%|██▊       | 760/2737 [04:41<09:32,  3.45it/s]"
     ]
    },
    {
     "name": "stdout",
     "output_type": "stream",
     "text": [
      "../input/painting-vs-photograph-classification-dataset/Raw Data/photos/4369b173a75b1a55f92e8db96d8a7f04c57cf4c5.jpg\n"
     ]
    },
    {
     "name": "stderr",
     "output_type": "stream",
     "text": [
      " 28%|██▊       | 761/2737 [04:42<08:53,  3.71it/s]"
     ]
    },
    {
     "name": "stdout",
     "output_type": "stream",
     "text": [
      "../input/painting-vs-photograph-classification-dataset/Raw Data/painting/5702d3362794fb11f4b03c9e824a3c8612ac0745.jpg\n"
     ]
    },
    {
     "name": "stderr",
     "output_type": "stream",
     "text": [
      " 28%|██▊       | 762/2737 [04:43<16:34,  1.99it/s]"
     ]
    },
    {
     "name": "stdout",
     "output_type": "stream",
     "text": [
      "../input/painting-vs-photograph-classification-dataset/Raw Data/photos/bbc382f1c6227106376181572428748f0cb99605.jpg\n"
     ]
    },
    {
     "name": "stderr",
     "output_type": "stream",
     "text": [
      " 28%|██▊       | 763/2737 [04:43<13:57,  2.36it/s]"
     ]
    },
    {
     "name": "stdout",
     "output_type": "stream",
     "text": [
      "../input/painting-vs-photograph-classification-dataset/Raw Data/photos/5b36f6c17ff0d809202f5d4edbf324f6a6719375.jpg\n"
     ]
    },
    {
     "name": "stderr",
     "output_type": "stream",
     "text": [
      " 28%|██▊       | 764/2737 [04:43<12:33,  2.62it/s]"
     ]
    },
    {
     "name": "stdout",
     "output_type": "stream",
     "text": [
      "../input/painting-vs-photograph-classification-dataset/Raw Data/photos/e469713a9b42e755ca7b17a01d8468c5814e3dfa.jpg\n"
     ]
    },
    {
     "name": "stderr",
     "output_type": "stream",
     "text": [
      " 28%|██▊       | 765/2737 [04:44<11:03,  2.97it/s]"
     ]
    },
    {
     "name": "stdout",
     "output_type": "stream",
     "text": [
      "../input/painting-vs-photograph-classification-dataset/Raw Data/photos/eb36feabedcd2056dc4e8d82eaad41721ab9bc65.jpg\n"
     ]
    },
    {
     "name": "stderr",
     "output_type": "stream",
     "text": [
      " 28%|██▊       | 766/2737 [04:44<10:00,  3.28it/s]"
     ]
    },
    {
     "name": "stdout",
     "output_type": "stream",
     "text": [
      "../input/painting-vs-photograph-classification-dataset/Raw Data/photos/833d8c6f08b17f60016f488945e596560244218a.jpg\n"
     ]
    },
    {
     "name": "stderr",
     "output_type": "stream",
     "text": [
      " 28%|██▊       | 767/2737 [04:44<09:17,  3.53it/s]"
     ]
    },
    {
     "name": "stdout",
     "output_type": "stream",
     "text": [
      "../input/painting-vs-photograph-classification-dataset/Raw Data/photos/42a8e1d9b4ef9c1b572741b4a9e3c4176b7e4a62.jpg\n"
     ]
    },
    {
     "name": "stderr",
     "output_type": "stream",
     "text": [
      " 28%|██▊       | 768/2737 [04:44<08:45,  3.74it/s]"
     ]
    },
    {
     "name": "stdout",
     "output_type": "stream",
     "text": [
      "../input/painting-vs-photograph-classification-dataset/Raw Data/painting/5f548504d6df41531a03d19cd1a694be3e0101b2.jpg\n"
     ]
    },
    {
     "name": "stderr",
     "output_type": "stream",
     "text": [
      " 28%|██▊       | 769/2737 [04:45<13:14,  2.48it/s]"
     ]
    },
    {
     "name": "stdout",
     "output_type": "stream",
     "text": [
      "../input/painting-vs-photograph-classification-dataset/Raw Data/photos/003d6be5a60fd936038c3ac9e486b93d42b26b5c.jpg\n"
     ]
    },
    {
     "name": "stderr",
     "output_type": "stream",
     "text": [
      " 28%|██▊       | 770/2737 [04:45<11:31,  2.85it/s]"
     ]
    },
    {
     "name": "stdout",
     "output_type": "stream",
     "text": [
      "../input/painting-vs-photograph-classification-dataset/Raw Data/photos/328e82d2cd51e3cee48f2c20c13659fabcd146d9.jpg\n"
     ]
    },
    {
     "name": "stderr",
     "output_type": "stream",
     "text": [
      " 28%|██▊       | 771/2737 [04:45<10:18,  3.18it/s]"
     ]
    },
    {
     "name": "stdout",
     "output_type": "stream",
     "text": [
      "../input/painting-vs-photograph-classification-dataset/Raw Data/photos/625c8002976f08f3c81976d54f9244c02ea6898a.jpg\n"
     ]
    },
    {
     "name": "stderr",
     "output_type": "stream",
     "text": [
      " 28%|██▊       | 772/2737 [04:46<09:34,  3.42it/s]"
     ]
    },
    {
     "name": "stdout",
     "output_type": "stream",
     "text": [
      "../input/painting-vs-photograph-classification-dataset/Raw Data/painting/e6343558e09e8a4b50b1b67590b9b454b922ea74.jpg\n"
     ]
    },
    {
     "name": "stderr",
     "output_type": "stream",
     "text": [
      " 28%|██▊       | 773/2737 [04:46<12:28,  2.62it/s]"
     ]
    },
    {
     "name": "stdout",
     "output_type": "stream",
     "text": [
      "../input/painting-vs-photograph-classification-dataset/Raw Data/painting/32a1ef43da1cb09378afa590405eadf3ab144d28.jpg\n"
     ]
    },
    {
     "name": "stderr",
     "output_type": "stream",
     "text": [
      " 28%|██▊       | 774/2737 [04:47<18:31,  1.77it/s]"
     ]
    },
    {
     "name": "stdout",
     "output_type": "stream",
     "text": [
      "../input/painting-vs-photograph-classification-dataset/Raw Data/photos/ef3e6da324fe9141ed846651d0559595cdb728ab.jpg\n"
     ]
    },
    {
     "name": "stderr",
     "output_type": "stream",
     "text": [
      " 28%|██▊       | 775/2737 [04:47<15:17,  2.14it/s]"
     ]
    },
    {
     "name": "stdout",
     "output_type": "stream",
     "text": [
      "../input/painting-vs-photograph-classification-dataset/Raw Data/photos/154a0d1132f82b5dea56c32094eeefd97b9f3793.jpg\n"
     ]
    },
    {
     "name": "stderr",
     "output_type": "stream",
     "text": [
      " 28%|██▊       | 776/2737 [04:48<12:58,  2.52it/s]"
     ]
    },
    {
     "name": "stdout",
     "output_type": "stream",
     "text": [
      "../input/painting-vs-photograph-classification-dataset/Raw Data/photos/e93960d6a66bc5eee91d3a05b9f2809fb91d1b44.jpg\n"
     ]
    },
    {
     "name": "stderr",
     "output_type": "stream",
     "text": [
      " 28%|██▊       | 777/2737 [04:48<11:10,  2.92it/s]"
     ]
    },
    {
     "name": "stdout",
     "output_type": "stream",
     "text": [
      "../input/painting-vs-photograph-classification-dataset/Raw Data/painting/dde35b1be2b43bdc27eb9f36787110a7d12927a8.jpg\n"
     ]
    },
    {
     "name": "stderr",
     "output_type": "stream",
     "text": [
      " 28%|██▊       | 778/2737 [04:49<15:35,  2.09it/s]"
     ]
    },
    {
     "name": "stdout",
     "output_type": "stream",
     "text": [
      "../input/painting-vs-photograph-classification-dataset/Raw Data/photos/e6994ca8e1e597dd9cf77024f592432dc1d7c1b3.jpg\n"
     ]
    },
    {
     "name": "stderr",
     "output_type": "stream",
     "text": [
      " 28%|██▊       | 779/2737 [04:49<13:05,  2.49it/s]"
     ]
    },
    {
     "name": "stdout",
     "output_type": "stream",
     "text": [
      "../input/painting-vs-photograph-classification-dataset/Raw Data/photos/333b1442213b8dfb8696a85edf8eb5e9cc3cd399.jpg\n"
     ]
    },
    {
     "name": "stderr",
     "output_type": "stream",
     "text": [
      " 28%|██▊       | 780/2737 [04:49<11:45,  2.77it/s]"
     ]
    },
    {
     "name": "stdout",
     "output_type": "stream",
     "text": [
      "../input/painting-vs-photograph-classification-dataset/Raw Data/painting/518a07ca37d5dd389813c9ae97fbece01823d470.jpg\n"
     ]
    },
    {
     "name": "stderr",
     "output_type": "stream",
     "text": [
      " 29%|██▊       | 781/2737 [04:50<14:10,  2.30it/s]"
     ]
    },
    {
     "name": "stdout",
     "output_type": "stream",
     "text": [
      "../input/painting-vs-photograph-classification-dataset/Raw Data/photos/b4b439d63c5618752deb41fdf14f97d4beec8c1b.jpg\n"
     ]
    },
    {
     "name": "stderr",
     "output_type": "stream",
     "text": [
      " 29%|██▊       | 782/2737 [04:50<11:59,  2.72it/s]"
     ]
    },
    {
     "name": "stdout",
     "output_type": "stream",
     "text": [
      "../input/painting-vs-photograph-classification-dataset/Raw Data/photos/fefad711fe3a328b2506aeb208ca90ee94a5d0fe.jpg\n"
     ]
    },
    {
     "name": "stderr",
     "output_type": "stream",
     "text": [
      " 29%|██▊       | 784/2737 [04:51<09:50,  3.31it/s]"
     ]
    },
    {
     "name": "stdout",
     "output_type": "stream",
     "text": [
      "../input/painting-vs-photograph-classification-dataset/Raw Data/photos/c2fe9fced4d315753ec8e91c7a8b21f3602a3cb0.jpg\n",
      "../input/painting-vs-photograph-classification-dataset/Raw Data/photos/ea50634344bfba13eeaf53f56ea8dcc40b3abec3.jpg\n"
     ]
    },
    {
     "name": "stderr",
     "output_type": "stream",
     "text": [
      " 29%|██▊       | 785/2737 [04:51<09:16,  3.51it/s]"
     ]
    },
    {
     "name": "stdout",
     "output_type": "stream",
     "text": [
      "../input/painting-vs-photograph-classification-dataset/Raw Data/photos/44f7a6314099c630c31190d9bbb258d5b6291535.jpg\n"
     ]
    },
    {
     "name": "stderr",
     "output_type": "stream",
     "text": [
      " 29%|██▊       | 786/2737 [04:51<08:42,  3.74it/s]"
     ]
    },
    {
     "name": "stdout",
     "output_type": "stream",
     "text": [
      "../input/painting-vs-photograph-classification-dataset/Raw Data/photos/c506225611efdf7144958997d2ade9a5b95f5a07.jpg\n"
     ]
    },
    {
     "name": "stderr",
     "output_type": "stream",
     "text": [
      " 29%|██▉       | 787/2737 [04:51<08:25,  3.86it/s]"
     ]
    },
    {
     "name": "stdout",
     "output_type": "stream",
     "text": [
      "../input/painting-vs-photograph-classification-dataset/Raw Data/painting/af5222880514c1dffe00516d4b48c42eada21646.jpg\n"
     ]
    },
    {
     "name": "stderr",
     "output_type": "stream",
     "text": [
      " 29%|██▉       | 788/2737 [04:52<11:56,  2.72it/s]"
     ]
    },
    {
     "name": "stdout",
     "output_type": "stream",
     "text": [
      "../input/painting-vs-photograph-classification-dataset/Raw Data/painting/e75c97858b052515bbe2e399b6dd4cd1b350bd19.jpg\n"
     ]
    },
    {
     "name": "stderr",
     "output_type": "stream",
     "text": [
      " 29%|██▉       | 789/2737 [04:52<12:41,  2.56it/s]"
     ]
    },
    {
     "name": "stdout",
     "output_type": "stream",
     "text": [
      "../input/painting-vs-photograph-classification-dataset/Raw Data/photos/ea965a4f7165001dc92b901e41a46b1aae4b1e82.jpg\n"
     ]
    },
    {
     "name": "stderr",
     "output_type": "stream",
     "text": [
      " 29%|██▉       | 791/2737 [04:53<10:23,  3.12it/s]"
     ]
    },
    {
     "name": "stdout",
     "output_type": "stream",
     "text": [
      "../input/painting-vs-photograph-classification-dataset/Raw Data/photos/d013b6bb19f9e45c229d43d36971cf865a037dcf.jpg\n",
      "../input/painting-vs-photograph-classification-dataset/Raw Data/photos/a1e6fdfbd868e451b5a350bd2c9b411a3ac45444.jpg\n"
     ]
    },
    {
     "name": "stderr",
     "output_type": "stream",
     "text": [
      " 29%|██▉       | 792/2737 [04:53<08:50,  3.67it/s]"
     ]
    },
    {
     "name": "stdout",
     "output_type": "stream",
     "text": [
      "../input/painting-vs-photograph-classification-dataset/Raw Data/photos/f5c9ce618c50c2cde1cc349d9e47673955869c4d.jpg\n"
     ]
    },
    {
     "name": "stderr",
     "output_type": "stream",
     "text": [
      " 29%|██▉       | 793/2737 [04:53<08:24,  3.85it/s]"
     ]
    },
    {
     "name": "stdout",
     "output_type": "stream",
     "text": [
      "../input/painting-vs-photograph-classification-dataset/Raw Data/photos/b73b684c8fbb54b283bcbaccead6431703b36fb5.jpg\n"
     ]
    },
    {
     "name": "stderr",
     "output_type": "stream",
     "text": [
      " 29%|██▉       | 794/2737 [04:53<08:20,  3.88it/s]"
     ]
    },
    {
     "name": "stdout",
     "output_type": "stream",
     "text": [
      "../input/painting-vs-photograph-classification-dataset/Raw Data/photos/90ac9c9ea2b6dd21dce01b9d2952d3d16cbc54e2.jpg\n"
     ]
    },
    {
     "name": "stderr",
     "output_type": "stream",
     "text": [
      " 29%|██▉       | 795/2737 [04:54<08:59,  3.60it/s]"
     ]
    },
    {
     "name": "stdout",
     "output_type": "stream",
     "text": [
      "../input/painting-vs-photograph-classification-dataset/Raw Data/photos/bea81fb8d6649d5d5b571aa42d31cf44da2b2dee.jpg\n"
     ]
    },
    {
     "name": "stderr",
     "output_type": "stream",
     "text": [
      " 29%|██▉       | 797/2737 [04:54<07:44,  4.18it/s]"
     ]
    },
    {
     "name": "stdout",
     "output_type": "stream",
     "text": [
      "../input/painting-vs-photograph-classification-dataset/Raw Data/photos/75dfedfe67fe656e33ccec24d79ee486283fe46e.jpg\n",
      "../input/painting-vs-photograph-classification-dataset/Raw Data/photos/328b3077c92237198e3f2ee603f1c23e9309dc9f.jpg\n"
     ]
    },
    {
     "name": "stderr",
     "output_type": "stream",
     "text": [
      " 29%|██▉       | 798/2737 [04:54<07:00,  4.61it/s]"
     ]
    },
    {
     "name": "stdout",
     "output_type": "stream",
     "text": [
      "../input/painting-vs-photograph-classification-dataset/Raw Data/photos/73ee475aea2f2b81ee18fbfa0b0e390c16bfd656.jpg\n"
     ]
    },
    {
     "name": "stderr",
     "output_type": "stream",
     "text": [
      " 29%|██▉       | 799/2737 [04:55<07:10,  4.50it/s]"
     ]
    },
    {
     "name": "stdout",
     "output_type": "stream",
     "text": [
      "../input/painting-vs-photograph-classification-dataset/Raw Data/photos/729fe7b70ee64df4ba9952f61b3eb183b1978e20.jpg\n"
     ]
    },
    {
     "name": "stderr",
     "output_type": "stream",
     "text": [
      " 29%|██▉       | 800/2737 [04:55<07:09,  4.51it/s]"
     ]
    },
    {
     "name": "stdout",
     "output_type": "stream",
     "text": [
      "../input/painting-vs-photograph-classification-dataset/Raw Data/photos/60836c9ac1dda7ccf64c27bfb105485c55ce2c82.jpg\n"
     ]
    },
    {
     "name": "stderr",
     "output_type": "stream",
     "text": [
      " 29%|██▉       | 801/2737 [04:55<07:39,  4.22it/s]"
     ]
    },
    {
     "name": "stdout",
     "output_type": "stream",
     "text": [
      "../input/painting-vs-photograph-classification-dataset/Raw Data/photos/50d701e5694bdecf6cffa7d7c0b35ed31e75ad6a.jpg\n"
     ]
    },
    {
     "name": "stderr",
     "output_type": "stream",
     "text": [
      " 29%|██▉       | 802/2737 [04:55<07:32,  4.28it/s]"
     ]
    },
    {
     "name": "stdout",
     "output_type": "stream",
     "text": [
      "../input/painting-vs-photograph-classification-dataset/Raw Data/photos/e576130073fd28672f5589c0f596a7c4d84f55b3.jpg\n"
     ]
    },
    {
     "name": "stderr",
     "output_type": "stream",
     "text": [
      " 29%|██▉       | 803/2737 [04:56<07:27,  4.32it/s]"
     ]
    },
    {
     "name": "stdout",
     "output_type": "stream",
     "text": [
      "../input/painting-vs-photograph-classification-dataset/Raw Data/painting/e3d7905a30597182571ff7de46c0ddff0c9a3aaf.jpg\n"
     ]
    },
    {
     "name": "stderr",
     "output_type": "stream",
     "text": [
      " 29%|██▉       | 804/2737 [04:56<10:19,  3.12it/s]"
     ]
    },
    {
     "name": "stdout",
     "output_type": "stream",
     "text": [
      "../input/painting-vs-photograph-classification-dataset/Raw Data/photos/ed9c4256ad10124618407cc1620352794e0cd89d.jpg\n"
     ]
    },
    {
     "name": "stderr",
     "output_type": "stream",
     "text": [
      " 29%|██▉       | 805/2737 [04:56<09:23,  3.43it/s]"
     ]
    },
    {
     "name": "stdout",
     "output_type": "stream",
     "text": [
      "../input/painting-vs-photograph-classification-dataset/Raw Data/photos/7883b60da746143a2ff3b7ac45abc0dda5169dc6.jpg\n"
     ]
    },
    {
     "name": "stderr",
     "output_type": "stream",
     "text": [
      " 29%|██▉       | 806/2737 [04:57<08:58,  3.58it/s]"
     ]
    },
    {
     "name": "stdout",
     "output_type": "stream",
     "text": [
      "../input/painting-vs-photograph-classification-dataset/Raw Data/photos/c30134635f891302fb63b4a988ad1245869347f0.jpg\n"
     ]
    },
    {
     "name": "stderr",
     "output_type": "stream",
     "text": [
      " 29%|██▉       | 807/2737 [04:57<08:36,  3.74it/s]"
     ]
    },
    {
     "name": "stdout",
     "output_type": "stream",
     "text": [
      "../input/painting-vs-photograph-classification-dataset/Raw Data/photos/50d4e0f8a93e3de572629a42abc91a91b1fe453b.jpg\n"
     ]
    },
    {
     "name": "stderr",
     "output_type": "stream",
     "text": [
      " 30%|██▉       | 808/2737 [04:57<08:13,  3.91it/s]"
     ]
    },
    {
     "name": "stdout",
     "output_type": "stream",
     "text": [
      "../input/painting-vs-photograph-classification-dataset/Raw Data/painting/ae50da3b2f7b6d04cfb77dbf4cb30f8166dfc43a.jpg\n"
     ]
    },
    {
     "name": "stderr",
     "output_type": "stream",
     "text": [
      " 30%|██▉       | 809/2737 [04:58<12:38,  2.54it/s]"
     ]
    },
    {
     "name": "stdout",
     "output_type": "stream",
     "text": [
      "../input/painting-vs-photograph-classification-dataset/Raw Data/photos/f55db2cb98fbbae8538d1e4e6a2f853662819127.jpg\n"
     ]
    },
    {
     "name": "stderr",
     "output_type": "stream",
     "text": [
      " 30%|██▉       | 810/2737 [04:58<11:06,  2.89it/s]"
     ]
    },
    {
     "name": "stdout",
     "output_type": "stream",
     "text": [
      "../input/painting-vs-photograph-classification-dataset/Raw Data/photos/434d45bde1104feb4da191c1f0c1aed8187cdaa9.jpg\n"
     ]
    },
    {
     "name": "stderr",
     "output_type": "stream",
     "text": [
      " 30%|██▉       | 812/2737 [04:58<08:37,  3.72it/s]"
     ]
    },
    {
     "name": "stdout",
     "output_type": "stream",
     "text": [
      "../input/painting-vs-photograph-classification-dataset/Raw Data/photos/c58a2c5eee249653ac4ae2703dfd7de9e0cdb8f9.jpg\n",
      "../input/painting-vs-photograph-classification-dataset/Raw Data/painting/27cccdfe29bd4d5b242ac6cf82b041d408752b20.jpg\n"
     ]
    },
    {
     "name": "stderr",
     "output_type": "stream",
     "text": [
      " 30%|██▉       | 813/2737 [04:59<13:19,  2.41it/s]"
     ]
    },
    {
     "name": "stdout",
     "output_type": "stream",
     "text": [
      "../input/painting-vs-photograph-classification-dataset/Raw Data/photos/67e708bd31dc100071014c90fac2757417e324c0.jpg\n"
     ]
    },
    {
     "name": "stderr",
     "output_type": "stream",
     "text": [
      " 30%|██▉       | 814/2737 [04:59<12:12,  2.63it/s]"
     ]
    },
    {
     "name": "stdout",
     "output_type": "stream",
     "text": [
      "../input/painting-vs-photograph-classification-dataset/Raw Data/photos/b9229f0280d60e147eabc2d72277150595a8a8e4.jpg\n"
     ]
    },
    {
     "name": "stderr",
     "output_type": "stream",
     "text": [
      " 30%|██▉       | 815/2737 [05:00<10:51,  2.95it/s]"
     ]
    },
    {
     "name": "stdout",
     "output_type": "stream",
     "text": [
      "../input/painting-vs-photograph-classification-dataset/Raw Data/photos/ebf517a0db8b3957ff8afb9b08491e6cab9fc6f0.jpg\n"
     ]
    },
    {
     "name": "stderr",
     "output_type": "stream",
     "text": [
      " 30%|██▉       | 816/2737 [05:00<09:33,  3.35it/s]"
     ]
    },
    {
     "name": "stdout",
     "output_type": "stream",
     "text": [
      "../input/painting-vs-photograph-classification-dataset/Raw Data/photos/f3c3592066f3130916e4aa4dd70430a366c604bd.jpg\n"
     ]
    },
    {
     "name": "stderr",
     "output_type": "stream",
     "text": [
      " 30%|██▉       | 817/2737 [05:00<08:52,  3.60it/s]"
     ]
    },
    {
     "name": "stdout",
     "output_type": "stream",
     "text": [
      "../input/painting-vs-photograph-classification-dataset/Raw Data/photos/a8eb5fec875c534155c9f0b841f97695ae1d937b.jpg\n"
     ]
    },
    {
     "name": "stderr",
     "output_type": "stream",
     "text": [
      " 30%|██▉       | 819/2737 [05:01<07:53,  4.05it/s]"
     ]
    },
    {
     "name": "stdout",
     "output_type": "stream",
     "text": [
      "../input/painting-vs-photograph-classification-dataset/Raw Data/photos/66511a06cbd7e4061f40a960af864036fbdd4eb3.jpg\n",
      "../input/painting-vs-photograph-classification-dataset/Raw Data/photos/a92148cf30ac2d43bdf93db5d2a9b01f61709505.jpg\n"
     ]
    },
    {
     "name": "stderr",
     "output_type": "stream",
     "text": [
      " 30%|██▉       | 820/2737 [05:01<07:41,  4.16it/s]"
     ]
    },
    {
     "name": "stdout",
     "output_type": "stream",
     "text": [
      "../input/painting-vs-photograph-classification-dataset/Raw Data/painting/27f1c39780b331f712077d0895c5be192ad30a53.jpg\n"
     ]
    },
    {
     "name": "stderr",
     "output_type": "stream",
     "text": [
      " 30%|██▉       | 821/2737 [05:01<10:53,  2.93it/s]"
     ]
    },
    {
     "name": "stdout",
     "output_type": "stream",
     "text": [
      "../input/painting-vs-photograph-classification-dataset/Raw Data/painting/0d0ed19a29a28aad0c51902286daf3cfcf80c84c.jpg\n"
     ]
    },
    {
     "name": "stderr",
     "output_type": "stream",
     "text": [
      " 30%|███       | 822/2737 [05:02<13:27,  2.37it/s]"
     ]
    },
    {
     "name": "stdout",
     "output_type": "stream",
     "text": [
      "../input/painting-vs-photograph-classification-dataset/Raw Data/painting/f7ab20449a3b2ce84f45fb4bfa372e2597d4f813.jpg\n"
     ]
    },
    {
     "name": "stderr",
     "output_type": "stream",
     "text": [
      " 30%|███       | 823/2737 [05:03<19:27,  1.64it/s]"
     ]
    },
    {
     "name": "stdout",
     "output_type": "stream",
     "text": [
      "../input/painting-vs-photograph-classification-dataset/Raw Data/photos/116ecaef3e22fd74c771efff9915cab0589c284f.jpg\n"
     ]
    },
    {
     "name": "stderr",
     "output_type": "stream",
     "text": [
      " 30%|███       | 825/2737 [05:03<12:49,  2.48it/s]"
     ]
    },
    {
     "name": "stdout",
     "output_type": "stream",
     "text": [
      "../input/painting-vs-photograph-classification-dataset/Raw Data/photos/8289c65e6e2660614803650ed861771640458265.jpg\n",
      "../input/painting-vs-photograph-classification-dataset/Raw Data/photos/52bc9e04ee54b600804c535f2e7dd90e39221e36.jpg\n"
     ]
    },
    {
     "name": "stderr",
     "output_type": "stream",
     "text": [
      " 30%|███       | 826/2737 [05:04<10:49,  2.94it/s]"
     ]
    },
    {
     "name": "stdout",
     "output_type": "stream",
     "text": [
      "../input/painting-vs-photograph-classification-dataset/Raw Data/painting/c120cd73d7d902adad34219f523e3c2eeaad5963.jpg\n"
     ]
    },
    {
     "name": "stderr",
     "output_type": "stream",
     "text": [
      " 30%|███       | 827/2737 [05:04<15:28,  2.06it/s]"
     ]
    },
    {
     "name": "stdout",
     "output_type": "stream",
     "text": [
      "../input/painting-vs-photograph-classification-dataset/Raw Data/photos/82515351acc1b18d2a0f136ef71d84007b088ec3.jpg\n"
     ]
    },
    {
     "name": "stderr",
     "output_type": "stream",
     "text": [
      " 30%|███       | 828/2737 [05:05<13:30,  2.36it/s]"
     ]
    },
    {
     "name": "stdout",
     "output_type": "stream",
     "text": [
      "../input/painting-vs-photograph-classification-dataset/Raw Data/photos/fa8be5bfa176cdfb0706819cb530f9a08808c45e.jpg\n"
     ]
    },
    {
     "name": "stderr",
     "output_type": "stream",
     "text": [
      " 30%|███       | 829/2737 [05:05<11:38,  2.73it/s]"
     ]
    },
    {
     "name": "stdout",
     "output_type": "stream",
     "text": [
      "../input/painting-vs-photograph-classification-dataset/Raw Data/painting/1cdb5b25d7c844315b3c38b601d1b607592ac1ba.jpg\n"
     ]
    },
    {
     "name": "stderr",
     "output_type": "stream",
     "text": [
      " 30%|███       | 830/2737 [05:06<18:14,  1.74it/s]"
     ]
    },
    {
     "name": "stdout",
     "output_type": "stream",
     "text": [
      "../input/painting-vs-photograph-classification-dataset/Raw Data/photos/a027b1af0862a454fac1976642600bef778a5a54.jpg\n"
     ]
    },
    {
     "name": "stderr",
     "output_type": "stream",
     "text": [
      " 30%|███       | 831/2737 [05:06<14:52,  2.14it/s]"
     ]
    },
    {
     "name": "stdout",
     "output_type": "stream",
     "text": [
      "../input/painting-vs-photograph-classification-dataset/Raw Data/photos/a24bddeada41f17072a11c01c913bd3375c6fb2c.jpg\n"
     ]
    },
    {
     "name": "stderr",
     "output_type": "stream",
     "text": [
      " 30%|███       | 833/2737 [05:07<10:29,  3.02it/s]"
     ]
    },
    {
     "name": "stdout",
     "output_type": "stream",
     "text": [
      "../input/painting-vs-photograph-classification-dataset/Raw Data/photos/93ac6d28eda7fd94ccde82b346f523e4c6bebb76.jpg\n",
      "../input/painting-vs-photograph-classification-dataset/Raw Data/photos/d5bea125a09aed0738d69511889a70f2820a2a6b.jpg\n"
     ]
    },
    {
     "name": "stderr",
     "output_type": "stream",
     "text": [
      " 30%|███       | 834/2737 [05:07<09:36,  3.30it/s]"
     ]
    },
    {
     "name": "stdout",
     "output_type": "stream",
     "text": [
      "../input/painting-vs-photograph-classification-dataset/Raw Data/photos/c32cb33478ee73ec6929c8f4e2e263b97e64e8ab.jpg\n"
     ]
    },
    {
     "name": "stderr",
     "output_type": "stream",
     "text": [
      " 31%|███       | 835/2737 [05:07<08:55,  3.55it/s]"
     ]
    },
    {
     "name": "stdout",
     "output_type": "stream",
     "text": [
      "../input/painting-vs-photograph-classification-dataset/Raw Data/photos/b79b27e73d35a2b28c708a409542950ed6c8c200.jpg\n"
     ]
    },
    {
     "name": "stderr",
     "output_type": "stream",
     "text": [
      " 31%|███       | 836/2737 [05:07<08:27,  3.74it/s]"
     ]
    },
    {
     "name": "stdout",
     "output_type": "stream",
     "text": [
      "../input/painting-vs-photograph-classification-dataset/Raw Data/painting/e672cede98bdbea4761cfdcbbf6974dd8dc57aca.jpg\n"
     ]
    },
    {
     "name": "stderr",
     "output_type": "stream",
     "text": [
      " 31%|███       | 837/2737 [05:08<13:30,  2.34it/s]"
     ]
    },
    {
     "name": "stdout",
     "output_type": "stream",
     "text": [
      "../input/painting-vs-photograph-classification-dataset/Raw Data/photos/0525283192e4c0957f7e3072ced218c805227a0e.jpg\n"
     ]
    },
    {
     "name": "stderr",
     "output_type": "stream",
     "text": [
      " 31%|███       | 838/2737 [05:08<11:39,  2.71it/s]"
     ]
    },
    {
     "name": "stdout",
     "output_type": "stream",
     "text": [
      "../input/painting-vs-photograph-classification-dataset/Raw Data/photos/b1f3deb9225f61eef4a1763ab5e4e3bb7d85aa94.jpg\n"
     ]
    },
    {
     "name": "stderr",
     "output_type": "stream",
     "text": [
      " 31%|███       | 839/2737 [05:09<10:08,  3.12it/s]"
     ]
    },
    {
     "name": "stdout",
     "output_type": "stream",
     "text": [
      "../input/painting-vs-photograph-classification-dataset/Raw Data/photos/3601784fe4781b1ca1d7b9a14538303eb87fea0d.jpg\n"
     ]
    },
    {
     "name": "stderr",
     "output_type": "stream",
     "text": [
      " 31%|███       | 840/2737 [05:09<09:06,  3.47it/s]"
     ]
    },
    {
     "name": "stdout",
     "output_type": "stream",
     "text": [
      "../input/painting-vs-photograph-classification-dataset/Raw Data/photos/a37e685bbf4a06b350dd7ea7f1b6b80d480d43b3.jpg\n"
     ]
    },
    {
     "name": "stderr",
     "output_type": "stream",
     "text": [
      " 31%|███       | 841/2737 [05:09<08:32,  3.70it/s]"
     ]
    },
    {
     "name": "stdout",
     "output_type": "stream",
     "text": [
      "../input/painting-vs-photograph-classification-dataset/Raw Data/photos/68feb45af145f3e50bb6dca4edceff738489bc77.jpg\n"
     ]
    },
    {
     "name": "stderr",
     "output_type": "stream",
     "text": [
      " 31%|███       | 842/2737 [05:09<08:09,  3.87it/s]"
     ]
    },
    {
     "name": "stdout",
     "output_type": "stream",
     "text": [
      "../input/painting-vs-photograph-classification-dataset/Raw Data/painting/05814ca38fa6291b6d17030fa13acc90335b26b8.jpg\n"
     ]
    },
    {
     "name": "stderr",
     "output_type": "stream",
     "text": [
      " 31%|███       | 843/2737 [05:10<13:06,  2.41it/s]"
     ]
    },
    {
     "name": "stdout",
     "output_type": "stream",
     "text": [
      "../input/painting-vs-photograph-classification-dataset/Raw Data/photos/b1582c8a10aa9867f49500398ce3c92c319a4f8b.jpg\n"
     ]
    },
    {
     "name": "stderr",
     "output_type": "stream",
     "text": [
      " 31%|███       | 844/2737 [05:10<11:19,  2.79it/s]"
     ]
    },
    {
     "name": "stdout",
     "output_type": "stream",
     "text": [
      "../input/painting-vs-photograph-classification-dataset/Raw Data/painting/1a79883e3a1758cc7bc6cd24b7c94ec2b6205b82.jpg\n"
     ]
    },
    {
     "name": "stderr",
     "output_type": "stream",
     "text": [
      " 31%|███       | 845/2737 [05:11<17:37,  1.79it/s]"
     ]
    },
    {
     "name": "stdout",
     "output_type": "stream",
     "text": [
      "../input/painting-vs-photograph-classification-dataset/Raw Data/photos/c7f7eaa6092941aa476806c509300da8aada538b.jpg\n"
     ]
    },
    {
     "name": "stderr",
     "output_type": "stream",
     "text": [
      " 31%|███       | 847/2737 [05:12<11:42,  2.69it/s]"
     ]
    },
    {
     "name": "stdout",
     "output_type": "stream",
     "text": [
      "../input/painting-vs-photograph-classification-dataset/Raw Data/photos/9a619b3e1e92e30d39637969d14134c5a182b9a1.jpg\n",
      "../input/painting-vs-photograph-classification-dataset/Raw Data/painting/a75628311106fc033c64327566c8d9229ecd84ba.jpg\n"
     ]
    },
    {
     "name": "stderr",
     "output_type": "stream",
     "text": [
      " 31%|███       | 848/2737 [05:12<13:57,  2.26it/s]"
     ]
    },
    {
     "name": "stdout",
     "output_type": "stream",
     "text": [
      "../input/painting-vs-photograph-classification-dataset/Raw Data/painting/518cfdb33ebe81fc7576c597e282a1759389bf7f.jpg\n"
     ]
    },
    {
     "name": "stderr",
     "output_type": "stream",
     "text": [
      " 31%|███       | 849/2737 [05:13<19:56,  1.58it/s]"
     ]
    },
    {
     "name": "stdout",
     "output_type": "stream",
     "text": [
      "../input/painting-vs-photograph-classification-dataset/Raw Data/painting/9ab89f6e67fd2eaa2499556f0ac8676043b1d3b9.jpg\n"
     ]
    },
    {
     "name": "stderr",
     "output_type": "stream",
     "text": [
      " 31%|███       | 850/2737 [05:14<19:39,  1.60it/s]"
     ]
    },
    {
     "name": "stdout",
     "output_type": "stream",
     "text": [
      "../input/painting-vs-photograph-classification-dataset/Raw Data/painting/e158ef99157dd924f675a3c3e219a6222e3a86e8.jpg\n"
     ]
    },
    {
     "name": "stderr",
     "output_type": "stream",
     "text": [
      " 31%|███       | 852/2737 [05:15<16:48,  1.87it/s]"
     ]
    },
    {
     "name": "stdout",
     "output_type": "stream",
     "text": [
      "../input/painting-vs-photograph-classification-dataset/Raw Data/photos/efe873c37b3e8782620aa8caa882536ebf8d065e.jpg\n",
      "../input/painting-vs-photograph-classification-dataset/Raw Data/photos/083bb9fe8126fe171dade706f54bc66595f7aad7.jpg\n"
     ]
    },
    {
     "name": "stderr",
     "output_type": "stream",
     "text": [
      " 31%|███       | 853/2737 [05:15<13:54,  2.26it/s]"
     ]
    },
    {
     "name": "stdout",
     "output_type": "stream",
     "text": [
      "../input/painting-vs-photograph-classification-dataset/Raw Data/photos/512d8278e38f49737b2ace9d406683906f096664.jpg\n"
     ]
    },
    {
     "name": "stderr",
     "output_type": "stream",
     "text": [
      " 31%|███       | 854/2737 [05:15<11:58,  2.62it/s]"
     ]
    },
    {
     "name": "stdout",
     "output_type": "stream",
     "text": [
      "../input/painting-vs-photograph-classification-dataset/Raw Data/photos/edc650e02f42d23ac396750cec730e969ac85f6f.jpg\n"
     ]
    },
    {
     "name": "stderr",
     "output_type": "stream",
     "text": [
      " 31%|███       | 855/2737 [05:16<10:28,  2.99it/s]"
     ]
    },
    {
     "name": "stdout",
     "output_type": "stream",
     "text": [
      "../input/painting-vs-photograph-classification-dataset/Raw Data/painting/e9303a598c4f74c0033115864ae8419228665c5b.jpg\n"
     ]
    },
    {
     "name": "stderr",
     "output_type": "stream",
     "text": [
      " 31%|███▏      | 856/2737 [05:16<14:18,  2.19it/s]"
     ]
    },
    {
     "name": "stdout",
     "output_type": "stream",
     "text": [
      "../input/painting-vs-photograph-classification-dataset/Raw Data/photos/b914c390f3e327c8c64a349767b3d1017ea5c89a.jpg\n"
     ]
    },
    {
     "name": "stderr",
     "output_type": "stream",
     "text": [
      " 31%|███▏      | 857/2737 [05:17<12:29,  2.51it/s]"
     ]
    },
    {
     "name": "stdout",
     "output_type": "stream",
     "text": [
      "../input/painting-vs-photograph-classification-dataset/Raw Data/photos/cdb847495044f452ff19061f37dbbc264f20c7a1.jpg\n"
     ]
    },
    {
     "name": "stderr",
     "output_type": "stream",
     "text": [
      " 31%|███▏      | 859/2737 [05:17<09:19,  3.36it/s]"
     ]
    },
    {
     "name": "stdout",
     "output_type": "stream",
     "text": [
      "../input/painting-vs-photograph-classification-dataset/Raw Data/photos/0812382ec1f2117830b6ca811076e2394f6bfa00.jpg\n",
      "../input/painting-vs-photograph-classification-dataset/Raw Data/photos/adc352a224ba88774ef6f7b88765e03cdd5f8554.jpg\n"
     ]
    },
    {
     "name": "stderr",
     "output_type": "stream",
     "text": [
      " 31%|███▏      | 860/2737 [05:17<09:45,  3.20it/s]"
     ]
    },
    {
     "name": "stdout",
     "output_type": "stream",
     "text": [
      "../input/painting-vs-photograph-classification-dataset/Raw Data/photos/9978947abe99366dc2b33572e578c0c12f021c80.jpg\n"
     ]
    },
    {
     "name": "stderr",
     "output_type": "stream",
     "text": [
      " 31%|███▏      | 861/2737 [05:18<09:07,  3.43it/s]"
     ]
    },
    {
     "name": "stdout",
     "output_type": "stream",
     "text": [
      "../input/painting-vs-photograph-classification-dataset/Raw Data/photos/91ac86ec8ab5ca9d4e2b786cb508dd19f524ee22.jpg\n"
     ]
    },
    {
     "name": "stderr",
     "output_type": "stream",
     "text": [
      " 31%|███▏      | 862/2737 [05:18<08:45,  3.57it/s]"
     ]
    },
    {
     "name": "stdout",
     "output_type": "stream",
     "text": [
      "../input/painting-vs-photograph-classification-dataset/Raw Data/photos/f4bf13ac2030eea13b264433f01d8da185aeef94.jpg\n"
     ]
    },
    {
     "name": "stderr",
     "output_type": "stream",
     "text": [
      " 32%|███▏      | 863/2737 [05:18<08:02,  3.88it/s]"
     ]
    },
    {
     "name": "stdout",
     "output_type": "stream",
     "text": [
      "../input/painting-vs-photograph-classification-dataset/Raw Data/photos/a99295e51aa5f11e8c3d806971628030bd28604d.jpg\n"
     ]
    },
    {
     "name": "stderr",
     "output_type": "stream",
     "text": [
      " 32%|███▏      | 864/2737 [05:18<08:00,  3.90it/s]"
     ]
    },
    {
     "name": "stdout",
     "output_type": "stream",
     "text": [
      "../input/painting-vs-photograph-classification-dataset/Raw Data/photos/ea713d11425feaf32db44f5880f2993895bb1412.jpg\n"
     ]
    },
    {
     "name": "stderr",
     "output_type": "stream",
     "text": [
      " 32%|███▏      | 866/2737 [05:19<07:06,  4.38it/s]"
     ]
    },
    {
     "name": "stdout",
     "output_type": "stream",
     "text": [
      "../input/painting-vs-photograph-classification-dataset/Raw Data/photos/3239e68f2219208a928c8875650110b10542bb6a.jpg\n",
      "../input/painting-vs-photograph-classification-dataset/Raw Data/photos/e61596cd3cee07b91b2f2d905cdd43629b2bbd21.jpg\n"
     ]
    },
    {
     "name": "stderr",
     "output_type": "stream",
     "text": [
      " 32%|███▏      | 867/2737 [05:19<07:05,  4.40it/s]"
     ]
    },
    {
     "name": "stdout",
     "output_type": "stream",
     "text": [
      "../input/painting-vs-photograph-classification-dataset/Raw Data/painting/898569cab954599e9574f40bc8af4fb630bfe9f0.jpg\n"
     ]
    },
    {
     "name": "stderr",
     "output_type": "stream",
     "text": [
      " 32%|███▏      | 868/2737 [05:20<14:49,  2.10it/s]"
     ]
    },
    {
     "name": "stdout",
     "output_type": "stream",
     "text": [
      "../input/painting-vs-photograph-classification-dataset/Raw Data/painting/5e5b69681f69a1cefd17cd972697b0b110fc954e.jpg\n"
     ]
    },
    {
     "name": "stderr",
     "output_type": "stream",
     "text": [
      " 32%|███▏      | 870/2737 [05:21<12:12,  2.55it/s]"
     ]
    },
    {
     "name": "stdout",
     "output_type": "stream",
     "text": [
      "../input/painting-vs-photograph-classification-dataset/Raw Data/photos/ea7903342d23e2a9f25f1bcf3cfcafe1a96f2695.jpg\n",
      "../input/painting-vs-photograph-classification-dataset/Raw Data/photos/61733ee90219a2e703111e7a9c1bfff65733199d.jpg\n"
     ]
    },
    {
     "name": "stderr",
     "output_type": "stream",
     "text": [
      " 32%|███▏      | 871/2737 [05:21<10:37,  2.93it/s]"
     ]
    },
    {
     "name": "stdout",
     "output_type": "stream",
     "text": [
      "../input/painting-vs-photograph-classification-dataset/Raw Data/painting/4951f37171c9a7abbc3bf310efea5c02f73ca5c0.jpg\n"
     ]
    },
    {
     "name": "stderr",
     "output_type": "stream",
     "text": [
      " 32%|███▏      | 872/2737 [05:22<14:17,  2.18it/s]"
     ]
    },
    {
     "name": "stdout",
     "output_type": "stream",
     "text": [
      "../input/painting-vs-photograph-classification-dataset/Raw Data/photos/faa5dff83bd7b06871a06e3233aab4a503568bed.jpg\n"
     ]
    },
    {
     "name": "stderr",
     "output_type": "stream",
     "text": [
      " 32%|███▏      | 873/2737 [05:22<12:15,  2.53it/s]"
     ]
    },
    {
     "name": "stdout",
     "output_type": "stream",
     "text": [
      "../input/painting-vs-photograph-classification-dataset/Raw Data/photos/eb311e4ca4d747376a0e28d9508c9bb9d65dd79f.jpg\n"
     ]
    },
    {
     "name": "stderr",
     "output_type": "stream",
     "text": [
      " 32%|███▏      | 874/2737 [05:22<10:57,  2.84it/s]"
     ]
    },
    {
     "name": "stdout",
     "output_type": "stream",
     "text": [
      "../input/painting-vs-photograph-classification-dataset/Raw Data/photos/8938f053962a6e9d0767031e613051abc9d07e40.jpg\n"
     ]
    },
    {
     "name": "stderr",
     "output_type": "stream",
     "text": [
      " 32%|███▏      | 875/2737 [05:22<10:00,  3.10it/s]"
     ]
    },
    {
     "name": "stdout",
     "output_type": "stream",
     "text": [
      "../input/painting-vs-photograph-classification-dataset/Raw Data/photos/018859a935dff416d34dabc64b34004c3cdd6bab.jpg\n"
     ]
    },
    {
     "name": "stderr",
     "output_type": "stream",
     "text": [
      " 32%|███▏      | 876/2737 [05:23<09:12,  3.37it/s]"
     ]
    },
    {
     "name": "stdout",
     "output_type": "stream",
     "text": [
      "../input/painting-vs-photograph-classification-dataset/Raw Data/painting/b0d6764da2365839955930a22e85650e00638162.jpg\n"
     ]
    },
    {
     "name": "stderr",
     "output_type": "stream",
     "text": [
      " 32%|███▏      | 878/2737 [05:24<10:45,  2.88it/s]"
     ]
    },
    {
     "name": "stdout",
     "output_type": "stream",
     "text": [
      "../input/painting-vs-photograph-classification-dataset/Raw Data/photos/73f175945bce3dce26a70d5e908e03b1b972a3c0.jpg\n",
      "../input/painting-vs-photograph-classification-dataset/Raw Data/photos/1e494b37b85b329aca45fe6880fb98bdda99354d.jpg\n"
     ]
    },
    {
     "name": "stderr",
     "output_type": "stream",
     "text": [
      " 32%|███▏      | 879/2737 [05:24<09:51,  3.14it/s]"
     ]
    },
    {
     "name": "stdout",
     "output_type": "stream",
     "text": [
      "../input/painting-vs-photograph-classification-dataset/Raw Data/photos/ed899b5bf62238da85ec1ba7be63e9195fe42efa.jpg\n"
     ]
    },
    {
     "name": "stderr",
     "output_type": "stream",
     "text": [
      " 32%|███▏      | 880/2737 [05:24<08:59,  3.45it/s]"
     ]
    },
    {
     "name": "stdout",
     "output_type": "stream",
     "text": [
      "../input/painting-vs-photograph-classification-dataset/Raw Data/photos/a1e4e5842595e3475c6fb790dda8798b90b3979e.jpg\n"
     ]
    },
    {
     "name": "stderr",
     "output_type": "stream",
     "text": [
      " 32%|███▏      | 881/2737 [05:24<08:26,  3.67it/s]"
     ]
    },
    {
     "name": "stdout",
     "output_type": "stream",
     "text": [
      "../input/painting-vs-photograph-classification-dataset/Raw Data/painting/1c4a9d930f6f04951bf836767517f1e292de3464.jpg\n"
     ]
    },
    {
     "name": "stderr",
     "output_type": "stream",
     "text": [
      " 32%|███▏      | 883/2737 [05:25<08:31,  3.62it/s]"
     ]
    },
    {
     "name": "stdout",
     "output_type": "stream",
     "text": [
      "../input/painting-vs-photograph-classification-dataset/Raw Data/photos/931a254e99cab201634d45fddd88adc4524ef2fd.jpg\n",
      "../input/painting-vs-photograph-classification-dataset/Raw Data/photos/f15cf6aac5fcb08c46cb0516299125089fbe7418.jpg\n"
     ]
    },
    {
     "name": "stderr",
     "output_type": "stream",
     "text": [
      " 32%|███▏      | 884/2737 [05:25<08:24,  3.67it/s]"
     ]
    },
    {
     "name": "stdout",
     "output_type": "stream",
     "text": [
      "../input/painting-vs-photograph-classification-dataset/Raw Data/photos/a9701b428262d0d154dfcaa2fda9eb1baf649e9d.jpg\n"
     ]
    },
    {
     "name": "stderr",
     "output_type": "stream",
     "text": [
      " 32%|███▏      | 886/2737 [05:26<07:29,  4.12it/s]"
     ]
    },
    {
     "name": "stdout",
     "output_type": "stream",
     "text": [
      "../input/painting-vs-photograph-classification-dataset/Raw Data/photos/7be9081d8d6b64273050f97db0581096b1574e18.jpg\n",
      "../input/painting-vs-photograph-classification-dataset/Raw Data/photos/de99ed9933b076c9952c4623d8f75c575a824146.jpg\n"
     ]
    },
    {
     "name": "stderr",
     "output_type": "stream",
     "text": [
      " 32%|███▏      | 887/2737 [05:26<07:14,  4.26it/s]"
     ]
    },
    {
     "name": "stdout",
     "output_type": "stream",
     "text": [
      "../input/painting-vs-photograph-classification-dataset/Raw Data/photos/9716ec3d75dc4136710612d6e5dbfe7ba9235af4.jpg\n"
     ]
    },
    {
     "name": "stderr",
     "output_type": "stream",
     "text": [
      " 32%|███▏      | 888/2737 [05:26<07:08,  4.32it/s]"
     ]
    },
    {
     "name": "stdout",
     "output_type": "stream",
     "text": [
      "../input/painting-vs-photograph-classification-dataset/Raw Data/photos/ed5158a2f07e8759e1897c0640459a79bed6ef43.jpg\n"
     ]
    },
    {
     "name": "stderr",
     "output_type": "stream",
     "text": [
      " 32%|███▏      | 889/2737 [05:26<07:04,  4.35it/s]"
     ]
    },
    {
     "name": "stdout",
     "output_type": "stream",
     "text": [
      "../input/painting-vs-photograph-classification-dataset/Raw Data/photos/512250b0c868f7211db4a8aca2d6e954181d7cc2.jpg\n"
     ]
    },
    {
     "name": "stderr",
     "output_type": "stream",
     "text": [
      " 33%|███▎      | 890/2737 [05:27<08:11,  3.76it/s]"
     ]
    },
    {
     "name": "stdout",
     "output_type": "stream",
     "text": [
      "../input/painting-vs-photograph-classification-dataset/Raw Data/photos/ffb2297ee428e84ca55e12a36419b012b81b0355.jpg\n"
     ]
    },
    {
     "name": "stderr",
     "output_type": "stream",
     "text": [
      " 33%|███▎      | 892/2737 [05:27<07:02,  4.36it/s]"
     ]
    },
    {
     "name": "stdout",
     "output_type": "stream",
     "text": [
      "../input/painting-vs-photograph-classification-dataset/Raw Data/photos/9524e0e16c6beb7f5b269ac7d71119e9c8c33911.jpg\n",
      "../input/painting-vs-photograph-classification-dataset/Raw Data/photos/0d8d25d54fa42ac72093451e68d8ffb83af1af81.jpg\n"
     ]
    },
    {
     "name": "stderr",
     "output_type": "stream",
     "text": [
      " 33%|███▎      | 893/2737 [05:27<07:22,  4.17it/s]"
     ]
    },
    {
     "name": "stdout",
     "output_type": "stream",
     "text": [
      "../input/painting-vs-photograph-classification-dataset/Raw Data/photos/ea1efde7d5d958db761ec5fed816440610730ed5.jpg\n"
     ]
    },
    {
     "name": "stderr",
     "output_type": "stream",
     "text": [
      " 33%|███▎      | 894/2737 [05:28<07:13,  4.25it/s]"
     ]
    },
    {
     "name": "stdout",
     "output_type": "stream",
     "text": [
      "../input/painting-vs-photograph-classification-dataset/Raw Data/painting/9d6f65c797e7256d7636a5b3f43e20e164d89994.jpg\n"
     ]
    },
    {
     "name": "stderr",
     "output_type": "stream",
     "text": [
      " 33%|███▎      | 896/2737 [05:28<09:31,  3.22it/s]"
     ]
    },
    {
     "name": "stdout",
     "output_type": "stream",
     "text": [
      "../input/painting-vs-photograph-classification-dataset/Raw Data/photos/83346e34183fc5819c1575103427f21b1e732f1d.jpg\n",
      "../input/painting-vs-photograph-classification-dataset/Raw Data/photos/a99864bc07382cb3a8abeee4baac55999cfa2b24.jpg\n"
     ]
    },
    {
     "name": "stderr",
     "output_type": "stream",
     "text": [
      " 33%|███▎      | 897/2737 [05:29<08:13,  3.73it/s]"
     ]
    },
    {
     "name": "stdout",
     "output_type": "stream",
     "text": [
      "../input/painting-vs-photograph-classification-dataset/Raw Data/photos/de7fc280d8034396e1c010b6e1fb99ecd3c3e0e6.jpg\n"
     ]
    },
    {
     "name": "stderr",
     "output_type": "stream",
     "text": [
      " 33%|███▎      | 898/2737 [05:29<07:47,  3.94it/s]"
     ]
    },
    {
     "name": "stdout",
     "output_type": "stream",
     "text": [
      "../input/painting-vs-photograph-classification-dataset/Raw Data/photos/a807109acf1101479ac2417a4c93f161a5533a37.jpg\n"
     ]
    },
    {
     "name": "stderr",
     "output_type": "stream",
     "text": [
      " 33%|███▎      | 899/2737 [05:29<07:29,  4.09it/s]"
     ]
    },
    {
     "name": "stdout",
     "output_type": "stream",
     "text": [
      "../input/painting-vs-photograph-classification-dataset/Raw Data/photos/a40e7c70f47e161055bfeac7de6e82bc93c70586.jpg\n"
     ]
    },
    {
     "name": "stderr",
     "output_type": "stream",
     "text": [
      " 33%|███▎      | 900/2737 [05:29<07:22,  4.15it/s]"
     ]
    },
    {
     "name": "stdout",
     "output_type": "stream",
     "text": [
      "../input/painting-vs-photograph-classification-dataset/Raw Data/painting/1d5228ef9a27b4ab6349dd0ca3c997d5af491705.jpg\n"
     ]
    },
    {
     "name": "stderr",
     "output_type": "stream",
     "text": [
      " 33%|███▎      | 901/2737 [05:30<13:04,  2.34it/s]"
     ]
    },
    {
     "name": "stdout",
     "output_type": "stream",
     "text": [
      "../input/painting-vs-photograph-classification-dataset/Raw Data/photos/de953b2e43ccad431cd4f8ed2145b7385805f750.jpg\n"
     ]
    },
    {
     "name": "stderr",
     "output_type": "stream",
     "text": [
      " 33%|███▎      | 903/2737 [05:30<09:20,  3.27it/s]"
     ]
    },
    {
     "name": "stdout",
     "output_type": "stream",
     "text": [
      "../input/painting-vs-photograph-classification-dataset/Raw Data/photos/fee54331f0ab999ce8daec11eee2b4a2b4cfcba5.jpg\n",
      "../input/painting-vs-photograph-classification-dataset/Raw Data/photos/bd9a4836ca5446f08a6dcf2d307cd8132904bbce.jpg\n"
     ]
    },
    {
     "name": "stderr",
     "output_type": "stream",
     "text": [
      " 33%|███▎      | 904/2737 [05:31<08:53,  3.44it/s]"
     ]
    },
    {
     "name": "stdout",
     "output_type": "stream",
     "text": [
      "../input/painting-vs-photograph-classification-dataset/Raw Data/photos/fbc7aefed9936e2aa8e7becf662e2d7416b0fed8.jpg\n"
     ]
    },
    {
     "name": "stderr",
     "output_type": "stream",
     "text": [
      " 33%|███▎      | 905/2737 [05:31<08:20,  3.66it/s]"
     ]
    },
    {
     "name": "stdout",
     "output_type": "stream",
     "text": [
      "../input/painting-vs-photograph-classification-dataset/Raw Data/photos/298ec24cac8c277250a9e09f51ce6cae30bce1fd.jpg\n"
     ]
    },
    {
     "name": "stderr",
     "output_type": "stream",
     "text": [
      " 33%|███▎      | 906/2737 [05:31<07:51,  3.88it/s]"
     ]
    },
    {
     "name": "stdout",
     "output_type": "stream",
     "text": [
      "../input/painting-vs-photograph-classification-dataset/Raw Data/photos/832d3f35c3e5586c89ca96cf376b280e612d98b9.jpg\n"
     ]
    },
    {
     "name": "stderr",
     "output_type": "stream",
     "text": [
      " 33%|███▎      | 907/2737 [05:31<07:33,  4.03it/s]"
     ]
    },
    {
     "name": "stdout",
     "output_type": "stream",
     "text": [
      "../input/painting-vs-photograph-classification-dataset/Raw Data/photos/eae486d5b195f8d7a907d69b34f309113c440fd9.jpg\n"
     ]
    },
    {
     "name": "stderr",
     "output_type": "stream",
     "text": [
      " 33%|███▎      | 908/2737 [05:32<07:28,  4.08it/s]"
     ]
    },
    {
     "name": "stdout",
     "output_type": "stream",
     "text": [
      "../input/painting-vs-photograph-classification-dataset/Raw Data/painting/df935042a1f3782deae31c9a6be344088351e2d3.jpg\n"
     ]
    },
    {
     "name": "stderr",
     "output_type": "stream",
     "text": [
      " 33%|███▎      | 909/2737 [05:33<13:31,  2.25it/s]"
     ]
    },
    {
     "name": "stdout",
     "output_type": "stream",
     "text": [
      "../input/painting-vs-photograph-classification-dataset/Raw Data/photos/8376c0e2cd983a6a141abd5c07c80730474092d7.jpg\n"
     ]
    },
    {
     "name": "stderr",
     "output_type": "stream",
     "text": [
      " 33%|███▎      | 910/2737 [05:33<12:46,  2.38it/s]"
     ]
    },
    {
     "name": "stdout",
     "output_type": "stream",
     "text": [
      "../input/painting-vs-photograph-classification-dataset/Raw Data/photos/00d9656f0e005a52af5c26b192871a74c0fe80f0.jpg\n"
     ]
    },
    {
     "name": "stderr",
     "output_type": "stream",
     "text": [
      " 33%|███▎      | 911/2737 [05:33<11:05,  2.74it/s]"
     ]
    },
    {
     "name": "stdout",
     "output_type": "stream",
     "text": [
      "../input/painting-vs-photograph-classification-dataset/Raw Data/painting/f9a5812f30889f2d802e02d89441c9ae5f876e79.jpg\n"
     ]
    },
    {
     "name": "stderr",
     "output_type": "stream",
     "text": [
      " 33%|███▎      | 912/2737 [05:34<14:52,  2.04it/s]"
     ]
    },
    {
     "name": "stdout",
     "output_type": "stream",
     "text": [
      "../input/painting-vs-photograph-classification-dataset/Raw Data/photos/80a7389c2ebb54cfa7ebd653211e1be8607f8a81.jpg\n"
     ]
    },
    {
     "name": "stderr",
     "output_type": "stream",
     "text": [
      " 33%|███▎      | 913/2737 [05:34<12:28,  2.44it/s]"
     ]
    },
    {
     "name": "stdout",
     "output_type": "stream",
     "text": [
      "../input/painting-vs-photograph-classification-dataset/Raw Data/painting/1b01e02d18a782a3202bac91edafa86e54d2aebd.jpg\n"
     ]
    },
    {
     "name": "stderr",
     "output_type": "stream",
     "text": [
      " 33%|███▎      | 914/2737 [05:35<18:49,  1.61it/s]"
     ]
    },
    {
     "name": "stdout",
     "output_type": "stream",
     "text": [
      "../input/painting-vs-photograph-classification-dataset/Raw Data/painting/7dd947245c52e35534572abd477bd59b85914607.jpg\n"
     ]
    },
    {
     "name": "stderr",
     "output_type": "stream",
     "text": [
      " 33%|███▎      | 915/2737 [05:36<19:46,  1.54it/s]"
     ]
    },
    {
     "name": "stdout",
     "output_type": "stream",
     "text": [
      "../input/painting-vs-photograph-classification-dataset/Raw Data/photos/7810c5312119395e2e5e5be781894d6e84d90735.jpg\n"
     ]
    },
    {
     "name": "stderr",
     "output_type": "stream",
     "text": [
      " 33%|███▎      | 916/2737 [05:36<15:41,  1.93it/s]"
     ]
    },
    {
     "name": "stdout",
     "output_type": "stream",
     "text": [
      "../input/painting-vs-photograph-classification-dataset/Raw Data/painting/f9e8e95e058d0ef07f27fd4a142f0279f0d12d06.jpg\n"
     ]
    },
    {
     "name": "stderr",
     "output_type": "stream",
     "text": [
      " 34%|███▎      | 917/2737 [05:37<16:42,  1.82it/s]"
     ]
    },
    {
     "name": "stdout",
     "output_type": "stream",
     "text": [
      "../input/painting-vs-photograph-classification-dataset/Raw Data/photos/c08cdf5ff9427f279badc8221090fa79359c9da4.jpg\n"
     ]
    },
    {
     "name": "stderr",
     "output_type": "stream",
     "text": [
      " 34%|███▎      | 918/2737 [05:37<13:49,  2.19it/s]"
     ]
    },
    {
     "name": "stdout",
     "output_type": "stream",
     "text": [
      "../input/painting-vs-photograph-classification-dataset/Raw Data/photos/95459b5d59475416ced7328590257ec5eb507f96.jpg\n"
     ]
    },
    {
     "name": "stderr",
     "output_type": "stream",
     "text": [
      " 34%|███▎      | 919/2737 [05:37<11:43,  2.58it/s]"
     ]
    },
    {
     "name": "stdout",
     "output_type": "stream",
     "text": [
      "../input/painting-vs-photograph-classification-dataset/Raw Data/photos/919c97f5af0210cba95213d8f6c9c2adcace26ef.jpg\n"
     ]
    },
    {
     "name": "stderr",
     "output_type": "stream",
     "text": [
      " 34%|███▎      | 920/2737 [05:38<10:37,  2.85it/s]"
     ]
    },
    {
     "name": "stdout",
     "output_type": "stream",
     "text": [
      "../input/painting-vs-photograph-classification-dataset/Raw Data/photos/175aff7dec92ecc4909c638304d14d834b7304db.jpg\n"
     ]
    },
    {
     "name": "stderr",
     "output_type": "stream",
     "text": [
      " 34%|███▎      | 921/2737 [05:38<10:00,  3.03it/s]"
     ]
    },
    {
     "name": "stdout",
     "output_type": "stream",
     "text": [
      "../input/painting-vs-photograph-classification-dataset/Raw Data/photos/a52f6210165e5bcac540feacb659e1264f7b228b.jpg\n"
     ]
    },
    {
     "name": "stderr",
     "output_type": "stream",
     "text": [
      " 34%|███▎      | 922/2737 [05:38<09:14,  3.27it/s]"
     ]
    },
    {
     "name": "stdout",
     "output_type": "stream",
     "text": [
      "../input/painting-vs-photograph-classification-dataset/Raw Data/photos/a7109e5cfd44e68a8f9e95b1dca8f9120ee3b319.jpg\n"
     ]
    },
    {
     "name": "stderr",
     "output_type": "stream",
     "text": [
      " 34%|███▎      | 923/2737 [05:38<08:35,  3.52it/s]"
     ]
    },
    {
     "name": "stdout",
     "output_type": "stream",
     "text": [
      "../input/painting-vs-photograph-classification-dataset/Raw Data/photos/29971265ffc66392c48c0042379936853374e9dc.jpg\n"
     ]
    },
    {
     "name": "stderr",
     "output_type": "stream",
     "text": [
      " 34%|███▍      | 924/2737 [05:39<08:13,  3.68it/s]"
     ]
    },
    {
     "name": "stdout",
     "output_type": "stream",
     "text": [
      "../input/painting-vs-photograph-classification-dataset/Raw Data/photos/f28013086c8d8f511de7ace628a0b847266d25a7.jpg\n"
     ]
    },
    {
     "name": "stderr",
     "output_type": "stream",
     "text": [
      " 34%|███▍      | 925/2737 [05:39<07:42,  3.92it/s]"
     ]
    },
    {
     "name": "stdout",
     "output_type": "stream",
     "text": [
      "../input/painting-vs-photograph-classification-dataset/Raw Data/photos/eb13a30a15f72a1438b263ac41b00c8dbfbfb4c1.jpg\n"
     ]
    },
    {
     "name": "stderr",
     "output_type": "stream",
     "text": [
      " 34%|███▍      | 927/2737 [05:39<06:46,  4.46it/s]"
     ]
    },
    {
     "name": "stdout",
     "output_type": "stream",
     "text": [
      "../input/painting-vs-photograph-classification-dataset/Raw Data/photos/a36580496194781a0c793f74f626ff24edcaf587.jpg\n",
      "../input/painting-vs-photograph-classification-dataset/Raw Data/photos/fc697222eb7f4bbabcc50e86c7387d15d27b019e.jpg\n"
     ]
    },
    {
     "name": "stderr",
     "output_type": "stream",
     "text": [
      " 34%|███▍      | 928/2737 [05:39<06:31,  4.62it/s]"
     ]
    },
    {
     "name": "stdout",
     "output_type": "stream",
     "text": [
      "../input/painting-vs-photograph-classification-dataset/Raw Data/photos/be5cf02041dae6a583d24bd4d02b69279af25e9d.jpg\n"
     ]
    },
    {
     "name": "stderr",
     "output_type": "stream",
     "text": [
      " 34%|███▍      | 929/2737 [05:40<07:01,  4.29it/s]"
     ]
    },
    {
     "name": "stdout",
     "output_type": "stream",
     "text": [
      "../input/painting-vs-photograph-classification-dataset/Raw Data/photos/ce9c097b7200d2478c3321c8abd447415664f29c.jpg\n"
     ]
    },
    {
     "name": "stderr",
     "output_type": "stream",
     "text": [
      " 34%|███▍      | 930/2737 [05:40<07:03,  4.27it/s]"
     ]
    },
    {
     "name": "stdout",
     "output_type": "stream",
     "text": [
      "../input/painting-vs-photograph-classification-dataset/Raw Data/photos/3674aef5388068c2bc6f032424539b1cf21c89ba.jpg\n"
     ]
    },
    {
     "name": "stderr",
     "output_type": "stream",
     "text": [
      " 34%|███▍      | 931/2737 [05:40<07:06,  4.24it/s]"
     ]
    },
    {
     "name": "stdout",
     "output_type": "stream",
     "text": [
      "../input/painting-vs-photograph-classification-dataset/Raw Data/painting/36590b68934a84a47d4a73c7a9163e217c5b1cc5.jpg\n"
     ]
    },
    {
     "name": "stderr",
     "output_type": "stream",
     "text": [
      " 34%|███▍      | 933/2737 [05:41<09:51,  3.05it/s]"
     ]
    },
    {
     "name": "stdout",
     "output_type": "stream",
     "text": [
      "../input/painting-vs-photograph-classification-dataset/Raw Data/photos/b9178262830b80975d77d2fa2f855267bd3cf89c.jpg\n",
      "../input/painting-vs-photograph-classification-dataset/Raw Data/photos/61d51fae7b6f19107f550b354b6f2bcac71d8202.jpg\n"
     ]
    },
    {
     "name": "stderr",
     "output_type": "stream",
     "text": [
      " 34%|███▍      | 934/2737 [05:41<08:33,  3.51it/s]"
     ]
    },
    {
     "name": "stdout",
     "output_type": "stream",
     "text": [
      "../input/painting-vs-photograph-classification-dataset/Raw Data/photos/8918f98ac014d1640b7216f4aafd7db16ae557a8.jpg\n"
     ]
    },
    {
     "name": "stderr",
     "output_type": "stream",
     "text": [
      " 34%|███▍      | 935/2737 [05:41<08:08,  3.69it/s]"
     ]
    },
    {
     "name": "stdout",
     "output_type": "stream",
     "text": [
      "../input/painting-vs-photograph-classification-dataset/Raw Data/photos/a65bbe4d900e94206a25077b6d11c77144bc624e.jpg\n"
     ]
    },
    {
     "name": "stderr",
     "output_type": "stream",
     "text": [
      " 34%|███▍      | 936/2737 [05:42<07:35,  3.95it/s]"
     ]
    },
    {
     "name": "stdout",
     "output_type": "stream",
     "text": [
      "../input/painting-vs-photograph-classification-dataset/Raw Data/photos/2a3ff7587ff88369bf969e6d9ed6e4061c75e90f.jpg\n"
     ]
    },
    {
     "name": "stderr",
     "output_type": "stream",
     "text": [
      " 34%|███▍      | 937/2737 [05:42<07:54,  3.79it/s]"
     ]
    },
    {
     "name": "stdout",
     "output_type": "stream",
     "text": [
      "../input/painting-vs-photograph-classification-dataset/Raw Data/photos/9660961f22040c13556eeaf666b2428720257f6c.jpg\n"
     ]
    },
    {
     "name": "stderr",
     "output_type": "stream",
     "text": [
      " 34%|███▍      | 938/2737 [05:42<07:21,  4.07it/s]"
     ]
    },
    {
     "name": "stdout",
     "output_type": "stream",
     "text": [
      "../input/painting-vs-photograph-classification-dataset/Raw Data/photos/87124c7ac5d0786b34bc783b4a79e5e811eed5ff.jpg\n"
     ]
    },
    {
     "name": "stderr",
     "output_type": "stream",
     "text": [
      " 34%|███▍      | 939/2737 [05:42<07:12,  4.16it/s]"
     ]
    },
    {
     "name": "stdout",
     "output_type": "stream",
     "text": [
      "../input/painting-vs-photograph-classification-dataset/Raw Data/photos/c0271d4aec9e54f42ab5dc50cb3dfc91419c86b7.jpg\n"
     ]
    },
    {
     "name": "stderr",
     "output_type": "stream",
     "text": [
      " 34%|███▍      | 940/2737 [05:43<08:09,  3.67it/s]"
     ]
    },
    {
     "name": "stdout",
     "output_type": "stream",
     "text": [
      "../input/painting-vs-photograph-classification-dataset/Raw Data/photos/7073cf7f5eb7ecc8845a97e97f66cc4a5b74d74b.jpg\n"
     ]
    },
    {
     "name": "stderr",
     "output_type": "stream",
     "text": [
      " 34%|███▍      | 941/2737 [05:43<08:54,  3.36it/s]"
     ]
    },
    {
     "name": "stdout",
     "output_type": "stream",
     "text": [
      "../input/painting-vs-photograph-classification-dataset/Raw Data/photos/c42851463a7ad4cb1b66dce0151c23ac92df5636.jpg\n"
     ]
    },
    {
     "name": "stderr",
     "output_type": "stream",
     "text": [
      " 34%|███▍      | 942/2737 [05:43<08:57,  3.34it/s]"
     ]
    },
    {
     "name": "stdout",
     "output_type": "stream",
     "text": [
      "../input/painting-vs-photograph-classification-dataset/Raw Data/photos/3366be849c8f6102ee946044f2500f3d4f706236.jpg\n"
     ]
    },
    {
     "name": "stderr",
     "output_type": "stream",
     "text": [
      " 34%|███▍      | 943/2737 [05:44<08:22,  3.57it/s]"
     ]
    },
    {
     "name": "stdout",
     "output_type": "stream",
     "text": [
      "../input/painting-vs-photograph-classification-dataset/Raw Data/painting/7115a898074dc795f82964cb0dc9575e047f3628.jpg\n"
     ]
    },
    {
     "name": "stderr",
     "output_type": "stream",
     "text": [
      " 34%|███▍      | 944/2737 [05:44<12:50,  2.33it/s]"
     ]
    },
    {
     "name": "stdout",
     "output_type": "stream",
     "text": [
      "../input/painting-vs-photograph-classification-dataset/Raw Data/photos/1e6fc8229fde03739b41a6cca940215866f8a84c.jpg\n"
     ]
    },
    {
     "name": "stderr",
     "output_type": "stream",
     "text": [
      " 35%|███▍      | 946/2737 [05:45<09:31,  3.13it/s]"
     ]
    },
    {
     "name": "stdout",
     "output_type": "stream",
     "text": [
      "../input/painting-vs-photograph-classification-dataset/Raw Data/photos/87e5e3a1cb82c8e5c12434af780593867f22b3ba.jpg\n",
      "../input/painting-vs-photograph-classification-dataset/Raw Data/photos/2487599fa7ef64019a7b234f6f4ce30e5a3503c0.jpg\n"
     ]
    },
    {
     "name": "stderr",
     "output_type": "stream",
     "text": [
      " 35%|███▍      | 948/2737 [05:45<07:53,  3.78it/s]"
     ]
    },
    {
     "name": "stdout",
     "output_type": "stream",
     "text": [
      "../input/painting-vs-photograph-classification-dataset/Raw Data/photos/b637267ac44e6fa37ce77292480aa5cb1d992b90.jpg\n",
      "../input/painting-vs-photograph-classification-dataset/Raw Data/painting/1e381430eccfa5a96f6b83b6b95c6539257664d2.jpg\n"
     ]
    },
    {
     "name": "stderr",
     "output_type": "stream",
     "text": [
      " 35%|███▍      | 949/2737 [05:46<08:50,  3.37it/s]"
     ]
    },
    {
     "name": "stdout",
     "output_type": "stream",
     "text": [
      "../input/painting-vs-photograph-classification-dataset/Raw Data/painting/b4a68b6055a1ead2dbfe47640c75ba3491293ca7.jpg\n"
     ]
    },
    {
     "name": "stderr",
     "output_type": "stream",
     "text": [
      " 35%|███▍      | 950/2737 [05:46<12:27,  2.39it/s]"
     ]
    },
    {
     "name": "stdout",
     "output_type": "stream",
     "text": [
      "../input/painting-vs-photograph-classification-dataset/Raw Data/photos/9fad551a41078928cf0cd259c2c6de85f335c4b5.jpg\n"
     ]
    },
    {
     "name": "stderr",
     "output_type": "stream",
     "text": [
      " 35%|███▍      | 951/2737 [05:47<10:50,  2.75it/s]"
     ]
    },
    {
     "name": "stdout",
     "output_type": "stream",
     "text": [
      "../input/painting-vs-photograph-classification-dataset/Raw Data/photos/cfcc17d45ba5630b8b5afa249fef505819aab8bc.jpg\n"
     ]
    },
    {
     "name": "stderr",
     "output_type": "stream",
     "text": [
      " 35%|███▍      | 952/2737 [05:47<09:30,  3.13it/s]"
     ]
    },
    {
     "name": "stdout",
     "output_type": "stream",
     "text": [
      "../input/painting-vs-photograph-classification-dataset/Raw Data/painting/9bee3ad3937aac0387597374d3d1a00ce93cbae4.jpg\n"
     ]
    },
    {
     "name": "stderr",
     "output_type": "stream",
     "text": [
      " 35%|███▍      | 953/2737 [05:48<15:54,  1.87it/s]"
     ]
    },
    {
     "name": "stdout",
     "output_type": "stream",
     "text": [
      "../input/painting-vs-photograph-classification-dataset/Raw Data/photos/818e6958ca81ccb672cd32b24c1464d125b2479c.jpg\n"
     ]
    },
    {
     "name": "stderr",
     "output_type": "stream",
     "text": [
      " 35%|███▍      | 954/2737 [05:48<13:13,  2.25it/s]"
     ]
    },
    {
     "name": "stdout",
     "output_type": "stream",
     "text": [
      "../input/painting-vs-photograph-classification-dataset/Raw Data/photos/d3a94d0a838e49e47b1c6627b020811dcbd5f40e.jpg\n"
     ]
    },
    {
     "name": "stderr",
     "output_type": "stream",
     "text": [
      " 35%|███▍      | 955/2737 [05:48<11:22,  2.61it/s]"
     ]
    },
    {
     "name": "stdout",
     "output_type": "stream",
     "text": [
      "../input/painting-vs-photograph-classification-dataset/Raw Data/photos/5890caf2064eb159c475ec98218c01538686b3d5.jpg\n"
     ]
    },
    {
     "name": "stderr",
     "output_type": "stream",
     "text": [
      " 35%|███▍      | 956/2737 [05:49<11:11,  2.65it/s]"
     ]
    },
    {
     "name": "stdout",
     "output_type": "stream",
     "text": [
      "../input/painting-vs-photograph-classification-dataset/Raw Data/painting/ee1b1a4379bca68c3ca9d725c86740a903253788.jpg\n"
     ]
    },
    {
     "name": "stderr",
     "output_type": "stream",
     "text": [
      " 35%|███▍      | 957/2737 [05:50<17:11,  1.73it/s]"
     ]
    },
    {
     "name": "stdout",
     "output_type": "stream",
     "text": [
      "../input/painting-vs-photograph-classification-dataset/Raw Data/photos/996d54c5d57c864e0c380e21a93e53e7e3ca2d71.jpg\n"
     ]
    },
    {
     "name": "stderr",
     "output_type": "stream",
     "text": [
      " 35%|███▌      | 958/2737 [05:50<14:07,  2.10it/s]"
     ]
    },
    {
     "name": "stdout",
     "output_type": "stream",
     "text": [
      "../input/painting-vs-photograph-classification-dataset/Raw Data/photos/f6755369cef04b281b66dc5a067819286d130ee9.jpg\n"
     ]
    },
    {
     "name": "stderr",
     "output_type": "stream",
     "text": [
      " 35%|███▌      | 959/2737 [05:50<11:58,  2.47it/s]"
     ]
    },
    {
     "name": "stdout",
     "output_type": "stream",
     "text": [
      "../input/painting-vs-photograph-classification-dataset/Raw Data/photos/950ec8ecccc507bd9f1b43a1404463869edb77f4.jpg\n"
     ]
    },
    {
     "name": "stderr",
     "output_type": "stream",
     "text": [
      " 35%|███▌      | 960/2737 [05:50<10:30,  2.82it/s]"
     ]
    },
    {
     "name": "stdout",
     "output_type": "stream",
     "text": [
      "../input/painting-vs-photograph-classification-dataset/Raw Data/photos/bbbd8dbbab0acf8eb89d4283a084e1d5d8392185.jpg\n"
     ]
    },
    {
     "name": "stderr",
     "output_type": "stream",
     "text": [
      " 35%|███▌      | 962/2737 [05:51<08:09,  3.62it/s]"
     ]
    },
    {
     "name": "stdout",
     "output_type": "stream",
     "text": [
      "../input/painting-vs-photograph-classification-dataset/Raw Data/photos/cb26df320a7e66a83fbf34b5b41fada3ca6aeed3.jpg\n",
      "../input/painting-vs-photograph-classification-dataset/Raw Data/photos/8260cf5d6a4d0ce142bc5a101167c23e9291cab4.jpg\n"
     ]
    },
    {
     "name": "stderr",
     "output_type": "stream",
     "text": [
      " 35%|███▌      | 963/2737 [05:51<08:34,  3.45it/s]"
     ]
    },
    {
     "name": "stdout",
     "output_type": "stream",
     "text": [
      "../input/painting-vs-photograph-classification-dataset/Raw Data/painting/9dae6c2719c1e3b284832113b3d36405f910ec7d.jpg\n"
     ]
    },
    {
     "name": "stderr",
     "output_type": "stream",
     "text": [
      " 35%|███▌      | 964/2737 [05:52<13:49,  2.14it/s]"
     ]
    },
    {
     "name": "stdout",
     "output_type": "stream",
     "text": [
      "../input/painting-vs-photograph-classification-dataset/Raw Data/painting/b6a565264e192ba0c277ad928818c08846d8a5e7.jpg\n"
     ]
    },
    {
     "name": "stderr",
     "output_type": "stream",
     "text": [
      " 35%|███▌      | 965/2737 [05:53<16:24,  1.80it/s]"
     ]
    },
    {
     "name": "stdout",
     "output_type": "stream",
     "text": [
      "../input/painting-vs-photograph-classification-dataset/Raw Data/painting/e547d409551658cb19534767b9a9b88f4afff025.jpg\n"
     ]
    },
    {
     "name": "stderr",
     "output_type": "stream",
     "text": [
      " 35%|███▌      | 966/2737 [05:54<17:40,  1.67it/s]"
     ]
    },
    {
     "name": "stdout",
     "output_type": "stream",
     "text": [
      "../input/painting-vs-photograph-classification-dataset/Raw Data/photos/34fa6c1884b765462a667caaab2dfca16cf54278.jpg\n"
     ]
    },
    {
     "name": "stderr",
     "output_type": "stream",
     "text": [
      " 35%|███▌      | 967/2737 [05:54<14:29,  2.03it/s]"
     ]
    },
    {
     "name": "stdout",
     "output_type": "stream",
     "text": [
      "../input/painting-vs-photograph-classification-dataset/Raw Data/painting/e5797a426770df5fb1b1c0c80498c1da32044934.jpg\n"
     ]
    },
    {
     "name": "stderr",
     "output_type": "stream",
     "text": [
      " 35%|███▌      | 969/2737 [05:55<13:35,  2.17it/s]"
     ]
    },
    {
     "name": "stdout",
     "output_type": "stream",
     "text": [
      "../input/painting-vs-photograph-classification-dataset/Raw Data/photos/097e98ff9296a19704ba05ebaf80cac0dd372426.jpg\n",
      "../input/painting-vs-photograph-classification-dataset/Raw Data/photos/2048e6aafeb0d1c31d4a305f1fdb235360ebac38.jpg\n"
     ]
    },
    {
     "name": "stderr",
     "output_type": "stream",
     "text": [
      " 35%|███▌      | 970/2737 [05:55<11:42,  2.52it/s]"
     ]
    },
    {
     "name": "stdout",
     "output_type": "stream",
     "text": [
      "../input/painting-vs-photograph-classification-dataset/Raw Data/photos/6338254eebd29297cbbff203349b6e5825c76cb8.jpg\n"
     ]
    },
    {
     "name": "stderr",
     "output_type": "stream",
     "text": [
      " 35%|███▌      | 971/2737 [05:55<10:37,  2.77it/s]"
     ]
    },
    {
     "name": "stdout",
     "output_type": "stream",
     "text": [
      "../input/painting-vs-photograph-classification-dataset/Raw Data/photos/be59e997b03ac1f8989ed1f9e7d830377b8cb17e.jpg\n"
     ]
    },
    {
     "name": "stderr",
     "output_type": "stream",
     "text": [
      " 36%|███▌      | 972/2737 [05:56<09:42,  3.03it/s]"
     ]
    },
    {
     "name": "stdout",
     "output_type": "stream",
     "text": [
      "../input/painting-vs-photograph-classification-dataset/Raw Data/photos/a1dbee5e93407bf2322289d32a8ba9b8525153ca.jpg\n"
     ]
    },
    {
     "name": "stderr",
     "output_type": "stream",
     "text": [
      " 36%|███▌      | 974/2737 [05:56<08:00,  3.67it/s]"
     ]
    },
    {
     "name": "stdout",
     "output_type": "stream",
     "text": [
      "../input/painting-vs-photograph-classification-dataset/Raw Data/photos/f5c0e447c2c81e626440729ae0c458a07b47c05c.jpg\n",
      "../input/painting-vs-photograph-classification-dataset/Raw Data/photos/86f0767635454d0c98c8b999fa11c34fd8ede547.jpg\n"
     ]
    },
    {
     "name": "stderr",
     "output_type": "stream",
     "text": [
      " 36%|███▌      | 975/2737 [05:56<07:43,  3.80it/s]"
     ]
    },
    {
     "name": "stdout",
     "output_type": "stream",
     "text": [
      "../input/painting-vs-photograph-classification-dataset/Raw Data/photos/c010706ee1d60935df2ba06ec4c081abe9e6d62f.jpg\n"
     ]
    },
    {
     "name": "stderr",
     "output_type": "stream",
     "text": [
      " 36%|███▌      | 976/2737 [05:56<07:22,  3.98it/s]"
     ]
    },
    {
     "name": "stdout",
     "output_type": "stream",
     "text": [
      "../input/painting-vs-photograph-classification-dataset/Raw Data/photos/004990b572a148df96cb379ab7b64e43234b125f.jpg\n"
     ]
    },
    {
     "name": "stderr",
     "output_type": "stream",
     "text": [
      " 36%|███▌      | 977/2737 [05:57<07:34,  3.87it/s]"
     ]
    },
    {
     "name": "stdout",
     "output_type": "stream",
     "text": [
      "../input/painting-vs-photograph-classification-dataset/Raw Data/photos/fdd2b7630c6000b8410bbff52f44969183ca04e9.jpg\n"
     ]
    },
    {
     "name": "stderr",
     "output_type": "stream",
     "text": [
      " 36%|███▌      | 978/2737 [05:57<07:55,  3.70it/s]"
     ]
    },
    {
     "name": "stdout",
     "output_type": "stream",
     "text": [
      "../input/painting-vs-photograph-classification-dataset/Raw Data/painting/ea28089a5012dc65cffc11f74d76da7ddc7ac9ee.jpg\n"
     ]
    },
    {
     "name": "stderr",
     "output_type": "stream",
     "text": [
      " 36%|███▌      | 979/2737 [05:58<12:44,  2.30it/s]"
     ]
    },
    {
     "name": "stdout",
     "output_type": "stream",
     "text": [
      "../input/painting-vs-photograph-classification-dataset/Raw Data/painting/a17639e8c7b7af3659be155da5da61a32dffe27c.jpg\n"
     ]
    },
    {
     "name": "stderr",
     "output_type": "stream",
     "text": [
      " 36%|███▌      | 980/2737 [05:58<14:18,  2.05it/s]"
     ]
    },
    {
     "name": "stdout",
     "output_type": "stream",
     "text": [
      "../input/painting-vs-photograph-classification-dataset/Raw Data/photos/e5e1210d609617b36c09f0dfcf4514dfe3bb014f.jpg\n"
     ]
    },
    {
     "name": "stderr",
     "output_type": "stream",
     "text": [
      " 36%|███▌      | 981/2737 [05:59<12:04,  2.42it/s]"
     ]
    },
    {
     "name": "stdout",
     "output_type": "stream",
     "text": [
      "../input/painting-vs-photograph-classification-dataset/Raw Data/photos/b76aa64be97747f76b30080d9b598c620fe44afc.jpg\n"
     ]
    },
    {
     "name": "stderr",
     "output_type": "stream",
     "text": [
      " 36%|███▌      | 982/2737 [05:59<10:33,  2.77it/s]"
     ]
    },
    {
     "name": "stdout",
     "output_type": "stream",
     "text": [
      "../input/painting-vs-photograph-classification-dataset/Raw Data/photos/72ee43a95d7bdba65ba834633c90259143421d13.jpg\n"
     ]
    },
    {
     "name": "stderr",
     "output_type": "stream",
     "text": [
      " 36%|███▌      | 983/2737 [05:59<09:29,  3.08it/s]"
     ]
    },
    {
     "name": "stdout",
     "output_type": "stream",
     "text": [
      "../input/painting-vs-photograph-classification-dataset/Raw Data/photos/3999570df9ce68bd1acd11cc306d317754448537.jpg\n"
     ]
    },
    {
     "name": "stderr",
     "output_type": "stream",
     "text": [
      " 36%|███▌      | 984/2737 [05:59<08:39,  3.38it/s]"
     ]
    },
    {
     "name": "stdout",
     "output_type": "stream",
     "text": [
      "../input/painting-vs-photograph-classification-dataset/Raw Data/painting/3930c27127fa1f9e203518a305ef05b6f11e1d34.jpg\n"
     ]
    },
    {
     "name": "stderr",
     "output_type": "stream",
     "text": [
      " 36%|███▌      | 986/2737 [06:01<12:20,  2.36it/s]"
     ]
    },
    {
     "name": "stdout",
     "output_type": "stream",
     "text": [
      "../input/painting-vs-photograph-classification-dataset/Raw Data/photos/e83fd82da334efa694b6296db3a7fe579732e6ae.jpg\n",
      "../input/painting-vs-photograph-classification-dataset/Raw Data/photos/f871702273ab628813c5d473d405057ef9002262.jpg\n"
     ]
    },
    {
     "name": "stderr",
     "output_type": "stream",
     "text": [
      " 36%|███▌      | 988/2737 [06:01<09:02,  3.22it/s]"
     ]
    },
    {
     "name": "stdout",
     "output_type": "stream",
     "text": [
      "../input/painting-vs-photograph-classification-dataset/Raw Data/photos/e0b133d18a519d77379488af868ff1311395fcf4.jpg\n",
      "../input/painting-vs-photograph-classification-dataset/Raw Data/photos/d83bea57502a2e0092f79d4ee7472f05b59cb53e.jpg\n"
     ]
    },
    {
     "name": "stderr",
     "output_type": "stream",
     "text": [
      " 36%|███▌      | 989/2737 [06:01<08:27,  3.45it/s]"
     ]
    },
    {
     "name": "stdout",
     "output_type": "stream",
     "text": [
      "../input/painting-vs-photograph-classification-dataset/Raw Data/photos/d86ec166834b4b4bd8f76e55dc060cb905b522d5.jpg\n"
     ]
    },
    {
     "name": "stderr",
     "output_type": "stream",
     "text": [
      " 36%|███▌      | 990/2737 [06:02<07:56,  3.66it/s]"
     ]
    },
    {
     "name": "stdout",
     "output_type": "stream",
     "text": [
      "../input/painting-vs-photograph-classification-dataset/Raw Data/photos/fff298139ea09a79f80b64af75151a97efb02ce2.jpg\n"
     ]
    },
    {
     "name": "stderr",
     "output_type": "stream",
     "text": [
      " 36%|███▌      | 991/2737 [06:02<07:39,  3.80it/s]"
     ]
    },
    {
     "name": "stdout",
     "output_type": "stream",
     "text": [
      "../input/painting-vs-photograph-classification-dataset/Raw Data/photos/c3915c79f31adc64f288452622ae504444accd60.jpg\n"
     ]
    },
    {
     "name": "stderr",
     "output_type": "stream",
     "text": [
      " 36%|███▌      | 992/2737 [06:02<08:05,  3.60it/s]"
     ]
    },
    {
     "name": "stdout",
     "output_type": "stream",
     "text": [
      "../input/painting-vs-photograph-classification-dataset/Raw Data/photos/68d346a71a2affa88344e9028ae3d2bc22e9b9f8.jpg\n"
     ]
    },
    {
     "name": "stderr",
     "output_type": "stream",
     "text": [
      " 36%|███▋      | 993/2737 [06:02<07:43,  3.76it/s]"
     ]
    },
    {
     "name": "stdout",
     "output_type": "stream",
     "text": [
      "../input/painting-vs-photograph-classification-dataset/Raw Data/photos/686bd316795c2004ca90e2843e9c507c8ab8ca60.jpg\n"
     ]
    },
    {
     "name": "stderr",
     "output_type": "stream",
     "text": [
      " 36%|███▋      | 994/2737 [06:03<07:22,  3.94it/s]"
     ]
    },
    {
     "name": "stdout",
     "output_type": "stream",
     "text": [
      "../input/painting-vs-photograph-classification-dataset/Raw Data/painting/eb306a0241c7a5fa2599c745c4a76befe9eda54f.jpg\n"
     ]
    },
    {
     "name": "stderr",
     "output_type": "stream",
     "text": [
      " 36%|███▋      | 995/2737 [06:03<11:18,  2.57it/s]"
     ]
    },
    {
     "name": "stdout",
     "output_type": "stream",
     "text": [
      "../input/painting-vs-photograph-classification-dataset/Raw Data/photos/a61335f03544411733b3c458666674e88b42ff56.jpg\n"
     ]
    },
    {
     "name": "stderr",
     "output_type": "stream",
     "text": [
      " 36%|███▋      | 996/2737 [06:03<09:55,  2.93it/s]"
     ]
    },
    {
     "name": "stdout",
     "output_type": "stream",
     "text": [
      "../input/painting-vs-photograph-classification-dataset/Raw Data/painting/bd5277bec5f789dbaadd0ae2ba265d8f5e551cf2.jpg\n"
     ]
    },
    {
     "name": "stderr",
     "output_type": "stream",
     "text": [
      " 36%|███▋      | 997/2737 [06:05<15:52,  1.83it/s]"
     ]
    },
    {
     "name": "stdout",
     "output_type": "stream",
     "text": [
      "../input/painting-vs-photograph-classification-dataset/Raw Data/painting/c005a286b85b761d84bac1c38bbdd7eef096db47.jpg\n"
     ]
    },
    {
     "name": "stderr",
     "output_type": "stream",
     "text": [
      " 36%|███▋      | 999/2737 [06:05<13:19,  2.17it/s]"
     ]
    },
    {
     "name": "stdout",
     "output_type": "stream",
     "text": [
      "../input/painting-vs-photograph-classification-dataset/Raw Data/photos/d0b3c2faca723851d0f98a353a5bf12524ff5c54.jpg\n",
      "../input/painting-vs-photograph-classification-dataset/Raw Data/painting/77eae68235e3af79aed54a93950b3ab4590f3d2f.jpg\n"
     ]
    },
    {
     "name": "stderr",
     "output_type": "stream",
     "text": [
      " 37%|███▋      | 1000/2737 [06:06<15:42,  1.84it/s]"
     ]
    },
    {
     "name": "stdout",
     "output_type": "stream",
     "text": [
      "../input/painting-vs-photograph-classification-dataset/Raw Data/painting/eb5924225705ea6f1e8cb3464f9ed1a69b6df96d.jpg\n"
     ]
    },
    {
     "name": "stderr",
     "output_type": "stream",
     "text": [
      " 37%|███▋      | 1001/2737 [06:07<17:43,  1.63it/s]"
     ]
    },
    {
     "name": "stdout",
     "output_type": "stream",
     "text": [
      "../input/painting-vs-photograph-classification-dataset/Raw Data/painting/f2932b7cff4c8969c67b189e1b4e23afc4327425.jpg\n"
     ]
    },
    {
     "name": "stderr",
     "output_type": "stream",
     "text": [
      " 37%|███▋      | 1002/2737 [06:08<21:57,  1.32it/s]"
     ]
    },
    {
     "name": "stdout",
     "output_type": "stream",
     "text": [
      "../input/painting-vs-photograph-classification-dataset/Raw Data/photos/051377bb9ea50211263bcdd456312d27a8871c1f.jpg\n"
     ]
    },
    {
     "name": "stderr",
     "output_type": "stream",
     "text": [
      " 37%|███▋      | 1003/2737 [06:08<18:31,  1.56it/s]"
     ]
    },
    {
     "name": "stdout",
     "output_type": "stream",
     "text": [
      "../input/painting-vs-photograph-classification-dataset/Raw Data/photos/ea5a64c20d693fb00f052a2c48e2a62724837146.jpg\n"
     ]
    },
    {
     "name": "stderr",
     "output_type": "stream",
     "text": [
      " 37%|███▋      | 1004/2737 [06:09<15:03,  1.92it/s]"
     ]
    },
    {
     "name": "stdout",
     "output_type": "stream",
     "text": [
      "../input/painting-vs-photograph-classification-dataset/Raw Data/painting/f1a3eb284422f19155f61f10bc5e9e149c4993ea.jpg\n"
     ]
    },
    {
     "name": "stderr",
     "output_type": "stream",
     "text": [
      " 37%|███▋      | 1005/2737 [06:10<19:16,  1.50it/s]"
     ]
    },
    {
     "name": "stdout",
     "output_type": "stream",
     "text": [
      "../input/painting-vs-photograph-classification-dataset/Raw Data/photos/48835008d9d39fc056517e9dc9e6b1cc3de40a7c.jpg\n"
     ]
    },
    {
     "name": "stderr",
     "output_type": "stream",
     "text": [
      " 37%|███▋      | 1007/2737 [06:10<12:38,  2.28it/s]"
     ]
    },
    {
     "name": "stdout",
     "output_type": "stream",
     "text": [
      "../input/painting-vs-photograph-classification-dataset/Raw Data/photos/73a4c29eed4d03cb8fa3437bb5000db82381a82e.jpg\n",
      "../input/painting-vs-photograph-classification-dataset/Raw Data/photos/101ec08882a90731ddb9120119040cfbe4b78eba.jpg\n"
     ]
    },
    {
     "name": "stderr",
     "output_type": "stream",
     "text": [
      " 37%|███▋      | 1008/2737 [06:10<10:52,  2.65it/s]"
     ]
    },
    {
     "name": "stdout",
     "output_type": "stream",
     "text": [
      "../input/painting-vs-photograph-classification-dataset/Raw Data/photos/a72c5f15b9d4d9b16a31ca18d0c00e79ebe9a3d0.jpg\n"
     ]
    },
    {
     "name": "stderr",
     "output_type": "stream",
     "text": [
      " 37%|███▋      | 1009/2737 [06:11<10:38,  2.71it/s]"
     ]
    },
    {
     "name": "stdout",
     "output_type": "stream",
     "text": [
      "../input/painting-vs-photograph-classification-dataset/Raw Data/painting/f9e784a5cf62a90814cfafa819799afb3cc58887.jpg\n"
     ]
    },
    {
     "name": "stderr",
     "output_type": "stream",
     "text": [
      " 37%|███▋      | 1010/2737 [06:11<14:36,  1.97it/s]"
     ]
    },
    {
     "name": "stdout",
     "output_type": "stream",
     "text": [
      "../input/painting-vs-photograph-classification-dataset/Raw Data/photos/b0817f8eae2a09a5f3c2afbd0934457df543a258.jpg\n"
     ]
    },
    {
     "name": "stderr",
     "output_type": "stream",
     "text": [
      " 37%|███▋      | 1011/2737 [06:12<12:35,  2.28it/s]"
     ]
    },
    {
     "name": "stdout",
     "output_type": "stream",
     "text": [
      "../input/painting-vs-photograph-classification-dataset/Raw Data/photos/f2a94b7d93aa3fa5cd8b9ffbe891a7a6565e61a3.jpg\n"
     ]
    },
    {
     "name": "stderr",
     "output_type": "stream",
     "text": [
      " 37%|███▋      | 1012/2737 [06:12<10:34,  2.72it/s]"
     ]
    },
    {
     "name": "stdout",
     "output_type": "stream",
     "text": [
      "../input/painting-vs-photograph-classification-dataset/Raw Data/painting/85133df760e3c4730beee666b4b640f2dcbee065.jpg\n"
     ]
    },
    {
     "name": "stderr",
     "output_type": "stream",
     "text": [
      " 37%|███▋      | 1013/2737 [06:13<15:35,  1.84it/s]"
     ]
    },
    {
     "name": "stdout",
     "output_type": "stream",
     "text": [
      "../input/painting-vs-photograph-classification-dataset/Raw Data/photos/d8fc15353b3b17171d9d3ee227978d9b3f165091.jpg\n"
     ]
    },
    {
     "name": "stderr",
     "output_type": "stream",
     "text": [
      " 37%|███▋      | 1014/2737 [06:13<13:20,  2.15it/s]"
     ]
    },
    {
     "name": "stdout",
     "output_type": "stream",
     "text": [
      "../input/painting-vs-photograph-classification-dataset/Raw Data/photos/a37a4ec29e9c55ae099a820c870fb830aa0c8b30.jpg\n"
     ]
    },
    {
     "name": "stderr",
     "output_type": "stream",
     "text": [
      " 37%|███▋      | 1015/2737 [06:13<11:53,  2.41it/s]"
     ]
    },
    {
     "name": "stdout",
     "output_type": "stream",
     "text": [
      "../input/painting-vs-photograph-classification-dataset/Raw Data/photos/f88461bf6e6276d52b3d66236a3ef5cb8adc77a1.jpg\n"
     ]
    },
    {
     "name": "stderr",
     "output_type": "stream",
     "text": [
      " 37%|███▋      | 1016/2737 [06:14<10:23,  2.76it/s]"
     ]
    },
    {
     "name": "stdout",
     "output_type": "stream",
     "text": [
      "../input/painting-vs-photograph-classification-dataset/Raw Data/painting/d5915fe415ed420cd629c694fb9306d15546aa17.jpg\n"
     ]
    },
    {
     "name": "stderr",
     "output_type": "stream",
     "text": [
      " 37%|███▋      | 1017/2737 [06:14<12:28,  2.30it/s]"
     ]
    },
    {
     "name": "stdout",
     "output_type": "stream",
     "text": [
      "../input/painting-vs-photograph-classification-dataset/Raw Data/photos/a2309528516d2deb92a030d303dfb7d44eb5a781.jpg\n"
     ]
    },
    {
     "name": "stderr",
     "output_type": "stream",
     "text": [
      " 37%|███▋      | 1018/2737 [06:15<11:02,  2.59it/s]"
     ]
    },
    {
     "name": "stdout",
     "output_type": "stream",
     "text": [
      "../input/painting-vs-photograph-classification-dataset/Raw Data/photos/4ed408f5dab1ad5f26031264ed3340dfbd836597.jpg\n"
     ]
    },
    {
     "name": "stderr",
     "output_type": "stream",
     "text": [
      " 37%|███▋      | 1019/2737 [06:15<10:31,  2.72it/s]"
     ]
    },
    {
     "name": "stdout",
     "output_type": "stream",
     "text": [
      "../input/painting-vs-photograph-classification-dataset/Raw Data/painting/e7122fa6d80c4bdbcd3683eaadc8e860aa8351ea.jpg\n"
     ]
    },
    {
     "name": "stderr",
     "output_type": "stream",
     "text": [
      " 37%|███▋      | 1020/2737 [06:16<14:31,  1.97it/s]"
     ]
    },
    {
     "name": "stdout",
     "output_type": "stream",
     "text": [
      "../input/painting-vs-photograph-classification-dataset/Raw Data/photos/c553154536ae2557bea199b149507a6723dc3472.jpg\n"
     ]
    },
    {
     "name": "stderr",
     "output_type": "stream",
     "text": [
      " 37%|███▋      | 1021/2737 [06:16<11:55,  2.40it/s]"
     ]
    },
    {
     "name": "stdout",
     "output_type": "stream",
     "text": [
      "../input/painting-vs-photograph-classification-dataset/Raw Data/photos/c5ec7ed0a604934b5b51c73e876cca1dd19f491a.jpg\n"
     ]
    },
    {
     "name": "stderr",
     "output_type": "stream",
     "text": [
      " 37%|███▋      | 1022/2737 [06:16<10:06,  2.83it/s]"
     ]
    },
    {
     "name": "stdout",
     "output_type": "stream",
     "text": [
      "../input/painting-vs-photograph-classification-dataset/Raw Data/photos/f2d25feb276562b50b00fc143d29aa3d4f9416e8.jpg\n"
     ]
    },
    {
     "name": "stderr",
     "output_type": "stream",
     "text": [
      " 37%|███▋      | 1023/2737 [06:16<09:21,  3.05it/s]"
     ]
    },
    {
     "name": "stdout",
     "output_type": "stream",
     "text": [
      "../input/painting-vs-photograph-classification-dataset/Raw Data/painting/4c5a5ea7ec25509dd97538f440bf5d3f4b7219d2.jpg\n"
     ]
    },
    {
     "name": "stderr",
     "output_type": "stream",
     "text": [
      " 37%|███▋      | 1024/2737 [06:17<12:31,  2.28it/s]"
     ]
    },
    {
     "name": "stdout",
     "output_type": "stream",
     "text": [
      "../input/painting-vs-photograph-classification-dataset/Raw Data/photos/473261a977604c542b47f4c9fa6c59b221979aac.jpg\n"
     ]
    },
    {
     "name": "stderr",
     "output_type": "stream",
     "text": [
      " 37%|███▋      | 1025/2737 [06:17<10:41,  2.67it/s]"
     ]
    },
    {
     "name": "stdout",
     "output_type": "stream",
     "text": [
      "../input/painting-vs-photograph-classification-dataset/Raw Data/painting/ac248190531edf2d4c6c2bb8e07196c76663ccf7.jpg\n"
     ]
    },
    {
     "name": "stderr",
     "output_type": "stream",
     "text": [
      " 37%|███▋      | 1026/2737 [06:18<16:22,  1.74it/s]"
     ]
    },
    {
     "name": "stdout",
     "output_type": "stream",
     "text": [
      "../input/painting-vs-photograph-classification-dataset/Raw Data/photos/06077f6e9f9243126ec14890e73985d5d6e76ef9.jpg\n"
     ]
    },
    {
     "name": "stderr",
     "output_type": "stream",
     "text": [
      " 38%|███▊      | 1027/2737 [06:19<13:30,  2.11it/s]"
     ]
    },
    {
     "name": "stdout",
     "output_type": "stream",
     "text": [
      "../input/painting-vs-photograph-classification-dataset/Raw Data/painting/a1729735e69aae493ee94b5d389a83203fd054ea.jpg\n"
     ]
    },
    {
     "name": "stderr",
     "output_type": "stream",
     "text": [
      " 38%|███▊      | 1028/2737 [06:20<18:41,  1.52it/s]"
     ]
    },
    {
     "name": "stdout",
     "output_type": "stream",
     "text": [
      "../input/painting-vs-photograph-classification-dataset/Raw Data/photos/c5db2610dc2b9a863c0c16700c27c79485032868.jpg\n"
     ]
    },
    {
     "name": "stderr",
     "output_type": "stream",
     "text": [
      " 38%|███▊      | 1029/2737 [06:20<15:42,  1.81it/s]"
     ]
    },
    {
     "name": "stdout",
     "output_type": "stream",
     "text": [
      "../input/painting-vs-photograph-classification-dataset/Raw Data/photos/c3fbe81a55a444f1e7fb2551aba5cca53ebe88e3.jpg\n"
     ]
    },
    {
     "name": "stderr",
     "output_type": "stream",
     "text": [
      " 38%|███▊      | 1030/2737 [06:20<12:44,  2.23it/s]"
     ]
    },
    {
     "name": "stdout",
     "output_type": "stream",
     "text": [
      "../input/painting-vs-photograph-classification-dataset/Raw Data/photos/4a25f196ae969999801c52d2496bb1e23f0afb18.jpg\n"
     ]
    },
    {
     "name": "stderr",
     "output_type": "stream",
     "text": [
      " 38%|███▊      | 1031/2737 [06:20<10:46,  2.64it/s]"
     ]
    },
    {
     "name": "stdout",
     "output_type": "stream",
     "text": [
      "../input/painting-vs-photograph-classification-dataset/Raw Data/painting/b2cfd81553e5ff95518c3eff0c452d3103ff798e.jpg\n"
     ]
    },
    {
     "name": "stderr",
     "output_type": "stream",
     "text": [
      " 38%|███▊      | 1032/2737 [06:21<13:34,  2.09it/s]"
     ]
    },
    {
     "name": "stdout",
     "output_type": "stream",
     "text": [
      "../input/painting-vs-photograph-classification-dataset/Raw Data/photos/d98755d378b8dad7622325b0f7b9940c5661de3d.jpg\n"
     ]
    },
    {
     "name": "stderr",
     "output_type": "stream",
     "text": [
      " 38%|███▊      | 1033/2737 [06:21<11:32,  2.46it/s]"
     ]
    },
    {
     "name": "stdout",
     "output_type": "stream",
     "text": [
      "../input/painting-vs-photograph-classification-dataset/Raw Data/photos/c7ae537ab879e6dfda08a7b81706dc3ad4b77466.jpg\n"
     ]
    },
    {
     "name": "stderr",
     "output_type": "stream",
     "text": [
      " 38%|███▊      | 1034/2737 [06:22<10:12,  2.78it/s]"
     ]
    },
    {
     "name": "stdout",
     "output_type": "stream",
     "text": [
      "../input/painting-vs-photograph-classification-dataset/Raw Data/photos/86e360cb927709802f553db686f2b70e728cd65a.jpg\n"
     ]
    },
    {
     "name": "stderr",
     "output_type": "stream",
     "text": [
      " 38%|███▊      | 1035/2737 [06:22<09:01,  3.15it/s]"
     ]
    },
    {
     "name": "stdout",
     "output_type": "stream",
     "text": [
      "../input/painting-vs-photograph-classification-dataset/Raw Data/painting/3b208442967e75c2bdafdfd1cfc4c909df2a9017.jpg\n"
     ]
    },
    {
     "name": "stderr",
     "output_type": "stream",
     "text": [
      " 38%|███▊      | 1036/2737 [06:23<12:58,  2.19it/s]"
     ]
    },
    {
     "name": "stdout",
     "output_type": "stream",
     "text": [
      "../input/painting-vs-photograph-classification-dataset/Raw Data/painting/a0986d93c279ac0e01cced48ff421a16838ebc3c.jpg\n"
     ]
    },
    {
     "name": "stderr",
     "output_type": "stream",
     "text": [
      " 38%|███▊      | 1038/2737 [06:24<12:43,  2.23it/s]"
     ]
    },
    {
     "name": "stdout",
     "output_type": "stream",
     "text": [
      "../input/painting-vs-photograph-classification-dataset/Raw Data/photos/46519ce8f3572242f52b609ac79b964e5528112f.jpg\n",
      "../input/painting-vs-photograph-classification-dataset/Raw Data/photos/fdc9346e475140025980d1ae4d86676b1d015b84.jpg\n"
     ]
    },
    {
     "name": "stderr",
     "output_type": "stream",
     "text": [
      " 38%|███▊      | 1039/2737 [06:24<10:51,  2.60it/s]"
     ]
    },
    {
     "name": "stdout",
     "output_type": "stream",
     "text": [
      "../input/painting-vs-photograph-classification-dataset/Raw Data/photos/41258b312ecf2ce303315982851d0639a9392453.jpg\n"
     ]
    },
    {
     "name": "stderr",
     "output_type": "stream",
     "text": [
      " 38%|███▊      | 1040/2737 [06:24<09:38,  2.93it/s]"
     ]
    },
    {
     "name": "stdout",
     "output_type": "stream",
     "text": [
      "../input/painting-vs-photograph-classification-dataset/Raw Data/painting/bb93343c12e0e358f55314bdf793d24de6ce2859.jpg\n"
     ]
    },
    {
     "name": "stderr",
     "output_type": "stream",
     "text": [
      " 38%|███▊      | 1041/2737 [06:25<12:22,  2.28it/s]"
     ]
    },
    {
     "name": "stdout",
     "output_type": "stream",
     "text": [
      "../input/painting-vs-photograph-classification-dataset/Raw Data/painting/1c30432fb7a42fcd908491e1fa419bb7b5a930a2.jpg\n"
     ]
    },
    {
     "name": "stderr",
     "output_type": "stream",
     "text": [
      " 38%|███▊      | 1042/2737 [06:25<13:01,  2.17it/s]"
     ]
    },
    {
     "name": "stdout",
     "output_type": "stream",
     "text": [
      "../input/painting-vs-photograph-classification-dataset/Raw Data/photos/a5313ea5b052edccdac5baa17a4c1c83d3bae1da.jpg\n"
     ]
    },
    {
     "name": "stderr",
     "output_type": "stream",
     "text": [
      " 38%|███▊      | 1043/2737 [06:26<11:55,  2.37it/s]"
     ]
    },
    {
     "name": "stdout",
     "output_type": "stream",
     "text": [
      "../input/painting-vs-photograph-classification-dataset/Raw Data/photos/ce737306aee35a238805a8749852ac04712c283e.jpg\n"
     ]
    },
    {
     "name": "stderr",
     "output_type": "stream",
     "text": [
      " 38%|███▊      | 1044/2737 [06:32<1:03:12,  2.24s/it]"
     ]
    },
    {
     "name": "stdout",
     "output_type": "stream",
     "text": [
      "../input/painting-vs-photograph-classification-dataset/Raw Data/photos/d3f5cee38539846dd58d805c0a5b10db263d452b.jpg\n"
     ]
    },
    {
     "name": "stderr",
     "output_type": "stream",
     "text": [
      " 38%|███▊      | 1045/2737 [06:33<48:21,  1.71s/it]  "
     ]
    },
    {
     "name": "stdout",
     "output_type": "stream",
     "text": [
      "../input/painting-vs-photograph-classification-dataset/Raw Data/photos/15972bfb48d28d2035af4b1eff0da0f487c95809.jpg\n"
     ]
    },
    {
     "name": "stderr",
     "output_type": "stream",
     "text": [
      " 38%|███▊      | 1046/2737 [06:35<55:13,  1.96s/it]"
     ]
    },
    {
     "name": "stdout",
     "output_type": "stream",
     "text": [
      "../input/painting-vs-photograph-classification-dataset/Raw Data/photos/45feca78906579b19ee1ef90f9f4f938ae1d49fe.jpg\n"
     ]
    },
    {
     "name": "stderr",
     "output_type": "stream",
     "text": [
      " 38%|███▊      | 1047/2737 [06:36<44:55,  1.59s/it]"
     ]
    },
    {
     "name": "stdout",
     "output_type": "stream",
     "text": [
      "../input/painting-vs-photograph-classification-dataset/Raw Data/photos/f266a7753e85717374a17235cebeae3a918d2b8d.jpg\n"
     ]
    },
    {
     "name": "stderr",
     "output_type": "stream",
     "text": [
      " 38%|███▊      | 1048/2737 [06:36<34:01,  1.21s/it]"
     ]
    },
    {
     "name": "stdout",
     "output_type": "stream",
     "text": [
      "../input/painting-vs-photograph-classification-dataset/Raw Data/photos/f3cd82b989c6182627d3aba516c2ff26eb9256e9.jpg\n"
     ]
    },
    {
     "name": "stderr",
     "output_type": "stream",
     "text": [
      " 38%|███▊      | 1049/2737 [06:37<26:47,  1.05it/s]"
     ]
    },
    {
     "name": "stdout",
     "output_type": "stream",
     "text": [
      "../input/painting-vs-photograph-classification-dataset/Raw Data/photos/b95033d725995322d76c141839a61b5c9dda1938.jpg\n"
     ]
    },
    {
     "name": "stderr",
     "output_type": "stream",
     "text": [
      " 38%|███▊      | 1050/2737 [06:37<24:41,  1.14it/s]"
     ]
    },
    {
     "name": "stdout",
     "output_type": "stream",
     "text": [
      "../input/painting-vs-photograph-classification-dataset/Raw Data/photos/953b557dce5782f4895bc38a715390ec040b154a.jpg\n"
     ]
    },
    {
     "name": "stderr",
     "output_type": "stream",
     "text": [
      " 38%|███▊      | 1051/2737 [06:37<19:15,  1.46it/s]"
     ]
    },
    {
     "name": "stdout",
     "output_type": "stream",
     "text": [
      "../input/painting-vs-photograph-classification-dataset/Raw Data/painting/5e929d3809c4c141f0efea4965754240d392de5d.jpg\n"
     ]
    },
    {
     "name": "stderr",
     "output_type": "stream",
     "text": [
      " 38%|███▊      | 1052/2737 [06:38<18:49,  1.49it/s]"
     ]
    },
    {
     "name": "stdout",
     "output_type": "stream",
     "text": [
      "../input/painting-vs-photograph-classification-dataset/Raw Data/painting/e72abba9c84121528a3e9fdf68fcacfb77baed47.jpg\n"
     ]
    },
    {
     "name": "stderr",
     "output_type": "stream",
     "text": [
      " 38%|███▊      | 1053/2737 [06:39<23:41,  1.18it/s]"
     ]
    },
    {
     "name": "stdout",
     "output_type": "stream",
     "text": [
      "../input/painting-vs-photograph-classification-dataset/Raw Data/photos/c3575961ba2986b3640270ff629077535a3c5c57.jpg\n"
     ]
    },
    {
     "name": "stderr",
     "output_type": "stream",
     "text": [
      " 39%|███▊      | 1054/2737 [06:40<20:52,  1.34it/s]"
     ]
    },
    {
     "name": "stdout",
     "output_type": "stream",
     "text": [
      "../input/painting-vs-photograph-classification-dataset/Raw Data/photos/52781fad6fddea3ebdd021b50a89a46e5669431b.jpg\n"
     ]
    },
    {
     "name": "stderr",
     "output_type": "stream",
     "text": [
      " 39%|███▊      | 1055/2737 [06:41<20:36,  1.36it/s]"
     ]
    },
    {
     "name": "stdout",
     "output_type": "stream",
     "text": [
      "../input/painting-vs-photograph-classification-dataset/Raw Data/photos/21124c4e68d15102f413122b585248bf27a7b5a0.jpg\n"
     ]
    },
    {
     "name": "stderr",
     "output_type": "stream",
     "text": [
      " 39%|███▊      | 1056/2737 [06:41<22:02,  1.27it/s]"
     ]
    },
    {
     "name": "stdout",
     "output_type": "stream",
     "text": [
      "../input/painting-vs-photograph-classification-dataset/Raw Data/painting/f68892c770329f5b06b93b8b035dbbc130629a71.jpg\n"
     ]
    },
    {
     "name": "stderr",
     "output_type": "stream",
     "text": [
      " 39%|███▊      | 1057/2737 [06:43<28:13,  1.01s/it]"
     ]
    },
    {
     "name": "stdout",
     "output_type": "stream",
     "text": [
      "../input/painting-vs-photograph-classification-dataset/Raw Data/photos/f649fd367e1616cecba2cfd1f7b88115e3204aff.jpg\n"
     ]
    },
    {
     "name": "stderr",
     "output_type": "stream",
     "text": [
      " 39%|███▊      | 1058/2737 [06:47<50:45,  1.81s/it]"
     ]
    },
    {
     "name": "stdout",
     "output_type": "stream",
     "text": [
      "../input/painting-vs-photograph-classification-dataset/Raw Data/painting/fadfd4fa98d4f2df0fa80496f3b34fc91c23e620.jpg\n"
     ]
    },
    {
     "name": "stderr",
     "output_type": "stream",
     "text": [
      " 39%|███▊      | 1059/2737 [06:48<44:30,  1.59s/it]"
     ]
    },
    {
     "name": "stdout",
     "output_type": "stream",
     "text": [
      "../input/painting-vs-photograph-classification-dataset/Raw Data/photos/7a655a9f43972e0d79e1dd5dbb2c27873eab430a.jpg\n"
     ]
    },
    {
     "name": "stderr",
     "output_type": "stream",
     "text": [
      " 39%|███▊      | 1060/2737 [06:50<48:39,  1.74s/it]"
     ]
    },
    {
     "name": "stdout",
     "output_type": "stream",
     "text": [
      "../input/painting-vs-photograph-classification-dataset/Raw Data/painting/eb800808d3bf08b07e544a10050f665e4157afe4.jpg\n"
     ]
    },
    {
     "name": "stderr",
     "output_type": "stream",
     "text": [
      " 39%|███▉      | 1061/2737 [06:51<40:35,  1.45s/it]"
     ]
    },
    {
     "name": "stdout",
     "output_type": "stream",
     "text": [
      "../input/painting-vs-photograph-classification-dataset/Raw Data/photos/8812745f6bac67097774629d2582becb9ddad742.jpg\n"
     ]
    },
    {
     "name": "stderr",
     "output_type": "stream",
     "text": [
      " 39%|███▉      | 1062/2737 [06:53<45:09,  1.62s/it]"
     ]
    },
    {
     "name": "stdout",
     "output_type": "stream",
     "text": [
      "../input/painting-vs-photograph-classification-dataset/Raw Data/photos/221d3ef6085b03d68decd0de270acf6ce40abadf.jpg\n"
     ]
    },
    {
     "name": "stderr",
     "output_type": "stream",
     "text": [
      " 39%|███▉      | 1063/2737 [06:53<34:20,  1.23s/it]"
     ]
    },
    {
     "name": "stdout",
     "output_type": "stream",
     "text": [
      "../input/painting-vs-photograph-classification-dataset/Raw Data/painting/f308b386f640becf78102cc210789eb6ad25f4ed.jpg\n"
     ]
    },
    {
     "name": "stderr",
     "output_type": "stream",
     "text": [
      " 39%|███▉      | 1064/2737 [06:54<30:07,  1.08s/it]"
     ]
    },
    {
     "name": "stdout",
     "output_type": "stream",
     "text": [
      "../input/painting-vs-photograph-classification-dataset/Raw Data/photos/825295a9db533a088578d84fcef7254c69397052.jpg\n"
     ]
    },
    {
     "name": "stderr",
     "output_type": "stream",
     "text": [
      " 39%|███▉      | 1065/2737 [06:55<30:00,  1.08s/it]"
     ]
    },
    {
     "name": "stdout",
     "output_type": "stream",
     "text": [
      "../input/painting-vs-photograph-classification-dataset/Raw Data/painting/f6aa091b19c698dbe00376ef69d470dc5c6e221b.jpg\n"
     ]
    },
    {
     "name": "stderr",
     "output_type": "stream",
     "text": [
      " 39%|███▉      | 1066/2737 [06:55<26:31,  1.05it/s]"
     ]
    },
    {
     "name": "stdout",
     "output_type": "stream",
     "text": [
      "../input/painting-vs-photograph-classification-dataset/Raw Data/painting/f66c672d976500d854beddaf8ebbc9cfdf80c7dc.jpg\n"
     ]
    },
    {
     "name": "stderr",
     "output_type": "stream",
     "text": [
      " 39%|███▉      | 1067/2737 [06:56<26:55,  1.03it/s]"
     ]
    },
    {
     "name": "stdout",
     "output_type": "stream",
     "text": [
      "../input/painting-vs-photograph-classification-dataset/Raw Data/photos/b4a197c953f608eae2c02081b01f03e1788dbd96.jpg\n"
     ]
    },
    {
     "name": "stderr",
     "output_type": "stream",
     "text": [
      " 39%|███▉      | 1068/2737 [06:57<27:25,  1.01it/s]"
     ]
    },
    {
     "name": "stdout",
     "output_type": "stream",
     "text": [
      "../input/painting-vs-photograph-classification-dataset/Raw Data/painting/32c1ff15874670ee0dabd1d3ef2a4cbd881ad15f.jpg\n"
     ]
    },
    {
     "name": "stderr",
     "output_type": "stream",
     "text": [
      " 39%|███▉      | 1069/2737 [06:58<25:37,  1.08it/s]"
     ]
    },
    {
     "name": "stdout",
     "output_type": "stream",
     "text": [
      "../input/painting-vs-photograph-classification-dataset/Raw Data/painting/0de8fa3c0fd28dca18c89d1191061def8ab60c2f.jpg\n"
     ]
    },
    {
     "name": "stderr",
     "output_type": "stream",
     "text": [
      " 39%|███▉      | 1070/2737 [06:59<26:36,  1.04it/s]"
     ]
    },
    {
     "name": "stdout",
     "output_type": "stream",
     "text": [
      "../input/painting-vs-photograph-classification-dataset/Raw Data/photos/d69c59fd6bead8a8c133ef225313904e59f296c5.jpg\n"
     ]
    },
    {
     "name": "stderr",
     "output_type": "stream",
     "text": [
      " 39%|███▉      | 1071/2737 [06:59<20:33,  1.35it/s]"
     ]
    },
    {
     "name": "stdout",
     "output_type": "stream",
     "text": [
      "../input/painting-vs-photograph-classification-dataset/Raw Data/photos/d3dbbca3f304b71fb95f921f92451b43be1ba1c8.jpg\n"
     ]
    },
    {
     "name": "stderr",
     "output_type": "stream",
     "text": [
      " 39%|███▉      | 1072/2737 [07:00<16:17,  1.70it/s]"
     ]
    },
    {
     "name": "stdout",
     "output_type": "stream",
     "text": [
      "../input/painting-vs-photograph-classification-dataset/Raw Data/photos/d80e9d425d31c23dfcdc1cc0bf6d1f1828e15ccf.jpg\n"
     ]
    },
    {
     "name": "stderr",
     "output_type": "stream",
     "text": [
      " 39%|███▉      | 1074/2737 [07:00<11:06,  2.49it/s]"
     ]
    },
    {
     "name": "stdout",
     "output_type": "stream",
     "text": [
      "../input/painting-vs-photograph-classification-dataset/Raw Data/photos/52bfba44be5388b050d3b10b1fdce928778834db.jpg\n",
      "../input/painting-vs-photograph-classification-dataset/Raw Data/photos/d919a52168cebde284a726cf40c398deb9623a63.jpg\n"
     ]
    },
    {
     "name": "stderr",
     "output_type": "stream",
     "text": [
      " 39%|███▉      | 1076/2737 [07:01<07:58,  3.47it/s]"
     ]
    },
    {
     "name": "stdout",
     "output_type": "stream",
     "text": [
      "../input/painting-vs-photograph-classification-dataset/Raw Data/photos/cb8ae58a4aabb1036893dc449c6f82cb6924e15c.jpg\n",
      "../input/painting-vs-photograph-classification-dataset/Raw Data/photos/15600489361da81c32b363fa86c1d3027952fe6f.jpg\n"
     ]
    },
    {
     "name": "stderr",
     "output_type": "stream",
     "text": [
      " 39%|███▉      | 1077/2737 [07:01<07:25,  3.73it/s]"
     ]
    },
    {
     "name": "stdout",
     "output_type": "stream",
     "text": [
      "../input/painting-vs-photograph-classification-dataset/Raw Data/photos/a835ebecd49a4655dae3c14f7b27c3e88e77e9b6.jpg\n"
     ]
    },
    {
     "name": "stderr",
     "output_type": "stream",
     "text": [
      " 39%|███▉      | 1078/2737 [07:01<06:54,  4.01it/s]"
     ]
    },
    {
     "name": "stdout",
     "output_type": "stream",
     "text": [
      "../input/painting-vs-photograph-classification-dataset/Raw Data/photos/154574fccdc7448b42635e22d2fa4aa289144752.jpg\n"
     ]
    },
    {
     "name": "stderr",
     "output_type": "stream",
     "text": [
      " 39%|███▉      | 1079/2737 [07:01<06:44,  4.10it/s]"
     ]
    },
    {
     "name": "stdout",
     "output_type": "stream",
     "text": [
      "../input/painting-vs-photograph-classification-dataset/Raw Data/photos/87cc723c7e2bb18eaf6d3abc2f7e9ca3c04a1dd8.jpg\n"
     ]
    },
    {
     "name": "stderr",
     "output_type": "stream",
     "text": [
      " 39%|███▉      | 1080/2737 [07:01<06:33,  4.21it/s]"
     ]
    },
    {
     "name": "stdout",
     "output_type": "stream",
     "text": [
      "../input/painting-vs-photograph-classification-dataset/Raw Data/painting/e6032d61f22ff0a9c872b851ebe1cfda0d07e698.jpg\n"
     ]
    },
    {
     "name": "stderr",
     "output_type": "stream",
     "text": [
      " 39%|███▉      | 1081/2737 [07:02<10:59,  2.51it/s]"
     ]
    },
    {
     "name": "stdout",
     "output_type": "stream",
     "text": [
      "../input/painting-vs-photograph-classification-dataset/Raw Data/painting/4b7bbf914c9ade514516290fd73a42e7d18366ec.jpg\n"
     ]
    },
    {
     "name": "stderr",
     "output_type": "stream",
     "text": [
      " 40%|███▉      | 1082/2737 [07:03<13:59,  1.97it/s]"
     ]
    },
    {
     "name": "stdout",
     "output_type": "stream",
     "text": [
      "../input/painting-vs-photograph-classification-dataset/Raw Data/photos/f2fa869b2443204895679962ab53874cb197e8a6.jpg\n"
     ]
    },
    {
     "name": "stderr",
     "output_type": "stream",
     "text": [
      " 40%|███▉      | 1083/2737 [07:03<11:42,  2.35it/s]"
     ]
    },
    {
     "name": "stdout",
     "output_type": "stream",
     "text": [
      "../input/painting-vs-photograph-classification-dataset/Raw Data/photos/93bbe58494349c6c43a7f179b5cf5531ae9265b6.jpg\n"
     ]
    },
    {
     "name": "stderr",
     "output_type": "stream",
     "text": [
      " 40%|███▉      | 1084/2737 [07:04<11:06,  2.48it/s]"
     ]
    },
    {
     "name": "stdout",
     "output_type": "stream",
     "text": [
      "../input/painting-vs-photograph-classification-dataset/Raw Data/painting/0afa965aedc45596b2366d1b0686b5e9978a02a6.jpg\n"
     ]
    },
    {
     "name": "stderr",
     "output_type": "stream",
     "text": [
      " 40%|███▉      | 1085/2737 [07:04<13:39,  2.02it/s]"
     ]
    },
    {
     "name": "stdout",
     "output_type": "stream",
     "text": [
      "../input/painting-vs-photograph-classification-dataset/Raw Data/painting/f0354410b2ce7b048722576036d4812d07ba0bb0.jpg\n"
     ]
    },
    {
     "name": "stderr",
     "output_type": "stream",
     "text": [
      " 40%|███▉      | 1087/2737 [07:05<11:21,  2.42it/s]"
     ]
    },
    {
     "name": "stdout",
     "output_type": "stream",
     "text": [
      "../input/painting-vs-photograph-classification-dataset/Raw Data/photos/438380fd462e94d730cf12ee5137c1c9894fa2cd.jpg\n",
      "../input/painting-vs-photograph-classification-dataset/Raw Data/painting/4f87c405961586253bd39cd0824258c509bb7297.jpg\n"
     ]
    },
    {
     "name": "stderr",
     "output_type": "stream",
     "text": [
      " 40%|███▉      | 1089/2737 [07:06<11:59,  2.29it/s]"
     ]
    },
    {
     "name": "stdout",
     "output_type": "stream",
     "text": [
      "../input/painting-vs-photograph-classification-dataset/Raw Data/photos/451cfb68a5f5e09180305fe36c25f92b135cd287.jpg\n",
      "../input/painting-vs-photograph-classification-dataset/Raw Data/photos/7aa5045b849f87be50af8b6e8ea5b7d32d4a2a7d.jpg\n"
     ]
    },
    {
     "name": "stderr",
     "output_type": "stream",
     "text": [
      " 40%|███▉      | 1090/2737 [07:06<09:46,  2.81it/s]"
     ]
    },
    {
     "name": "stdout",
     "output_type": "stream",
     "text": [
      "../input/painting-vs-photograph-classification-dataset/Raw Data/photos/30603a3843f1a0767a70d5b994747805638c7037.jpg\n"
     ]
    },
    {
     "name": "stderr",
     "output_type": "stream",
     "text": [
      " 40%|███▉      | 1091/2737 [07:06<08:40,  3.17it/s]"
     ]
    },
    {
     "name": "stdout",
     "output_type": "stream",
     "text": [
      "../input/painting-vs-photograph-classification-dataset/Raw Data/photos/4616f93cb17aed005ff98fdb4ed47a4272033dad.jpg\n"
     ]
    },
    {
     "name": "stderr",
     "output_type": "stream",
     "text": [
      " 40%|███▉      | 1092/2737 [07:07<07:56,  3.45it/s]"
     ]
    },
    {
     "name": "stdout",
     "output_type": "stream",
     "text": [
      "../input/painting-vs-photograph-classification-dataset/Raw Data/photos/f700aa55d567cc554cdd743befffc3515f94d269.jpg\n"
     ]
    },
    {
     "name": "stderr",
     "output_type": "stream",
     "text": [
      " 40%|███▉      | 1093/2737 [07:07<07:24,  3.70it/s]"
     ]
    },
    {
     "name": "stdout",
     "output_type": "stream",
     "text": [
      "../input/painting-vs-photograph-classification-dataset/Raw Data/painting/2c7a4a490206a1ab5c776d942133cda4d7847bb6.jpg\n"
     ]
    },
    {
     "name": "stderr",
     "output_type": "stream",
     "text": [
      " 40%|███▉      | 1094/2737 [07:08<11:22,  2.41it/s]"
     ]
    },
    {
     "name": "stdout",
     "output_type": "stream",
     "text": [
      "../input/painting-vs-photograph-classification-dataset/Raw Data/photos/152be5f730b43595b8d1498d46474378cf8e6973.jpg\n"
     ]
    },
    {
     "name": "stderr",
     "output_type": "stream",
     "text": [
      " 40%|████      | 1095/2737 [07:08<10:10,  2.69it/s]"
     ]
    },
    {
     "name": "stdout",
     "output_type": "stream",
     "text": [
      "../input/painting-vs-photograph-classification-dataset/Raw Data/photos/b0f17b7bb572e0b838fe0c7e2184ef86e1269485.jpg\n"
     ]
    },
    {
     "name": "stderr",
     "output_type": "stream",
     "text": [
      " 40%|████      | 1097/2737 [07:08<07:42,  3.55it/s]"
     ]
    },
    {
     "name": "stdout",
     "output_type": "stream",
     "text": [
      "../input/painting-vs-photograph-classification-dataset/Raw Data/photos/402677d4e773dabe71d49e2af03a986acbb0e8f2.jpg\n",
      "../input/painting-vs-photograph-classification-dataset/Raw Data/photos/4610466b69f7476047de03eccc1165ed8a5d3f39.jpg\n"
     ]
    },
    {
     "name": "stderr",
     "output_type": "stream",
     "text": [
      " 40%|████      | 1098/2737 [07:09<07:05,  3.85it/s]"
     ]
    },
    {
     "name": "stdout",
     "output_type": "stream",
     "text": [
      "../input/painting-vs-photograph-classification-dataset/Raw Data/photos/a034acc90420fba0767cc7f95697ab7d62439331.jpg\n"
     ]
    },
    {
     "name": "stderr",
     "output_type": "stream",
     "text": [
      " 40%|████      | 1100/2737 [07:09<06:44,  4.04it/s]"
     ]
    },
    {
     "name": "stdout",
     "output_type": "stream",
     "text": [
      "../input/painting-vs-photograph-classification-dataset/Raw Data/photos/e6d0c8cfcea3d4db17bf8d428bba67f14c839df9.jpg\n",
      "../input/painting-vs-photograph-classification-dataset/Raw Data/photos/014220385a706e564ae9767e4f272f4e5d385abb.jpg\n"
     ]
    },
    {
     "name": "stderr",
     "output_type": "stream",
     "text": [
      " 40%|████      | 1101/2737 [07:09<06:43,  4.06it/s]"
     ]
    },
    {
     "name": "stdout",
     "output_type": "stream",
     "text": [
      "../input/painting-vs-photograph-classification-dataset/Raw Data/painting/db984e4c1e7d63aa712027f94caf732e1de09fb3.jpg\n"
     ]
    },
    {
     "name": "stderr",
     "output_type": "stream",
     "text": [
      " 40%|████      | 1102/2737 [07:10<11:15,  2.42it/s]"
     ]
    },
    {
     "name": "stdout",
     "output_type": "stream",
     "text": [
      "../input/painting-vs-photograph-classification-dataset/Raw Data/painting/eb1bf2edf1492f87781a12ce980b98d5dd6e8a2c.jpg\n"
     ]
    },
    {
     "name": "stderr",
     "output_type": "stream",
     "text": [
      " 40%|████      | 1103/2737 [07:11<14:44,  1.85it/s]"
     ]
    },
    {
     "name": "stdout",
     "output_type": "stream",
     "text": [
      "../input/painting-vs-photograph-classification-dataset/Raw Data/photos/41735552931c0b48ddf0c8b0c8f44b13272f4026.jpg\n"
     ]
    },
    {
     "name": "stderr",
     "output_type": "stream",
     "text": [
      " 40%|████      | 1104/2737 [07:11<12:19,  2.21it/s]"
     ]
    },
    {
     "name": "stdout",
     "output_type": "stream",
     "text": [
      "../input/painting-vs-photograph-classification-dataset/Raw Data/photos/47c3d4c2d4779d8e6ea23b21c0dd6d27867bbba1.jpg\n"
     ]
    },
    {
     "name": "stderr",
     "output_type": "stream",
     "text": [
      " 40%|████      | 1105/2737 [07:11<10:33,  2.58it/s]"
     ]
    },
    {
     "name": "stdout",
     "output_type": "stream",
     "text": [
      "../input/painting-vs-photograph-classification-dataset/Raw Data/photos/f95135f3077da26040f44055d393ce9f1f99584a.jpg\n"
     ]
    },
    {
     "name": "stderr",
     "output_type": "stream",
     "text": [
      " 40%|████      | 1106/2737 [07:12<09:17,  2.92it/s]"
     ]
    },
    {
     "name": "stdout",
     "output_type": "stream",
     "text": [
      "../input/painting-vs-photograph-classification-dataset/Raw Data/photos/f1bd680f1e407b66b3c7d7757707cbd397408449.jpg\n"
     ]
    },
    {
     "name": "stderr",
     "output_type": "stream",
     "text": [
      " 40%|████      | 1107/2737 [07:12<08:40,  3.13it/s]"
     ]
    },
    {
     "name": "stdout",
     "output_type": "stream",
     "text": [
      "../input/painting-vs-photograph-classification-dataset/Raw Data/photos/890b02551a2dec50471374e61ddcfc0f22ccc326.jpg\n"
     ]
    },
    {
     "name": "stderr",
     "output_type": "stream",
     "text": [
      " 40%|████      | 1108/2737 [07:12<07:58,  3.40it/s]"
     ]
    },
    {
     "name": "stdout",
     "output_type": "stream",
     "text": [
      "../input/painting-vs-photograph-classification-dataset/Raw Data/painting/e2882338faada7156ffd252cc0cd48d5abcf7c95.jpg\n"
     ]
    },
    {
     "name": "stderr",
     "output_type": "stream",
     "text": [
      " 41%|████      | 1109/2737 [07:13<13:57,  1.94it/s]"
     ]
    },
    {
     "name": "stdout",
     "output_type": "stream",
     "text": [
      "../input/painting-vs-photograph-classification-dataset/Raw Data/photos/d78fd3b57053a4097045c3996631ed997cfa80fd.jpg\n"
     ]
    },
    {
     "name": "stderr",
     "output_type": "stream",
     "text": [
      " 41%|████      | 1110/2737 [07:13<12:20,  2.20it/s]"
     ]
    },
    {
     "name": "stdout",
     "output_type": "stream",
     "text": [
      "../input/painting-vs-photograph-classification-dataset/Raw Data/painting/7acac0025f0619381a33e0db257f14e1abdb4072.jpg\n"
     ]
    },
    {
     "name": "stderr",
     "output_type": "stream",
     "text": [
      " 41%|████      | 1111/2737 [07:14<14:57,  1.81it/s]"
     ]
    },
    {
     "name": "stdout",
     "output_type": "stream",
     "text": [
      "../input/painting-vs-photograph-classification-dataset/Raw Data/photos/a025b7f8eb7c79583b9e52551890af71e165b4ff.jpg\n"
     ]
    },
    {
     "name": "stderr",
     "output_type": "stream",
     "text": [
      " 41%|████      | 1112/2737 [07:15<12:31,  2.16it/s]"
     ]
    },
    {
     "name": "stdout",
     "output_type": "stream",
     "text": [
      "../input/painting-vs-photograph-classification-dataset/Raw Data/photos/82366ece100c949a0c9585670b903edc221da232.jpg\n"
     ]
    },
    {
     "name": "stderr",
     "output_type": "stream",
     "text": [
      " 41%|████      | 1113/2737 [07:15<11:00,  2.46it/s]"
     ]
    },
    {
     "name": "stdout",
     "output_type": "stream",
     "text": [
      "../input/painting-vs-photograph-classification-dataset/Raw Data/painting/f3cb39933fcdb450609be55bc0783f09edc9f719.jpg\n"
     ]
    },
    {
     "name": "stderr",
     "output_type": "stream",
     "text": [
      " 41%|████      | 1114/2737 [07:16<14:20,  1.89it/s]"
     ]
    },
    {
     "name": "stdout",
     "output_type": "stream",
     "text": [
      "../input/painting-vs-photograph-classification-dataset/Raw Data/photos/a1909c722b049300f968646798ad442834b77fc8.jpg\n"
     ]
    },
    {
     "name": "stderr",
     "output_type": "stream",
     "text": [
      " 41%|████      | 1115/2737 [07:16<11:42,  2.31it/s]"
     ]
    },
    {
     "name": "stdout",
     "output_type": "stream",
     "text": [
      "../input/painting-vs-photograph-classification-dataset/Raw Data/photos/dbc5722674ec6025fa386e3fb02fedabd3ff5240.jpg\n"
     ]
    },
    {
     "name": "stderr",
     "output_type": "stream",
     "text": [
      " 41%|████      | 1116/2737 [07:16<11:07,  2.43it/s]"
     ]
    },
    {
     "name": "stdout",
     "output_type": "stream",
     "text": [
      "../input/painting-vs-photograph-classification-dataset/Raw Data/photos/efefb19cf139928682acb31172ade9e8c0e436f3.jpg\n"
     ]
    },
    {
     "name": "stderr",
     "output_type": "stream",
     "text": [
      " 41%|████      | 1117/2737 [07:16<09:58,  2.71it/s]"
     ]
    },
    {
     "name": "stdout",
     "output_type": "stream",
     "text": [
      "../input/painting-vs-photograph-classification-dataset/Raw Data/photos/4a0a51564de801484e38a9c3abcfffc249228e32.jpg\n"
     ]
    },
    {
     "name": "stderr",
     "output_type": "stream",
     "text": [
      " 41%|████      | 1118/2737 [07:17<09:34,  2.82it/s]"
     ]
    },
    {
     "name": "stdout",
     "output_type": "stream",
     "text": [
      "../input/painting-vs-photograph-classification-dataset/Raw Data/photos/dfad8dd84be9d0d10463d5e73a303d7c50be8dc5.jpg\n"
     ]
    },
    {
     "name": "stderr",
     "output_type": "stream",
     "text": [
      " 41%|████      | 1119/2737 [07:17<08:30,  3.17it/s]"
     ]
    },
    {
     "name": "stdout",
     "output_type": "stream",
     "text": [
      "../input/painting-vs-photograph-classification-dataset/Raw Data/photos/83d8d458d6c6b76d8cd8bbfef7430c45c37cbc8d.jpg\n"
     ]
    },
    {
     "name": "stderr",
     "output_type": "stream",
     "text": [
      " 41%|████      | 1120/2737 [07:17<07:48,  3.45it/s]"
     ]
    },
    {
     "name": "stdout",
     "output_type": "stream",
     "text": [
      "../input/painting-vs-photograph-classification-dataset/Raw Data/photos/d33badb34d81ae36ecedf2af63edc584663d14e5.jpg\n"
     ]
    },
    {
     "name": "stderr",
     "output_type": "stream",
     "text": [
      " 41%|████      | 1121/2737 [07:17<07:22,  3.65it/s]"
     ]
    },
    {
     "name": "stdout",
     "output_type": "stream",
     "text": [
      "../input/painting-vs-photograph-classification-dataset/Raw Data/painting/7dcec9ac6b2520a49909cc8601b920d5bf4eb384.jpg\n"
     ]
    },
    {
     "name": "stderr",
     "output_type": "stream",
     "text": [
      " 41%|████      | 1122/2737 [07:18<10:37,  2.53it/s]"
     ]
    },
    {
     "name": "stdout",
     "output_type": "stream",
     "text": [
      "../input/painting-vs-photograph-classification-dataset/Raw Data/photos/c76308cac58b89a60761dfe9438f9de67b0e52ed.jpg\n"
     ]
    },
    {
     "name": "stderr",
     "output_type": "stream",
     "text": [
      " 41%|████      | 1123/2737 [07:18<09:35,  2.80it/s]"
     ]
    },
    {
     "name": "stdout",
     "output_type": "stream",
     "text": [
      "../input/painting-vs-photograph-classification-dataset/Raw Data/photos/ab103a01071cf53096cc214fe2a2e82d501f4c45.jpg\n"
     ]
    },
    {
     "name": "stderr",
     "output_type": "stream",
     "text": [
      " 41%|████      | 1124/2737 [07:19<08:33,  3.14it/s]"
     ]
    },
    {
     "name": "stdout",
     "output_type": "stream",
     "text": [
      "../input/painting-vs-photograph-classification-dataset/Raw Data/photos/bc579ab98f279fc32b09fb57d3218bc4f4b3f054.jpg\n"
     ]
    },
    {
     "name": "stderr",
     "output_type": "stream",
     "text": [
      " 41%|████      | 1125/2737 [07:19<07:56,  3.38it/s]"
     ]
    },
    {
     "name": "stdout",
     "output_type": "stream",
     "text": [
      "../input/painting-vs-photograph-classification-dataset/Raw Data/painting/2dbe1585bbe0fef5bc22ac38ec28394191bc4688.jpg\n"
     ]
    },
    {
     "name": "stderr",
     "output_type": "stream",
     "text": [
      " 41%|████      | 1127/2737 [07:20<11:24,  2.35it/s]"
     ]
    },
    {
     "name": "stdout",
     "output_type": "stream",
     "text": [
      "../input/painting-vs-photograph-classification-dataset/Raw Data/photos/e2ca56dc075e3c1e4645cc4df715277d8339bef9.jpg\n",
      "../input/painting-vs-photograph-classification-dataset/Raw Data/photos/70064f66973e6fcfdf9a7de0f23949951d65f108.jpg\n"
     ]
    },
    {
     "name": "stderr",
     "output_type": "stream",
     "text": [
      " 41%|████      | 1128/2737 [07:20<09:35,  2.80it/s]"
     ]
    },
    {
     "name": "stdout",
     "output_type": "stream",
     "text": [
      "../input/painting-vs-photograph-classification-dataset/Raw Data/painting/f44a93e3dd74bc5b334a5f6bb8f6ed412eb7ca57.jpg\n"
     ]
    },
    {
     "name": "stderr",
     "output_type": "stream",
     "text": [
      " 41%|████      | 1129/2737 [07:21<12:11,  2.20it/s]"
     ]
    },
    {
     "name": "stdout",
     "output_type": "stream",
     "text": [
      "../input/painting-vs-photograph-classification-dataset/Raw Data/photos/b5c992e3d3739a59f221709c6e8d22d406043a72.jpg\n"
     ]
    },
    {
     "name": "stderr",
     "output_type": "stream",
     "text": [
      " 41%|████▏     | 1130/2737 [07:21<10:29,  2.55it/s]"
     ]
    },
    {
     "name": "stdout",
     "output_type": "stream",
     "text": [
      "../input/painting-vs-photograph-classification-dataset/Raw Data/painting/ee090aaf84b47a044ae01f3c5662176a410dcf48.jpg\n"
     ]
    },
    {
     "name": "stderr",
     "output_type": "stream",
     "text": [
      " 41%|████▏     | 1131/2737 [07:22<13:43,  1.95it/s]"
     ]
    },
    {
     "name": "stdout",
     "output_type": "stream",
     "text": [
      "../input/painting-vs-photograph-classification-dataset/Raw Data/photos/974eea724f51af60478c6e819507a43e5e794979.jpg\n"
     ]
    },
    {
     "name": "stderr",
     "output_type": "stream",
     "text": [
      " 41%|████▏     | 1132/2737 [07:22<11:42,  2.29it/s]"
     ]
    },
    {
     "name": "stdout",
     "output_type": "stream",
     "text": [
      "../input/painting-vs-photograph-classification-dataset/Raw Data/photos/1659606e69b8780b6fe7bbfc3aa9e32a4b45fa9a.jpg\n"
     ]
    },
    {
     "name": "stderr",
     "output_type": "stream",
     "text": [
      " 41%|████▏     | 1133/2737 [07:23<10:01,  2.66it/s]"
     ]
    },
    {
     "name": "stdout",
     "output_type": "stream",
     "text": [
      "../input/painting-vs-photograph-classification-dataset/Raw Data/photos/18e8335e8b3ae21ef944ffeb97c170b84ae90050.jpg\n"
     ]
    },
    {
     "name": "stderr",
     "output_type": "stream",
     "text": [
      " 41%|████▏     | 1134/2737 [07:23<08:52,  3.01it/s]"
     ]
    },
    {
     "name": "stdout",
     "output_type": "stream",
     "text": [
      "../input/painting-vs-photograph-classification-dataset/Raw Data/photos/fdaffda37646a7322b73eb6bd4dc12effd850998.jpg\n"
     ]
    },
    {
     "name": "stderr",
     "output_type": "stream",
     "text": [
      " 41%|████▏     | 1135/2737 [07:23<08:10,  3.26it/s]"
     ]
    },
    {
     "name": "stdout",
     "output_type": "stream",
     "text": [
      "../input/painting-vs-photograph-classification-dataset/Raw Data/photos/77193ca79d83f8f3b2c25cad5477c0fb10001f61.jpg\n"
     ]
    },
    {
     "name": "stderr",
     "output_type": "stream",
     "text": [
      " 42%|████▏     | 1136/2737 [07:23<07:41,  3.47it/s]"
     ]
    },
    {
     "name": "stdout",
     "output_type": "stream",
     "text": [
      "../input/painting-vs-photograph-classification-dataset/Raw Data/photos/b08bbed62a0fd296f27a4c520c04630068e86852.jpg\n"
     ]
    },
    {
     "name": "stderr",
     "output_type": "stream",
     "text": [
      " 42%|████▏     | 1137/2737 [07:24<07:17,  3.65it/s]"
     ]
    },
    {
     "name": "stdout",
     "output_type": "stream",
     "text": [
      "../input/painting-vs-photograph-classification-dataset/Raw Data/painting/ea327d7495952426f7b1f3b880cf4a0518cbe8f1.jpg\n"
     ]
    },
    {
     "name": "stderr",
     "output_type": "stream",
     "text": [
      " 42%|████▏     | 1138/2737 [07:24<11:39,  2.29it/s]"
     ]
    },
    {
     "name": "stdout",
     "output_type": "stream",
     "text": [
      "../input/painting-vs-photograph-classification-dataset/Raw Data/painting/9dbc9a05d3edee0415cd0471a7c18030d73d60df.jpg\n"
     ]
    },
    {
     "name": "stderr",
     "output_type": "stream",
     "text": [
      " 42%|████▏     | 1140/2737 [07:26<12:48,  2.08it/s]"
     ]
    },
    {
     "name": "stdout",
     "output_type": "stream",
     "text": [
      "../input/painting-vs-photograph-classification-dataset/Raw Data/photos/9856160026fc74a6510be004adc395ad7490aa57.jpg\n",
      "../input/painting-vs-photograph-classification-dataset/Raw Data/photos/adbe7da241633bb40dc876ce9d095f73d8d95d7b.jpg\n"
     ]
    },
    {
     "name": "stderr",
     "output_type": "stream",
     "text": [
      " 42%|████▏     | 1141/2737 [07:26<10:46,  2.47it/s]"
     ]
    },
    {
     "name": "stdout",
     "output_type": "stream",
     "text": [
      "../input/painting-vs-photograph-classification-dataset/Raw Data/photos/949d94e1661d1cbe75b18c97354d3ca017289b73.jpg\n"
     ]
    },
    {
     "name": "stderr",
     "output_type": "stream",
     "text": [
      " 42%|████▏     | 1142/2737 [07:26<09:39,  2.75it/s]"
     ]
    },
    {
     "name": "stdout",
     "output_type": "stream",
     "text": [
      "../input/painting-vs-photograph-classification-dataset/Raw Data/painting/32dc62cf6933431bb08ff570ccb9e3dff2633d56.jpg\n"
     ]
    },
    {
     "name": "stderr",
     "output_type": "stream",
     "text": [
      " 42%|████▏     | 1143/2737 [07:27<14:07,  1.88it/s]"
     ]
    },
    {
     "name": "stdout",
     "output_type": "stream",
     "text": [
      "../input/painting-vs-photograph-classification-dataset/Raw Data/photos/d03e4a2a5df82fc78f75f4fbcd6d36467d85e2a9.jpg\n"
     ]
    },
    {
     "name": "stderr",
     "output_type": "stream",
     "text": [
      " 42%|████▏     | 1144/2737 [07:27<11:56,  2.22it/s]"
     ]
    },
    {
     "name": "stdout",
     "output_type": "stream",
     "text": [
      "../input/painting-vs-photograph-classification-dataset/Raw Data/photos/66294645628ed6b6124a0a7ff6d4d136d4cb3c76.jpg\n"
     ]
    },
    {
     "name": "stderr",
     "output_type": "stream",
     "text": [
      " 42%|████▏     | 1145/2737 [07:27<10:13,  2.60it/s]"
     ]
    },
    {
     "name": "stdout",
     "output_type": "stream",
     "text": [
      "../input/painting-vs-photograph-classification-dataset/Raw Data/photos/b4713caf1b549e7bb92bb3c268a8abcb03f2571a.jpg\n"
     ]
    },
    {
     "name": "stderr",
     "output_type": "stream",
     "text": [
      " 42%|████▏     | 1146/2737 [07:28<08:49,  3.00it/s]"
     ]
    },
    {
     "name": "stdout",
     "output_type": "stream",
     "text": [
      "../input/painting-vs-photograph-classification-dataset/Raw Data/painting/057cf81c79c392c4b1edd988078bcac84fe8b8b2.jpg\n"
     ]
    },
    {
     "name": "stderr",
     "output_type": "stream",
     "text": [
      " 42%|████▏     | 1147/2737 [07:28<09:49,  2.70it/s]"
     ]
    },
    {
     "name": "stdout",
     "output_type": "stream",
     "text": [
      "../input/painting-vs-photograph-classification-dataset/Raw Data/painting/a08bec66deb4e286608282235a9ab96a6d1702da.jpg\n"
     ]
    },
    {
     "name": "stderr",
     "output_type": "stream",
     "text": [
      " 42%|████▏     | 1148/2737 [07:29<10:51,  2.44it/s]"
     ]
    },
    {
     "name": "stdout",
     "output_type": "stream",
     "text": [
      "../input/painting-vs-photograph-classification-dataset/Raw Data/photos/fa8aba0ef46c8ac4ae3898f0d7a2d81e3bb7ee3c.jpg\n"
     ]
    },
    {
     "name": "stderr",
     "output_type": "stream",
     "text": [
      " 42%|████▏     | 1149/2737 [07:29<09:34,  2.76it/s]"
     ]
    },
    {
     "name": "stdout",
     "output_type": "stream",
     "text": [
      "../input/painting-vs-photograph-classification-dataset/Raw Data/photos/b9e7842d8debf65786f037b40cbc471daf603148.jpg\n"
     ]
    },
    {
     "name": "stderr",
     "output_type": "stream",
     "text": [
      " 42%|████▏     | 1151/2737 [07:29<07:26,  3.55it/s]"
     ]
    },
    {
     "name": "stdout",
     "output_type": "stream",
     "text": [
      "../input/painting-vs-photograph-classification-dataset/Raw Data/photos/828f2e65dc625c0f7d4a36b5d5481c3b14051554.jpg\n",
      "../input/painting-vs-photograph-classification-dataset/Raw Data/painting/d4ff23a9ba996211e870321aaacc944021186f98.jpg\n"
     ]
    },
    {
     "name": "stderr",
     "output_type": "stream",
     "text": [
      " 42%|████▏     | 1152/2737 [07:30<13:22,  1.98it/s]"
     ]
    },
    {
     "name": "stdout",
     "output_type": "stream",
     "text": [
      "../input/painting-vs-photograph-classification-dataset/Raw Data/painting/e6a463ed1adcd83433f26f3afe56171013eaeaaa.jpg\n"
     ]
    },
    {
     "name": "stderr",
     "output_type": "stream",
     "text": [
      " 42%|████▏     | 1153/2737 [07:31<17:29,  1.51it/s]"
     ]
    },
    {
     "name": "stdout",
     "output_type": "stream",
     "text": [
      "../input/painting-vs-photograph-classification-dataset/Raw Data/photos/e7fde936c37b6efdfb2d04f401b8c952132ce09b.jpg\n"
     ]
    },
    {
     "name": "stderr",
     "output_type": "stream",
     "text": [
      " 42%|████▏     | 1154/2737 [07:32<13:53,  1.90it/s]"
     ]
    },
    {
     "name": "stdout",
     "output_type": "stream",
     "text": [
      "../input/painting-vs-photograph-classification-dataset/Raw Data/photos/f1296f37a450bde5b376d9547820c54ebe93609c.jpg\n"
     ]
    },
    {
     "name": "stderr",
     "output_type": "stream",
     "text": [
      " 42%|████▏     | 1155/2737 [07:32<11:40,  2.26it/s]"
     ]
    },
    {
     "name": "stdout",
     "output_type": "stream",
     "text": [
      "../input/painting-vs-photograph-classification-dataset/Raw Data/photos/7118634bce86288c06ccdf1602f234aa384f1802.jpg\n"
     ]
    },
    {
     "name": "stderr",
     "output_type": "stream",
     "text": [
      " 42%|████▏     | 1156/2737 [07:32<10:04,  2.62it/s]"
     ]
    },
    {
     "name": "stdout",
     "output_type": "stream",
     "text": [
      "../input/painting-vs-photograph-classification-dataset/Raw Data/photos/5b1dae9d6e346a0ea25df07a96c95bb11c71fec9.jpg\n"
     ]
    },
    {
     "name": "stderr",
     "output_type": "stream",
     "text": [
      " 42%|████▏     | 1157/2737 [07:32<08:57,  2.94it/s]"
     ]
    },
    {
     "name": "stdout",
     "output_type": "stream",
     "text": [
      "../input/painting-vs-photograph-classification-dataset/Raw Data/painting/e607f89ecb8c5d2401a14155094b8592c98bb05a.jpg\n"
     ]
    },
    {
     "name": "stderr",
     "output_type": "stream",
     "text": [
      " 42%|████▏     | 1158/2737 [07:33<11:33,  2.28it/s]"
     ]
    },
    {
     "name": "stdout",
     "output_type": "stream",
     "text": [
      "../input/painting-vs-photograph-classification-dataset/Raw Data/photos/81738d91cdf542f4fa24934dda1798ba6024ab60.jpg\n"
     ]
    },
    {
     "name": "stderr",
     "output_type": "stream",
     "text": [
      " 42%|████▏     | 1159/2737 [07:33<10:04,  2.61it/s]"
     ]
    },
    {
     "name": "stdout",
     "output_type": "stream",
     "text": [
      "../input/painting-vs-photograph-classification-dataset/Raw Data/painting/426c978e388c0c399f7167493a076fa9d617afec.jpg\n"
     ]
    },
    {
     "name": "stderr",
     "output_type": "stream",
     "text": [
      " 42%|████▏     | 1160/2737 [07:34<13:22,  1.97it/s]"
     ]
    },
    {
     "name": "stdout",
     "output_type": "stream",
     "text": [
      "../input/painting-vs-photograph-classification-dataset/Raw Data/photos/f32d2c417ae49094b602a65158c075850ae44011.jpg\n"
     ]
    },
    {
     "name": "stderr",
     "output_type": "stream",
     "text": [
      " 42%|████▏     | 1161/2737 [07:34<11:17,  2.33it/s]"
     ]
    },
    {
     "name": "stdout",
     "output_type": "stream",
     "text": [
      "../input/painting-vs-photograph-classification-dataset/Raw Data/photos/c0e0a486854980287cfbaf9d33bb4506207de315.jpg\n"
     ]
    },
    {
     "name": "stderr",
     "output_type": "stream",
     "text": [
      " 42%|████▏     | 1162/2737 [07:35<10:40,  2.46it/s]"
     ]
    },
    {
     "name": "stdout",
     "output_type": "stream",
     "text": [
      "../input/painting-vs-photograph-classification-dataset/Raw Data/painting/3d7474fd08f3fa2790bb2be2e0dba978598fa4a9.jpg\n"
     ]
    },
    {
     "name": "stderr",
     "output_type": "stream",
     "text": [
      " 42%|████▏     | 1163/2737 [07:35<12:29,  2.10it/s]"
     ]
    },
    {
     "name": "stdout",
     "output_type": "stream",
     "text": [
      "../input/painting-vs-photograph-classification-dataset/Raw Data/painting/4c2ad0ca72d7bb9e050d50084f28f604a6d74647.jpg\n"
     ]
    },
    {
     "name": "stderr",
     "output_type": "stream",
     "text": [
      " 43%|████▎     | 1164/2737 [07:36<13:19,  1.97it/s]"
     ]
    },
    {
     "name": "stdout",
     "output_type": "stream",
     "text": [
      "../input/painting-vs-photograph-classification-dataset/Raw Data/photos/f3eb2f09c7bb5a460bc6768f4c5cdebce53683d2.jpg\n"
     ]
    },
    {
     "name": "stderr",
     "output_type": "stream",
     "text": [
      " 43%|████▎     | 1165/2737 [07:36<11:07,  2.36it/s]"
     ]
    },
    {
     "name": "stdout",
     "output_type": "stream",
     "text": [
      "../input/painting-vs-photograph-classification-dataset/Raw Data/photos/4e5f404bbbc7d5c9f204198631ddf163ec71a466.jpg\n"
     ]
    },
    {
     "name": "stderr",
     "output_type": "stream",
     "text": [
      " 43%|████▎     | 1166/2737 [07:36<09:39,  2.71it/s]"
     ]
    },
    {
     "name": "stdout",
     "output_type": "stream",
     "text": [
      "../input/painting-vs-photograph-classification-dataset/Raw Data/photos/49159790303bf96d177c58b3a0612cf240cd66c5.jpg\n"
     ]
    },
    {
     "name": "stderr",
     "output_type": "stream",
     "text": [
      " 43%|████▎     | 1167/2737 [07:37<08:33,  3.06it/s]"
     ]
    },
    {
     "name": "stdout",
     "output_type": "stream",
     "text": [
      "../input/painting-vs-photograph-classification-dataset/Raw Data/photos/972b1545ef84f02b1a05eeb2b949bbe45bae1884.jpg\n"
     ]
    },
    {
     "name": "stderr",
     "output_type": "stream",
     "text": [
      " 43%|████▎     | 1168/2737 [07:37<07:41,  3.40it/s]"
     ]
    },
    {
     "name": "stdout",
     "output_type": "stream",
     "text": [
      "../input/painting-vs-photograph-classification-dataset/Raw Data/photos/d28e923cd3d49d36124b9f81d8824bbd352f88bd.jpg\n"
     ]
    },
    {
     "name": "stderr",
     "output_type": "stream",
     "text": [
      " 43%|████▎     | 1169/2737 [07:37<07:11,  3.63it/s]"
     ]
    },
    {
     "name": "stdout",
     "output_type": "stream",
     "text": [
      "../input/painting-vs-photograph-classification-dataset/Raw Data/painting/d867b85886061405c6be1e9293f1388889abd48f.jpg\n"
     ]
    },
    {
     "name": "stderr",
     "output_type": "stream",
     "text": [
      " 43%|████▎     | 1170/2737 [07:38<11:05,  2.35it/s]"
     ]
    },
    {
     "name": "stdout",
     "output_type": "stream",
     "text": [
      "../input/painting-vs-photograph-classification-dataset/Raw Data/photos/d08f99a23d68eb0d91b33ec30d412a6bf51ca97a.jpg\n"
     ]
    },
    {
     "name": "stderr",
     "output_type": "stream",
     "text": [
      " 43%|████▎     | 1171/2737 [07:38<09:58,  2.62it/s]"
     ]
    },
    {
     "name": "stdout",
     "output_type": "stream",
     "text": [
      "../input/painting-vs-photograph-classification-dataset/Raw Data/photos/082b146e0fc3d60b4ec887fc3435f2a21523e824.jpg\n"
     ]
    },
    {
     "name": "stderr",
     "output_type": "stream",
     "text": [
      " 43%|████▎     | 1172/2737 [07:38<08:52,  2.94it/s]"
     ]
    },
    {
     "name": "stdout",
     "output_type": "stream",
     "text": [
      "../input/painting-vs-photograph-classification-dataset/Raw Data/painting/c159d324433b52b2e3888520c13e789fa0c2eda8.jpg\n"
     ]
    },
    {
     "name": "stderr",
     "output_type": "stream",
     "text": [
      " 43%|████▎     | 1173/2737 [07:39<12:08,  2.15it/s]"
     ]
    },
    {
     "name": "stdout",
     "output_type": "stream",
     "text": [
      "../input/painting-vs-photograph-classification-dataset/Raw Data/photos/7cdb6cd40f53f407e4eb37b2abd6a85940f7985e.jpg\n"
     ]
    },
    {
     "name": "stderr",
     "output_type": "stream",
     "text": [
      " 43%|████▎     | 1174/2737 [07:39<10:20,  2.52it/s]"
     ]
    },
    {
     "name": "stdout",
     "output_type": "stream",
     "text": [
      "../input/painting-vs-photograph-classification-dataset/Raw Data/photos/9094ab87420e10c4701fbe26888d454bfedab096.jpg\n"
     ]
    },
    {
     "name": "stderr",
     "output_type": "stream",
     "text": [
      " 43%|████▎     | 1175/2737 [07:40<09:32,  2.73it/s]"
     ]
    },
    {
     "name": "stdout",
     "output_type": "stream",
     "text": [
      "../input/painting-vs-photograph-classification-dataset/Raw Data/painting/07625f2b3b1812149e581f576125c4a4c57b2f9d.jpg\n"
     ]
    },
    {
     "name": "stderr",
     "output_type": "stream",
     "text": [
      " 43%|████▎     | 1176/2737 [07:40<11:47,  2.21it/s]"
     ]
    },
    {
     "name": "stdout",
     "output_type": "stream",
     "text": [
      "../input/painting-vs-photograph-classification-dataset/Raw Data/painting/f9bc05bfc5b0b05a8343d19d365368e1bedcf2b2.jpg\n"
     ]
    },
    {
     "name": "stderr",
     "output_type": "stream",
     "text": [
      " 43%|████▎     | 1177/2737 [07:41<13:31,  1.92it/s]"
     ]
    },
    {
     "name": "stdout",
     "output_type": "stream",
     "text": [
      "../input/painting-vs-photograph-classification-dataset/Raw Data/photos/51b73e28cbd5fa9c8dcbf5fa16479eb6e50c8622.jpg\n"
     ]
    },
    {
     "name": "stderr",
     "output_type": "stream",
     "text": [
      " 43%|████▎     | 1178/2737 [07:41<11:25,  2.27it/s]"
     ]
    },
    {
     "name": "stdout",
     "output_type": "stream",
     "text": [
      "../input/painting-vs-photograph-classification-dataset/Raw Data/photos/8694b234a16288d39f125c317316b6c03719a280.jpg\n"
     ]
    },
    {
     "name": "stderr",
     "output_type": "stream",
     "text": [
      " 43%|████▎     | 1179/2737 [07:41<10:08,  2.56it/s]"
     ]
    },
    {
     "name": "stdout",
     "output_type": "stream",
     "text": [
      "../input/painting-vs-photograph-classification-dataset/Raw Data/painting/b8d787337a4012cd288ac8d550a205df858689f5.jpg\n"
     ]
    },
    {
     "name": "stderr",
     "output_type": "stream",
     "text": [
      " 43%|████▎     | 1180/2737 [07:42<13:11,  1.97it/s]"
     ]
    },
    {
     "name": "stdout",
     "output_type": "stream",
     "text": [
      "../input/painting-vs-photograph-classification-dataset/Raw Data/painting/15f12d1a2a05d244a036dd212f633755a38cd52e.jpg\n"
     ]
    },
    {
     "name": "stderr",
     "output_type": "stream",
     "text": [
      " 43%|████▎     | 1181/2737 [07:43<15:17,  1.70it/s]"
     ]
    },
    {
     "name": "stdout",
     "output_type": "stream",
     "text": [
      "../input/painting-vs-photograph-classification-dataset/Raw Data/photos/27873ea95043fa5edb20416e959740f499d8ceef.jpg\n"
     ]
    },
    {
     "name": "stderr",
     "output_type": "stream",
     "text": [
      " 43%|████▎     | 1182/2737 [07:43<12:30,  2.07it/s]"
     ]
    },
    {
     "name": "stdout",
     "output_type": "stream",
     "text": [
      "../input/painting-vs-photograph-classification-dataset/Raw Data/photos/f57a8d1a8c16687e19228d8d9abf00178b7e67e7.jpg\n"
     ]
    },
    {
     "name": "stderr",
     "output_type": "stream",
     "text": [
      " 43%|████▎     | 1183/2737 [07:43<10:37,  2.44it/s]"
     ]
    },
    {
     "name": "stdout",
     "output_type": "stream",
     "text": [
      "../input/painting-vs-photograph-classification-dataset/Raw Data/painting/e93ffcd5246f3c91d7fcf240c9f76adf1622d90d.jpg\n"
     ]
    },
    {
     "name": "stderr",
     "output_type": "stream",
     "text": [
      " 43%|████▎     | 1184/2737 [07:44<12:47,  2.02it/s]"
     ]
    },
    {
     "name": "stdout",
     "output_type": "stream",
     "text": [
      "../input/painting-vs-photograph-classification-dataset/Raw Data/painting/3976004a26943aefb81f5952b0861d623f5aae90.jpg\n"
     ]
    },
    {
     "name": "stderr",
     "output_type": "stream",
     "text": [
      " 43%|████▎     | 1185/2737 [07:45<13:45,  1.88it/s]"
     ]
    },
    {
     "name": "stdout",
     "output_type": "stream",
     "text": [
      "../input/painting-vs-photograph-classification-dataset/Raw Data/painting/bd07e1d801304c33485c3c0f7e25275c17e90032.jpg\n"
     ]
    },
    {
     "name": "stderr",
     "output_type": "stream",
     "text": [
      " 43%|████▎     | 1186/2737 [07:45<14:48,  1.75it/s]"
     ]
    },
    {
     "name": "stdout",
     "output_type": "stream",
     "text": [
      "../input/painting-vs-photograph-classification-dataset/Raw Data/painting/8a70925bc7d3332e9f4ad54426a48d10ce82093d.jpg\n"
     ]
    },
    {
     "name": "stderr",
     "output_type": "stream",
     "text": [
      " 43%|████▎     | 1187/2737 [07:46<14:03,  1.84it/s]"
     ]
    },
    {
     "name": "stdout",
     "output_type": "stream",
     "text": [
      "../input/painting-vs-photograph-classification-dataset/Raw Data/photos/f8c103b5694dcf24f375ca2398cb354133597155.jpg\n"
     ]
    },
    {
     "name": "stderr",
     "output_type": "stream",
     "text": [
      " 43%|████▎     | 1188/2737 [07:46<12:00,  2.15it/s]"
     ]
    },
    {
     "name": "stdout",
     "output_type": "stream",
     "text": [
      "../input/painting-vs-photograph-classification-dataset/Raw Data/painting/f01f14f64e95e9fab3931e08e359c6c5f6ab21c1.jpg\n"
     ]
    },
    {
     "name": "stderr",
     "output_type": "stream",
     "text": [
      " 43%|████▎     | 1189/2737 [07:47<12:15,  2.10it/s]"
     ]
    },
    {
     "name": "stdout",
     "output_type": "stream",
     "text": [
      "../input/painting-vs-photograph-classification-dataset/Raw Data/photos/45f5915279f1eb7a0739bbf35226d9745fd7eb2c.jpg\n"
     ]
    },
    {
     "name": "stderr",
     "output_type": "stream",
     "text": [
      " 43%|████▎     | 1190/2737 [07:47<10:26,  2.47it/s]"
     ]
    },
    {
     "name": "stdout",
     "output_type": "stream",
     "text": [
      "../input/painting-vs-photograph-classification-dataset/Raw Data/photos/8199eecb21d54405de193eb0301a838d751875e5.jpg\n"
     ]
    },
    {
     "name": "stderr",
     "output_type": "stream",
     "text": [
      " 44%|████▎     | 1191/2737 [07:47<09:10,  2.81it/s]"
     ]
    },
    {
     "name": "stdout",
     "output_type": "stream",
     "text": [
      "../input/painting-vs-photograph-classification-dataset/Raw Data/photos/7903498995033c0ae931f4a5b1bdf3c70def4922.jpg\n"
     ]
    },
    {
     "name": "stderr",
     "output_type": "stream",
     "text": [
      " 44%|████▎     | 1192/2737 [07:47<08:17,  3.11it/s]"
     ]
    },
    {
     "name": "stdout",
     "output_type": "stream",
     "text": [
      "../input/painting-vs-photograph-classification-dataset/Raw Data/painting/1dda6ed80d6df2ffeb28385f9b96daba81a570e3.jpg\n"
     ]
    },
    {
     "name": "stderr",
     "output_type": "stream",
     "text": [
      " 44%|████▎     | 1193/2737 [07:48<12:01,  2.14it/s]"
     ]
    },
    {
     "name": "stdout",
     "output_type": "stream",
     "text": [
      "../input/painting-vs-photograph-classification-dataset/Raw Data/photos/c0c1072dcc9b61d9137bc3247d3ce4fbb5bcbd81.jpg\n"
     ]
    },
    {
     "name": "stderr",
     "output_type": "stream",
     "text": [
      " 44%|████▎     | 1194/2737 [07:48<10:24,  2.47it/s]"
     ]
    },
    {
     "name": "stdout",
     "output_type": "stream",
     "text": [
      "../input/painting-vs-photograph-classification-dataset/Raw Data/photos/0b5af5e610f91e6b734199af8549623cea96c7b3.jpg\n"
     ]
    },
    {
     "name": "stderr",
     "output_type": "stream",
     "text": [
      " 44%|████▎     | 1196/2737 [07:49<07:48,  3.29it/s]"
     ]
    },
    {
     "name": "stdout",
     "output_type": "stream",
     "text": [
      "../input/painting-vs-photograph-classification-dataset/Raw Data/photos/d81dffa50931fffb32687e6bfcbceaf6b199d550.jpg\n",
      "../input/painting-vs-photograph-classification-dataset/Raw Data/painting/69efe681a22783f98f37fd72a6052c2cf5e78443.jpg\n"
     ]
    },
    {
     "name": "stderr",
     "output_type": "stream",
     "text": [
      " 44%|████▎     | 1197/2737 [07:50<13:11,  1.95it/s]"
     ]
    },
    {
     "name": "stdout",
     "output_type": "stream",
     "text": [
      "../input/painting-vs-photograph-classification-dataset/Raw Data/painting/f9e19e3a94290c1f1e0bf19026ac09cac2ce6692.jpg\n"
     ]
    },
    {
     "name": "stderr",
     "output_type": "stream",
     "text": [
      " 44%|████▍     | 1199/2737 [07:51<10:49,  2.37it/s]"
     ]
    },
    {
     "name": "stdout",
     "output_type": "stream",
     "text": [
      "../input/painting-vs-photograph-classification-dataset/Raw Data/photos/c755103a5afd5a6dcf7d3a6c85820903f260f137.jpg\n",
      "../input/painting-vs-photograph-classification-dataset/Raw Data/photos/f5df34aa301266f559deaa56e1cfec0c0b539e33.jpg\n"
     ]
    },
    {
     "name": "stderr",
     "output_type": "stream",
     "text": [
      " 44%|████▍     | 1200/2737 [07:51<09:25,  2.72it/s]"
     ]
    },
    {
     "name": "stdout",
     "output_type": "stream",
     "text": [
      "../input/painting-vs-photograph-classification-dataset/Raw Data/painting/64a1706ccf995ce1ca455b7bd2b4599d1d2c7ed4.jpg\n"
     ]
    },
    {
     "name": "stderr",
     "output_type": "stream",
     "text": [
      " 44%|████▍     | 1201/2737 [07:52<13:14,  1.93it/s]"
     ]
    },
    {
     "name": "stdout",
     "output_type": "stream",
     "text": [
      "../input/painting-vs-photograph-classification-dataset/Raw Data/painting/8d9ff5a84509857ec4b8747fef466dada974c831.jpg\n"
     ]
    },
    {
     "name": "stderr",
     "output_type": "stream",
     "text": [
      " 44%|████▍     | 1202/2737 [07:53<15:29,  1.65it/s]"
     ]
    },
    {
     "name": "stdout",
     "output_type": "stream",
     "text": [
      "../input/painting-vs-photograph-classification-dataset/Raw Data/photos/cddb3c12d1a19b05ec4d4fdb303f24d63a260970.jpg\n"
     ]
    },
    {
     "name": "stderr",
     "output_type": "stream",
     "text": [
      " 44%|████▍     | 1204/2737 [07:53<10:16,  2.49it/s]"
     ]
    },
    {
     "name": "stdout",
     "output_type": "stream",
     "text": [
      "../input/painting-vs-photograph-classification-dataset/Raw Data/photos/495d9aea9c8a90ea4f9eb8a0ade23646d6be9527.jpg\n",
      "../input/painting-vs-photograph-classification-dataset/Raw Data/photos/2412e398d4e3222588721314a951e8121e2745b8.jpg\n"
     ]
    },
    {
     "name": "stderr",
     "output_type": "stream",
     "text": [
      " 44%|████▍     | 1206/2737 [07:53<07:18,  3.49it/s]"
     ]
    },
    {
     "name": "stdout",
     "output_type": "stream",
     "text": [
      "../input/painting-vs-photograph-classification-dataset/Raw Data/photos/6442e02f965cd36b75d2fde652d2655d11dbeba5.jpg\n",
      "../input/painting-vs-photograph-classification-dataset/Raw Data/painting/5f1e744e255d24cc56ad4f4a66f71ffa30cc75ed.jpg\n"
     ]
    },
    {
     "name": "stderr",
     "output_type": "stream",
     "text": [
      " 44%|████▍     | 1207/2737 [07:54<09:21,  2.72it/s]"
     ]
    },
    {
     "name": "stdout",
     "output_type": "stream",
     "text": [
      "../input/painting-vs-photograph-classification-dataset/Raw Data/photos/d0e7d30f7dcd96162348aa35a86e85074b3071d3.jpg\n"
     ]
    },
    {
     "name": "stderr",
     "output_type": "stream",
     "text": [
      " 44%|████▍     | 1208/2737 [07:54<08:18,  3.07it/s]"
     ]
    },
    {
     "name": "stdout",
     "output_type": "stream",
     "text": [
      "../input/painting-vs-photograph-classification-dataset/Raw Data/painting/89422ab565ac4a59e092d90adc45dfba5383aaf1.jpg\n"
     ]
    },
    {
     "name": "stderr",
     "output_type": "stream",
     "text": [
      " 44%|████▍     | 1209/2737 [07:55<10:24,  2.45it/s]"
     ]
    },
    {
     "name": "stdout",
     "output_type": "stream",
     "text": [
      "../input/painting-vs-photograph-classification-dataset/Raw Data/painting/ebbbf6d1b98c95006cbbf097aa08669301742a75.jpg\n"
     ]
    },
    {
     "name": "stderr",
     "output_type": "stream",
     "text": [
      " 44%|████▍     | 1210/2737 [07:56<13:23,  1.90it/s]"
     ]
    },
    {
     "name": "stdout",
     "output_type": "stream",
     "text": [
      "../input/painting-vs-photograph-classification-dataset/Raw Data/photos/d64e40ed3f455e957a1ca5c492a0cace4cb2390f.jpg\n"
     ]
    },
    {
     "name": "stderr",
     "output_type": "stream",
     "text": [
      " 44%|████▍     | 1211/2737 [07:56<11:06,  2.29it/s]"
     ]
    },
    {
     "name": "stdout",
     "output_type": "stream",
     "text": [
      "../input/painting-vs-photograph-classification-dataset/Raw Data/photos/425fd1d7ecc70286abb2e7a72ddb02a9988240c9.jpg\n"
     ]
    },
    {
     "name": "stderr",
     "output_type": "stream",
     "text": [
      " 44%|████▍     | 1212/2737 [07:56<09:25,  2.70it/s]"
     ]
    },
    {
     "name": "stdout",
     "output_type": "stream",
     "text": [
      "../input/painting-vs-photograph-classification-dataset/Raw Data/painting/f033a53b727ad172186cc49bedff67ca5b3ad3a8.jpg\n"
     ]
    },
    {
     "name": "stderr",
     "output_type": "stream",
     "text": [
      " 44%|████▍     | 1213/2737 [07:56<10:16,  2.47it/s]"
     ]
    },
    {
     "name": "stdout",
     "output_type": "stream",
     "text": [
      "../input/painting-vs-photograph-classification-dataset/Raw Data/photos/9941b2c6d9978a989032880c4dd910593f439d98.jpg\n"
     ]
    },
    {
     "name": "stderr",
     "output_type": "stream",
     "text": [
      " 44%|████▍     | 1214/2737 [07:57<09:51,  2.58it/s]"
     ]
    },
    {
     "name": "stdout",
     "output_type": "stream",
     "text": [
      "../input/painting-vs-photograph-classification-dataset/Raw Data/photos/68e04ab19360b60860dff2266e10f66f025ccd72.jpg\n"
     ]
    },
    {
     "name": "stderr",
     "output_type": "stream",
     "text": [
      " 44%|████▍     | 1215/2737 [07:57<09:19,  2.72it/s]"
     ]
    },
    {
     "name": "stdout",
     "output_type": "stream",
     "text": [
      "../input/painting-vs-photograph-classification-dataset/Raw Data/photos/b121180518e35a8a0bbae6ba1a83eba6481dc4d2.jpg\n"
     ]
    },
    {
     "name": "stderr",
     "output_type": "stream",
     "text": [
      " 44%|████▍     | 1216/2737 [07:57<08:16,  3.06it/s]"
     ]
    },
    {
     "name": "stdout",
     "output_type": "stream",
     "text": [
      "../input/painting-vs-photograph-classification-dataset/Raw Data/photos/871c1014d47a9afda1af7cfc5e10e4a329be8587.jpg\n"
     ]
    },
    {
     "name": "stderr",
     "output_type": "stream",
     "text": [
      " 44%|████▍     | 1217/2737 [07:58<07:29,  3.38it/s]"
     ]
    },
    {
     "name": "stdout",
     "output_type": "stream",
     "text": [
      "../input/painting-vs-photograph-classification-dataset/Raw Data/photos/587498c2a24c6d2a2ffb78148b9795c700ba0f90.jpg\n"
     ]
    },
    {
     "name": "stderr",
     "output_type": "stream",
     "text": [
      " 45%|████▍     | 1218/2737 [07:58<07:05,  3.57it/s]"
     ]
    },
    {
     "name": "stdout",
     "output_type": "stream",
     "text": [
      "../input/painting-vs-photograph-classification-dataset/Raw Data/photos/f12f8560f8cf86a8f6c4bb907df4f19396f74b2d.jpg\n"
     ]
    },
    {
     "name": "stderr",
     "output_type": "stream",
     "text": [
      " 45%|████▍     | 1220/2737 [07:58<06:15,  4.04it/s]"
     ]
    },
    {
     "name": "stdout",
     "output_type": "stream",
     "text": [
      "../input/painting-vs-photograph-classification-dataset/Raw Data/photos/f45a38c2d83d7bbd511524a985761bf3b2f1fa37.jpg\n",
      "../input/painting-vs-photograph-classification-dataset/Raw Data/photos/db7062234b0a3c06025545a5652304fcdcd95c14.jpg\n"
     ]
    },
    {
     "name": "stderr",
     "output_type": "stream",
     "text": [
      " 45%|████▍     | 1221/2737 [07:59<06:10,  4.09it/s]"
     ]
    },
    {
     "name": "stdout",
     "output_type": "stream",
     "text": [
      "../input/painting-vs-photograph-classification-dataset/Raw Data/photos/67e27056ab48435e448fabc443dca9d96d10d711.jpg\n"
     ]
    },
    {
     "name": "stderr",
     "output_type": "stream",
     "text": [
      " 45%|████▍     | 1222/2737 [07:59<06:07,  4.12it/s]"
     ]
    },
    {
     "name": "stdout",
     "output_type": "stream",
     "text": [
      "../input/painting-vs-photograph-classification-dataset/Raw Data/painting/d500be587672bb45170aebbfc26450e2dd51fac2.jpg\n"
     ]
    },
    {
     "name": "stderr",
     "output_type": "stream",
     "text": [
      " 45%|████▍     | 1223/2737 [07:59<09:44,  2.59it/s]"
     ]
    },
    {
     "name": "stdout",
     "output_type": "stream",
     "text": [
      "../input/painting-vs-photograph-classification-dataset/Raw Data/painting/f621a3e66d92ec6b524406d66c9076eb31c47516.jpg\n"
     ]
    },
    {
     "name": "stderr",
     "output_type": "stream",
     "text": [
      " 45%|████▍     | 1224/2737 [08:01<14:37,  1.73it/s]"
     ]
    },
    {
     "name": "stdout",
     "output_type": "stream",
     "text": [
      "../input/painting-vs-photograph-classification-dataset/Raw Data/photos/cc6a78923806ae21773c2323d4892e2631e9e1bf.jpg\n"
     ]
    },
    {
     "name": "stderr",
     "output_type": "stream",
     "text": [
      " 45%|████▍     | 1225/2737 [08:01<12:05,  2.09it/s]"
     ]
    },
    {
     "name": "stdout",
     "output_type": "stream",
     "text": [
      "../input/painting-vs-photograph-classification-dataset/Raw Data/photos/1e6545c911aa5fe2975ec395da6e6e23ce056920.jpg\n"
     ]
    },
    {
     "name": "stderr",
     "output_type": "stream",
     "text": [
      " 45%|████▍     | 1226/2737 [08:01<09:59,  2.52it/s]"
     ]
    },
    {
     "name": "stdout",
     "output_type": "stream",
     "text": [
      "../input/painting-vs-photograph-classification-dataset/Raw Data/painting/25cce6b91ce7106967e3df31233f979d177a6b6c.jpg\n"
     ]
    },
    {
     "name": "stderr",
     "output_type": "stream",
     "text": [
      " 45%|████▍     | 1227/2737 [08:01<09:57,  2.53it/s]"
     ]
    },
    {
     "name": "stdout",
     "output_type": "stream",
     "text": [
      "../input/painting-vs-photograph-classification-dataset/Raw Data/photos/49706c45343c0b6d313f821b228e047184ab3aed.jpg\n"
     ]
    },
    {
     "name": "stderr",
     "output_type": "stream",
     "text": [
      " 45%|████▍     | 1228/2737 [08:02<08:45,  2.87it/s]"
     ]
    },
    {
     "name": "stdout",
     "output_type": "stream",
     "text": [
      "../input/painting-vs-photograph-classification-dataset/Raw Data/painting/f2805c50da92772be26d940920b1a69bfe6292fd.jpg\n"
     ]
    },
    {
     "name": "stderr",
     "output_type": "stream",
     "text": [
      " 45%|████▍     | 1229/2737 [08:02<11:10,  2.25it/s]"
     ]
    },
    {
     "name": "stdout",
     "output_type": "stream",
     "text": [
      "../input/painting-vs-photograph-classification-dataset/Raw Data/painting/16c7b7c1a7553fb640e60b50ba30732a74f62bb0.jpg\n"
     ]
    },
    {
     "name": "stderr",
     "output_type": "stream",
     "text": [
      " 45%|████▍     | 1231/2737 [08:03<09:30,  2.64it/s]"
     ]
    },
    {
     "name": "stdout",
     "output_type": "stream",
     "text": [
      "../input/painting-vs-photograph-classification-dataset/Raw Data/photos/b74526c83fde9ae320a87cd83fa71b5afc29e299.jpg\n",
      "../input/painting-vs-photograph-classification-dataset/Raw Data/photos/2630d264a69dc25d73024e85674c4ff5d7560d2d.jpg\n"
     ]
    },
    {
     "name": "stderr",
     "output_type": "stream",
     "text": [
      " 45%|████▌     | 1232/2737 [08:03<07:56,  3.16it/s]"
     ]
    },
    {
     "name": "stdout",
     "output_type": "stream",
     "text": [
      "../input/painting-vs-photograph-classification-dataset/Raw Data/painting/d7ba8c2a30be1f1b8169c1a4677448e1ca2622a9.jpg\n"
     ]
    },
    {
     "name": "stderr",
     "output_type": "stream",
     "text": [
      " 45%|████▌     | 1234/2737 [08:04<08:46,  2.85it/s]"
     ]
    },
    {
     "name": "stdout",
     "output_type": "stream",
     "text": [
      "../input/painting-vs-photograph-classification-dataset/Raw Data/photos/c40e91e4bdde0f182c311db8ce742dcca8cf4119.jpg\n",
      "../input/painting-vs-photograph-classification-dataset/Raw Data/photos/53e8abfcdb37a1c3cdf81ce70e0468f728cff66c.jpg\n"
     ]
    },
    {
     "name": "stderr",
     "output_type": "stream",
     "text": [
      " 45%|████▌     | 1235/2737 [08:04<07:56,  3.15it/s]"
     ]
    },
    {
     "name": "stdout",
     "output_type": "stream",
     "text": [
      "../input/painting-vs-photograph-classification-dataset/Raw Data/photos/a69f68008aa1b6bf400540a15fea1d51dd0698ad.jpg\n"
     ]
    },
    {
     "name": "stderr",
     "output_type": "stream",
     "text": [
      " 45%|████▌     | 1236/2737 [08:04<07:21,  3.40it/s]"
     ]
    },
    {
     "name": "stdout",
     "output_type": "stream",
     "text": [
      "../input/painting-vs-photograph-classification-dataset/Raw Data/photos/893c426215fb1910c4c0c660192ae59c826145ec.jpg\n"
     ]
    },
    {
     "name": "stderr",
     "output_type": "stream",
     "text": [
      " 45%|████▌     | 1237/2737 [08:05<06:55,  3.61it/s]"
     ]
    },
    {
     "name": "stdout",
     "output_type": "stream",
     "text": [
      "../input/painting-vs-photograph-classification-dataset/Raw Data/photos/261a51e9ffa8623b4e3a176515cc016de57a32bb.jpg\n"
     ]
    },
    {
     "name": "stderr",
     "output_type": "stream",
     "text": [
      " 45%|████▌     | 1238/2737 [08:05<06:35,  3.79it/s]"
     ]
    },
    {
     "name": "stdout",
     "output_type": "stream",
     "text": [
      "../input/painting-vs-photograph-classification-dataset/Raw Data/photos/58bcd48acef5adaaf2964d58814e8adc1a0bdfd0.jpg\n"
     ]
    },
    {
     "name": "stderr",
     "output_type": "stream",
     "text": [
      " 45%|████▌     | 1240/2737 [08:05<05:35,  4.46it/s]"
     ]
    },
    {
     "name": "stdout",
     "output_type": "stream",
     "text": [
      "../input/painting-vs-photograph-classification-dataset/Raw Data/photos/c2579c1245ae0c046654ded7d6cba3365ddf7429.jpg\n",
      "../input/painting-vs-photograph-classification-dataset/Raw Data/photos/560ea35354447c04c1ada71abbc33b8ed73b090b.jpg\n"
     ]
    },
    {
     "name": "stderr",
     "output_type": "stream",
     "text": [
      " 45%|████▌     | 1242/2737 [08:06<05:20,  4.66it/s]"
     ]
    },
    {
     "name": "stdout",
     "output_type": "stream",
     "text": [
      "../input/painting-vs-photograph-classification-dataset/Raw Data/photos/c0625168f9805f75001290d863628734323f6a99.jpg\n",
      "../input/painting-vs-photograph-classification-dataset/Raw Data/photos/103b7da6514f340d616f17f38c4e446fe4fbb112.jpg\n"
     ]
    },
    {
     "name": "stderr",
     "output_type": "stream",
     "text": [
      " 45%|████▌     | 1243/2737 [08:06<05:29,  4.54it/s]"
     ]
    },
    {
     "name": "stdout",
     "output_type": "stream",
     "text": [
      "../input/painting-vs-photograph-classification-dataset/Raw Data/painting/badc2bb4de63f20b419644a26193be13e1c13f5a.jpg\n"
     ]
    },
    {
     "name": "stderr",
     "output_type": "stream",
     "text": [
      " 45%|████▌     | 1244/2737 [08:07<09:20,  2.66it/s]"
     ]
    },
    {
     "name": "stdout",
     "output_type": "stream",
     "text": [
      "../input/painting-vs-photograph-classification-dataset/Raw Data/photos/ea98653124d0f95d0410986dfe1eb7005ef3d3e9.jpg\n"
     ]
    },
    {
     "name": "stderr",
     "output_type": "stream",
     "text": [
      " 45%|████▌     | 1245/2737 [08:07<08:25,  2.95it/s]"
     ]
    },
    {
     "name": "stdout",
     "output_type": "stream",
     "text": [
      "../input/painting-vs-photograph-classification-dataset/Raw Data/photos/bd417a8c1aedff99b65020cb455835a4e454fbad.jpg\n"
     ]
    },
    {
     "name": "stderr",
     "output_type": "stream",
     "text": [
      " 46%|████▌     | 1246/2737 [08:07<07:32,  3.30it/s]"
     ]
    },
    {
     "name": "stdout",
     "output_type": "stream",
     "text": [
      "../input/painting-vs-photograph-classification-dataset/Raw Data/photos/2601efa8983edf686628e5c7e3c04125d97ab886.jpg\n"
     ]
    },
    {
     "name": "stderr",
     "output_type": "stream",
     "text": [
      " 46%|████▌     | 1247/2737 [08:07<06:58,  3.56it/s]"
     ]
    },
    {
     "name": "stdout",
     "output_type": "stream",
     "text": [
      "../input/painting-vs-photograph-classification-dataset/Raw Data/painting/ebb67161d18cd6eecbfd82c697610cdc4b207e2a.jpg\n"
     ]
    },
    {
     "name": "stderr",
     "output_type": "stream",
     "text": [
      " 46%|████▌     | 1248/2737 [08:08<10:11,  2.43it/s]"
     ]
    },
    {
     "name": "stdout",
     "output_type": "stream",
     "text": [
      "../input/painting-vs-photograph-classification-dataset/Raw Data/photos/b7d8d85753b038b76be659036b277d22b16fdbb0.jpg\n"
     ]
    },
    {
     "name": "stderr",
     "output_type": "stream",
     "text": [
      " 46%|████▌     | 1249/2737 [08:08<08:55,  2.78it/s]"
     ]
    },
    {
     "name": "stdout",
     "output_type": "stream",
     "text": [
      "../input/painting-vs-photograph-classification-dataset/Raw Data/photos/d25970a9d406250e5cd1329e50d8bbc36db262bf.jpg\n"
     ]
    },
    {
     "name": "stderr",
     "output_type": "stream",
     "text": [
      " 46%|████▌     | 1250/2737 [08:09<08:04,  3.07it/s]"
     ]
    },
    {
     "name": "stdout",
     "output_type": "stream",
     "text": [
      "../input/painting-vs-photograph-classification-dataset/Raw Data/painting/ee01d508602145da1616fb9b2f10e83748478ec0.jpg\n"
     ]
    },
    {
     "name": "stderr",
     "output_type": "stream",
     "text": [
      " 46%|████▌     | 1251/2737 [08:09<12:15,  2.02it/s]"
     ]
    },
    {
     "name": "stdout",
     "output_type": "stream",
     "text": [
      "../input/painting-vs-photograph-classification-dataset/Raw Data/painting/4f2eecbeb33ce4b6b40cedcd1d109c89d9027520.jpg\n"
     ]
    },
    {
     "name": "stderr",
     "output_type": "stream",
     "text": [
      " 46%|████▌     | 1252/2737 [08:10<13:59,  1.77it/s]"
     ]
    },
    {
     "name": "stdout",
     "output_type": "stream",
     "text": [
      "../input/painting-vs-photograph-classification-dataset/Raw Data/photos/c4856a9212133a7564205cc16c2b340ddf7540c9.jpg\n"
     ]
    },
    {
     "name": "stderr",
     "output_type": "stream",
     "text": [
      " 46%|████▌     | 1253/2737 [08:10<11:34,  2.14it/s]"
     ]
    },
    {
     "name": "stdout",
     "output_type": "stream",
     "text": [
      "../input/painting-vs-photograph-classification-dataset/Raw Data/painting/a716ae090c5d632db3405d78fd9f47c448e428e4.jpg\n"
     ]
    },
    {
     "name": "stderr",
     "output_type": "stream",
     "text": [
      " 46%|████▌     | 1255/2737 [08:12<12:06,  2.04it/s]"
     ]
    },
    {
     "name": "stdout",
     "output_type": "stream",
     "text": [
      "../input/painting-vs-photograph-classification-dataset/Raw Data/photos/53cb361c57753f8e962c590190684908b70f7f34.jpg\n",
      "../input/painting-vs-photograph-classification-dataset/Raw Data/photos/57d74c8694cb4dbff1c35682c66f856f92cf963c.jpg\n"
     ]
    },
    {
     "name": "stderr",
     "output_type": "stream",
     "text": [
      " 46%|████▌     | 1256/2737 [08:12<10:11,  2.42it/s]"
     ]
    },
    {
     "name": "stdout",
     "output_type": "stream",
     "text": [
      "../input/painting-vs-photograph-classification-dataset/Raw Data/photos/7e88b39173381055d9c215913ac46d97b0a3049f.jpg\n"
     ]
    },
    {
     "name": "stderr",
     "output_type": "stream",
     "text": [
      " 46%|████▌     | 1257/2737 [08:12<09:00,  2.74it/s]"
     ]
    },
    {
     "name": "stdout",
     "output_type": "stream",
     "text": [
      "../input/painting-vs-photograph-classification-dataset/Raw Data/photos/acbf3ac476dc62cd2e933ec2ac94298c22d4767b.jpg\n"
     ]
    },
    {
     "name": "stderr",
     "output_type": "stream",
     "text": [
      " 46%|████▌     | 1258/2737 [08:12<08:53,  2.77it/s]"
     ]
    },
    {
     "name": "stdout",
     "output_type": "stream",
     "text": [
      "../input/painting-vs-photograph-classification-dataset/Raw Data/photos/452a8d5ea809fdb6dd21d4554f37cc57e59e845f.jpg\n"
     ]
    },
    {
     "name": "stderr",
     "output_type": "stream",
     "text": [
      " 46%|████▌     | 1259/2737 [08:13<08:01,  3.07it/s]"
     ]
    },
    {
     "name": "stdout",
     "output_type": "stream",
     "text": [
      "../input/painting-vs-photograph-classification-dataset/Raw Data/painting/3fe934f5971c0ae50c818ddeddd198faf1010180.jpg\n"
     ]
    },
    {
     "name": "stderr",
     "output_type": "stream",
     "text": [
      " 46%|████▌     | 1260/2737 [08:13<10:49,  2.27it/s]"
     ]
    },
    {
     "name": "stdout",
     "output_type": "stream",
     "text": [
      "../input/painting-vs-photograph-classification-dataset/Raw Data/photos/cde63a60ea4af16f4ace27398f069263375c453e.jpg\n"
     ]
    },
    {
     "name": "stderr",
     "output_type": "stream",
     "text": [
      " 46%|████▌     | 1262/2737 [08:14<08:29,  2.90it/s]"
     ]
    },
    {
     "name": "stdout",
     "output_type": "stream",
     "text": [
      "../input/painting-vs-photograph-classification-dataset/Raw Data/photos/60473553ec6c54b2bb678d41b0d9a307decdfb78.jpg\n",
      "../input/painting-vs-photograph-classification-dataset/Raw Data/photos/40b383c1e9c47b9e893dc2206732dcf80d71f51e.jpg\n"
     ]
    },
    {
     "name": "stderr",
     "output_type": "stream",
     "text": [
      " 46%|████▌     | 1263/2737 [08:14<07:45,  3.16it/s]"
     ]
    },
    {
     "name": "stdout",
     "output_type": "stream",
     "text": [
      "../input/painting-vs-photograph-classification-dataset/Raw Data/photos/b98fe73017c560f8b7659c73648a1d7e892f2617.jpg\n"
     ]
    },
    {
     "name": "stderr",
     "output_type": "stream",
     "text": [
      " 46%|████▌     | 1264/2737 [08:14<07:18,  3.36it/s]"
     ]
    },
    {
     "name": "stdout",
     "output_type": "stream",
     "text": [
      "../input/painting-vs-photograph-classification-dataset/Raw Data/photos/c02e355224168137c55a7878b2e2aa84bc107aff.jpg\n"
     ]
    },
    {
     "name": "stderr",
     "output_type": "stream",
     "text": [
      " 46%|████▌     | 1265/2737 [08:15<06:50,  3.59it/s]"
     ]
    },
    {
     "name": "stdout",
     "output_type": "stream",
     "text": [
      "../input/painting-vs-photograph-classification-dataset/Raw Data/painting/7062cdf12e867238c79a37c2a6fb113c57bca369.jpg\n"
     ]
    },
    {
     "name": "stderr",
     "output_type": "stream",
     "text": [
      " 46%|████▋     | 1266/2737 [08:15<09:12,  2.66it/s]"
     ]
    },
    {
     "name": "stdout",
     "output_type": "stream",
     "text": [
      "../input/painting-vs-photograph-classification-dataset/Raw Data/photos/8b8789f669c7f69a08fe0dbae6e038d6ad68b3fb.jpg\n"
     ]
    },
    {
     "name": "stderr",
     "output_type": "stream",
     "text": [
      " 46%|████▋     | 1267/2737 [08:16<08:35,  2.85it/s]"
     ]
    },
    {
     "name": "stdout",
     "output_type": "stream",
     "text": [
      "../input/painting-vs-photograph-classification-dataset/Raw Data/photos/eb7e50975bc0a35e4aa523be4e3b4990bdbc3b5a.jpg\n"
     ]
    },
    {
     "name": "stderr",
     "output_type": "stream",
     "text": [
      " 46%|████▋     | 1268/2737 [08:16<08:02,  3.04it/s]"
     ]
    },
    {
     "name": "stdout",
     "output_type": "stream",
     "text": [
      "../input/painting-vs-photograph-classification-dataset/Raw Data/photos/713afd2dc08d7b58955aebb2129ce48aa218eb45.jpg\n"
     ]
    },
    {
     "name": "stderr",
     "output_type": "stream",
     "text": [
      " 46%|████▋     | 1269/2737 [08:16<08:14,  2.97it/s]"
     ]
    },
    {
     "name": "stdout",
     "output_type": "stream",
     "text": [
      "../input/painting-vs-photograph-classification-dataset/Raw Data/painting/cde78643fc82d95be9f7daab5073dabb5ba04aa1.jpg\n"
     ]
    },
    {
     "name": "stderr",
     "output_type": "stream",
     "text": [
      " 46%|████▋     | 1270/2737 [08:17<09:14,  2.65it/s]"
     ]
    },
    {
     "name": "stdout",
     "output_type": "stream",
     "text": [
      "../input/painting-vs-photograph-classification-dataset/Raw Data/photos/4e0a3811cb690948aa9b212697ad1a11a3fbacf3.jpg\n"
     ]
    },
    {
     "name": "stderr",
     "output_type": "stream",
     "text": [
      " 46%|████▋     | 1271/2737 [08:17<08:19,  2.94it/s]"
     ]
    },
    {
     "name": "stdout",
     "output_type": "stream",
     "text": [
      "../input/painting-vs-photograph-classification-dataset/Raw Data/photos/133d2c2594e984eb02a48e76d8e9563f1c9664b7.jpg\n"
     ]
    },
    {
     "name": "stderr",
     "output_type": "stream",
     "text": [
      " 46%|████▋     | 1272/2737 [08:17<08:03,  3.03it/s]"
     ]
    },
    {
     "name": "stdout",
     "output_type": "stream",
     "text": [
      "../input/painting-vs-photograph-classification-dataset/Raw Data/photos/997859def129d640e12ca760e64b9915b3957d6f.jpg\n"
     ]
    },
    {
     "name": "stderr",
     "output_type": "stream",
     "text": [
      " 47%|████▋     | 1273/2737 [08:17<07:28,  3.27it/s]"
     ]
    },
    {
     "name": "stdout",
     "output_type": "stream",
     "text": [
      "../input/painting-vs-photograph-classification-dataset/Raw Data/photos/eefdc8bb8f545f4057df4d66230aaab907b629f4.jpg\n"
     ]
    },
    {
     "name": "stderr",
     "output_type": "stream",
     "text": [
      " 47%|████▋     | 1274/2737 [08:18<07:14,  3.36it/s]"
     ]
    },
    {
     "name": "stdout",
     "output_type": "stream",
     "text": [
      "../input/painting-vs-photograph-classification-dataset/Raw Data/photos/cf7385e0ca3c2245167b950c865e7658662e5a80.jpg\n"
     ]
    },
    {
     "name": "stderr",
     "output_type": "stream",
     "text": [
      " 47%|████▋     | 1275/2737 [08:18<06:44,  3.61it/s]"
     ]
    },
    {
     "name": "stdout",
     "output_type": "stream",
     "text": [
      "../input/painting-vs-photograph-classification-dataset/Raw Data/photos/d458c7f0b2c1b00c4f1981a571ecc1fd2e636272.jpg\n"
     ]
    },
    {
     "name": "stderr",
     "output_type": "stream",
     "text": [
      " 47%|████▋     | 1276/2737 [08:18<06:21,  3.83it/s]"
     ]
    },
    {
     "name": "stdout",
     "output_type": "stream",
     "text": [
      "../input/painting-vs-photograph-classification-dataset/Raw Data/painting/8f9dc4817f5fde458df660cbaeec85f82a24b4ce.jpg\n"
     ]
    },
    {
     "name": "stderr",
     "output_type": "stream",
     "text": [
      " 47%|████▋     | 1277/2737 [08:19<10:13,  2.38it/s]"
     ]
    },
    {
     "name": "stdout",
     "output_type": "stream",
     "text": [
      "../input/painting-vs-photograph-classification-dataset/Raw Data/photos/06a5722b235339c48967533c9013f83ca0aa2ee8.jpg\n"
     ]
    },
    {
     "name": "stderr",
     "output_type": "stream",
     "text": [
      " 47%|████▋     | 1278/2737 [08:19<09:07,  2.67it/s]"
     ]
    },
    {
     "name": "stdout",
     "output_type": "stream",
     "text": [
      "../input/painting-vs-photograph-classification-dataset/Raw Data/painting/d3303450f9782895e5eb43d46baa9ef8712e5903.jpg\n"
     ]
    },
    {
     "name": "stderr",
     "output_type": "stream",
     "text": [
      " 47%|████▋     | 1279/2737 [08:20<10:38,  2.28it/s]"
     ]
    },
    {
     "name": "stdout",
     "output_type": "stream",
     "text": [
      "../input/painting-vs-photograph-classification-dataset/Raw Data/photos/62a165bb6d7b7975aa5f658a8695a155f20ccd34.jpg\n"
     ]
    },
    {
     "name": "stderr",
     "output_type": "stream",
     "text": [
      " 47%|████▋     | 1280/2737 [08:20<09:13,  2.63it/s]"
     ]
    },
    {
     "name": "stdout",
     "output_type": "stream",
     "text": [
      "../input/painting-vs-photograph-classification-dataset/Raw Data/painting/f7a6030cd7c6b9a4f911ceb65c42c2c31f3abc6c.jpg\n"
     ]
    },
    {
     "name": "stderr",
     "output_type": "stream",
     "text": [
      " 47%|████▋     | 1281/2737 [08:21<12:05,  2.01it/s]"
     ]
    },
    {
     "name": "stdout",
     "output_type": "stream",
     "text": [
      "../input/painting-vs-photograph-classification-dataset/Raw Data/photos/81f3d407a248a8313006188f698d718b26ee4ea1.jpg\n"
     ]
    },
    {
     "name": "stderr",
     "output_type": "stream",
     "text": [
      " 47%|████▋     | 1282/2737 [08:21<09:58,  2.43it/s]"
     ]
    },
    {
     "name": "stdout",
     "output_type": "stream",
     "text": [
      "../input/painting-vs-photograph-classification-dataset/Raw Data/photos/e1d6ab0872733830f5173556e0781bd35fb8f508.jpg\n"
     ]
    },
    {
     "name": "stderr",
     "output_type": "stream",
     "text": [
      " 47%|████▋     | 1283/2737 [08:21<08:46,  2.76it/s]"
     ]
    },
    {
     "name": "stdout",
     "output_type": "stream",
     "text": [
      "../input/painting-vs-photograph-classification-dataset/Raw Data/photos/eedb8c2507965b82cb52fce7e2a7c63cefb90dbe.jpg\n"
     ]
    },
    {
     "name": "stderr",
     "output_type": "stream",
     "text": [
      " 47%|████▋     | 1284/2737 [08:22<08:05,  2.99it/s]"
     ]
    },
    {
     "name": "stdout",
     "output_type": "stream",
     "text": [
      "../input/painting-vs-photograph-classification-dataset/Raw Data/photos/165483aa1fb3d357204d10d5f52f6c3a30d541dd.jpg\n"
     ]
    },
    {
     "name": "stderr",
     "output_type": "stream",
     "text": [
      " 47%|████▋     | 1285/2737 [08:22<07:20,  3.30it/s]"
     ]
    },
    {
     "name": "stdout",
     "output_type": "stream",
     "text": [
      "../input/painting-vs-photograph-classification-dataset/Raw Data/photos/5b7ff615a2aad37f1a497d6336526741d8d4af69.jpg\n"
     ]
    },
    {
     "name": "stderr",
     "output_type": "stream",
     "text": [
      " 47%|████▋     | 1287/2737 [08:22<05:57,  4.06it/s]"
     ]
    },
    {
     "name": "stdout",
     "output_type": "stream",
     "text": [
      "../input/painting-vs-photograph-classification-dataset/Raw Data/photos/e6db12ce7a7f02a0779ebc6c6572114d513919cf.jpg\n",
      "../input/painting-vs-photograph-classification-dataset/Raw Data/painting/2f7e83557f3c3bcb26e4192c9a75a058f05beff4.jpg\n"
     ]
    },
    {
     "name": "stderr",
     "output_type": "stream",
     "text": [
      " 47%|████▋     | 1288/2737 [08:23<10:03,  2.40it/s]"
     ]
    },
    {
     "name": "stdout",
     "output_type": "stream",
     "text": [
      "../input/painting-vs-photograph-classification-dataset/Raw Data/painting/53d65e33962b977316d8494f5c534181f32188ef.jpg\n"
     ]
    },
    {
     "name": "stderr",
     "output_type": "stream",
     "text": [
      " 47%|████▋     | 1290/2737 [08:24<08:19,  2.90it/s]"
     ]
    },
    {
     "name": "stdout",
     "output_type": "stream",
     "text": [
      "../input/painting-vs-photograph-classification-dataset/Raw Data/photos/f5b769aa3ec5f55d785d4dc24a642fa811b066b8.jpg\n",
      "../input/painting-vs-photograph-classification-dataset/Raw Data/photos/be7f3c1b1055fd38197891da6e936f7ba59ada61.jpg\n"
     ]
    },
    {
     "name": "stderr",
     "output_type": "stream",
     "text": [
      " 47%|████▋     | 1291/2737 [08:24<07:42,  3.13it/s]"
     ]
    },
    {
     "name": "stdout",
     "output_type": "stream",
     "text": [
      "../input/painting-vs-photograph-classification-dataset/Raw Data/photos/065bd2c8cee489fbfddd1e0ad1f8beef9f4cad0f.jpg\n"
     ]
    },
    {
     "name": "stderr",
     "output_type": "stream",
     "text": [
      " 47%|████▋     | 1292/2737 [08:24<07:13,  3.33it/s]"
     ]
    },
    {
     "name": "stdout",
     "output_type": "stream",
     "text": [
      "../input/painting-vs-photograph-classification-dataset/Raw Data/photos/213fd987d59ba0592fb157d1f9a604cfd1a6158c.jpg\n"
     ]
    },
    {
     "name": "stderr",
     "output_type": "stream",
     "text": [
      " 47%|████▋     | 1293/2737 [08:24<06:43,  3.58it/s]"
     ]
    },
    {
     "name": "stdout",
     "output_type": "stream",
     "text": [
      "../input/painting-vs-photograph-classification-dataset/Raw Data/painting/d72087a3a98206e0221b3066aeb697be32f4a45d.jpg\n"
     ]
    },
    {
     "name": "stderr",
     "output_type": "stream",
     "text": [
      " 47%|████▋     | 1294/2737 [08:25<08:47,  2.74it/s]"
     ]
    },
    {
     "name": "stdout",
     "output_type": "stream",
     "text": [
      "../input/painting-vs-photograph-classification-dataset/Raw Data/painting/4ea0cbd19a3fdb9f12f483f2b13812bedad8ff05.jpg\n"
     ]
    },
    {
     "name": "stderr",
     "output_type": "stream",
     "text": [
      " 47%|████▋     | 1295/2737 [08:26<10:38,  2.26it/s]"
     ]
    },
    {
     "name": "stdout",
     "output_type": "stream",
     "text": [
      "../input/painting-vs-photograph-classification-dataset/Raw Data/painting/91c618751a7642f7231fb5923b392368b644f8e4.jpg\n"
     ]
    },
    {
     "name": "stderr",
     "output_type": "stream",
     "text": [
      " 47%|████▋     | 1296/2737 [08:26<12:50,  1.87it/s]"
     ]
    },
    {
     "name": "stdout",
     "output_type": "stream",
     "text": [
      "../input/painting-vs-photograph-classification-dataset/Raw Data/photos/357600c7e96903c3858ca87eba02c56409a756e7.jpg\n"
     ]
    },
    {
     "name": "stderr",
     "output_type": "stream",
     "text": [
      " 47%|████▋     | 1297/2737 [08:27<10:54,  2.20it/s]"
     ]
    },
    {
     "name": "stdout",
     "output_type": "stream",
     "text": [
      "../input/painting-vs-photograph-classification-dataset/Raw Data/painting/6d3171216765fb82b37867ccf6b15edd0cb97989.jpg\n"
     ]
    },
    {
     "name": "stderr",
     "output_type": "stream",
     "text": [
      " 47%|████▋     | 1298/2737 [08:27<13:47,  1.74it/s]"
     ]
    },
    {
     "name": "stdout",
     "output_type": "stream",
     "text": [
      "../input/painting-vs-photograph-classification-dataset/Raw Data/photos/269c6f3cdef7c66a5c18b6e19d12b0b6956f12b0.jpg\n"
     ]
    },
    {
     "name": "stderr",
     "output_type": "stream",
     "text": [
      " 47%|████▋     | 1299/2737 [08:28<11:19,  2.12it/s]"
     ]
    },
    {
     "name": "stdout",
     "output_type": "stream",
     "text": [
      "../input/painting-vs-photograph-classification-dataset/Raw Data/photos/d8c108bd8caf15e81780518632852f9d36a23a7d.jpg\n"
     ]
    },
    {
     "name": "stderr",
     "output_type": "stream",
     "text": [
      " 47%|████▋     | 1300/2737 [08:28<09:36,  2.49it/s]"
     ]
    },
    {
     "name": "stdout",
     "output_type": "stream",
     "text": [
      "../input/painting-vs-photograph-classification-dataset/Raw Data/painting/0dff04d6c4fa1d5b674e0d3df72b457cbd468ed1.jpg\n"
     ]
    },
    {
     "name": "stderr",
     "output_type": "stream",
     "text": [
      " 48%|████▊     | 1301/2737 [08:29<12:49,  1.87it/s]"
     ]
    },
    {
     "name": "stdout",
     "output_type": "stream",
     "text": [
      "../input/painting-vs-photograph-classification-dataset/Raw Data/photos/c5c5860540f50a698ad12233c1488af57ebb778a.jpg\n"
     ]
    },
    {
     "name": "stderr",
     "output_type": "stream",
     "text": [
      " 48%|████▊     | 1302/2737 [08:29<10:56,  2.19it/s]"
     ]
    },
    {
     "name": "stdout",
     "output_type": "stream",
     "text": [
      "../input/painting-vs-photograph-classification-dataset/Raw Data/painting/52cded4304cf577909bcc64d61e2fd8e1f94de31.jpg\n"
     ]
    },
    {
     "name": "stderr",
     "output_type": "stream",
     "text": [
      " 48%|████▊     | 1303/2737 [08:30<11:28,  2.08it/s]"
     ]
    },
    {
     "name": "stdout",
     "output_type": "stream",
     "text": [
      "../input/painting-vs-photograph-classification-dataset/Raw Data/photos/8571a2e5ac7a5603c1cf57e5016fa710a2303f39.jpg\n"
     ]
    },
    {
     "name": "stderr",
     "output_type": "stream",
     "text": [
      " 48%|████▊     | 1304/2737 [08:30<10:05,  2.36it/s]"
     ]
    },
    {
     "name": "stdout",
     "output_type": "stream",
     "text": [
      "../input/painting-vs-photograph-classification-dataset/Raw Data/photos/391a98087218eb5086a9ba77a85accbafce885ba.jpg\n"
     ]
    },
    {
     "name": "stderr",
     "output_type": "stream",
     "text": [
      " 48%|████▊     | 1305/2737 [08:30<08:46,  2.72it/s]"
     ]
    },
    {
     "name": "stdout",
     "output_type": "stream",
     "text": [
      "../input/painting-vs-photograph-classification-dataset/Raw Data/photos/750b4781943518ceb5648a0039a71a483a8e71ea.jpg\n"
     ]
    },
    {
     "name": "stderr",
     "output_type": "stream",
     "text": [
      " 48%|████▊     | 1306/2737 [08:30<07:40,  3.11it/s]"
     ]
    },
    {
     "name": "stdout",
     "output_type": "stream",
     "text": [
      "../input/painting-vs-photograph-classification-dataset/Raw Data/photos/611c7976fac571e94657f9b616ede1e58d112583.jpg\n"
     ]
    },
    {
     "name": "stderr",
     "output_type": "stream",
     "text": [
      " 48%|████▊     | 1307/2737 [08:31<06:49,  3.49it/s]"
     ]
    },
    {
     "name": "stdout",
     "output_type": "stream",
     "text": [
      "../input/painting-vs-photograph-classification-dataset/Raw Data/photos/d40469a1bd5d019a0a8c31bcbf071c548879d398.jpg\n"
     ]
    },
    {
     "name": "stderr",
     "output_type": "stream",
     "text": [
      " 48%|████▊     | 1308/2737 [08:31<06:30,  3.65it/s]"
     ]
    },
    {
     "name": "stdout",
     "output_type": "stream",
     "text": [
      "../input/painting-vs-photograph-classification-dataset/Raw Data/photos/dc5d77765ed4f7625ecba573dd627f216707735b.jpg\n"
     ]
    },
    {
     "name": "stderr",
     "output_type": "stream",
     "text": [
      " 48%|████▊     | 1309/2737 [08:31<06:19,  3.76it/s]"
     ]
    },
    {
     "name": "stdout",
     "output_type": "stream",
     "text": [
      "../input/painting-vs-photograph-classification-dataset/Raw Data/painting/1e151fc58063a7e1ada4b0afe1952c2d0abdbfb8.jpg\n"
     ]
    },
    {
     "name": "stderr",
     "output_type": "stream",
     "text": [
      " 48%|████▊     | 1310/2737 [08:32<10:29,  2.27it/s]"
     ]
    },
    {
     "name": "stdout",
     "output_type": "stream",
     "text": [
      "../input/painting-vs-photograph-classification-dataset/Raw Data/photos/2164c7d3fda1f9f7ac6851e43f1eb56af23b2ec1.jpg\n"
     ]
    },
    {
     "name": "stderr",
     "output_type": "stream",
     "text": [
      " 48%|████▊     | 1311/2737 [08:32<09:00,  2.64it/s]"
     ]
    },
    {
     "name": "stdout",
     "output_type": "stream",
     "text": [
      "../input/painting-vs-photograph-classification-dataset/Raw Data/painting/0ed523e984fd09a318163e751d6bda57ab646da5.jpg\n"
     ]
    },
    {
     "name": "stderr",
     "output_type": "stream",
     "text": [
      " 48%|████▊     | 1312/2737 [08:33<11:50,  2.01it/s]"
     ]
    },
    {
     "name": "stdout",
     "output_type": "stream",
     "text": [
      "../input/painting-vs-photograph-classification-dataset/Raw Data/painting/f04e3da7aae68f0e2b8f88b68de25bd648be0469.jpg\n"
     ]
    },
    {
     "name": "stderr",
     "output_type": "stream",
     "text": [
      " 48%|████▊     | 1313/2737 [08:34<14:30,  1.63it/s]"
     ]
    },
    {
     "name": "stdout",
     "output_type": "stream",
     "text": [
      "../input/painting-vs-photograph-classification-dataset/Raw Data/painting/c009ebedcf4e1cfc50ea880ed2ef8971e56d75f1.jpg\n"
     ]
    },
    {
     "name": "stderr",
     "output_type": "stream",
     "text": [
      " 48%|████▊     | 1314/2737 [08:35<15:49,  1.50it/s]"
     ]
    },
    {
     "name": "stdout",
     "output_type": "stream",
     "text": [
      "../input/painting-vs-photograph-classification-dataset/Raw Data/photos/f6617493f56a8b68feb55f7123010bdf6e545591.jpg\n"
     ]
    },
    {
     "name": "stderr",
     "output_type": "stream",
     "text": [
      " 48%|████▊     | 1315/2737 [08:35<12:42,  1.87it/s]"
     ]
    },
    {
     "name": "stdout",
     "output_type": "stream",
     "text": [
      "../input/painting-vs-photograph-classification-dataset/Raw Data/photos/36207b028e4f23570fa7507f22591c66d9c8ffda.jpg\n"
     ]
    },
    {
     "name": "stderr",
     "output_type": "stream",
     "text": [
      " 48%|████▊     | 1316/2737 [08:35<10:23,  2.28it/s]"
     ]
    },
    {
     "name": "stdout",
     "output_type": "stream",
     "text": [
      "../input/painting-vs-photograph-classification-dataset/Raw Data/painting/a6d99ffe8364527e1c720a918164a97dd532cfe5.jpg\n"
     ]
    },
    {
     "name": "stderr",
     "output_type": "stream",
     "text": [
      " 48%|████▊     | 1317/2737 [08:36<13:24,  1.77it/s]"
     ]
    },
    {
     "name": "stdout",
     "output_type": "stream",
     "text": [
      "../input/painting-vs-photograph-classification-dataset/Raw Data/photos/01110057f1c69b31545867b92a95418fab5a489f.jpg\n"
     ]
    },
    {
     "name": "stderr",
     "output_type": "stream",
     "text": [
      " 48%|████▊     | 1318/2737 [08:36<11:06,  2.13it/s]"
     ]
    },
    {
     "name": "stdout",
     "output_type": "stream",
     "text": [
      "../input/painting-vs-photograph-classification-dataset/Raw Data/photos/c7ee486dff3f9cc50e5d93fcbf42424a448085a5.jpg\n"
     ]
    },
    {
     "name": "stderr",
     "output_type": "stream",
     "text": [
      " 48%|████▊     | 1319/2737 [08:36<09:29,  2.49it/s]"
     ]
    },
    {
     "name": "stdout",
     "output_type": "stream",
     "text": [
      "../input/painting-vs-photograph-classification-dataset/Raw Data/photos/ce6434af4207311fe4f95e375fa6af2082a51210.jpg\n"
     ]
    },
    {
     "name": "stderr",
     "output_type": "stream",
     "text": [
      " 48%|████▊     | 1320/2737 [08:37<08:37,  2.74it/s]"
     ]
    },
    {
     "name": "stdout",
     "output_type": "stream",
     "text": [
      "../input/painting-vs-photograph-classification-dataset/Raw Data/painting/f7589113fcd1f460b0de48383e4f599cafe4e5e9.jpg\n"
     ]
    },
    {
     "name": "stderr",
     "output_type": "stream",
     "text": [
      " 48%|████▊     | 1321/2737 [08:37<11:08,  2.12it/s]"
     ]
    },
    {
     "name": "stdout",
     "output_type": "stream",
     "text": [
      "../input/painting-vs-photograph-classification-dataset/Raw Data/painting/f846ad835fe0ada2e59f37ac4ade8b424037af91.jpg\n"
     ]
    },
    {
     "name": "stderr",
     "output_type": "stream",
     "text": [
      " 48%|████▊     | 1322/2737 [08:38<13:31,  1.74it/s]"
     ]
    },
    {
     "name": "stdout",
     "output_type": "stream",
     "text": [
      "../input/painting-vs-photograph-classification-dataset/Raw Data/photos/fe1a72309c4f6c8126bdf5f942cdcf6034097784.jpg\n"
     ]
    },
    {
     "name": "stderr",
     "output_type": "stream",
     "text": [
      " 48%|████▊     | 1323/2737 [08:38<11:08,  2.11it/s]"
     ]
    },
    {
     "name": "stdout",
     "output_type": "stream",
     "text": [
      "../input/painting-vs-photograph-classification-dataset/Raw Data/photos/e35a746e10f8c057ac214ca857655af021b41f21.jpg\n"
     ]
    },
    {
     "name": "stderr",
     "output_type": "stream",
     "text": [
      " 48%|████▊     | 1324/2737 [08:39<10:17,  2.29it/s]"
     ]
    },
    {
     "name": "stdout",
     "output_type": "stream",
     "text": [
      "../input/painting-vs-photograph-classification-dataset/Raw Data/photos/963eee6681a55ace3becb172eb9744ea091ea87a.jpg\n"
     ]
    },
    {
     "name": "stderr",
     "output_type": "stream",
     "text": [
      " 48%|████▊     | 1325/2737 [08:39<08:50,  2.66it/s]"
     ]
    },
    {
     "name": "stdout",
     "output_type": "stream",
     "text": [
      "../input/painting-vs-photograph-classification-dataset/Raw Data/painting/9bede921a2578f050b23d20da17199573e217fdc.jpg\n"
     ]
    },
    {
     "name": "stderr",
     "output_type": "stream",
     "text": [
      " 48%|████▊     | 1326/2737 [08:40<11:39,  2.02it/s]"
     ]
    },
    {
     "name": "stdout",
     "output_type": "stream",
     "text": [
      "../input/painting-vs-photograph-classification-dataset/Raw Data/photos/e6dd8572f0c214366d6dacf2a59fd98b9541b16b.jpg\n"
     ]
    },
    {
     "name": "stderr",
     "output_type": "stream",
     "text": [
      " 48%|████▊     | 1327/2737 [08:40<10:03,  2.34it/s]"
     ]
    },
    {
     "name": "stdout",
     "output_type": "stream",
     "text": [
      "../input/painting-vs-photograph-classification-dataset/Raw Data/painting/258bc0cdcba154892c868942fb7bda4227139c37.jpg\n"
     ]
    },
    {
     "name": "stderr",
     "output_type": "stream",
     "text": [
      " 49%|████▊     | 1328/2737 [08:41<14:35,  1.61it/s]"
     ]
    },
    {
     "name": "stdout",
     "output_type": "stream",
     "text": [
      "../input/painting-vs-photograph-classification-dataset/Raw Data/photos/9a5b5c2833929990520063b0147dc2a5172124e4.jpg\n"
     ]
    },
    {
     "name": "stderr",
     "output_type": "stream",
     "text": [
      " 49%|████▊     | 1330/2737 [08:42<09:26,  2.48it/s]"
     ]
    },
    {
     "name": "stdout",
     "output_type": "stream",
     "text": [
      "../input/painting-vs-photograph-classification-dataset/Raw Data/photos/fc8b62c110a0a87bccdc36132915132cd4a9f29a.jpg\n",
      "../input/painting-vs-photograph-classification-dataset/Raw Data/photos/55c5573396a403a43251abd2a76a4d4555e96341.jpg\n"
     ]
    },
    {
     "name": "stderr",
     "output_type": "stream",
     "text": [
      " 49%|████▊     | 1331/2737 [08:42<08:07,  2.88it/s]"
     ]
    },
    {
     "name": "stdout",
     "output_type": "stream",
     "text": [
      "../input/painting-vs-photograph-classification-dataset/Raw Data/photos/b7ae19bff65238fa57065cb5513282e97ff4d94a.jpg\n"
     ]
    },
    {
     "name": "stderr",
     "output_type": "stream",
     "text": [
      " 49%|████▊     | 1332/2737 [08:42<07:30,  3.12it/s]"
     ]
    },
    {
     "name": "stdout",
     "output_type": "stream",
     "text": [
      "../input/painting-vs-photograph-classification-dataset/Raw Data/painting/500b06e3927f0bd6435ea91359e61d33369c6df7.jpg\n"
     ]
    },
    {
     "name": "stderr",
     "output_type": "stream",
     "text": [
      " 49%|████▊     | 1333/2737 [08:43<10:38,  2.20it/s]"
     ]
    },
    {
     "name": "stdout",
     "output_type": "stream",
     "text": [
      "../input/painting-vs-photograph-classification-dataset/Raw Data/photos/49eb531a67078811f6ed41c5dc74ed6de16f6023.jpg\n"
     ]
    },
    {
     "name": "stderr",
     "output_type": "stream",
     "text": [
      " 49%|████▊     | 1334/2737 [08:43<09:07,  2.56it/s]"
     ]
    },
    {
     "name": "stdout",
     "output_type": "stream",
     "text": [
      "../input/painting-vs-photograph-classification-dataset/Raw Data/painting/e64caf3e346c4873307d802b9ac0c8505b797ac0.jpg\n"
     ]
    },
    {
     "name": "stderr",
     "output_type": "stream",
     "text": [
      " 49%|████▉     | 1336/2737 [08:44<10:47,  2.16it/s]"
     ]
    },
    {
     "name": "stdout",
     "output_type": "stream",
     "text": [
      "../input/painting-vs-photograph-classification-dataset/Raw Data/photos/cfee4dc084bcd12c8352041db98d550ae30b31ef.jpg\n",
      "../input/painting-vs-photograph-classification-dataset/Raw Data/painting/e9357f0091702a0eaa60ba265c6e8550d034787a.jpg\n"
     ]
    },
    {
     "name": "stderr",
     "output_type": "stream",
     "text": [
      " 49%|████▉     | 1337/2737 [08:45<14:49,  1.57it/s]"
     ]
    },
    {
     "name": "stdout",
     "output_type": "stream",
     "text": [
      "../input/painting-vs-photograph-classification-dataset/Raw Data/photos/9a5a2b26f1d4093fce4d1a4bef720ea660d954be.jpg\n"
     ]
    },
    {
     "name": "stderr",
     "output_type": "stream",
     "text": [
      " 49%|████▉     | 1339/2737 [08:46<09:44,  2.39it/s]"
     ]
    },
    {
     "name": "stdout",
     "output_type": "stream",
     "text": [
      "../input/painting-vs-photograph-classification-dataset/Raw Data/photos/68f2cc0b05fe09f47e17b595473c001fd8a67a0b.jpg\n",
      "../input/painting-vs-photograph-classification-dataset/Raw Data/painting/eca6152e38e4789cf3a3d1dacce935c4e19efcd0.jpg\n"
     ]
    },
    {
     "name": "stderr",
     "output_type": "stream",
     "text": [
      " 49%|████▉     | 1340/2737 [08:47<14:31,  1.60it/s]"
     ]
    },
    {
     "name": "stdout",
     "output_type": "stream",
     "text": [
      "../input/painting-vs-photograph-classification-dataset/Raw Data/photos/ab37c4a341a6fe0b95206c5a4e3b3ffdc3d35f3d.jpg\n"
     ]
    },
    {
     "name": "stderr",
     "output_type": "stream",
     "text": [
      " 49%|████▉     | 1341/2737 [08:47<11:43,  1.99it/s]"
     ]
    },
    {
     "name": "stdout",
     "output_type": "stream",
     "text": [
      "../input/painting-vs-photograph-classification-dataset/Raw Data/photos/e3875760e63a29c9c13ae9b272507dcfb1a473d4.jpg\n"
     ]
    },
    {
     "name": "stderr",
     "output_type": "stream",
     "text": [
      " 49%|████▉     | 1342/2737 [08:47<10:31,  2.21it/s]"
     ]
    },
    {
     "name": "stdout",
     "output_type": "stream",
     "text": [
      "../input/painting-vs-photograph-classification-dataset/Raw Data/photos/55dd2cb74741cf11878026a46f69f6fa0b0f5716.jpg\n"
     ]
    },
    {
     "name": "stderr",
     "output_type": "stream",
     "text": [
      " 49%|████▉     | 1343/2737 [08:48<09:01,  2.58it/s]"
     ]
    },
    {
     "name": "stdout",
     "output_type": "stream",
     "text": [
      "../input/painting-vs-photograph-classification-dataset/Raw Data/photos/10479cfe1e01d654e0dbec3d5c578f5211575a61.jpg\n"
     ]
    },
    {
     "name": "stderr",
     "output_type": "stream",
     "text": [
      " 49%|████▉     | 1345/2737 [08:48<06:48,  3.41it/s]"
     ]
    },
    {
     "name": "stdout",
     "output_type": "stream",
     "text": [
      "../input/painting-vs-photograph-classification-dataset/Raw Data/photos/efd33e8ab19775a64235e86170cc493473047041.jpg\n",
      "../input/painting-vs-photograph-classification-dataset/Raw Data/photos/da1d240c5edc1c64e4c143620bc2a0ff34bf6a92.jpg\n"
     ]
    },
    {
     "name": "stderr",
     "output_type": "stream",
     "text": [
      " 49%|████▉     | 1346/2737 [08:48<06:19,  3.67it/s]"
     ]
    },
    {
     "name": "stdout",
     "output_type": "stream",
     "text": [
      "../input/painting-vs-photograph-classification-dataset/Raw Data/photos/ec7abc80afba8292064fed5f8822ae9cbd12b44d.jpg\n"
     ]
    },
    {
     "name": "stderr",
     "output_type": "stream",
     "text": [
      " 49%|████▉     | 1348/2737 [08:49<05:25,  4.27it/s]"
     ]
    },
    {
     "name": "stdout",
     "output_type": "stream",
     "text": [
      "../input/painting-vs-photograph-classification-dataset/Raw Data/photos/e374ba916d4b36f75d28be3ba61545ec4b27dfc7.jpg\n",
      "../input/painting-vs-photograph-classification-dataset/Raw Data/photos/99531e0a1e5e94f4dcd7195d75dbe3735ff139c9.jpg\n"
     ]
    },
    {
     "name": "stderr",
     "output_type": "stream",
     "text": [
      " 49%|████▉     | 1349/2737 [08:49<05:28,  4.22it/s]"
     ]
    },
    {
     "name": "stdout",
     "output_type": "stream",
     "text": [
      "../input/painting-vs-photograph-classification-dataset/Raw Data/photos/24977f8385e33dc1e0e6ab86503cc752d5dd8349.jpg\n"
     ]
    },
    {
     "name": "stderr",
     "output_type": "stream",
     "text": [
      " 49%|████▉     | 1350/2737 [08:49<05:26,  4.25it/s]"
     ]
    },
    {
     "name": "stdout",
     "output_type": "stream",
     "text": [
      "../input/painting-vs-photograph-classification-dataset/Raw Data/photos/ea329703c4b1d9e191def253a93641aa458aed02.jpg\n"
     ]
    },
    {
     "name": "stderr",
     "output_type": "stream",
     "text": [
      " 49%|████▉     | 1351/2737 [08:49<05:27,  4.23it/s]"
     ]
    },
    {
     "name": "stdout",
     "output_type": "stream",
     "text": [
      "../input/painting-vs-photograph-classification-dataset/Raw Data/photos/1791dc40fc0859fadf9be24f53ae4c47dacb7551.jpg\n"
     ]
    },
    {
     "name": "stderr",
     "output_type": "stream",
     "text": [
      " 49%|████▉     | 1352/2737 [08:50<05:27,  4.23it/s]"
     ]
    },
    {
     "name": "stdout",
     "output_type": "stream",
     "text": [
      "../input/painting-vs-photograph-classification-dataset/Raw Data/photos/feceffbe471b12411131f571b46f747a3385d131.jpg\n"
     ]
    },
    {
     "name": "stderr",
     "output_type": "stream",
     "text": [
      " 49%|████▉     | 1353/2737 [08:50<05:20,  4.32it/s]"
     ]
    },
    {
     "name": "stdout",
     "output_type": "stream",
     "text": [
      "../input/painting-vs-photograph-classification-dataset/Raw Data/photos/223e3976f233531c5053ea61390ee7cc552f6a32.jpg\n"
     ]
    },
    {
     "name": "stderr",
     "output_type": "stream",
     "text": [
      " 49%|████▉     | 1354/2737 [08:50<05:14,  4.39it/s]"
     ]
    },
    {
     "name": "stdout",
     "output_type": "stream",
     "text": [
      "../input/painting-vs-photograph-classification-dataset/Raw Data/painting/eecc6bfabdf0d2e2a5f69c4d0a33565352ebc326.jpg\n"
     ]
    },
    {
     "name": "stderr",
     "output_type": "stream",
     "text": [
      " 50%|████▉     | 1355/2737 [08:51<09:22,  2.46it/s]"
     ]
    },
    {
     "name": "stdout",
     "output_type": "stream",
     "text": [
      "../input/painting-vs-photograph-classification-dataset/Raw Data/photos/42430e67afdcf796878073432b994563ae67f8a2.jpg\n"
     ]
    },
    {
     "name": "stderr",
     "output_type": "stream",
     "text": [
      " 50%|████▉     | 1356/2737 [08:51<08:13,  2.80it/s]"
     ]
    },
    {
     "name": "stdout",
     "output_type": "stream",
     "text": [
      "../input/painting-vs-photograph-classification-dataset/Raw Data/photos/909b11e172f7bb65eaa9de3dfa535108cfc65f00.jpg\n"
     ]
    },
    {
     "name": "stderr",
     "output_type": "stream",
     "text": [
      " 50%|████▉     | 1357/2737 [08:51<07:23,  3.11it/s]"
     ]
    },
    {
     "name": "stdout",
     "output_type": "stream",
     "text": [
      "../input/painting-vs-photograph-classification-dataset/Raw Data/painting/efd6d3a859ac867fb67bdac212ae966b45de027f.jpg\n"
     ]
    },
    {
     "name": "stderr",
     "output_type": "stream",
     "text": [
      " 50%|████▉     | 1358/2737 [08:52<09:45,  2.36it/s]"
     ]
    },
    {
     "name": "stdout",
     "output_type": "stream",
     "text": [
      "../input/painting-vs-photograph-classification-dataset/Raw Data/photos/bbdb402a2003f287db97ea7d4e19e2a481e96ac6.jpg\n"
     ]
    },
    {
     "name": "stderr",
     "output_type": "stream",
     "text": [
      " 50%|████▉     | 1360/2737 [08:52<07:16,  3.16it/s]"
     ]
    },
    {
     "name": "stdout",
     "output_type": "stream",
     "text": [
      "../input/painting-vs-photograph-classification-dataset/Raw Data/photos/efd8954663d6d2506126a5f4f460dda64e0939cd.jpg\n",
      "../input/painting-vs-photograph-classification-dataset/Raw Data/photos/a33f0eaeb3e2deb64319a62c8dd99d52863bc398.jpg\n"
     ]
    },
    {
     "name": "stderr",
     "output_type": "stream",
     "text": [
      " 50%|████▉     | 1361/2737 [08:53<06:52,  3.34it/s]"
     ]
    },
    {
     "name": "stdout",
     "output_type": "stream",
     "text": [
      "../input/painting-vs-photograph-classification-dataset/Raw Data/photos/aa10976a9b58903688835592c3af3f64e0a62bce.jpg\n"
     ]
    },
    {
     "name": "stderr",
     "output_type": "stream",
     "text": [
      " 50%|████▉     | 1362/2737 [08:53<06:31,  3.51it/s]"
     ]
    },
    {
     "name": "stdout",
     "output_type": "stream",
     "text": [
      "../input/painting-vs-photograph-classification-dataset/Raw Data/photos/91a1d3e4d18e96c8ecb4c42c2661c98b71aadc48.jpg\n"
     ]
    },
    {
     "name": "stderr",
     "output_type": "stream",
     "text": [
      " 50%|████▉     | 1363/2737 [08:53<06:11,  3.69it/s]"
     ]
    },
    {
     "name": "stdout",
     "output_type": "stream",
     "text": [
      "../input/painting-vs-photograph-classification-dataset/Raw Data/photos/850625c1f09d7bfa176b8cdfdfe34abd49b48ad1.jpg\n"
     ]
    },
    {
     "name": "stderr",
     "output_type": "stream",
     "text": [
      " 50%|████▉     | 1364/2737 [08:53<05:54,  3.88it/s]"
     ]
    },
    {
     "name": "stdout",
     "output_type": "stream",
     "text": [
      "../input/painting-vs-photograph-classification-dataset/Raw Data/painting/ea3963301c2e360fd542473c7bfe120634c6f1f1.jpg\n"
     ]
    },
    {
     "name": "stderr",
     "output_type": "stream",
     "text": [
      " 50%|████▉     | 1365/2737 [08:54<08:24,  2.72it/s]"
     ]
    },
    {
     "name": "stdout",
     "output_type": "stream",
     "text": [
      "../input/painting-vs-photograph-classification-dataset/Raw Data/photos/c34a3b9ec41defdefe4780e741ad83343d894768.jpg\n"
     ]
    },
    {
     "name": "stderr",
     "output_type": "stream",
     "text": [
      " 50%|████▉     | 1366/2737 [08:54<07:30,  3.05it/s]"
     ]
    },
    {
     "name": "stdout",
     "output_type": "stream",
     "text": [
      "../input/painting-vs-photograph-classification-dataset/Raw Data/photos/541dae0e299e998e111cff71bdbf1cad74944ae5.jpg\n"
     ]
    },
    {
     "name": "stderr",
     "output_type": "stream",
     "text": [
      " 50%|████▉     | 1367/2737 [08:54<06:52,  3.32it/s]"
     ]
    },
    {
     "name": "stdout",
     "output_type": "stream",
     "text": [
      "../input/painting-vs-photograph-classification-dataset/Raw Data/painting/0342b2ce6539c8d8769e8c1da2d9b2680fd4082b.jpg\n"
     ]
    },
    {
     "name": "stderr",
     "output_type": "stream",
     "text": [
      " 50%|████▉     | 1368/2737 [08:56<12:12,  1.87it/s]"
     ]
    },
    {
     "name": "stdout",
     "output_type": "stream",
     "text": [
      "../input/painting-vs-photograph-classification-dataset/Raw Data/photos/a512221efc3e087587da87a1fb95ae4b1509a6b4.jpg\n"
     ]
    },
    {
     "name": "stderr",
     "output_type": "stream",
     "text": [
      " 50%|█████     | 1369/2737 [08:56<10:11,  2.24it/s]"
     ]
    },
    {
     "name": "stdout",
     "output_type": "stream",
     "text": [
      "../input/painting-vs-photograph-classification-dataset/Raw Data/painting/d9dc57bc673564caa8a936cc9cfbf9443db7dccf.jpg\n"
     ]
    },
    {
     "name": "stderr",
     "output_type": "stream",
     "text": [
      " 50%|█████     | 1370/2737 [08:57<13:58,  1.63it/s]"
     ]
    },
    {
     "name": "stdout",
     "output_type": "stream",
     "text": [
      "../input/painting-vs-photograph-classification-dataset/Raw Data/photos/fb9b84bddcd542c97d156c5d42a2410aa3db5e79.jpg\n"
     ]
    },
    {
     "name": "stderr",
     "output_type": "stream",
     "text": [
      " 50%|█████     | 1371/2737 [08:57<11:19,  2.01it/s]"
     ]
    },
    {
     "name": "stdout",
     "output_type": "stream",
     "text": [
      "../input/painting-vs-photograph-classification-dataset/Raw Data/photos/6630dc0eac27a9cc3ccb01af64640a64e57b1f6f.jpg\n"
     ]
    },
    {
     "name": "stderr",
     "output_type": "stream",
     "text": [
      " 50%|█████     | 1372/2737 [08:57<09:31,  2.39it/s]"
     ]
    },
    {
     "name": "stdout",
     "output_type": "stream",
     "text": [
      "../input/painting-vs-photograph-classification-dataset/Raw Data/painting/f3b3b50408365b7d548e2b18f98ce32df5a3fc7a.jpg\n"
     ]
    },
    {
     "name": "stderr",
     "output_type": "stream",
     "text": [
      " 50%|█████     | 1373/2737 [08:58<13:04,  1.74it/s]"
     ]
    },
    {
     "name": "stdout",
     "output_type": "stream",
     "text": [
      "../input/painting-vs-photograph-classification-dataset/Raw Data/photos/c4aa8eff2b8100dd47fd6c5a1954e3791d312706.jpg\n"
     ]
    },
    {
     "name": "stderr",
     "output_type": "stream",
     "text": [
      " 50%|█████     | 1374/2737 [08:59<11:20,  2.00it/s]"
     ]
    },
    {
     "name": "stdout",
     "output_type": "stream",
     "text": [
      "../input/painting-vs-photograph-classification-dataset/Raw Data/painting/cf2ca66d6952a0ebaf339c8815d69e4415d2f3b5.jpg\n"
     ]
    },
    {
     "name": "stderr",
     "output_type": "stream",
     "text": [
      " 50%|█████     | 1376/2737 [09:00<11:43,  1.94it/s]"
     ]
    },
    {
     "name": "stdout",
     "output_type": "stream",
     "text": [
      "../input/painting-vs-photograph-classification-dataset/Raw Data/photos/177b5e3829ae9bf38f592ebc341556e43bfb1acb.jpg\n",
      "../input/painting-vs-photograph-classification-dataset/Raw Data/photos/47dee32ff7394db20580a7a262b75f2f1fbe78fc.jpg\n"
     ]
    },
    {
     "name": "stderr",
     "output_type": "stream",
     "text": [
      " 50%|█████     | 1377/2737 [09:00<09:20,  2.43it/s]"
     ]
    },
    {
     "name": "stdout",
     "output_type": "stream",
     "text": [
      "../input/painting-vs-photograph-classification-dataset/Raw Data/photos/68b0248790be4ef49498d2e48ba603097ebdf608.jpg\n"
     ]
    },
    {
     "name": "stderr",
     "output_type": "stream",
     "text": [
      " 50%|█████     | 1378/2737 [09:00<08:31,  2.66it/s]"
     ]
    },
    {
     "name": "stdout",
     "output_type": "stream",
     "text": [
      "../input/painting-vs-photograph-classification-dataset/Raw Data/photos/081ebdc72c83b92684fb98c5f0ec20ccf060fcb3.jpg\n"
     ]
    },
    {
     "name": "stderr",
     "output_type": "stream",
     "text": [
      " 50%|█████     | 1380/2737 [09:01<06:24,  3.53it/s]"
     ]
    },
    {
     "name": "stdout",
     "output_type": "stream",
     "text": [
      "../input/painting-vs-photograph-classification-dataset/Raw Data/photos/42367bdb6ae96d4a650742ffb24d19ac3b48c5d9.jpg\n",
      "../input/painting-vs-photograph-classification-dataset/Raw Data/photos/fca8db1ee0dc2e2da5dfa001a2619c48dc2a58b8.jpg\n"
     ]
    },
    {
     "name": "stderr",
     "output_type": "stream",
     "text": [
      " 50%|█████     | 1381/2737 [09:01<05:42,  3.96it/s]"
     ]
    },
    {
     "name": "stdout",
     "output_type": "stream",
     "text": [
      "../input/painting-vs-photograph-classification-dataset/Raw Data/photos/a282c5b628694d90d6fbfc02c2fa5d7859f98f1f.jpg\n"
     ]
    },
    {
     "name": "stderr",
     "output_type": "stream",
     "text": [
      " 50%|█████     | 1382/2737 [09:01<05:33,  4.06it/s]"
     ]
    },
    {
     "name": "stdout",
     "output_type": "stream",
     "text": [
      "../input/painting-vs-photograph-classification-dataset/Raw Data/photos/f2b0243305b11a9150cd973eb1f421060ca1049f.jpg\n"
     ]
    },
    {
     "name": "stderr",
     "output_type": "stream",
     "text": [
      " 51%|█████     | 1383/2737 [09:01<05:26,  4.14it/s]"
     ]
    },
    {
     "name": "stdout",
     "output_type": "stream",
     "text": [
      "../input/painting-vs-photograph-classification-dataset/Raw Data/painting/3d97afeea4351d05713b55088be58eb853a0f2c3.jpg\n"
     ]
    },
    {
     "name": "stderr",
     "output_type": "stream",
     "text": [
      " 51%|█████     | 1385/2737 [09:02<07:59,  2.82it/s]"
     ]
    },
    {
     "name": "stdout",
     "output_type": "stream",
     "text": [
      "../input/painting-vs-photograph-classification-dataset/Raw Data/photos/840413e428f350125fa36e85c245c7e357c84057.jpg\n",
      "../input/painting-vs-photograph-classification-dataset/Raw Data/photos/292e54504172253d7ba324f907a28328827b60f7.jpg\n"
     ]
    },
    {
     "name": "stderr",
     "output_type": "stream",
     "text": [
      " 51%|█████     | 1386/2737 [09:02<07:00,  3.22it/s]"
     ]
    },
    {
     "name": "stdout",
     "output_type": "stream",
     "text": [
      "../input/painting-vs-photograph-classification-dataset/Raw Data/photos/97b65e062f0145b2ec1da47edb94226ae2571612.jpg\n"
     ]
    },
    {
     "name": "stderr",
     "output_type": "stream",
     "text": [
      " 51%|█████     | 1387/2737 [09:03<06:24,  3.51it/s]"
     ]
    },
    {
     "name": "stdout",
     "output_type": "stream",
     "text": [
      "../input/painting-vs-photograph-classification-dataset/Raw Data/photos/86e96e084a6fdc13a68c770c7f2308ce426a6eae.jpg\n"
     ]
    },
    {
     "name": "stderr",
     "output_type": "stream",
     "text": [
      " 51%|█████     | 1388/2737 [09:03<06:07,  3.67it/s]"
     ]
    },
    {
     "name": "stdout",
     "output_type": "stream",
     "text": [
      "../input/painting-vs-photograph-classification-dataset/Raw Data/photos/ab6677d3f508ff46f7f954229ad92f5e152a39e9.jpg\n"
     ]
    },
    {
     "name": "stderr",
     "output_type": "stream",
     "text": [
      " 51%|█████     | 1389/2737 [09:03<05:57,  3.77it/s]"
     ]
    },
    {
     "name": "stdout",
     "output_type": "stream",
     "text": [
      "../input/painting-vs-photograph-classification-dataset/Raw Data/photos/cb6282f93853abcd9e72445585a25d654edc17ea.jpg\n"
     ]
    },
    {
     "name": "stderr",
     "output_type": "stream",
     "text": [
      " 51%|█████     | 1390/2737 [09:03<05:44,  3.91it/s]"
     ]
    },
    {
     "name": "stdout",
     "output_type": "stream",
     "text": [
      "../input/painting-vs-photograph-classification-dataset/Raw Data/photos/5803d96d1f58be93f1a0b330931d476b9fbd0e26.jpg\n"
     ]
    },
    {
     "name": "stderr",
     "output_type": "stream",
     "text": [
      " 51%|█████     | 1392/2737 [09:04<05:11,  4.32it/s]"
     ]
    },
    {
     "name": "stdout",
     "output_type": "stream",
     "text": [
      "../input/painting-vs-photograph-classification-dataset/Raw Data/photos/903b0f2bba969a4baca0d6ef1c5af73fe24c0831.jpg\n",
      "../input/painting-vs-photograph-classification-dataset/Raw Data/painting/fa0493a06486a183455d27e482bc4d2eb5908966.jpg\n"
     ]
    },
    {
     "name": "stderr",
     "output_type": "stream",
     "text": [
      " 51%|█████     | 1393/2737 [09:05<08:54,  2.52it/s]"
     ]
    },
    {
     "name": "stdout",
     "output_type": "stream",
     "text": [
      "../input/painting-vs-photograph-classification-dataset/Raw Data/photos/2207360d9ef4da9cb49790f1f502ce9738e4780e.jpg\n"
     ]
    },
    {
     "name": "stderr",
     "output_type": "stream",
     "text": [
      " 51%|█████     | 1394/2737 [09:05<07:48,  2.87it/s]"
     ]
    },
    {
     "name": "stdout",
     "output_type": "stream",
     "text": [
      "../input/painting-vs-photograph-classification-dataset/Raw Data/painting/f7b025a4a6366f98a1197978abfa8ce9ffc1cbd8.jpg\n"
     ]
    },
    {
     "name": "stderr",
     "output_type": "stream",
     "text": [
      " 51%|█████     | 1395/2737 [09:06<10:05,  2.22it/s]"
     ]
    },
    {
     "name": "stdout",
     "output_type": "stream",
     "text": [
      "../input/painting-vs-photograph-classification-dataset/Raw Data/painting/dc615ce2b116dfb1b042fa098f2e47cb9583f22b.jpg\n"
     ]
    },
    {
     "name": "stderr",
     "output_type": "stream",
     "text": [
      " 51%|█████     | 1396/2737 [09:06<09:57,  2.24it/s]"
     ]
    },
    {
     "name": "stdout",
     "output_type": "stream",
     "text": [
      "../input/painting-vs-photograph-classification-dataset/Raw Data/painting/4f632668f8459065490340c21b12c459a93d2c09.jpg\n"
     ]
    },
    {
     "name": "stderr",
     "output_type": "stream",
     "text": [
      " 51%|█████     | 1397/2737 [09:07<11:38,  1.92it/s]"
     ]
    },
    {
     "name": "stdout",
     "output_type": "stream",
     "text": [
      "../input/painting-vs-photograph-classification-dataset/Raw Data/photos/337ace8e1e83d22c172ae6cfd8aab13774ffebeb.jpg\n"
     ]
    },
    {
     "name": "stderr",
     "output_type": "stream",
     "text": [
      " 51%|█████     | 1398/2737 [09:07<09:41,  2.30it/s]"
     ]
    },
    {
     "name": "stdout",
     "output_type": "stream",
     "text": [
      "../input/painting-vs-photograph-classification-dataset/Raw Data/photos/7ef000c4ef4cbe6b8d77ae846348a23d74c13b04.jpg\n"
     ]
    },
    {
     "name": "stderr",
     "output_type": "stream",
     "text": [
      " 51%|█████     | 1399/2737 [09:07<08:58,  2.48it/s]"
     ]
    },
    {
     "name": "stdout",
     "output_type": "stream",
     "text": [
      "../input/painting-vs-photograph-classification-dataset/Raw Data/photos/fee8ce7b75ced2e820c310dc77a15b847e597606.jpg\n"
     ]
    },
    {
     "name": "stderr",
     "output_type": "stream",
     "text": [
      " 51%|█████     | 1400/2737 [09:07<07:47,  2.86it/s]"
     ]
    },
    {
     "name": "stdout",
     "output_type": "stream",
     "text": [
      "../input/painting-vs-photograph-classification-dataset/Raw Data/photos/c5a8cad93c75f5d40101779508fea7586dbcf195.jpg\n"
     ]
    },
    {
     "name": "stderr",
     "output_type": "stream",
     "text": [
      " 51%|█████     | 1401/2737 [09:08<06:59,  3.18it/s]"
     ]
    },
    {
     "name": "stdout",
     "output_type": "stream",
     "text": [
      "../input/painting-vs-photograph-classification-dataset/Raw Data/painting/f57f14078267f757b57d90d38ffc14a7790388de.jpg\n"
     ]
    },
    {
     "name": "stderr",
     "output_type": "stream",
     "text": [
      " 51%|█████     | 1402/2737 [09:08<09:01,  2.47it/s]"
     ]
    },
    {
     "name": "stdout",
     "output_type": "stream",
     "text": [
      "../input/painting-vs-photograph-classification-dataset/Raw Data/painting/dd2c64d7fa3ae78c2f81964c625bd65733e51c0b.jpg\n"
     ]
    },
    {
     "name": "stderr",
     "output_type": "stream",
     "text": [
      " 51%|█████▏    | 1403/2737 [09:09<13:19,  1.67it/s]"
     ]
    },
    {
     "name": "stdout",
     "output_type": "stream",
     "text": [
      "../input/painting-vs-photograph-classification-dataset/Raw Data/photos/d795a54f5d54f56b22bba30de3e3c2477f2e0672.jpg\n"
     ]
    },
    {
     "name": "stderr",
     "output_type": "stream",
     "text": [
      " 51%|█████▏    | 1404/2737 [09:10<10:53,  2.04it/s]"
     ]
    },
    {
     "name": "stdout",
     "output_type": "stream",
     "text": [
      "../input/painting-vs-photograph-classification-dataset/Raw Data/photos/d0143f4a9baf2e5115bcf6445f868946faf41fe7.jpg\n"
     ]
    },
    {
     "name": "stderr",
     "output_type": "stream",
     "text": [
      " 51%|█████▏    | 1406/2737 [09:10<07:39,  2.90it/s]"
     ]
    },
    {
     "name": "stdout",
     "output_type": "stream",
     "text": [
      "../input/painting-vs-photograph-classification-dataset/Raw Data/photos/fc72ce7c4d7210e3776302cd6f8343dcd7434bd0.jpg\n",
      "../input/painting-vs-photograph-classification-dataset/Raw Data/painting/eb201c5e4cdeb23c1db11fd8fffc00297cd78d8b.jpg\n"
     ]
    },
    {
     "name": "stderr",
     "output_type": "stream",
     "text": [
      " 51%|█████▏    | 1407/2737 [09:11<09:35,  2.31it/s]"
     ]
    },
    {
     "name": "stdout",
     "output_type": "stream",
     "text": [
      "../input/painting-vs-photograph-classification-dataset/Raw Data/painting/2f6f50afa74ae782b3464c2ba98fb319826632f8.jpg\n"
     ]
    },
    {
     "name": "stderr",
     "output_type": "stream",
     "text": [
      " 51%|█████▏    | 1408/2737 [09:11<10:45,  2.06it/s]"
     ]
    },
    {
     "name": "stdout",
     "output_type": "stream",
     "text": [
      "../input/painting-vs-photograph-classification-dataset/Raw Data/photos/ce8c1c1cc370279e91c5f712f51be83f009e438c.jpg\n"
     ]
    },
    {
     "name": "stderr",
     "output_type": "stream",
     "text": [
      " 51%|█████▏    | 1409/2737 [09:12<09:05,  2.44it/s]"
     ]
    },
    {
     "name": "stdout",
     "output_type": "stream",
     "text": [
      "../input/painting-vs-photograph-classification-dataset/Raw Data/photos/dd0f2805fb04515aa0b03966557245539d7ae435.jpg\n"
     ]
    },
    {
     "name": "stderr",
     "output_type": "stream",
     "text": [
      " 52%|█████▏    | 1411/2737 [09:12<06:36,  3.35it/s]"
     ]
    },
    {
     "name": "stdout",
     "output_type": "stream",
     "text": [
      "../input/painting-vs-photograph-classification-dataset/Raw Data/photos/51e76fbad5c577f350ffdcabb158795d50304b92.jpg\n",
      "../input/painting-vs-photograph-classification-dataset/Raw Data/photos/992d10f36b947fa821d64181636858fa16509d08.jpg\n"
     ]
    },
    {
     "name": "stderr",
     "output_type": "stream",
     "text": [
      " 52%|█████▏    | 1412/2737 [09:12<06:33,  3.36it/s]"
     ]
    },
    {
     "name": "stdout",
     "output_type": "stream",
     "text": [
      "../input/painting-vs-photograph-classification-dataset/Raw Data/painting/e78b3ae70f1ab1e2a4a4952bfcbbbbac61066ceb.jpg\n"
     ]
    },
    {
     "name": "stderr",
     "output_type": "stream",
     "text": [
      " 52%|█████▏    | 1413/2737 [09:13<09:31,  2.32it/s]"
     ]
    },
    {
     "name": "stdout",
     "output_type": "stream",
     "text": [
      "../input/painting-vs-photograph-classification-dataset/Raw Data/photos/ec705d9db56f339dda2b5964befa0f4651596a93.jpg\n"
     ]
    },
    {
     "name": "stderr",
     "output_type": "stream",
     "text": [
      " 52%|█████▏    | 1414/2737 [09:13<08:02,  2.74it/s]"
     ]
    },
    {
     "name": "stdout",
     "output_type": "stream",
     "text": [
      "../input/painting-vs-photograph-classification-dataset/Raw Data/photos/54549c55b5318f4df89ca5a48a6f40983920ad39.jpg\n"
     ]
    },
    {
     "name": "stderr",
     "output_type": "stream",
     "text": [
      " 52%|█████▏    | 1415/2737 [09:13<07:31,  2.93it/s]"
     ]
    },
    {
     "name": "stdout",
     "output_type": "stream",
     "text": [
      "../input/painting-vs-photograph-classification-dataset/Raw Data/photos/5698af4b2f5a9af49235b951580b685b8fa55105.jpg\n"
     ]
    },
    {
     "name": "stderr",
     "output_type": "stream",
     "text": [
      " 52%|█████▏    | 1416/2737 [09:14<07:37,  2.89it/s]"
     ]
    },
    {
     "name": "stdout",
     "output_type": "stream",
     "text": [
      "../input/painting-vs-photograph-classification-dataset/Raw Data/photos/e5e9326b5610fb359c9116eb57aab4dede095fe6.jpg\n"
     ]
    },
    {
     "name": "stderr",
     "output_type": "stream",
     "text": [
      " 52%|█████▏    | 1417/2737 [09:14<07:07,  3.09it/s]"
     ]
    },
    {
     "name": "stdout",
     "output_type": "stream",
     "text": [
      "../input/painting-vs-photograph-classification-dataset/Raw Data/photos/d10f8acbc7b334bf32b0ef80cc6e1c77e3d9c942.jpg\n"
     ]
    },
    {
     "name": "stderr",
     "output_type": "stream",
     "text": [
      " 52%|█████▏    | 1418/2737 [09:14<07:16,  3.02it/s]"
     ]
    },
    {
     "name": "stdout",
     "output_type": "stream",
     "text": [
      "../input/painting-vs-photograph-classification-dataset/Raw Data/painting/0ed485f6367c1e10245d1c14f0300f1a84afdeca.jpg\n"
     ]
    },
    {
     "name": "stderr",
     "output_type": "stream",
     "text": [
      " 52%|█████▏    | 1419/2737 [09:15<09:47,  2.24it/s]"
     ]
    },
    {
     "name": "stdout",
     "output_type": "stream",
     "text": [
      "../input/painting-vs-photograph-classification-dataset/Raw Data/painting/d9da82f3cfe14e0e71e799799104cbf6a57b9002.jpg\n"
     ]
    },
    {
     "name": "stderr",
     "output_type": "stream",
     "text": [
      " 52%|█████▏    | 1420/2737 [09:16<10:35,  2.07it/s]"
     ]
    },
    {
     "name": "stdout",
     "output_type": "stream",
     "text": [
      "../input/painting-vs-photograph-classification-dataset/Raw Data/painting/5d8c092ba44155d1cff1539f785e65e77d786f5a.jpg\n"
     ]
    },
    {
     "name": "stderr",
     "output_type": "stream",
     "text": [
      " 52%|█████▏    | 1422/2737 [09:17<10:08,  2.16it/s]"
     ]
    },
    {
     "name": "stdout",
     "output_type": "stream",
     "text": [
      "../input/painting-vs-photograph-classification-dataset/Raw Data/photos/050af50509a1e7a7c2a8802a7c0916cd5c2a626d.jpg\n",
      "../input/painting-vs-photograph-classification-dataset/Raw Data/photos/f9b93091cc0617f1df3398048fea1a2b49722ff6.jpg\n"
     ]
    },
    {
     "name": "stderr",
     "output_type": "stream",
     "text": [
      " 52%|█████▏    | 1423/2737 [09:17<08:37,  2.54it/s]"
     ]
    },
    {
     "name": "stdout",
     "output_type": "stream",
     "text": [
      "../input/painting-vs-photograph-classification-dataset/Raw Data/painting/5598d2dde4f158ddcfd69e6251515e542c16cdc1.jpg\n"
     ]
    },
    {
     "name": "stderr",
     "output_type": "stream",
     "text": [
      " 52%|█████▏    | 1424/2737 [09:17<09:27,  2.32it/s]"
     ]
    },
    {
     "name": "stdout",
     "output_type": "stream",
     "text": [
      "../input/painting-vs-photograph-classification-dataset/Raw Data/photos/78cd477efacda272f354aac7ea58f74368d056d6.jpg\n"
     ]
    },
    {
     "name": "stderr",
     "output_type": "stream",
     "text": [
      " 52%|█████▏    | 1425/2737 [09:18<09:01,  2.42it/s]"
     ]
    },
    {
     "name": "stdout",
     "output_type": "stream",
     "text": [
      "../input/painting-vs-photograph-classification-dataset/Raw Data/photos/741ec3673d527e802e9bc2a27328c5e48eca34dd.jpg\n"
     ]
    },
    {
     "name": "stderr",
     "output_type": "stream",
     "text": [
      " 52%|█████▏    | 1426/2737 [09:18<07:45,  2.82it/s]"
     ]
    },
    {
     "name": "stdout",
     "output_type": "stream",
     "text": [
      "../input/painting-vs-photograph-classification-dataset/Raw Data/painting/fa9efc23519235d9cc4446ea6747f41ef78e5710.jpg\n"
     ]
    },
    {
     "name": "stderr",
     "output_type": "stream",
     "text": [
      " 52%|█████▏    | 1427/2737 [09:19<10:05,  2.16it/s]"
     ]
    },
    {
     "name": "stdout",
     "output_type": "stream",
     "text": [
      "../input/painting-vs-photograph-classification-dataset/Raw Data/photos/c9f9371b02e336edd7450ce5b1f7b26710e0e71b.jpg\n"
     ]
    },
    {
     "name": "stderr",
     "output_type": "stream",
     "text": [
      " 52%|█████▏    | 1429/2737 [09:19<07:09,  3.04it/s]"
     ]
    },
    {
     "name": "stdout",
     "output_type": "stream",
     "text": [
      "../input/painting-vs-photograph-classification-dataset/Raw Data/photos/892fc310018f70853e17faf594a3587d124fec22.jpg\n",
      "../input/painting-vs-photograph-classification-dataset/Raw Data/painting/e53f5b75b7a7a22121e2950c56cf73881896d8c7.jpg\n"
     ]
    },
    {
     "name": "stderr",
     "output_type": "stream",
     "text": [
      " 52%|█████▏    | 1431/2737 [09:20<07:42,  2.83it/s]"
     ]
    },
    {
     "name": "stdout",
     "output_type": "stream",
     "text": [
      "../input/painting-vs-photograph-classification-dataset/Raw Data/photos/d205192c39b52069cd65bfde1e38d687b318c615.jpg\n",
      "../input/painting-vs-photograph-classification-dataset/Raw Data/photos/539c82cb430517494d16170dcdf8f0ec0c03bc97.jpg\n"
     ]
    },
    {
     "name": "stderr",
     "output_type": "stream",
     "text": [
      " 52%|█████▏    | 1432/2737 [09:20<06:54,  3.15it/s]"
     ]
    },
    {
     "name": "stdout",
     "output_type": "stream",
     "text": [
      "../input/painting-vs-photograph-classification-dataset/Raw Data/photos/360b17d513f07aa166307c85628a12bec15f432e.jpg\n"
     ]
    },
    {
     "name": "stderr",
     "output_type": "stream",
     "text": [
      " 52%|█████▏    | 1433/2737 [09:20<06:09,  3.53it/s]"
     ]
    },
    {
     "name": "stdout",
     "output_type": "stream",
     "text": [
      "../input/painting-vs-photograph-classification-dataset/Raw Data/photos/d849a1db0e233735c5b6251299069aaf6c945261.jpg\n"
     ]
    },
    {
     "name": "stderr",
     "output_type": "stream",
     "text": [
      " 52%|█████▏    | 1434/2737 [09:21<05:41,  3.81it/s]"
     ]
    },
    {
     "name": "stdout",
     "output_type": "stream",
     "text": [
      "../input/painting-vs-photograph-classification-dataset/Raw Data/photos/64504f78ccbcbe4968dbf1355702e898bc3b0850.jpg\n"
     ]
    },
    {
     "name": "stderr",
     "output_type": "stream",
     "text": [
      " 52%|█████▏    | 1435/2737 [09:21<06:13,  3.48it/s]"
     ]
    },
    {
     "name": "stdout",
     "output_type": "stream",
     "text": [
      "../input/painting-vs-photograph-classification-dataset/Raw Data/photos/e40bfb2dcdd4a19c5f2b2aa4d5424e832a22aae7.jpg\n"
     ]
    },
    {
     "name": "stderr",
     "output_type": "stream",
     "text": [
      " 52%|█████▏    | 1436/2737 [09:21<05:46,  3.76it/s]"
     ]
    },
    {
     "name": "stdout",
     "output_type": "stream",
     "text": [
      "../input/painting-vs-photograph-classification-dataset/Raw Data/photos/963151b64e7cc786156a518231c38b08f06d4acf.jpg\n"
     ]
    },
    {
     "name": "stderr",
     "output_type": "stream",
     "text": [
      " 53%|█████▎    | 1437/2737 [09:21<05:31,  3.92it/s]"
     ]
    },
    {
     "name": "stdout",
     "output_type": "stream",
     "text": [
      "../input/painting-vs-photograph-classification-dataset/Raw Data/photos/df587adfdeeea7e3772fd3f1f85068fd75fc9532.jpg\n"
     ]
    },
    {
     "name": "stderr",
     "output_type": "stream",
     "text": [
      " 53%|█████▎    | 1438/2737 [09:22<05:11,  4.17it/s]"
     ]
    },
    {
     "name": "stdout",
     "output_type": "stream",
     "text": [
      "../input/painting-vs-photograph-classification-dataset/Raw Data/photos/7e9ed0b1118de6f0dbaa6f5f997d6f5631904a2b.jpg\n"
     ]
    },
    {
     "name": "stderr",
     "output_type": "stream",
     "text": [
      " 53%|█████▎    | 1439/2737 [09:22<05:16,  4.10it/s]"
     ]
    },
    {
     "name": "stdout",
     "output_type": "stream",
     "text": [
      "../input/painting-vs-photograph-classification-dataset/Raw Data/photos/b9602219a356fa28fc1feb2e884bd871a00073f4.jpg\n"
     ]
    },
    {
     "name": "stderr",
     "output_type": "stream",
     "text": [
      " 53%|█████▎    | 1440/2737 [09:22<05:48,  3.73it/s]"
     ]
    },
    {
     "name": "stdout",
     "output_type": "stream",
     "text": [
      "../input/painting-vs-photograph-classification-dataset/Raw Data/photos/81b78987c8bb6d173bab4904fb0cb7ff921bf085.jpg\n"
     ]
    },
    {
     "name": "stderr",
     "output_type": "stream",
     "text": [
      " 53%|█████▎    | 1441/2737 [09:23<06:22,  3.39it/s]"
     ]
    },
    {
     "name": "stdout",
     "output_type": "stream",
     "text": [
      "../input/painting-vs-photograph-classification-dataset/Raw Data/painting/4c311058aac6389cbb0465c2e1d2ddd630d0d229.jpg\n"
     ]
    },
    {
     "name": "stderr",
     "output_type": "stream",
     "text": [
      " 53%|█████▎    | 1442/2737 [09:23<08:39,  2.49it/s]"
     ]
    },
    {
     "name": "stdout",
     "output_type": "stream",
     "text": [
      "../input/painting-vs-photograph-classification-dataset/Raw Data/photos/cb65a1c8f415dc2d7b370f211feb3b26ddd78bcc.jpg\n"
     ]
    },
    {
     "name": "stderr",
     "output_type": "stream",
     "text": [
      " 53%|█████▎    | 1444/2737 [09:24<06:25,  3.35it/s]"
     ]
    },
    {
     "name": "stdout",
     "output_type": "stream",
     "text": [
      "../input/painting-vs-photograph-classification-dataset/Raw Data/photos/a480dce961aad3b51aca143e07d52d225949bd1e.jpg\n",
      "../input/painting-vs-photograph-classification-dataset/Raw Data/painting/f6c162839ca36e781c2a64dabc4515401be84574.jpg\n"
     ]
    },
    {
     "name": "stderr",
     "output_type": "stream",
     "text": [
      " 53%|█████▎    | 1445/2737 [09:24<09:38,  2.24it/s]"
     ]
    },
    {
     "name": "stdout",
     "output_type": "stream",
     "text": [
      "../input/painting-vs-photograph-classification-dataset/Raw Data/painting/1e7e2730d6485a0002597b675867c0af5c3b4b4d.jpg\n"
     ]
    },
    {
     "name": "stderr",
     "output_type": "stream",
     "text": [
      " 53%|█████▎    | 1446/2737 [09:25<10:45,  2.00it/s]"
     ]
    },
    {
     "name": "stdout",
     "output_type": "stream",
     "text": [
      "../input/painting-vs-photograph-classification-dataset/Raw Data/photos/29f85595ca2c86aac8ab990b5d00ff57eac231d9.jpg\n"
     ]
    },
    {
     "name": "stderr",
     "output_type": "stream",
     "text": [
      " 53%|█████▎    | 1447/2737 [09:25<09:10,  2.34it/s]"
     ]
    },
    {
     "name": "stdout",
     "output_type": "stream",
     "text": [
      "../input/painting-vs-photograph-classification-dataset/Raw Data/photos/86e6179064312dee282ab3b40607dfb2840b9d73.jpg\n"
     ]
    },
    {
     "name": "stderr",
     "output_type": "stream",
     "text": [
      " 53%|█████▎    | 1448/2737 [09:26<07:56,  2.71it/s]"
     ]
    },
    {
     "name": "stdout",
     "output_type": "stream",
     "text": [
      "../input/painting-vs-photograph-classification-dataset/Raw Data/painting/ea02cf6e786fa10ec400a74b6e22f6f7d298fd3a.jpg\n"
     ]
    },
    {
     "name": "stderr",
     "output_type": "stream",
     "text": [
      " 53%|█████▎    | 1449/2737 [09:26<07:47,  2.75it/s]"
     ]
    },
    {
     "name": "stdout",
     "output_type": "stream",
     "text": [
      "../input/painting-vs-photograph-classification-dataset/Raw Data/painting/b8d55ed15909e01a34e998b352ecbc621f972f2a.jpg\n"
     ]
    },
    {
     "name": "stderr",
     "output_type": "stream",
     "text": [
      " 53%|█████▎    | 1450/2737 [09:27<09:07,  2.35it/s]"
     ]
    },
    {
     "name": "stdout",
     "output_type": "stream",
     "text": [
      "../input/painting-vs-photograph-classification-dataset/Raw Data/photos/c0a4956155d9793c6c3ca2154aaf233d37c8604c.jpg\n"
     ]
    },
    {
     "name": "stderr",
     "output_type": "stream",
     "text": [
      " 53%|█████▎    | 1451/2737 [09:27<08:09,  2.63it/s]"
     ]
    },
    {
     "name": "stdout",
     "output_type": "stream",
     "text": [
      "../input/painting-vs-photograph-classification-dataset/Raw Data/photos/8914eb3f21281bd35d66979dd7f8207f95b89604.jpg\n"
     ]
    },
    {
     "name": "stderr",
     "output_type": "stream",
     "text": [
      " 53%|█████▎    | 1452/2737 [09:27<07:14,  2.96it/s]"
     ]
    },
    {
     "name": "stdout",
     "output_type": "stream",
     "text": [
      "../input/painting-vs-photograph-classification-dataset/Raw Data/photos/452c45d4110aea246709cd9db7a993550873eba2.jpg\n"
     ]
    },
    {
     "name": "stderr",
     "output_type": "stream",
     "text": [
      " 53%|█████▎    | 1453/2737 [09:27<06:46,  3.16it/s]"
     ]
    },
    {
     "name": "stdout",
     "output_type": "stream",
     "text": [
      "../input/painting-vs-photograph-classification-dataset/Raw Data/photos/29655f08672f1442cee1f483028a199cae109def.jpg\n"
     ]
    },
    {
     "name": "stderr",
     "output_type": "stream",
     "text": [
      " 53%|█████▎    | 1454/2737 [09:28<06:25,  3.33it/s]"
     ]
    },
    {
     "name": "stdout",
     "output_type": "stream",
     "text": [
      "../input/painting-vs-photograph-classification-dataset/Raw Data/photos/84cb1ded8667799a1eb4d801fceba4354e4ba1ab.jpg\n"
     ]
    },
    {
     "name": "stderr",
     "output_type": "stream",
     "text": [
      " 53%|█████▎    | 1455/2737 [09:28<06:45,  3.16it/s]"
     ]
    },
    {
     "name": "stdout",
     "output_type": "stream",
     "text": [
      "../input/painting-vs-photograph-classification-dataset/Raw Data/photos/cc78ed6524d76b9bd686e9bc38d8f6d17405b04a.jpg\n"
     ]
    },
    {
     "name": "stderr",
     "output_type": "stream",
     "text": [
      " 53%|█████▎    | 1456/2737 [09:28<06:11,  3.45it/s]"
     ]
    },
    {
     "name": "stdout",
     "output_type": "stream",
     "text": [
      "../input/painting-vs-photograph-classification-dataset/Raw Data/photos/a4508aac533cfa6f0d042f2a4050d1f5702263f0.jpg\n"
     ]
    },
    {
     "name": "stderr",
     "output_type": "stream",
     "text": [
      " 53%|█████▎    | 1457/2737 [09:28<05:52,  3.63it/s]"
     ]
    },
    {
     "name": "stdout",
     "output_type": "stream",
     "text": [
      "../input/painting-vs-photograph-classification-dataset/Raw Data/photos/bccd6f53710ea42ae998efbed0d796f05d24be7b.jpg\n"
     ]
    },
    {
     "name": "stderr",
     "output_type": "stream",
     "text": [
      " 53%|█████▎    | 1458/2737 [09:29<05:40,  3.76it/s]"
     ]
    },
    {
     "name": "stdout",
     "output_type": "stream",
     "text": [
      "../input/painting-vs-photograph-classification-dataset/Raw Data/painting/ea9e1fbf2758580a65a9e96870be5550c07fe58f.jpg\n"
     ]
    },
    {
     "name": "stderr",
     "output_type": "stream",
     "text": [
      " 53%|█████▎    | 1459/2737 [09:29<08:28,  2.51it/s]"
     ]
    },
    {
     "name": "stdout",
     "output_type": "stream",
     "text": [
      "../input/painting-vs-photograph-classification-dataset/Raw Data/photos/de6f0ab6a4d90542b4d4195bd8a5d51fa4765c4f.jpg\n"
     ]
    },
    {
     "name": "stderr",
     "output_type": "stream",
     "text": [
      " 53%|█████▎    | 1460/2737 [09:30<07:35,  2.81it/s]"
     ]
    },
    {
     "name": "stdout",
     "output_type": "stream",
     "text": [
      "../input/painting-vs-photograph-classification-dataset/Raw Data/painting/10b38eb8014fad1420838563cd3e7ef9c3baa659.jpg\n"
     ]
    },
    {
     "name": "stderr",
     "output_type": "stream",
     "text": [
      " 53%|█████▎    | 1461/2737 [09:30<09:35,  2.22it/s]"
     ]
    },
    {
     "name": "stdout",
     "output_type": "stream",
     "text": [
      "../input/painting-vs-photograph-classification-dataset/Raw Data/photos/f444cc51dc6baac04610d6fcbb5ec338c849e23e.jpg\n"
     ]
    },
    {
     "name": "stderr",
     "output_type": "stream",
     "text": [
      " 53%|█████▎    | 1462/2737 [09:31<08:49,  2.41it/s]"
     ]
    },
    {
     "name": "stdout",
     "output_type": "stream",
     "text": [
      "../input/painting-vs-photograph-classification-dataset/Raw Data/photos/842570345841b409eceecc47ae1a2e3f5f63dffc.jpg\n"
     ]
    },
    {
     "name": "stderr",
     "output_type": "stream",
     "text": [
      " 53%|█████▎    | 1463/2737 [09:31<07:40,  2.76it/s]"
     ]
    },
    {
     "name": "stdout",
     "output_type": "stream",
     "text": [
      "../input/painting-vs-photograph-classification-dataset/Raw Data/photos/d4d22204c3d9b676c47f31cc22d56c6cc1a1580a.jpg\n"
     ]
    },
    {
     "name": "stderr",
     "output_type": "stream",
     "text": [
      " 53%|█████▎    | 1464/2737 [09:31<06:44,  3.15it/s]"
     ]
    },
    {
     "name": "stdout",
     "output_type": "stream",
     "text": [
      "../input/painting-vs-photograph-classification-dataset/Raw Data/painting/6d674d868f2968bb2140c2b62a9d6597f5f93bf7.jpg\n"
     ]
    },
    {
     "name": "stderr",
     "output_type": "stream",
     "text": [
      " 54%|█████▎    | 1465/2737 [09:32<08:38,  2.45it/s]"
     ]
    },
    {
     "name": "stdout",
     "output_type": "stream",
     "text": [
      "../input/painting-vs-photograph-classification-dataset/Raw Data/photos/8b944d3c3e65fb211299208d0909b75286b0c430.jpg\n"
     ]
    },
    {
     "name": "stderr",
     "output_type": "stream",
     "text": [
      " 54%|█████▎    | 1466/2737 [09:32<07:33,  2.81it/s]"
     ]
    },
    {
     "name": "stdout",
     "output_type": "stream",
     "text": [
      "../input/painting-vs-photograph-classification-dataset/Raw Data/photos/1892cd4732508dfdda8679732f2cb306f73ed2b3.jpg\n"
     ]
    },
    {
     "name": "stderr",
     "output_type": "stream",
     "text": [
      " 54%|█████▎    | 1467/2737 [09:32<06:44,  3.14it/s]"
     ]
    },
    {
     "name": "stdout",
     "output_type": "stream",
     "text": [
      "../input/painting-vs-photograph-classification-dataset/Raw Data/photos/d35942d1cfa584ddaaa813f70d7dd27b5b58da18.jpg\n"
     ]
    },
    {
     "name": "stderr",
     "output_type": "stream",
     "text": [
      " 54%|█████▎    | 1468/2737 [09:32<06:21,  3.33it/s]"
     ]
    },
    {
     "name": "stdout",
     "output_type": "stream",
     "text": [
      "../input/painting-vs-photograph-classification-dataset/Raw Data/photos/83e30070a18ea41331f603f0db93aa622115246f.jpg\n"
     ]
    },
    {
     "name": "stderr",
     "output_type": "stream",
     "text": [
      " 54%|█████▎    | 1469/2737 [09:33<06:03,  3.48it/s]"
     ]
    },
    {
     "name": "stdout",
     "output_type": "stream",
     "text": [
      "../input/painting-vs-photograph-classification-dataset/Raw Data/photos/71c3c3791b23b6880ea3384c212a4275c896a313.jpg\n"
     ]
    },
    {
     "name": "stderr",
     "output_type": "stream",
     "text": [
      " 54%|█████▎    | 1470/2737 [09:33<05:43,  3.68it/s]"
     ]
    },
    {
     "name": "stdout",
     "output_type": "stream",
     "text": [
      "../input/painting-vs-photograph-classification-dataset/Raw Data/photos/eb270ea328d61f309523793ad709adb2c5b07fd1.jpg\n"
     ]
    },
    {
     "name": "stderr",
     "output_type": "stream",
     "text": [
      " 54%|█████▎    | 1471/2737 [09:33<05:29,  3.84it/s]"
     ]
    },
    {
     "name": "stdout",
     "output_type": "stream",
     "text": [
      "../input/painting-vs-photograph-classification-dataset/Raw Data/photos/1f07244151a3a55373f30f93b2150a5f07643c80.jpg\n"
     ]
    },
    {
     "name": "stderr",
     "output_type": "stream",
     "text": [
      " 54%|█████▍    | 1472/2737 [09:33<05:19,  3.96it/s]"
     ]
    },
    {
     "name": "stdout",
     "output_type": "stream",
     "text": [
      "../input/painting-vs-photograph-classification-dataset/Raw Data/photos/4061d3e5ed8b185f7da2cb098b5b7265da395bc3.jpg\n"
     ]
    },
    {
     "name": "stderr",
     "output_type": "stream",
     "text": [
      " 54%|█████▍    | 1473/2737 [09:34<05:08,  4.10it/s]"
     ]
    },
    {
     "name": "stdout",
     "output_type": "stream",
     "text": [
      "../input/painting-vs-photograph-classification-dataset/Raw Data/painting/419e7cfc2f9f9c4d5f1a4030ae5970511e7aad35.jpg\n"
     ]
    },
    {
     "name": "stderr",
     "output_type": "stream",
     "text": [
      " 54%|█████▍    | 1474/2737 [09:34<08:10,  2.58it/s]"
     ]
    },
    {
     "name": "stdout",
     "output_type": "stream",
     "text": [
      "../input/painting-vs-photograph-classification-dataset/Raw Data/painting/0297b76b3cfe08b9870a5eebecd0f4d90ab1321d.jpg\n"
     ]
    },
    {
     "name": "stderr",
     "output_type": "stream",
     "text": [
      " 54%|█████▍    | 1475/2737 [09:35<10:21,  2.03it/s]"
     ]
    },
    {
     "name": "stdout",
     "output_type": "stream",
     "text": [
      "../input/painting-vs-photograph-classification-dataset/Raw Data/painting/f80ef22bb3611d1f54a3ee896b58667ff121191d.jpg\n"
     ]
    },
    {
     "name": "stderr",
     "output_type": "stream",
     "text": [
      " 54%|█████▍    | 1476/2737 [09:36<11:24,  1.84it/s]"
     ]
    },
    {
     "name": "stdout",
     "output_type": "stream",
     "text": [
      "../input/painting-vs-photograph-classification-dataset/Raw Data/photos/7607d0d69120fe509015127bfdd8d73fefb8e6d0.jpg\n"
     ]
    },
    {
     "name": "stderr",
     "output_type": "stream",
     "text": [
      " 54%|█████▍    | 1477/2737 [09:36<09:30,  2.21it/s]"
     ]
    },
    {
     "name": "stdout",
     "output_type": "stream",
     "text": [
      "../input/painting-vs-photograph-classification-dataset/Raw Data/photos/b992827540d89b1e8c6c7b9d24e5ad7d9ae0d77f.jpg\n"
     ]
    },
    {
     "name": "stderr",
     "output_type": "stream",
     "text": [
      " 54%|█████▍    | 1479/2737 [09:36<06:48,  3.08it/s]"
     ]
    },
    {
     "name": "stdout",
     "output_type": "stream",
     "text": [
      "../input/painting-vs-photograph-classification-dataset/Raw Data/photos/b47c578c0f7f98fbf956c4b85717765a44c1b980.jpg\n",
      "../input/painting-vs-photograph-classification-dataset/Raw Data/photos/6564fee3cde9244114a856e890f32b7f346b7c00.jpg\n"
     ]
    },
    {
     "name": "stderr",
     "output_type": "stream",
     "text": [
      " 54%|█████▍    | 1480/2737 [09:37<06:16,  3.34it/s]"
     ]
    },
    {
     "name": "stdout",
     "output_type": "stream",
     "text": [
      "../input/painting-vs-photograph-classification-dataset/Raw Data/photos/7549e63ef2b5ab242b81f3174bf75203c36dca5c.jpg\n"
     ]
    },
    {
     "name": "stderr",
     "output_type": "stream",
     "text": [
      " 54%|█████▍    | 1481/2737 [09:37<05:43,  3.66it/s]"
     ]
    },
    {
     "name": "stdout",
     "output_type": "stream",
     "text": [
      "../input/painting-vs-photograph-classification-dataset/Raw Data/photos/86a70a9e21c11bd96762ef46abbbcaea99f503de.jpg\n"
     ]
    },
    {
     "name": "stderr",
     "output_type": "stream",
     "text": [
      " 54%|█████▍    | 1482/2737 [09:37<05:37,  3.72it/s]"
     ]
    },
    {
     "name": "stdout",
     "output_type": "stream",
     "text": [
      "../input/painting-vs-photograph-classification-dataset/Raw Data/photos/53e494fa47981dc202e8c3445d0509f62255c593.jpg\n"
     ]
    },
    {
     "name": "stderr",
     "output_type": "stream",
     "text": [
      " 54%|█████▍    | 1484/2737 [09:37<04:49,  4.33it/s]"
     ]
    },
    {
     "name": "stdout",
     "output_type": "stream",
     "text": [
      "../input/painting-vs-photograph-classification-dataset/Raw Data/photos/7eec13a3856ac2c709ee388b26a932f54c869f8a.jpg\n",
      "../input/painting-vs-photograph-classification-dataset/Raw Data/photos/eccacb0378f3abd276df54b315f56afd8e95d635.jpg\n"
     ]
    },
    {
     "name": "stderr",
     "output_type": "stream",
     "text": [
      " 54%|█████▍    | 1485/2737 [09:38<04:42,  4.43it/s]"
     ]
    },
    {
     "name": "stdout",
     "output_type": "stream",
     "text": [
      "../input/painting-vs-photograph-classification-dataset/Raw Data/photos/9108e174d74ed5cf9aae915b7b4520c287737ccc.jpg\n"
     ]
    },
    {
     "name": "stderr",
     "output_type": "stream",
     "text": [
      " 54%|█████▍    | 1486/2737 [09:38<05:30,  3.78it/s]"
     ]
    },
    {
     "name": "stdout",
     "output_type": "stream",
     "text": [
      "../input/painting-vs-photograph-classification-dataset/Raw Data/photos/252e61c7c0cd5049b19d97b26e20e42d0183e8ab.jpg\n"
     ]
    },
    {
     "name": "stderr",
     "output_type": "stream",
     "text": [
      " 54%|█████▍    | 1487/2737 [09:38<05:20,  3.91it/s]"
     ]
    },
    {
     "name": "stdout",
     "output_type": "stream",
     "text": [
      "../input/painting-vs-photograph-classification-dataset/Raw Data/photos/bb7152901edcfd02a0f479d3baec9e889bf3aca0.jpg\n"
     ]
    },
    {
     "name": "stderr",
     "output_type": "stream",
     "text": [
      " 54%|█████▍    | 1488/2737 [09:38<05:03,  4.11it/s]"
     ]
    },
    {
     "name": "stdout",
     "output_type": "stream",
     "text": [
      "../input/painting-vs-photograph-classification-dataset/Raw Data/photos/e6fa7f0124f37366983c4b4b3ffaeb2ae2cb85c4.jpg\n"
     ]
    },
    {
     "name": "stderr",
     "output_type": "stream",
     "text": [
      " 54%|█████▍    | 1489/2737 [09:39<05:27,  3.81it/s]"
     ]
    },
    {
     "name": "stdout",
     "output_type": "stream",
     "text": [
      "../input/painting-vs-photograph-classification-dataset/Raw Data/photos/7563f4aa47f7613c1763d22d5ca3fbfa93102323.jpg\n"
     ]
    },
    {
     "name": "stderr",
     "output_type": "stream",
     "text": [
      " 54%|█████▍    | 1490/2737 [09:39<05:29,  3.79it/s]"
     ]
    },
    {
     "name": "stdout",
     "output_type": "stream",
     "text": [
      "../input/painting-vs-photograph-classification-dataset/Raw Data/photos/4e2d32374fc76e448b556b5c72f5a1b9846d55a0.jpg\n"
     ]
    },
    {
     "name": "stderr",
     "output_type": "stream",
     "text": [
      " 54%|█████▍    | 1491/2737 [09:39<05:19,  3.90it/s]"
     ]
    },
    {
     "name": "stdout",
     "output_type": "stream",
     "text": [
      "../input/painting-vs-photograph-classification-dataset/Raw Data/painting/84dbf0241da922c0456f01de0387ed144e72537b.jpg\n"
     ]
    },
    {
     "name": "stderr",
     "output_type": "stream",
     "text": [
      " 55%|█████▍    | 1493/2737 [09:40<08:10,  2.54it/s]"
     ]
    },
    {
     "name": "stdout",
     "output_type": "stream",
     "text": [
      "../input/painting-vs-photograph-classification-dataset/Raw Data/photos/668128beff29eccfaa6ea5ed26949289255fbb31.jpg\n",
      "../input/painting-vs-photograph-classification-dataset/Raw Data/painting/f2edbb8f5ac9537ccc2ac7f4691abbebbfae42c2.jpg\n"
     ]
    },
    {
     "name": "stderr",
     "output_type": "stream",
     "text": [
      " 55%|█████▍    | 1494/2737 [09:41<10:43,  1.93it/s]"
     ]
    },
    {
     "name": "stdout",
     "output_type": "stream",
     "text": [
      "../input/painting-vs-photograph-classification-dataset/Raw Data/painting/2d842e9a9b99547bbd0a2d1cdf9fa72085d1ec4b.jpg\n"
     ]
    },
    {
     "name": "stderr",
     "output_type": "stream",
     "text": [
      " 55%|█████▍    | 1495/2737 [09:42<09:53,  2.09it/s]"
     ]
    },
    {
     "name": "stdout",
     "output_type": "stream",
     "text": [
      "../input/painting-vs-photograph-classification-dataset/Raw Data/painting/79b6e4ea6101f1260c2ab70fc890c4c9bb07aa65.jpg\n"
     ]
    },
    {
     "name": "stderr",
     "output_type": "stream",
     "text": [
      " 55%|█████▍    | 1496/2737 [09:42<10:03,  2.06it/s]"
     ]
    },
    {
     "name": "stdout",
     "output_type": "stream",
     "text": [
      "../input/painting-vs-photograph-classification-dataset/Raw Data/painting/edce182c2f106bcf304bf38dab711a9cba652738.jpg\n"
     ]
    },
    {
     "name": "stderr",
     "output_type": "stream",
     "text": [
      " 55%|█████▍    | 1497/2737 [09:43<09:58,  2.07it/s]"
     ]
    },
    {
     "name": "stdout",
     "output_type": "stream",
     "text": [
      "../input/painting-vs-photograph-classification-dataset/Raw Data/photos/067adc8b0565897b11e5c3efb672bfc90e1efe29.jpg\n"
     ]
    },
    {
     "name": "stderr",
     "output_type": "stream",
     "text": [
      " 55%|█████▍    | 1498/2737 [09:43<08:25,  2.45it/s]"
     ]
    },
    {
     "name": "stdout",
     "output_type": "stream",
     "text": [
      "../input/painting-vs-photograph-classification-dataset/Raw Data/photos/52ee6cec7c25f5e1e798a011afe6ec15d31258e7.jpg\n"
     ]
    },
    {
     "name": "stderr",
     "output_type": "stream",
     "text": [
      " 55%|█████▍    | 1500/2737 [09:43<06:08,  3.36it/s]"
     ]
    },
    {
     "name": "stdout",
     "output_type": "stream",
     "text": [
      "../input/painting-vs-photograph-classification-dataset/Raw Data/photos/b50856525e9668bc6c41f9ec28380fc5d939c48f.jpg\n",
      "../input/painting-vs-photograph-classification-dataset/Raw Data/photos/f2c619450420eea99bb2f83b6755183788ce3f00.jpg\n"
     ]
    },
    {
     "name": "stderr",
     "output_type": "stream",
     "text": [
      " 55%|█████▍    | 1501/2737 [09:44<05:45,  3.57it/s]"
     ]
    },
    {
     "name": "stdout",
     "output_type": "stream",
     "text": [
      "../input/painting-vs-photograph-classification-dataset/Raw Data/painting/5e8de35bad5f2ba8d17ccd45ea35fe4d47d9e0a3.jpg\n"
     ]
    },
    {
     "name": "stderr",
     "output_type": "stream",
     "text": [
      " 55%|█████▍    | 1502/2737 [09:45<10:19,  1.99it/s]"
     ]
    },
    {
     "name": "stdout",
     "output_type": "stream",
     "text": [
      "../input/painting-vs-photograph-classification-dataset/Raw Data/photos/f6c79e123527c8d768a99662357bf0e04e5fdafb.jpg\n"
     ]
    },
    {
     "name": "stderr",
     "output_type": "stream",
     "text": [
      " 55%|█████▍    | 1503/2737 [09:45<08:42,  2.36it/s]"
     ]
    },
    {
     "name": "stdout",
     "output_type": "stream",
     "text": [
      "../input/painting-vs-photograph-classification-dataset/Raw Data/painting/f44ead3e2f1b265f263d68f62ef4deb243812fca.jpg\n"
     ]
    },
    {
     "name": "stderr",
     "output_type": "stream",
     "text": [
      " 55%|█████▍    | 1505/2737 [09:46<08:52,  2.31it/s]"
     ]
    },
    {
     "name": "stdout",
     "output_type": "stream",
     "text": [
      "../input/painting-vs-photograph-classification-dataset/Raw Data/photos/0ba0fc0a322c2229372ef0f0d98fefba13657962.jpg\n",
      "../input/painting-vs-photograph-classification-dataset/Raw Data/photos/dd38f33377585841e756f679c69e2a22e0ca9d49.jpg\n"
     ]
    },
    {
     "name": "stderr",
     "output_type": "stream",
     "text": [
      " 55%|█████▌    | 1506/2737 [09:46<07:38,  2.69it/s]"
     ]
    },
    {
     "name": "stdout",
     "output_type": "stream",
     "text": [
      "../input/painting-vs-photograph-classification-dataset/Raw Data/photos/92782e669aecfa76448a4d6c9fe20b5ba6a905fd.jpg\n"
     ]
    },
    {
     "name": "stderr",
     "output_type": "stream",
     "text": [
      " 55%|█████▌    | 1507/2737 [09:46<07:04,  2.90it/s]"
     ]
    },
    {
     "name": "stdout",
     "output_type": "stream",
     "text": [
      "../input/painting-vs-photograph-classification-dataset/Raw Data/photos/841667d461a80ef2c8d04e6748773c0e634073f7.jpg\n"
     ]
    },
    {
     "name": "stderr",
     "output_type": "stream",
     "text": [
      " 55%|█████▌    | 1508/2737 [09:47<06:32,  3.13it/s]"
     ]
    },
    {
     "name": "stdout",
     "output_type": "stream",
     "text": [
      "../input/painting-vs-photograph-classification-dataset/Raw Data/painting/cbc2191e54b8b76bf67d0f866b118659a9574e00.jpg\n"
     ]
    },
    {
     "name": "stderr",
     "output_type": "stream",
     "text": [
      " 55%|█████▌    | 1509/2737 [09:47<07:47,  2.63it/s]"
     ]
    },
    {
     "name": "stdout",
     "output_type": "stream",
     "text": [
      "../input/painting-vs-photograph-classification-dataset/Raw Data/painting/e91715a0787052f06c169a48996a62943988f6bf.jpg\n"
     ]
    },
    {
     "name": "stderr",
     "output_type": "stream",
     "text": [
      " 55%|█████▌    | 1510/2737 [09:48<09:36,  2.13it/s]"
     ]
    },
    {
     "name": "stdout",
     "output_type": "stream",
     "text": [
      "../input/painting-vs-photograph-classification-dataset/Raw Data/photos/274d59180bbd37e27f9dc7e2b9d29e581c20b7f4.jpg\n"
     ]
    },
    {
     "name": "stderr",
     "output_type": "stream",
     "text": [
      " 55%|█████▌    | 1511/2737 [09:48<08:18,  2.46it/s]"
     ]
    },
    {
     "name": "stdout",
     "output_type": "stream",
     "text": [
      "../input/painting-vs-photograph-classification-dataset/Raw Data/photos/082cb6967c711cc528b8fa08c8bf76ba348d2cb0.jpg\n"
     ]
    },
    {
     "name": "stderr",
     "output_type": "stream",
     "text": [
      " 55%|█████▌    | 1512/2737 [09:48<07:17,  2.80it/s]"
     ]
    },
    {
     "name": "stdout",
     "output_type": "stream",
     "text": [
      "../input/painting-vs-photograph-classification-dataset/Raw Data/photos/c0ccbbc29662c8875318424f30772fe3efd25719.jpg\n"
     ]
    },
    {
     "name": "stderr",
     "output_type": "stream",
     "text": [
      " 55%|█████▌    | 1513/2737 [09:49<06:52,  2.96it/s]"
     ]
    },
    {
     "name": "stdout",
     "output_type": "stream",
     "text": [
      "../input/painting-vs-photograph-classification-dataset/Raw Data/photos/45863cd9e6445aca4d96f17410e9575c2d9d5f56.jpg\n"
     ]
    },
    {
     "name": "stderr",
     "output_type": "stream",
     "text": [
      " 55%|█████▌    | 1514/2737 [09:49<06:15,  3.26it/s]"
     ]
    },
    {
     "name": "stdout",
     "output_type": "stream",
     "text": [
      "../input/painting-vs-photograph-classification-dataset/Raw Data/photos/4a29c5782215416be66ffbb6adb0b3eeb801649d.jpg\n"
     ]
    },
    {
     "name": "stderr",
     "output_type": "stream",
     "text": [
      " 55%|█████▌    | 1515/2737 [09:49<05:46,  3.53it/s]"
     ]
    },
    {
     "name": "stdout",
     "output_type": "stream",
     "text": [
      "../input/painting-vs-photograph-classification-dataset/Raw Data/painting/f74998031d41b6c533f7e733bcec70f825804c7a.jpg\n"
     ]
    },
    {
     "name": "stderr",
     "output_type": "stream",
     "text": [
      " 55%|█████▌    | 1516/2737 [09:50<10:49,  1.88it/s]"
     ]
    },
    {
     "name": "stdout",
     "output_type": "stream",
     "text": [
      "../input/painting-vs-photograph-classification-dataset/Raw Data/photos/b4682106631240093401e810bab41aaa279d4b71.jpg\n"
     ]
    },
    {
     "name": "stderr",
     "output_type": "stream",
     "text": [
      " 55%|█████▌    | 1517/2737 [09:50<09:18,  2.19it/s]"
     ]
    },
    {
     "name": "stdout",
     "output_type": "stream",
     "text": [
      "../input/painting-vs-photograph-classification-dataset/Raw Data/photos/e491ad41bcb559b1ebc4ec6e21b6f15178139edf.jpg\n"
     ]
    },
    {
     "name": "stderr",
     "output_type": "stream",
     "text": [
      " 55%|█████▌    | 1518/2737 [09:51<07:53,  2.58it/s]"
     ]
    },
    {
     "name": "stdout",
     "output_type": "stream",
     "text": [
      "../input/painting-vs-photograph-classification-dataset/Raw Data/photos/805950f045fd3db54fedef0e58600c56aa5c7ea0.jpg\n"
     ]
    },
    {
     "name": "stderr",
     "output_type": "stream",
     "text": [
      " 55%|█████▌    | 1519/2737 [09:51<06:48,  2.98it/s]"
     ]
    },
    {
     "name": "stdout",
     "output_type": "stream",
     "text": [
      "../input/painting-vs-photograph-classification-dataset/Raw Data/photos/284ac2c38b206c347cd9572c029eac596bc76571.jpg\n"
     ]
    },
    {
     "name": "stderr",
     "output_type": "stream",
     "text": [
      " 56%|█████▌    | 1520/2737 [09:51<06:04,  3.34it/s]"
     ]
    },
    {
     "name": "stdout",
     "output_type": "stream",
     "text": [
      "../input/painting-vs-photograph-classification-dataset/Raw Data/photos/76b4f0f278dcb536b3361da6f2f29cb87c4a796c.jpg\n"
     ]
    },
    {
     "name": "stderr",
     "output_type": "stream",
     "text": [
      " 56%|█████▌    | 1521/2737 [09:51<05:40,  3.58it/s]"
     ]
    },
    {
     "name": "stdout",
     "output_type": "stream",
     "text": [
      "../input/painting-vs-photograph-classification-dataset/Raw Data/photos/c6b6ba466859a966c5d1f90d1825b7ec45fe5563.jpg\n"
     ]
    },
    {
     "name": "stderr",
     "output_type": "stream",
     "text": [
      " 56%|█████▌    | 1522/2737 [09:52<05:21,  3.78it/s]"
     ]
    },
    {
     "name": "stdout",
     "output_type": "stream",
     "text": [
      "../input/painting-vs-photograph-classification-dataset/Raw Data/photos/494bebf50966a81b30daebed4ac3e92585b430f4.jpg\n"
     ]
    },
    {
     "name": "stderr",
     "output_type": "stream",
     "text": [
      " 56%|█████▌    | 1523/2737 [09:52<05:02,  4.02it/s]"
     ]
    },
    {
     "name": "stdout",
     "output_type": "stream",
     "text": [
      "../input/painting-vs-photograph-classification-dataset/Raw Data/photos/c56658263998cf0876cc130fd51ed9f0875184cf.jpg\n"
     ]
    },
    {
     "name": "stderr",
     "output_type": "stream",
     "text": [
      " 56%|█████▌    | 1524/2737 [09:52<04:57,  4.07it/s]"
     ]
    },
    {
     "name": "stdout",
     "output_type": "stream",
     "text": [
      "../input/painting-vs-photograph-classification-dataset/Raw Data/photos/91f88d3e723ae02510a97ac09f8f49394ee9bb55.jpg\n"
     ]
    },
    {
     "name": "stderr",
     "output_type": "stream",
     "text": [
      " 56%|█████▌    | 1525/2737 [09:52<04:53,  4.12it/s]"
     ]
    },
    {
     "name": "stdout",
     "output_type": "stream",
     "text": [
      "../input/painting-vs-photograph-classification-dataset/Raw Data/photos/c53c263e2c963943a7c34f287c4086ec1d9f1c9e.jpg\n"
     ]
    },
    {
     "name": "stderr",
     "output_type": "stream",
     "text": [
      " 56%|█████▌    | 1526/2737 [09:52<04:44,  4.26it/s]"
     ]
    },
    {
     "name": "stdout",
     "output_type": "stream",
     "text": [
      "../input/painting-vs-photograph-classification-dataset/Raw Data/photos/b63155e8d50366adce3e5bc3044bd2fc3e8de329.jpg\n"
     ]
    },
    {
     "name": "stderr",
     "output_type": "stream",
     "text": [
      " 56%|█████▌    | 1527/2737 [09:53<04:39,  4.32it/s]"
     ]
    },
    {
     "name": "stdout",
     "output_type": "stream",
     "text": [
      "../input/painting-vs-photograph-classification-dataset/Raw Data/photos/b10c1cb9a12a63ee511272dfcff061a2b6192a93.jpg\n"
     ]
    },
    {
     "name": "stderr",
     "output_type": "stream",
     "text": [
      " 56%|█████▌    | 1528/2737 [09:53<04:40,  4.31it/s]"
     ]
    },
    {
     "name": "stdout",
     "output_type": "stream",
     "text": [
      "../input/painting-vs-photograph-classification-dataset/Raw Data/photos/47a4212c921c469a195c992be23f28299c12976a.jpg\n"
     ]
    },
    {
     "name": "stderr",
     "output_type": "stream",
     "text": [
      " 56%|█████▌    | 1529/2737 [09:53<04:51,  4.15it/s]"
     ]
    },
    {
     "name": "stdout",
     "output_type": "stream",
     "text": [
      "../input/painting-vs-photograph-classification-dataset/Raw Data/photos/334d41cd7e9594f309679675ee458d89efb105a4.jpg\n"
     ]
    },
    {
     "name": "stderr",
     "output_type": "stream",
     "text": [
      " 56%|█████▌    | 1530/2737 [09:53<04:50,  4.16it/s]"
     ]
    },
    {
     "name": "stdout",
     "output_type": "stream",
     "text": [
      "../input/painting-vs-photograph-classification-dataset/Raw Data/photos/eabfe2ea5b73fe0ca28af302164088039e56628b.jpg\n"
     ]
    },
    {
     "name": "stderr",
     "output_type": "stream",
     "text": [
      " 56%|█████▌    | 1531/2737 [09:54<04:47,  4.20it/s]"
     ]
    },
    {
     "name": "stdout",
     "output_type": "stream",
     "text": [
      "../input/painting-vs-photograph-classification-dataset/Raw Data/painting/b0d8834cbd34167e7ba595a60f871188e121cf3c.jpg\n"
     ]
    },
    {
     "name": "stderr",
     "output_type": "stream",
     "text": [
      " 56%|█████▌    | 1532/2737 [09:55<09:35,  2.10it/s]"
     ]
    },
    {
     "name": "stdout",
     "output_type": "stream",
     "text": [
      "../input/painting-vs-photograph-classification-dataset/Raw Data/photos/fb8b212dc7e748783a3a43b1e6e19d7089fc61c6.jpg\n"
     ]
    },
    {
     "name": "stderr",
     "output_type": "stream",
     "text": [
      " 56%|█████▌    | 1534/2737 [09:55<06:42,  2.99it/s]"
     ]
    },
    {
     "name": "stdout",
     "output_type": "stream",
     "text": [
      "../input/painting-vs-photograph-classification-dataset/Raw Data/photos/954f04f1c988bbd2f372ae13ab739f465b5462b7.jpg\n",
      "../input/painting-vs-photograph-classification-dataset/Raw Data/painting/81370d3a471b570b538b1d3d94f17538cb0a419c.jpg\n"
     ]
    },
    {
     "name": "stderr",
     "output_type": "stream",
     "text": [
      " 56%|█████▌    | 1536/2737 [09:56<07:12,  2.78it/s]"
     ]
    },
    {
     "name": "stdout",
     "output_type": "stream",
     "text": [
      "../input/painting-vs-photograph-classification-dataset/Raw Data/photos/dc9577880b373ea51c383c238bba793d2bdae36c.jpg\n",
      "../input/painting-vs-photograph-classification-dataset/Raw Data/photos/f25deb350088f12609b93771557643cdfd79f54f.jpg\n"
     ]
    },
    {
     "name": "stderr",
     "output_type": "stream",
     "text": [
      " 56%|█████▌    | 1537/2737 [09:56<06:27,  3.10it/s]"
     ]
    },
    {
     "name": "stdout",
     "output_type": "stream",
     "text": [
      "../input/painting-vs-photograph-classification-dataset/Raw Data/painting/69a00b4a56fce949564a3d9c695acd2f3fdd8011.jpg\n"
     ]
    },
    {
     "name": "stderr",
     "output_type": "stream",
     "text": [
      " 56%|█████▌    | 1539/2737 [09:57<07:04,  2.82it/s]"
     ]
    },
    {
     "name": "stdout",
     "output_type": "stream",
     "text": [
      "../input/painting-vs-photograph-classification-dataset/Raw Data/photos/52ab6cc7c329af0e841e4b8bf7e7ff1196f39e3e.jpg\n",
      "../input/painting-vs-photograph-classification-dataset/Raw Data/photos/22272a6bcf8e1143c8fea24132681f91eecc60ff.jpg\n"
     ]
    },
    {
     "name": "stderr",
     "output_type": "stream",
     "text": [
      " 56%|█████▋    | 1540/2737 [09:57<06:11,  3.22it/s]"
     ]
    },
    {
     "name": "stdout",
     "output_type": "stream",
     "text": [
      "../input/painting-vs-photograph-classification-dataset/Raw Data/photos/d27874d4d4e82eb1d220911058a9d73280c152f1.jpg\n"
     ]
    },
    {
     "name": "stderr",
     "output_type": "stream",
     "text": [
      " 56%|█████▋    | 1541/2737 [09:57<05:46,  3.46it/s]"
     ]
    },
    {
     "name": "stdout",
     "output_type": "stream",
     "text": [
      "../input/painting-vs-photograph-classification-dataset/Raw Data/photos/78eaa2791892afdba1999bd1a97899e0a33a370f.jpg\n"
     ]
    },
    {
     "name": "stderr",
     "output_type": "stream",
     "text": [
      " 56%|█████▋    | 1542/2737 [09:58<05:27,  3.65it/s]"
     ]
    },
    {
     "name": "stdout",
     "output_type": "stream",
     "text": [
      "../input/painting-vs-photograph-classification-dataset/Raw Data/photos/c9fe587a18b80e2f94a4ba58b70175dd0fd7cec8.jpg\n"
     ]
    },
    {
     "name": "stderr",
     "output_type": "stream",
     "text": [
      " 56%|█████▋    | 1543/2737 [09:58<05:22,  3.70it/s]"
     ]
    },
    {
     "name": "stdout",
     "output_type": "stream",
     "text": [
      "../input/painting-vs-photograph-classification-dataset/Raw Data/photos/c7d0cb1b83ef2bacf1e08f35a21ea423277b2a75.jpg\n"
     ]
    },
    {
     "name": "stderr",
     "output_type": "stream",
     "text": [
      " 56%|█████▋    | 1544/2737 [09:58<05:08,  3.86it/s]"
     ]
    },
    {
     "name": "stdout",
     "output_type": "stream",
     "text": [
      "../input/painting-vs-photograph-classification-dataset/Raw Data/photos/a5540f3917c448538682ed901f94b4d9a0c68a7c.jpg\n"
     ]
    },
    {
     "name": "stderr",
     "output_type": "stream",
     "text": [
      " 56%|█████▋    | 1545/2737 [09:58<05:00,  3.97it/s]"
     ]
    },
    {
     "name": "stdout",
     "output_type": "stream",
     "text": [
      "../input/painting-vs-photograph-classification-dataset/Raw Data/photos/8c6bccb8c2c9414caa722a3f7782f9a1a3073259.jpg\n"
     ]
    },
    {
     "name": "stderr",
     "output_type": "stream",
     "text": [
      " 56%|█████▋    | 1546/2737 [09:59<05:03,  3.93it/s]"
     ]
    },
    {
     "name": "stdout",
     "output_type": "stream",
     "text": [
      "../input/painting-vs-photograph-classification-dataset/Raw Data/painting/03a12acd304ec964facfa059a4973884be3d26b7.jpg\n"
     ]
    },
    {
     "name": "stderr",
     "output_type": "stream",
     "text": [
      " 57%|█████▋    | 1547/2737 [10:00<09:47,  2.03it/s]"
     ]
    },
    {
     "name": "stdout",
     "output_type": "stream",
     "text": [
      "../input/painting-vs-photograph-classification-dataset/Raw Data/painting/a7270a72afd2ad6d7c3095f848bca78244db0ddd.jpg\n"
     ]
    },
    {
     "name": "stderr",
     "output_type": "stream",
     "text": [
      " 57%|█████▋    | 1548/2737 [10:00<10:32,  1.88it/s]"
     ]
    },
    {
     "name": "stdout",
     "output_type": "stream",
     "text": [
      "../input/painting-vs-photograph-classification-dataset/Raw Data/photos/524462009b7b7056309886af93b8ddbcc64f5a17.jpg\n"
     ]
    },
    {
     "name": "stderr",
     "output_type": "stream",
     "text": [
      " 57%|█████▋    | 1549/2737 [10:01<08:46,  2.26it/s]"
     ]
    },
    {
     "name": "stdout",
     "output_type": "stream",
     "text": [
      "../input/painting-vs-photograph-classification-dataset/Raw Data/photos/86aa4e28f5d7aae3b137025d2127936340ae63d9.jpg\n"
     ]
    },
    {
     "name": "stderr",
     "output_type": "stream",
     "text": [
      " 57%|█████▋    | 1550/2737 [10:01<07:20,  2.69it/s]"
     ]
    },
    {
     "name": "stdout",
     "output_type": "stream",
     "text": [
      "../input/painting-vs-photograph-classification-dataset/Raw Data/photos/d1c0bc2c5061cd93ec83e7a1950ec99e1462f723.jpg\n"
     ]
    },
    {
     "name": "stderr",
     "output_type": "stream",
     "text": [
      " 57%|█████▋    | 1551/2737 [10:01<06:28,  3.06it/s]"
     ]
    },
    {
     "name": "stdout",
     "output_type": "stream",
     "text": [
      "../input/painting-vs-photograph-classification-dataset/Raw Data/photos/f5715d9b61fffbf763bfcb4ac91a89c346755a36.jpg\n"
     ]
    },
    {
     "name": "stderr",
     "output_type": "stream",
     "text": [
      " 57%|█████▋    | 1552/2737 [10:01<05:58,  3.31it/s]"
     ]
    },
    {
     "name": "stdout",
     "output_type": "stream",
     "text": [
      "../input/painting-vs-photograph-classification-dataset/Raw Data/photos/84363985e67c4f52f593524012808b88c9e7e7e9.jpg\n"
     ]
    },
    {
     "name": "stderr",
     "output_type": "stream",
     "text": [
      " 57%|█████▋    | 1553/2737 [10:02<05:31,  3.57it/s]"
     ]
    },
    {
     "name": "stdout",
     "output_type": "stream",
     "text": [
      "../input/painting-vs-photograph-classification-dataset/Raw Data/photos/cbcfeb379eeecff1427ddf3572516fe2d8284a48.jpg\n"
     ]
    },
    {
     "name": "stderr",
     "output_type": "stream",
     "text": [
      " 57%|█████▋    | 1554/2737 [10:02<05:14,  3.76it/s]"
     ]
    },
    {
     "name": "stdout",
     "output_type": "stream",
     "text": [
      "../input/painting-vs-photograph-classification-dataset/Raw Data/photos/addd28b20ad95a9387067cbbf73cb5a830a86897.jpg\n"
     ]
    },
    {
     "name": "stderr",
     "output_type": "stream",
     "text": [
      " 57%|█████▋    | 1555/2737 [10:02<04:58,  3.96it/s]"
     ]
    },
    {
     "name": "stdout",
     "output_type": "stream",
     "text": [
      "../input/painting-vs-photograph-classification-dataset/Raw Data/photos/b4d1aed019c9b8ceced2c296b3250b2bb6852215.jpg\n"
     ]
    },
    {
     "name": "stderr",
     "output_type": "stream",
     "text": [
      " 57%|█████▋    | 1556/2737 [10:02<04:51,  4.06it/s]"
     ]
    },
    {
     "name": "stdout",
     "output_type": "stream",
     "text": [
      "../input/painting-vs-photograph-classification-dataset/Raw Data/photos/ec2a5a2013f6ad9c8540c0d68ff50f5c6fba4cdd.jpg\n"
     ]
    },
    {
     "name": "stderr",
     "output_type": "stream",
     "text": [
      " 57%|█████▋    | 1557/2737 [10:02<04:46,  4.12it/s]"
     ]
    },
    {
     "name": "stdout",
     "output_type": "stream",
     "text": [
      "../input/painting-vs-photograph-classification-dataset/Raw Data/photos/140d108be37cb3bd8ea1bd2d39a6731d097f91ff.jpg\n"
     ]
    },
    {
     "name": "stderr",
     "output_type": "stream",
     "text": [
      " 57%|█████▋    | 1558/2737 [10:03<04:40,  4.20it/s]"
     ]
    },
    {
     "name": "stdout",
     "output_type": "stream",
     "text": [
      "../input/painting-vs-photograph-classification-dataset/Raw Data/painting/e52cbdf2c8362df594601e1fed99d6eab2543928.jpg\n"
     ]
    },
    {
     "name": "stderr",
     "output_type": "stream",
     "text": [
      " 57%|█████▋    | 1559/2737 [10:03<06:50,  2.87it/s]"
     ]
    },
    {
     "name": "stdout",
     "output_type": "stream",
     "text": [
      "../input/painting-vs-photograph-classification-dataset/Raw Data/photos/57fa07f48614bf41efa3da3907afa74d38a0a219.jpg\n"
     ]
    },
    {
     "name": "stderr",
     "output_type": "stream",
     "text": [
      " 57%|█████▋    | 1560/2737 [10:03<06:04,  3.23it/s]"
     ]
    },
    {
     "name": "stdout",
     "output_type": "stream",
     "text": [
      "../input/painting-vs-photograph-classification-dataset/Raw Data/painting/e79e866804f9c923bf0604358fcb4e1d6b57cf5c.jpg\n"
     ]
    },
    {
     "name": "stderr",
     "output_type": "stream",
     "text": [
      " 57%|█████▋    | 1561/2737 [10:04<08:58,  2.19it/s]"
     ]
    },
    {
     "name": "stdout",
     "output_type": "stream",
     "text": [
      "../input/painting-vs-photograph-classification-dataset/Raw Data/photos/ecde40ee8ceb6352c03475e3f1c68f23be45ec5e.jpg\n"
     ]
    },
    {
     "name": "stderr",
     "output_type": "stream",
     "text": [
      " 57%|█████▋    | 1562/2737 [10:05<07:43,  2.54it/s]"
     ]
    },
    {
     "name": "stdout",
     "output_type": "stream",
     "text": [
      "../input/painting-vs-photograph-classification-dataset/Raw Data/photos/d815ea7e4fa6e9e153f227bf5d1377fbf891423f.jpg\n"
     ]
    },
    {
     "name": "stderr",
     "output_type": "stream",
     "text": [
      " 57%|█████▋    | 1563/2737 [10:05<06:35,  2.96it/s]"
     ]
    },
    {
     "name": "stdout",
     "output_type": "stream",
     "text": [
      "../input/painting-vs-photograph-classification-dataset/Raw Data/painting/5dc1e7ebd1accb2ed485c350f57ad166c5e6a3b2.jpg\n"
     ]
    },
    {
     "name": "stderr",
     "output_type": "stream",
     "text": [
      " 57%|█████▋    | 1564/2737 [10:05<08:39,  2.26it/s]"
     ]
    },
    {
     "name": "stdout",
     "output_type": "stream",
     "text": [
      "../input/painting-vs-photograph-classification-dataset/Raw Data/photos/fa876b2dbdf122d2df29024baf32d2994a8606af.jpg\n"
     ]
    },
    {
     "name": "stderr",
     "output_type": "stream",
     "text": [
      " 57%|█████▋    | 1565/2737 [10:06<07:25,  2.63it/s]"
     ]
    },
    {
     "name": "stdout",
     "output_type": "stream",
     "text": [
      "../input/painting-vs-photograph-classification-dataset/Raw Data/photos/f1f7ffeca29f43dee30ac7538b2592b7c33dbfcc.jpg\n"
     ]
    },
    {
     "name": "stderr",
     "output_type": "stream",
     "text": [
      " 57%|█████▋    | 1567/2737 [10:06<05:40,  3.44it/s]"
     ]
    },
    {
     "name": "stdout",
     "output_type": "stream",
     "text": [
      "../input/painting-vs-photograph-classification-dataset/Raw Data/photos/58546d68df1695e6c4d4a93ff9248c0262321d46.jpg\n",
      "../input/painting-vs-photograph-classification-dataset/Raw Data/photos/ed804460d1a149d96bd67348bf4ec4894a6451ce.jpg\n"
     ]
    },
    {
     "name": "stderr",
     "output_type": "stream",
     "text": [
      " 57%|█████▋    | 1568/2737 [10:06<05:13,  3.73it/s]"
     ]
    },
    {
     "name": "stdout",
     "output_type": "stream",
     "text": [
      "../input/painting-vs-photograph-classification-dataset/Raw Data/painting/ed50a209eac53e80c097ad70a83a08dad2e33d5a.jpg\n"
     ]
    },
    {
     "name": "stderr",
     "output_type": "stream",
     "text": [
      " 57%|█████▋    | 1569/2737 [10:07<06:37,  2.94it/s]"
     ]
    },
    {
     "name": "stdout",
     "output_type": "stream",
     "text": [
      "../input/painting-vs-photograph-classification-dataset/Raw Data/photos/28985ef230d63335ef252080c74ddf024d15bfbc.jpg\n"
     ]
    },
    {
     "name": "stderr",
     "output_type": "stream",
     "text": [
      " 57%|█████▋    | 1570/2737 [10:07<06:05,  3.19it/s]"
     ]
    },
    {
     "name": "stdout",
     "output_type": "stream",
     "text": [
      "../input/painting-vs-photograph-classification-dataset/Raw Data/photos/f39111fe51dacdc9c50c186b5edcd1a9ba39cdc6.jpg\n"
     ]
    },
    {
     "name": "stderr",
     "output_type": "stream",
     "text": [
      " 57%|█████▋    | 1571/2737 [10:07<05:50,  3.33it/s]"
     ]
    },
    {
     "name": "stdout",
     "output_type": "stream",
     "text": [
      "../input/painting-vs-photograph-classification-dataset/Raw Data/photos/d6906f5953d5d27a32c0b8bfa21794e00a9ca8bc.jpg\n"
     ]
    },
    {
     "name": "stderr",
     "output_type": "stream",
     "text": [
      " 57%|█████▋    | 1572/2737 [10:08<05:22,  3.61it/s]"
     ]
    },
    {
     "name": "stdout",
     "output_type": "stream",
     "text": [
      "../input/painting-vs-photograph-classification-dataset/Raw Data/painting/eb44abccd7f831ce31234d00242a782dfd1bb29d.jpg\n"
     ]
    },
    {
     "name": "stderr",
     "output_type": "stream",
     "text": [
      " 57%|█████▋    | 1573/2737 [10:09<09:39,  2.01it/s]"
     ]
    },
    {
     "name": "stdout",
     "output_type": "stream",
     "text": [
      "../input/painting-vs-photograph-classification-dataset/Raw Data/painting/0b2884fd9db8a667f0486eb69b1871aa942f6f1a.jpg\n"
     ]
    },
    {
     "name": "stderr",
     "output_type": "stream",
     "text": [
      " 58%|█████▊    | 1574/2737 [10:09<11:15,  1.72it/s]"
     ]
    },
    {
     "name": "stdout",
     "output_type": "stream",
     "text": [
      "../input/painting-vs-photograph-classification-dataset/Raw Data/photos/719367a0da97df0038de037521b48c3b7dd26627.jpg\n"
     ]
    },
    {
     "name": "stderr",
     "output_type": "stream",
     "text": [
      " 58%|█████▊    | 1576/2737 [10:10<07:37,  2.54it/s]"
     ]
    },
    {
     "name": "stdout",
     "output_type": "stream",
     "text": [
      "../input/painting-vs-photograph-classification-dataset/Raw Data/photos/61b8b29dcd3717ff31d0388bb5a455b864ad9f68.jpg\n",
      "../input/painting-vs-photograph-classification-dataset/Raw Data/painting/b2b32ec1f2f6829276f4bb4f29b4cc641dba2d00.jpg\n"
     ]
    },
    {
     "name": "stderr",
     "output_type": "stream",
     "text": [
      " 58%|█████▊    | 1577/2737 [10:11<11:21,  1.70it/s]"
     ]
    },
    {
     "name": "stdout",
     "output_type": "stream",
     "text": [
      "../input/painting-vs-photograph-classification-dataset/Raw Data/photos/c8436390266794d52bc00bab107adc864d0801f4.jpg\n"
     ]
    },
    {
     "name": "stderr",
     "output_type": "stream",
     "text": [
      " 58%|█████▊    | 1578/2737 [10:11<09:57,  1.94it/s]"
     ]
    },
    {
     "name": "stdout",
     "output_type": "stream",
     "text": [
      "../input/painting-vs-photograph-classification-dataset/Raw Data/photos/d45de4b92d6679877e1341d864b8514494f654b2.jpg\n"
     ]
    },
    {
     "name": "stderr",
     "output_type": "stream",
     "text": [
      " 58%|█████▊    | 1579/2737 [10:11<08:25,  2.29it/s]"
     ]
    },
    {
     "name": "stdout",
     "output_type": "stream",
     "text": [
      "../input/painting-vs-photograph-classification-dataset/Raw Data/photos/d576ec95366c4641d5630c471b0a1fe9e0dbc8fc.jpg\n"
     ]
    },
    {
     "name": "stderr",
     "output_type": "stream",
     "text": [
      " 58%|█████▊    | 1580/2737 [10:12<07:10,  2.69it/s]"
     ]
    },
    {
     "name": "stdout",
     "output_type": "stream",
     "text": [
      "../input/painting-vs-photograph-classification-dataset/Raw Data/photos/a22e8c0154033abd270a3d3da3bdc228c14d840b.jpg\n"
     ]
    },
    {
     "name": "stderr",
     "output_type": "stream",
     "text": [
      " 58%|█████▊    | 1581/2737 [10:12<06:45,  2.85it/s]"
     ]
    },
    {
     "name": "stdout",
     "output_type": "stream",
     "text": [
      "../input/painting-vs-photograph-classification-dataset/Raw Data/photos/a36d4bf2786d5d36d82c12efaaec24387774ed01.jpg\n"
     ]
    },
    {
     "name": "stderr",
     "output_type": "stream",
     "text": [
      " 58%|█████▊    | 1582/2737 [10:12<06:07,  3.14it/s]"
     ]
    },
    {
     "name": "stdout",
     "output_type": "stream",
     "text": [
      "../input/painting-vs-photograph-classification-dataset/Raw Data/photos/c6b702dab416ff1bb6a2b6dbaaa6225ff8e81286.jpg\n"
     ]
    },
    {
     "name": "stderr",
     "output_type": "stream",
     "text": [
      " 58%|█████▊    | 1583/2737 [10:12<05:35,  3.44it/s]"
     ]
    },
    {
     "name": "stdout",
     "output_type": "stream",
     "text": [
      "../input/painting-vs-photograph-classification-dataset/Raw Data/photos/c312461e8a5afd0ead1323f04557b14f7b1362c6.jpg\n"
     ]
    },
    {
     "name": "stderr",
     "output_type": "stream",
     "text": [
      " 58%|█████▊    | 1585/2737 [10:13<04:53,  3.93it/s]"
     ]
    },
    {
     "name": "stdout",
     "output_type": "stream",
     "text": [
      "../input/painting-vs-photograph-classification-dataset/Raw Data/photos/5045178a2aa2cc6dece7bdd57469b9f6446b402d.jpg\n",
      "../input/painting-vs-photograph-classification-dataset/Raw Data/photos/b342fe36f357c52d807a09c41c5d150a5ba15e01.jpg\n"
     ]
    },
    {
     "name": "stderr",
     "output_type": "stream",
     "text": [
      " 58%|█████▊    | 1586/2737 [10:13<04:42,  4.07it/s]"
     ]
    },
    {
     "name": "stdout",
     "output_type": "stream",
     "text": [
      "../input/painting-vs-photograph-classification-dataset/Raw Data/photos/a7c81f8405ecfadf1d195a9ffe0550c100ba2db8.jpg\n"
     ]
    },
    {
     "name": "stderr",
     "output_type": "stream",
     "text": [
      " 58%|█████▊    | 1587/2737 [10:13<04:39,  4.12it/s]"
     ]
    },
    {
     "name": "stdout",
     "output_type": "stream",
     "text": [
      "../input/painting-vs-photograph-classification-dataset/Raw Data/photos/73d57d7ac7d548e256d3e8fbea0849d294e12c40.jpg\n"
     ]
    },
    {
     "name": "stderr",
     "output_type": "stream",
     "text": [
      " 58%|█████▊    | 1588/2737 [10:14<04:39,  4.11it/s]"
     ]
    },
    {
     "name": "stdout",
     "output_type": "stream",
     "text": [
      "../input/painting-vs-photograph-classification-dataset/Raw Data/photos/b64df5a8cb8a2eb925b8c371a62d4cac4ab749d8.jpg\n"
     ]
    },
    {
     "name": "stderr",
     "output_type": "stream",
     "text": [
      " 58%|█████▊    | 1589/2737 [10:14<04:34,  4.19it/s]"
     ]
    },
    {
     "name": "stdout",
     "output_type": "stream",
     "text": [
      "../input/painting-vs-photograph-classification-dataset/Raw Data/photos/80b008a45922748e060a54bdf0555213be4952d5.jpg\n"
     ]
    },
    {
     "name": "stderr",
     "output_type": "stream",
     "text": [
      " 58%|█████▊    | 1590/2737 [10:14<05:09,  3.71it/s]"
     ]
    },
    {
     "name": "stdout",
     "output_type": "stream",
     "text": [
      "../input/painting-vs-photograph-classification-dataset/Raw Data/photos/c46eb4df804fe86cf88eb4175e21a3135c91ee1b.jpg\n"
     ]
    },
    {
     "name": "stderr",
     "output_type": "stream",
     "text": [
      " 58%|█████▊    | 1591/2737 [10:14<04:56,  3.87it/s]"
     ]
    },
    {
     "name": "stdout",
     "output_type": "stream",
     "text": [
      "../input/painting-vs-photograph-classification-dataset/Raw Data/photos/64812ce56e48248c4069814ada418fa488c7c5b1.jpg\n"
     ]
    },
    {
     "name": "stderr",
     "output_type": "stream",
     "text": [
      " 58%|█████▊    | 1592/2737 [10:15<04:45,  4.01it/s]"
     ]
    },
    {
     "name": "stdout",
     "output_type": "stream",
     "text": [
      "../input/painting-vs-photograph-classification-dataset/Raw Data/painting/f3fafa252be12dd9c90287e1b197090d795b7807.jpg\n"
     ]
    },
    {
     "name": "stderr",
     "output_type": "stream",
     "text": [
      " 58%|█████▊    | 1593/2737 [10:15<08:28,  2.25it/s]"
     ]
    },
    {
     "name": "stdout",
     "output_type": "stream",
     "text": [
      "../input/painting-vs-photograph-classification-dataset/Raw Data/photos/087f7c8433eaa624dc45a43ca5ea2ab1288fd46c.jpg\n"
     ]
    },
    {
     "name": "stderr",
     "output_type": "stream",
     "text": [
      " 58%|█████▊    | 1594/2737 [10:16<07:25,  2.56it/s]"
     ]
    },
    {
     "name": "stdout",
     "output_type": "stream",
     "text": [
      "../input/painting-vs-photograph-classification-dataset/Raw Data/photos/ecf2f7f86e6578fe9a7222e1d646fa0b365fcc0d.jpg\n"
     ]
    },
    {
     "name": "stderr",
     "output_type": "stream",
     "text": [
      " 58%|█████▊    | 1595/2737 [10:16<06:49,  2.79it/s]"
     ]
    },
    {
     "name": "stdout",
     "output_type": "stream",
     "text": [
      "../input/painting-vs-photograph-classification-dataset/Raw Data/painting/cdb0b481eabc8370add4af7a6155f4903e1f15b0.jpg\n"
     ]
    },
    {
     "name": "stderr",
     "output_type": "stream",
     "text": [
      " 58%|█████▊    | 1596/2737 [10:17<09:53,  1.92it/s]"
     ]
    },
    {
     "name": "stdout",
     "output_type": "stream",
     "text": [
      "../input/painting-vs-photograph-classification-dataset/Raw Data/photos/b0e7a077cc593407d742d808d660a845e2b87478.jpg\n"
     ]
    },
    {
     "name": "stderr",
     "output_type": "stream",
     "text": [
      " 58%|█████▊    | 1597/2737 [10:17<08:16,  2.30it/s]"
     ]
    },
    {
     "name": "stdout",
     "output_type": "stream",
     "text": [
      "../input/painting-vs-photograph-classification-dataset/Raw Data/photos/a7b86527af284e64980d70c89e0c94398b2eeaea.jpg\n"
     ]
    },
    {
     "name": "stderr",
     "output_type": "stream",
     "text": [
      " 58%|█████▊    | 1598/2737 [10:17<07:05,  2.68it/s]"
     ]
    },
    {
     "name": "stdout",
     "output_type": "stream",
     "text": [
      "../input/painting-vs-photograph-classification-dataset/Raw Data/photos/869e23ab698fd410ad387d576ae489bf95f3f899.jpg\n"
     ]
    },
    {
     "name": "stderr",
     "output_type": "stream",
     "text": [
      " 58%|█████▊    | 1599/2737 [10:18<06:15,  3.03it/s]"
     ]
    },
    {
     "name": "stdout",
     "output_type": "stream",
     "text": [
      "../input/painting-vs-photograph-classification-dataset/Raw Data/painting/d34b6a2e073aaa25a3dc4662e5fb7ef15ce6f66c.jpg\n"
     ]
    },
    {
     "name": "stderr",
     "output_type": "stream",
     "text": [
      " 58%|█████▊    | 1600/2737 [10:18<09:16,  2.04it/s]"
     ]
    },
    {
     "name": "stdout",
     "output_type": "stream",
     "text": [
      "../input/painting-vs-photograph-classification-dataset/Raw Data/photos/bdaf2bb59f718b4c1005a962d8b8ff1d4ae68d61.jpg\n"
     ]
    },
    {
     "name": "stderr",
     "output_type": "stream",
     "text": [
      " 58%|█████▊    | 1601/2737 [10:19<07:45,  2.44it/s]"
     ]
    },
    {
     "name": "stdout",
     "output_type": "stream",
     "text": [
      "../input/painting-vs-photograph-classification-dataset/Raw Data/photos/2bb1de56920b1ee4534776b6855e904ec92104cb.jpg\n"
     ]
    },
    {
     "name": "stderr",
     "output_type": "stream",
     "text": [
      " 59%|█████▊    | 1602/2737 [10:19<06:45,  2.80it/s]"
     ]
    },
    {
     "name": "stdout",
     "output_type": "stream",
     "text": [
      "../input/painting-vs-photograph-classification-dataset/Raw Data/photos/68407412b88a58803caf049a9792a3b4e5e513dd.jpg\n"
     ]
    },
    {
     "name": "stderr",
     "output_type": "stream",
     "text": [
      " 59%|█████▊    | 1603/2737 [10:19<06:00,  3.15it/s]"
     ]
    },
    {
     "name": "stdout",
     "output_type": "stream",
     "text": [
      "../input/painting-vs-photograph-classification-dataset/Raw Data/photos/e6d3c6d536ba582c3deaacc8c7398ff47b294568.jpg\n"
     ]
    },
    {
     "name": "stderr",
     "output_type": "stream",
     "text": [
      " 59%|█████▊    | 1604/2737 [10:19<05:32,  3.41it/s]"
     ]
    },
    {
     "name": "stdout",
     "output_type": "stream",
     "text": [
      "../input/painting-vs-photograph-classification-dataset/Raw Data/painting/6732d531dd8e3b93e731fb3e601b3b3ed03f6c8e.jpg\n"
     ]
    },
    {
     "name": "stderr",
     "output_type": "stream",
     "text": [
      " 59%|█████▊    | 1605/2737 [10:20<07:32,  2.50it/s]"
     ]
    },
    {
     "name": "stdout",
     "output_type": "stream",
     "text": [
      "../input/painting-vs-photograph-classification-dataset/Raw Data/photos/f993d2a116633981cc1deae02f1b6425de827921.jpg\n"
     ]
    },
    {
     "name": "stderr",
     "output_type": "stream",
     "text": [
      " 59%|█████▊    | 1606/2737 [10:20<06:35,  2.86it/s]"
     ]
    },
    {
     "name": "stdout",
     "output_type": "stream",
     "text": [
      "../input/painting-vs-photograph-classification-dataset/Raw Data/photos/61c9193891d542e54d2dfb622c9a7cda049d8e77.jpg\n"
     ]
    },
    {
     "name": "stderr",
     "output_type": "stream",
     "text": [
      " 59%|█████▊    | 1607/2737 [10:21<06:13,  3.03it/s]"
     ]
    },
    {
     "name": "stdout",
     "output_type": "stream",
     "text": [
      "../input/painting-vs-photograph-classification-dataset/Raw Data/painting/c61428adc85ac17c7b9484c9303a66caf17aa4be.jpg\n"
     ]
    },
    {
     "name": "stderr",
     "output_type": "stream",
     "text": [
      " 59%|█████▉    | 1608/2737 [10:21<08:34,  2.19it/s]"
     ]
    },
    {
     "name": "stdout",
     "output_type": "stream",
     "text": [
      "../input/painting-vs-photograph-classification-dataset/Raw Data/photos/d37ffdfdd8d630b66470804ddca3475867bd1a5c.jpg\n"
     ]
    },
    {
     "name": "stderr",
     "output_type": "stream",
     "text": [
      " 59%|█████▉    | 1609/2737 [10:22<07:18,  2.57it/s]"
     ]
    },
    {
     "name": "stdout",
     "output_type": "stream",
     "text": [
      "../input/painting-vs-photograph-classification-dataset/Raw Data/painting/5315b323769a2079f82a1a72cf268e289b9e7a6f.jpg\n"
     ]
    },
    {
     "name": "stderr",
     "output_type": "stream",
     "text": [
      " 59%|█████▉    | 1610/2737 [10:22<09:25,  1.99it/s]"
     ]
    },
    {
     "name": "stdout",
     "output_type": "stream",
     "text": [
      "../input/painting-vs-photograph-classification-dataset/Raw Data/photos/8ba4e01f36ce2281c7a0fa4a508a5b262a000bd7.jpg\n"
     ]
    },
    {
     "name": "stderr",
     "output_type": "stream",
     "text": [
      " 59%|█████▉    | 1611/2737 [10:23<07:47,  2.41it/s]"
     ]
    },
    {
     "name": "stdout",
     "output_type": "stream",
     "text": [
      "../input/painting-vs-photograph-classification-dataset/Raw Data/painting/04df04411da312374c3b565c6ca4423a1eaf1737.jpg\n"
     ]
    },
    {
     "name": "stderr",
     "output_type": "stream",
     "text": [
      " 59%|█████▉    | 1613/2737 [10:24<07:58,  2.35it/s]"
     ]
    },
    {
     "name": "stdout",
     "output_type": "stream",
     "text": [
      "../input/painting-vs-photograph-classification-dataset/Raw Data/photos/27515e05d6a168435bb3e31697d7083827467f40.jpg\n",
      "../input/painting-vs-photograph-classification-dataset/Raw Data/painting/eb8292853f0026ca0d2673aeae1532879a8c660b.jpg\n"
     ]
    },
    {
     "name": "stderr",
     "output_type": "stream",
     "text": [
      " 59%|█████▉    | 1614/2737 [10:25<11:15,  1.66it/s]"
     ]
    },
    {
     "name": "stdout",
     "output_type": "stream",
     "text": [
      "../input/painting-vs-photograph-classification-dataset/Raw Data/photos/d64b4dfe8fa85d43f2af06a05ed6347a204b7d8c.jpg\n"
     ]
    },
    {
     "name": "stderr",
     "output_type": "stream",
     "text": [
      " 59%|█████▉    | 1615/2737 [10:25<09:20,  2.00it/s]"
     ]
    },
    {
     "name": "stdout",
     "output_type": "stream",
     "text": [
      "../input/painting-vs-photograph-classification-dataset/Raw Data/photos/281194be60efc1f749004df5131abd00258bd4f9.jpg\n"
     ]
    },
    {
     "name": "stderr",
     "output_type": "stream",
     "text": [
      " 59%|█████▉    | 1616/2737 [10:25<07:42,  2.42it/s]"
     ]
    },
    {
     "name": "stdout",
     "output_type": "stream",
     "text": [
      "../input/painting-vs-photograph-classification-dataset/Raw Data/photos/40629fc7a176d0cc51b2fa4fe415af7ad57aadd7.jpg\n"
     ]
    },
    {
     "name": "stderr",
     "output_type": "stream",
     "text": [
      " 59%|█████▉    | 1617/2737 [10:25<06:38,  2.81it/s]"
     ]
    },
    {
     "name": "stdout",
     "output_type": "stream",
     "text": [
      "../input/painting-vs-photograph-classification-dataset/Raw Data/photos/44ed3ac11a43db47878d8683aa360d4827db7524.jpg\n"
     ]
    },
    {
     "name": "stderr",
     "output_type": "stream",
     "text": [
      " 59%|█████▉    | 1618/2737 [10:25<06:02,  3.09it/s]"
     ]
    },
    {
     "name": "stdout",
     "output_type": "stream",
     "text": [
      "../input/painting-vs-photograph-classification-dataset/Raw Data/photos/e81e7f9d7aa3f32211219c42c9a69153e3b896e8.jpg\n"
     ]
    },
    {
     "name": "stderr",
     "output_type": "stream",
     "text": [
      " 59%|█████▉    | 1620/2737 [10:26<04:52,  3.82it/s]"
     ]
    },
    {
     "name": "stdout",
     "output_type": "stream",
     "text": [
      "../input/painting-vs-photograph-classification-dataset/Raw Data/photos/1577e37b41f3da13498acfbd3c67edb29fd69ee1.jpg\n",
      "../input/painting-vs-photograph-classification-dataset/Raw Data/photos/f2bfc71102dcfbc0f76c5b7413a2699b109f83bc.jpg\n"
     ]
    },
    {
     "name": "stderr",
     "output_type": "stream",
     "text": [
      " 59%|█████▉    | 1621/2737 [10:26<04:43,  3.93it/s]"
     ]
    },
    {
     "name": "stdout",
     "output_type": "stream",
     "text": [
      "../input/painting-vs-photograph-classification-dataset/Raw Data/photos/491238c4dd0685584c8520d9e6f697830cc729e9.jpg\n"
     ]
    },
    {
     "name": "stderr",
     "output_type": "stream",
     "text": [
      " 59%|█████▉    | 1622/2737 [10:26<04:48,  3.87it/s]"
     ]
    },
    {
     "name": "stdout",
     "output_type": "stream",
     "text": [
      "../input/painting-vs-photograph-classification-dataset/Raw Data/photos/49a28627b04e94cea45afdf72ee454f41509c2ba.jpg\n"
     ]
    },
    {
     "name": "stderr",
     "output_type": "stream",
     "text": [
      " 59%|█████▉    | 1623/2737 [10:27<04:39,  3.98it/s]"
     ]
    },
    {
     "name": "stdout",
     "output_type": "stream",
     "text": [
      "../input/painting-vs-photograph-classification-dataset/Raw Data/painting/ed229d86b085a973b55083974f7f178d96dbedff.jpg\n"
     ]
    },
    {
     "name": "stderr",
     "output_type": "stream",
     "text": [
      " 59%|█████▉    | 1624/2737 [10:27<07:42,  2.41it/s]"
     ]
    },
    {
     "name": "stdout",
     "output_type": "stream",
     "text": [
      "../input/painting-vs-photograph-classification-dataset/Raw Data/painting/579980b0d43afcb0186ed4a27697b408abd3893c.jpg\n"
     ]
    },
    {
     "name": "stderr",
     "output_type": "stream",
     "text": [
      " 59%|█████▉    | 1625/2737 [10:28<09:42,  1.91it/s]"
     ]
    },
    {
     "name": "stdout",
     "output_type": "stream",
     "text": [
      "../input/painting-vs-photograph-classification-dataset/Raw Data/photos/a27da0f3809b66f9731336b429e62d87ee4aafbe.jpg\n"
     ]
    },
    {
     "name": "stderr",
     "output_type": "stream",
     "text": [
      " 59%|█████▉    | 1626/2737 [10:28<08:05,  2.29it/s]"
     ]
    },
    {
     "name": "stdout",
     "output_type": "stream",
     "text": [
      "../input/painting-vs-photograph-classification-dataset/Raw Data/photos/240b4d84133010e74ca87c355d13bb94d5772928.jpg\n"
     ]
    },
    {
     "name": "stderr",
     "output_type": "stream",
     "text": [
      " 59%|█████▉    | 1627/2737 [10:29<06:52,  2.69it/s]"
     ]
    },
    {
     "name": "stdout",
     "output_type": "stream",
     "text": [
      "../input/painting-vs-photograph-classification-dataset/Raw Data/painting/f008f284a3035416f0b61cf27093e7c38d2170cd.jpg\n"
     ]
    },
    {
     "name": "stderr",
     "output_type": "stream",
     "text": [
      " 60%|█████▉    | 1629/2737 [10:30<07:00,  2.64it/s]"
     ]
    },
    {
     "name": "stdout",
     "output_type": "stream",
     "text": [
      "../input/painting-vs-photograph-classification-dataset/Raw Data/photos/b7cf7370bc7233e42ebd2e076d9c1c16e8642541.jpg\n",
      "../input/painting-vs-photograph-classification-dataset/Raw Data/photos/dbd7847866f0e670076216edbffe4925de60cbd3.jpg\n"
     ]
    },
    {
     "name": "stderr",
     "output_type": "stream",
     "text": [
      " 60%|█████▉    | 1630/2737 [10:30<06:21,  2.90it/s]"
     ]
    },
    {
     "name": "stdout",
     "output_type": "stream",
     "text": [
      "../input/painting-vs-photograph-classification-dataset/Raw Data/photos/168a8e578ca834e56bac04187a8165db3a3554f9.jpg\n"
     ]
    },
    {
     "name": "stderr",
     "output_type": "stream",
     "text": [
      " 60%|█████▉    | 1631/2737 [10:30<05:48,  3.18it/s]"
     ]
    },
    {
     "name": "stdout",
     "output_type": "stream",
     "text": [
      "../input/painting-vs-photograph-classification-dataset/Raw Data/photos/70d2bba4445310a5cbe06419a263f3e777949f65.jpg\n"
     ]
    },
    {
     "name": "stderr",
     "output_type": "stream",
     "text": [
      " 60%|█████▉    | 1632/2737 [10:30<05:21,  3.44it/s]"
     ]
    },
    {
     "name": "stdout",
     "output_type": "stream",
     "text": [
      "../input/painting-vs-photograph-classification-dataset/Raw Data/photos/62446922328a1521bceecb875abafc7e4e70d547.jpg\n"
     ]
    },
    {
     "name": "stderr",
     "output_type": "stream",
     "text": [
      " 60%|█████▉    | 1633/2737 [10:30<04:58,  3.70it/s]"
     ]
    },
    {
     "name": "stdout",
     "output_type": "stream",
     "text": [
      "../input/painting-vs-photograph-classification-dataset/Raw Data/painting/58ae5b13af9ba1a73f468643483c180cac13604e.jpg\n"
     ]
    },
    {
     "name": "stderr",
     "output_type": "stream",
     "text": [
      " 60%|█████▉    | 1634/2737 [10:31<06:03,  3.04it/s]"
     ]
    },
    {
     "name": "stdout",
     "output_type": "stream",
     "text": [
      "../input/painting-vs-photograph-classification-dataset/Raw Data/painting/e8072eecfe7c85df0ebce2a19f55965fdbc9a14b.jpg\n"
     ]
    },
    {
     "name": "stderr",
     "output_type": "stream",
     "text": [
      " 60%|█████▉    | 1635/2737 [10:32<08:17,  2.21it/s]"
     ]
    },
    {
     "name": "stdout",
     "output_type": "stream",
     "text": [
      "../input/painting-vs-photograph-classification-dataset/Raw Data/photos/ed84867ec3dddee3781881f8659edfbcefdc7d6b.jpg\n"
     ]
    },
    {
     "name": "stderr",
     "output_type": "stream",
     "text": [
      " 60%|█████▉    | 1636/2737 [10:32<06:58,  2.63it/s]"
     ]
    },
    {
     "name": "stdout",
     "output_type": "stream",
     "text": [
      "../input/painting-vs-photograph-classification-dataset/Raw Data/painting/f749d3ff1265090c832734c43115ec43b8336301.jpg\n"
     ]
    },
    {
     "name": "stderr",
     "output_type": "stream",
     "text": [
      " 60%|█████▉    | 1637/2737 [10:33<10:48,  1.69it/s]"
     ]
    },
    {
     "name": "stdout",
     "output_type": "stream",
     "text": [
      "../input/painting-vs-photograph-classification-dataset/Raw Data/painting/f1abd576bec468b5a9049c9d51139daff680a4bb.jpg\n"
     ]
    },
    {
     "name": "stderr",
     "output_type": "stream",
     "text": [
      " 60%|█████▉    | 1638/2737 [10:34<11:17,  1.62it/s]"
     ]
    },
    {
     "name": "stdout",
     "output_type": "stream",
     "text": [
      "../input/painting-vs-photograph-classification-dataset/Raw Data/photos/a278914dfd4db541c9bc0a3f14f577ad8d3cf280.jpg\n"
     ]
    },
    {
     "name": "stderr",
     "output_type": "stream",
     "text": [
      " 60%|█████▉    | 1639/2737 [10:34<09:17,  1.97it/s]"
     ]
    },
    {
     "name": "stdout",
     "output_type": "stream",
     "text": [
      "../input/painting-vs-photograph-classification-dataset/Raw Data/photos/f872b6d8f00d77fd6e543685440347b324dc6eed.jpg\n"
     ]
    },
    {
     "name": "stderr",
     "output_type": "stream",
     "text": [
      " 60%|█████▉    | 1640/2737 [10:34<07:51,  2.33it/s]"
     ]
    },
    {
     "name": "stdout",
     "output_type": "stream",
     "text": [
      "../input/painting-vs-photograph-classification-dataset/Raw Data/painting/6992e2ad5fc328e8843361d8b7f94b9a55a3779a.jpg\n"
     ]
    },
    {
     "name": "stderr",
     "output_type": "stream",
     "text": [
      " 60%|█████▉    | 1641/2737 [10:35<09:10,  1.99it/s]"
     ]
    },
    {
     "name": "stdout",
     "output_type": "stream",
     "text": [
      "../input/painting-vs-photograph-classification-dataset/Raw Data/photos/86c33f46ef69c6f15626b11d281f5b916c34a934.jpg\n"
     ]
    },
    {
     "name": "stderr",
     "output_type": "stream",
     "text": [
      " 60%|█████▉    | 1642/2737 [10:35<08:03,  2.26it/s]"
     ]
    },
    {
     "name": "stdout",
     "output_type": "stream",
     "text": [
      "../input/painting-vs-photograph-classification-dataset/Raw Data/photos/ffc8826af22038e8f5a23baf04ee267b76f1a01d.jpg\n"
     ]
    },
    {
     "name": "stderr",
     "output_type": "stream",
     "text": [
      " 60%|██████    | 1643/2737 [10:35<06:54,  2.64it/s]"
     ]
    },
    {
     "name": "stdout",
     "output_type": "stream",
     "text": [
      "../input/painting-vs-photograph-classification-dataset/Raw Data/photos/44ddcc6d9aeeb98acb80ac07db4f4aa3cbec8718.jpg\n"
     ]
    },
    {
     "name": "stderr",
     "output_type": "stream",
     "text": [
      " 60%|██████    | 1644/2737 [10:36<06:28,  2.81it/s]"
     ]
    },
    {
     "name": "stdout",
     "output_type": "stream",
     "text": [
      "../input/painting-vs-photograph-classification-dataset/Raw Data/photos/37ff7ec6e528363d99dd2c5f7f37ad4e75008c72.jpg\n"
     ]
    },
    {
     "name": "stderr",
     "output_type": "stream",
     "text": [
      " 60%|██████    | 1645/2737 [10:36<05:49,  3.12it/s]"
     ]
    },
    {
     "name": "stdout",
     "output_type": "stream",
     "text": [
      "../input/painting-vs-photograph-classification-dataset/Raw Data/painting/05932992fdde050f83d62c06c525e15c2342d564.jpg\n"
     ]
    },
    {
     "name": "stderr",
     "output_type": "stream",
     "text": [
      " 60%|██████    | 1646/2737 [10:37<09:45,  1.86it/s]"
     ]
    },
    {
     "name": "stdout",
     "output_type": "stream",
     "text": [
      "../input/painting-vs-photograph-classification-dataset/Raw Data/photos/f3ff05b07554bd66dc3a96daef7ff06f19b8c4a9.jpg\n"
     ]
    },
    {
     "name": "stderr",
     "output_type": "stream",
     "text": [
      " 60%|██████    | 1647/2737 [10:37<08:23,  2.17it/s]"
     ]
    },
    {
     "name": "stdout",
     "output_type": "stream",
     "text": [
      "../input/painting-vs-photograph-classification-dataset/Raw Data/photos/204412db6a5fce287d915a27c630aa23cf80037d.jpg\n"
     ]
    },
    {
     "name": "stderr",
     "output_type": "stream",
     "text": [
      " 60%|██████    | 1649/2737 [10:38<06:05,  2.97it/s]"
     ]
    },
    {
     "name": "stdout",
     "output_type": "stream",
     "text": [
      "../input/painting-vs-photograph-classification-dataset/Raw Data/photos/26465aaa16fb91ca4541051e4b0479a9fb050d03.jpg\n",
      "../input/painting-vs-photograph-classification-dataset/Raw Data/photos/d9d798b434a4e85246bfde77ab13170304e14007.jpg\n"
     ]
    },
    {
     "name": "stderr",
     "output_type": "stream",
     "text": [
      " 60%|██████    | 1651/2737 [10:38<05:13,  3.46it/s]"
     ]
    },
    {
     "name": "stdout",
     "output_type": "stream",
     "text": [
      "../input/painting-vs-photograph-classification-dataset/Raw Data/photos/373a596c2682ae242c9849129b43473d3386440a.jpg\n",
      "../input/painting-vs-photograph-classification-dataset/Raw Data/photos/55ae357fcd29c422b2162e38169dde7fd8a555a8.jpg\n"
     ]
    },
    {
     "name": "stderr",
     "output_type": "stream",
     "text": [
      " 60%|██████    | 1652/2737 [10:38<04:56,  3.66it/s]"
     ]
    },
    {
     "name": "stdout",
     "output_type": "stream",
     "text": [
      "../input/painting-vs-photograph-classification-dataset/Raw Data/photos/7007fdce56f6b0bdbeb16cf55cc23293338a4d26.jpg\n"
     ]
    },
    {
     "name": "stderr",
     "output_type": "stream",
     "text": [
      " 60%|██████    | 1653/2737 [10:39<05:23,  3.36it/s]"
     ]
    },
    {
     "name": "stdout",
     "output_type": "stream",
     "text": [
      "../input/painting-vs-photograph-classification-dataset/Raw Data/photos/aaf0ab0fb621bd91fa7c78e6abc7bfbacbcc3a50.jpg\n"
     ]
    },
    {
     "name": "stderr",
     "output_type": "stream",
     "text": [
      " 60%|██████    | 1654/2737 [10:39<05:05,  3.54it/s]"
     ]
    },
    {
     "name": "stdout",
     "output_type": "stream",
     "text": [
      "../input/painting-vs-photograph-classification-dataset/Raw Data/painting/54a7f1e7840428cd57985952e78d0e806ec77579.jpg\n"
     ]
    },
    {
     "name": "stderr",
     "output_type": "stream",
     "text": [
      " 60%|██████    | 1655/2737 [10:40<07:04,  2.55it/s]"
     ]
    },
    {
     "name": "stdout",
     "output_type": "stream",
     "text": [
      "../input/painting-vs-photograph-classification-dataset/Raw Data/photos/94c54a8fcc7cb14074ac10a5ef6e298149b8c007.jpg\n"
     ]
    },
    {
     "name": "stderr",
     "output_type": "stream",
     "text": [
      " 61%|██████    | 1656/2737 [10:40<06:23,  2.82it/s]"
     ]
    },
    {
     "name": "stdout",
     "output_type": "stream",
     "text": [
      "../input/painting-vs-photograph-classification-dataset/Raw Data/photos/834dc5bed5357a583dabb1053a0ad41bb77823b3.jpg\n"
     ]
    },
    {
     "name": "stderr",
     "output_type": "stream",
     "text": [
      " 61%|██████    | 1658/2737 [10:40<04:56,  3.64it/s]"
     ]
    },
    {
     "name": "stdout",
     "output_type": "stream",
     "text": [
      "../input/painting-vs-photograph-classification-dataset/Raw Data/photos/f0a60f1e360b43bb131290d21d67f991c763c392.jpg\n",
      "../input/painting-vs-photograph-classification-dataset/Raw Data/photos/f3f4956ded2cd4022238d379b2768e1da089a87a.jpg\n"
     ]
    },
    {
     "name": "stderr",
     "output_type": "stream",
     "text": [
      " 61%|██████    | 1659/2737 [10:41<04:42,  3.81it/s]"
     ]
    },
    {
     "name": "stdout",
     "output_type": "stream",
     "text": [
      "../input/painting-vs-photograph-classification-dataset/Raw Data/painting/f1f2ebfb5ab562fd303590ccb15639b28dbab2f8.jpg\n"
     ]
    },
    {
     "name": "stderr",
     "output_type": "stream",
     "text": [
      " 61%|██████    | 1660/2737 [10:41<07:36,  2.36it/s]"
     ]
    },
    {
     "name": "stdout",
     "output_type": "stream",
     "text": [
      "../input/painting-vs-photograph-classification-dataset/Raw Data/painting/bb56578afdd24d32b857651f6ac38e6094b22c86.jpg\n"
     ]
    },
    {
     "name": "stderr",
     "output_type": "stream",
     "text": [
      " 61%|██████    | 1662/2737 [10:42<07:42,  2.32it/s]"
     ]
    },
    {
     "name": "stdout",
     "output_type": "stream",
     "text": [
      "../input/painting-vs-photograph-classification-dataset/Raw Data/photos/4985350a23e9a0e4591c5468edda2c7e43552313.jpg\n",
      "../input/painting-vs-photograph-classification-dataset/Raw Data/photos/9326f09ce6cb7d071e0a145e64402acf88c78319.jpg\n"
     ]
    },
    {
     "name": "stderr",
     "output_type": "stream",
     "text": [
      " 61%|██████    | 1663/2737 [10:43<06:31,  2.74it/s]"
     ]
    },
    {
     "name": "stdout",
     "output_type": "stream",
     "text": [
      "../input/painting-vs-photograph-classification-dataset/Raw Data/photos/2431bd61d8a07f4ab39077998f05940077de856d.jpg\n"
     ]
    },
    {
     "name": "stderr",
     "output_type": "stream",
     "text": [
      " 61%|██████    | 1665/2737 [10:43<05:04,  3.52it/s]"
     ]
    },
    {
     "name": "stdout",
     "output_type": "stream",
     "text": [
      "../input/painting-vs-photograph-classification-dataset/Raw Data/photos/a1e57f0637e6b8155269fd84fed156d239037794.jpg\n",
      "../input/painting-vs-photograph-classification-dataset/Raw Data/painting/efb89898ade3f031ceb13b703df14d50b2cd233e.jpg\n"
     ]
    },
    {
     "name": "stderr",
     "output_type": "stream",
     "text": [
      " 61%|██████    | 1666/2737 [10:44<09:03,  1.97it/s]"
     ]
    },
    {
     "name": "stdout",
     "output_type": "stream",
     "text": [
      "../input/painting-vs-photograph-classification-dataset/Raw Data/painting/f7a7b7f45474624c0d0503df84036a96c9c08e99.jpg\n"
     ]
    },
    {
     "name": "stderr",
     "output_type": "stream",
     "text": [
      " 61%|██████    | 1667/2737 [10:45<10:32,  1.69it/s]"
     ]
    },
    {
     "name": "stdout",
     "output_type": "stream",
     "text": [
      "../input/painting-vs-photograph-classification-dataset/Raw Data/painting/f4aba3d5324bb4e2073a319736a4e13c02caca3e.jpg\n"
     ]
    },
    {
     "name": "stderr",
     "output_type": "stream",
     "text": [
      " 61%|██████    | 1668/2737 [10:46<11:30,  1.55it/s]"
     ]
    },
    {
     "name": "stdout",
     "output_type": "stream",
     "text": [
      "../input/painting-vs-photograph-classification-dataset/Raw Data/photos/fec6d51a27127ff23384e09d63f7bfda33ae27ff.jpg\n"
     ]
    },
    {
     "name": "stderr",
     "output_type": "stream",
     "text": [
      " 61%|██████    | 1669/2737 [10:46<09:27,  1.88it/s]"
     ]
    },
    {
     "name": "stdout",
     "output_type": "stream",
     "text": [
      "../input/painting-vs-photograph-classification-dataset/Raw Data/photos/cca8011cc7a9b9ae8f81658657920b2a20b8bf13.jpg\n"
     ]
    },
    {
     "name": "stderr",
     "output_type": "stream",
     "text": [
      " 61%|██████    | 1670/2737 [10:46<07:53,  2.25it/s]"
     ]
    },
    {
     "name": "stdout",
     "output_type": "stream",
     "text": [
      "../input/painting-vs-photograph-classification-dataset/Raw Data/painting/258ec4117a0eaec6aed23520c89c38290b385c7d.jpg\n"
     ]
    },
    {
     "name": "stderr",
     "output_type": "stream",
     "text": [
      " 61%|██████    | 1671/2737 [10:47<11:02,  1.61it/s]"
     ]
    },
    {
     "name": "stdout",
     "output_type": "stream",
     "text": [
      "../input/painting-vs-photograph-classification-dataset/Raw Data/photos/1e1cc82bb145fe4703334584d45c73ecdf4192db.jpg\n"
     ]
    },
    {
     "name": "stderr",
     "output_type": "stream",
     "text": [
      " 61%|██████    | 1672/2737 [10:47<09:20,  1.90it/s]"
     ]
    },
    {
     "name": "stdout",
     "output_type": "stream",
     "text": [
      "../input/painting-vs-photograph-classification-dataset/Raw Data/photos/71bbead812f377ffb5ae2f2f83a316a95c24e22d.jpg\n"
     ]
    },
    {
     "name": "stderr",
     "output_type": "stream",
     "text": [
      " 61%|██████    | 1673/2737 [10:48<07:43,  2.30it/s]"
     ]
    },
    {
     "name": "stdout",
     "output_type": "stream",
     "text": [
      "../input/painting-vs-photograph-classification-dataset/Raw Data/painting/0270bda63bab5c41b216f719cbc937b0b77d83b5.jpg\n"
     ]
    },
    {
     "name": "stderr",
     "output_type": "stream",
     "text": [
      " 61%|██████    | 1674/2737 [10:48<08:22,  2.11it/s]"
     ]
    },
    {
     "name": "stdout",
     "output_type": "stream",
     "text": [
      "../input/painting-vs-photograph-classification-dataset/Raw Data/photos/45d181f014899057135c7ab116bb15bc0328b8f5.jpg\n"
     ]
    },
    {
     "name": "stderr",
     "output_type": "stream",
     "text": [
      " 61%|██████    | 1675/2737 [10:48<07:07,  2.48it/s]"
     ]
    },
    {
     "name": "stdout",
     "output_type": "stream",
     "text": [
      "../input/painting-vs-photograph-classification-dataset/Raw Data/painting/942a94aad0011d4a9b7dcd521b95f85bc9df177a.jpg\n"
     ]
    },
    {
     "name": "stderr",
     "output_type": "stream",
     "text": [
      " 61%|██████    | 1676/2737 [10:49<09:36,  1.84it/s]"
     ]
    },
    {
     "name": "stdout",
     "output_type": "stream",
     "text": [
      "../input/painting-vs-photograph-classification-dataset/Raw Data/photos/80ef0ff39ad9520256b683d9d5e2536274d04caa.jpg\n"
     ]
    },
    {
     "name": "stderr",
     "output_type": "stream",
     "text": [
      " 61%|██████▏   | 1677/2737 [10:50<08:00,  2.20it/s]"
     ]
    },
    {
     "name": "stdout",
     "output_type": "stream",
     "text": [
      "../input/painting-vs-photograph-classification-dataset/Raw Data/photos/dfa48f7735b6e685ace51e14b7036f6788bee407.jpg\n"
     ]
    },
    {
     "name": "stderr",
     "output_type": "stream",
     "text": [
      " 61%|██████▏   | 1678/2737 [10:50<06:44,  2.62it/s]"
     ]
    },
    {
     "name": "stdout",
     "output_type": "stream",
     "text": [
      "../input/painting-vs-photograph-classification-dataset/Raw Data/painting/f53d8c0702d7a5012f22810cff7eec8b6f277dcd.jpg\n"
     ]
    },
    {
     "name": "stderr",
     "output_type": "stream",
     "text": [
      " 61%|██████▏   | 1680/2737 [10:51<06:54,  2.55it/s]"
     ]
    },
    {
     "name": "stdout",
     "output_type": "stream",
     "text": [
      "../input/painting-vs-photograph-classification-dataset/Raw Data/photos/d50eec85fbaab58d9515b71e34aaaea37b751553.jpg\n",
      "../input/painting-vs-photograph-classification-dataset/Raw Data/photos/cf9bb7464f767432c3472d7aa26b79312c21fcbc.jpg\n"
     ]
    },
    {
     "name": "stderr",
     "output_type": "stream",
     "text": [
      " 61%|██████▏   | 1681/2737 [10:51<05:54,  2.98it/s]"
     ]
    },
    {
     "name": "stdout",
     "output_type": "stream",
     "text": [
      "../input/painting-vs-photograph-classification-dataset/Raw Data/painting/8fcc1a164cc2c077af869d5e597084175fb98664.jpg\n"
     ]
    },
    {
     "name": "stderr",
     "output_type": "stream",
     "text": [
      " 61%|██████▏   | 1682/2737 [10:52<07:36,  2.31it/s]"
     ]
    },
    {
     "name": "stdout",
     "output_type": "stream",
     "text": [
      "../input/painting-vs-photograph-classification-dataset/Raw Data/photos/110deca6f2e5902600166db4b95beb346b0b13b3.jpg\n"
     ]
    },
    {
     "name": "stderr",
     "output_type": "stream",
     "text": [
      " 61%|██████▏   | 1683/2737 [10:52<06:26,  2.73it/s]"
     ]
    },
    {
     "name": "stdout",
     "output_type": "stream",
     "text": [
      "../input/painting-vs-photograph-classification-dataset/Raw Data/photos/f67b16af0ccee20452b4751357aa02f3d9c7112f.jpg\n"
     ]
    },
    {
     "name": "stderr",
     "output_type": "stream",
     "text": [
      " 62%|██████▏   | 1684/2737 [10:52<06:02,  2.91it/s]"
     ]
    },
    {
     "name": "stdout",
     "output_type": "stream",
     "text": [
      "../input/painting-vs-photograph-classification-dataset/Raw Data/photos/2918b968e6d6b7c3fe3370f1fa29807c7b2300ef.jpg\n"
     ]
    },
    {
     "name": "stderr",
     "output_type": "stream",
     "text": [
      " 62%|██████▏   | 1685/2737 [10:52<05:29,  3.20it/s]"
     ]
    },
    {
     "name": "stdout",
     "output_type": "stream",
     "text": [
      "../input/painting-vs-photograph-classification-dataset/Raw Data/photos/f65749ed3b2868b13161783ba1049e830a3418ca.jpg\n"
     ]
    },
    {
     "name": "stderr",
     "output_type": "stream",
     "text": [
      " 62%|██████▏   | 1686/2737 [10:53<05:08,  3.41it/s]"
     ]
    },
    {
     "name": "stdout",
     "output_type": "stream",
     "text": [
      "../input/painting-vs-photograph-classification-dataset/Raw Data/painting/b7d273e41d6888d69f4d51f00288fcc659f77fb9.jpg\n"
     ]
    },
    {
     "name": "stderr",
     "output_type": "stream",
     "text": [
      " 62%|██████▏   | 1687/2737 [10:53<07:46,  2.25it/s]"
     ]
    },
    {
     "name": "stdout",
     "output_type": "stream",
     "text": [
      "../input/painting-vs-photograph-classification-dataset/Raw Data/painting/e55cff8b94729a568e278ddcf9e83254434046aa.jpg\n"
     ]
    },
    {
     "name": "stderr",
     "output_type": "stream",
     "text": [
      " 62%|██████▏   | 1688/2737 [10:54<09:21,  1.87it/s]"
     ]
    },
    {
     "name": "stdout",
     "output_type": "stream",
     "text": [
      "../input/painting-vs-photograph-classification-dataset/Raw Data/photos/cb93df0ef33c1b445aaca370cc5e2114fb398b5e.jpg\n"
     ]
    },
    {
     "name": "stderr",
     "output_type": "stream",
     "text": [
      " 62%|██████▏   | 1689/2737 [10:54<07:43,  2.26it/s]"
     ]
    },
    {
     "name": "stdout",
     "output_type": "stream",
     "text": [
      "../input/painting-vs-photograph-classification-dataset/Raw Data/photos/626d98d3eecac25ff7b3dd892e22af679f2cf03c.jpg\n"
     ]
    },
    {
     "name": "stderr",
     "output_type": "stream",
     "text": [
      " 62%|██████▏   | 1690/2737 [10:55<06:33,  2.66it/s]"
     ]
    },
    {
     "name": "stdout",
     "output_type": "stream",
     "text": [
      "../input/painting-vs-photograph-classification-dataset/Raw Data/painting/ecf16eb16cf23b3f62077ffe9f25bc6bd326dab6.jpg\n"
     ]
    },
    {
     "name": "stderr",
     "output_type": "stream",
     "text": [
      " 62%|██████▏   | 1691/2737 [10:55<07:42,  2.26it/s]"
     ]
    },
    {
     "name": "stdout",
     "output_type": "stream",
     "text": [
      "../input/painting-vs-photograph-classification-dataset/Raw Data/photos/36722692ce0dd80bafde2ac0221b59da81501ff3.jpg\n"
     ]
    },
    {
     "name": "stderr",
     "output_type": "stream",
     "text": [
      " 62%|██████▏   | 1693/2737 [10:56<05:36,  3.10it/s]"
     ]
    },
    {
     "name": "stdout",
     "output_type": "stream",
     "text": [
      "../input/painting-vs-photograph-classification-dataset/Raw Data/photos/ea7abc8afa8867d5804321c856e802e0a16cb12f.jpg\n",
      "../input/painting-vs-photograph-classification-dataset/Raw Data/photos/750a580c4e6cd534ca8fb78f2a623d90c2afbac6.jpg\n"
     ]
    },
    {
     "name": "stderr",
     "output_type": "stream",
     "text": [
      " 62%|██████▏   | 1694/2737 [10:56<05:20,  3.26it/s]"
     ]
    },
    {
     "name": "stdout",
     "output_type": "stream",
     "text": [
      "../input/painting-vs-photograph-classification-dataset/Raw Data/photos/ea61ef728b5051c6965256400494432fe7c5e3e6.jpg\n"
     ]
    },
    {
     "name": "stderr",
     "output_type": "stream",
     "text": [
      " 62%|██████▏   | 1695/2737 [10:56<04:55,  3.53it/s]"
     ]
    },
    {
     "name": "stdout",
     "output_type": "stream",
     "text": [
      "../input/painting-vs-photograph-classification-dataset/Raw Data/photos/e3dd4276d8b7b053984cb907f396de3732adddf6.jpg\n"
     ]
    },
    {
     "name": "stderr",
     "output_type": "stream",
     "text": [
      " 62%|██████▏   | 1696/2737 [10:56<04:38,  3.74it/s]"
     ]
    },
    {
     "name": "stdout",
     "output_type": "stream",
     "text": [
      "../input/painting-vs-photograph-classification-dataset/Raw Data/painting/f2ff2c7531ae808bd4606a9ef75f4bbc9274ee9f.jpg\n"
     ]
    },
    {
     "name": "stderr",
     "output_type": "stream",
     "text": [
      " 62%|██████▏   | 1697/2737 [10:57<08:01,  2.16it/s]"
     ]
    },
    {
     "name": "stdout",
     "output_type": "stream",
     "text": [
      "../input/painting-vs-photograph-classification-dataset/Raw Data/painting/1dd3ecd4adeb72ab5671419d7d6da01b2a05e660.jpg\n"
     ]
    },
    {
     "name": "stderr",
     "output_type": "stream",
     "text": [
      " 62%|██████▏   | 1699/2737 [10:58<07:14,  2.39it/s]"
     ]
    },
    {
     "name": "stdout",
     "output_type": "stream",
     "text": [
      "../input/painting-vs-photograph-classification-dataset/Raw Data/photos/c7997dee8886354ced2a4d5a9d55e4e7a6df1ea8.jpg\n",
      "../input/painting-vs-photograph-classification-dataset/Raw Data/photos/fa0bc910bee06d89c3c407fecd21cbe4cec0639e.jpg\n"
     ]
    },
    {
     "name": "stderr",
     "output_type": "stream",
     "text": [
      " 62%|██████▏   | 1700/2737 [10:58<06:18,  2.74it/s]"
     ]
    },
    {
     "name": "stdout",
     "output_type": "stream",
     "text": [
      "../input/painting-vs-photograph-classification-dataset/Raw Data/photos/158e38d66e59fcc83eacb495bb3ee11910969584.jpg\n"
     ]
    },
    {
     "name": "stderr",
     "output_type": "stream",
     "text": [
      " 62%|██████▏   | 1701/2737 [10:59<05:37,  3.07it/s]"
     ]
    },
    {
     "name": "stdout",
     "output_type": "stream",
     "text": [
      "../input/painting-vs-photograph-classification-dataset/Raw Data/photos/2877f02c4967711a81280c79f28afbca9fa4bcb7.jpg\n"
     ]
    },
    {
     "name": "stderr",
     "output_type": "stream",
     "text": [
      " 62%|██████▏   | 1702/2737 [10:59<05:06,  3.37it/s]"
     ]
    },
    {
     "name": "stdout",
     "output_type": "stream",
     "text": [
      "../input/painting-vs-photograph-classification-dataset/Raw Data/photos/8bd83cb96a049014669772d3d3f0e3e4d74d5d27.jpg\n"
     ]
    },
    {
     "name": "stderr",
     "output_type": "stream",
     "text": [
      " 62%|██████▏   | 1704/2737 [10:59<04:23,  3.93it/s]"
     ]
    },
    {
     "name": "stdout",
     "output_type": "stream",
     "text": [
      "../input/painting-vs-photograph-classification-dataset/Raw Data/photos/a403b123e5cf1fc5e3096c4d01191cde05060741.jpg\n",
      "../input/painting-vs-photograph-classification-dataset/Raw Data/photos/a36af4fc1877db2003e10f0d5f1682e980952959.jpg\n"
     ]
    },
    {
     "name": "stderr",
     "output_type": "stream",
     "text": [
      " 62%|██████▏   | 1706/2737 [11:00<03:56,  4.36it/s]"
     ]
    },
    {
     "name": "stdout",
     "output_type": "stream",
     "text": [
      "../input/painting-vs-photograph-classification-dataset/Raw Data/photos/80162ecc23e98f399da63a81274d8bdfc9f8ec3d.jpg\n",
      "../input/painting-vs-photograph-classification-dataset/Raw Data/photos/56c31da746fcd70ba4526a093a4e0b62015d25a7.jpg\n"
     ]
    },
    {
     "name": "stderr",
     "output_type": "stream",
     "text": [
      " 62%|██████▏   | 1707/2737 [11:00<03:47,  4.52it/s]"
     ]
    },
    {
     "name": "stdout",
     "output_type": "stream",
     "text": [
      "../input/painting-vs-photograph-classification-dataset/Raw Data/photos/48b1366a07e9a4f5ff3d445daf20ab8161b1e16b.jpg\n"
     ]
    },
    {
     "name": "stderr",
     "output_type": "stream",
     "text": [
      " 62%|██████▏   | 1708/2737 [11:00<03:51,  4.45it/s]"
     ]
    },
    {
     "name": "stdout",
     "output_type": "stream",
     "text": [
      "../input/painting-vs-photograph-classification-dataset/Raw Data/photos/8bcc52d5f7ce970c31808e256141c68d32ce97cc.jpg\n"
     ]
    },
    {
     "name": "stderr",
     "output_type": "stream",
     "text": [
      " 62%|██████▏   | 1709/2737 [11:00<03:55,  4.37it/s]"
     ]
    },
    {
     "name": "stdout",
     "output_type": "stream",
     "text": [
      "../input/painting-vs-photograph-classification-dataset/Raw Data/photos/d33c92dee68b855e45a020911e914ea7de459c8e.jpg\n"
     ]
    },
    {
     "name": "stderr",
     "output_type": "stream",
     "text": [
      " 62%|██████▏   | 1710/2737 [11:00<03:53,  4.40it/s]"
     ]
    },
    {
     "name": "stdout",
     "output_type": "stream",
     "text": [
      "../input/painting-vs-photograph-classification-dataset/Raw Data/painting/08cd1b55aa39c1421b2601306612d453b0214fbb.jpg\n"
     ]
    },
    {
     "name": "stderr",
     "output_type": "stream",
     "text": [
      " 63%|██████▎   | 1711/2737 [11:01<06:52,  2.48it/s]"
     ]
    },
    {
     "name": "stdout",
     "output_type": "stream",
     "text": [
      "../input/painting-vs-photograph-classification-dataset/Raw Data/photos/c7a020fbb73fab18cc805ce1d551a5ebf49c8d8f.jpg\n"
     ]
    },
    {
     "name": "stderr",
     "output_type": "stream",
     "text": [
      " 63%|██████▎   | 1712/2737 [11:02<05:53,  2.90it/s]"
     ]
    },
    {
     "name": "stdout",
     "output_type": "stream",
     "text": [
      "../input/painting-vs-photograph-classification-dataset/Raw Data/painting/d851e2871989c669f308c8d31928b371228f1e62.jpg\n"
     ]
    },
    {
     "name": "stderr",
     "output_type": "stream",
     "text": [
      " 63%|██████▎   | 1713/2737 [11:02<08:03,  2.12it/s]"
     ]
    },
    {
     "name": "stdout",
     "output_type": "stream",
     "text": [
      "../input/painting-vs-photograph-classification-dataset/Raw Data/photos/e7cdce8bbf88ebcf207afedcccfd42304a98a715.jpg\n"
     ]
    },
    {
     "name": "stderr",
     "output_type": "stream",
     "text": [
      " 63%|██████▎   | 1714/2737 [11:03<06:47,  2.51it/s]"
     ]
    },
    {
     "name": "stdout",
     "output_type": "stream",
     "text": [
      "../input/painting-vs-photograph-classification-dataset/Raw Data/painting/9dd7b72e845ee7d94931db409309c9f0b92504d2.jpg\n"
     ]
    },
    {
     "name": "stderr",
     "output_type": "stream",
     "text": [
      " 63%|██████▎   | 1715/2737 [11:03<07:15,  2.35it/s]"
     ]
    },
    {
     "name": "stdout",
     "output_type": "stream",
     "text": [
      "../input/painting-vs-photograph-classification-dataset/Raw Data/photos/587d2bd6b7b75b14ff823ae27a8d78b12d8ea582.jpg\n"
     ]
    },
    {
     "name": "stderr",
     "output_type": "stream",
     "text": [
      " 63%|██████▎   | 1716/2737 [11:03<06:12,  2.74it/s]"
     ]
    },
    {
     "name": "stdout",
     "output_type": "stream",
     "text": [
      "../input/painting-vs-photograph-classification-dataset/Raw Data/photos/092154d4b850b458ca90e4d78d3d21dfccf5876a.jpg\n"
     ]
    },
    {
     "name": "stderr",
     "output_type": "stream",
     "text": [
      " 63%|██████▎   | 1717/2737 [11:03<05:29,  3.10it/s]"
     ]
    },
    {
     "name": "stdout",
     "output_type": "stream",
     "text": [
      "../input/painting-vs-photograph-classification-dataset/Raw Data/photos/f5316de975543f3eb9669ebf804aa414a3d92c8b.jpg\n"
     ]
    },
    {
     "name": "stderr",
     "output_type": "stream",
     "text": [
      " 63%|██████▎   | 1718/2737 [11:04<04:56,  3.43it/s]"
     ]
    },
    {
     "name": "stdout",
     "output_type": "stream",
     "text": [
      "../input/painting-vs-photograph-classification-dataset/Raw Data/photos/f88e9da5ea3ca345ecb9f917bd137187dd46cc76.jpg\n"
     ]
    },
    {
     "name": "stderr",
     "output_type": "stream",
     "text": [
      " 63%|██████▎   | 1719/2737 [11:04<04:39,  3.65it/s]"
     ]
    },
    {
     "name": "stdout",
     "output_type": "stream",
     "text": [
      "../input/painting-vs-photograph-classification-dataset/Raw Data/painting/f5634e036ad107da655e4de4bceb3b7af66d2216.jpg\n"
     ]
    },
    {
     "name": "stderr",
     "output_type": "stream",
     "text": [
      " 63%|██████▎   | 1720/2737 [11:04<06:00,  2.82it/s]"
     ]
    },
    {
     "name": "stdout",
     "output_type": "stream",
     "text": [
      "../input/painting-vs-photograph-classification-dataset/Raw Data/painting/0edabea007150193859b39031283ec4f0fa6ca1b.jpg\n"
     ]
    },
    {
     "name": "stderr",
     "output_type": "stream",
     "text": [
      " 63%|██████▎   | 1721/2737 [11:06<09:51,  1.72it/s]"
     ]
    },
    {
     "name": "stdout",
     "output_type": "stream",
     "text": [
      "../input/painting-vs-photograph-classification-dataset/Raw Data/photos/0395ee09fe70d53d8c5847a77e9bb785b944b20c.jpg\n"
     ]
    },
    {
     "name": "stderr",
     "output_type": "stream",
     "text": [
      " 63%|██████▎   | 1722/2737 [11:06<08:01,  2.11it/s]"
     ]
    },
    {
     "name": "stdout",
     "output_type": "stream",
     "text": [
      "../input/painting-vs-photograph-classification-dataset/Raw Data/photos/d4a181bade96984d7c8df7a553342b551ca8bab2.jpg\n"
     ]
    },
    {
     "name": "stderr",
     "output_type": "stream",
     "text": [
      " 63%|██████▎   | 1723/2737 [11:06<07:12,  2.34it/s]"
     ]
    },
    {
     "name": "stdout",
     "output_type": "stream",
     "text": [
      "../input/painting-vs-photograph-classification-dataset/Raw Data/photos/d00f4d3abb4f2c02a4aa13cdd94cb858412be660.jpg\n"
     ]
    },
    {
     "name": "stderr",
     "output_type": "stream",
     "text": [
      " 63%|██████▎   | 1724/2737 [11:06<06:20,  2.66it/s]"
     ]
    },
    {
     "name": "stdout",
     "output_type": "stream",
     "text": [
      "../input/painting-vs-photograph-classification-dataset/Raw Data/photos/961b595b676ad5f97b9a3528f3bf0e4a2963a538.jpg\n"
     ]
    },
    {
     "name": "stderr",
     "output_type": "stream",
     "text": [
      " 63%|██████▎   | 1725/2737 [11:07<05:42,  2.95it/s]"
     ]
    },
    {
     "name": "stdout",
     "output_type": "stream",
     "text": [
      "../input/painting-vs-photograph-classification-dataset/Raw Data/photos/ef39542f38767cda1caa90ff90ad14a6bbef5fd7.jpg\n"
     ]
    },
    {
     "name": "stderr",
     "output_type": "stream",
     "text": [
      " 63%|██████▎   | 1726/2737 [11:07<05:09,  3.27it/s]"
     ]
    },
    {
     "name": "stdout",
     "output_type": "stream",
     "text": [
      "../input/painting-vs-photograph-classification-dataset/Raw Data/painting/b3eb2272d9096079a9e7dac82849a2aef0a8b435.jpg\n"
     ]
    },
    {
     "name": "stderr",
     "output_type": "stream",
     "text": [
      " 63%|██████▎   | 1727/2737 [11:08<07:00,  2.40it/s]"
     ]
    },
    {
     "name": "stdout",
     "output_type": "stream",
     "text": [
      "../input/painting-vs-photograph-classification-dataset/Raw Data/photos/d7fc44ed7e38e4b1403e8890e227a37376dd74c4.jpg\n"
     ]
    },
    {
     "name": "stderr",
     "output_type": "stream",
     "text": [
      " 63%|██████▎   | 1729/2737 [11:08<05:12,  3.22it/s]"
     ]
    },
    {
     "name": "stdout",
     "output_type": "stream",
     "text": [
      "../input/painting-vs-photograph-classification-dataset/Raw Data/photos/f9841dc666457525e25430ffb428fb36712e0aa5.jpg\n",
      "../input/painting-vs-photograph-classification-dataset/Raw Data/photos/90cbad3d47c4b7c42af8b24372e52c0289cbb9f7.jpg\n"
     ]
    },
    {
     "name": "stderr",
     "output_type": "stream",
     "text": [
      " 63%|██████▎   | 1730/2737 [11:08<04:32,  3.70it/s]"
     ]
    },
    {
     "name": "stdout",
     "output_type": "stream",
     "text": [
      "../input/painting-vs-photograph-classification-dataset/Raw Data/painting/0d4e2cbc5c889b6f6a562d4f6131919a9a72279c.jpg\n"
     ]
    },
    {
     "name": "stderr",
     "output_type": "stream",
     "text": [
      " 63%|██████▎   | 1732/2737 [11:09<05:41,  2.95it/s]"
     ]
    },
    {
     "name": "stdout",
     "output_type": "stream",
     "text": [
      "../input/painting-vs-photograph-classification-dataset/Raw Data/photos/810dec4ccfb636fb9d3232c157f502557fdd35af.jpg\n",
      "../input/painting-vs-photograph-classification-dataset/Raw Data/painting/7e0f273fe409c2b80ca1281681a92d308a311863.jpg\n"
     ]
    },
    {
     "name": "stderr",
     "output_type": "stream",
     "text": [
      " 63%|██████▎   | 1733/2737 [11:10<09:08,  1.83it/s]"
     ]
    },
    {
     "name": "stdout",
     "output_type": "stream",
     "text": [
      "../input/painting-vs-photograph-classification-dataset/Raw Data/painting/158a873cb6996c3e99b4fe7d8a31fa112a5b72df.jpg\n"
     ]
    },
    {
     "name": "stderr",
     "output_type": "stream",
     "text": [
      " 63%|██████▎   | 1735/2737 [11:11<06:40,  2.50it/s]"
     ]
    },
    {
     "name": "stdout",
     "output_type": "stream",
     "text": [
      "../input/painting-vs-photograph-classification-dataset/Raw Data/photos/b3167927f4b7779ce0318af475485177f6020961.jpg\n",
      "../input/painting-vs-photograph-classification-dataset/Raw Data/painting/7ad40044ac379338d0e456a41d6d4ace721b11d3.jpg\n"
     ]
    },
    {
     "name": "stderr",
     "output_type": "stream",
     "text": [
      " 63%|██████▎   | 1736/2737 [11:11<08:52,  1.88it/s]"
     ]
    },
    {
     "name": "stdout",
     "output_type": "stream",
     "text": [
      "../input/painting-vs-photograph-classification-dataset/Raw Data/painting/53c8169fcf8f94f6c276bd15b40c0f3bbd2e6a3d.jpg\n"
     ]
    },
    {
     "name": "stderr",
     "output_type": "stream",
     "text": [
      " 63%|██████▎   | 1737/2737 [11:12<09:27,  1.76it/s]"
     ]
    },
    {
     "name": "stdout",
     "output_type": "stream",
     "text": [
      "../input/painting-vs-photograph-classification-dataset/Raw Data/photos/a1d2ee28067fdf4f87174ae5429ae393bb66d981.jpg\n"
     ]
    },
    {
     "name": "stderr",
     "output_type": "stream",
     "text": [
      " 64%|██████▎   | 1738/2737 [11:12<07:42,  2.16it/s]"
     ]
    },
    {
     "name": "stdout",
     "output_type": "stream",
     "text": [
      "../input/painting-vs-photograph-classification-dataset/Raw Data/photos/179413fada153ee9d067f6e332bca2291970aaf8.jpg\n"
     ]
    },
    {
     "name": "stderr",
     "output_type": "stream",
     "text": [
      " 64%|██████▎   | 1739/2737 [11:13<06:30,  2.56it/s]"
     ]
    },
    {
     "name": "stdout",
     "output_type": "stream",
     "text": [
      "../input/painting-vs-photograph-classification-dataset/Raw Data/painting/e31210e26e1fdda9559654f173c16a8ba0a4b87b.jpg\n"
     ]
    },
    {
     "name": "stderr",
     "output_type": "stream",
     "text": [
      " 64%|██████▎   | 1740/2737 [11:13<08:15,  2.01it/s]"
     ]
    },
    {
     "name": "stdout",
     "output_type": "stream",
     "text": [
      "../input/painting-vs-photograph-classification-dataset/Raw Data/photos/f45066c83ad51794ec8ca94e378b720394683336.jpg\n"
     ]
    },
    {
     "name": "stderr",
     "output_type": "stream",
     "text": [
      " 64%|██████▎   | 1741/2737 [11:14<06:55,  2.40it/s]"
     ]
    },
    {
     "name": "stdout",
     "output_type": "stream",
     "text": [
      "../input/painting-vs-photograph-classification-dataset/Raw Data/painting/26370ba6c650ebf4ff3c9def420c63a83e76e33b.jpg\n"
     ]
    },
    {
     "name": "stderr",
     "output_type": "stream",
     "text": [
      " 64%|██████▎   | 1742/2737 [11:14<08:32,  1.94it/s]"
     ]
    },
    {
     "name": "stdout",
     "output_type": "stream",
     "text": [
      "../input/painting-vs-photograph-classification-dataset/Raw Data/photos/023a96f51a386fe21e91db33d61cca9abd58415a.jpg\n"
     ]
    },
    {
     "name": "stderr",
     "output_type": "stream",
     "text": [
      " 64%|██████▎   | 1743/2737 [11:15<07:09,  2.31it/s]"
     ]
    },
    {
     "name": "stdout",
     "output_type": "stream",
     "text": [
      "../input/painting-vs-photograph-classification-dataset/Raw Data/photos/ab49f056378cded172fd0ecc153bf384828a6b70.jpg\n"
     ]
    },
    {
     "name": "stderr",
     "output_type": "stream",
     "text": [
      " 64%|██████▎   | 1744/2737 [11:15<06:08,  2.69it/s]"
     ]
    },
    {
     "name": "stdout",
     "output_type": "stream",
     "text": [
      "../input/painting-vs-photograph-classification-dataset/Raw Data/photos/ca4830fddee9252eb6375e163655f698b3c2aab1.jpg\n"
     ]
    },
    {
     "name": "stderr",
     "output_type": "stream",
     "text": [
      " 64%|██████▍   | 1745/2737 [11:15<05:39,  2.92it/s]"
     ]
    },
    {
     "name": "stdout",
     "output_type": "stream",
     "text": [
      "../input/painting-vs-photograph-classification-dataset/Raw Data/photos/56080cf865ecb58406a02a8f8f938a37daa21ea4.jpg\n"
     ]
    },
    {
     "name": "stderr",
     "output_type": "stream",
     "text": [
      " 64%|██████▍   | 1746/2737 [11:15<05:07,  3.22it/s]"
     ]
    },
    {
     "name": "stdout",
     "output_type": "stream",
     "text": [
      "../input/painting-vs-photograph-classification-dataset/Raw Data/photos/ffd3a791d28572e4b2204c77e9b2f40d48fc1fc6.jpg\n"
     ]
    },
    {
     "name": "stderr",
     "output_type": "stream",
     "text": [
      " 64%|██████▍   | 1747/2737 [11:15<04:39,  3.55it/s]"
     ]
    },
    {
     "name": "stdout",
     "output_type": "stream",
     "text": [
      "../input/painting-vs-photograph-classification-dataset/Raw Data/photos/dc233706bfecaed07682171d8fdaffaec346b7a8.jpg\n"
     ]
    },
    {
     "name": "stderr",
     "output_type": "stream",
     "text": [
      " 64%|██████▍   | 1748/2737 [11:16<04:23,  3.75it/s]"
     ]
    },
    {
     "name": "stdout",
     "output_type": "stream",
     "text": [
      "../input/painting-vs-photograph-classification-dataset/Raw Data/photos/9021c2e50ef9fdfa450c0518ed2b54fc1b0a3cef.jpg\n"
     ]
    },
    {
     "name": "stderr",
     "output_type": "stream",
     "text": [
      " 64%|██████▍   | 1749/2737 [11:16<04:15,  3.87it/s]"
     ]
    },
    {
     "name": "stdout",
     "output_type": "stream",
     "text": [
      "../input/painting-vs-photograph-classification-dataset/Raw Data/painting/518e7d71ee666e2e504db602dee63c9755cb16b0.jpg\n"
     ]
    },
    {
     "name": "stderr",
     "output_type": "stream",
     "text": [
      " 64%|██████▍   | 1750/2737 [11:17<05:59,  2.74it/s]"
     ]
    },
    {
     "name": "stdout",
     "output_type": "stream",
     "text": [
      "../input/painting-vs-photograph-classification-dataset/Raw Data/photos/edf8d32b4a3f65be8e98c82dc5e0dde0a343f6ec.jpg\n"
     ]
    },
    {
     "name": "stderr",
     "output_type": "stream",
     "text": [
      " 64%|██████▍   | 1751/2737 [11:17<05:19,  3.09it/s]"
     ]
    },
    {
     "name": "stdout",
     "output_type": "stream",
     "text": [
      "../input/painting-vs-photograph-classification-dataset/Raw Data/photos/e6bd09e6322520364ba1ec9de0e7e36353df9bf0.jpg\n"
     ]
    },
    {
     "name": "stderr",
     "output_type": "stream",
     "text": [
      " 64%|██████▍   | 1752/2737 [11:17<04:53,  3.35it/s]"
     ]
    },
    {
     "name": "stdout",
     "output_type": "stream",
     "text": [
      "../input/painting-vs-photograph-classification-dataset/Raw Data/photos/03109251634c1b31f2e8b4909c3056ef04a0009c.jpg\n"
     ]
    },
    {
     "name": "stderr",
     "output_type": "stream",
     "text": [
      " 64%|██████▍   | 1753/2737 [11:17<04:45,  3.44it/s]"
     ]
    },
    {
     "name": "stdout",
     "output_type": "stream",
     "text": [
      "../input/painting-vs-photograph-classification-dataset/Raw Data/photos/148042364f703101a139f48c1a43e235a84c1f66.jpg\n"
     ]
    },
    {
     "name": "stderr",
     "output_type": "stream",
     "text": [
      " 64%|██████▍   | 1754/2737 [11:17<04:22,  3.74it/s]"
     ]
    },
    {
     "name": "stdout",
     "output_type": "stream",
     "text": [
      "../input/painting-vs-photograph-classification-dataset/Raw Data/painting/85130aed4b9264eb41c9b85c072225f95078b058.jpg\n"
     ]
    },
    {
     "name": "stderr",
     "output_type": "stream",
     "text": [
      " 64%|██████▍   | 1755/2737 [11:18<06:55,  2.36it/s]"
     ]
    },
    {
     "name": "stdout",
     "output_type": "stream",
     "text": [
      "../input/painting-vs-photograph-classification-dataset/Raw Data/photos/e32590c5298044c74cf071f459da68cbb57a29b6.jpg\n"
     ]
    },
    {
     "name": "stderr",
     "output_type": "stream",
     "text": [
      " 64%|██████▍   | 1756/2737 [11:19<05:59,  2.73it/s]"
     ]
    },
    {
     "name": "stdout",
     "output_type": "stream",
     "text": [
      "../input/painting-vs-photograph-classification-dataset/Raw Data/photos/ac160f8debc54cc24512b3dc00403609efe30201.jpg\n"
     ]
    },
    {
     "name": "stderr",
     "output_type": "stream",
     "text": [
      " 64%|██████▍   | 1758/2737 [11:19<04:41,  3.48it/s]"
     ]
    },
    {
     "name": "stdout",
     "output_type": "stream",
     "text": [
      "../input/painting-vs-photograph-classification-dataset/Raw Data/photos/b614124cb0cb9918489cd2e01614d447ac6ddfb2.jpg\n",
      "../input/painting-vs-photograph-classification-dataset/Raw Data/photos/62ae5a01239dbbbd54bbe921871842f232b18209.jpg\n"
     ]
    },
    {
     "name": "stderr",
     "output_type": "stream",
     "text": [
      " 64%|██████▍   | 1759/2737 [11:19<04:33,  3.57it/s]"
     ]
    },
    {
     "name": "stdout",
     "output_type": "stream",
     "text": [
      "../input/painting-vs-photograph-classification-dataset/Raw Data/photos/ed2c84501277bb64d609956412aa80ea97bda297.jpg\n"
     ]
    },
    {
     "name": "stderr",
     "output_type": "stream",
     "text": [
      " 64%|██████▍   | 1760/2737 [11:19<04:22,  3.72it/s]"
     ]
    },
    {
     "name": "stdout",
     "output_type": "stream",
     "text": [
      "../input/painting-vs-photograph-classification-dataset/Raw Data/photos/ef7df5ff88d9f6b0523d62d047f34faba8aedd93.jpg\n"
     ]
    },
    {
     "name": "stderr",
     "output_type": "stream",
     "text": [
      " 64%|██████▍   | 1761/2737 [11:20<04:14,  3.84it/s]"
     ]
    },
    {
     "name": "stdout",
     "output_type": "stream",
     "text": [
      "../input/painting-vs-photograph-classification-dataset/Raw Data/photos/ff996c9d292e276bdbc0cb0ca5ca50549388ef55.jpg\n"
     ]
    },
    {
     "name": "stderr",
     "output_type": "stream",
     "text": [
      " 64%|██████▍   | 1762/2737 [11:20<04:14,  3.83it/s]"
     ]
    },
    {
     "name": "stdout",
     "output_type": "stream",
     "text": [
      "../input/painting-vs-photograph-classification-dataset/Raw Data/photos/6405b87cd2d4b1cc2711028fffa1011bec447beb.jpg\n"
     ]
    },
    {
     "name": "stderr",
     "output_type": "stream",
     "text": [
      " 64%|██████▍   | 1763/2737 [11:20<04:03,  4.00it/s]"
     ]
    },
    {
     "name": "stdout",
     "output_type": "stream",
     "text": [
      "../input/painting-vs-photograph-classification-dataset/Raw Data/photos/f5cba2632031b6e000bc244ac430d56d562935d3.jpg\n"
     ]
    },
    {
     "name": "stderr",
     "output_type": "stream",
     "text": [
      " 64%|██████▍   | 1764/2737 [11:20<04:14,  3.83it/s]"
     ]
    },
    {
     "name": "stdout",
     "output_type": "stream",
     "text": [
      "../input/painting-vs-photograph-classification-dataset/Raw Data/painting/f186454df9ff1f4a81a6f33d66ee0a86b5a0bbf9.jpg\n"
     ]
    },
    {
     "name": "stderr",
     "output_type": "stream",
     "text": [
      " 64%|██████▍   | 1765/2737 [11:21<06:39,  2.43it/s]"
     ]
    },
    {
     "name": "stdout",
     "output_type": "stream",
     "text": [
      "../input/painting-vs-photograph-classification-dataset/Raw Data/photos/d09e3cd7d257a289b7be0d0a79d81998a820ba49.jpg\n"
     ]
    },
    {
     "name": "stderr",
     "output_type": "stream",
     "text": [
      " 65%|██████▍   | 1766/2737 [11:21<05:46,  2.80it/s]"
     ]
    },
    {
     "name": "stdout",
     "output_type": "stream",
     "text": [
      "../input/painting-vs-photograph-classification-dataset/Raw Data/painting/1e14624f117fcd13044ec42f842ed832aeff18d6.jpg\n"
     ]
    },
    {
     "name": "stderr",
     "output_type": "stream",
     "text": [
      " 65%|██████▍   | 1767/2737 [11:22<07:54,  2.05it/s]"
     ]
    },
    {
     "name": "stdout",
     "output_type": "stream",
     "text": [
      "../input/painting-vs-photograph-classification-dataset/Raw Data/photos/a226038e58607f9d538587e10757f8a6cac67388.jpg\n"
     ]
    },
    {
     "name": "stderr",
     "output_type": "stream",
     "text": [
      " 65%|██████▍   | 1768/2737 [11:23<07:05,  2.28it/s]"
     ]
    },
    {
     "name": "stdout",
     "output_type": "stream",
     "text": [
      "../input/painting-vs-photograph-classification-dataset/Raw Data/painting/7acdeeebee49104c7a2de355bb45aa62e555b138.jpg\n"
     ]
    },
    {
     "name": "stderr",
     "output_type": "stream",
     "text": [
      " 65%|██████▍   | 1769/2737 [11:23<08:46,  1.84it/s]"
     ]
    },
    {
     "name": "stdout",
     "output_type": "stream",
     "text": [
      "../input/painting-vs-photograph-classification-dataset/Raw Data/photos/9bf695ecdc91796fc670f172fbd5083c9d84d0c9.jpg\n"
     ]
    },
    {
     "name": "stderr",
     "output_type": "stream",
     "text": [
      " 65%|██████▍   | 1770/2737 [11:24<07:24,  2.18it/s]"
     ]
    },
    {
     "name": "stdout",
     "output_type": "stream",
     "text": [
      "../input/painting-vs-photograph-classification-dataset/Raw Data/photos/10e90d9fafd6999c8922d0322b7130faefdfd7c7.jpg\n"
     ]
    },
    {
     "name": "stderr",
     "output_type": "stream",
     "text": [
      " 65%|██████▍   | 1771/2737 [11:24<06:20,  2.54it/s]"
     ]
    },
    {
     "name": "stdout",
     "output_type": "stream",
     "text": [
      "../input/painting-vs-photograph-classification-dataset/Raw Data/photos/053f6d848339198a30db33db7d20bb48f1af1ff5.jpg\n"
     ]
    },
    {
     "name": "stderr",
     "output_type": "stream",
     "text": [
      " 65%|██████▍   | 1772/2737 [11:24<05:40,  2.83it/s]"
     ]
    },
    {
     "name": "stdout",
     "output_type": "stream",
     "text": [
      "../input/painting-vs-photograph-classification-dataset/Raw Data/painting/686edad3c172a367e95b24ad3c030dc531b61f6f.jpg\n"
     ]
    },
    {
     "name": "stderr",
     "output_type": "stream",
     "text": [
      " 65%|██████▍   | 1773/2737 [11:25<07:12,  2.23it/s]"
     ]
    },
    {
     "name": "stdout",
     "output_type": "stream",
     "text": [
      "../input/painting-vs-photograph-classification-dataset/Raw Data/photos/76c8c0446f6b0745c24aa5a2779c04b40fc358b6.jpg\n"
     ]
    },
    {
     "name": "stderr",
     "output_type": "stream",
     "text": [
      " 65%|██████▍   | 1774/2737 [11:25<06:06,  2.63it/s]"
     ]
    },
    {
     "name": "stdout",
     "output_type": "stream",
     "text": [
      "../input/painting-vs-photograph-classification-dataset/Raw Data/painting/5c9ba296b9815a5e616c9f6faa94f5acd5ac7674.jpg\n"
     ]
    },
    {
     "name": "stderr",
     "output_type": "stream",
     "text": [
      " 65%|██████▍   | 1776/2737 [11:26<06:38,  2.41it/s]"
     ]
    },
    {
     "name": "stdout",
     "output_type": "stream",
     "text": [
      "../input/painting-vs-photograph-classification-dataset/Raw Data/photos/a40a6afcc9d0f3b21c2f976ef4c57ecf329633f6.jpg\n",
      "../input/painting-vs-photograph-classification-dataset/Raw Data/photos/400a912a93dc57f05c28cb01d9e66fc88cc59c22.jpg\n"
     ]
    },
    {
     "name": "stderr",
     "output_type": "stream",
     "text": [
      " 65%|██████▍   | 1778/2737 [11:26<04:53,  3.27it/s]"
     ]
    },
    {
     "name": "stdout",
     "output_type": "stream",
     "text": [
      "../input/painting-vs-photograph-classification-dataset/Raw Data/photos/52736d2183684521eaaefe5fd3fda35092a8284f.jpg\n",
      "../input/painting-vs-photograph-classification-dataset/Raw Data/photos/d667211fd4185805421fe4519d53f0cce4bd40bb.jpg\n"
     ]
    },
    {
     "name": "stderr",
     "output_type": "stream",
     "text": [
      " 65%|██████▍   | 1779/2737 [11:27<04:33,  3.50it/s]"
     ]
    },
    {
     "name": "stdout",
     "output_type": "stream",
     "text": [
      "../input/painting-vs-photograph-classification-dataset/Raw Data/photos/492e71f2ec3dee6adcb8399e97617634d214d890.jpg\n"
     ]
    },
    {
     "name": "stderr",
     "output_type": "stream",
     "text": [
      " 65%|██████▌   | 1780/2737 [11:27<04:50,  3.30it/s]"
     ]
    },
    {
     "name": "stdout",
     "output_type": "stream",
     "text": [
      "../input/painting-vs-photograph-classification-dataset/Raw Data/photos/8679f253626af78f466b06ca41f772309fb468b1.jpg\n"
     ]
    },
    {
     "name": "stderr",
     "output_type": "stream",
     "text": [
      " 65%|██████▌   | 1781/2737 [11:27<04:49,  3.30it/s]"
     ]
    },
    {
     "name": "stdout",
     "output_type": "stream",
     "text": [
      "../input/painting-vs-photograph-classification-dataset/Raw Data/photos/ce376a3e508336e37ba9d1f4e07670bdf7c5fb2b.jpg\n"
     ]
    },
    {
     "name": "stderr",
     "output_type": "stream",
     "text": [
      " 65%|██████▌   | 1783/2737 [11:28<04:02,  3.93it/s]"
     ]
    },
    {
     "name": "stdout",
     "output_type": "stream",
     "text": [
      "../input/painting-vs-photograph-classification-dataset/Raw Data/photos/3633fd0e6d398a013a661fc27e725241e7f4349c.jpg\n",
      "../input/painting-vs-photograph-classification-dataset/Raw Data/photos/d69683d37c881d9eda765b463e10b19779dab968.jpg\n"
     ]
    },
    {
     "name": "stderr",
     "output_type": "stream",
     "text": [
      " 65%|██████▌   | 1784/2737 [11:28<03:56,  4.03it/s]"
     ]
    },
    {
     "name": "stdout",
     "output_type": "stream",
     "text": [
      "../input/painting-vs-photograph-classification-dataset/Raw Data/photos/56197ae364233006773dab39de38b495c885c935.jpg\n"
     ]
    },
    {
     "name": "stderr",
     "output_type": "stream",
     "text": [
      " 65%|██████▌   | 1786/2737 [11:28<03:37,  4.37it/s]"
     ]
    },
    {
     "name": "stdout",
     "output_type": "stream",
     "text": [
      "../input/painting-vs-photograph-classification-dataset/Raw Data/photos/24919e46bc610703ee9c3aa24801fd69140537bc.jpg\n",
      "../input/painting-vs-photograph-classification-dataset/Raw Data/painting/41d1b4ff747c6183fe40249be27e58cd6e358611.jpg\n"
     ]
    },
    {
     "name": "stderr",
     "output_type": "stream",
     "text": [
      " 65%|██████▌   | 1787/2737 [11:29<04:59,  3.18it/s]"
     ]
    },
    {
     "name": "stdout",
     "output_type": "stream",
     "text": [
      "../input/painting-vs-photograph-classification-dataset/Raw Data/photos/3d090c359a9cd6020839ca1d5bc9469b0c3f5e8b.jpg\n"
     ]
    },
    {
     "name": "stderr",
     "output_type": "stream",
     "text": [
      " 65%|██████▌   | 1788/2737 [11:29<04:59,  3.17it/s]"
     ]
    },
    {
     "name": "stdout",
     "output_type": "stream",
     "text": [
      "../input/painting-vs-photograph-classification-dataset/Raw Data/photos/61bbf259c44c157eceabece1f2edd91151f00549.jpg\n"
     ]
    },
    {
     "name": "stderr",
     "output_type": "stream",
     "text": [
      " 65%|██████▌   | 1789/2737 [11:30<04:56,  3.20it/s]"
     ]
    },
    {
     "name": "stdout",
     "output_type": "stream",
     "text": [
      "../input/painting-vs-photograph-classification-dataset/Raw Data/photos/52b25335cb478dce8f6829be455880a762cd8be0.jpg\n"
     ]
    },
    {
     "name": "stderr",
     "output_type": "stream",
     "text": [
      " 65%|██████▌   | 1790/2737 [11:30<04:55,  3.20it/s]"
     ]
    },
    {
     "name": "stdout",
     "output_type": "stream",
     "text": [
      "../input/painting-vs-photograph-classification-dataset/Raw Data/painting/efb16652c7998e41ea220dc6cc09b6b996f43ed6.jpg\n"
     ]
    },
    {
     "name": "stderr",
     "output_type": "stream",
     "text": [
      " 65%|██████▌   | 1792/2737 [11:31<05:59,  2.63it/s]"
     ]
    },
    {
     "name": "stdout",
     "output_type": "stream",
     "text": [
      "../input/painting-vs-photograph-classification-dataset/Raw Data/photos/39b772e87d5a945abf9952d1b8c2723d2aaf4eab.jpg\n",
      "../input/painting-vs-photograph-classification-dataset/Raw Data/photos/8011305124d2726bbc1899748944bfb7ed72c6eb.jpg\n"
     ]
    },
    {
     "name": "stderr",
     "output_type": "stream",
     "text": [
      " 66%|██████▌   | 1793/2737 [11:31<05:42,  2.76it/s]"
     ]
    },
    {
     "name": "stdout",
     "output_type": "stream",
     "text": [
      "../input/painting-vs-photograph-classification-dataset/Raw Data/painting/08a5a68263fbb7aec617b5c796c3f9f1eaf6c46a.jpg\n"
     ]
    },
    {
     "name": "stderr",
     "output_type": "stream",
     "text": [
      " 66%|██████▌   | 1794/2737 [11:32<07:44,  2.03it/s]"
     ]
    },
    {
     "name": "stdout",
     "output_type": "stream",
     "text": [
      "../input/painting-vs-photograph-classification-dataset/Raw Data/photos/a336fb177682e128546bd8cfc263b694f79981ac.jpg\n"
     ]
    },
    {
     "name": "stderr",
     "output_type": "stream",
     "text": [
      " 66%|██████▌   | 1795/2737 [11:32<06:33,  2.39it/s]"
     ]
    },
    {
     "name": "stdout",
     "output_type": "stream",
     "text": [
      "../input/painting-vs-photograph-classification-dataset/Raw Data/painting/efecd930a652e7d1c71ee18b14e9d46d55cddaed.jpg\n"
     ]
    },
    {
     "name": "stderr",
     "output_type": "stream",
     "text": [
      " 66%|██████▌   | 1796/2737 [11:33<06:11,  2.54it/s]"
     ]
    },
    {
     "name": "stdout",
     "output_type": "stream",
     "text": [
      "../input/painting-vs-photograph-classification-dataset/Raw Data/photos/b23f6efc8beb3085930344ff43739e895c45ad31.jpg\n"
     ]
    },
    {
     "name": "stderr",
     "output_type": "stream",
     "text": [
      " 66%|██████▌   | 1798/2737 [11:33<04:39,  3.36it/s]"
     ]
    },
    {
     "name": "stdout",
     "output_type": "stream",
     "text": [
      "../input/painting-vs-photograph-classification-dataset/Raw Data/photos/67e2b8d5230e0c077dc3c60b32cbe16dc16bf29b.jpg\n",
      "../input/painting-vs-photograph-classification-dataset/Raw Data/photos/efcf9e5c3c6ed297f2783d0967a44ccdb0ece115.jpg\n"
     ]
    },
    {
     "name": "stderr",
     "output_type": "stream",
     "text": [
      " 66%|██████▌   | 1799/2737 [11:33<04:20,  3.60it/s]"
     ]
    },
    {
     "name": "stdout",
     "output_type": "stream",
     "text": [
      "../input/painting-vs-photograph-classification-dataset/Raw Data/painting/9bd9edf75c307c2ba3470ec05c32811ddf7ab54d.jpg\n"
     ]
    },
    {
     "name": "stderr",
     "output_type": "stream",
     "text": [
      " 66%|██████▌   | 1800/2737 [11:34<06:51,  2.27it/s]"
     ]
    },
    {
     "name": "stdout",
     "output_type": "stream",
     "text": [
      "../input/painting-vs-photograph-classification-dataset/Raw Data/photos/28729dc3664932be2b3143a43653f233c4fee1c6.jpg\n"
     ]
    },
    {
     "name": "stderr",
     "output_type": "stream",
     "text": [
      " 66%|██████▌   | 1802/2737 [11:35<05:23,  2.89it/s]"
     ]
    },
    {
     "name": "stdout",
     "output_type": "stream",
     "text": [
      "../input/painting-vs-photograph-classification-dataset/Raw Data/photos/3cf88db96f905f410a65142e1eb0676209d5e65c.jpg\n",
      "../input/painting-vs-photograph-classification-dataset/Raw Data/photos/d1951334925839d40421206d062b382e91b3963b.jpg\n"
     ]
    },
    {
     "name": "stderr",
     "output_type": "stream",
     "text": [
      " 66%|██████▌   | 1803/2737 [11:35<04:54,  3.18it/s]"
     ]
    },
    {
     "name": "stdout",
     "output_type": "stream",
     "text": [
      "../input/painting-vs-photograph-classification-dataset/Raw Data/photos/295196d01e7b6e223f8affd0520c51980292e49d.jpg\n"
     ]
    },
    {
     "name": "stderr",
     "output_type": "stream",
     "text": [
      " 66%|██████▌   | 1804/2737 [11:35<04:31,  3.44it/s]"
     ]
    },
    {
     "name": "stdout",
     "output_type": "stream",
     "text": [
      "../input/painting-vs-photograph-classification-dataset/Raw Data/painting/f535c46d9929f5c9e0463b77dc150850c85bd64b.jpg\n"
     ]
    },
    {
     "name": "stderr",
     "output_type": "stream",
     "text": [
      " 66%|██████▌   | 1805/2737 [11:36<07:08,  2.17it/s]"
     ]
    },
    {
     "name": "stdout",
     "output_type": "stream",
     "text": [
      "../input/painting-vs-photograph-classification-dataset/Raw Data/photos/be0df8f28665b3b65fb6c9c26a2ad46c24d1caa4.jpg\n"
     ]
    },
    {
     "name": "stderr",
     "output_type": "stream",
     "text": [
      " 66%|██████▌   | 1806/2737 [11:36<05:58,  2.60it/s]"
     ]
    },
    {
     "name": "stdout",
     "output_type": "stream",
     "text": [
      "../input/painting-vs-photograph-classification-dataset/Raw Data/painting/ef9679ebffabb3e3cf6b60a44295b04921576363.jpg\n"
     ]
    },
    {
     "name": "stderr",
     "output_type": "stream",
     "text": [
      " 66%|██████▌   | 1807/2737 [11:37<08:53,  1.74it/s]"
     ]
    },
    {
     "name": "stdout",
     "output_type": "stream",
     "text": [
      "../input/painting-vs-photograph-classification-dataset/Raw Data/photos/063442f33896737f3427228f324d68747f7d75e7.jpg\n"
     ]
    },
    {
     "name": "stderr",
     "output_type": "stream",
     "text": [
      " 66%|██████▌   | 1808/2737 [11:37<07:14,  2.14it/s]"
     ]
    },
    {
     "name": "stdout",
     "output_type": "stream",
     "text": [
      "../input/painting-vs-photograph-classification-dataset/Raw Data/photos/f2b73c0a7f347f796dfc27bfbace12b5ead5317e.jpg\n"
     ]
    },
    {
     "name": "stderr",
     "output_type": "stream",
     "text": [
      " 66%|██████▌   | 1810/2737 [11:38<05:11,  2.97it/s]"
     ]
    },
    {
     "name": "stdout",
     "output_type": "stream",
     "text": [
      "../input/painting-vs-photograph-classification-dataset/Raw Data/photos/0b64483a78a6cf434627c7dde06594ffc54f5f85.jpg\n",
      "../input/painting-vs-photograph-classification-dataset/Raw Data/photos/3318e531c8f34dbeba3bdd2c236bd7675ef4bf69.jpg\n"
     ]
    },
    {
     "name": "stderr",
     "output_type": "stream",
     "text": [
      " 66%|██████▌   | 1811/2737 [11:38<04:47,  3.22it/s]"
     ]
    },
    {
     "name": "stdout",
     "output_type": "stream",
     "text": [
      "../input/painting-vs-photograph-classification-dataset/Raw Data/painting/f473de0c7e7caf36c4e21b2d65590dae8018a89e.jpg\n"
     ]
    },
    {
     "name": "stderr",
     "output_type": "stream",
     "text": [
      " 66%|██████▌   | 1812/2737 [11:38<05:11,  2.97it/s]"
     ]
    },
    {
     "name": "stdout",
     "output_type": "stream",
     "text": [
      "../input/painting-vs-photograph-classification-dataset/Raw Data/painting/fb22d9f7c4fc6f72b850c824037373c4db62456b.jpg\n"
     ]
    },
    {
     "name": "stderr",
     "output_type": "stream",
     "text": [
      " 66%|██████▌   | 1813/2737 [11:39<08:22,  1.84it/s]"
     ]
    },
    {
     "name": "stdout",
     "output_type": "stream",
     "text": [
      "../input/painting-vs-photograph-classification-dataset/Raw Data/photos/eda168cef23104db44455ffa46e0ecddaa6b8e83.jpg\n"
     ]
    },
    {
     "name": "stderr",
     "output_type": "stream",
     "text": [
      " 66%|██████▋   | 1814/2737 [11:40<06:55,  2.22it/s]"
     ]
    },
    {
     "name": "stdout",
     "output_type": "stream",
     "text": [
      "../input/painting-vs-photograph-classification-dataset/Raw Data/photos/444335d7ffe002f8b564d4a4ad5aa1bcc14cced8.jpg\n"
     ]
    },
    {
     "name": "stderr",
     "output_type": "stream",
     "text": [
      " 66%|██████▋   | 1815/2737 [11:40<05:47,  2.65it/s]"
     ]
    },
    {
     "name": "stdout",
     "output_type": "stream",
     "text": [
      "../input/painting-vs-photograph-classification-dataset/Raw Data/photos/b86ec7231a238c0f10e45be3a213fd426efb6120.jpg\n"
     ]
    },
    {
     "name": "stderr",
     "output_type": "stream",
     "text": [
      " 66%|██████▋   | 1816/2737 [11:40<05:09,  2.98it/s]"
     ]
    },
    {
     "name": "stdout",
     "output_type": "stream",
     "text": [
      "../input/painting-vs-photograph-classification-dataset/Raw Data/photos/66309cce3360799c06ad9ddfdda0a0250e3ca1bc.jpg\n"
     ]
    },
    {
     "name": "stderr",
     "output_type": "stream",
     "text": [
      " 66%|██████▋   | 1817/2737 [11:40<04:33,  3.37it/s]"
     ]
    },
    {
     "name": "stdout",
     "output_type": "stream",
     "text": [
      "../input/painting-vs-photograph-classification-dataset/Raw Data/photos/b81fcb6543d1b257e8b20187c55963e2cdcccc56.jpg\n"
     ]
    },
    {
     "name": "stderr",
     "output_type": "stream",
     "text": [
      " 66%|██████▋   | 1818/2737 [11:41<04:17,  3.57it/s]"
     ]
    },
    {
     "name": "stdout",
     "output_type": "stream",
     "text": [
      "../input/painting-vs-photograph-classification-dataset/Raw Data/photos/7725ce69e6bace628923c4f3e64724a149031ee4.jpg\n"
     ]
    },
    {
     "name": "stderr",
     "output_type": "stream",
     "text": [
      " 66%|██████▋   | 1819/2737 [11:41<04:04,  3.76it/s]"
     ]
    },
    {
     "name": "stdout",
     "output_type": "stream",
     "text": [
      "../input/painting-vs-photograph-classification-dataset/Raw Data/photos/36628ad03ab3925a4f10b46b575276b9b0f78939.jpg\n"
     ]
    },
    {
     "name": "stderr",
     "output_type": "stream",
     "text": [
      " 66%|██████▋   | 1820/2737 [11:41<03:52,  3.95it/s]"
     ]
    },
    {
     "name": "stdout",
     "output_type": "stream",
     "text": [
      "../input/painting-vs-photograph-classification-dataset/Raw Data/photos/fd7235f672c3ac985803ee01f03b094cf5bdde67.jpg\n"
     ]
    },
    {
     "name": "stderr",
     "output_type": "stream",
     "text": [
      " 67%|██████▋   | 1821/2737 [11:41<03:47,  4.03it/s]"
     ]
    },
    {
     "name": "stdout",
     "output_type": "stream",
     "text": [
      "../input/painting-vs-photograph-classification-dataset/Raw Data/photos/318063b74e0f9b28855b92946817641c2307579b.jpg\n"
     ]
    },
    {
     "name": "stderr",
     "output_type": "stream",
     "text": [
      " 67%|██████▋   | 1822/2737 [11:42<04:07,  3.69it/s]"
     ]
    },
    {
     "name": "stdout",
     "output_type": "stream",
     "text": [
      "../input/painting-vs-photograph-classification-dataset/Raw Data/photos/039c5fab70af3ca8d4f85c100e5c5a8349652cc6.jpg\n"
     ]
    },
    {
     "name": "stderr",
     "output_type": "stream",
     "text": [
      " 67%|██████▋   | 1823/2737 [11:42<04:01,  3.78it/s]"
     ]
    },
    {
     "name": "stdout",
     "output_type": "stream",
     "text": [
      "../input/painting-vs-photograph-classification-dataset/Raw Data/photos/46082e110c76782877bfa6955336e8d53e480ec6.jpg\n"
     ]
    },
    {
     "name": "stderr",
     "output_type": "stream",
     "text": [
      " 67%|██████▋   | 1824/2737 [11:42<03:57,  3.84it/s]"
     ]
    },
    {
     "name": "stdout",
     "output_type": "stream",
     "text": [
      "../input/painting-vs-photograph-classification-dataset/Raw Data/painting/04da6e64edb8c2497b40a3df02d01f6988bbbf6e.jpg\n"
     ]
    },
    {
     "name": "stderr",
     "output_type": "stream",
     "text": [
      " 67%|██████▋   | 1825/2737 [11:43<06:24,  2.37it/s]"
     ]
    },
    {
     "name": "stdout",
     "output_type": "stream",
     "text": [
      "../input/painting-vs-photograph-classification-dataset/Raw Data/painting/acd7b9fe29f57e2cea78b459870b06f3e7f7c7d3.jpg\n"
     ]
    },
    {
     "name": "stderr",
     "output_type": "stream",
     "text": [
      " 67%|██████▋   | 1826/2737 [11:43<05:50,  2.60it/s]"
     ]
    },
    {
     "name": "stdout",
     "output_type": "stream",
     "text": [
      "../input/painting-vs-photograph-classification-dataset/Raw Data/photos/52756d07ae81f9f33320c2a4921da879982c7567.jpg\n"
     ]
    },
    {
     "name": "stderr",
     "output_type": "stream",
     "text": [
      " 67%|██████▋   | 1828/2737 [11:44<04:26,  3.41it/s]"
     ]
    },
    {
     "name": "stdout",
     "output_type": "stream",
     "text": [
      "../input/painting-vs-photograph-classification-dataset/Raw Data/photos/f77286d874f107e95c0aacbb92ff636b7655ca21.jpg\n",
      "../input/painting-vs-photograph-classification-dataset/Raw Data/photos/a75bda0afdc34d013912fcc4bfe098b8da54c826.jpg\n"
     ]
    },
    {
     "name": "stderr",
     "output_type": "stream",
     "text": [
      " 67%|██████▋   | 1829/2737 [11:44<03:52,  3.91it/s]"
     ]
    },
    {
     "name": "stdout",
     "output_type": "stream",
     "text": [
      "../input/painting-vs-photograph-classification-dataset/Raw Data/photos/718ffe1a39a5b0e1cf1bb2d6d64437ea16be57b6.jpg\n"
     ]
    },
    {
     "name": "stderr",
     "output_type": "stream",
     "text": [
      " 67%|██████▋   | 1830/2737 [11:44<03:45,  4.03it/s]"
     ]
    },
    {
     "name": "stdout",
     "output_type": "stream",
     "text": [
      "../input/painting-vs-photograph-classification-dataset/Raw Data/painting/53d59a1ab16b2bfe922dd26df7a9a43ac6f2ab30.jpg\n"
     ]
    },
    {
     "name": "stderr",
     "output_type": "stream",
     "text": [
      " 67%|██████▋   | 1831/2737 [11:45<06:42,  2.25it/s]"
     ]
    },
    {
     "name": "stdout",
     "output_type": "stream",
     "text": [
      "../input/painting-vs-photograph-classification-dataset/Raw Data/photos/3191056fa44884b0f71759b2e02dacf3fca32ec6.jpg\n"
     ]
    },
    {
     "name": "stderr",
     "output_type": "stream",
     "text": [
      " 67%|██████▋   | 1832/2737 [11:45<05:40,  2.66it/s]"
     ]
    },
    {
     "name": "stdout",
     "output_type": "stream",
     "text": [
      "../input/painting-vs-photograph-classification-dataset/Raw Data/painting/3278520aa75efc97418d63600af827af99c224a3.jpg\n"
     ]
    },
    {
     "name": "stderr",
     "output_type": "stream",
     "text": [
      " 67%|██████▋   | 1833/2737 [11:46<07:26,  2.02it/s]"
     ]
    },
    {
     "name": "stdout",
     "output_type": "stream",
     "text": [
      "../input/painting-vs-photograph-classification-dataset/Raw Data/photos/bcc787ba594b36c525d754dc3724dd4405fd0f85.jpg\n"
     ]
    },
    {
     "name": "stderr",
     "output_type": "stream",
     "text": [
      " 67%|██████▋   | 1834/2737 [11:46<06:17,  2.39it/s]"
     ]
    },
    {
     "name": "stdout",
     "output_type": "stream",
     "text": [
      "../input/painting-vs-photograph-classification-dataset/Raw Data/painting/3d84082224320f6c1179fc4fa09bcd58c6e3ed90.jpg\n"
     ]
    },
    {
     "name": "stderr",
     "output_type": "stream",
     "text": [
      " 67%|██████▋   | 1836/2737 [11:47<06:19,  2.37it/s]"
     ]
    },
    {
     "name": "stdout",
     "output_type": "stream",
     "text": [
      "../input/painting-vs-photograph-classification-dataset/Raw Data/photos/f6a4080558da0ff20b3df3dba1ffb8c948611c8f.jpg\n",
      "../input/painting-vs-photograph-classification-dataset/Raw Data/photos/a1ec6def7fff4cedca49093db5b571b92a231525.jpg\n"
     ]
    },
    {
     "name": "stderr",
     "output_type": "stream",
     "text": [
      " 67%|██████▋   | 1837/2737 [11:47<06:01,  2.49it/s]"
     ]
    },
    {
     "name": "stdout",
     "output_type": "stream",
     "text": [
      "../input/painting-vs-photograph-classification-dataset/Raw Data/photos/73e7cfa2eac3f51573ad2d889d738a1d97428659.jpg\n"
     ]
    },
    {
     "name": "stderr",
     "output_type": "stream",
     "text": [
      " 67%|██████▋   | 1838/2737 [11:48<05:10,  2.90it/s]"
     ]
    },
    {
     "name": "stdout",
     "output_type": "stream",
     "text": [
      "../input/painting-vs-photograph-classification-dataset/Raw Data/photos/e9a927f6a0bceab3a80de0d523071fa5963bf3c8.jpg\n"
     ]
    },
    {
     "name": "stderr",
     "output_type": "stream",
     "text": [
      " 67%|██████▋   | 1839/2737 [11:48<04:48,  3.11it/s]"
     ]
    },
    {
     "name": "stdout",
     "output_type": "stream",
     "text": [
      "../input/painting-vs-photograph-classification-dataset/Raw Data/painting/aa04f982ba52f429189e3a44f9793ff6210b394d.jpg\n"
     ]
    },
    {
     "name": "stderr",
     "output_type": "stream",
     "text": [
      " 67%|██████▋   | 1840/2737 [11:48<04:48,  3.11it/s]"
     ]
    },
    {
     "name": "stdout",
     "output_type": "stream",
     "text": [
      "../input/painting-vs-photograph-classification-dataset/Raw Data/photos/37dc94e223ab36582e3469dd3cc271c3b1dbeaff.jpg\n"
     ]
    },
    {
     "name": "stderr",
     "output_type": "stream",
     "text": [
      " 67%|██████▋   | 1841/2737 [11:48<04:26,  3.36it/s]"
     ]
    },
    {
     "name": "stdout",
     "output_type": "stream",
     "text": [
      "../input/painting-vs-photograph-classification-dataset/Raw Data/painting/ecc0fc7f2744e13a160c88fdae43c090b989cc8a.jpg\n"
     ]
    },
    {
     "name": "stderr",
     "output_type": "stream",
     "text": [
      " 67%|██████▋   | 1842/2737 [11:49<07:02,  2.12it/s]"
     ]
    },
    {
     "name": "stdout",
     "output_type": "stream",
     "text": [
      "../input/painting-vs-photograph-classification-dataset/Raw Data/photos/a9902247c525be764653a3a8f5a0632326139b77.jpg\n"
     ]
    },
    {
     "name": "stderr",
     "output_type": "stream",
     "text": [
      " 67%|██████▋   | 1843/2737 [11:50<05:56,  2.50it/s]"
     ]
    },
    {
     "name": "stdout",
     "output_type": "stream",
     "text": [
      "../input/painting-vs-photograph-classification-dataset/Raw Data/painting/fae8c13037180952d6e95cb025c50bea8637b058.jpg\n"
     ]
    },
    {
     "name": "stderr",
     "output_type": "stream",
     "text": [
      " 67%|██████▋   | 1844/2737 [11:51<08:46,  1.70it/s]"
     ]
    },
    {
     "name": "stdout",
     "output_type": "stream",
     "text": [
      "../input/painting-vs-photograph-classification-dataset/Raw Data/painting/73588090495fc9c5d26f9380fcd50ce8746ef505.jpg\n"
     ]
    },
    {
     "name": "stderr",
     "output_type": "stream",
     "text": [
      " 67%|██████▋   | 1845/2737 [11:51<09:32,  1.56it/s]"
     ]
    },
    {
     "name": "stdout",
     "output_type": "stream",
     "text": [
      "../input/painting-vs-photograph-classification-dataset/Raw Data/painting/44bb8cc043d5998f38b9fe6b38ff3c67b83337f5.jpg\n"
     ]
    },
    {
     "name": "stderr",
     "output_type": "stream",
     "text": [
      " 67%|██████▋   | 1846/2737 [11:52<10:03,  1.48it/s]"
     ]
    },
    {
     "name": "stdout",
     "output_type": "stream",
     "text": [
      "../input/painting-vs-photograph-classification-dataset/Raw Data/painting/24799d3b6b15fe287a3bf2b9123da1cb512e7b6a.jpg\n"
     ]
    },
    {
     "name": "stderr",
     "output_type": "stream",
     "text": [
      " 67%|██████▋   | 1847/2737 [11:53<10:00,  1.48it/s]"
     ]
    },
    {
     "name": "stdout",
     "output_type": "stream",
     "text": [
      "../input/painting-vs-photograph-classification-dataset/Raw Data/painting/dc4e3648d58c440ba2d57aca65aa1aad160e775e.jpg\n"
     ]
    },
    {
     "name": "stderr",
     "output_type": "stream",
     "text": [
      " 68%|██████▊   | 1848/2737 [11:54<11:39,  1.27it/s]"
     ]
    },
    {
     "name": "stdout",
     "output_type": "stream",
     "text": [
      "../input/painting-vs-photograph-classification-dataset/Raw Data/painting/53d17372216cda47e353340984c7d3afc79e0053.jpg\n"
     ]
    },
    {
     "name": "stderr",
     "output_type": "stream",
     "text": [
      " 68%|██████▊   | 1849/2737 [11:55<12:34,  1.18it/s]"
     ]
    },
    {
     "name": "stdout",
     "output_type": "stream",
     "text": [
      "../input/painting-vs-photograph-classification-dataset/Raw Data/photos/dc8e939662051517fcf672c7c2ebc00dc8052f31.jpg\n"
     ]
    },
    {
     "name": "stderr",
     "output_type": "stream",
     "text": [
      " 68%|██████▊   | 1850/2737 [11:55<09:58,  1.48it/s]"
     ]
    },
    {
     "name": "stdout",
     "output_type": "stream",
     "text": [
      "../input/painting-vs-photograph-classification-dataset/Raw Data/photos/13eec053101e94477900eabed4dfb1bb43fe0a4d.jpg\n"
     ]
    },
    {
     "name": "stderr",
     "output_type": "stream",
     "text": [
      " 68%|██████▊   | 1851/2737 [11:55<07:52,  1.87it/s]"
     ]
    },
    {
     "name": "stdout",
     "output_type": "stream",
     "text": [
      "../input/painting-vs-photograph-classification-dataset/Raw Data/painting/5cb2e7600cffb3b778140ac11c8aa38fc3b3ac44.jpg\n"
     ]
    },
    {
     "name": "stderr",
     "output_type": "stream",
     "text": [
      " 68%|██████▊   | 1853/2737 [11:56<06:12,  2.37it/s]"
     ]
    },
    {
     "name": "stdout",
     "output_type": "stream",
     "text": [
      "../input/painting-vs-photograph-classification-dataset/Raw Data/photos/df89b5ee24e491c20cb36c8386df3205656bcbc5.jpg\n",
      "../input/painting-vs-photograph-classification-dataset/Raw Data/photos/ca40ff3196517bda2fe8451bc482c362d7ee68fe.jpg\n"
     ]
    },
    {
     "name": "stderr",
     "output_type": "stream",
     "text": [
      " 68%|██████▊   | 1854/2737 [11:56<05:13,  2.81it/s]"
     ]
    },
    {
     "name": "stdout",
     "output_type": "stream",
     "text": [
      "../input/painting-vs-photograph-classification-dataset/Raw Data/painting/075ca337a09ab4399a592f5efaaecf2dfc2419ed.jpg\n"
     ]
    },
    {
     "name": "stderr",
     "output_type": "stream",
     "text": [
      " 68%|██████▊   | 1855/2737 [11:57<07:08,  2.06it/s]"
     ]
    },
    {
     "name": "stdout",
     "output_type": "stream",
     "text": [
      "../input/painting-vs-photograph-classification-dataset/Raw Data/photos/68b47909666514473490c5da1d058bd257cb7200.jpg\n"
     ]
    },
    {
     "name": "stderr",
     "output_type": "stream",
     "text": [
      " 68%|██████▊   | 1856/2737 [11:57<06:05,  2.41it/s]"
     ]
    },
    {
     "name": "stdout",
     "output_type": "stream",
     "text": [
      "../input/painting-vs-photograph-classification-dataset/Raw Data/photos/f3c5657925bc8980319047472bf33b08eaa2e596.jpg\n"
     ]
    },
    {
     "name": "stderr",
     "output_type": "stream",
     "text": [
      " 68%|██████▊   | 1857/2737 [11:57<05:15,  2.79it/s]"
     ]
    },
    {
     "name": "stdout",
     "output_type": "stream",
     "text": [
      "../input/painting-vs-photograph-classification-dataset/Raw Data/photos/322cac768eb1ae9642ce8b864d3bdff074ba0e0f.jpg\n"
     ]
    },
    {
     "name": "stderr",
     "output_type": "stream",
     "text": [
      " 68%|██████▊   | 1858/2737 [11:58<04:41,  3.13it/s]"
     ]
    },
    {
     "name": "stdout",
     "output_type": "stream",
     "text": [
      "../input/painting-vs-photograph-classification-dataset/Raw Data/photos/ce6c250a308418c96b0718ef66c3c89112b9b6b6.jpg\n"
     ]
    },
    {
     "name": "stderr",
     "output_type": "stream",
     "text": [
      " 68%|██████▊   | 1859/2737 [11:58<04:15,  3.44it/s]"
     ]
    },
    {
     "name": "stdout",
     "output_type": "stream",
     "text": [
      "../input/painting-vs-photograph-classification-dataset/Raw Data/photos/7ecb1cb073dacbbf301d850bab7bfaf06218bcdb.jpg\n"
     ]
    },
    {
     "name": "stderr",
     "output_type": "stream",
     "text": [
      " 68%|██████▊   | 1860/2737 [11:58<04:10,  3.51it/s]"
     ]
    },
    {
     "name": "stdout",
     "output_type": "stream",
     "text": [
      "../input/painting-vs-photograph-classification-dataset/Raw Data/photos/335e9afd646510b5ebdb056cd3abbf44928f1f21.jpg\n"
     ]
    },
    {
     "name": "stderr",
     "output_type": "stream",
     "text": [
      " 68%|██████▊   | 1861/2737 [11:58<03:56,  3.70it/s]"
     ]
    },
    {
     "name": "stdout",
     "output_type": "stream",
     "text": [
      "../input/painting-vs-photograph-classification-dataset/Raw Data/painting/2f44963a9989654bba69e228dff268fb25e00713.jpg\n"
     ]
    },
    {
     "name": "stderr",
     "output_type": "stream",
     "text": [
      " 68%|██████▊   | 1863/2737 [11:59<04:56,  2.95it/s]"
     ]
    },
    {
     "name": "stdout",
     "output_type": "stream",
     "text": [
      "../input/painting-vs-photograph-classification-dataset/Raw Data/photos/873c82f29a46d3b63dfe73378967fc1f326f61d7.jpg\n",
      "../input/painting-vs-photograph-classification-dataset/Raw Data/photos/bb89bab6feb095292a28b8b9fdd2b138b7ac5c71.jpg\n"
     ]
    },
    {
     "name": "stderr",
     "output_type": "stream",
     "text": [
      " 68%|██████▊   | 1864/2737 [12:00<04:15,  3.42it/s]"
     ]
    },
    {
     "name": "stdout",
     "output_type": "stream",
     "text": [
      "../input/painting-vs-photograph-classification-dataset/Raw Data/painting/f0e08cfb6cd7ef4b310377ed55c8f455eaa54c4c.jpg\n"
     ]
    },
    {
     "name": "stderr",
     "output_type": "stream",
     "text": [
      " 68%|██████▊   | 1865/2737 [12:00<05:13,  2.78it/s]"
     ]
    },
    {
     "name": "stdout",
     "output_type": "stream",
     "text": [
      "../input/painting-vs-photograph-classification-dataset/Raw Data/photos/2329321ea8b0b4ac99b219ac0336586c16fc435f.jpg\n"
     ]
    },
    {
     "name": "stderr",
     "output_type": "stream",
     "text": [
      " 68%|██████▊   | 1866/2737 [12:00<04:43,  3.08it/s]"
     ]
    },
    {
     "name": "stdout",
     "output_type": "stream",
     "text": [
      "../input/painting-vs-photograph-classification-dataset/Raw Data/painting/ea12d9307289d4288367fd3b87bd154f70243f76.jpg\n"
     ]
    },
    {
     "name": "stderr",
     "output_type": "stream",
     "text": [
      " 68%|██████▊   | 1867/2737 [12:01<05:45,  2.52it/s]"
     ]
    },
    {
     "name": "stdout",
     "output_type": "stream",
     "text": [
      "../input/painting-vs-photograph-classification-dataset/Raw Data/photos/81425f133652002aca2f3a295cb3b17b50588bfd.jpg\n"
     ]
    },
    {
     "name": "stderr",
     "output_type": "stream",
     "text": [
      " 68%|██████▊   | 1868/2737 [12:01<05:02,  2.87it/s]"
     ]
    },
    {
     "name": "stdout",
     "output_type": "stream",
     "text": [
      "../input/painting-vs-photograph-classification-dataset/Raw Data/photos/c67fd9e16334d12d08a1bd29510771a55f2b1041.jpg\n"
     ]
    },
    {
     "name": "stderr",
     "output_type": "stream",
     "text": [
      " 68%|██████▊   | 1869/2737 [12:01<04:34,  3.16it/s]"
     ]
    },
    {
     "name": "stdout",
     "output_type": "stream",
     "text": [
      "../input/painting-vs-photograph-classification-dataset/Raw Data/painting/eab84f16108eecd2395ba92e5fe35f87e4cc4910.jpg\n"
     ]
    },
    {
     "name": "stderr",
     "output_type": "stream",
     "text": [
      " 68%|██████▊   | 1870/2737 [12:02<07:41,  1.88it/s]"
     ]
    },
    {
     "name": "stdout",
     "output_type": "stream",
     "text": [
      "../input/painting-vs-photograph-classification-dataset/Raw Data/photos/2786798d05a45dbf6d45f793f7799e567087ea1a.jpg\n"
     ]
    },
    {
     "name": "stderr",
     "output_type": "stream",
     "text": [
      " 68%|██████▊   | 1872/2737 [12:03<05:19,  2.71it/s]"
     ]
    },
    {
     "name": "stdout",
     "output_type": "stream",
     "text": [
      "../input/painting-vs-photograph-classification-dataset/Raw Data/photos/a245a457f237af4342ffb7e6f8a743d31a0bce4e.jpg\n",
      "../input/painting-vs-photograph-classification-dataset/Raw Data/photos/242ae74bc21b00bed1f316a5252872023f00bdd6.jpg\n"
     ]
    },
    {
     "name": "stderr",
     "output_type": "stream",
     "text": [
      " 68%|██████▊   | 1874/2737 [12:03<04:07,  3.49it/s]"
     ]
    },
    {
     "name": "stdout",
     "output_type": "stream",
     "text": [
      "../input/painting-vs-photograph-classification-dataset/Raw Data/photos/dc1223896b7a0f36414fea845cd9744bc37eae63.jpg\n",
      "../input/painting-vs-photograph-classification-dataset/Raw Data/photos/a92dac2ae166e54b0c137dae411bde85fa8f2dfd.jpg\n"
     ]
    },
    {
     "name": "stderr",
     "output_type": "stream",
     "text": [
      " 69%|██████▊   | 1876/2737 [12:04<03:37,  3.95it/s]"
     ]
    },
    {
     "name": "stdout",
     "output_type": "stream",
     "text": [
      "../input/painting-vs-photograph-classification-dataset/Raw Data/photos/156a80294fe108dfd92c5f35079333f8e9818e85.jpg\n",
      "../input/painting-vs-photograph-classification-dataset/Raw Data/painting/239aebf364e017c174718cae7922f1ccd48c2bab.jpg\n"
     ]
    },
    {
     "name": "stderr",
     "output_type": "stream",
     "text": [
      " 69%|██████▊   | 1878/2737 [12:05<05:11,  2.76it/s]"
     ]
    },
    {
     "name": "stdout",
     "output_type": "stream",
     "text": [
      "../input/painting-vs-photograph-classification-dataset/Raw Data/photos/fb951794cee34bddbcf7dabfeb02805367c2111a.jpg\n",
      "../input/painting-vs-photograph-classification-dataset/Raw Data/photos/f21e72e40e4b4daf04e52f3deb93661f8ad56216.jpg\n"
     ]
    },
    {
     "name": "stderr",
     "output_type": "stream",
     "text": [
      " 69%|██████▊   | 1879/2737 [12:05<04:32,  3.15it/s]"
     ]
    },
    {
     "name": "stdout",
     "output_type": "stream",
     "text": [
      "../input/painting-vs-photograph-classification-dataset/Raw Data/photos/f661ba25dd3be063649f28be0c33947695dea29c.jpg\n"
     ]
    },
    {
     "name": "stderr",
     "output_type": "stream",
     "text": [
      " 69%|██████▊   | 1880/2737 [12:05<04:11,  3.41it/s]"
     ]
    },
    {
     "name": "stdout",
     "output_type": "stream",
     "text": [
      "../input/painting-vs-photograph-classification-dataset/Raw Data/photos/62669a04174e9d9a31e55a1f9ec0a1e1d0c331ba.jpg\n"
     ]
    },
    {
     "name": "stderr",
     "output_type": "stream",
     "text": [
      " 69%|██████▊   | 1881/2737 [12:05<03:54,  3.64it/s]"
     ]
    },
    {
     "name": "stdout",
     "output_type": "stream",
     "text": [
      "../input/painting-vs-photograph-classification-dataset/Raw Data/painting/e5792e208fc71e7ee22c411a4b4c27a7a60758f3.jpg\n"
     ]
    },
    {
     "name": "stderr",
     "output_type": "stream",
     "text": [
      " 69%|██████▉   | 1882/2737 [12:06<06:04,  2.35it/s]"
     ]
    },
    {
     "name": "stdout",
     "output_type": "stream",
     "text": [
      "../input/painting-vs-photograph-classification-dataset/Raw Data/painting/ba6a45bc45e5092501dc1c5243d203d0f6351293.jpg\n"
     ]
    },
    {
     "name": "stderr",
     "output_type": "stream",
     "text": [
      " 69%|██████▉   | 1883/2737 [12:07<07:42,  1.85it/s]"
     ]
    },
    {
     "name": "stdout",
     "output_type": "stream",
     "text": [
      "../input/painting-vs-photograph-classification-dataset/Raw Data/photos/e9d86156ba398d98db9223169dd56c9ce7a9d41a.jpg\n"
     ]
    },
    {
     "name": "stderr",
     "output_type": "stream",
     "text": [
      " 69%|██████▉   | 1884/2737 [12:07<06:33,  2.17it/s]"
     ]
    },
    {
     "name": "stdout",
     "output_type": "stream",
     "text": [
      "../input/painting-vs-photograph-classification-dataset/Raw Data/painting/16c8e09907a781c6dd4ddb6cb044c891d8acb198.jpg\n"
     ]
    },
    {
     "name": "stderr",
     "output_type": "stream",
     "text": [
      " 69%|██████▉   | 1885/2737 [12:08<07:43,  1.84it/s]"
     ]
    },
    {
     "name": "stdout",
     "output_type": "stream",
     "text": [
      "../input/painting-vs-photograph-classification-dataset/Raw Data/photos/7ca58afd10c66003c1977635065049ce2511287d.jpg\n"
     ]
    },
    {
     "name": "stderr",
     "output_type": "stream",
     "text": [
      " 69%|██████▉   | 1887/2737 [12:08<05:09,  2.75it/s]"
     ]
    },
    {
     "name": "stdout",
     "output_type": "stream",
     "text": [
      "../input/painting-vs-photograph-classification-dataset/Raw Data/photos/569ed9ef6e1b0de24e5ecd3c05509f4717ee7168.jpg\n",
      "../input/painting-vs-photograph-classification-dataset/Raw Data/photos/aa0aaead850df7dd5023634a0d4611bedbb080fa.jpg\n"
     ]
    },
    {
     "name": "stderr",
     "output_type": "stream",
     "text": [
      " 69%|██████▉   | 1889/2737 [12:09<03:50,  3.68it/s]"
     ]
    },
    {
     "name": "stdout",
     "output_type": "stream",
     "text": [
      "../input/painting-vs-photograph-classification-dataset/Raw Data/photos/110f861e79af3611ab5f312ec7258d38d8cc93c5.jpg\n",
      "../input/painting-vs-photograph-classification-dataset/Raw Data/painting/2c69dfb3de00c71a1d6f903ec4159f817ff08181.jpg\n"
     ]
    },
    {
     "name": "stderr",
     "output_type": "stream",
     "text": [
      " 69%|██████▉   | 1890/2737 [12:09<05:25,  2.60it/s]"
     ]
    },
    {
     "name": "stdout",
     "output_type": "stream",
     "text": [
      "../input/painting-vs-photograph-classification-dataset/Raw Data/painting/e74b44efc2a76107e39adca7dc867f7739d01baf.jpg\n"
     ]
    },
    {
     "name": "stderr",
     "output_type": "stream",
     "text": [
      " 69%|██████▉   | 1891/2737 [12:10<06:49,  2.07it/s]"
     ]
    },
    {
     "name": "stdout",
     "output_type": "stream",
     "text": [
      "../input/painting-vs-photograph-classification-dataset/Raw Data/photos/d094f6b4fef772d9f3b483459bc066dac0b5f23f.jpg\n"
     ]
    },
    {
     "name": "stderr",
     "output_type": "stream",
     "text": [
      " 69%|██████▉   | 1892/2737 [12:10<05:48,  2.43it/s]"
     ]
    },
    {
     "name": "stdout",
     "output_type": "stream",
     "text": [
      "../input/painting-vs-photograph-classification-dataset/Raw Data/photos/053ae1f5c9610c361c5856e05977a4d02af3f8d0.jpg\n"
     ]
    },
    {
     "name": "stderr",
     "output_type": "stream",
     "text": [
      " 69%|██████▉   | 1894/2737 [12:11<04:11,  3.35it/s]"
     ]
    },
    {
     "name": "stdout",
     "output_type": "stream",
     "text": [
      "../input/painting-vs-photograph-classification-dataset/Raw Data/photos/603a33a41b61b0594b7efe28b20d220fd7a2e542.jpg\n",
      "../input/painting-vs-photograph-classification-dataset/Raw Data/painting/f564a1b185489a257c55419315079b348cdf819b.jpg\n"
     ]
    },
    {
     "name": "stderr",
     "output_type": "stream",
     "text": [
      " 69%|██████▉   | 1895/2737 [12:11<05:37,  2.50it/s]"
     ]
    },
    {
     "name": "stdout",
     "output_type": "stream",
     "text": [
      "../input/painting-vs-photograph-classification-dataset/Raw Data/painting/3b904d43813e529494b1f6b34cfd2b237d9661ff.jpg\n"
     ]
    },
    {
     "name": "stderr",
     "output_type": "stream",
     "text": [
      " 69%|██████▉   | 1897/2737 [12:12<05:37,  2.49it/s]"
     ]
    },
    {
     "name": "stdout",
     "output_type": "stream",
     "text": [
      "../input/painting-vs-photograph-classification-dataset/Raw Data/photos/c9549831c15806e95718ead5c777a5a82d42c655.jpg\n",
      "../input/painting-vs-photograph-classification-dataset/Raw Data/photos/fe5b0318f6636d09296ada8976e27e995691d396.jpg\n"
     ]
    },
    {
     "name": "stderr",
     "output_type": "stream",
     "text": [
      " 69%|██████▉   | 1898/2737 [12:13<05:01,  2.78it/s]"
     ]
    },
    {
     "name": "stdout",
     "output_type": "stream",
     "text": [
      "../input/painting-vs-photograph-classification-dataset/Raw Data/painting/e5146896ab7b97ce438286670fc5fc82b1b0ad71.jpg\n"
     ]
    },
    {
     "name": "stderr",
     "output_type": "stream",
     "text": [
      " 69%|██████▉   | 1899/2737 [12:13<06:41,  2.09it/s]"
     ]
    },
    {
     "name": "stdout",
     "output_type": "stream",
     "text": [
      "../input/painting-vs-photograph-classification-dataset/Raw Data/painting/41e7ffb77646ed1d77219df76cb0f8ddcfd3a133.jpg\n"
     ]
    },
    {
     "name": "stderr",
     "output_type": "stream",
     "text": [
      " 69%|██████▉   | 1900/2737 [12:14<07:41,  1.82it/s]"
     ]
    },
    {
     "name": "stdout",
     "output_type": "stream",
     "text": [
      "../input/painting-vs-photograph-classification-dataset/Raw Data/photos/f1c8bee57b02c3b591b3e42d1b44469a16f40458.jpg\n"
     ]
    },
    {
     "name": "stderr",
     "output_type": "stream",
     "text": [
      " 69%|██████▉   | 1901/2737 [12:14<06:17,  2.21it/s]"
     ]
    },
    {
     "name": "stdout",
     "output_type": "stream",
     "text": [
      "../input/painting-vs-photograph-classification-dataset/Raw Data/photos/d5e858e61d5fd3ff91a0829e9794239e4398341d.jpg\n"
     ]
    },
    {
     "name": "stderr",
     "output_type": "stream",
     "text": [
      " 69%|██████▉   | 1902/2737 [12:15<05:31,  2.52it/s]"
     ]
    },
    {
     "name": "stdout",
     "output_type": "stream",
     "text": [
      "../input/painting-vs-photograph-classification-dataset/Raw Data/photos/82680b60956d48aa969ecff8c4141dadbe855ff8.jpg\n"
     ]
    },
    {
     "name": "stderr",
     "output_type": "stream",
     "text": [
      " 70%|██████▉   | 1903/2737 [12:15<04:48,  2.90it/s]"
     ]
    },
    {
     "name": "stdout",
     "output_type": "stream",
     "text": [
      "../input/painting-vs-photograph-classification-dataset/Raw Data/photos/0132883d01b4e11c26ca641a404f991b80dac39d.jpg\n"
     ]
    },
    {
     "name": "stderr",
     "output_type": "stream",
     "text": [
      " 70%|██████▉   | 1904/2737 [12:15<04:20,  3.20it/s]"
     ]
    },
    {
     "name": "stdout",
     "output_type": "stream",
     "text": [
      "../input/painting-vs-photograph-classification-dataset/Raw Data/photos/a246d0ce254d908ab025a978d9bdcce9be84d381.jpg\n"
     ]
    },
    {
     "name": "stderr",
     "output_type": "stream",
     "text": [
      " 70%|██████▉   | 1905/2737 [12:15<03:54,  3.55it/s]"
     ]
    },
    {
     "name": "stdout",
     "output_type": "stream",
     "text": [
      "../input/painting-vs-photograph-classification-dataset/Raw Data/photos/d54b723b876827542ac311fd3ff65b00edf2849d.jpg\n"
     ]
    },
    {
     "name": "stderr",
     "output_type": "stream",
     "text": [
      " 70%|██████▉   | 1906/2737 [12:16<04:05,  3.38it/s]"
     ]
    },
    {
     "name": "stdout",
     "output_type": "stream",
     "text": [
      "../input/painting-vs-photograph-classification-dataset/Raw Data/photos/f18628263d192fe1ef8b0ddaba4f10b173a02465.jpg\n"
     ]
    },
    {
     "name": "stderr",
     "output_type": "stream",
     "text": [
      " 70%|██████▉   | 1907/2737 [12:16<03:54,  3.54it/s]"
     ]
    },
    {
     "name": "stdout",
     "output_type": "stream",
     "text": [
      "../input/painting-vs-photograph-classification-dataset/Raw Data/painting/4a0242061c97d897cf8de15f06c82a25489f0a31.jpg\n"
     ]
    },
    {
     "name": "stderr",
     "output_type": "stream",
     "text": [
      " 70%|██████▉   | 1909/2737 [12:17<04:16,  3.23it/s]"
     ]
    },
    {
     "name": "stdout",
     "output_type": "stream",
     "text": [
      "../input/painting-vs-photograph-classification-dataset/Raw Data/photos/4460de74fd17288fb1ed706b260b5c30ff30eb2f.jpg\n",
      "../input/painting-vs-photograph-classification-dataset/Raw Data/painting/fa57a739757c0fbeb621f9ebbad648523d6279f1.jpg\n"
     ]
    },
    {
     "name": "stderr",
     "output_type": "stream",
     "text": [
      " 70%|██████▉   | 1910/2737 [12:17<05:21,  2.57it/s]"
     ]
    },
    {
     "name": "stdout",
     "output_type": "stream",
     "text": [
      "../input/painting-vs-photograph-classification-dataset/Raw Data/photos/e586d0f9e2b395663df0a775827a01c7d2d7e70f.jpg\n"
     ]
    },
    {
     "name": "stderr",
     "output_type": "stream",
     "text": [
      " 70%|██████▉   | 1912/2737 [12:18<03:53,  3.53it/s]"
     ]
    },
    {
     "name": "stdout",
     "output_type": "stream",
     "text": [
      "../input/painting-vs-photograph-classification-dataset/Raw Data/photos/fff6e63dea7fcd2743e4b29a546da73fee4ad508.jpg\n",
      "../input/painting-vs-photograph-classification-dataset/Raw Data/painting/e7d3471423ff26363f6c76bd1885e46bf91586f4.jpg\n"
     ]
    },
    {
     "name": "stderr",
     "output_type": "stream",
     "text": [
      " 70%|██████▉   | 1913/2737 [12:19<07:01,  1.96it/s]"
     ]
    },
    {
     "name": "stdout",
     "output_type": "stream",
     "text": [
      "../input/painting-vs-photograph-classification-dataset/Raw Data/photos/e53b566ca49ffbca1d610bc6208889af7702a824.jpg\n"
     ]
    },
    {
     "name": "stderr",
     "output_type": "stream",
     "text": [
      " 70%|██████▉   | 1914/2737 [12:19<05:53,  2.33it/s]"
     ]
    },
    {
     "name": "stdout",
     "output_type": "stream",
     "text": [
      "../input/painting-vs-photograph-classification-dataset/Raw Data/photos/f3e15b15751c62ff7e21f8c47e7dc5604cbb6424.jpg\n"
     ]
    },
    {
     "name": "stderr",
     "output_type": "stream",
     "text": [
      " 70%|██████▉   | 1915/2737 [12:19<05:05,  2.69it/s]"
     ]
    },
    {
     "name": "stdout",
     "output_type": "stream",
     "text": [
      "../input/painting-vs-photograph-classification-dataset/Raw Data/photos/40f90c3fd186e5b0ff49edca35d6bb918c9f8169.jpg\n"
     ]
    },
    {
     "name": "stderr",
     "output_type": "stream",
     "text": [
      " 70%|███████   | 1916/2737 [12:19<04:29,  3.04it/s]"
     ]
    },
    {
     "name": "stdout",
     "output_type": "stream",
     "text": [
      "../input/painting-vs-photograph-classification-dataset/Raw Data/photos/b85877a8e52eb62ef6ceb4b816d718900c29e7e9.jpg\n"
     ]
    },
    {
     "name": "stderr",
     "output_type": "stream",
     "text": [
      " 70%|███████   | 1917/2737 [12:19<04:01,  3.40it/s]"
     ]
    },
    {
     "name": "stdout",
     "output_type": "stream",
     "text": [
      "../input/painting-vs-photograph-classification-dataset/Raw Data/photos/061b564c3a42b06a2cf7b1e0b31ad7ddee2ff05a.jpg\n"
     ]
    },
    {
     "name": "stderr",
     "output_type": "stream",
     "text": [
      " 70%|███████   | 1919/2737 [12:20<03:34,  3.81it/s]"
     ]
    },
    {
     "name": "stdout",
     "output_type": "stream",
     "text": [
      "../input/painting-vs-photograph-classification-dataset/Raw Data/photos/11b120f1cb11fbd586ac7d341f3dc0543d6d302e.jpg\n",
      "../input/painting-vs-photograph-classification-dataset/Raw Data/photos/0b61a99214490b8699fe3ad600c7a7eee5a77e0b.jpg\n"
     ]
    },
    {
     "name": "stderr",
     "output_type": "stream",
     "text": [
      " 70%|███████   | 1921/2737 [12:20<03:14,  4.21it/s]"
     ]
    },
    {
     "name": "stdout",
     "output_type": "stream",
     "text": [
      "../input/painting-vs-photograph-classification-dataset/Raw Data/photos/b9a330282e5a15396b0e6be205d47edfe7d4e978.jpg\n",
      "../input/painting-vs-photograph-classification-dataset/Raw Data/photos/62c65db9d4dfa55b3f7ce2b469f3dd51fb330cda.jpg\n"
     ]
    },
    {
     "name": "stderr",
     "output_type": "stream",
     "text": [
      " 70%|███████   | 1922/2737 [12:21<03:13,  4.21it/s]"
     ]
    },
    {
     "name": "stdout",
     "output_type": "stream",
     "text": [
      "../input/painting-vs-photograph-classification-dataset/Raw Data/photos/ca09bc5439863574530a5cea46928cec8893cdd3.jpg\n"
     ]
    },
    {
     "name": "stderr",
     "output_type": "stream",
     "text": [
      " 70%|███████   | 1923/2737 [12:21<03:05,  4.38it/s]"
     ]
    },
    {
     "name": "stdout",
     "output_type": "stream",
     "text": [
      "../input/painting-vs-photograph-classification-dataset/Raw Data/photos/a79de9c72bb2be27ae49df07becc437248129b2c.jpg\n"
     ]
    },
    {
     "name": "stderr",
     "output_type": "stream",
     "text": [
      " 70%|███████   | 1924/2737 [12:21<03:19,  4.08it/s]"
     ]
    },
    {
     "name": "stdout",
     "output_type": "stream",
     "text": [
      "../input/painting-vs-photograph-classification-dataset/Raw Data/photos/74d0ca74d47ad13cdb176e1e505b35293c9e0560.jpg\n"
     ]
    },
    {
     "name": "stderr",
     "output_type": "stream",
     "text": [
      " 70%|███████   | 1925/2737 [12:21<03:15,  4.14it/s]"
     ]
    },
    {
     "name": "stdout",
     "output_type": "stream",
     "text": [
      "../input/painting-vs-photograph-classification-dataset/Raw Data/photos/91ea56b1b7c3dae8b5f243367b6dfbb82936b844.jpg\n"
     ]
    },
    {
     "name": "stderr",
     "output_type": "stream",
     "text": [
      " 70%|███████   | 1926/2737 [12:22<03:14,  4.18it/s]"
     ]
    },
    {
     "name": "stdout",
     "output_type": "stream",
     "text": [
      "../input/painting-vs-photograph-classification-dataset/Raw Data/photos/70c3c3d4a5a21b30a1018627de760f53bc59eb1b.jpg\n"
     ]
    },
    {
     "name": "stderr",
     "output_type": "stream",
     "text": [
      " 70%|███████   | 1927/2737 [12:22<03:11,  4.23it/s]"
     ]
    },
    {
     "name": "stdout",
     "output_type": "stream",
     "text": [
      "../input/painting-vs-photograph-classification-dataset/Raw Data/photos/6862276af5c60f1142c7a562357a5fb85ecb213d.jpg\n"
     ]
    },
    {
     "name": "stderr",
     "output_type": "stream",
     "text": [
      " 70%|███████   | 1928/2737 [12:22<03:35,  3.76it/s]"
     ]
    },
    {
     "name": "stdout",
     "output_type": "stream",
     "text": [
      "../input/painting-vs-photograph-classification-dataset/Raw Data/photos/c92c333fce612eab6a9ca450490fb7b3fd31624e.jpg\n"
     ]
    },
    {
     "name": "stderr",
     "output_type": "stream",
     "text": [
      " 71%|███████   | 1930/2737 [12:23<03:18,  4.06it/s]"
     ]
    },
    {
     "name": "stdout",
     "output_type": "stream",
     "text": [
      "../input/painting-vs-photograph-classification-dataset/Raw Data/photos/71c762ceed8a06ccf13c7e2273e3f8da641a34e5.jpg\n",
      "../input/painting-vs-photograph-classification-dataset/Raw Data/photos/415c3bfa3a26761bdbce6ea702111abd8c0a28b3.jpg\n"
     ]
    },
    {
     "name": "stderr",
     "output_type": "stream",
     "text": [
      " 71%|███████   | 1931/2737 [12:23<03:24,  3.94it/s]"
     ]
    },
    {
     "name": "stdout",
     "output_type": "stream",
     "text": [
      "../input/painting-vs-photograph-classification-dataset/Raw Data/photos/308f6bdd98dd1510217522b927b7b563c0d674ab.jpg\n"
     ]
    },
    {
     "name": "stderr",
     "output_type": "stream",
     "text": [
      " 71%|███████   | 1932/2737 [12:23<03:15,  4.12it/s]"
     ]
    },
    {
     "name": "stdout",
     "output_type": "stream",
     "text": [
      "../input/painting-vs-photograph-classification-dataset/Raw Data/painting/d77c53f062d3afc7041e733ba1f3cfa8a2ce4bd6.jpg\n"
     ]
    },
    {
     "name": "stderr",
     "output_type": "stream",
     "text": [
      " 71%|███████   | 1933/2737 [12:24<05:19,  2.52it/s]"
     ]
    },
    {
     "name": "stdout",
     "output_type": "stream",
     "text": [
      "../input/painting-vs-photograph-classification-dataset/Raw Data/painting/f89c8b2cd8a9b5a445e37e7c183ad936f300d08c.jpg\n"
     ]
    },
    {
     "name": "stderr",
     "output_type": "stream",
     "text": [
      " 71%|███████   | 1934/2737 [12:25<06:58,  1.92it/s]"
     ]
    },
    {
     "name": "stdout",
     "output_type": "stream",
     "text": [
      "../input/painting-vs-photograph-classification-dataset/Raw Data/photos/57d838beb09a644a90fdca0a50f25d9be6f1912b.jpg\n"
     ]
    },
    {
     "name": "stderr",
     "output_type": "stream",
     "text": [
      " 71%|███████   | 1935/2737 [12:25<05:48,  2.30it/s]"
     ]
    },
    {
     "name": "stdout",
     "output_type": "stream",
     "text": [
      "../input/painting-vs-photograph-classification-dataset/Raw Data/photos/640bd701934740db7be54fb2f17561eaddb82056.jpg\n"
     ]
    },
    {
     "name": "stderr",
     "output_type": "stream",
     "text": [
      " 71%|███████   | 1936/2737 [12:25<05:09,  2.59it/s]"
     ]
    },
    {
     "name": "stdout",
     "output_type": "stream",
     "text": [
      "../input/painting-vs-photograph-classification-dataset/Raw Data/photos/f4a9adc9e5c3f4f5e99fbf119af3e0df6b3d3ebe.jpg\n"
     ]
    },
    {
     "name": "stderr",
     "output_type": "stream",
     "text": [
      " 71%|███████   | 1937/2737 [12:25<04:36,  2.89it/s]"
     ]
    },
    {
     "name": "stdout",
     "output_type": "stream",
     "text": [
      "../input/painting-vs-photograph-classification-dataset/Raw Data/photos/e2e5b15aaf7621f385561070097aba026d2ccee8.jpg\n"
     ]
    },
    {
     "name": "stderr",
     "output_type": "stream",
     "text": [
      " 71%|███████   | 1938/2737 [12:26<04:39,  2.86it/s]"
     ]
    },
    {
     "name": "stdout",
     "output_type": "stream",
     "text": [
      "../input/painting-vs-photograph-classification-dataset/Raw Data/painting/15c39ecf67d11e67fbacda4b92e5ed099e5932bd.jpg\n"
     ]
    },
    {
     "name": "stderr",
     "output_type": "stream",
     "text": [
      " 71%|███████   | 1939/2737 [12:26<05:15,  2.53it/s]"
     ]
    },
    {
     "name": "stdout",
     "output_type": "stream",
     "text": [
      "../input/painting-vs-photograph-classification-dataset/Raw Data/photos/fe128ccb78de04b1873a2e5a980c9048bc78d15a.jpg\n"
     ]
    },
    {
     "name": "stderr",
     "output_type": "stream",
     "text": [
      " 71%|███████   | 1940/2737 [12:27<04:47,  2.78it/s]"
     ]
    },
    {
     "name": "stdout",
     "output_type": "stream",
     "text": [
      "../input/painting-vs-photograph-classification-dataset/Raw Data/painting/eac30717b3c9618f7178b2dca637fab2bf025f35.jpg\n"
     ]
    },
    {
     "name": "stderr",
     "output_type": "stream",
     "text": [
      " 71%|███████   | 1941/2737 [12:27<06:55,  1.92it/s]"
     ]
    },
    {
     "name": "stdout",
     "output_type": "stream",
     "text": [
      "../input/painting-vs-photograph-classification-dataset/Raw Data/photos/01ec3e76a4fff040078bd4857418476c82f8c08f.jpg\n"
     ]
    },
    {
     "name": "stderr",
     "output_type": "stream",
     "text": [
      " 71%|███████   | 1943/2737 [12:28<04:40,  2.83it/s]"
     ]
    },
    {
     "name": "stdout",
     "output_type": "stream",
     "text": [
      "../input/painting-vs-photograph-classification-dataset/Raw Data/photos/807ac2e62b3f7aec7511b04f4a32babf811e57e0.jpg\n",
      "../input/painting-vs-photograph-classification-dataset/Raw Data/photos/7f82a600e13a1bfbdad46a9ba00e7ad55568908d.jpg\n"
     ]
    },
    {
     "name": "stderr",
     "output_type": "stream",
     "text": [
      " 71%|███████   | 1945/2737 [12:28<03:43,  3.54it/s]"
     ]
    },
    {
     "name": "stdout",
     "output_type": "stream",
     "text": [
      "../input/painting-vs-photograph-classification-dataset/Raw Data/photos/10063ae8b1116735bf69ad756626d66765d0a24e.jpg\n",
      "../input/painting-vs-photograph-classification-dataset/Raw Data/photos/e39ce3097dd0d57506f9e562c8a275d85a968310.jpg\n"
     ]
    },
    {
     "name": "stderr",
     "output_type": "stream",
     "text": [
      " 71%|███████   | 1946/2737 [12:29<03:32,  3.73it/s]"
     ]
    },
    {
     "name": "stdout",
     "output_type": "stream",
     "text": [
      "../input/painting-vs-photograph-classification-dataset/Raw Data/photos/7ca492f4d2ef999f26b933f27db70667ebe74aa8.jpg\n"
     ]
    },
    {
     "name": "stderr",
     "output_type": "stream",
     "text": [
      " 71%|███████   | 1948/2737 [12:29<03:25,  3.84it/s]"
     ]
    },
    {
     "name": "stdout",
     "output_type": "stream",
     "text": [
      "../input/painting-vs-photograph-classification-dataset/Raw Data/photos/546b64a7aff63812cba61d1a29a7a6f49fefd1de.jpg\n",
      "../input/painting-vs-photograph-classification-dataset/Raw Data/photos/da1c6d4a4318b486449a041b4635b738308c526c.jpg\n"
     ]
    },
    {
     "name": "stderr",
     "output_type": "stream",
     "text": [
      " 71%|███████   | 1950/2737 [12:29<02:59,  4.38it/s]"
     ]
    },
    {
     "name": "stdout",
     "output_type": "stream",
     "text": [
      "../input/painting-vs-photograph-classification-dataset/Raw Data/photos/4656aae108068061faaf3d174c939b885659793b.jpg\n",
      "../input/painting-vs-photograph-classification-dataset/Raw Data/photos/a7724e4615c90f46fdf94d0eb69e0278df3f4dda.jpg\n"
     ]
    },
    {
     "name": "stderr",
     "output_type": "stream",
     "text": [
      " 71%|███████▏  | 1951/2737 [12:30<03:04,  4.27it/s]"
     ]
    },
    {
     "name": "stdout",
     "output_type": "stream",
     "text": [
      "../input/painting-vs-photograph-classification-dataset/Raw Data/painting/e3118210ad93ad38912a6270dad1e125aeb42091.jpg\n"
     ]
    },
    {
     "name": "stderr",
     "output_type": "stream",
     "text": [
      " 71%|███████▏  | 1953/2737 [12:30<03:33,  3.68it/s]"
     ]
    },
    {
     "name": "stdout",
     "output_type": "stream",
     "text": [
      "../input/painting-vs-photograph-classification-dataset/Raw Data/photos/d075257d917ae265292ddc8d5a16c66d2d37b12b.jpg\n",
      "../input/painting-vs-photograph-classification-dataset/Raw Data/photos/55c1aaea2aa365fa859bfe99b64b9bb57d20d228.jpg\n"
     ]
    },
    {
     "name": "stderr",
     "output_type": "stream",
     "text": [
      " 71%|███████▏  | 1954/2737 [12:31<03:17,  3.97it/s]"
     ]
    },
    {
     "name": "stdout",
     "output_type": "stream",
     "text": [
      "../input/painting-vs-photograph-classification-dataset/Raw Data/photos/bb5a2da09140372b5497a08a735b8409f453cace.jpg\n"
     ]
    },
    {
     "name": "stderr",
     "output_type": "stream",
     "text": [
      " 71%|███████▏  | 1955/2737 [12:31<03:21,  3.88it/s]"
     ]
    },
    {
     "name": "stdout",
     "output_type": "stream",
     "text": [
      "../input/painting-vs-photograph-classification-dataset/Raw Data/photos/e1063141c4e4d97a733c77b3943c838dae7217aa.jpg\n"
     ]
    },
    {
     "name": "stderr",
     "output_type": "stream",
     "text": [
      " 72%|███████▏  | 1957/2737 [12:31<03:04,  4.23it/s]"
     ]
    },
    {
     "name": "stdout",
     "output_type": "stream",
     "text": [
      "../input/painting-vs-photograph-classification-dataset/Raw Data/photos/af4b911539dc3eedff4f423962928349d3c36f3f.jpg\n",
      "../input/painting-vs-photograph-classification-dataset/Raw Data/photos/76ab0ce289feca56ad1c4f7a564a2491c3ca87e7.jpg\n"
     ]
    },
    {
     "name": "stderr",
     "output_type": "stream",
     "text": [
      " 72%|███████▏  | 1958/2737 [12:32<03:02,  4.26it/s]"
     ]
    },
    {
     "name": "stdout",
     "output_type": "stream",
     "text": [
      "../input/painting-vs-photograph-classification-dataset/Raw Data/photos/d865c9f6b39541bd5bb8a004eed4508dc3076009.jpg\n"
     ]
    },
    {
     "name": "stderr",
     "output_type": "stream",
     "text": [
      " 72%|███████▏  | 1959/2737 [12:32<03:04,  4.22it/s]"
     ]
    },
    {
     "name": "stdout",
     "output_type": "stream",
     "text": [
      "../input/painting-vs-photograph-classification-dataset/Raw Data/painting/ecf87935f9da68113a7f865f481ae853d9f3e47a.jpg\n"
     ]
    },
    {
     "name": "stderr",
     "output_type": "stream",
     "text": [
      " 72%|███████▏  | 1960/2737 [12:33<05:24,  2.40it/s]"
     ]
    },
    {
     "name": "stdout",
     "output_type": "stream",
     "text": [
      "../input/painting-vs-photograph-classification-dataset/Raw Data/painting/ea294ac51e686068d9f5bcea94c796c425859f8f.jpg\n"
     ]
    },
    {
     "name": "stderr",
     "output_type": "stream",
     "text": [
      " 72%|███████▏  | 1961/2737 [12:33<06:09,  2.10it/s]"
     ]
    },
    {
     "name": "stdout",
     "output_type": "stream",
     "text": [
      "../input/painting-vs-photograph-classification-dataset/Raw Data/painting/eeb73ee8abf45115629d797fb86222cf4de94466.jpg\n"
     ]
    },
    {
     "name": "stderr",
     "output_type": "stream",
     "text": [
      " 72%|███████▏  | 1963/2737 [12:34<04:49,  2.67it/s]"
     ]
    },
    {
     "name": "stdout",
     "output_type": "stream",
     "text": [
      "../input/painting-vs-photograph-classification-dataset/Raw Data/photos/e7d69b7fddb8b0022d5de05fce051ac1284b83ee.jpg\n",
      "../input/painting-vs-photograph-classification-dataset/Raw Data/photos/209f91f6617191e37cdefdf0c2e8eeba5572d21f.jpg\n"
     ]
    },
    {
     "name": "stderr",
     "output_type": "stream",
     "text": [
      " 72%|███████▏  | 1964/2737 [12:34<04:17,  3.00it/s]"
     ]
    },
    {
     "name": "stdout",
     "output_type": "stream",
     "text": [
      "../input/painting-vs-photograph-classification-dataset/Raw Data/photos/5710a4f859404cd8c30ad745f20f4c37c01e1adf.jpg\n"
     ]
    },
    {
     "name": "stderr",
     "output_type": "stream",
     "text": [
      " 72%|███████▏  | 1965/2737 [12:34<03:55,  3.27it/s]"
     ]
    },
    {
     "name": "stdout",
     "output_type": "stream",
     "text": [
      "../input/painting-vs-photograph-classification-dataset/Raw Data/painting/6ce991079f9a3867abe70bff8b1fa9360ce07798.jpg\n"
     ]
    },
    {
     "name": "stderr",
     "output_type": "stream",
     "text": [
      " 72%|███████▏  | 1966/2737 [12:35<05:05,  2.52it/s]"
     ]
    },
    {
     "name": "stdout",
     "output_type": "stream",
     "text": [
      "../input/painting-vs-photograph-classification-dataset/Raw Data/photos/511769b3f3fd670efbded2b9e781faa1d1422721.jpg\n"
     ]
    },
    {
     "name": "stderr",
     "output_type": "stream",
     "text": [
      " 72%|███████▏  | 1968/2737 [12:35<03:49,  3.35it/s]"
     ]
    },
    {
     "name": "stdout",
     "output_type": "stream",
     "text": [
      "../input/painting-vs-photograph-classification-dataset/Raw Data/photos/e717b94be3eec39fc633ee393000f16098fd59bf.jpg\n",
      "../input/painting-vs-photograph-classification-dataset/Raw Data/painting/23ad76dc6dbb1ec4f7efb639549468feba943322.jpg\n"
     ]
    },
    {
     "name": "stderr",
     "output_type": "stream",
     "text": [
      " 72%|███████▏  | 1969/2737 [12:36<05:09,  2.48it/s]"
     ]
    },
    {
     "name": "stdout",
     "output_type": "stream",
     "text": [
      "../input/painting-vs-photograph-classification-dataset/Raw Data/photos/e64525b6f315db6ee3063dead7e35267e326ccd0.jpg\n"
     ]
    },
    {
     "name": "stderr",
     "output_type": "stream",
     "text": [
      " 72%|███████▏  | 1970/2737 [12:36<05:01,  2.55it/s]"
     ]
    },
    {
     "name": "stdout",
     "output_type": "stream",
     "text": [
      "../input/painting-vs-photograph-classification-dataset/Raw Data/painting/3f2eb86b9e7eb47538d5113a61efd38e2b85fc56.jpg\n"
     ]
    },
    {
     "name": "stderr",
     "output_type": "stream",
     "text": [
      " 72%|███████▏  | 1971/2737 [12:37<06:18,  2.02it/s]"
     ]
    },
    {
     "name": "stdout",
     "output_type": "stream",
     "text": [
      "../input/painting-vs-photograph-classification-dataset/Raw Data/photos/07672a2608df5b25bfc2eb8d146214b0b06378a2.jpg\n"
     ]
    },
    {
     "name": "stderr",
     "output_type": "stream",
     "text": [
      " 72%|███████▏  | 1972/2737 [12:37<05:15,  2.43it/s]"
     ]
    },
    {
     "name": "stdout",
     "output_type": "stream",
     "text": [
      "../input/painting-vs-photograph-classification-dataset/Raw Data/photos/262b981c497358977dd096d278622fb6bddcb5b5.jpg\n"
     ]
    },
    {
     "name": "stderr",
     "output_type": "stream",
     "text": [
      " 72%|███████▏  | 1973/2737 [12:38<04:37,  2.75it/s]"
     ]
    },
    {
     "name": "stdout",
     "output_type": "stream",
     "text": [
      "../input/painting-vs-photograph-classification-dataset/Raw Data/painting/11ddd3b7eeb608213ac38d5d039d55a408de29ac.jpg\n"
     ]
    },
    {
     "name": "stderr",
     "output_type": "stream",
     "text": [
      " 72%|███████▏  | 1974/2737 [12:38<06:02,  2.11it/s]"
     ]
    },
    {
     "name": "stdout",
     "output_type": "stream",
     "text": [
      "../input/painting-vs-photograph-classification-dataset/Raw Data/photos/be2ac2fb91cc806d09f8bd46126ce193c610178a.jpg\n"
     ]
    },
    {
     "name": "stderr",
     "output_type": "stream",
     "text": [
      " 72%|███████▏  | 1975/2737 [12:39<05:14,  2.42it/s]"
     ]
    },
    {
     "name": "stdout",
     "output_type": "stream",
     "text": [
      "../input/painting-vs-photograph-classification-dataset/Raw Data/photos/9643a4f28605a8e84210c8138e6998e6f44ce7bf.jpg\n"
     ]
    },
    {
     "name": "stderr",
     "output_type": "stream",
     "text": [
      " 72%|███████▏  | 1976/2737 [12:39<04:35,  2.76it/s]"
     ]
    },
    {
     "name": "stdout",
     "output_type": "stream",
     "text": [
      "../input/painting-vs-photograph-classification-dataset/Raw Data/painting/e592eb00bdf03374f63bc5365e0996b30ff57f24.jpg\n"
     ]
    },
    {
     "name": "stderr",
     "output_type": "stream",
     "text": [
      " 72%|███████▏  | 1978/2737 [12:40<05:29,  2.30it/s]"
     ]
    },
    {
     "name": "stdout",
     "output_type": "stream",
     "text": [
      "../input/painting-vs-photograph-classification-dataset/Raw Data/photos/61800152cb76e9601fd052630b5cec5c23128756.jpg\n",
      "../input/painting-vs-photograph-classification-dataset/Raw Data/photos/689af098f3c78249b2a40d418e53f7d9486fb6c1.jpg\n"
     ]
    },
    {
     "name": "stderr",
     "output_type": "stream",
     "text": [
      " 72%|███████▏  | 1979/2737 [12:40<04:26,  2.85it/s]"
     ]
    },
    {
     "name": "stdout",
     "output_type": "stream",
     "text": [
      "../input/painting-vs-photograph-classification-dataset/Raw Data/painting/7516f199ca384858b701423ea15acfb37eb8a65d.jpg\n"
     ]
    },
    {
     "name": "stderr",
     "output_type": "stream",
     "text": [
      " 72%|███████▏  | 1980/2737 [12:41<06:29,  1.94it/s]"
     ]
    },
    {
     "name": "stdout",
     "output_type": "stream",
     "text": [
      "../input/painting-vs-photograph-classification-dataset/Raw Data/photos/878e1f1e12fadbea4cc64eb262c4ca6ab9927a8a.jpg\n"
     ]
    },
    {
     "name": "stderr",
     "output_type": "stream",
     "text": [
      " 72%|███████▏  | 1981/2737 [12:41<05:32,  2.28it/s]"
     ]
    },
    {
     "name": "stdout",
     "output_type": "stream",
     "text": [
      "../input/painting-vs-photograph-classification-dataset/Raw Data/photos/a84e89f2090c3fa6a29998947b7e3453dd92e0d1.jpg\n"
     ]
    },
    {
     "name": "stderr",
     "output_type": "stream",
     "text": [
      " 72%|███████▏  | 1982/2737 [12:41<04:40,  2.69it/s]"
     ]
    },
    {
     "name": "stdout",
     "output_type": "stream",
     "text": [
      "../input/painting-vs-photograph-classification-dataset/Raw Data/photos/344be7e85824fca39eee5e3db733a5ed7e6b12ed.jpg\n"
     ]
    },
    {
     "name": "stderr",
     "output_type": "stream",
     "text": [
      " 72%|███████▏  | 1983/2737 [12:42<04:09,  3.03it/s]"
     ]
    },
    {
     "name": "stdout",
     "output_type": "stream",
     "text": [
      "../input/painting-vs-photograph-classification-dataset/Raw Data/photos/a6dc824bb5cd0697ee5ba6149b11b3eafef6b464.jpg\n"
     ]
    },
    {
     "name": "stderr",
     "output_type": "stream",
     "text": [
      " 73%|███████▎  | 1985/2737 [12:42<03:22,  3.70it/s]"
     ]
    },
    {
     "name": "stdout",
     "output_type": "stream",
     "text": [
      "../input/painting-vs-photograph-classification-dataset/Raw Data/photos/a72c20e59509a89e5dfe1f6926b4313787779b24.jpg\n",
      "../input/painting-vs-photograph-classification-dataset/Raw Data/painting/76735f27b6ee4617763c873b7c27c9608cf5fb6d.jpg\n"
     ]
    },
    {
     "name": "stderr",
     "output_type": "stream",
     "text": [
      " 73%|███████▎  | 1986/2737 [12:43<05:25,  2.31it/s]"
     ]
    },
    {
     "name": "stdout",
     "output_type": "stream",
     "text": [
      "../input/painting-vs-photograph-classification-dataset/Raw Data/photos/e6958b815b55f8bb803173aa1a64791d6b7fa98d.jpg\n"
     ]
    },
    {
     "name": "stderr",
     "output_type": "stream",
     "text": [
      " 73%|███████▎  | 1987/2737 [12:43<04:44,  2.63it/s]"
     ]
    },
    {
     "name": "stdout",
     "output_type": "stream",
     "text": [
      "../input/painting-vs-photograph-classification-dataset/Raw Data/painting/d3766f6a9d219f5d4e2dd8358e3e8602d12e1d38.jpg\n"
     ]
    },
    {
     "name": "stderr",
     "output_type": "stream",
     "text": [
      " 73%|███████▎  | 1988/2737 [12:44<06:22,  1.96it/s]"
     ]
    },
    {
     "name": "stdout",
     "output_type": "stream",
     "text": [
      "../input/painting-vs-photograph-classification-dataset/Raw Data/photos/44352d1091d05663bb0aecf4556e8a86f8202e2a.jpg\n"
     ]
    },
    {
     "name": "stderr",
     "output_type": "stream",
     "text": [
      " 73%|███████▎  | 1989/2737 [12:44<05:25,  2.30it/s]"
     ]
    },
    {
     "name": "stdout",
     "output_type": "stream",
     "text": [
      "../input/painting-vs-photograph-classification-dataset/Raw Data/photos/537de7fc546477315b0d7b272428e9e26d295b81.jpg\n"
     ]
    },
    {
     "name": "stderr",
     "output_type": "stream",
     "text": [
      " 73%|███████▎  | 1990/2737 [12:45<04:40,  2.66it/s]"
     ]
    },
    {
     "name": "stdout",
     "output_type": "stream",
     "text": [
      "../input/painting-vs-photograph-classification-dataset/Raw Data/photos/a2b2a3b683c2a524886d243d4bfc1bb1064223b8.jpg\n"
     ]
    },
    {
     "name": "stderr",
     "output_type": "stream",
     "text": [
      " 73%|███████▎  | 1991/2737 [12:45<04:05,  3.04it/s]"
     ]
    },
    {
     "name": "stdout",
     "output_type": "stream",
     "text": [
      "../input/painting-vs-photograph-classification-dataset/Raw Data/photos/78c0eff8af54f9020e4c63935e2069dc5ba0cda5.jpg\n"
     ]
    },
    {
     "name": "stderr",
     "output_type": "stream",
     "text": [
      " 73%|███████▎  | 1992/2737 [12:45<03:43,  3.33it/s]"
     ]
    },
    {
     "name": "stdout",
     "output_type": "stream",
     "text": [
      "../input/painting-vs-photograph-classification-dataset/Raw Data/painting/b576a6bd7c6300b28a11cba57eb40b36b3d68d06.jpg\n"
     ]
    },
    {
     "name": "stderr",
     "output_type": "stream",
     "text": [
      " 73%|███████▎  | 1993/2737 [12:46<05:15,  2.36it/s]"
     ]
    },
    {
     "name": "stdout",
     "output_type": "stream",
     "text": [
      "../input/painting-vs-photograph-classification-dataset/Raw Data/photos/2911d6d524a8b8c6078dab7124039cd51c4f6186.jpg\n"
     ]
    },
    {
     "name": "stderr",
     "output_type": "stream",
     "text": [
      " 73%|███████▎  | 1994/2737 [12:46<04:31,  2.73it/s]"
     ]
    },
    {
     "name": "stdout",
     "output_type": "stream",
     "text": [
      "../input/painting-vs-photograph-classification-dataset/Raw Data/painting/f1bcd4601fdf0ea9fc85445e4194b3008faafe12.jpg\n"
     ]
    },
    {
     "name": "stderr",
     "output_type": "stream",
     "text": [
      " 73%|███████▎  | 1995/2737 [12:47<05:59,  2.06it/s]"
     ]
    },
    {
     "name": "stdout",
     "output_type": "stream",
     "text": [
      "../input/painting-vs-photograph-classification-dataset/Raw Data/photos/e208a69a9f63014825f979daa9caf315bbb626ea.jpg\n"
     ]
    },
    {
     "name": "stderr",
     "output_type": "stream",
     "text": [
      " 73%|███████▎  | 1996/2737 [12:47<04:58,  2.48it/s]"
     ]
    },
    {
     "name": "stdout",
     "output_type": "stream",
     "text": [
      "../input/painting-vs-photograph-classification-dataset/Raw Data/painting/89aa5e38744199cff24ed1e28ead1deaeaf5d6f0.jpg\n"
     ]
    },
    {
     "name": "stderr",
     "output_type": "stream",
     "text": [
      " 73%|███████▎  | 1997/2737 [12:48<07:19,  1.68it/s]"
     ]
    },
    {
     "name": "stdout",
     "output_type": "stream",
     "text": [
      "../input/painting-vs-photograph-classification-dataset/Raw Data/painting/4644ee1e70c75d6f00637ded0a970ef5cd8354aa.jpg\n"
     ]
    },
    {
     "name": "stderr",
     "output_type": "stream",
     "text": [
      " 73%|███████▎  | 1998/2737 [12:49<08:54,  1.38it/s]"
     ]
    },
    {
     "name": "stdout",
     "output_type": "stream",
     "text": [
      "../input/painting-vs-photograph-classification-dataset/Raw Data/painting/9bfaa651909b2251f28bd89114b0905d4b143e7c.jpg\n"
     ]
    },
    {
     "name": "stderr",
     "output_type": "stream",
     "text": [
      " 73%|███████▎  | 1999/2737 [12:50<09:02,  1.36it/s]"
     ]
    },
    {
     "name": "stdout",
     "output_type": "stream",
     "text": [
      "../input/painting-vs-photograph-classification-dataset/Raw Data/painting/2f5cb47e030fc8b04f580abcab97af778f3b20db.jpg\n"
     ]
    },
    {
     "name": "stderr",
     "output_type": "stream",
     "text": [
      " 73%|███████▎  | 2001/2737 [12:50<06:25,  1.91it/s]"
     ]
    },
    {
     "name": "stdout",
     "output_type": "stream",
     "text": [
      "../input/painting-vs-photograph-classification-dataset/Raw Data/photos/547b636706cd1d21ddde3a28d40a7a515e9eb524.jpg\n",
      "../input/painting-vs-photograph-classification-dataset/Raw Data/painting/f1b859ef92db9dbb69e141247d1897e84ccae248.jpg\n"
     ]
    },
    {
     "name": "stderr",
     "output_type": "stream",
     "text": [
      " 73%|███████▎  | 2002/2737 [12:51<06:37,  1.85it/s]"
     ]
    },
    {
     "name": "stdout",
     "output_type": "stream",
     "text": [
      "../input/painting-vs-photograph-classification-dataset/Raw Data/painting/6937436438ebaca68783bb6e058a11815e1743c1.jpg\n"
     ]
    },
    {
     "name": "stderr",
     "output_type": "stream",
     "text": [
      " 73%|███████▎  | 2004/2737 [12:52<06:33,  1.86it/s]"
     ]
    },
    {
     "name": "stdout",
     "output_type": "stream",
     "text": [
      "../input/painting-vs-photograph-classification-dataset/Raw Data/photos/5b3b64580c560722df2fd365b903a25fe64d6ae7.jpg\n",
      "../input/painting-vs-photograph-classification-dataset/Raw Data/photos/b781247ac4f50070dfb253595d3cd193cae84224.jpg\n"
     ]
    },
    {
     "name": "stderr",
     "output_type": "stream",
     "text": [
      " 73%|███████▎  | 2006/2737 [12:53<04:20,  2.80it/s]"
     ]
    },
    {
     "name": "stdout",
     "output_type": "stream",
     "text": [
      "../input/painting-vs-photograph-classification-dataset/Raw Data/photos/b9eb649da061c66bef846b2fe688d589d083ac88.jpg\n",
      "../input/painting-vs-photograph-classification-dataset/Raw Data/photos/2325b17376bcefc076a2dcc64ad1389ac0044a36.jpg\n"
     ]
    },
    {
     "name": "stderr",
     "output_type": "stream",
     "text": [
      " 73%|███████▎  | 2007/2737 [12:53<03:51,  3.15it/s]"
     ]
    },
    {
     "name": "stdout",
     "output_type": "stream",
     "text": [
      "../input/painting-vs-photograph-classification-dataset/Raw Data/photos/6396164d4b42746b49e6b9e616ae1320eb37b027.jpg\n"
     ]
    },
    {
     "name": "stderr",
     "output_type": "stream",
     "text": [
      " 73%|███████▎  | 2008/2737 [12:53<03:30,  3.46it/s]"
     ]
    },
    {
     "name": "stdout",
     "output_type": "stream",
     "text": [
      "../input/painting-vs-photograph-classification-dataset/Raw Data/painting/e559b7bdac5a71abc4ae5e82fbffba2491a740ff.jpg\n"
     ]
    },
    {
     "name": "stderr",
     "output_type": "stream",
     "text": [
      " 73%|███████▎  | 2010/2737 [12:54<04:15,  2.85it/s]"
     ]
    },
    {
     "name": "stdout",
     "output_type": "stream",
     "text": [
      "../input/painting-vs-photograph-classification-dataset/Raw Data/photos/be79ccefa4597a01ed04931947cb8e713b30d095.jpg\n",
      "../input/painting-vs-photograph-classification-dataset/Raw Data/photos/c0f6633a74ada03b8c2b024287ce886c307a503c.jpg\n"
     ]
    },
    {
     "name": "stderr",
     "output_type": "stream",
     "text": [
      " 74%|███████▎  | 2012/2737 [12:54<03:14,  3.74it/s]"
     ]
    },
    {
     "name": "stdout",
     "output_type": "stream",
     "text": [
      "../input/painting-vs-photograph-classification-dataset/Raw Data/photos/a7bc6634f8529d00854654f3ab8aa88977f28d22.jpg\n",
      "../input/painting-vs-photograph-classification-dataset/Raw Data/painting/4262e73da9a8b8daebd0abb7d7121ab4b966082c.jpg\n"
     ]
    },
    {
     "name": "stderr",
     "output_type": "stream",
     "text": [
      " 74%|███████▎  | 2013/2737 [12:55<04:59,  2.42it/s]"
     ]
    },
    {
     "name": "stdout",
     "output_type": "stream",
     "text": [
      "../input/painting-vs-photograph-classification-dataset/Raw Data/painting/8918b0623e858c20ae503af5c95212a79f850446.jpg\n"
     ]
    },
    {
     "name": "stderr",
     "output_type": "stream",
     "text": [
      " 74%|███████▎  | 2014/2737 [12:56<06:08,  1.96it/s]"
     ]
    },
    {
     "name": "stdout",
     "output_type": "stream",
     "text": [
      "../input/painting-vs-photograph-classification-dataset/Raw Data/photos/ad0cfa7a2bc289ad8dcc55b0654a49f7bc2395a7.jpg\n"
     ]
    },
    {
     "name": "stderr",
     "output_type": "stream",
     "text": [
      " 74%|███████▎  | 2015/2737 [12:56<05:07,  2.34it/s]"
     ]
    },
    {
     "name": "stdout",
     "output_type": "stream",
     "text": [
      "../input/painting-vs-photograph-classification-dataset/Raw Data/photos/f132a35adb9978225a042524ff4f16bd8543887f.jpg\n"
     ]
    },
    {
     "name": "stderr",
     "output_type": "stream",
     "text": [
      " 74%|███████▎  | 2017/2737 [12:56<03:38,  3.30it/s]"
     ]
    },
    {
     "name": "stdout",
     "output_type": "stream",
     "text": [
      "../input/painting-vs-photograph-classification-dataset/Raw Data/photos/606f87276af8e5bf8676c973c9c11ec72848ea03.jpg\n",
      "../input/painting-vs-photograph-classification-dataset/Raw Data/photos/d98f198d872333cc9d60cbfc5017de9f7a0cc293.jpg\n"
     ]
    },
    {
     "name": "stderr",
     "output_type": "stream",
     "text": [
      " 74%|███████▍  | 2019/2737 [12:57<03:13,  3.72it/s]"
     ]
    },
    {
     "name": "stdout",
     "output_type": "stream",
     "text": [
      "../input/painting-vs-photograph-classification-dataset/Raw Data/photos/eb1417a6d5ee0dc9ddc001ce1f1a4636cddc7bac.jpg\n",
      "../input/painting-vs-photograph-classification-dataset/Raw Data/photos/be76d0310286843f448e1ac4d413e9db26e5e55f.jpg\n"
     ]
    },
    {
     "name": "stderr",
     "output_type": "stream",
     "text": [
      " 74%|███████▍  | 2020/2737 [12:57<03:02,  3.93it/s]"
     ]
    },
    {
     "name": "stdout",
     "output_type": "stream",
     "text": [
      "../input/painting-vs-photograph-classification-dataset/Raw Data/photos/41b5f48655f0f26ffc91a5724edd4684e3870c73.jpg\n"
     ]
    },
    {
     "name": "stderr",
     "output_type": "stream",
     "text": [
      " 74%|███████▍  | 2021/2737 [12:57<02:53,  4.12it/s]"
     ]
    },
    {
     "name": "stdout",
     "output_type": "stream",
     "text": [
      "../input/painting-vs-photograph-classification-dataset/Raw Data/photos/ea213e7eae94de74ed4edb5e718a5a5db115cec8.jpg\n"
     ]
    },
    {
     "name": "stderr",
     "output_type": "stream",
     "text": [
      " 74%|███████▍  | 2022/2737 [12:58<02:50,  4.19it/s]"
     ]
    },
    {
     "name": "stdout",
     "output_type": "stream",
     "text": [
      "../input/painting-vs-photograph-classification-dataset/Raw Data/photos/620c3364a70a1d4f1cb2ab840eb57d6f08ea74c8.jpg\n"
     ]
    },
    {
     "name": "stderr",
     "output_type": "stream",
     "text": [
      " 74%|███████▍  | 2023/2737 [12:58<02:44,  4.33it/s]"
     ]
    },
    {
     "name": "stdout",
     "output_type": "stream",
     "text": [
      "../input/painting-vs-photograph-classification-dataset/Raw Data/photos/da1f58c98f154dc88f330489bad7f75200585a98.jpg\n"
     ]
    },
    {
     "name": "stderr",
     "output_type": "stream",
     "text": [
      " 74%|███████▍  | 2024/2737 [12:58<02:45,  4.30it/s]"
     ]
    },
    {
     "name": "stdout",
     "output_type": "stream",
     "text": [
      "../input/painting-vs-photograph-classification-dataset/Raw Data/photos/48f3bbb23898c2fa6435e5b749e47b2cfc21c4c0.jpg\n"
     ]
    },
    {
     "name": "stderr",
     "output_type": "stream",
     "text": [
      " 74%|███████▍  | 2025/2737 [12:58<02:54,  4.08it/s]"
     ]
    },
    {
     "name": "stdout",
     "output_type": "stream",
     "text": [
      "../input/painting-vs-photograph-classification-dataset/Raw Data/painting/ac2679b9c238b3196709e745fe19dbdaf5f3875f.jpg\n"
     ]
    },
    {
     "name": "stderr",
     "output_type": "stream",
     "text": [
      " 74%|███████▍  | 2027/2737 [12:59<04:12,  2.81it/s]"
     ]
    },
    {
     "name": "stdout",
     "output_type": "stream",
     "text": [
      "../input/painting-vs-photograph-classification-dataset/Raw Data/photos/0006d961503781ed983d39c4bed839c3652463e4.jpg\n",
      "../input/painting-vs-photograph-classification-dataset/Raw Data/photos/08767330241bf8e20fe5a26323fd56e2cc5cf6f9.jpg\n"
     ]
    },
    {
     "name": "stderr",
     "output_type": "stream",
     "text": [
      " 74%|███████▍  | 2029/2737 [13:00<03:20,  3.53it/s]"
     ]
    },
    {
     "name": "stdout",
     "output_type": "stream",
     "text": [
      "../input/painting-vs-photograph-classification-dataset/Raw Data/photos/249441376d66e7e55394bb7c60fac395fe465c43.jpg\n",
      "../input/painting-vs-photograph-classification-dataset/Raw Data/photos/571570fc6ddbb68d6905a7bc5d82e523f22b0270.jpg\n"
     ]
    },
    {
     "name": "stderr",
     "output_type": "stream",
     "text": [
      " 74%|███████▍  | 2030/2737 [13:00<03:06,  3.79it/s]"
     ]
    },
    {
     "name": "stdout",
     "output_type": "stream",
     "text": [
      "../input/painting-vs-photograph-classification-dataset/Raw Data/photos/b8839430cb918017d70f7529d46ccd06b8ad77c3.jpg\n"
     ]
    },
    {
     "name": "stderr",
     "output_type": "stream",
     "text": [
      " 74%|███████▍  | 2031/2737 [13:00<03:03,  3.85it/s]"
     ]
    },
    {
     "name": "stdout",
     "output_type": "stream",
     "text": [
      "../input/painting-vs-photograph-classification-dataset/Raw Data/photos/707454c0a119db30fff6002a9729686eb3518655.jpg\n"
     ]
    },
    {
     "name": "stderr",
     "output_type": "stream",
     "text": [
      " 74%|███████▍  | 2032/2737 [13:01<03:02,  3.86it/s]"
     ]
    },
    {
     "name": "stdout",
     "output_type": "stream",
     "text": [
      "../input/painting-vs-photograph-classification-dataset/Raw Data/photos/3876e98853e0b37fbcd523b4a4fe1adaf298c684.jpg\n"
     ]
    },
    {
     "name": "stderr",
     "output_type": "stream",
     "text": [
      " 74%|███████▍  | 2033/2737 [13:01<02:59,  3.93it/s]"
     ]
    },
    {
     "name": "stdout",
     "output_type": "stream",
     "text": [
      "../input/painting-vs-photograph-classification-dataset/Raw Data/photos/f1435fb1b4bd668534256fab7d3c8561aca19bd6.jpg\n"
     ]
    },
    {
     "name": "stderr",
     "output_type": "stream",
     "text": [
      " 74%|███████▍  | 2034/2737 [13:01<02:52,  4.08it/s]"
     ]
    },
    {
     "name": "stdout",
     "output_type": "stream",
     "text": [
      "../input/painting-vs-photograph-classification-dataset/Raw Data/painting/f9f5ee50efd070d0488b3735ab1b5dce5426efdf.jpg\n"
     ]
    },
    {
     "name": "stderr",
     "output_type": "stream",
     "text": [
      " 74%|███████▍  | 2035/2737 [13:02<04:38,  2.52it/s]"
     ]
    },
    {
     "name": "stdout",
     "output_type": "stream",
     "text": [
      "../input/painting-vs-photograph-classification-dataset/Raw Data/photos/931673137a00f2d7fc8be4ac33787b185cab2590.jpg\n"
     ]
    },
    {
     "name": "stderr",
     "output_type": "stream",
     "text": [
      " 74%|███████▍  | 2036/2737 [13:02<04:10,  2.79it/s]"
     ]
    },
    {
     "name": "stdout",
     "output_type": "stream",
     "text": [
      "../input/painting-vs-photograph-classification-dataset/Raw Data/photos/75cca2fe2e8735ab63bea4c586c106f7ba495acc.jpg\n"
     ]
    },
    {
     "name": "stderr",
     "output_type": "stream",
     "text": [
      " 74%|███████▍  | 2037/2737 [13:02<03:47,  3.08it/s]"
     ]
    },
    {
     "name": "stdout",
     "output_type": "stream",
     "text": [
      "../input/painting-vs-photograph-classification-dataset/Raw Data/painting/b410024f92622cb7b2c75dc29eb8614c64a65721.jpg\n"
     ]
    },
    {
     "name": "stderr",
     "output_type": "stream",
     "text": [
      " 74%|███████▍  | 2038/2737 [13:03<05:31,  2.11it/s]"
     ]
    },
    {
     "name": "stdout",
     "output_type": "stream",
     "text": [
      "../input/painting-vs-photograph-classification-dataset/Raw Data/photos/130c46391ee4a6193b73347c3439c0dcc32448ea.jpg\n"
     ]
    },
    {
     "name": "stderr",
     "output_type": "stream",
     "text": [
      " 74%|███████▍  | 2039/2737 [13:03<04:39,  2.49it/s]"
     ]
    },
    {
     "name": "stdout",
     "output_type": "stream",
     "text": [
      "../input/painting-vs-photograph-classification-dataset/Raw Data/photos/1796c66694c9cde73d5bba4b8412c90729c26db1.jpg\n"
     ]
    },
    {
     "name": "stderr",
     "output_type": "stream",
     "text": [
      " 75%|███████▍  | 2040/2737 [13:04<04:04,  2.85it/s]"
     ]
    },
    {
     "name": "stdout",
     "output_type": "stream",
     "text": [
      "../input/painting-vs-photograph-classification-dataset/Raw Data/painting/2bcea1c496c79a639d10ceec41d688b874b9bfbd.jpg\n"
     ]
    },
    {
     "name": "stderr",
     "output_type": "stream",
     "text": [
      " 75%|███████▍  | 2041/2737 [13:04<05:35,  2.07it/s]"
     ]
    },
    {
     "name": "stdout",
     "output_type": "stream",
     "text": [
      "../input/painting-vs-photograph-classification-dataset/Raw Data/photos/af6d016bb7f0067c888a8d7a09b6dd2618fda85a.jpg\n"
     ]
    },
    {
     "name": "stderr",
     "output_type": "stream",
     "text": [
      " 75%|███████▍  | 2042/2737 [13:05<04:48,  2.41it/s]"
     ]
    },
    {
     "name": "stdout",
     "output_type": "stream",
     "text": [
      "../input/painting-vs-photograph-classification-dataset/Raw Data/photos/372c25906f3effc425963501b5664ae298bdf933.jpg\n"
     ]
    },
    {
     "name": "stderr",
     "output_type": "stream",
     "text": [
      " 75%|███████▍  | 2043/2737 [13:05<04:15,  2.72it/s]"
     ]
    },
    {
     "name": "stdout",
     "output_type": "stream",
     "text": [
      "../input/painting-vs-photograph-classification-dataset/Raw Data/photos/58f6c1d4088cc252ae7ad4b9a00c613f29052ac4.jpg\n"
     ]
    },
    {
     "name": "stderr",
     "output_type": "stream",
     "text": [
      " 75%|███████▍  | 2044/2737 [13:05<03:48,  3.03it/s]"
     ]
    },
    {
     "name": "stdout",
     "output_type": "stream",
     "text": [
      "../input/painting-vs-photograph-classification-dataset/Raw Data/photos/d9753e3276d9e92dc128ead5359c359f5cf14c67.jpg\n"
     ]
    },
    {
     "name": "stderr",
     "output_type": "stream",
     "text": [
      " 75%|███████▍  | 2045/2737 [13:05<03:29,  3.30it/s]"
     ]
    },
    {
     "name": "stdout",
     "output_type": "stream",
     "text": [
      "../input/painting-vs-photograph-classification-dataset/Raw Data/painting/843ffb0bec075ffda82905a85f43fd3a554478a5.jpg\n"
     ]
    },
    {
     "name": "stderr",
     "output_type": "stream",
     "text": [
      " 75%|███████▍  | 2046/2737 [13:06<05:06,  2.25it/s]"
     ]
    },
    {
     "name": "stdout",
     "output_type": "stream",
     "text": [
      "../input/painting-vs-photograph-classification-dataset/Raw Data/photos/b24b634ec8364403cc64cafccd3d2b86b3f68016.jpg\n"
     ]
    },
    {
     "name": "stderr",
     "output_type": "stream",
     "text": [
      " 75%|███████▍  | 2047/2737 [13:06<04:24,  2.61it/s]"
     ]
    },
    {
     "name": "stdout",
     "output_type": "stream",
     "text": [
      "../input/painting-vs-photograph-classification-dataset/Raw Data/painting/7aaffb0c6adf525a50f01505d1dc16534d4e7a9f.jpg\n"
     ]
    },
    {
     "name": "stderr",
     "output_type": "stream",
     "text": [
      " 75%|███████▍  | 2048/2737 [13:07<05:37,  2.04it/s]"
     ]
    },
    {
     "name": "stdout",
     "output_type": "stream",
     "text": [
      "../input/painting-vs-photograph-classification-dataset/Raw Data/painting/3f51a736edcdb0923d10f7eb7d61962c9cc34373.jpg\n"
     ]
    },
    {
     "name": "stderr",
     "output_type": "stream",
     "text": [
      " 75%|███████▍  | 2050/2737 [13:08<05:42,  2.01it/s]"
     ]
    },
    {
     "name": "stdout",
     "output_type": "stream",
     "text": [
      "../input/painting-vs-photograph-classification-dataset/Raw Data/photos/3686524d52a96f2cb1f6e2a606a987ee9d3fd03c.jpg\n",
      "../input/painting-vs-photograph-classification-dataset/Raw Data/photos/568aef06e9219a87e23488cb28abb0b49bced4b3.jpg\n"
     ]
    },
    {
     "name": "stderr",
     "output_type": "stream",
     "text": [
      " 75%|███████▍  | 2051/2737 [13:08<04:47,  2.39it/s]"
     ]
    },
    {
     "name": "stdout",
     "output_type": "stream",
     "text": [
      "../input/painting-vs-photograph-classification-dataset/Raw Data/photos/34edfb5e480064cd0df7b618d52e782f462a12d6.jpg\n"
     ]
    },
    {
     "name": "stderr",
     "output_type": "stream",
     "text": [
      " 75%|███████▍  | 2052/2737 [13:09<04:05,  2.79it/s]"
     ]
    },
    {
     "name": "stdout",
     "output_type": "stream",
     "text": [
      "../input/painting-vs-photograph-classification-dataset/Raw Data/photos/efb05d44550ac2de5438a3a4f6efbb719595e528.jpg\n"
     ]
    },
    {
     "name": "stderr",
     "output_type": "stream",
     "text": [
      " 75%|███████▌  | 2053/2737 [13:09<03:39,  3.12it/s]"
     ]
    },
    {
     "name": "stdout",
     "output_type": "stream",
     "text": [
      "../input/painting-vs-photograph-classification-dataset/Raw Data/photos/b362b53258a8edcb03631ef52e3e5d4f5eeb9938.jpg\n"
     ]
    },
    {
     "name": "stderr",
     "output_type": "stream",
     "text": [
      " 75%|███████▌  | 2054/2737 [13:09<03:34,  3.18it/s]"
     ]
    },
    {
     "name": "stdout",
     "output_type": "stream",
     "text": [
      "../input/painting-vs-photograph-classification-dataset/Raw Data/photos/ea1e98fa1985737d4a88a1213b7a8ce63b2e1edc.jpg\n"
     ]
    },
    {
     "name": "stderr",
     "output_type": "stream",
     "text": [
      " 75%|███████▌  | 2056/2737 [13:10<03:02,  3.74it/s]"
     ]
    },
    {
     "name": "stdout",
     "output_type": "stream",
     "text": [
      "../input/painting-vs-photograph-classification-dataset/Raw Data/photos/a08f22bea3ce93db57d017fd8ee5c738b05ae1d8.jpg\n",
      "../input/painting-vs-photograph-classification-dataset/Raw Data/painting/8974372be712ea9f71ddf466ec1d6fe844fd6513.jpg\n"
     ]
    },
    {
     "name": "stderr",
     "output_type": "stream",
     "text": [
      " 75%|███████▌  | 2058/2737 [13:11<03:54,  2.89it/s]"
     ]
    },
    {
     "name": "stdout",
     "output_type": "stream",
     "text": [
      "../input/painting-vs-photograph-classification-dataset/Raw Data/photos/dc6480ef73cada95728d87d9eee813f83a075eeb.jpg\n",
      "../input/painting-vs-photograph-classification-dataset/Raw Data/painting/ec39538039c9a0d46113870f0305235b0498ff40.jpg\n"
     ]
    },
    {
     "name": "stderr",
     "output_type": "stream",
     "text": [
      " 75%|███████▌  | 2059/2737 [13:11<04:35,  2.46it/s]"
     ]
    },
    {
     "name": "stdout",
     "output_type": "stream",
     "text": [
      "../input/painting-vs-photograph-classification-dataset/Raw Data/photos/0804f5035fa3169ffbb6d370722a6d77c620294e.jpg\n"
     ]
    },
    {
     "name": "stderr",
     "output_type": "stream",
     "text": [
      " 75%|███████▌  | 2061/2737 [13:12<03:23,  3.32it/s]"
     ]
    },
    {
     "name": "stdout",
     "output_type": "stream",
     "text": [
      "../input/painting-vs-photograph-classification-dataset/Raw Data/photos/f978a789cbe0827785854013c6dda402e6674c50.jpg\n",
      "../input/painting-vs-photograph-classification-dataset/Raw Data/photos/d5ab79d8a2cad22909ada7fec272af3f9049bdea.jpg\n"
     ]
    },
    {
     "name": "stderr",
     "output_type": "stream",
     "text": [
      " 75%|███████▌  | 2062/2737 [13:12<03:08,  3.57it/s]"
     ]
    },
    {
     "name": "stdout",
     "output_type": "stream",
     "text": [
      "../input/painting-vs-photograph-classification-dataset/Raw Data/photos/350a76112de4254fdf7ff0e5c8316affea1e51da.jpg\n"
     ]
    },
    {
     "name": "stderr",
     "output_type": "stream",
     "text": [
      " 75%|███████▌  | 2063/2737 [13:12<03:02,  3.69it/s]"
     ]
    },
    {
     "name": "stdout",
     "output_type": "stream",
     "text": [
      "../input/painting-vs-photograph-classification-dataset/Raw Data/painting/38797819f0227a52c205d99d3296d28ad33a223c.jpg\n"
     ]
    },
    {
     "name": "stderr",
     "output_type": "stream",
     "text": [
      " 75%|███████▌  | 2064/2737 [13:13<04:01,  2.78it/s]"
     ]
    },
    {
     "name": "stdout",
     "output_type": "stream",
     "text": [
      "../input/painting-vs-photograph-classification-dataset/Raw Data/photos/d3165416acd86437576fdf34163ea300ac26ffd0.jpg\n"
     ]
    },
    {
     "name": "stderr",
     "output_type": "stream",
     "text": [
      " 75%|███████▌  | 2065/2737 [13:13<03:35,  3.11it/s]"
     ]
    },
    {
     "name": "stdout",
     "output_type": "stream",
     "text": [
      "../input/painting-vs-photograph-classification-dataset/Raw Data/photos/247185acea8eb6237852637c252e747fdbebb951.jpg\n"
     ]
    },
    {
     "name": "stderr",
     "output_type": "stream",
     "text": [
      " 75%|███████▌  | 2066/2737 [13:13<03:18,  3.37it/s]"
     ]
    },
    {
     "name": "stdout",
     "output_type": "stream",
     "text": [
      "../input/painting-vs-photograph-classification-dataset/Raw Data/painting/faff41e2e92b899cc47e21bdda7f8d960421261e.jpg\n"
     ]
    },
    {
     "name": "stderr",
     "output_type": "stream",
     "text": [
      " 76%|███████▌  | 2067/2737 [13:14<05:01,  2.22it/s]"
     ]
    },
    {
     "name": "stdout",
     "output_type": "stream",
     "text": [
      "../input/painting-vs-photograph-classification-dataset/Raw Data/photos/a633d2f9b3348bce4d0b6630b7148e657e753011.jpg\n"
     ]
    },
    {
     "name": "stderr",
     "output_type": "stream",
     "text": [
      " 76%|███████▌  | 2068/2737 [13:14<04:18,  2.59it/s]"
     ]
    },
    {
     "name": "stdout",
     "output_type": "stream",
     "text": [
      "../input/painting-vs-photograph-classification-dataset/Raw Data/photos/10e7d7b0f1ae224723f08b541f0c4eeb2dbd08cb.jpg\n"
     ]
    },
    {
     "name": "stderr",
     "output_type": "stream",
     "text": [
      " 76%|███████▌  | 2069/2737 [13:14<03:42,  3.00it/s]"
     ]
    },
    {
     "name": "stdout",
     "output_type": "stream",
     "text": [
      "../input/painting-vs-photograph-classification-dataset/Raw Data/painting/f9c1bb2779e283bbf585f184db4ef8b860732dea.jpg\n"
     ]
    },
    {
     "name": "stderr",
     "output_type": "stream",
     "text": [
      " 76%|███████▌  | 2070/2737 [13:15<04:41,  2.37it/s]"
     ]
    },
    {
     "name": "stdout",
     "output_type": "stream",
     "text": [
      "../input/painting-vs-photograph-classification-dataset/Raw Data/painting/bd13cf69083b646ecf29f11980b26de5c3187b81.jpg\n"
     ]
    },
    {
     "name": "stderr",
     "output_type": "stream",
     "text": [
      " 76%|███████▌  | 2071/2737 [13:16<06:44,  1.64it/s]"
     ]
    },
    {
     "name": "stdout",
     "output_type": "stream",
     "text": [
      "../input/painting-vs-photograph-classification-dataset/Raw Data/photos/7ab661ad79b17d6b3b450f5d6dcdddaae9cd7890.jpg\n"
     ]
    },
    {
     "name": "stderr",
     "output_type": "stream",
     "text": [
      " 76%|███████▌  | 2072/2737 [13:16<05:27,  2.03it/s]"
     ]
    },
    {
     "name": "stdout",
     "output_type": "stream",
     "text": [
      "../input/painting-vs-photograph-classification-dataset/Raw Data/photos/66d6c2e7fd0603764752e4b495a2dd7856833593.jpg\n"
     ]
    },
    {
     "name": "stderr",
     "output_type": "stream",
     "text": [
      " 76%|███████▌  | 2073/2737 [13:17<04:55,  2.24it/s]"
     ]
    },
    {
     "name": "stdout",
     "output_type": "stream",
     "text": [
      "../input/painting-vs-photograph-classification-dataset/Raw Data/painting/f40590f9d1b6ab8e300303cf07fe4864a23015fc.jpg\n"
     ]
    },
    {
     "name": "stderr",
     "output_type": "stream",
     "text": [
      " 76%|███████▌  | 2074/2737 [13:18<06:50,  1.62it/s]"
     ]
    },
    {
     "name": "stdout",
     "output_type": "stream",
     "text": [
      "../input/painting-vs-photograph-classification-dataset/Raw Data/photos/81893c773d19bc7a3c6a0dcc88e9ee7dce89bb95.jpg\n"
     ]
    },
    {
     "name": "stderr",
     "output_type": "stream",
     "text": [
      " 76%|███████▌  | 2075/2737 [13:18<05:33,  1.98it/s]"
     ]
    },
    {
     "name": "stdout",
     "output_type": "stream",
     "text": [
      "../input/painting-vs-photograph-classification-dataset/Raw Data/photos/908c48310f2de6ab6a0a57ee6d8b2d13964b5f6f.jpg\n"
     ]
    },
    {
     "name": "stderr",
     "output_type": "stream",
     "text": [
      " 76%|███████▌  | 2076/2737 [13:18<04:39,  2.36it/s]"
     ]
    },
    {
     "name": "stdout",
     "output_type": "stream",
     "text": [
      "../input/painting-vs-photograph-classification-dataset/Raw Data/photos/504fbc8343388430dfbcf6c772e91b64770a0aa2.jpg\n"
     ]
    },
    {
     "name": "stderr",
     "output_type": "stream",
     "text": [
      " 76%|███████▌  | 2077/2737 [13:18<04:02,  2.72it/s]"
     ]
    },
    {
     "name": "stdout",
     "output_type": "stream",
     "text": [
      "../input/painting-vs-photograph-classification-dataset/Raw Data/photos/6f983bd08f0b81b64a104f148cece80edface7ea.jpg\n"
     ]
    },
    {
     "name": "stderr",
     "output_type": "stream",
     "text": [
      " 76%|███████▌  | 2078/2737 [13:19<03:35,  3.06it/s]"
     ]
    },
    {
     "name": "stdout",
     "output_type": "stream",
     "text": [
      "../input/painting-vs-photograph-classification-dataset/Raw Data/photos/f9be2bf8d310de1ecd103490686038bdcdbf336d.jpg\n"
     ]
    },
    {
     "name": "stderr",
     "output_type": "stream",
     "text": [
      " 76%|███████▌  | 2079/2737 [13:19<03:26,  3.18it/s]"
     ]
    },
    {
     "name": "stdout",
     "output_type": "stream",
     "text": [
      "../input/painting-vs-photograph-classification-dataset/Raw Data/photos/84c4a263e4637c232e1948d86472c383c0400631.jpg\n"
     ]
    },
    {
     "name": "stderr",
     "output_type": "stream",
     "text": [
      " 76%|███████▌  | 2080/2737 [13:19<03:11,  3.43it/s]"
     ]
    },
    {
     "name": "stdout",
     "output_type": "stream",
     "text": [
      "../input/painting-vs-photograph-classification-dataset/Raw Data/photos/a4579195d55d7f39409ce0419beecddb288f6c01.jpg\n"
     ]
    },
    {
     "name": "stderr",
     "output_type": "stream",
     "text": [
      " 76%|███████▌  | 2081/2737 [13:19<03:01,  3.61it/s]"
     ]
    },
    {
     "name": "stdout",
     "output_type": "stream",
     "text": [
      "../input/painting-vs-photograph-classification-dataset/Raw Data/photos/d850ac459095fe7b953ffa56f1c371f32bff4fdc.jpg\n"
     ]
    },
    {
     "name": "stderr",
     "output_type": "stream",
     "text": [
      " 76%|███████▌  | 2082/2737 [13:20<02:55,  3.73it/s]"
     ]
    },
    {
     "name": "stdout",
     "output_type": "stream",
     "text": [
      "../input/painting-vs-photograph-classification-dataset/Raw Data/photos/375aef5c553e0e3919aa67a1abbbc6b4971322ac.jpg\n"
     ]
    },
    {
     "name": "stderr",
     "output_type": "stream",
     "text": [
      " 76%|███████▌  | 2083/2737 [13:20<02:46,  3.94it/s]"
     ]
    },
    {
     "name": "stdout",
     "output_type": "stream",
     "text": [
      "../input/painting-vs-photograph-classification-dataset/Raw Data/photos/fa7de45d77f1d9628418fc97cd04488f75e44d70.jpg\n"
     ]
    },
    {
     "name": "stderr",
     "output_type": "stream",
     "text": [
      " 76%|███████▌  | 2084/2737 [13:20<02:42,  4.02it/s]"
     ]
    },
    {
     "name": "stdout",
     "output_type": "stream",
     "text": [
      "../input/painting-vs-photograph-classification-dataset/Raw Data/photos/f654f8603a1947deb99e0dbc12c193c46c46ef44.jpg\n"
     ]
    },
    {
     "name": "stderr",
     "output_type": "stream",
     "text": [
      " 76%|███████▌  | 2085/2737 [13:20<02:37,  4.13it/s]"
     ]
    },
    {
     "name": "stdout",
     "output_type": "stream",
     "text": [
      "../input/painting-vs-photograph-classification-dataset/Raw Data/painting/e69b9580796e8b8a34cca8c70191cda1bda14136.jpg\n"
     ]
    },
    {
     "name": "stderr",
     "output_type": "stream",
     "text": [
      " 76%|███████▌  | 2086/2737 [13:21<04:16,  2.54it/s]"
     ]
    },
    {
     "name": "stdout",
     "output_type": "stream",
     "text": [
      "../input/painting-vs-photograph-classification-dataset/Raw Data/photos/f97a0a46478eb2a27a03fc389fa357462b3b080c.jpg\n"
     ]
    },
    {
     "name": "stderr",
     "output_type": "stream",
     "text": [
      " 76%|███████▋  | 2087/2737 [13:21<03:45,  2.88it/s]"
     ]
    },
    {
     "name": "stdout",
     "output_type": "stream",
     "text": [
      "../input/painting-vs-photograph-classification-dataset/Raw Data/photos/f896128ef0615c23de8c3a22dd8a0a04ab5cfc52.jpg\n"
     ]
    },
    {
     "name": "stderr",
     "output_type": "stream",
     "text": [
      " 76%|███████▋  | 2088/2737 [13:21<03:24,  3.18it/s]"
     ]
    },
    {
     "name": "stdout",
     "output_type": "stream",
     "text": [
      "../input/painting-vs-photograph-classification-dataset/Raw Data/photos/67a5efed0bc2793c406b17ebd38a72dde8c79e7c.jpg\n"
     ]
    },
    {
     "name": "stderr",
     "output_type": "stream",
     "text": [
      " 76%|███████▋  | 2089/2737 [13:22<03:10,  3.40it/s]"
     ]
    },
    {
     "name": "stdout",
     "output_type": "stream",
     "text": [
      "../input/painting-vs-photograph-classification-dataset/Raw Data/photos/05f6b4111209aae4da7fa8bce58123da1bd6dc66.jpg\n"
     ]
    },
    {
     "name": "stderr",
     "output_type": "stream",
     "text": [
      " 76%|███████▋  | 2090/2737 [13:22<02:57,  3.64it/s]"
     ]
    },
    {
     "name": "stdout",
     "output_type": "stream",
     "text": [
      "../input/painting-vs-photograph-classification-dataset/Raw Data/photos/782efd43112317b9811db691af8056d303193113.jpg\n"
     ]
    },
    {
     "name": "stderr",
     "output_type": "stream",
     "text": [
      " 76%|███████▋  | 2091/2737 [13:22<03:03,  3.53it/s]"
     ]
    },
    {
     "name": "stdout",
     "output_type": "stream",
     "text": [
      "../input/painting-vs-photograph-classification-dataset/Raw Data/photos/231ccac2380644df666ea491ffca3c08fcdfcdcb.jpg\n"
     ]
    },
    {
     "name": "stderr",
     "output_type": "stream",
     "text": [
      " 76%|███████▋  | 2092/2737 [13:22<02:53,  3.71it/s]"
     ]
    },
    {
     "name": "stdout",
     "output_type": "stream",
     "text": [
      "../input/painting-vs-photograph-classification-dataset/Raw Data/painting/42353e8ba7c21bfaddaee4489c8d5697ac01a6a4.jpg\n"
     ]
    },
    {
     "name": "stderr",
     "output_type": "stream",
     "text": [
      " 76%|███████▋  | 2093/2737 [13:23<04:31,  2.37it/s]"
     ]
    },
    {
     "name": "stdout",
     "output_type": "stream",
     "text": [
      "../input/painting-vs-photograph-classification-dataset/Raw Data/photos/86821df9680821224ea11f09938eefe8306d37d1.jpg\n"
     ]
    },
    {
     "name": "stderr",
     "output_type": "stream",
     "text": [
      " 77%|███████▋  | 2094/2737 [13:24<03:55,  2.73it/s]"
     ]
    },
    {
     "name": "stdout",
     "output_type": "stream",
     "text": [
      "../input/painting-vs-photograph-classification-dataset/Raw Data/photos/aa0b5a9a490aa0e9bc523d0aea4932206533e455.jpg\n"
     ]
    },
    {
     "name": "stderr",
     "output_type": "stream",
     "text": [
      " 77%|███████▋  | 2095/2737 [13:24<03:29,  3.06it/s]"
     ]
    },
    {
     "name": "stdout",
     "output_type": "stream",
     "text": [
      "../input/painting-vs-photograph-classification-dataset/Raw Data/photos/72e71f75f05488b2d41f1477864067501e03cfc6.jpg\n"
     ]
    },
    {
     "name": "stderr",
     "output_type": "stream",
     "text": [
      " 77%|███████▋  | 2097/2737 [13:24<02:50,  3.74it/s]"
     ]
    },
    {
     "name": "stdout",
     "output_type": "stream",
     "text": [
      "../input/painting-vs-photograph-classification-dataset/Raw Data/photos/3757bf129a64c897ffc93cd6648492e307e8059d.jpg\n",
      "../input/painting-vs-photograph-classification-dataset/Raw Data/photos/9722617574117314803d80c7fff3032fd739e09a.jpg\n"
     ]
    },
    {
     "name": "stderr",
     "output_type": "stream",
     "text": [
      " 77%|███████▋  | 2098/2737 [13:24<02:34,  4.13it/s]"
     ]
    },
    {
     "name": "stdout",
     "output_type": "stream",
     "text": [
      "../input/painting-vs-photograph-classification-dataset/Raw Data/painting/5e9122b0b0d71c24ab9370fc7772a220bacd4f4e.jpg\n"
     ]
    },
    {
     "name": "stderr",
     "output_type": "stream",
     "text": [
      " 77%|███████▋  | 2099/2737 [13:25<03:57,  2.69it/s]"
     ]
    },
    {
     "name": "stdout",
     "output_type": "stream",
     "text": [
      "../input/painting-vs-photograph-classification-dataset/Raw Data/photos/7422f16147b314b99050182aece35172b8179c8e.jpg\n"
     ]
    },
    {
     "name": "stderr",
     "output_type": "stream",
     "text": [
      " 77%|███████▋  | 2100/2737 [13:25<03:29,  3.04it/s]"
     ]
    },
    {
     "name": "stdout",
     "output_type": "stream",
     "text": [
      "../input/painting-vs-photograph-classification-dataset/Raw Data/photos/fa7a5cf9a6b325de887fecda3fd507c9742878c0.jpg\n"
     ]
    },
    {
     "name": "stderr",
     "output_type": "stream",
     "text": [
      " 77%|███████▋  | 2102/2737 [13:26<02:50,  3.73it/s]"
     ]
    },
    {
     "name": "stdout",
     "output_type": "stream",
     "text": [
      "../input/painting-vs-photograph-classification-dataset/Raw Data/photos/8d5fef45aa96cb6856581e394c712482e6729a6a.jpg\n",
      "../input/painting-vs-photograph-classification-dataset/Raw Data/photos/38716cc60b730694e3f415ecf4ac4e8261e13eda.jpg\n"
     ]
    },
    {
     "name": "stderr",
     "output_type": "stream",
     "text": [
      " 77%|███████▋  | 2103/2737 [13:26<02:31,  4.19it/s]"
     ]
    },
    {
     "name": "stdout",
     "output_type": "stream",
     "text": [
      "../input/painting-vs-photograph-classification-dataset/Raw Data/photos/7161388037bb4e84ab046a3e3c56ba445217377e.jpg\n"
     ]
    },
    {
     "name": "stderr",
     "output_type": "stream",
     "text": [
      " 77%|███████▋  | 2104/2737 [13:26<02:30,  4.22it/s]"
     ]
    },
    {
     "name": "stdout",
     "output_type": "stream",
     "text": [
      "../input/painting-vs-photograph-classification-dataset/Raw Data/photos/242aee0d7eec6fc603947a7d284404608c5f81e6.jpg\n"
     ]
    },
    {
     "name": "stderr",
     "output_type": "stream",
     "text": [
      " 77%|███████▋  | 2105/2737 [13:26<02:26,  4.31it/s]"
     ]
    },
    {
     "name": "stdout",
     "output_type": "stream",
     "text": [
      "../input/painting-vs-photograph-classification-dataset/Raw Data/painting/32a0b51de4b853ee21a523f88409498491d9908c.jpg\n"
     ]
    },
    {
     "name": "stderr",
     "output_type": "stream",
     "text": [
      " 77%|███████▋  | 2106/2737 [13:27<05:01,  2.09it/s]"
     ]
    },
    {
     "name": "stdout",
     "output_type": "stream",
     "text": [
      "../input/painting-vs-photograph-classification-dataset/Raw Data/photos/bfe204d176dc1509993b2b09e8b15562dd9891f6.jpg\n"
     ]
    },
    {
     "name": "stderr",
     "output_type": "stream",
     "text": [
      " 77%|███████▋  | 2107/2737 [13:28<04:14,  2.47it/s]"
     ]
    },
    {
     "name": "stdout",
     "output_type": "stream",
     "text": [
      "../input/painting-vs-photograph-classification-dataset/Raw Data/photos/b64f6b9d321d39a2c1925c39942dd022c55f93e6.jpg\n"
     ]
    },
    {
     "name": "stderr",
     "output_type": "stream",
     "text": [
      " 77%|███████▋  | 2108/2737 [13:28<03:43,  2.82it/s]"
     ]
    },
    {
     "name": "stdout",
     "output_type": "stream",
     "text": [
      "../input/painting-vs-photograph-classification-dataset/Raw Data/photos/c27e86ad71bb3cb7579bfe3f4e675d8fbfbe8c3c.jpg\n"
     ]
    },
    {
     "name": "stderr",
     "output_type": "stream",
     "text": [
      " 77%|███████▋  | 2109/2737 [13:28<03:20,  3.14it/s]"
     ]
    },
    {
     "name": "stdout",
     "output_type": "stream",
     "text": [
      "../input/painting-vs-photograph-classification-dataset/Raw Data/photos/2011234cef2e242b59c5aa17194645720662a07c.jpg\n"
     ]
    },
    {
     "name": "stderr",
     "output_type": "stream",
     "text": [
      " 77%|███████▋  | 2110/2737 [13:28<03:07,  3.35it/s]"
     ]
    },
    {
     "name": "stdout",
     "output_type": "stream",
     "text": [
      "../input/painting-vs-photograph-classification-dataset/Raw Data/photos/f88d5c3944e9608a9d626b1e14b1e9c6165cfea2.jpg\n"
     ]
    },
    {
     "name": "stderr",
     "output_type": "stream",
     "text": [
      " 77%|███████▋  | 2111/2737 [13:29<02:54,  3.58it/s]"
     ]
    },
    {
     "name": "stdout",
     "output_type": "stream",
     "text": [
      "../input/painting-vs-photograph-classification-dataset/Raw Data/photos/3d826653fd6067a1b466a7eb064d588faeb029ca.jpg\n"
     ]
    },
    {
     "name": "stderr",
     "output_type": "stream",
     "text": [
      " 77%|███████▋  | 2112/2737 [13:29<02:41,  3.88it/s]"
     ]
    },
    {
     "name": "stdout",
     "output_type": "stream",
     "text": [
      "../input/painting-vs-photograph-classification-dataset/Raw Data/photos/76984a7e5094dc4b314cf522b9031d17bdab7fd3.jpg\n"
     ]
    },
    {
     "name": "stderr",
     "output_type": "stream",
     "text": [
      " 77%|███████▋  | 2113/2737 [13:29<02:36,  3.99it/s]"
     ]
    },
    {
     "name": "stdout",
     "output_type": "stream",
     "text": [
      "../input/painting-vs-photograph-classification-dataset/Raw Data/photos/71ee3fd1c629573011a3265dc167adaca80721f7.jpg\n"
     ]
    },
    {
     "name": "stderr",
     "output_type": "stream",
     "text": [
      " 77%|███████▋  | 2115/2737 [13:29<02:21,  4.40it/s]"
     ]
    },
    {
     "name": "stdout",
     "output_type": "stream",
     "text": [
      "../input/painting-vs-photograph-classification-dataset/Raw Data/photos/91f9b2ebbc3f9556de0a8ff71e184fb96dca6a94.jpg\n",
      "../input/painting-vs-photograph-classification-dataset/Raw Data/photos/fea502293c5f7e3409e60c547dc8dec10c104aa5.jpg\n"
     ]
    },
    {
     "name": "stderr",
     "output_type": "stream",
     "text": [
      " 77%|███████▋  | 2116/2737 [13:30<02:22,  4.37it/s]"
     ]
    },
    {
     "name": "stdout",
     "output_type": "stream",
     "text": [
      "../input/painting-vs-photograph-classification-dataset/Raw Data/painting/f284991faff4329109e54a7029b12304254bcf65.jpg\n"
     ]
    },
    {
     "name": "stderr",
     "output_type": "stream",
     "text": [
      " 77%|███████▋  | 2117/2737 [13:30<04:10,  2.48it/s]"
     ]
    },
    {
     "name": "stdout",
     "output_type": "stream",
     "text": [
      "../input/painting-vs-photograph-classification-dataset/Raw Data/photos/5b028d8bfd942220fd45b7683dadbc9473418b79.jpg\n"
     ]
    },
    {
     "name": "stderr",
     "output_type": "stream",
     "text": [
      " 77%|███████▋  | 2118/2737 [13:31<03:51,  2.68it/s]"
     ]
    },
    {
     "name": "stdout",
     "output_type": "stream",
     "text": [
      "../input/painting-vs-photograph-classification-dataset/Raw Data/photos/716cffc881cd996d563414067a2b72ce73ed831e.jpg\n"
     ]
    },
    {
     "name": "stderr",
     "output_type": "stream",
     "text": [
      " 77%|███████▋  | 2119/2737 [13:31<03:23,  3.04it/s]"
     ]
    },
    {
     "name": "stdout",
     "output_type": "stream",
     "text": [
      "../input/painting-vs-photograph-classification-dataset/Raw Data/photos/71d58aad065115c6fd35c88934fe254d230ebe51.jpg\n"
     ]
    },
    {
     "name": "stderr",
     "output_type": "stream",
     "text": [
      " 77%|███████▋  | 2120/2737 [13:31<03:24,  3.01it/s]"
     ]
    },
    {
     "name": "stdout",
     "output_type": "stream",
     "text": [
      "../input/painting-vs-photograph-classification-dataset/Raw Data/painting/eba40e2207add60a72c7a0b627c24456789bcb55.jpg\n"
     ]
    },
    {
     "name": "stderr",
     "output_type": "stream",
     "text": [
      " 77%|███████▋  | 2121/2737 [13:32<04:17,  2.39it/s]"
     ]
    },
    {
     "name": "stdout",
     "output_type": "stream",
     "text": [
      "../input/painting-vs-photograph-classification-dataset/Raw Data/photos/b9caad9b2572a3533b0d2dda7c220aa4be851399.jpg\n"
     ]
    },
    {
     "name": "stderr",
     "output_type": "stream",
     "text": [
      " 78%|███████▊  | 2122/2737 [13:32<03:58,  2.58it/s]"
     ]
    },
    {
     "name": "stdout",
     "output_type": "stream",
     "text": [
      "../input/painting-vs-photograph-classification-dataset/Raw Data/photos/a25d9219b21dd715ad304fbc7234bac6674bf6b5.jpg\n"
     ]
    },
    {
     "name": "stderr",
     "output_type": "stream",
     "text": [
      " 78%|███████▊  | 2123/2737 [13:33<03:36,  2.84it/s]"
     ]
    },
    {
     "name": "stdout",
     "output_type": "stream",
     "text": [
      "../input/painting-vs-photograph-classification-dataset/Raw Data/photos/662f5b85ad474660ad3d23e3a420b8032c9f1641.jpg\n"
     ]
    },
    {
     "name": "stderr",
     "output_type": "stream",
     "text": [
      " 78%|███████▊  | 2125/2737 [13:33<02:52,  3.55it/s]"
     ]
    },
    {
     "name": "stdout",
     "output_type": "stream",
     "text": [
      "../input/painting-vs-photograph-classification-dataset/Raw Data/photos/2419e8d45c58ebbd4c53b5c07a28321402e355da.jpg\n",
      "../input/painting-vs-photograph-classification-dataset/Raw Data/photos/a523d032823906002be89a8151ffb4d15673b70f.jpg\n"
     ]
    },
    {
     "name": "stderr",
     "output_type": "stream",
     "text": [
      " 78%|███████▊  | 2126/2737 [13:33<02:39,  3.83it/s]"
     ]
    },
    {
     "name": "stdout",
     "output_type": "stream",
     "text": [
      "../input/painting-vs-photograph-classification-dataset/Raw Data/painting/69b25220a5915fe81160bc6acc2942937b9b5efd.jpg\n"
     ]
    },
    {
     "name": "stderr",
     "output_type": "stream",
     "text": [
      " 78%|███████▊  | 2127/2737 [13:34<04:16,  2.37it/s]"
     ]
    },
    {
     "name": "stdout",
     "output_type": "stream",
     "text": [
      "../input/painting-vs-photograph-classification-dataset/Raw Data/photos/b1021a17b2b4705b9d059765c21179e6d125295b.jpg\n"
     ]
    },
    {
     "name": "stderr",
     "output_type": "stream",
     "text": [
      " 78%|███████▊  | 2128/2737 [13:34<03:45,  2.70it/s]"
     ]
    },
    {
     "name": "stdout",
     "output_type": "stream",
     "text": [
      "../input/painting-vs-photograph-classification-dataset/Raw Data/photos/d197557b9a9bbc62b64d62208027a624fad0b95d.jpg\n"
     ]
    },
    {
     "name": "stderr",
     "output_type": "stream",
     "text": [
      " 78%|███████▊  | 2129/2737 [13:34<03:21,  3.01it/s]"
     ]
    },
    {
     "name": "stdout",
     "output_type": "stream",
     "text": [
      "../input/painting-vs-photograph-classification-dataset/Raw Data/photos/51d9e84976d6130e696a5a1cb59384624b193eec.jpg\n"
     ]
    },
    {
     "name": "stderr",
     "output_type": "stream",
     "text": [
      " 78%|███████▊  | 2130/2737 [13:35<03:12,  3.16it/s]"
     ]
    },
    {
     "name": "stdout",
     "output_type": "stream",
     "text": [
      "../input/painting-vs-photograph-classification-dataset/Raw Data/photos/ed8492c5c36b4a5dcb173b4cdf817e978d43d260.jpg\n"
     ]
    },
    {
     "name": "stderr",
     "output_type": "stream",
     "text": [
      " 78%|███████▊  | 2131/2737 [13:35<02:54,  3.48it/s]"
     ]
    },
    {
     "name": "stdout",
     "output_type": "stream",
     "text": [
      "../input/painting-vs-photograph-classification-dataset/Raw Data/photos/15695e23d0838e121260d078dbfc0356ca801873.jpg\n"
     ]
    },
    {
     "name": "stderr",
     "output_type": "stream",
     "text": [
      " 78%|███████▊  | 2132/2737 [13:35<02:44,  3.68it/s]"
     ]
    },
    {
     "name": "stdout",
     "output_type": "stream",
     "text": [
      "../input/painting-vs-photograph-classification-dataset/Raw Data/photos/ed128e54e5eed71d4ed8a96df83f26f6f929a6c0.jpg\n"
     ]
    },
    {
     "name": "stderr",
     "output_type": "stream",
     "text": [
      " 78%|███████▊  | 2133/2737 [13:35<02:40,  3.75it/s]"
     ]
    },
    {
     "name": "stdout",
     "output_type": "stream",
     "text": [
      "../input/painting-vs-photograph-classification-dataset/Raw Data/photos/815ab2857a61fb623642146715ec2fea483a07f1.jpg\n"
     ]
    },
    {
     "name": "stderr",
     "output_type": "stream",
     "text": [
      " 78%|███████▊  | 2134/2737 [13:36<02:52,  3.49it/s]"
     ]
    },
    {
     "name": "stdout",
     "output_type": "stream",
     "text": [
      "../input/painting-vs-photograph-classification-dataset/Raw Data/painting/f2a587292fb4e8f42f07cd985d352d4591312264.jpg\n"
     ]
    },
    {
     "name": "stderr",
     "output_type": "stream",
     "text": [
      " 78%|███████▊  | 2135/2737 [13:36<03:47,  2.65it/s]"
     ]
    },
    {
     "name": "stdout",
     "output_type": "stream",
     "text": [
      "../input/painting-vs-photograph-classification-dataset/Raw Data/photos/c03b06f8cf93b34498b056e79e12b0947e83e25c.jpg\n"
     ]
    },
    {
     "name": "stderr",
     "output_type": "stream",
     "text": [
      " 78%|███████▊  | 2136/2737 [13:37<03:30,  2.85it/s]"
     ]
    },
    {
     "name": "stdout",
     "output_type": "stream",
     "text": [
      "../input/painting-vs-photograph-classification-dataset/Raw Data/photos/282a0750150ebe78080101e9447004ee6de373f6.jpg\n",
      "../input/painting-vs-photograph-classification-dataset/Raw Data/photos/acd8f185e4f8009c0ba7eaa7b95148db412789ec.jpg\n"
     ]
    },
    {
     "name": "stderr",
     "output_type": "stream",
     "text": [
      " 78%|███████▊  | 2138/2737 [13:37<02:53,  3.46it/s]"
     ]
    },
    {
     "name": "stdout",
     "output_type": "stream",
     "text": [
      "../input/painting-vs-photograph-classification-dataset/Raw Data/painting/8d9c22e3eabf5376d2763b2d5c5abd2db70c90f4.jpg\n"
     ]
    },
    {
     "name": "stderr",
     "output_type": "stream",
     "text": [
      " 78%|███████▊  | 2139/2737 [13:38<03:51,  2.58it/s]"
     ]
    },
    {
     "name": "stdout",
     "output_type": "stream",
     "text": [
      "../input/painting-vs-photograph-classification-dataset/Raw Data/painting/5c8340a761f2cf1317f0de3d4376bf43dc6f7146.jpg\n"
     ]
    },
    {
     "name": "stderr",
     "output_type": "stream",
     "text": [
      " 78%|███████▊  | 2140/2737 [13:38<05:01,  1.98it/s]"
     ]
    },
    {
     "name": "stdout",
     "output_type": "stream",
     "text": [
      "../input/painting-vs-photograph-classification-dataset/Raw Data/painting/6ca17a493d8330f0036cbf2fbf7c513d1edf9b04.jpg\n"
     ]
    },
    {
     "name": "stderr",
     "output_type": "stream",
     "text": [
      " 78%|███████▊  | 2141/2737 [13:39<05:31,  1.80it/s]"
     ]
    },
    {
     "name": "stdout",
     "output_type": "stream",
     "text": [
      "../input/painting-vs-photograph-classification-dataset/Raw Data/photos/a532478bd627bc46e29c892bbb7b754bdd74ad70.jpg\n"
     ]
    },
    {
     "name": "stderr",
     "output_type": "stream",
     "text": [
      " 78%|███████▊  | 2142/2737 [13:39<04:29,  2.20it/s]"
     ]
    },
    {
     "name": "stdout",
     "output_type": "stream",
     "text": [
      "../input/painting-vs-photograph-classification-dataset/Raw Data/painting/0d61cca38d40ed8808b68bf181be8c0996934237.jpg\n"
     ]
    },
    {
     "name": "stderr",
     "output_type": "stream",
     "text": [
      " 78%|███████▊  | 2143/2737 [13:40<05:12,  1.90it/s]"
     ]
    },
    {
     "name": "stdout",
     "output_type": "stream",
     "text": [
      "../input/painting-vs-photograph-classification-dataset/Raw Data/photos/d59b6caa795f4206326978f1434375cb94c4b109.jpg\n"
     ]
    },
    {
     "name": "stderr",
     "output_type": "stream",
     "text": [
      " 78%|███████▊  | 2144/2737 [13:40<04:21,  2.27it/s]"
     ]
    },
    {
     "name": "stdout",
     "output_type": "stream",
     "text": [
      "../input/painting-vs-photograph-classification-dataset/Raw Data/photos/bb5a8202230b5c0fdf4044e81565359a72262b1c.jpg\n"
     ]
    },
    {
     "name": "stderr",
     "output_type": "stream",
     "text": [
      " 78%|███████▊  | 2145/2737 [13:40<03:46,  2.61it/s]"
     ]
    },
    {
     "name": "stdout",
     "output_type": "stream",
     "text": [
      "../input/painting-vs-photograph-classification-dataset/Raw Data/photos/ffcd61448810e0f5ca7525c81f9c42c39b6dfa77.jpg\n"
     ]
    },
    {
     "name": "stderr",
     "output_type": "stream",
     "text": [
      " 78%|███████▊  | 2146/2737 [13:41<03:23,  2.91it/s]"
     ]
    },
    {
     "name": "stdout",
     "output_type": "stream",
     "text": [
      "../input/painting-vs-photograph-classification-dataset/Raw Data/photos/b99eab15acd32238f0b1713b80b225a275c0efd0.jpg\n"
     ]
    },
    {
     "name": "stderr",
     "output_type": "stream",
     "text": [
      " 78%|███████▊  | 2147/2737 [13:41<03:04,  3.20it/s]"
     ]
    },
    {
     "name": "stdout",
     "output_type": "stream",
     "text": [
      "../input/painting-vs-photograph-classification-dataset/Raw Data/photos/2301eb4d8afd19624bfd3dae859dff71878dc8cd.jpg\n"
     ]
    },
    {
     "name": "stderr",
     "output_type": "stream",
     "text": [
      " 78%|███████▊  | 2148/2737 [13:41<02:50,  3.46it/s]"
     ]
    },
    {
     "name": "stdout",
     "output_type": "stream",
     "text": [
      "../input/painting-vs-photograph-classification-dataset/Raw Data/photos/f372d43320372f3457ab18f8137009accbc27de0.jpg\n"
     ]
    },
    {
     "name": "stderr",
     "output_type": "stream",
     "text": [
      " 79%|███████▊  | 2150/2737 [13:42<02:27,  3.97it/s]"
     ]
    },
    {
     "name": "stdout",
     "output_type": "stream",
     "text": [
      "../input/painting-vs-photograph-classification-dataset/Raw Data/photos/48a309116bf9b7c4f602107cb7363177cd8cad77.jpg\n",
      "../input/painting-vs-photograph-classification-dataset/Raw Data/photos/345f8070be86cbae8d76d2376996ffb26b9c6738.jpg\n"
     ]
    },
    {
     "name": "stderr",
     "output_type": "stream",
     "text": [
      " 79%|███████▊  | 2151/2737 [13:42<02:22,  4.11it/s]"
     ]
    },
    {
     "name": "stdout",
     "output_type": "stream",
     "text": [
      "../input/painting-vs-photograph-classification-dataset/Raw Data/photos/6014a394da27889be87f276b6793cef4a6a0e5bc.jpg\n"
     ]
    },
    {
     "name": "stderr",
     "output_type": "stream",
     "text": [
      " 79%|███████▊  | 2153/2737 [13:42<02:09,  4.52it/s]"
     ]
    },
    {
     "name": "stdout",
     "output_type": "stream",
     "text": [
      "../input/painting-vs-photograph-classification-dataset/Raw Data/photos/911ebe7e67f9000cba8740b2f07d18be5961aa06.jpg\n",
      "../input/painting-vs-photograph-classification-dataset/Raw Data/photos/edde5f95cf826feab453f84f50086efaa488f136.jpg\n"
     ]
    },
    {
     "name": "stderr",
     "output_type": "stream",
     "text": [
      " 79%|███████▊  | 2154/2737 [13:42<02:06,  4.60it/s]"
     ]
    },
    {
     "name": "stdout",
     "output_type": "stream",
     "text": [
      "../input/painting-vs-photograph-classification-dataset/Raw Data/painting/e03733cf455886c96a99f42979caa8f62333781d.jpg\n"
     ]
    },
    {
     "name": "stderr",
     "output_type": "stream",
     "text": [
      " 79%|███████▊  | 2155/2737 [13:43<03:50,  2.53it/s]"
     ]
    },
    {
     "name": "stdout",
     "output_type": "stream",
     "text": [
      "../input/painting-vs-photograph-classification-dataset/Raw Data/photos/a7617a83b13662f1b01c25297925e1ce8273ac78.jpg\n"
     ]
    },
    {
     "name": "stderr",
     "output_type": "stream",
     "text": [
      " 79%|███████▉  | 2156/2737 [13:43<03:20,  2.90it/s]"
     ]
    },
    {
     "name": "stdout",
     "output_type": "stream",
     "text": [
      "../input/painting-vs-photograph-classification-dataset/Raw Data/painting/628c40ac017cc502c5ee082918d1d7b34e5f165d.jpg\n"
     ]
    },
    {
     "name": "stderr",
     "output_type": "stream",
     "text": [
      " 79%|███████▉  | 2157/2737 [13:44<03:58,  2.43it/s]"
     ]
    },
    {
     "name": "stdout",
     "output_type": "stream",
     "text": [
      "../input/painting-vs-photograph-classification-dataset/Raw Data/photos/9862640bcb989e7cf1c3811603614dff7cc095b0.jpg\n"
     ]
    },
    {
     "name": "stderr",
     "output_type": "stream",
     "text": [
      " 79%|███████▉  | 2158/2737 [13:44<03:27,  2.79it/s]"
     ]
    },
    {
     "name": "stdout",
     "output_type": "stream",
     "text": [
      "../input/painting-vs-photograph-classification-dataset/Raw Data/painting/fa3b7b2dae11c1e3b16ae8731d18acb8c9711892.jpg\n"
     ]
    },
    {
     "name": "stderr",
     "output_type": "stream",
     "text": [
      " 79%|███████▉  | 2159/2737 [13:45<04:43,  2.04it/s]"
     ]
    },
    {
     "name": "stdout",
     "output_type": "stream",
     "text": [
      "../input/painting-vs-photograph-classification-dataset/Raw Data/photos/52624ed2194c4639f134913e3ab640a0d813e540.jpg\n"
     ]
    },
    {
     "name": "stderr",
     "output_type": "stream",
     "text": [
      " 79%|███████▉  | 2160/2737 [13:45<04:00,  2.40it/s]"
     ]
    },
    {
     "name": "stdout",
     "output_type": "stream",
     "text": [
      "../input/painting-vs-photograph-classification-dataset/Raw Data/photos/fdb927e3412fd1b34c5dfc7780d534a27519b26c.jpg\n"
     ]
    },
    {
     "name": "stderr",
     "output_type": "stream",
     "text": [
      " 79%|███████▉  | 2161/2737 [13:46<03:26,  2.79it/s]"
     ]
    },
    {
     "name": "stdout",
     "output_type": "stream",
     "text": [
      "../input/painting-vs-photograph-classification-dataset/Raw Data/photos/6272d4afa09e4fa368963e10d8159f4bba671d2b.jpg\n"
     ]
    },
    {
     "name": "stderr",
     "output_type": "stream",
     "text": [
      " 79%|███████▉  | 2162/2737 [13:46<03:06,  3.09it/s]"
     ]
    },
    {
     "name": "stdout",
     "output_type": "stream",
     "text": [
      "../input/painting-vs-photograph-classification-dataset/Raw Data/photos/d4eac40d19927209600d46f26f140bcde4b71169.jpg\n"
     ]
    },
    {
     "name": "stderr",
     "output_type": "stream",
     "text": [
      " 79%|███████▉  | 2163/2737 [13:46<02:51,  3.35it/s]"
     ]
    },
    {
     "name": "stdout",
     "output_type": "stream",
     "text": [
      "../input/painting-vs-photograph-classification-dataset/Raw Data/photos/99405be3d48f39b1749ab5c8644ee1ff49acb63b.jpg\n"
     ]
    },
    {
     "name": "stderr",
     "output_type": "stream",
     "text": [
      " 79%|███████▉  | 2164/2737 [13:46<02:57,  3.22it/s]"
     ]
    },
    {
     "name": "stdout",
     "output_type": "stream",
     "text": [
      "../input/painting-vs-photograph-classification-dataset/Raw Data/photos/c55e0071cc2cdb364254356b1c5c265bcf034f46.jpg\n"
     ]
    },
    {
     "name": "stderr",
     "output_type": "stream",
     "text": [
      " 79%|███████▉  | 2165/2737 [13:47<02:50,  3.35it/s]"
     ]
    },
    {
     "name": "stdout",
     "output_type": "stream",
     "text": [
      "../input/painting-vs-photograph-classification-dataset/Raw Data/painting/eaa9b868f870f9fa5958f2477684f4e0ec9c5e2a.jpg\n"
     ]
    },
    {
     "name": "stderr",
     "output_type": "stream",
     "text": [
      " 79%|███████▉  | 2166/2737 [13:47<03:58,  2.40it/s]"
     ]
    },
    {
     "name": "stdout",
     "output_type": "stream",
     "text": [
      "../input/painting-vs-photograph-classification-dataset/Raw Data/painting/f9f539c790a3cb122ca4a0a8e0fdbe75311803ae.jpg\n"
     ]
    },
    {
     "name": "stderr",
     "output_type": "stream",
     "text": [
      " 79%|███████▉  | 2167/2737 [13:48<05:23,  1.76it/s]"
     ]
    },
    {
     "name": "stdout",
     "output_type": "stream",
     "text": [
      "../input/painting-vs-photograph-classification-dataset/Raw Data/photos/baaa40685cfc486a4e59ba8a723ad39184a7d939.jpg\n"
     ]
    },
    {
     "name": "stderr",
     "output_type": "stream",
     "text": [
      " 79%|███████▉  | 2168/2737 [13:48<04:23,  2.16it/s]"
     ]
    },
    {
     "name": "stdout",
     "output_type": "stream",
     "text": [
      "../input/painting-vs-photograph-classification-dataset/Raw Data/photos/eb11460ef7525ea19b111ccc4891698be97301cc.jpg\n"
     ]
    },
    {
     "name": "stderr",
     "output_type": "stream",
     "text": [
      " 79%|███████▉  | 2170/2737 [13:49<03:07,  3.02it/s]"
     ]
    },
    {
     "name": "stdout",
     "output_type": "stream",
     "text": [
      "../input/painting-vs-photograph-classification-dataset/Raw Data/photos/304bb21a96c2afd4d8da665c821f01f0e8d5b79a.jpg\n"
     ]
    },
    {
     "name": "stderr",
     "output_type": "stream",
     "text": [
      " 79%|███████▉  | 2171/2737 [13:49<02:43,  3.45it/s]"
     ]
    },
    {
     "name": "stdout",
     "output_type": "stream",
     "text": [
      "../input/painting-vs-photograph-classification-dataset/Raw Data/photos/e961a3819a80f165a8540940bb19c83c8577720d.jpg\n",
      "../input/painting-vs-photograph-classification-dataset/Raw Data/photos/3933bd0c5e5aee1490f5f9ca8888b79a580b71bb.jpg\n"
     ]
    },
    {
     "name": "stderr",
     "output_type": "stream",
     "text": [
      " 79%|███████▉  | 2172/2737 [13:49<02:35,  3.64it/s]"
     ]
    },
    {
     "name": "stdout",
     "output_type": "stream",
     "text": [
      "../input/painting-vs-photograph-classification-dataset/Raw Data/painting/d3607762bb29f3e551cd9125eedf6f5be68038c3.jpg\n"
     ]
    },
    {
     "name": "stderr",
     "output_type": "stream",
     "text": [
      " 79%|███████▉  | 2174/2737 [13:50<03:37,  2.58it/s]"
     ]
    },
    {
     "name": "stdout",
     "output_type": "stream",
     "text": [
      "../input/painting-vs-photograph-classification-dataset/Raw Data/photos/f7933278f5709ec43dccb5c640fc7d530b48f710.jpg\n",
      "../input/painting-vs-photograph-classification-dataset/Raw Data/painting/5c7122135b1cff14b16388e95c0c5c21d7cc8014.jpg\n"
     ]
    },
    {
     "name": "stderr",
     "output_type": "stream",
     "text": [
      " 79%|███████▉  | 2175/2737 [13:51<04:40,  2.00it/s]"
     ]
    },
    {
     "name": "stdout",
     "output_type": "stream",
     "text": [
      "../input/painting-vs-photograph-classification-dataset/Raw Data/photos/7615b6844f713ee1b1964371b6ca4e30b03d7277.jpg\n"
     ]
    },
    {
     "name": "stderr",
     "output_type": "stream",
     "text": [
      " 80%|███████▉  | 2176/2737 [13:51<04:01,  2.32it/s]"
     ]
    },
    {
     "name": "stdout",
     "output_type": "stream",
     "text": [
      "../input/painting-vs-photograph-classification-dataset/Raw Data/painting/6d04fc15704a91c83efd4c6d3a566f61df7a2608.jpg\n"
     ]
    },
    {
     "name": "stderr",
     "output_type": "stream",
     "text": [
      " 80%|███████▉  | 2177/2737 [13:52<04:37,  2.02it/s]"
     ]
    },
    {
     "name": "stdout",
     "output_type": "stream",
     "text": [
      "../input/painting-vs-photograph-classification-dataset/Raw Data/photos/91c1ab0c91d598996b40b2902d7712d5e66fa2e1.jpg\n"
     ]
    },
    {
     "name": "stderr",
     "output_type": "stream",
     "text": [
      " 80%|███████▉  | 2178/2737 [13:52<03:53,  2.40it/s]"
     ]
    },
    {
     "name": "stdout",
     "output_type": "stream",
     "text": [
      "../input/painting-vs-photograph-classification-dataset/Raw Data/photos/ab6ec5e41bb1939eb04d475f1687637005e92795.jpg\n"
     ]
    },
    {
     "name": "stderr",
     "output_type": "stream",
     "text": [
      " 80%|███████▉  | 2179/2737 [13:53<03:34,  2.61it/s]"
     ]
    },
    {
     "name": "stdout",
     "output_type": "stream",
     "text": [
      "../input/painting-vs-photograph-classification-dataset/Raw Data/painting/e62cd96006031a13970b0d467ff3cc8c1add55b7.jpg\n"
     ]
    },
    {
     "name": "stderr",
     "output_type": "stream",
     "text": [
      " 80%|███████▉  | 2180/2737 [13:53<04:42,  1.97it/s]"
     ]
    },
    {
     "name": "stdout",
     "output_type": "stream",
     "text": [
      "../input/painting-vs-photograph-classification-dataset/Raw Data/painting/357ae24e811351d0fe06bffe37d09ace0ea16304.jpg\n"
     ]
    },
    {
     "name": "stderr",
     "output_type": "stream",
     "text": [
      " 80%|███████▉  | 2181/2737 [13:54<05:11,  1.79it/s]"
     ]
    },
    {
     "name": "stdout",
     "output_type": "stream",
     "text": [
      "../input/painting-vs-photograph-classification-dataset/Raw Data/painting/ece1f3a6de64e13a9617901bd0999e4d2dcb3f69.jpg\n"
     ]
    },
    {
     "name": "stderr",
     "output_type": "stream",
     "text": [
      " 80%|███████▉  | 2182/2737 [13:55<05:34,  1.66it/s]"
     ]
    },
    {
     "name": "stdout",
     "output_type": "stream",
     "text": [
      "../input/painting-vs-photograph-classification-dataset/Raw Data/photos/d0c8e1a4bfa9f98dfe9faa60dd0fcd90437591f8.jpg\n"
     ]
    },
    {
     "name": "stderr",
     "output_type": "stream",
     "text": [
      " 80%|███████▉  | 2183/2737 [13:55<04:39,  1.98it/s]"
     ]
    },
    {
     "name": "stdout",
     "output_type": "stream",
     "text": [
      "../input/painting-vs-photograph-classification-dataset/Raw Data/photos/408219ab417c785cb91acfc9afbe0a5d2d9535a6.jpg\n"
     ]
    },
    {
     "name": "stderr",
     "output_type": "stream",
     "text": [
      " 80%|███████▉  | 2184/2737 [13:55<03:55,  2.35it/s]"
     ]
    },
    {
     "name": "stdout",
     "output_type": "stream",
     "text": [
      "../input/painting-vs-photograph-classification-dataset/Raw Data/photos/49f7eb29f6c6e454b9bf49e46785479e2bf9e7ff.jpg\n"
     ]
    },
    {
     "name": "stderr",
     "output_type": "stream",
     "text": [
      " 80%|███████▉  | 2185/2737 [13:56<03:25,  2.68it/s]"
     ]
    },
    {
     "name": "stdout",
     "output_type": "stream",
     "text": [
      "../input/painting-vs-photograph-classification-dataset/Raw Data/photos/32884c3003173e83884666e1f2099ca19a648b2d.jpg\n"
     ]
    },
    {
     "name": "stderr",
     "output_type": "stream",
     "text": [
      " 80%|███████▉  | 2187/2737 [13:56<02:37,  3.50it/s]"
     ]
    },
    {
     "name": "stdout",
     "output_type": "stream",
     "text": [
      "../input/painting-vs-photograph-classification-dataset/Raw Data/photos/deb8e57fe3f3a54146e0266fec8d12d6df1bc77a.jpg\n",
      "../input/painting-vs-photograph-classification-dataset/Raw Data/photos/86a47e9dee4008baa500311e8425fd45222530b8.jpg\n"
     ]
    },
    {
     "name": "stderr",
     "output_type": "stream",
     "text": [
      " 80%|███████▉  | 2188/2737 [13:56<02:29,  3.67it/s]"
     ]
    },
    {
     "name": "stdout",
     "output_type": "stream",
     "text": [
      "../input/painting-vs-photograph-classification-dataset/Raw Data/painting/38a7fc3065c991587442fe602202e9f32c279af2.jpg\n"
     ]
    },
    {
     "name": "stderr",
     "output_type": "stream",
     "text": [
      " 80%|███████▉  | 2189/2737 [13:57<03:35,  2.54it/s]"
     ]
    },
    {
     "name": "stdout",
     "output_type": "stream",
     "text": [
      "../input/painting-vs-photograph-classification-dataset/Raw Data/photos/c45d9bd4290bac94a97b70f2d02ca28f7cd3416f.jpg\n"
     ]
    },
    {
     "name": "stderr",
     "output_type": "stream",
     "text": [
      " 80%|████████  | 2190/2737 [13:57<03:05,  2.94it/s]"
     ]
    },
    {
     "name": "stdout",
     "output_type": "stream",
     "text": [
      "../input/painting-vs-photograph-classification-dataset/Raw Data/photos/f97c7fc7128581e0f05aaba21293e0ba4fc48687.jpg\n"
     ]
    },
    {
     "name": "stderr",
     "output_type": "stream",
     "text": [
      " 80%|████████  | 2191/2737 [13:57<02:53,  3.14it/s]"
     ]
    },
    {
     "name": "stdout",
     "output_type": "stream",
     "text": [
      "../input/painting-vs-photograph-classification-dataset/Raw Data/painting/f63ccab2ecb9821c77d63d9ce890108645453998.jpg\n"
     ]
    },
    {
     "name": "stderr",
     "output_type": "stream",
     "text": [
      " 80%|████████  | 2192/2737 [13:58<04:08,  2.20it/s]"
     ]
    },
    {
     "name": "stdout",
     "output_type": "stream",
     "text": [
      "../input/painting-vs-photograph-classification-dataset/Raw Data/photos/904ec105888761d47b8ebf95242e9d8d5e97c800.jpg\n"
     ]
    },
    {
     "name": "stderr",
     "output_type": "stream",
     "text": [
      " 80%|████████  | 2193/2737 [13:58<03:31,  2.57it/s]"
     ]
    },
    {
     "name": "stdout",
     "output_type": "stream",
     "text": [
      "../input/painting-vs-photograph-classification-dataset/Raw Data/photos/a7b01514428a18211d2b083b4ed765f2550114c6.jpg\n"
     ]
    },
    {
     "name": "stderr",
     "output_type": "stream",
     "text": [
      " 80%|████████  | 2194/2737 [13:59<03:26,  2.62it/s]"
     ]
    },
    {
     "name": "stdout",
     "output_type": "stream",
     "text": [
      "../input/painting-vs-photograph-classification-dataset/Raw Data/photos/ea07fed3de2f7ecf3e3dba0dcff75cb5240cd8c6.jpg\n"
     ]
    },
    {
     "name": "stderr",
     "output_type": "stream",
     "text": [
      " 80%|████████  | 2195/2737 [13:59<03:02,  2.97it/s]"
     ]
    },
    {
     "name": "stdout",
     "output_type": "stream",
     "text": [
      "../input/painting-vs-photograph-classification-dataset/Raw Data/photos/f1b5146886750cace8f9865d7e6c69682c0d6e20.jpg\n"
     ]
    },
    {
     "name": "stderr",
     "output_type": "stream",
     "text": [
      " 80%|████████  | 2196/2737 [13:59<02:42,  3.32it/s]"
     ]
    },
    {
     "name": "stdout",
     "output_type": "stream",
     "text": [
      "../input/painting-vs-photograph-classification-dataset/Raw Data/painting/a2acb3ff307fa0d0c24c1f5964355997b2ea7994.jpg\n"
     ]
    },
    {
     "name": "stderr",
     "output_type": "stream",
     "text": [
      " 80%|████████  | 2197/2737 [14:00<04:36,  1.96it/s]"
     ]
    },
    {
     "name": "stdout",
     "output_type": "stream",
     "text": [
      "../input/painting-vs-photograph-classification-dataset/Raw Data/photos/a229e6b70d04c4bafaf92008b7b3d473b36c0880.jpg\n"
     ]
    },
    {
     "name": "stderr",
     "output_type": "stream",
     "text": [
      " 80%|████████  | 2198/2737 [14:00<03:54,  2.30it/s]"
     ]
    },
    {
     "name": "stdout",
     "output_type": "stream",
     "text": [
      "../input/painting-vs-photograph-classification-dataset/Raw Data/painting/984f98cda432a80c53411ba3b1f3d541c28ffd28.jpg\n"
     ]
    },
    {
     "name": "stderr",
     "output_type": "stream",
     "text": [
      " 80%|████████  | 2199/2737 [14:01<04:51,  1.84it/s]"
     ]
    },
    {
     "name": "stdout",
     "output_type": "stream",
     "text": [
      "../input/painting-vs-photograph-classification-dataset/Raw Data/painting/292a072d36b18afaf102fc0b3700003c092977ea.jpg\n"
     ]
    },
    {
     "name": "stderr",
     "output_type": "stream",
     "text": [
      " 80%|████████  | 2200/2737 [14:02<06:25,  1.39it/s]"
     ]
    },
    {
     "name": "stdout",
     "output_type": "stream",
     "text": [
      "../input/painting-vs-photograph-classification-dataset/Raw Data/photos/f1c59ba3e97c8fe5cc39ad3aaa1b385ab30a390c.jpg\n"
     ]
    },
    {
     "name": "stderr",
     "output_type": "stream",
     "text": [
      " 80%|████████  | 2201/2737 [14:03<05:03,  1.77it/s]"
     ]
    },
    {
     "name": "stdout",
     "output_type": "stream",
     "text": [
      "../input/painting-vs-photograph-classification-dataset/Raw Data/photos/ec63403a3fa5c2db5aabded2c29eb86b1757909d.jpg\n"
     ]
    },
    {
     "name": "stderr",
     "output_type": "stream",
     "text": [
      " 80%|████████  | 2202/2737 [14:03<04:18,  2.07it/s]"
     ]
    },
    {
     "name": "stdout",
     "output_type": "stream",
     "text": [
      "../input/painting-vs-photograph-classification-dataset/Raw Data/photos/58b0eef2ebcc0d1fce9baf4a33667708a2daa020.jpg\n"
     ]
    },
    {
     "name": "stderr",
     "output_type": "stream",
     "text": [
      " 80%|████████  | 2203/2737 [14:03<03:56,  2.26it/s]"
     ]
    },
    {
     "name": "stdout",
     "output_type": "stream",
     "text": [
      "../input/painting-vs-photograph-classification-dataset/Raw Data/photos/7896743403d6d366e0b3efda353510d62425e5d2.jpg\n"
     ]
    },
    {
     "name": "stderr",
     "output_type": "stream",
     "text": [
      " 81%|████████  | 2204/2737 [14:04<03:26,  2.58it/s]"
     ]
    },
    {
     "name": "stdout",
     "output_type": "stream",
     "text": [
      "../input/painting-vs-photograph-classification-dataset/Raw Data/photos/077f8b1f382dcd110caf90902c55ea728ac9101e.jpg\n"
     ]
    },
    {
     "name": "stderr",
     "output_type": "stream",
     "text": [
      " 81%|████████  | 2206/2737 [14:04<02:33,  3.47it/s]"
     ]
    },
    {
     "name": "stdout",
     "output_type": "stream",
     "text": [
      "../input/painting-vs-photograph-classification-dataset/Raw Data/photos/2540b54e31018f8d04287529b4650fcb6641c7cd.jpg\n",
      "../input/painting-vs-photograph-classification-dataset/Raw Data/photos/e2a54c77aa8c2120a7433ce10f217d29cf7215a6.jpg\n"
     ]
    },
    {
     "name": "stderr",
     "output_type": "stream",
     "text": [
      " 81%|████████  | 2207/2737 [14:04<02:22,  3.72it/s]"
     ]
    },
    {
     "name": "stdout",
     "output_type": "stream",
     "text": [
      "../input/painting-vs-photograph-classification-dataset/Raw Data/photos/1429e6ea4d89e62b5158723f3856545e32dae9de.jpg\n"
     ]
    },
    {
     "name": "stderr",
     "output_type": "stream",
     "text": [
      " 81%|████████  | 2208/2737 [14:04<02:16,  3.88it/s]"
     ]
    },
    {
     "name": "stdout",
     "output_type": "stream",
     "text": [
      "../input/painting-vs-photograph-classification-dataset/Raw Data/photos/ec7310f5aee98d42daaf96004ce87b255b914da1.jpg\n"
     ]
    },
    {
     "name": "stderr",
     "output_type": "stream",
     "text": [
      " 81%|████████  | 2209/2737 [14:05<02:12,  3.98it/s]"
     ]
    },
    {
     "name": "stdout",
     "output_type": "stream",
     "text": [
      "../input/painting-vs-photograph-classification-dataset/Raw Data/photos/a79bcff65e966262ef33e2a7fc7ccf5bfef890c2.jpg\n"
     ]
    },
    {
     "name": "stderr",
     "output_type": "stream",
     "text": [
      " 81%|████████  | 2210/2737 [14:05<02:09,  4.07it/s]"
     ]
    },
    {
     "name": "stdout",
     "output_type": "stream",
     "text": [
      "../input/painting-vs-photograph-classification-dataset/Raw Data/photos/c4b990bb8dc786e59dbbd8b29558f98b33b15c16.jpg\n"
     ]
    },
    {
     "name": "stderr",
     "output_type": "stream",
     "text": [
      " 81%|████████  | 2211/2737 [14:05<02:07,  4.13it/s]"
     ]
    },
    {
     "name": "stdout",
     "output_type": "stream",
     "text": [
      "../input/painting-vs-photograph-classification-dataset/Raw Data/photos/87fda10484f9b5273cbf3def50486823075965c7.jpg\n"
     ]
    },
    {
     "name": "stderr",
     "output_type": "stream",
     "text": [
      " 81%|████████  | 2212/2737 [14:05<02:08,  4.07it/s]"
     ]
    },
    {
     "name": "stdout",
     "output_type": "stream",
     "text": [
      "../input/painting-vs-photograph-classification-dataset/Raw Data/painting/a46ca95372fd785b306631be779d1cc7b7cbdaae.jpg\n"
     ]
    },
    {
     "name": "stderr",
     "output_type": "stream",
     "text": [
      " 81%|████████  | 2213/2737 [14:06<02:19,  3.75it/s]"
     ]
    },
    {
     "name": "stdout",
     "output_type": "stream",
     "text": [
      "../input/painting-vs-photograph-classification-dataset/Raw Data/painting/327b6cdbd54256e0afec6e15a24ce7d8b63c12f2.jpg\n"
     ]
    },
    {
     "name": "stderr",
     "output_type": "stream",
     "text": [
      " 81%|████████  | 2214/2737 [14:06<03:42,  2.35it/s]"
     ]
    },
    {
     "name": "stdout",
     "output_type": "stream",
     "text": [
      "../input/painting-vs-photograph-classification-dataset/Raw Data/photos/80773d1049f4056b84d5c8271b8cae08322e4754.jpg\n"
     ]
    },
    {
     "name": "stderr",
     "output_type": "stream",
     "text": [
      " 81%|████████  | 2215/2737 [14:07<03:11,  2.73it/s]"
     ]
    },
    {
     "name": "stdout",
     "output_type": "stream",
     "text": [
      "../input/painting-vs-photograph-classification-dataset/Raw Data/painting/f78bb6b7a1c6322caf4652a39db5aaf663f6e837.jpg\n"
     ]
    },
    {
     "name": "stderr",
     "output_type": "stream",
     "text": [
      " 81%|████████  | 2216/2737 [14:08<05:00,  1.74it/s]"
     ]
    },
    {
     "name": "stdout",
     "output_type": "stream",
     "text": [
      "../input/painting-vs-photograph-classification-dataset/Raw Data/photos/d59d9c05074c865fe8e5bbbb26b22d422ff74a0f.jpg\n"
     ]
    },
    {
     "name": "stderr",
     "output_type": "stream",
     "text": [
      " 81%|████████  | 2217/2737 [14:08<04:02,  2.14it/s]"
     ]
    },
    {
     "name": "stdout",
     "output_type": "stream",
     "text": [
      "../input/painting-vs-photograph-classification-dataset/Raw Data/photos/ecc9c950c09a23f7983629e6f23ac408a872fac8.jpg\n"
     ]
    },
    {
     "name": "stderr",
     "output_type": "stream",
     "text": [
      " 81%|████████  | 2218/2737 [14:08<03:25,  2.52it/s]"
     ]
    },
    {
     "name": "stdout",
     "output_type": "stream",
     "text": [
      "../input/painting-vs-photograph-classification-dataset/Raw Data/photos/ef351fb2402196c7162cc4e2c7282e7b9798f0f6.jpg\n"
     ]
    },
    {
     "name": "stderr",
     "output_type": "stream",
     "text": [
      " 81%|████████  | 2219/2737 [14:08<02:58,  2.91it/s]"
     ]
    },
    {
     "name": "stdout",
     "output_type": "stream",
     "text": [
      "../input/painting-vs-photograph-classification-dataset/Raw Data/photos/26349ed99057e4bc57c3c1a6d1720922b3357fda.jpg\n"
     ]
    },
    {
     "name": "stderr",
     "output_type": "stream",
     "text": [
      " 81%|████████  | 2220/2737 [14:09<02:36,  3.30it/s]"
     ]
    },
    {
     "name": "stdout",
     "output_type": "stream",
     "text": [
      "../input/painting-vs-photograph-classification-dataset/Raw Data/photos/ff043eaf79c3b4b374a057578690c403161d0001.jpg\n"
     ]
    },
    {
     "name": "stderr",
     "output_type": "stream",
     "text": [
      " 81%|████████  | 2221/2737 [14:09<02:23,  3.60it/s]"
     ]
    },
    {
     "name": "stdout",
     "output_type": "stream",
     "text": [
      "../input/painting-vs-photograph-classification-dataset/Raw Data/photos/c0a8e0cab1627bc8bd5f63297fc906422f87ea53.jpg\n"
     ]
    },
    {
     "name": "stderr",
     "output_type": "stream",
     "text": [
      " 81%|████████  | 2222/2737 [14:09<02:16,  3.78it/s]"
     ]
    },
    {
     "name": "stdout",
     "output_type": "stream",
     "text": [
      "../input/painting-vs-photograph-classification-dataset/Raw Data/painting/16e5cacb9816b138c0e86504ca16726ecb270ace.jpg\n"
     ]
    },
    {
     "name": "stderr",
     "output_type": "stream",
     "text": [
      " 81%|████████▏ | 2224/2737 [14:10<02:27,  3.47it/s]"
     ]
    },
    {
     "name": "stdout",
     "output_type": "stream",
     "text": [
      "../input/painting-vs-photograph-classification-dataset/Raw Data/photos/eca14c19cc9b78ebfbf2610c7b4bb9ff01c2631b.jpg\n",
      "../input/painting-vs-photograph-classification-dataset/Raw Data/painting/897e43463ebfda9093c32c427946ff8911dc6582.jpg\n"
     ]
    },
    {
     "name": "stderr",
     "output_type": "stream",
     "text": [
      " 81%|████████▏ | 2225/2737 [14:11<03:45,  2.27it/s]"
     ]
    },
    {
     "name": "stdout",
     "output_type": "stream",
     "text": [
      "../input/painting-vs-photograph-classification-dataset/Raw Data/painting/28c66add22ff6474d0191dd632278e581f78e85d.jpg\n"
     ]
    },
    {
     "name": "stderr",
     "output_type": "stream",
     "text": [
      " 81%|████████▏ | 2226/2737 [14:11<03:47,  2.25it/s]"
     ]
    },
    {
     "name": "stdout",
     "output_type": "stream",
     "text": [
      "../input/painting-vs-photograph-classification-dataset/Raw Data/painting/41ad7519ea4cfd560661e8dc33c263fb27262e13.jpg\n"
     ]
    },
    {
     "name": "stderr",
     "output_type": "stream",
     "text": [
      " 81%|████████▏ | 2228/2737 [14:12<03:44,  2.27it/s]"
     ]
    },
    {
     "name": "stdout",
     "output_type": "stream",
     "text": [
      "../input/painting-vs-photograph-classification-dataset/Raw Data/photos/e5ca8dfae9bfdf495f0d2e9d44d076fd89d29372.jpg\n"
     ]
    },
    {
     "name": "stderr",
     "output_type": "stream",
     "text": [
      " 81%|████████▏ | 2230/2737 [14:12<02:41,  3.15it/s]"
     ]
    },
    {
     "name": "stdout",
     "output_type": "stream",
     "text": [
      "../input/painting-vs-photograph-classification-dataset/Raw Data/photos/f4c9ece7280ce59f97435cddbb09fac17bd120fc.jpg\n",
      "../input/painting-vs-photograph-classification-dataset/Raw Data/photos/f44816d92f8c82bcab249888661efa39fd4b00f5.jpg\n",
      "../input/painting-vs-photograph-classification-dataset/Raw Data/painting/dc3eb0bc5c63e33636bdc6205c23f53b897b80ad.jpg\n"
     ]
    },
    {
     "name": "stderr",
     "output_type": "stream",
     "text": [
      " 82%|████████▏ | 2231/2737 [14:13<03:50,  2.20it/s]"
     ]
    },
    {
     "name": "stdout",
     "output_type": "stream",
     "text": [
      "../input/painting-vs-photograph-classification-dataset/Raw Data/painting/fb2b8ad10dc0377de647dfc00e53e28949ad3e3a.jpg\n"
     ]
    },
    {
     "name": "stderr",
     "output_type": "stream",
     "text": [
      " 82%|████████▏ | 2232/2737 [14:14<04:30,  1.87it/s]"
     ]
    },
    {
     "name": "stdout",
     "output_type": "stream",
     "text": [
      "../input/painting-vs-photograph-classification-dataset/Raw Data/photos/0031bc764289af1b7423aae9d9531de6f4e4f8ee.jpg\n"
     ]
    },
    {
     "name": "stderr",
     "output_type": "stream",
     "text": [
      " 82%|████████▏ | 2233/2737 [14:14<03:44,  2.24it/s]"
     ]
    },
    {
     "name": "stdout",
     "output_type": "stream",
     "text": [
      "../input/painting-vs-photograph-classification-dataset/Raw Data/photos/fe7ca07e5e9527d1dbe240af95d16479e0fb2222.jpg\n"
     ]
    },
    {
     "name": "stderr",
     "output_type": "stream",
     "text": [
      " 82%|████████▏ | 2234/2737 [14:14<03:21,  2.50it/s]"
     ]
    },
    {
     "name": "stdout",
     "output_type": "stream",
     "text": [
      "../input/painting-vs-photograph-classification-dataset/Raw Data/painting/f78cdebefa5f5330a1eda637e9bdd039f982a6f9.jpg\n"
     ]
    },
    {
     "name": "stderr",
     "output_type": "stream",
     "text": [
      " 82%|████████▏ | 2235/2737 [14:15<04:40,  1.79it/s]"
     ]
    },
    {
     "name": "stdout",
     "output_type": "stream",
     "text": [
      "../input/painting-vs-photograph-classification-dataset/Raw Data/painting/13a8236fa8c92490a2dbfe9d055aef637646eb1f.jpg\n"
     ]
    },
    {
     "name": "stderr",
     "output_type": "stream",
     "text": [
      " 82%|████████▏ | 2237/2737 [14:16<04:11,  1.99it/s]"
     ]
    },
    {
     "name": "stdout",
     "output_type": "stream",
     "text": [
      "../input/painting-vs-photograph-classification-dataset/Raw Data/photos/c70bbde2b501b64f3f6b96d8c77dd9dce602f176.jpg\n",
      "../input/painting-vs-photograph-classification-dataset/Raw Data/photos/a03a57bcbf057b1fc10e3e03a8807682f38129a5.jpg\n"
     ]
    },
    {
     "name": "stderr",
     "output_type": "stream",
     "text": [
      " 82%|████████▏ | 2238/2737 [14:16<03:20,  2.49it/s]"
     ]
    },
    {
     "name": "stdout",
     "output_type": "stream",
     "text": [
      "../input/painting-vs-photograph-classification-dataset/Raw Data/photos/9070a871f4c6b5cafbfdc56bf1f314819d9b7e9d.jpg\n"
     ]
    },
    {
     "name": "stderr",
     "output_type": "stream",
     "text": [
      " 82%|████████▏ | 2239/2737 [14:17<03:00,  2.76it/s]"
     ]
    },
    {
     "name": "stdout",
     "output_type": "stream",
     "text": [
      "../input/painting-vs-photograph-classification-dataset/Raw Data/photos/eb02fc1da4a4c469d08b6bac46b01b6150111fc3.jpg\n"
     ]
    },
    {
     "name": "stderr",
     "output_type": "stream",
     "text": [
      " 82%|████████▏ | 2241/2737 [14:17<02:20,  3.54it/s]"
     ]
    },
    {
     "name": "stdout",
     "output_type": "stream",
     "text": [
      "../input/painting-vs-photograph-classification-dataset/Raw Data/photos/a9124678af929164ee2b4c754daaa99e61f9781b.jpg\n",
      "../input/painting-vs-photograph-classification-dataset/Raw Data/painting/f8a01d08f92168a65be299e89e4c06b7517934e1.jpg\n"
     ]
    },
    {
     "name": "stderr",
     "output_type": "stream",
     "text": [
      " 82%|████████▏ | 2242/2737 [14:18<02:56,  2.81it/s]"
     ]
    },
    {
     "name": "stdout",
     "output_type": "stream",
     "text": [
      "../input/painting-vs-photograph-classification-dataset/Raw Data/photos/468d068144a78e96dc985f752245c67fd3dae186.jpg\n"
     ]
    },
    {
     "name": "stderr",
     "output_type": "stream",
     "text": [
      " 82%|████████▏ | 2243/2737 [14:18<02:39,  3.10it/s]"
     ]
    },
    {
     "name": "stdout",
     "output_type": "stream",
     "text": [
      "../input/painting-vs-photograph-classification-dataset/Raw Data/photos/d5632ea6224436596497f0ff51cb5939cd4366b3.jpg\n"
     ]
    },
    {
     "name": "stderr",
     "output_type": "stream",
     "text": [
      " 82%|████████▏ | 2245/2737 [14:18<02:10,  3.77it/s]"
     ]
    },
    {
     "name": "stdout",
     "output_type": "stream",
     "text": [
      "../input/painting-vs-photograph-classification-dataset/Raw Data/photos/120e680df095396eda7963e704628c51ff38498f.jpg\n",
      "../input/painting-vs-photograph-classification-dataset/Raw Data/photos/f51e945a327e1cfa8fbcc5dab45c8e47c4b1ca6f.jpg\n"
     ]
    },
    {
     "name": "stderr",
     "output_type": "stream",
     "text": [
      " 82%|████████▏ | 2246/2737 [14:19<02:06,  3.88it/s]"
     ]
    },
    {
     "name": "stdout",
     "output_type": "stream",
     "text": [
      "../input/painting-vs-photograph-classification-dataset/Raw Data/photos/71a8a02b9adadf6885ecee2bb0137c29654555d5.jpg\n"
     ]
    },
    {
     "name": "stderr",
     "output_type": "stream",
     "text": [
      " 82%|████████▏ | 2247/2737 [14:19<02:02,  4.01it/s]"
     ]
    },
    {
     "name": "stdout",
     "output_type": "stream",
     "text": [
      "../input/painting-vs-photograph-classification-dataset/Raw Data/photos/61a19e10f407b757b721f4f082c149e4f0f78b84.jpg\n"
     ]
    },
    {
     "name": "stderr",
     "output_type": "stream",
     "text": [
      " 82%|████████▏ | 2248/2737 [14:19<01:59,  4.09it/s]"
     ]
    },
    {
     "name": "stdout",
     "output_type": "stream",
     "text": [
      "../input/painting-vs-photograph-classification-dataset/Raw Data/photos/adde2187e040823b285e6d7df47306a0ea74697f.jpg\n"
     ]
    },
    {
     "name": "stderr",
     "output_type": "stream",
     "text": [
      " 82%|████████▏ | 2249/2737 [14:19<01:59,  4.10it/s]"
     ]
    },
    {
     "name": "stdout",
     "output_type": "stream",
     "text": [
      "../input/painting-vs-photograph-classification-dataset/Raw Data/painting/e83366475aee6f82cf069d47d07b493cb6228fd7.jpg\n"
     ]
    },
    {
     "name": "stderr",
     "output_type": "stream",
     "text": [
      " 82%|████████▏ | 2250/2737 [14:20<03:26,  2.36it/s]"
     ]
    },
    {
     "name": "stdout",
     "output_type": "stream",
     "text": [
      "../input/painting-vs-photograph-classification-dataset/Raw Data/photos/c68b4b704b98d1e9b2abd45b65fc14a324085a73.jpg\n"
     ]
    },
    {
     "name": "stderr",
     "output_type": "stream",
     "text": [
      " 82%|████████▏ | 2251/2737 [14:20<02:59,  2.71it/s]"
     ]
    },
    {
     "name": "stdout",
     "output_type": "stream",
     "text": [
      "../input/painting-vs-photograph-classification-dataset/Raw Data/photos/41a5bb6143fa2386dd6f9441b3114a7fd36b812e.jpg\n"
     ]
    },
    {
     "name": "stderr",
     "output_type": "stream",
     "text": [
      " 82%|████████▏ | 2252/2737 [14:21<02:41,  3.01it/s]"
     ]
    },
    {
     "name": "stdout",
     "output_type": "stream",
     "text": [
      "../input/painting-vs-photograph-classification-dataset/Raw Data/photos/74ef08f079f047cbd9ff02ddb4ce0e65b38b8e23.jpg\n"
     ]
    },
    {
     "name": "stderr",
     "output_type": "stream",
     "text": [
      " 82%|████████▏ | 2254/2737 [14:21<02:10,  3.71it/s]"
     ]
    },
    {
     "name": "stdout",
     "output_type": "stream",
     "text": [
      "../input/painting-vs-photograph-classification-dataset/Raw Data/photos/939e78d2eb0925debb1b4dfda02fa8c970e8b56a.jpg\n",
      "../input/painting-vs-photograph-classification-dataset/Raw Data/photos/aeb5be7c659b9b63d2a9f347e35e9591adf4b855.jpg\n"
     ]
    },
    {
     "name": "stderr",
     "output_type": "stream",
     "text": [
      " 82%|████████▏ | 2255/2737 [14:21<02:07,  3.78it/s]"
     ]
    },
    {
     "name": "stdout",
     "output_type": "stream",
     "text": [
      "../input/painting-vs-photograph-classification-dataset/Raw Data/painting/450274eaefb9e436b98119802fcd033c872ac3f2.jpg\n"
     ]
    },
    {
     "name": "stderr",
     "output_type": "stream",
     "text": [
      " 82%|████████▏ | 2256/2737 [14:22<03:07,  2.56it/s]"
     ]
    },
    {
     "name": "stdout",
     "output_type": "stream",
     "text": [
      "../input/painting-vs-photograph-classification-dataset/Raw Data/photos/8637b3e7c6d0b61aad62c04b38dcbe1bd8ba1bfd.jpg\n"
     ]
    },
    {
     "name": "stderr",
     "output_type": "stream",
     "text": [
      " 82%|████████▏ | 2257/2737 [14:22<02:42,  2.95it/s]"
     ]
    },
    {
     "name": "stdout",
     "output_type": "stream",
     "text": [
      "../input/painting-vs-photograph-classification-dataset/Raw Data/photos/a6359455484279afc4f0c0b1fc304f9c21b7ad92.jpg\n"
     ]
    },
    {
     "name": "stderr",
     "output_type": "stream",
     "text": [
      " 82%|████████▏ | 2258/2737 [14:22<02:29,  3.21it/s]"
     ]
    },
    {
     "name": "stdout",
     "output_type": "stream",
     "text": [
      "../input/painting-vs-photograph-classification-dataset/Raw Data/photos/eb38a77c699b1649dbadc3f8aa90053c22ea9956.jpg\n"
     ]
    },
    {
     "name": "stderr",
     "output_type": "stream",
     "text": [
      " 83%|████████▎ | 2259/2737 [14:23<02:17,  3.48it/s]"
     ]
    },
    {
     "name": "stdout",
     "output_type": "stream",
     "text": [
      "../input/painting-vs-photograph-classification-dataset/Raw Data/painting/728e9baa85169cdf4b0bb667a210087066e725ff.jpg\n"
     ]
    },
    {
     "name": "stderr",
     "output_type": "stream",
     "text": [
      " 83%|████████▎ | 2260/2737 [14:23<03:28,  2.29it/s]"
     ]
    },
    {
     "name": "stdout",
     "output_type": "stream",
     "text": [
      "../input/painting-vs-photograph-classification-dataset/Raw Data/photos/a725b03b74ff8d3739a12bc98ec87152c273bb4b.jpg\n"
     ]
    },
    {
     "name": "stderr",
     "output_type": "stream",
     "text": [
      " 83%|████████▎ | 2261/2737 [14:24<02:59,  2.65it/s]"
     ]
    },
    {
     "name": "stdout",
     "output_type": "stream",
     "text": [
      "../input/painting-vs-photograph-classification-dataset/Raw Data/photos/424d5fb38fec9dd05520293c8233f4197326647d.jpg\n"
     ]
    },
    {
     "name": "stderr",
     "output_type": "stream",
     "text": [
      " 83%|████████▎ | 2262/2737 [14:24<02:37,  3.02it/s]"
     ]
    },
    {
     "name": "stdout",
     "output_type": "stream",
     "text": [
      "../input/painting-vs-photograph-classification-dataset/Raw Data/photos/254d3a8fe1831a708245b5b828269c744455433d.jpg\n"
     ]
    },
    {
     "name": "stderr",
     "output_type": "stream",
     "text": [
      " 83%|████████▎ | 2263/2737 [14:24<02:22,  3.33it/s]"
     ]
    },
    {
     "name": "stdout",
     "output_type": "stream",
     "text": [
      "../input/painting-vs-photograph-classification-dataset/Raw Data/photos/a3f91ab2d7d51cbade6a10e39d9ba571d8aece0d.jpg\n"
     ]
    },
    {
     "name": "stderr",
     "output_type": "stream",
     "text": [
      " 83%|████████▎ | 2264/2737 [14:24<02:12,  3.58it/s]"
     ]
    },
    {
     "name": "stdout",
     "output_type": "stream",
     "text": [
      "../input/painting-vs-photograph-classification-dataset/Raw Data/photos/adc05b7154da9bd08588edb8f52b94a8b714d87c.jpg\n"
     ]
    },
    {
     "name": "stderr",
     "output_type": "stream",
     "text": [
      " 83%|████████▎ | 2265/2737 [14:25<02:04,  3.78it/s]"
     ]
    },
    {
     "name": "stdout",
     "output_type": "stream",
     "text": [
      "../input/painting-vs-photograph-classification-dataset/Raw Data/photos/5925c5caf87514287ac136d3a36fb5baaa260263.jpg\n"
     ]
    },
    {
     "name": "stderr",
     "output_type": "stream",
     "text": [
      " 83%|████████▎ | 2266/2737 [14:25<02:00,  3.90it/s]"
     ]
    },
    {
     "name": "stdout",
     "output_type": "stream",
     "text": [
      "../input/painting-vs-photograph-classification-dataset/Raw Data/photos/f6529c8f6ec79ee10767e3236bc0b5ce6636acc9.jpg\n"
     ]
    },
    {
     "name": "stderr",
     "output_type": "stream",
     "text": [
      " 83%|████████▎ | 2267/2737 [14:25<01:54,  4.09it/s]"
     ]
    },
    {
     "name": "stdout",
     "output_type": "stream",
     "text": [
      "../input/painting-vs-photograph-classification-dataset/Raw Data/photos/b8a15411e45512caf3c83d74c2e9da1e49527f33.jpg\n"
     ]
    },
    {
     "name": "stderr",
     "output_type": "stream",
     "text": [
      " 83%|████████▎ | 2268/2737 [14:25<01:54,  4.09it/s]"
     ]
    },
    {
     "name": "stdout",
     "output_type": "stream",
     "text": [
      "../input/painting-vs-photograph-classification-dataset/Raw Data/painting/faeb72713d6d104322cb39132dfba861144e1a2d.jpg\n"
     ]
    },
    {
     "name": "stderr",
     "output_type": "stream",
     "text": [
      " 83%|████████▎ | 2269/2737 [14:26<02:31,  3.09it/s]"
     ]
    },
    {
     "name": "stdout",
     "output_type": "stream",
     "text": [
      "../input/painting-vs-photograph-classification-dataset/Raw Data/photos/deb1fb693875c6ffbd6bccb5f17c43edbcf3ace6.jpg\n"
     ]
    },
    {
     "name": "stderr",
     "output_type": "stream",
     "text": [
      " 83%|████████▎ | 2270/2737 [14:26<02:17,  3.40it/s]"
     ]
    },
    {
     "name": "stdout",
     "output_type": "stream",
     "text": [
      "../input/painting-vs-photograph-classification-dataset/Raw Data/photos/c96999715d5b9214b8b7ef8bd3801feccd3e7a95.jpg\n"
     ]
    },
    {
     "name": "stderr",
     "output_type": "stream",
     "text": [
      " 83%|████████▎ | 2271/2737 [14:26<02:06,  3.69it/s]"
     ]
    },
    {
     "name": "stdout",
     "output_type": "stream",
     "text": [
      "../input/painting-vs-photograph-classification-dataset/Raw Data/photos/91e940f5793c69eca83effbddb909e7c922ddb28.jpg\n"
     ]
    },
    {
     "name": "stderr",
     "output_type": "stream",
     "text": [
      " 83%|████████▎ | 2273/2737 [14:27<01:48,  4.26it/s]"
     ]
    },
    {
     "name": "stdout",
     "output_type": "stream",
     "text": [
      "../input/painting-vs-photograph-classification-dataset/Raw Data/photos/6f9084f2164871ea60adf7d2b2e72640b4e2a001.jpg\n",
      "../input/painting-vs-photograph-classification-dataset/Raw Data/painting/b8420c6457fb2a75c646c64faeb20142451f738d.jpg\n"
     ]
    },
    {
     "name": "stderr",
     "output_type": "stream",
     "text": [
      " 83%|████████▎ | 2275/2737 [14:28<02:25,  3.17it/s]"
     ]
    },
    {
     "name": "stdout",
     "output_type": "stream",
     "text": [
      "../input/painting-vs-photograph-classification-dataset/Raw Data/photos/d16a58e13fe950c193f9145f92399af737b68fac.jpg\n",
      "../input/painting-vs-photograph-classification-dataset/Raw Data/photos/f31f2277e6aeea25e7513525accd02d25412367f.jpg\n"
     ]
    },
    {
     "name": "stderr",
     "output_type": "stream",
     "text": [
      " 83%|████████▎ | 2276/2737 [14:28<02:06,  3.65it/s]"
     ]
    },
    {
     "name": "stdout",
     "output_type": "stream",
     "text": [
      "../input/painting-vs-photograph-classification-dataset/Raw Data/photos/e931d6d471de930da69a55b0b6fad869baeb80d6.jpg\n"
     ]
    },
    {
     "name": "stderr",
     "output_type": "stream",
     "text": [
      " 83%|████████▎ | 2277/2737 [14:28<01:59,  3.86it/s]"
     ]
    },
    {
     "name": "stdout",
     "output_type": "stream",
     "text": [
      "../input/painting-vs-photograph-classification-dataset/Raw Data/painting/3addb549e09577ce5779db80d2f66daa3ac0593f.jpg\n"
     ]
    },
    {
     "name": "stderr",
     "output_type": "stream",
     "text": [
      " 83%|████████▎ | 2278/2737 [14:29<03:28,  2.20it/s]"
     ]
    },
    {
     "name": "stdout",
     "output_type": "stream",
     "text": [
      "../input/painting-vs-photograph-classification-dataset/Raw Data/photos/61f494a441eca280d58b144d61c9922cf47f6ab5.jpg\n"
     ]
    },
    {
     "name": "stderr",
     "output_type": "stream",
     "text": [
      " 83%|████████▎ | 2279/2737 [14:29<02:55,  2.60it/s]"
     ]
    },
    {
     "name": "stdout",
     "output_type": "stream",
     "text": [
      "../input/painting-vs-photograph-classification-dataset/Raw Data/painting/8522258394be68b309cc5f65693865e8523111d1.jpg\n"
     ]
    },
    {
     "name": "stderr",
     "output_type": "stream",
     "text": [
      " 83%|████████▎ | 2280/2737 [14:30<03:38,  2.09it/s]"
     ]
    },
    {
     "name": "stdout",
     "output_type": "stream",
     "text": [
      "../input/painting-vs-photograph-classification-dataset/Raw Data/painting/f0e44a2779f3b102a8595c18f526a8fe15313a0c.jpg\n"
     ]
    },
    {
     "name": "stderr",
     "output_type": "stream",
     "text": [
      " 83%|████████▎ | 2281/2737 [14:31<04:16,  1.78it/s]"
     ]
    },
    {
     "name": "stdout",
     "output_type": "stream",
     "text": [
      "../input/painting-vs-photograph-classification-dataset/Raw Data/photos/f6ccdbf3725433a5b68239714ad0af71f6d0b1df.jpg\n"
     ]
    },
    {
     "name": "stderr",
     "output_type": "stream",
     "text": [
      " 83%|████████▎ | 2282/2737 [14:31<03:30,  2.16it/s]"
     ]
    },
    {
     "name": "stdout",
     "output_type": "stream",
     "text": [
      "../input/painting-vs-photograph-classification-dataset/Raw Data/photos/cb1ea0c9f2c0f23f8a5abf812aa997bca43d25e8.jpg\n"
     ]
    },
    {
     "name": "stderr",
     "output_type": "stream",
     "text": [
      " 83%|████████▎ | 2284/2737 [14:31<02:29,  3.04it/s]"
     ]
    },
    {
     "name": "stdout",
     "output_type": "stream",
     "text": [
      "../input/painting-vs-photograph-classification-dataset/Raw Data/photos/59319ae6212c8ec5471ffb6a207ef82fcd7b075f.jpg\n",
      "../input/painting-vs-photograph-classification-dataset/Raw Data/painting/18c859cdcf4d4a789dd3ba26f1935076de5c9e40.jpg\n"
     ]
    },
    {
     "name": "stderr",
     "output_type": "stream",
     "text": [
      " 83%|████████▎ | 2285/2737 [14:32<03:30,  2.15it/s]"
     ]
    },
    {
     "name": "stdout",
     "output_type": "stream",
     "text": [
      "../input/painting-vs-photograph-classification-dataset/Raw Data/photos/d16b8b9a8868eeabec948826075f519ed0f63a11.jpg\n"
     ]
    },
    {
     "name": "stderr",
     "output_type": "stream",
     "text": [
      " 84%|████████▎ | 2286/2737 [14:32<02:55,  2.57it/s]"
     ]
    },
    {
     "name": "stdout",
     "output_type": "stream",
     "text": [
      "../input/painting-vs-photograph-classification-dataset/Raw Data/photos/58f69e5a493bcedc4414dbb8e8538c94f30c8d4d.jpg\n"
     ]
    },
    {
     "name": "stderr",
     "output_type": "stream",
     "text": [
      " 84%|████████▎ | 2287/2737 [14:32<02:40,  2.81it/s]"
     ]
    },
    {
     "name": "stdout",
     "output_type": "stream",
     "text": [
      "../input/painting-vs-photograph-classification-dataset/Raw Data/painting/4c0156ac7f095149fc65bff3f83c5f9767a27297.jpg\n"
     ]
    },
    {
     "name": "stderr",
     "output_type": "stream",
     "text": [
      " 84%|████████▎ | 2288/2737 [14:34<04:14,  1.76it/s]"
     ]
    },
    {
     "name": "stdout",
     "output_type": "stream",
     "text": [
      "../input/painting-vs-photograph-classification-dataset/Raw Data/painting/f51ed55f008db1cc8df7d36cb54e4a460c15b991.jpg\n"
     ]
    },
    {
     "name": "stderr",
     "output_type": "stream",
     "text": [
      " 84%|████████▎ | 2289/2737 [14:34<03:38,  2.05it/s]"
     ]
    },
    {
     "name": "stdout",
     "output_type": "stream",
     "text": [
      "../input/painting-vs-photograph-classification-dataset/Raw Data/photos/ba20947d4d5a26b8f669d22f41eccd5fda96ed2e.jpg\n"
     ]
    },
    {
     "name": "stderr",
     "output_type": "stream",
     "text": [
      " 84%|████████▎ | 2290/2737 [14:34<03:06,  2.39it/s]"
     ]
    },
    {
     "name": "stdout",
     "output_type": "stream",
     "text": [
      "../input/painting-vs-photograph-classification-dataset/Raw Data/photos/e21e6a701a1051fa29168ba1c0b90c0ade64b7f7.jpg\n"
     ]
    },
    {
     "name": "stderr",
     "output_type": "stream",
     "text": [
      " 84%|████████▎ | 2291/2737 [14:34<02:43,  2.73it/s]"
     ]
    },
    {
     "name": "stdout",
     "output_type": "stream",
     "text": [
      "../input/painting-vs-photograph-classification-dataset/Raw Data/photos/cc956ffaa154c61a82922e7052e6a44ac12db227.jpg\n"
     ]
    },
    {
     "name": "stderr",
     "output_type": "stream",
     "text": [
      " 84%|████████▎ | 2292/2737 [14:35<02:36,  2.84it/s]"
     ]
    },
    {
     "name": "stdout",
     "output_type": "stream",
     "text": [
      "../input/painting-vs-photograph-classification-dataset/Raw Data/photos/dbc31f0f40111b4dda2d330ea58047c4a2a794cb.jpg\n"
     ]
    },
    {
     "name": "stderr",
     "output_type": "stream",
     "text": [
      " 84%|████████▍ | 2293/2737 [14:35<02:18,  3.21it/s]"
     ]
    },
    {
     "name": "stdout",
     "output_type": "stream",
     "text": [
      "../input/painting-vs-photograph-classification-dataset/Raw Data/photos/57990c218c8f43be377acdc17e7b16aa73a25f82.jpg\n"
     ]
    },
    {
     "name": "stderr",
     "output_type": "stream",
     "text": [
      " 84%|████████▍ | 2294/2737 [14:35<02:08,  3.46it/s]"
     ]
    },
    {
     "name": "stdout",
     "output_type": "stream",
     "text": [
      "../input/painting-vs-photograph-classification-dataset/Raw Data/photos/d31d7c1a55ac4e3957534dfedbd6422272da7c50.jpg\n"
     ]
    },
    {
     "name": "stderr",
     "output_type": "stream",
     "text": [
      " 84%|████████▍ | 2295/2737 [14:35<01:57,  3.75it/s]"
     ]
    },
    {
     "name": "stdout",
     "output_type": "stream",
     "text": [
      "../input/painting-vs-photograph-classification-dataset/Raw Data/painting/c81b1b706d3dd213b96b373ae759838e5ff13810.jpg\n"
     ]
    },
    {
     "name": "stderr",
     "output_type": "stream",
     "text": [
      " 84%|████████▍ | 2296/2737 [14:36<03:40,  2.00it/s]"
     ]
    },
    {
     "name": "stdout",
     "output_type": "stream",
     "text": [
      "../input/painting-vs-photograph-classification-dataset/Raw Data/photos/61e256a11702d07bae91ee6659f37c7413aa98b6.jpg\n"
     ]
    },
    {
     "name": "stderr",
     "output_type": "stream",
     "text": [
      " 84%|████████▍ | 2297/2737 [14:37<03:04,  2.39it/s]"
     ]
    },
    {
     "name": "stdout",
     "output_type": "stream",
     "text": [
      "../input/painting-vs-photograph-classification-dataset/Raw Data/photos/8c9f2ec50ad6df09514e9dfa93ade1015476d88d.jpg\n"
     ]
    },
    {
     "name": "stderr",
     "output_type": "stream",
     "text": [
      " 84%|████████▍ | 2298/2737 [14:37<02:40,  2.74it/s]"
     ]
    },
    {
     "name": "stdout",
     "output_type": "stream",
     "text": [
      "../input/painting-vs-photograph-classification-dataset/Raw Data/painting/e07105e5ffb714f2c1a75f0d1c2fd9e9f8a58968.jpg\n"
     ]
    },
    {
     "name": "stderr",
     "output_type": "stream",
     "text": [
      " 84%|████████▍ | 2299/2737 [14:38<03:26,  2.12it/s]"
     ]
    },
    {
     "name": "stdout",
     "output_type": "stream",
     "text": [
      "../input/painting-vs-photograph-classification-dataset/Raw Data/photos/e948402b41ee2c5c774574c24f36807e2e6cc2dd.jpg\n"
     ]
    },
    {
     "name": "stderr",
     "output_type": "stream",
     "text": [
      " 84%|████████▍ | 2300/2737 [14:38<02:55,  2.48it/s]"
     ]
    },
    {
     "name": "stdout",
     "output_type": "stream",
     "text": [
      "../input/painting-vs-photograph-classification-dataset/Raw Data/photos/153fa7b381b769d93da3d3c7b5e3cc97722ab1d7.jpg\n"
     ]
    },
    {
     "name": "stderr",
     "output_type": "stream",
     "text": [
      " 84%|████████▍ | 2301/2737 [14:38<02:33,  2.85it/s]"
     ]
    },
    {
     "name": "stdout",
     "output_type": "stream",
     "text": [
      "../input/painting-vs-photograph-classification-dataset/Raw Data/painting/44e0534e9b8f9c99de9fd69c7ad4a6961c78196d.jpg\n"
     ]
    },
    {
     "name": "stderr",
     "output_type": "stream",
     "text": [
      " 84%|████████▍ | 2302/2737 [14:39<03:28,  2.09it/s]"
     ]
    },
    {
     "name": "stdout",
     "output_type": "stream",
     "text": [
      "../input/painting-vs-photograph-classification-dataset/Raw Data/photos/6c94895be763c6e3f08430ec70e27dc306364e40.jpg\n"
     ]
    },
    {
     "name": "stderr",
     "output_type": "stream",
     "text": [
      " 84%|████████▍ | 2303/2737 [14:39<02:55,  2.47it/s]"
     ]
    },
    {
     "name": "stdout",
     "output_type": "stream",
     "text": [
      "../input/painting-vs-photograph-classification-dataset/Raw Data/painting/4f89dd55ca5c93c5834288c2931030f34d946980.jpg\n"
     ]
    },
    {
     "name": "stderr",
     "output_type": "stream",
     "text": [
      " 84%|████████▍ | 2304/2737 [14:40<03:45,  1.92it/s]"
     ]
    },
    {
     "name": "stdout",
     "output_type": "stream",
     "text": [
      "../input/painting-vs-photograph-classification-dataset/Raw Data/photos/410534193867dde784778cf2c931aa8a73ce2690.jpg\n"
     ]
    },
    {
     "name": "stderr",
     "output_type": "stream",
     "text": [
      " 84%|████████▍ | 2305/2737 [14:40<03:08,  2.29it/s]"
     ]
    },
    {
     "name": "stdout",
     "output_type": "stream",
     "text": [
      "../input/painting-vs-photograph-classification-dataset/Raw Data/photos/ec7a1f59b297efeacdd7a23cc04a8e8a55c13d20.jpg\n"
     ]
    },
    {
     "name": "stderr",
     "output_type": "stream",
     "text": [
      " 84%|████████▍ | 2306/2737 [14:40<02:45,  2.61it/s]"
     ]
    },
    {
     "name": "stdout",
     "output_type": "stream",
     "text": [
      "../input/painting-vs-photograph-classification-dataset/Raw Data/painting/1df41b223f39de7b4096f37859f6391de62afaf7.jpg\n"
     ]
    },
    {
     "name": "stderr",
     "output_type": "stream",
     "text": [
      " 84%|████████▍ | 2307/2737 [14:41<03:18,  2.16it/s]"
     ]
    },
    {
     "name": "stdout",
     "output_type": "stream",
     "text": [
      "../input/painting-vs-photograph-classification-dataset/Raw Data/photos/993cc685b095a2498dc5d89ec6109332b981c90c.jpg\n"
     ]
    },
    {
     "name": "stderr",
     "output_type": "stream",
     "text": [
      " 84%|████████▍ | 2308/2737 [14:41<02:49,  2.53it/s]"
     ]
    },
    {
     "name": "stdout",
     "output_type": "stream",
     "text": [
      "../input/painting-vs-photograph-classification-dataset/Raw Data/photos/740ac06452f825a0d59161030cf4ceec23ec26ec.jpg\n"
     ]
    },
    {
     "name": "stderr",
     "output_type": "stream",
     "text": [
      " 84%|████████▍ | 2309/2737 [14:41<02:25,  2.94it/s]"
     ]
    },
    {
     "name": "stdout",
     "output_type": "stream",
     "text": [
      "../input/painting-vs-photograph-classification-dataset/Raw Data/photos/c28d505abc28ebf4544e2fd000f2c679e9abbce0.jpg\n"
     ]
    },
    {
     "name": "stderr",
     "output_type": "stream",
     "text": [
      " 84%|████████▍ | 2310/2737 [14:42<02:09,  3.31it/s]"
     ]
    },
    {
     "name": "stdout",
     "output_type": "stream",
     "text": [
      "../input/painting-vs-photograph-classification-dataset/Raw Data/photos/b2557411204137cb75e486c127c8ddba742c9bbb.jpg\n"
     ]
    },
    {
     "name": "stderr",
     "output_type": "stream",
     "text": [
      " 84%|████████▍ | 2311/2737 [14:42<01:58,  3.59it/s]"
     ]
    },
    {
     "name": "stdout",
     "output_type": "stream",
     "text": [
      "../input/painting-vs-photograph-classification-dataset/Raw Data/photos/e5d727eccdb72c5137f9884672315599e86756fb.jpg\n"
     ]
    },
    {
     "name": "stderr",
     "output_type": "stream",
     "text": [
      " 84%|████████▍ | 2312/2737 [14:42<01:56,  3.64it/s]"
     ]
    },
    {
     "name": "stdout",
     "output_type": "stream",
     "text": [
      "../input/painting-vs-photograph-classification-dataset/Raw Data/photos/d5a6f20499c3ffd9cca22a966b13d95539127786.jpg\n"
     ]
    },
    {
     "name": "stderr",
     "output_type": "stream",
     "text": [
      " 85%|████████▍ | 2313/2737 [14:42<01:48,  3.91it/s]"
     ]
    },
    {
     "name": "stdout",
     "output_type": "stream",
     "text": [
      "../input/painting-vs-photograph-classification-dataset/Raw Data/photos/730eae4415cc2c8cf281d5aa03b2fe2d7a89c2dc.jpg\n"
     ]
    },
    {
     "name": "stderr",
     "output_type": "stream",
     "text": [
      " 85%|████████▍ | 2314/2737 [14:43<02:06,  3.34it/s]"
     ]
    },
    {
     "name": "stdout",
     "output_type": "stream",
     "text": [
      "../input/painting-vs-photograph-classification-dataset/Raw Data/photos/5316444ed078bb75e7ae2292e1c4ead9cbc0eb65.jpg\n"
     ]
    },
    {
     "name": "stderr",
     "output_type": "stream",
     "text": [
      " 85%|████████▍ | 2315/2737 [14:43<01:56,  3.63it/s]"
     ]
    },
    {
     "name": "stdout",
     "output_type": "stream",
     "text": [
      "../input/painting-vs-photograph-classification-dataset/Raw Data/photos/344a22f11e01e0a9c97fc655c0d19222ee7f536c.jpg\n"
     ]
    },
    {
     "name": "stderr",
     "output_type": "stream",
     "text": [
      " 85%|████████▍ | 2316/2737 [14:43<01:50,  3.82it/s]"
     ]
    },
    {
     "name": "stdout",
     "output_type": "stream",
     "text": [
      "../input/painting-vs-photograph-classification-dataset/Raw Data/photos/311c6186919477f5aeb1734eb7307e63b3a3dc14.jpg\n"
     ]
    },
    {
     "name": "stderr",
     "output_type": "stream",
     "text": [
      " 85%|████████▍ | 2317/2737 [14:43<01:43,  4.04it/s]"
     ]
    },
    {
     "name": "stdout",
     "output_type": "stream",
     "text": [
      "../input/painting-vs-photograph-classification-dataset/Raw Data/photos/c7ff8a433fa1552168fbb600b080065962db5ad5.jpg\n"
     ]
    },
    {
     "name": "stderr",
     "output_type": "stream",
     "text": [
      " 85%|████████▍ | 2318/2737 [14:44<01:42,  4.09it/s]"
     ]
    },
    {
     "name": "stdout",
     "output_type": "stream",
     "text": [
      "../input/painting-vs-photograph-classification-dataset/Raw Data/painting/9652d44f3c48a02ac25da31e6b9be3d75d82facb.jpg\n"
     ]
    },
    {
     "name": "stderr",
     "output_type": "stream",
     "text": [
      " 85%|████████▍ | 2319/2737 [14:44<02:04,  3.35it/s]"
     ]
    },
    {
     "name": "stdout",
     "output_type": "stream",
     "text": [
      "../input/painting-vs-photograph-classification-dataset/Raw Data/photos/58b5e91001ca55c9fb26ecc5f4fc85d170f5fd49.jpg\n"
     ]
    },
    {
     "name": "stderr",
     "output_type": "stream",
     "text": [
      " 85%|████████▍ | 2320/2737 [14:44<02:00,  3.46it/s]"
     ]
    },
    {
     "name": "stdout",
     "output_type": "stream",
     "text": [
      "../input/painting-vs-photograph-classification-dataset/Raw Data/photos/55dd1b3806223af2a441e6d8b13da3d908c8b3b8.jpg\n"
     ]
    },
    {
     "name": "stderr",
     "output_type": "stream",
     "text": [
      " 85%|████████▍ | 2321/2737 [14:45<01:55,  3.61it/s]"
     ]
    },
    {
     "name": "stdout",
     "output_type": "stream",
     "text": [
      "../input/painting-vs-photograph-classification-dataset/Raw Data/painting/eed19304c4a28c5d087a01cfdf219d87ebef3c1e.jpg\n"
     ]
    },
    {
     "name": "stderr",
     "output_type": "stream",
     "text": [
      " 85%|████████▍ | 2322/2737 [14:45<02:42,  2.56it/s]"
     ]
    },
    {
     "name": "stdout",
     "output_type": "stream",
     "text": [
      "../input/painting-vs-photograph-classification-dataset/Raw Data/photos/3260b6e048c5fd0aedea84d954e9d87e0b13162b.jpg\n"
     ]
    },
    {
     "name": "stderr",
     "output_type": "stream",
     "text": [
      " 85%|████████▍ | 2323/2737 [14:45<02:18,  2.99it/s]"
     ]
    },
    {
     "name": "stdout",
     "output_type": "stream",
     "text": [
      "../input/painting-vs-photograph-classification-dataset/Raw Data/photos/a216bc0b861fcb4fab515cac0d5c8186c9fdb84c.jpg\n"
     ]
    },
    {
     "name": "stderr",
     "output_type": "stream",
     "text": [
      " 85%|████████▍ | 2324/2737 [14:46<02:06,  3.27it/s]"
     ]
    },
    {
     "name": "stdout",
     "output_type": "stream",
     "text": [
      "../input/painting-vs-photograph-classification-dataset/Raw Data/photos/afa8049312a70bcb39e70a670f610d3f1e65d97f.jpg\n"
     ]
    },
    {
     "name": "stderr",
     "output_type": "stream",
     "text": [
      " 85%|████████▍ | 2325/2737 [14:46<02:02,  3.38it/s]"
     ]
    },
    {
     "name": "stdout",
     "output_type": "stream",
     "text": [
      "../input/painting-vs-photograph-classification-dataset/Raw Data/photos/acce4769233e821ebcf2fe5fded2b808a7571baa.jpg\n"
     ]
    },
    {
     "name": "stderr",
     "output_type": "stream",
     "text": [
      " 85%|████████▍ | 2326/2737 [14:46<01:54,  3.60it/s]"
     ]
    },
    {
     "name": "stdout",
     "output_type": "stream",
     "text": [
      "../input/painting-vs-photograph-classification-dataset/Raw Data/photos/abff557469ebe2edea5c046138dda81d747a08c7.jpg\n"
     ]
    },
    {
     "name": "stderr",
     "output_type": "stream",
     "text": [
      " 85%|████████▌ | 2327/2737 [14:46<01:47,  3.81it/s]"
     ]
    },
    {
     "name": "stdout",
     "output_type": "stream",
     "text": [
      "../input/painting-vs-photograph-classification-dataset/Raw Data/painting/e554c43fbe9970a118520cb34cd7448472a79f77.jpg\n"
     ]
    },
    {
     "name": "stderr",
     "output_type": "stream",
     "text": [
      " 85%|████████▌ | 2328/2737 [14:47<03:00,  2.27it/s]"
     ]
    },
    {
     "name": "stdout",
     "output_type": "stream",
     "text": [
      "../input/painting-vs-photograph-classification-dataset/Raw Data/painting/f0738df992b614f112c13fe8670ab9a2720ba3be.jpg\n"
     ]
    },
    {
     "name": "stderr",
     "output_type": "stream",
     "text": [
      " 85%|████████▌ | 2329/2737 [14:48<03:57,  1.72it/s]"
     ]
    },
    {
     "name": "stdout",
     "output_type": "stream",
     "text": [
      "../input/painting-vs-photograph-classification-dataset/Raw Data/photos/b97c58b3795a2917d1a8664ad0df4f3e6583bce9.jpg\n"
     ]
    },
    {
     "name": "stderr",
     "output_type": "stream",
     "text": [
      " 85%|████████▌ | 2330/2737 [14:48<03:12,  2.11it/s]"
     ]
    },
    {
     "name": "stdout",
     "output_type": "stream",
     "text": [
      "../input/painting-vs-photograph-classification-dataset/Raw Data/photos/bf2791ac76a1b259740fca74b9aeac1a64622d0d.jpg\n"
     ]
    },
    {
     "name": "stderr",
     "output_type": "stream",
     "text": [
      " 85%|████████▌ | 2331/2737 [14:49<02:43,  2.48it/s]"
     ]
    },
    {
     "name": "stdout",
     "output_type": "stream",
     "text": [
      "../input/painting-vs-photograph-classification-dataset/Raw Data/painting/4bc0adfeec672adc2550a60e72556b1529a99369.jpg\n"
     ]
    },
    {
     "name": "stderr",
     "output_type": "stream",
     "text": [
      " 85%|████████▌ | 2332/2737 [14:49<03:07,  2.16it/s]"
     ]
    },
    {
     "name": "stdout",
     "output_type": "stream",
     "text": [
      "../input/painting-vs-photograph-classification-dataset/Raw Data/photos/dbb94d431c1c33a7b670bcdc57d816f729acd98f.jpg\n"
     ]
    },
    {
     "name": "stderr",
     "output_type": "stream",
     "text": [
      " 85%|████████▌ | 2333/2737 [14:50<02:42,  2.49it/s]"
     ]
    },
    {
     "name": "stdout",
     "output_type": "stream",
     "text": [
      "../input/painting-vs-photograph-classification-dataset/Raw Data/painting/f54b99253e4a42a0bb36d1fab245717910c6c604.jpg\n"
     ]
    },
    {
     "name": "stderr",
     "output_type": "stream",
     "text": [
      " 85%|████████▌ | 2334/2737 [14:50<03:18,  2.03it/s]"
     ]
    },
    {
     "name": "stdout",
     "output_type": "stream",
     "text": [
      "../input/painting-vs-photograph-classification-dataset/Raw Data/photos/3d6909ba1f30802102f5e56f6a414476937c14e3.jpg\n"
     ]
    },
    {
     "name": "stderr",
     "output_type": "stream",
     "text": [
      " 85%|████████▌ | 2335/2737 [14:50<02:46,  2.42it/s]"
     ]
    },
    {
     "name": "stdout",
     "output_type": "stream",
     "text": [
      "../input/painting-vs-photograph-classification-dataset/Raw Data/photos/2654f729e94ae70cb0c192de5f87f4fc214c3c69.jpg\n"
     ]
    },
    {
     "name": "stderr",
     "output_type": "stream",
     "text": [
      " 85%|████████▌ | 2336/2737 [14:51<02:24,  2.78it/s]"
     ]
    },
    {
     "name": "stdout",
     "output_type": "stream",
     "text": [
      "../input/painting-vs-photograph-classification-dataset/Raw Data/photos/c81a11dd927e06875d8534027d036ccaf38c5ed9.jpg\n"
     ]
    },
    {
     "name": "stderr",
     "output_type": "stream",
     "text": [
      " 85%|████████▌ | 2337/2737 [14:51<02:12,  3.01it/s]"
     ]
    },
    {
     "name": "stdout",
     "output_type": "stream",
     "text": [
      "../input/painting-vs-photograph-classification-dataset/Raw Data/photos/535ee9e5fdc4bda9cf8d86fdb8b87d848908d9c2.jpg\n"
     ]
    },
    {
     "name": "stderr",
     "output_type": "stream",
     "text": [
      " 85%|████████▌ | 2338/2737 [14:51<01:59,  3.34it/s]"
     ]
    },
    {
     "name": "stdout",
     "output_type": "stream",
     "text": [
      "../input/painting-vs-photograph-classification-dataset/Raw Data/photos/43369c2343bbbb4e88602a49bbf2651ae5eed6ae.jpg\n"
     ]
    },
    {
     "name": "stderr",
     "output_type": "stream",
     "text": [
      " 85%|████████▌ | 2339/2737 [14:51<01:50,  3.60it/s]"
     ]
    },
    {
     "name": "stdout",
     "output_type": "stream",
     "text": [
      "../input/painting-vs-photograph-classification-dataset/Raw Data/photos/fac79680e8d7e01756d7248bd4b35bf4fa5f2c93.jpg\n"
     ]
    },
    {
     "name": "stderr",
     "output_type": "stream",
     "text": [
      " 85%|████████▌ | 2340/2737 [14:52<01:46,  3.74it/s]"
     ]
    },
    {
     "name": "stdout",
     "output_type": "stream",
     "text": [
      "../input/painting-vs-photograph-classification-dataset/Raw Data/photos/d7a8526aea83ab2041d63e671834231385322809.jpg\n"
     ]
    },
    {
     "name": "stderr",
     "output_type": "stream",
     "text": [
      " 86%|████████▌ | 2341/2737 [14:52<01:43,  3.83it/s]"
     ]
    },
    {
     "name": "stdout",
     "output_type": "stream",
     "text": [
      "../input/painting-vs-photograph-classification-dataset/Raw Data/photos/c2c365007fa99a687afd4317e284d82522bbf7a5.jpg\n"
     ]
    },
    {
     "name": "stderr",
     "output_type": "stream",
     "text": [
      " 86%|████████▌ | 2342/2737 [14:52<01:39,  3.96it/s]"
     ]
    },
    {
     "name": "stdout",
     "output_type": "stream",
     "text": [
      "../input/painting-vs-photograph-classification-dataset/Raw Data/photos/bfd2487440cd3816b363bbba1d4110f29c5fea26.jpg\n"
     ]
    },
    {
     "name": "stderr",
     "output_type": "stream",
     "text": [
      " 86%|████████▌ | 2343/2737 [14:52<01:36,  4.09it/s]"
     ]
    },
    {
     "name": "stdout",
     "output_type": "stream",
     "text": [
      "../input/painting-vs-photograph-classification-dataset/Raw Data/photos/25133205d9175e38dddfe7bb3b54358c9d669886.jpg\n"
     ]
    },
    {
     "name": "stderr",
     "output_type": "stream",
     "text": [
      " 86%|████████▌ | 2344/2737 [14:53<01:48,  3.62it/s]"
     ]
    },
    {
     "name": "stdout",
     "output_type": "stream",
     "text": [
      "../input/painting-vs-photograph-classification-dataset/Raw Data/photos/653a1e663b11ae237259fdf7afb595ef1f8f40e3.jpg\n"
     ]
    },
    {
     "name": "stderr",
     "output_type": "stream",
     "text": [
      " 86%|████████▌ | 2345/2737 [14:53<01:42,  3.82it/s]"
     ]
    },
    {
     "name": "stdout",
     "output_type": "stream",
     "text": [
      "../input/painting-vs-photograph-classification-dataset/Raw Data/painting/cb066e9885b8c4ebe82a3638c52d95525ba949ad.jpg\n"
     ]
    },
    {
     "name": "stderr",
     "output_type": "stream",
     "text": [
      " 86%|████████▌ | 2346/2737 [14:53<01:42,  3.83it/s]"
     ]
    },
    {
     "name": "stdout",
     "output_type": "stream",
     "text": [
      "../input/painting-vs-photograph-classification-dataset/Raw Data/photos/bb8db9c19847400b852c1e27a487fdcd50583d24.jpg\n"
     ]
    },
    {
     "name": "stderr",
     "output_type": "stream",
     "text": [
      " 86%|████████▌ | 2347/2737 [14:53<01:38,  3.97it/s]"
     ]
    },
    {
     "name": "stdout",
     "output_type": "stream",
     "text": [
      "../input/painting-vs-photograph-classification-dataset/Raw Data/photos/68b730838e9d3faf90f7d273a082da2c8003c461.jpg\n"
     ]
    },
    {
     "name": "stderr",
     "output_type": "stream",
     "text": [
      " 86%|████████▌ | 2348/2737 [14:54<01:35,  4.06it/s]"
     ]
    },
    {
     "name": "stdout",
     "output_type": "stream",
     "text": [
      "../input/painting-vs-photograph-classification-dataset/Raw Data/painting/7e38f272a92474f71d9cba9105417e15be96cfdf.jpg\n"
     ]
    },
    {
     "name": "stderr",
     "output_type": "stream",
     "text": [
      " 86%|████████▌ | 2349/2737 [14:54<02:21,  2.73it/s]"
     ]
    },
    {
     "name": "stdout",
     "output_type": "stream",
     "text": [
      "../input/painting-vs-photograph-classification-dataset/Raw Data/photos/81a074360a560eecf144360b8ce115e143e0982c.jpg\n"
     ]
    },
    {
     "name": "stderr",
     "output_type": "stream",
     "text": [
      " 86%|████████▌ | 2350/2737 [14:55<02:06,  3.05it/s]"
     ]
    },
    {
     "name": "stdout",
     "output_type": "stream",
     "text": [
      "../input/painting-vs-photograph-classification-dataset/Raw Data/photos/adad3b2a19bf9f758377063650e7b511b3a8617b.jpg\n"
     ]
    },
    {
     "name": "stderr",
     "output_type": "stream",
     "text": [
      " 86%|████████▌ | 2351/2737 [14:55<01:55,  3.34it/s]"
     ]
    },
    {
     "name": "stdout",
     "output_type": "stream",
     "text": [
      "../input/painting-vs-photograph-classification-dataset/Raw Data/photos/e98af627d44e74a47c433f9bc32cd68bc83fb83b.jpg\n"
     ]
    },
    {
     "name": "stderr",
     "output_type": "stream",
     "text": [
      " 86%|████████▌ | 2353/2737 [14:55<01:47,  3.59it/s]"
     ]
    },
    {
     "name": "stdout",
     "output_type": "stream",
     "text": [
      "../input/painting-vs-photograph-classification-dataset/Raw Data/photos/300b2fbdc9e1c2e9b0d51b2612a94d3f1f3cea77.jpg\n",
      "../input/painting-vs-photograph-classification-dataset/Raw Data/photos/6c6bcb85a7e873065f73165102ddb3e3da0cd958.jpg\n"
     ]
    },
    {
     "name": "stderr",
     "output_type": "stream",
     "text": [
      " 86%|████████▌ | 2354/2737 [14:55<01:34,  4.05it/s]"
     ]
    },
    {
     "name": "stdout",
     "output_type": "stream",
     "text": [
      "../input/painting-vs-photograph-classification-dataset/Raw Data/painting/f0d30932b612e500363005cdae629a0f93dcc0e2.jpg\n"
     ]
    },
    {
     "name": "stderr",
     "output_type": "stream",
     "text": [
      " 86%|████████▌ | 2355/2737 [14:56<02:33,  2.49it/s]"
     ]
    },
    {
     "name": "stdout",
     "output_type": "stream",
     "text": [
      "../input/painting-vs-photograph-classification-dataset/Raw Data/painting/989cc3d043953b716f42ff5df9744bd37b0cd4b2.jpg\n"
     ]
    },
    {
     "name": "stderr",
     "output_type": "stream",
     "text": [
      " 86%|████████▌ | 2356/2737 [14:57<02:52,  2.21it/s]"
     ]
    },
    {
     "name": "stdout",
     "output_type": "stream",
     "text": [
      "../input/painting-vs-photograph-classification-dataset/Raw Data/painting/82602cd09193b5b86ce76509861cd1dacfe71e2b.jpg\n"
     ]
    },
    {
     "name": "stderr",
     "output_type": "stream",
     "text": [
      " 86%|████████▌ | 2357/2737 [14:58<03:30,  1.80it/s]"
     ]
    },
    {
     "name": "stdout",
     "output_type": "stream",
     "text": [
      "../input/painting-vs-photograph-classification-dataset/Raw Data/painting/e67c10a29f71f657d2bd13f4a2d43700ff3871e0.jpg\n"
     ]
    },
    {
     "name": "stderr",
     "output_type": "stream",
     "text": [
      " 86%|████████▌ | 2358/2737 [14:58<03:25,  1.84it/s]"
     ]
    },
    {
     "name": "stdout",
     "output_type": "stream",
     "text": [
      "../input/painting-vs-photograph-classification-dataset/Raw Data/photos/cb353ab70e3b1755d9e239f9ccd54381669b40ac.jpg\n"
     ]
    },
    {
     "name": "stderr",
     "output_type": "stream",
     "text": [
      " 86%|████████▌ | 2359/2737 [14:58<02:54,  2.17it/s]"
     ]
    },
    {
     "name": "stdout",
     "output_type": "stream",
     "text": [
      "../input/painting-vs-photograph-classification-dataset/Raw Data/photos/c4c6990a307a8526a13c291a0f5484a9a0b9a331.jpg\n"
     ]
    },
    {
     "name": "stderr",
     "output_type": "stream",
     "text": [
      " 86%|████████▌ | 2360/2737 [14:59<02:25,  2.60it/s]"
     ]
    },
    {
     "name": "stdout",
     "output_type": "stream",
     "text": [
      "../input/painting-vs-photograph-classification-dataset/Raw Data/painting/456d34996d014f5cd4afdf5e6df619277d5dccbe.jpg\n"
     ]
    },
    {
     "name": "stderr",
     "output_type": "stream",
     "text": [
      " 86%|████████▋ | 2361/2737 [15:00<03:39,  1.71it/s]"
     ]
    },
    {
     "name": "stdout",
     "output_type": "stream",
     "text": [
      "../input/painting-vs-photograph-classification-dataset/Raw Data/painting/6d96c0b9b4457ba448c19adbb71cc6a60dbeabaa.jpg\n"
     ]
    },
    {
     "name": "stderr",
     "output_type": "stream",
     "text": [
      " 86%|████████▋ | 2362/2737 [15:00<03:58,  1.57it/s]"
     ]
    },
    {
     "name": "stdout",
     "output_type": "stream",
     "text": [
      "../input/painting-vs-photograph-classification-dataset/Raw Data/painting/f7cfa8b5326a9eb821219f65e138b74eaac68523.jpg\n"
     ]
    },
    {
     "name": "stderr",
     "output_type": "stream",
     "text": [
      " 86%|████████▋ | 2363/2737 [15:01<04:10,  1.49it/s]"
     ]
    },
    {
     "name": "stdout",
     "output_type": "stream",
     "text": [
      "../input/painting-vs-photograph-classification-dataset/Raw Data/painting/46592fe85ef462c1a3526b3f67fcecfa7d25e45b.jpg\n"
     ]
    },
    {
     "name": "stderr",
     "output_type": "stream",
     "text": [
      " 86%|████████▋ | 2365/2737 [15:02<03:35,  1.73it/s]"
     ]
    },
    {
     "name": "stdout",
     "output_type": "stream",
     "text": [
      "../input/painting-vs-photograph-classification-dataset/Raw Data/photos/a41c5c2219301e76422250b03eb8a106468f577a.jpg\n",
      "../input/painting-vs-photograph-classification-dataset/Raw Data/photos/c45c47d14386f5796ec3126a3273124f75530513.jpg\n"
     ]
    },
    {
     "name": "stderr",
     "output_type": "stream",
     "text": [
      " 86%|████████▋ | 2366/2737 [15:03<02:56,  2.10it/s]"
     ]
    },
    {
     "name": "stdout",
     "output_type": "stream",
     "text": [
      "../input/painting-vs-photograph-classification-dataset/Raw Data/painting/9a8cd640c3ef4f6e303bc1a8f8b7f8a8c47d7e16.jpg\n"
     ]
    },
    {
     "name": "stderr",
     "output_type": "stream",
     "text": [
      " 86%|████████▋ | 2367/2737 [15:03<03:29,  1.76it/s]"
     ]
    },
    {
     "name": "stdout",
     "output_type": "stream",
     "text": [
      "../input/painting-vs-photograph-classification-dataset/Raw Data/painting/e82d1b77f5ba52c6dad0cca9b657c6b0e19e1d57.jpg\n"
     ]
    },
    {
     "name": "stderr",
     "output_type": "stream",
     "text": [
      " 87%|████████▋ | 2368/2737 [15:04<03:50,  1.60it/s]"
     ]
    },
    {
     "name": "stdout",
     "output_type": "stream",
     "text": [
      "../input/painting-vs-photograph-classification-dataset/Raw Data/painting/13b567553c03b7edd51cbf689ae5470bffe43349.jpg\n"
     ]
    },
    {
     "name": "stderr",
     "output_type": "stream",
     "text": [
      " 87%|████████▋ | 2369/2737 [15:05<04:33,  1.35it/s]"
     ]
    },
    {
     "name": "stdout",
     "output_type": "stream",
     "text": [
      "../input/painting-vs-photograph-classification-dataset/Raw Data/photos/41404c4077810aa247281cb241c71b30c185912d.jpg\n"
     ]
    },
    {
     "name": "stderr",
     "output_type": "stream",
     "text": [
      " 87%|████████▋ | 2371/2737 [15:05<02:52,  2.13it/s]"
     ]
    },
    {
     "name": "stdout",
     "output_type": "stream",
     "text": [
      "../input/painting-vs-photograph-classification-dataset/Raw Data/photos/a6d5bd5581e4ab2fb2b573e5540074b3e0c09a5e.jpg\n",
      "../input/painting-vs-photograph-classification-dataset/Raw Data/photos/71616603b1e0a937bf95187907a6bf265fc71d43.jpg\n"
     ]
    },
    {
     "name": "stderr",
     "output_type": "stream",
     "text": [
      " 87%|████████▋ | 2372/2737 [15:06<02:30,  2.43it/s]"
     ]
    },
    {
     "name": "stdout",
     "output_type": "stream",
     "text": [
      "../input/painting-vs-photograph-classification-dataset/Raw Data/painting/99c87e84b9e0cd69b7979cc324d1376a2304128a.jpg\n"
     ]
    },
    {
     "name": "stderr",
     "output_type": "stream",
     "text": [
      " 87%|████████▋ | 2373/2737 [15:07<03:04,  1.98it/s]"
     ]
    },
    {
     "name": "stdout",
     "output_type": "stream",
     "text": [
      "../input/painting-vs-photograph-classification-dataset/Raw Data/photos/f9c0112180b598e188accc0a6e4c8dc3bd6fe136.jpg\n"
     ]
    },
    {
     "name": "stderr",
     "output_type": "stream",
     "text": [
      " 87%|████████▋ | 2374/2737 [15:07<02:31,  2.39it/s]"
     ]
    },
    {
     "name": "stdout",
     "output_type": "stream",
     "text": [
      "../input/painting-vs-photograph-classification-dataset/Raw Data/photos/53494974e01306a38a116b097316de9016c8384f.jpg\n"
     ]
    },
    {
     "name": "stderr",
     "output_type": "stream",
     "text": [
      " 87%|████████▋ | 2376/2737 [15:07<01:49,  3.30it/s]"
     ]
    },
    {
     "name": "stdout",
     "output_type": "stream",
     "text": [
      "../input/painting-vs-photograph-classification-dataset/Raw Data/photos/815b55a2ee5c665062c185f03269cd9b9129163d.jpg\n",
      "../input/painting-vs-photograph-classification-dataset/Raw Data/painting/ed53bb469e05344e2f4af1708d65349b049a07ab.jpg\n"
     ]
    },
    {
     "name": "stderr",
     "output_type": "stream",
     "text": [
      " 87%|████████▋ | 2378/2737 [15:08<02:16,  2.63it/s]"
     ]
    },
    {
     "name": "stdout",
     "output_type": "stream",
     "text": [
      "../input/painting-vs-photograph-classification-dataset/Raw Data/photos/c7a846b65f8ac272727a57d0d1a76e6393665e07.jpg\n",
      "../input/painting-vs-photograph-classification-dataset/Raw Data/photos/784d463f2ef1b7a6e155819996e9359716522614.jpg\n"
     ]
    },
    {
     "name": "stderr",
     "output_type": "stream",
     "text": [
      " 87%|████████▋ | 2379/2737 [15:08<02:01,  2.95it/s]"
     ]
    },
    {
     "name": "stdout",
     "output_type": "stream",
     "text": [
      "../input/painting-vs-photograph-classification-dataset/Raw Data/photos/8009748da2dd020db62fcd0fbd58ae982e7e8ba8.jpg\n"
     ]
    },
    {
     "name": "stderr",
     "output_type": "stream",
     "text": [
      " 87%|████████▋ | 2380/2737 [15:09<01:59,  2.98it/s]"
     ]
    },
    {
     "name": "stdout",
     "output_type": "stream",
     "text": [
      "../input/painting-vs-photograph-classification-dataset/Raw Data/photos/93e8e603c16d2a9974973876e8ee6cd4f7b3ac25.jpg\n"
     ]
    },
    {
     "name": "stderr",
     "output_type": "stream",
     "text": [
      " 87%|████████▋ | 2381/2737 [15:09<01:50,  3.23it/s]"
     ]
    },
    {
     "name": "stdout",
     "output_type": "stream",
     "text": [
      "../input/painting-vs-photograph-classification-dataset/Raw Data/painting/e8ced32f72ca5710a54e85bcc2ee4f053022c124.jpg\n"
     ]
    },
    {
     "name": "stderr",
     "output_type": "stream",
     "text": [
      " 87%|████████▋ | 2382/2737 [15:10<02:30,  2.36it/s]"
     ]
    },
    {
     "name": "stdout",
     "output_type": "stream",
     "text": [
      "../input/painting-vs-photograph-classification-dataset/Raw Data/photos/eac175caaca4016a5d32305c4f8e92ba8fd7bad9.jpg\n"
     ]
    },
    {
     "name": "stderr",
     "output_type": "stream",
     "text": [
      " 87%|████████▋ | 2383/2737 [15:10<02:08,  2.75it/s]"
     ]
    },
    {
     "name": "stdout",
     "output_type": "stream",
     "text": [
      "../input/painting-vs-photograph-classification-dataset/Raw Data/photos/10f5fdcc064096c78669f6fe2d707bb524b0e364.jpg\n"
     ]
    },
    {
     "name": "stderr",
     "output_type": "stream",
     "text": [
      " 87%|████████▋ | 2384/2737 [15:10<01:54,  3.07it/s]"
     ]
    },
    {
     "name": "stdout",
     "output_type": "stream",
     "text": [
      "../input/painting-vs-photograph-classification-dataset/Raw Data/photos/a0be940db3291553788dee7b875fd2b9de2ba4c6.jpg\n"
     ]
    },
    {
     "name": "stderr",
     "output_type": "stream",
     "text": [
      " 87%|████████▋ | 2385/2737 [15:10<01:57,  3.01it/s]"
     ]
    },
    {
     "name": "stdout",
     "output_type": "stream",
     "text": [
      "../input/painting-vs-photograph-classification-dataset/Raw Data/painting/6ccc4e7f9640054292e85d788988334d76ed5414.jpg\n"
     ]
    },
    {
     "name": "stderr",
     "output_type": "stream",
     "text": [
      " 87%|████████▋ | 2386/2737 [15:11<03:07,  1.87it/s]"
     ]
    },
    {
     "name": "stdout",
     "output_type": "stream",
     "text": [
      "../input/painting-vs-photograph-classification-dataset/Raw Data/photos/0370f35871c145f2951d3421d0e4ea32fafa52a1.jpg\n"
     ]
    },
    {
     "name": "stderr",
     "output_type": "stream",
     "text": [
      " 87%|████████▋ | 2387/2737 [15:12<02:33,  2.28it/s]"
     ]
    },
    {
     "name": "stdout",
     "output_type": "stream",
     "text": [
      "../input/painting-vs-photograph-classification-dataset/Raw Data/painting/fa5128a1724216aba5d3ca39d81591e1e0f3b450.jpg\n"
     ]
    },
    {
     "name": "stderr",
     "output_type": "stream",
     "text": [
      " 87%|████████▋ | 2388/2737 [15:12<02:36,  2.23it/s]"
     ]
    },
    {
     "name": "stdout",
     "output_type": "stream",
     "text": [
      "../input/painting-vs-photograph-classification-dataset/Raw Data/photos/7f9ec2e08fef6d35740ddef1fd49e8775751388c.jpg\n"
     ]
    },
    {
     "name": "stderr",
     "output_type": "stream",
     "text": [
      " 87%|████████▋ | 2390/2737 [15:13<01:50,  3.13it/s]"
     ]
    },
    {
     "name": "stdout",
     "output_type": "stream",
     "text": [
      "../input/painting-vs-photograph-classification-dataset/Raw Data/photos/c0ddd05886e5ec73403c0e944b36b983c9287783.jpg\n",
      "../input/painting-vs-photograph-classification-dataset/Raw Data/photos/a621a1f2918120a4830b2151cecfc46700a9cd01.jpg\n"
     ]
    },
    {
     "name": "stderr",
     "output_type": "stream",
     "text": [
      " 87%|████████▋ | 2391/2737 [15:13<01:42,  3.39it/s]"
     ]
    },
    {
     "name": "stdout",
     "output_type": "stream",
     "text": [
      "../input/painting-vs-photograph-classification-dataset/Raw Data/painting/247d5f95b4f6583ac387a339d36baebd2aade7d9.jpg\n"
     ]
    },
    {
     "name": "stderr",
     "output_type": "stream",
     "text": [
      " 87%|████████▋ | 2392/2737 [15:14<02:32,  2.26it/s]"
     ]
    },
    {
     "name": "stdout",
     "output_type": "stream",
     "text": [
      "../input/painting-vs-photograph-classification-dataset/Raw Data/photos/646b9b14de7af1a8994b750af8e4cecff3dc973a.jpg\n"
     ]
    },
    {
     "name": "stderr",
     "output_type": "stream",
     "text": [
      " 87%|████████▋ | 2394/2737 [15:14<01:50,  3.09it/s]"
     ]
    },
    {
     "name": "stdout",
     "output_type": "stream",
     "text": [
      "../input/painting-vs-photograph-classification-dataset/Raw Data/photos/ada4e9c2b8d38dc48e130b4107db5acf18aaa77e.jpg\n",
      "../input/painting-vs-photograph-classification-dataset/Raw Data/painting/d7b56ef2aa7ca356f553d0c42e5c7533d172052e.jpg\n"
     ]
    },
    {
     "name": "stderr",
     "output_type": "stream",
     "text": [
      " 88%|████████▊ | 2395/2737 [15:15<02:35,  2.20it/s]"
     ]
    },
    {
     "name": "stdout",
     "output_type": "stream",
     "text": [
      "../input/painting-vs-photograph-classification-dataset/Raw Data/painting/53238e3a912b6ef2aa1c474525586e78e1cbe171.jpg\n"
     ]
    },
    {
     "name": "stderr",
     "output_type": "stream",
     "text": [
      " 88%|████████▊ | 2396/2737 [15:16<03:36,  1.58it/s]"
     ]
    },
    {
     "name": "stdout",
     "output_type": "stream",
     "text": [
      "../input/painting-vs-photograph-classification-dataset/Raw Data/photos/e39dbab6a5f787e52b70bd9720885840af5854cb.jpg\n"
     ]
    },
    {
     "name": "stderr",
     "output_type": "stream",
     "text": [
      " 88%|████████▊ | 2397/2737 [15:16<02:53,  1.96it/s]"
     ]
    },
    {
     "name": "stdout",
     "output_type": "stream",
     "text": [
      "../input/painting-vs-photograph-classification-dataset/Raw Data/painting/f8348d2e716323e666ebe635dca0490de282fcf7.jpg\n"
     ]
    },
    {
     "name": "stderr",
     "output_type": "stream",
     "text": [
      " 88%|████████▊ | 2399/2737 [15:17<02:33,  2.20it/s]"
     ]
    },
    {
     "name": "stdout",
     "output_type": "stream",
     "text": [
      "../input/painting-vs-photograph-classification-dataset/Raw Data/photos/ff0c5430235e2f24dfa3634056cc72ce0b46e53b.jpg\n",
      "../input/painting-vs-photograph-classification-dataset/Raw Data/photos/1940d445986826a7fb80b1058d4f5554b596469f.jpg\n"
     ]
    },
    {
     "name": "stderr",
     "output_type": "stream",
     "text": [
      " 88%|████████▊ | 2400/2737 [15:17<02:23,  2.35it/s]"
     ]
    },
    {
     "name": "stdout",
     "output_type": "stream",
     "text": [
      "../input/painting-vs-photograph-classification-dataset/Raw Data/photos/bc6f79aa9eecfa8cc87b78244f9d4155333fa252.jpg\n"
     ]
    },
    {
     "name": "stderr",
     "output_type": "stream",
     "text": [
      " 88%|████████▊ | 2401/2737 [15:18<02:06,  2.66it/s]"
     ]
    },
    {
     "name": "stdout",
     "output_type": "stream",
     "text": [
      "../input/painting-vs-photograph-classification-dataset/Raw Data/painting/f81c6f5e43c235db7cdfd31d7d1fd9b4ea2879bb.jpg\n"
     ]
    },
    {
     "name": "stderr",
     "output_type": "stream",
     "text": [
      " 88%|████████▊ | 2402/2737 [15:18<02:29,  2.25it/s]"
     ]
    },
    {
     "name": "stdout",
     "output_type": "stream",
     "text": [
      "../input/painting-vs-photograph-classification-dataset/Raw Data/photos/53266864d8b120be289b0bc6f2b84a3f4ea424e8.jpg\n"
     ]
    },
    {
     "name": "stderr",
     "output_type": "stream",
     "text": [
      " 88%|████████▊ | 2403/2737 [15:18<02:06,  2.64it/s]"
     ]
    },
    {
     "name": "stdout",
     "output_type": "stream",
     "text": [
      "../input/painting-vs-photograph-classification-dataset/Raw Data/painting/0efe592548a99046f010409a0f9a09935de16a91.jpg\n"
     ]
    },
    {
     "name": "stderr",
     "output_type": "stream",
     "text": [
      " 88%|████████▊ | 2404/2737 [15:19<02:50,  1.95it/s]"
     ]
    },
    {
     "name": "stdout",
     "output_type": "stream",
     "text": [
      "../input/painting-vs-photograph-classification-dataset/Raw Data/photos/680402d6d600548fa660d6ab70204c34cc915920.jpg\n"
     ]
    },
    {
     "name": "stderr",
     "output_type": "stream",
     "text": [
      " 88%|████████▊ | 2405/2737 [15:19<02:21,  2.35it/s]"
     ]
    },
    {
     "name": "stdout",
     "output_type": "stream",
     "text": [
      "../input/painting-vs-photograph-classification-dataset/Raw Data/photos/de800dce4ee7968191fe6b4e98ba354a983542ff.jpg\n"
     ]
    },
    {
     "name": "stderr",
     "output_type": "stream",
     "text": [
      " 88%|████████▊ | 2406/2737 [15:20<02:01,  2.73it/s]"
     ]
    },
    {
     "name": "stdout",
     "output_type": "stream",
     "text": [
      "../input/painting-vs-photograph-classification-dataset/Raw Data/photos/eb9e02aec357e671eb3bd8741751cba3fd0a23b4.jpg\n"
     ]
    },
    {
     "name": "stderr",
     "output_type": "stream",
     "text": [
      " 88%|████████▊ | 2407/2737 [15:20<01:47,  3.08it/s]"
     ]
    },
    {
     "name": "stdout",
     "output_type": "stream",
     "text": [
      "../input/painting-vs-photograph-classification-dataset/Raw Data/photos/c2f79353036cc3d12665a63dd78883c831df0760.jpg\n"
     ]
    },
    {
     "name": "stderr",
     "output_type": "stream",
     "text": [
      " 88%|████████▊ | 2409/2737 [15:20<01:26,  3.78it/s]"
     ]
    },
    {
     "name": "stdout",
     "output_type": "stream",
     "text": [
      "../input/painting-vs-photograph-classification-dataset/Raw Data/photos/3076000cbc1af7cae66fcebae0588aa4109997dd.jpg\n",
      "../input/painting-vs-photograph-classification-dataset/Raw Data/photos/077d529a82d71fe5b4b7f4805397bdfac708d29a.jpg\n"
     ]
    },
    {
     "name": "stderr",
     "output_type": "stream",
     "text": [
      " 88%|████████▊ | 2410/2737 [15:21<01:20,  4.06it/s]"
     ]
    },
    {
     "name": "stdout",
     "output_type": "stream",
     "text": [
      "../input/painting-vs-photograph-classification-dataset/Raw Data/photos/3042a9f362225f309806852fbb8a30af0ea6c391.jpg\n"
     ]
    },
    {
     "name": "stderr",
     "output_type": "stream",
     "text": [
      " 88%|████████▊ | 2411/2737 [15:21<01:20,  4.07it/s]"
     ]
    },
    {
     "name": "stdout",
     "output_type": "stream",
     "text": [
      "../input/painting-vs-photograph-classification-dataset/Raw Data/painting/ecfd2331b3251741fa459ba12f52ff1ba69e4dc5.jpg\n"
     ]
    },
    {
     "name": "stderr",
     "output_type": "stream",
     "text": [
      " 88%|████████▊ | 2412/2737 [15:22<02:28,  2.19it/s]"
     ]
    },
    {
     "name": "stdout",
     "output_type": "stream",
     "text": [
      "../input/painting-vs-photograph-classification-dataset/Raw Data/photos/078a1c883e23217c8765e05e2ce27de35ee64f48.jpg\n"
     ]
    },
    {
     "name": "stderr",
     "output_type": "stream",
     "text": [
      " 88%|████████▊ | 2413/2737 [15:22<02:17,  2.36it/s]"
     ]
    },
    {
     "name": "stdout",
     "output_type": "stream",
     "text": [
      "../input/painting-vs-photograph-classification-dataset/Raw Data/painting/3895dc138ef0671f09ffb5e962d5cd6a71808b4b.jpg\n"
     ]
    },
    {
     "name": "stderr",
     "output_type": "stream",
     "text": [
      " 88%|████████▊ | 2414/2737 [15:23<03:17,  1.63it/s]"
     ]
    },
    {
     "name": "stdout",
     "output_type": "stream",
     "text": [
      "../input/painting-vs-photograph-classification-dataset/Raw Data/photos/62c48d4b9f9f96756597a9f8ef725db3ed0771e4.jpg\n"
     ]
    },
    {
     "name": "stderr",
     "output_type": "stream",
     "text": [
      " 88%|████████▊ | 2415/2737 [15:23<02:53,  1.86it/s]"
     ]
    },
    {
     "name": "stdout",
     "output_type": "stream",
     "text": [
      "../input/painting-vs-photograph-classification-dataset/Raw Data/painting/f2eb4167c7c4dbf90707740c4c227286d3663f4d.jpg\n"
     ]
    },
    {
     "name": "stderr",
     "output_type": "stream",
     "text": [
      " 88%|████████▊ | 2416/2737 [15:24<03:09,  1.69it/s]"
     ]
    },
    {
     "name": "stdout",
     "output_type": "stream",
     "text": [
      "../input/painting-vs-photograph-classification-dataset/Raw Data/photos/088b675ae1fb62c91687b45317c0aa3db00dde36.jpg\n"
     ]
    },
    {
     "name": "stderr",
     "output_type": "stream",
     "text": [
      " 88%|████████▊ | 2418/2737 [15:25<02:05,  2.55it/s]"
     ]
    },
    {
     "name": "stdout",
     "output_type": "stream",
     "text": [
      "../input/painting-vs-photograph-classification-dataset/Raw Data/photos/e65c2f4eed01deed189d6910854058442b45e1e0.jpg\n",
      "../input/painting-vs-photograph-classification-dataset/Raw Data/photos/dd11c74a7e8c9f05c83fd730865c4942555e13c3.jpg\n"
     ]
    },
    {
     "name": "stderr",
     "output_type": "stream",
     "text": [
      " 88%|████████▊ | 2419/2737 [15:25<01:49,  2.91it/s]"
     ]
    },
    {
     "name": "stdout",
     "output_type": "stream",
     "text": [
      "../input/painting-vs-photograph-classification-dataset/Raw Data/painting/6e42d53ad058a9f4c89330edb35151af33e7045a.jpg\n"
     ]
    },
    {
     "name": "stderr",
     "output_type": "stream",
     "text": [
      " 88%|████████▊ | 2420/2737 [15:26<02:35,  2.04it/s]"
     ]
    },
    {
     "name": "stdout",
     "output_type": "stream",
     "text": [
      "../input/painting-vs-photograph-classification-dataset/Raw Data/photos/afc4c51e64f6e5f2b77e09b6e6d0c31327e4983d.jpg\n"
     ]
    },
    {
     "name": "stderr",
     "output_type": "stream",
     "text": [
      " 88%|████████▊ | 2421/2737 [15:26<02:10,  2.41it/s]"
     ]
    },
    {
     "name": "stdout",
     "output_type": "stream",
     "text": [
      "../input/painting-vs-photograph-classification-dataset/Raw Data/painting/e76df8ec7b973a5431d97f0dbaf2a0f750fd0b65.jpg\n"
     ]
    },
    {
     "name": "stderr",
     "output_type": "stream",
     "text": [
      " 88%|████████▊ | 2422/2737 [15:26<02:12,  2.38it/s]"
     ]
    },
    {
     "name": "stdout",
     "output_type": "stream",
     "text": [
      "../input/painting-vs-photograph-classification-dataset/Raw Data/photos/17718a995918acba33c5e8d0616c729d6f61ba29.jpg\n"
     ]
    },
    {
     "name": "stderr",
     "output_type": "stream",
     "text": [
      " 89%|████████▊ | 2423/2737 [15:27<01:54,  2.74it/s]"
     ]
    },
    {
     "name": "stdout",
     "output_type": "stream",
     "text": [
      "../input/painting-vs-photograph-classification-dataset/Raw Data/photos/26225cb0b6c910f4c89d23d895a368dcaf39e74c.jpg\n"
     ]
    },
    {
     "name": "stderr",
     "output_type": "stream",
     "text": [
      " 89%|████████▊ | 2424/2737 [15:27<01:39,  3.14it/s]"
     ]
    },
    {
     "name": "stdout",
     "output_type": "stream",
     "text": [
      "../input/painting-vs-photograph-classification-dataset/Raw Data/photos/ed9a9439bddf2008533e4be77ce071a6599313e2.jpg\n"
     ]
    },
    {
     "name": "stderr",
     "output_type": "stream",
     "text": [
      " 89%|████████▊ | 2425/2737 [15:27<01:35,  3.26it/s]"
     ]
    },
    {
     "name": "stdout",
     "output_type": "stream",
     "text": [
      "../input/painting-vs-photograph-classification-dataset/Raw Data/painting/1bfdece24a562b48b19c2240f6a6ec3e71260256.jpg\n"
     ]
    },
    {
     "name": "stderr",
     "output_type": "stream",
     "text": [
      " 89%|████████▊ | 2426/2737 [15:28<02:04,  2.49it/s]"
     ]
    },
    {
     "name": "stdout",
     "output_type": "stream",
     "text": [
      "../input/painting-vs-photograph-classification-dataset/Raw Data/photos/a293b4e3a3746f0b82b35dcd6197a1e25ed7c894.jpg\n"
     ]
    },
    {
     "name": "stderr",
     "output_type": "stream",
     "text": [
      " 89%|████████▊ | 2427/2737 [15:28<01:48,  2.85it/s]"
     ]
    },
    {
     "name": "stdout",
     "output_type": "stream",
     "text": [
      "../input/painting-vs-photograph-classification-dataset/Raw Data/photos/53d5a9a65e484dba31c38f1bea8e689d2f392688.jpg\n"
     ]
    },
    {
     "name": "stderr",
     "output_type": "stream",
     "text": [
      " 89%|████████▊ | 2428/2737 [15:28<01:37,  3.18it/s]"
     ]
    },
    {
     "name": "stdout",
     "output_type": "stream",
     "text": [
      "../input/painting-vs-photograph-classification-dataset/Raw Data/photos/ebe096beed797a7247295347a20339a5d2b0d767.jpg\n"
     ]
    },
    {
     "name": "stderr",
     "output_type": "stream",
     "text": [
      " 89%|████████▊ | 2429/2737 [15:28<01:34,  3.25it/s]"
     ]
    },
    {
     "name": "stdout",
     "output_type": "stream",
     "text": [
      "../input/painting-vs-photograph-classification-dataset/Raw Data/painting/b2a7744c8e3a6c24082c8f17b456f23f47b56f61.jpg\n"
     ]
    },
    {
     "name": "stderr",
     "output_type": "stream",
     "text": [
      " 89%|████████▉ | 2430/2737 [15:29<01:55,  2.67it/s]"
     ]
    },
    {
     "name": "stdout",
     "output_type": "stream",
     "text": [
      "../input/painting-vs-photograph-classification-dataset/Raw Data/photos/d0d7aefa75aa238c1a55d63e0733162acf8733e9.jpg\n"
     ]
    },
    {
     "name": "stderr",
     "output_type": "stream",
     "text": [
      " 89%|████████▉ | 2432/2737 [15:29<01:33,  3.25it/s]"
     ]
    },
    {
     "name": "stdout",
     "output_type": "stream",
     "text": [
      "../input/painting-vs-photograph-classification-dataset/Raw Data/photos/cc5379eaa3f0ebe1ea8bc40cb41ec19e23e1dba6.jpg\n",
      "../input/painting-vs-photograph-classification-dataset/Raw Data/photos/35086b07911d42846409db719c1ba83eafc48991.jpg\n"
     ]
    },
    {
     "name": "stderr",
     "output_type": "stream",
     "text": [
      " 89%|████████▉ | 2433/2737 [15:30<01:27,  3.48it/s]"
     ]
    },
    {
     "name": "stdout",
     "output_type": "stream",
     "text": [
      "../input/painting-vs-photograph-classification-dataset/Raw Data/photos/56bd58087c2d58f97a9dff083f3f4ede2b9df74a.jpg\n"
     ]
    },
    {
     "name": "stderr",
     "output_type": "stream",
     "text": [
      " 89%|████████▉ | 2434/2737 [15:30<01:25,  3.52it/s]"
     ]
    },
    {
     "name": "stdout",
     "output_type": "stream",
     "text": [
      "../input/painting-vs-photograph-classification-dataset/Raw Data/painting/9a40939e39fa552f635034cf79e5f9bdcad4f56c.jpg\n"
     ]
    },
    {
     "name": "stderr",
     "output_type": "stream",
     "text": [
      " 89%|████████▉ | 2435/2737 [15:31<01:46,  2.83it/s]"
     ]
    },
    {
     "name": "stdout",
     "output_type": "stream",
     "text": [
      "../input/painting-vs-photograph-classification-dataset/Raw Data/painting/4ff5f5780135ebde967f3aa9d604e95aa95a17ec.jpg\n"
     ]
    },
    {
     "name": "stderr",
     "output_type": "stream",
     "text": [
      " 89%|████████▉ | 2437/2737 [15:31<01:51,  2.69it/s]"
     ]
    },
    {
     "name": "stdout",
     "output_type": "stream",
     "text": [
      "../input/painting-vs-photograph-classification-dataset/Raw Data/photos/93bf14ce73659bee3aa464b2c42c7c92ca1c113b.jpg\n",
      "../input/painting-vs-photograph-classification-dataset/Raw Data/photos/28619396d8824963ea24f2520b7e94c1e5c0d231.jpg\n"
     ]
    },
    {
     "name": "stderr",
     "output_type": "stream",
     "text": [
      " 89%|████████▉ | 2438/2737 [15:32<01:40,  2.98it/s]"
     ]
    },
    {
     "name": "stdout",
     "output_type": "stream",
     "text": [
      "../input/painting-vs-photograph-classification-dataset/Raw Data/painting/f3e85a782c6a25d39e41a26cfad60d8d906d8324.jpg\n"
     ]
    },
    {
     "name": "stderr",
     "output_type": "stream",
     "text": [
      " 89%|████████▉ | 2439/2737 [15:33<02:45,  1.80it/s]"
     ]
    },
    {
     "name": "stdout",
     "output_type": "stream",
     "text": [
      "../input/painting-vs-photograph-classification-dataset/Raw Data/photos/b9c1dad17d7dbc59948c3f3a8ae934d254f3fae5.jpg\n"
     ]
    },
    {
     "name": "stderr",
     "output_type": "stream",
     "text": [
      " 89%|████████▉ | 2440/2737 [15:33<02:18,  2.15it/s]"
     ]
    },
    {
     "name": "stdout",
     "output_type": "stream",
     "text": [
      "../input/painting-vs-photograph-classification-dataset/Raw Data/photos/62c6757eea5dc448038f93457354aa95d6197c63.jpg\n"
     ]
    },
    {
     "name": "stderr",
     "output_type": "stream",
     "text": [
      " 89%|████████▉ | 2441/2737 [15:33<01:56,  2.55it/s]"
     ]
    },
    {
     "name": "stdout",
     "output_type": "stream",
     "text": [
      "../input/painting-vs-photograph-classification-dataset/Raw Data/painting/13ac9f3a4dce55560b9be5437fc8b96c3fc0bd78.jpg\n"
     ]
    },
    {
     "name": "stderr",
     "output_type": "stream",
     "text": [
      " 89%|████████▉ | 2442/2737 [15:34<02:12,  2.23it/s]"
     ]
    },
    {
     "name": "stdout",
     "output_type": "stream",
     "text": [
      "../input/painting-vs-photograph-classification-dataset/Raw Data/photos/73f0a6f8bd53b55630bd5f06fc3343732d715ad6.jpg\n"
     ]
    },
    {
     "name": "stderr",
     "output_type": "stream",
     "text": [
      " 89%|████████▉ | 2443/2737 [15:34<01:52,  2.60it/s]"
     ]
    },
    {
     "name": "stdout",
     "output_type": "stream",
     "text": [
      "../input/painting-vs-photograph-classification-dataset/Raw Data/photos/1566fbb872d7c6a39d6fb8cc04cb91fbd521f86e.jpg\n"
     ]
    },
    {
     "name": "stderr",
     "output_type": "stream",
     "text": [
      " 89%|████████▉ | 2444/2737 [15:34<01:40,  2.91it/s]"
     ]
    },
    {
     "name": "stdout",
     "output_type": "stream",
     "text": [
      "../input/painting-vs-photograph-classification-dataset/Raw Data/photos/d87123f7864d7437e911ad43f3d8be99d4f27b85.jpg\n"
     ]
    },
    {
     "name": "stderr",
     "output_type": "stream",
     "text": [
      " 89%|████████▉ | 2445/2737 [15:35<01:36,  3.03it/s]"
     ]
    },
    {
     "name": "stdout",
     "output_type": "stream",
     "text": [
      "../input/painting-vs-photograph-classification-dataset/Raw Data/photos/17770ce6114fcc15bb90e6960deca5b696307f8e.jpg\n"
     ]
    },
    {
     "name": "stderr",
     "output_type": "stream",
     "text": [
      " 89%|████████▉ | 2446/2737 [15:35<01:29,  3.24it/s]"
     ]
    },
    {
     "name": "stdout",
     "output_type": "stream",
     "text": [
      "../input/painting-vs-photograph-classification-dataset/Raw Data/photos/0ba0f9b05d6a96ce01346bb56cc8274a9f747908.jpg\n"
     ]
    },
    {
     "name": "stderr",
     "output_type": "stream",
     "text": [
      " 89%|████████▉ | 2447/2737 [15:35<01:20,  3.60it/s]"
     ]
    },
    {
     "name": "stdout",
     "output_type": "stream",
     "text": [
      "../input/painting-vs-photograph-classification-dataset/Raw Data/photos/cb8cdcc28dfe9d7be1cd40273cb266e4540f07bb.jpg\n"
     ]
    },
    {
     "name": "stderr",
     "output_type": "stream",
     "text": [
      " 89%|████████▉ | 2448/2737 [15:35<01:16,  3.80it/s]"
     ]
    },
    {
     "name": "stdout",
     "output_type": "stream",
     "text": [
      "../input/painting-vs-photograph-classification-dataset/Raw Data/painting/cd35f2f5fcbe1416eb9f4ed396743a09a4112e76.jpg\n"
     ]
    },
    {
     "name": "stderr",
     "output_type": "stream",
     "text": [
      " 89%|████████▉ | 2449/2737 [15:36<02:01,  2.37it/s]"
     ]
    },
    {
     "name": "stdout",
     "output_type": "stream",
     "text": [
      "../input/painting-vs-photograph-classification-dataset/Raw Data/photos/b624c6910ac6e427f204c2298349db26126cab79.jpg\n"
     ]
    },
    {
     "name": "stderr",
     "output_type": "stream",
     "text": [
      " 90%|████████▉ | 2450/2737 [15:36<01:44,  2.75it/s]"
     ]
    },
    {
     "name": "stdout",
     "output_type": "stream",
     "text": [
      "../input/painting-vs-photograph-classification-dataset/Raw Data/photos/a54bcaa0e8ace544fa3d2647f4a50b45190db315.jpg\n"
     ]
    },
    {
     "name": "stderr",
     "output_type": "stream",
     "text": [
      " 90%|████████▉ | 2451/2737 [15:37<01:39,  2.87it/s]"
     ]
    },
    {
     "name": "stdout",
     "output_type": "stream",
     "text": [
      "../input/painting-vs-photograph-classification-dataset/Raw Data/painting/81298b92e0c34cd276355fa8fd6f44ee196c6859.jpg\n"
     ]
    },
    {
     "name": "stderr",
     "output_type": "stream",
     "text": [
      " 90%|████████▉ | 2452/2737 [15:38<02:35,  1.83it/s]"
     ]
    },
    {
     "name": "stdout",
     "output_type": "stream",
     "text": [
      "../input/painting-vs-photograph-classification-dataset/Raw Data/photos/dcfe66aa0e1b5b65326b7b30e75b1c13b977c66b.jpg\n"
     ]
    },
    {
     "name": "stderr",
     "output_type": "stream",
     "text": [
      " 90%|████████▉ | 2453/2737 [15:38<02:10,  2.17it/s]"
     ]
    },
    {
     "name": "stdout",
     "output_type": "stream",
     "text": [
      "../input/painting-vs-photograph-classification-dataset/Raw Data/photos/961c529e786a0763ff4a76f93113ffaa8dcce14b.jpg\n"
     ]
    },
    {
     "name": "stderr",
     "output_type": "stream",
     "text": [
      " 90%|████████▉ | 2454/2737 [15:38<01:50,  2.57it/s]"
     ]
    },
    {
     "name": "stdout",
     "output_type": "stream",
     "text": [
      "../input/painting-vs-photograph-classification-dataset/Raw Data/photos/f342bf5b8bbd8d5a9cb9ed02747d519d9dac8b59.jpg\n"
     ]
    },
    {
     "name": "stderr",
     "output_type": "stream",
     "text": [
      " 90%|████████▉ | 2455/2737 [15:38<01:46,  2.66it/s]"
     ]
    },
    {
     "name": "stdout",
     "output_type": "stream",
     "text": [
      "../input/painting-vs-photograph-classification-dataset/Raw Data/painting/f63fe38b3a572efe9a39a7b4eee567655ea55504.jpg\n"
     ]
    },
    {
     "name": "stderr",
     "output_type": "stream",
     "text": [
      " 90%|████████▉ | 2456/2737 [15:39<02:42,  1.73it/s]"
     ]
    },
    {
     "name": "stdout",
     "output_type": "stream",
     "text": [
      "../input/painting-vs-photograph-classification-dataset/Raw Data/painting/e73162aaac3721035380001c12ef4a44ecfb883d.jpg\n"
     ]
    },
    {
     "name": "stderr",
     "output_type": "stream",
     "text": [
      " 90%|████████▉ | 2457/2737 [15:40<02:55,  1.59it/s]"
     ]
    },
    {
     "name": "stdout",
     "output_type": "stream",
     "text": [
      "../input/painting-vs-photograph-classification-dataset/Raw Data/photos/541f89fba1d36746b1e649ca1b2c37d5130a133d.jpg\n"
     ]
    },
    {
     "name": "stderr",
     "output_type": "stream",
     "text": [
      " 90%|████████▉ | 2458/2737 [15:40<02:19,  2.00it/s]"
     ]
    },
    {
     "name": "stdout",
     "output_type": "stream",
     "text": [
      "../input/painting-vs-photograph-classification-dataset/Raw Data/photos/acfbb6947dbade3564b2d2e3656837bf1f2bdd34.jpg\n"
     ]
    },
    {
     "name": "stderr",
     "output_type": "stream",
     "text": [
      " 90%|████████▉ | 2459/2737 [15:41<01:57,  2.37it/s]"
     ]
    },
    {
     "name": "stdout",
     "output_type": "stream",
     "text": [
      "../input/painting-vs-photograph-classification-dataset/Raw Data/photos/f61e121e7b0af8a17fc7e91c83610b7043851705.jpg\n"
     ]
    },
    {
     "name": "stderr",
     "output_type": "stream",
     "text": [
      " 90%|████████▉ | 2460/2737 [15:41<01:44,  2.64it/s]"
     ]
    },
    {
     "name": "stdout",
     "output_type": "stream",
     "text": [
      "../input/painting-vs-photograph-classification-dataset/Raw Data/photos/baa4fb54153f7179f5007076ad23f4ef682d4201.jpg\n"
     ]
    },
    {
     "name": "stderr",
     "output_type": "stream",
     "text": [
      " 90%|████████▉ | 2461/2737 [15:41<01:33,  2.96it/s]"
     ]
    },
    {
     "name": "stdout",
     "output_type": "stream",
     "text": [
      "../input/painting-vs-photograph-classification-dataset/Raw Data/photos/3d2722740f737f2d228188b35f69ff6f255650cc.jpg\n"
     ]
    },
    {
     "name": "stderr",
     "output_type": "stream",
     "text": [
      " 90%|████████▉ | 2462/2737 [15:41<01:25,  3.22it/s]"
     ]
    },
    {
     "name": "stdout",
     "output_type": "stream",
     "text": [
      "../input/painting-vs-photograph-classification-dataset/Raw Data/photos/c007f2e0a9a439b986e726e4b25f6368af493f16.jpg\n"
     ]
    },
    {
     "name": "stderr",
     "output_type": "stream",
     "text": [
      " 90%|████████▉ | 2463/2737 [15:42<01:19,  3.46it/s]"
     ]
    },
    {
     "name": "stdout",
     "output_type": "stream",
     "text": [
      "../input/painting-vs-photograph-classification-dataset/Raw Data/painting/1afdde2c6573987e1a38b35c977aa0df5a65caae.jpg\n"
     ]
    },
    {
     "name": "stderr",
     "output_type": "stream",
     "text": [
      " 90%|█████████ | 2464/2737 [15:43<02:23,  1.90it/s]"
     ]
    },
    {
     "name": "stdout",
     "output_type": "stream",
     "text": [
      "../input/painting-vs-photograph-classification-dataset/Raw Data/photos/bb46c610cd6d623666da1c21a71b163fc27762e4.jpg\n"
     ]
    },
    {
     "name": "stderr",
     "output_type": "stream",
     "text": [
      " 90%|█████████ | 2465/2737 [15:43<01:58,  2.29it/s]"
     ]
    },
    {
     "name": "stdout",
     "output_type": "stream",
     "text": [
      "../input/painting-vs-photograph-classification-dataset/Raw Data/photos/d4be62988785ee85236d37bdc7d6582c3b5393c1.jpg\n"
     ]
    },
    {
     "name": "stderr",
     "output_type": "stream",
     "text": [
      " 90%|█████████ | 2466/2737 [15:43<01:41,  2.66it/s]"
     ]
    },
    {
     "name": "stdout",
     "output_type": "stream",
     "text": [
      "../input/painting-vs-photograph-classification-dataset/Raw Data/photos/f4770f119dc692ba932d49105dfb2c4641e98e5a.jpg\n"
     ]
    },
    {
     "name": "stderr",
     "output_type": "stream",
     "text": [
      " 90%|█████████ | 2467/2737 [15:43<01:30,  2.99it/s]"
     ]
    },
    {
     "name": "stdout",
     "output_type": "stream",
     "text": [
      "../input/painting-vs-photograph-classification-dataset/Raw Data/photos/70ed742a78ef0c13f737e21c4415a12c541bfe59.jpg\n"
     ]
    },
    {
     "name": "stderr",
     "output_type": "stream",
     "text": [
      " 90%|█████████ | 2468/2737 [15:44<01:24,  3.19it/s]"
     ]
    },
    {
     "name": "stdout",
     "output_type": "stream",
     "text": [
      "../input/painting-vs-photograph-classification-dataset/Raw Data/photos/feaed2814b71899cbbae9b3085301370ee3a9874.jpg\n"
     ]
    },
    {
     "name": "stderr",
     "output_type": "stream",
     "text": [
      " 90%|█████████ | 2469/2737 [15:44<01:15,  3.53it/s]"
     ]
    },
    {
     "name": "stdout",
     "output_type": "stream",
     "text": [
      "../input/painting-vs-photograph-classification-dataset/Raw Data/photos/4882ce29616fe68ff142d374957a80b28fa69d02.jpg\n"
     ]
    },
    {
     "name": "stderr",
     "output_type": "stream",
     "text": [
      " 90%|█████████ | 2470/2737 [15:44<01:09,  3.82it/s]"
     ]
    },
    {
     "name": "stdout",
     "output_type": "stream",
     "text": [
      "../input/painting-vs-photograph-classification-dataset/Raw Data/painting/fb733fa8b68162aab6e48e42ec4306c5967e62b7.jpg\n"
     ]
    },
    {
     "name": "stderr",
     "output_type": "stream",
     "text": [
      " 90%|█████████ | 2471/2737 [15:45<01:56,  2.28it/s]"
     ]
    },
    {
     "name": "stdout",
     "output_type": "stream",
     "text": [
      "../input/painting-vs-photograph-classification-dataset/Raw Data/painting/f7bf7b459690eb5d29314e93e28d9f99a49ab2ba.jpg\n"
     ]
    },
    {
     "name": "stderr",
     "output_type": "stream",
     "text": [
      " 90%|█████████ | 2472/2737 [15:46<02:29,  1.77it/s]"
     ]
    },
    {
     "name": "stdout",
     "output_type": "stream",
     "text": [
      "../input/painting-vs-photograph-classification-dataset/Raw Data/photos/fe6eb6a08f9ad90353862459ab7d412a242a3ccc.jpg\n"
     ]
    },
    {
     "name": "stderr",
     "output_type": "stream",
     "text": [
      " 90%|█████████ | 2474/2737 [15:46<01:40,  2.61it/s]"
     ]
    },
    {
     "name": "stdout",
     "output_type": "stream",
     "text": [
      "../input/painting-vs-photograph-classification-dataset/Raw Data/photos/08263aea1b6f251b6d46022ff5f4123f0e851957.jpg\n",
      "../input/painting-vs-photograph-classification-dataset/Raw Data/painting/e180325f9c824d73938fc016c2361a124929fca7.jpg\n"
     ]
    },
    {
     "name": "stderr",
     "output_type": "stream",
     "text": [
      " 90%|█████████ | 2475/2737 [15:47<02:07,  2.06it/s]"
     ]
    },
    {
     "name": "stdout",
     "output_type": "stream",
     "text": [
      "../input/painting-vs-photograph-classification-dataset/Raw Data/painting/ed011deaf0509f466683cd01b191a8884677f9d6.jpg\n"
     ]
    },
    {
     "name": "stderr",
     "output_type": "stream",
     "text": [
      " 90%|█████████ | 2476/2737 [15:48<02:18,  1.89it/s]"
     ]
    },
    {
     "name": "stdout",
     "output_type": "stream",
     "text": [
      "../input/painting-vs-photograph-classification-dataset/Raw Data/photos/d4a7167db3590ac1716708d7c36c1f250fd439a6.jpg\n"
     ]
    },
    {
     "name": "stderr",
     "output_type": "stream",
     "text": [
      " 91%|█████████ | 2477/2737 [15:48<01:54,  2.28it/s]"
     ]
    },
    {
     "name": "stdout",
     "output_type": "stream",
     "text": [
      "../input/painting-vs-photograph-classification-dataset/Raw Data/photos/92aa054b1e700bd56b044087edded03c31d80e01.jpg\n"
     ]
    },
    {
     "name": "stderr",
     "output_type": "stream",
     "text": [
      " 91%|█████████ | 2478/2737 [15:48<01:46,  2.44it/s]"
     ]
    },
    {
     "name": "stdout",
     "output_type": "stream",
     "text": [
      "../input/painting-vs-photograph-classification-dataset/Raw Data/painting/cf30a79696f7359e27b884dc4d1c68ca1c55e8cf.jpg\n"
     ]
    },
    {
     "name": "stderr",
     "output_type": "stream",
     "text": [
      " 91%|█████████ | 2479/2737 [15:49<02:18,  1.86it/s]"
     ]
    },
    {
     "name": "stdout",
     "output_type": "stream",
     "text": [
      "../input/painting-vs-photograph-classification-dataset/Raw Data/painting/e78d535158a8d4a1e4c5b49f9c5f51200b582385.jpg\n"
     ]
    },
    {
     "name": "stderr",
     "output_type": "stream",
     "text": [
      " 91%|█████████ | 2480/2737 [15:49<02:13,  1.93it/s]"
     ]
    },
    {
     "name": "stdout",
     "output_type": "stream",
     "text": [
      "../input/painting-vs-photograph-classification-dataset/Raw Data/painting/d8513cdd3b17a33848c4a2d6489e3589eda6fcbb.jpg\n"
     ]
    },
    {
     "name": "stderr",
     "output_type": "stream",
     "text": [
      " 91%|█████████ | 2481/2737 [15:50<02:31,  1.70it/s]"
     ]
    },
    {
     "name": "stdout",
     "output_type": "stream",
     "text": [
      "../input/painting-vs-photograph-classification-dataset/Raw Data/photos/466606dd8b29d76733c9f151feac9fd231f4d3aa.jpg\n"
     ]
    },
    {
     "name": "stderr",
     "output_type": "stream",
     "text": [
      " 91%|█████████ | 2482/2737 [15:50<02:05,  2.03it/s]"
     ]
    },
    {
     "name": "stdout",
     "output_type": "stream",
     "text": [
      "../input/painting-vs-photograph-classification-dataset/Raw Data/painting/c27072ab0880d4905ce39698755d4ef7fbf619a2.jpg\n"
     ]
    },
    {
     "name": "stderr",
     "output_type": "stream",
     "text": [
      " 91%|█████████ | 2483/2737 [15:52<02:45,  1.53it/s]"
     ]
    },
    {
     "name": "stdout",
     "output_type": "stream",
     "text": [
      "../input/painting-vs-photograph-classification-dataset/Raw Data/photos/ba20df694b6b7dc9114c15c5ffde702127d4b684.jpg\n"
     ]
    },
    {
     "name": "stderr",
     "output_type": "stream",
     "text": [
      " 91%|█████████ | 2484/2737 [15:52<02:21,  1.79it/s]"
     ]
    },
    {
     "name": "stdout",
     "output_type": "stream",
     "text": [
      "../input/painting-vs-photograph-classification-dataset/Raw Data/photos/362c1c9ef3d3eefc5d8f92b793a6504c48923f54.jpg\n"
     ]
    },
    {
     "name": "stderr",
     "output_type": "stream",
     "text": [
      " 91%|█████████ | 2485/2737 [15:52<01:56,  2.17it/s]"
     ]
    },
    {
     "name": "stdout",
     "output_type": "stream",
     "text": [
      "../input/painting-vs-photograph-classification-dataset/Raw Data/photos/51468c3014404215ec715483be80f354cc49e467.jpg\n"
     ]
    },
    {
     "name": "stderr",
     "output_type": "stream",
     "text": [
      " 91%|█████████ | 2486/2737 [15:52<01:41,  2.48it/s]"
     ]
    },
    {
     "name": "stdout",
     "output_type": "stream",
     "text": [
      "../input/painting-vs-photograph-classification-dataset/Raw Data/painting/f040ef99178116ade4ad48e3c8da9fa2dc9e4cbe.jpg\n"
     ]
    },
    {
     "name": "stderr",
     "output_type": "stream",
     "text": [
      " 91%|█████████ | 2487/2737 [15:53<02:10,  1.91it/s]"
     ]
    },
    {
     "name": "stdout",
     "output_type": "stream",
     "text": [
      "../input/painting-vs-photograph-classification-dataset/Raw Data/painting/bf01ae09d20d26e5317448b45f70069c4887d33f.jpg\n"
     ]
    },
    {
     "name": "stderr",
     "output_type": "stream",
     "text": [
      " 91%|█████████ | 2489/2737 [15:54<01:56,  2.13it/s]"
     ]
    },
    {
     "name": "stdout",
     "output_type": "stream",
     "text": [
      "../input/painting-vs-photograph-classification-dataset/Raw Data/photos/d10d9fa957219bdc8e30b6df13810dacc5cb14f6.jpg\n",
      "../input/painting-vs-photograph-classification-dataset/Raw Data/photos/b758335e6c97911a23c2ee8c440d4193c69ad00d.jpg\n"
     ]
    },
    {
     "name": "stderr",
     "output_type": "stream",
     "text": [
      " 91%|█████████ | 2491/2737 [15:55<01:25,  2.87it/s]"
     ]
    },
    {
     "name": "stdout",
     "output_type": "stream",
     "text": [
      "../input/painting-vs-photograph-classification-dataset/Raw Data/photos/03e83a0ecdab2636f4dac7a94bbf1c6528a4fd9f.jpg\n",
      "../input/painting-vs-photograph-classification-dataset/Raw Data/painting/845c563d0879328d908564b7b12fcc8acd980086.jpg\n"
     ]
    },
    {
     "name": "stderr",
     "output_type": "stream",
     "text": [
      " 91%|█████████ | 2492/2737 [15:55<01:52,  2.18it/s]"
     ]
    },
    {
     "name": "stdout",
     "output_type": "stream",
     "text": [
      "../input/painting-vs-photograph-classification-dataset/Raw Data/photos/f57dffcdcf674d1f89704c8de0274b118e7f1093.jpg\n"
     ]
    },
    {
     "name": "stderr",
     "output_type": "stream",
     "text": [
      " 91%|█████████ | 2493/2737 [15:56<01:38,  2.48it/s]"
     ]
    },
    {
     "name": "stdout",
     "output_type": "stream",
     "text": [
      "../input/painting-vs-photograph-classification-dataset/Raw Data/photos/14838bd5f07822c3f71b3767117480c7a126a2dc.jpg\n"
     ]
    },
    {
     "name": "stderr",
     "output_type": "stream",
     "text": [
      " 91%|█████████ | 2494/2737 [15:56<01:31,  2.67it/s]"
     ]
    },
    {
     "name": "stdout",
     "output_type": "stream",
     "text": [
      "../input/painting-vs-photograph-classification-dataset/Raw Data/photos/dbcfc49f1f93ba739479169c559f1e8dd90278bf.jpg\n"
     ]
    },
    {
     "name": "stderr",
     "output_type": "stream",
     "text": [
      " 91%|█████████ | 2495/2737 [15:56<01:20,  3.00it/s]"
     ]
    },
    {
     "name": "stdout",
     "output_type": "stream",
     "text": [
      "../input/painting-vs-photograph-classification-dataset/Raw Data/painting/e52855c7c9ae0acabf206731f3dc4dd861f9d297.jpg\n"
     ]
    },
    {
     "name": "stderr",
     "output_type": "stream",
     "text": [
      " 91%|█████████ | 2496/2737 [15:57<01:38,  2.44it/s]"
     ]
    },
    {
     "name": "stdout",
     "output_type": "stream",
     "text": [
      "../input/painting-vs-photograph-classification-dataset/Raw Data/photos/d495294858d155f82cea83baf9254a3630ab6f38.jpg\n"
     ]
    },
    {
     "name": "stderr",
     "output_type": "stream",
     "text": [
      " 91%|█████████ | 2497/2737 [15:57<01:26,  2.77it/s]"
     ]
    },
    {
     "name": "stdout",
     "output_type": "stream",
     "text": [
      "../input/painting-vs-photograph-classification-dataset/Raw Data/photos/3d2479bac1536f2ff111a7539ed4bb317cfded7e.jpg\n"
     ]
    },
    {
     "name": "stderr",
     "output_type": "stream",
     "text": [
      " 91%|█████████▏| 2498/2737 [15:57<01:18,  3.03it/s]"
     ]
    },
    {
     "name": "stdout",
     "output_type": "stream",
     "text": [
      "../input/painting-vs-photograph-classification-dataset/Raw Data/photos/f75c4482dbc24278546e69234cd86dc2dc912b5c.jpg\n"
     ]
    },
    {
     "name": "stderr",
     "output_type": "stream",
     "text": [
      " 91%|█████████▏| 2499/2737 [15:57<01:10,  3.37it/s]"
     ]
    },
    {
     "name": "stdout",
     "output_type": "stream",
     "text": [
      "../input/painting-vs-photograph-classification-dataset/Raw Data/photos/b844c1f8ad8fc3757d220208c2f8920c8750748b.jpg\n"
     ]
    },
    {
     "name": "stderr",
     "output_type": "stream",
     "text": [
      " 91%|█████████▏| 2500/2737 [15:58<01:05,  3.62it/s]"
     ]
    },
    {
     "name": "stdout",
     "output_type": "stream",
     "text": [
      "../input/painting-vs-photograph-classification-dataset/Raw Data/painting/1a7b847824c50f00bb3f4751a417e91f57c524c4.jpg\n"
     ]
    },
    {
     "name": "stderr",
     "output_type": "stream",
     "text": [
      " 91%|█████████▏| 2501/2737 [15:58<01:29,  2.65it/s]"
     ]
    },
    {
     "name": "stdout",
     "output_type": "stream",
     "text": [
      "../input/painting-vs-photograph-classification-dataset/Raw Data/painting/97b687baab01877f1b8f131b906f53b26657d2cc.jpg\n"
     ]
    },
    {
     "name": "stderr",
     "output_type": "stream",
     "text": [
      " 91%|█████████▏| 2502/2737 [15:59<02:14,  1.74it/s]"
     ]
    },
    {
     "name": "stdout",
     "output_type": "stream",
     "text": [
      "../input/painting-vs-photograph-classification-dataset/Raw Data/photos/ade34291ce99c059b8451fbced32c6748c5cfeb1.jpg\n"
     ]
    },
    {
     "name": "stderr",
     "output_type": "stream",
     "text": [
      " 91%|█████████▏| 2503/2737 [16:00<01:50,  2.13it/s]"
     ]
    },
    {
     "name": "stdout",
     "output_type": "stream",
     "text": [
      "../input/painting-vs-photograph-classification-dataset/Raw Data/photos/91844657cf40c4ab0efaea49e7a56a02bc0c9a35.jpg\n"
     ]
    },
    {
     "name": "stderr",
     "output_type": "stream",
     "text": [
      " 91%|█████████▏| 2504/2737 [16:00<01:35,  2.43it/s]"
     ]
    },
    {
     "name": "stdout",
     "output_type": "stream",
     "text": [
      "../input/painting-vs-photograph-classification-dataset/Raw Data/photos/f1b85da57f1c9839a7af0af8ddcb55bd86b31304.jpg\n"
     ]
    },
    {
     "name": "stderr",
     "output_type": "stream",
     "text": [
      " 92%|█████████▏| 2505/2737 [16:00<01:22,  2.81it/s]"
     ]
    },
    {
     "name": "stdout",
     "output_type": "stream",
     "text": [
      "../input/painting-vs-photograph-classification-dataset/Raw Data/photos/cbce2749936320fdba6ab9955a108a8d1f7f6ae0.jpg\n"
     ]
    },
    {
     "name": "stderr",
     "output_type": "stream",
     "text": [
      " 92%|█████████▏| 2506/2737 [16:00<01:14,  3.08it/s]"
     ]
    },
    {
     "name": "stdout",
     "output_type": "stream",
     "text": [
      "../input/painting-vs-photograph-classification-dataset/Raw Data/painting/3f4e4a9506fcd265508b64a15ebf8b915c3fefa1.jpg\n"
     ]
    },
    {
     "name": "stderr",
     "output_type": "stream",
     "text": [
      " 92%|█████████▏| 2507/2737 [16:01<01:44,  2.20it/s]"
     ]
    },
    {
     "name": "stdout",
     "output_type": "stream",
     "text": [
      "../input/painting-vs-photograph-classification-dataset/Raw Data/photos/e9df31c684c2b57abae933fc35e53e9501b7f30b.jpg\n"
     ]
    },
    {
     "name": "stderr",
     "output_type": "stream",
     "text": [
      " 92%|█████████▏| 2508/2737 [16:01<01:29,  2.57it/s]"
     ]
    },
    {
     "name": "stdout",
     "output_type": "stream",
     "text": [
      "../input/painting-vs-photograph-classification-dataset/Raw Data/photos/230e04727b9636c9efb48cd57274e787dc17ce05.jpg\n"
     ]
    },
    {
     "name": "stderr",
     "output_type": "stream",
     "text": [
      " 92%|█████████▏| 2509/2737 [16:02<01:19,  2.89it/s]"
     ]
    },
    {
     "name": "stdout",
     "output_type": "stream",
     "text": [
      "../input/painting-vs-photograph-classification-dataset/Raw Data/photos/d357ce4359922d1a20a27799cb885bb7ddc6e75c.jpg\n"
     ]
    },
    {
     "name": "stderr",
     "output_type": "stream",
     "text": [
      " 92%|█████████▏| 2510/2737 [16:02<01:11,  3.19it/s]"
     ]
    },
    {
     "name": "stdout",
     "output_type": "stream",
     "text": [
      "../input/painting-vs-photograph-classification-dataset/Raw Data/photos/b162784bac2e33db28b37e2d187608676f33f16a.jpg\n"
     ]
    },
    {
     "name": "stderr",
     "output_type": "stream",
     "text": [
      " 92%|█████████▏| 2511/2737 [16:02<01:05,  3.47it/s]"
     ]
    },
    {
     "name": "stdout",
     "output_type": "stream",
     "text": [
      "../input/painting-vs-photograph-classification-dataset/Raw Data/painting/1bfaae70294d1dd7486e3826aece9f812db5613f.jpg\n"
     ]
    },
    {
     "name": "stderr",
     "output_type": "stream",
     "text": [
      " 92%|█████████▏| 2512/2737 [16:03<01:40,  2.24it/s]"
     ]
    },
    {
     "name": "stdout",
     "output_type": "stream",
     "text": [
      "../input/painting-vs-photograph-classification-dataset/Raw Data/photos/a97aacd14f31308aa8df116971cb2801ce84d463.jpg\n"
     ]
    },
    {
     "name": "stderr",
     "output_type": "stream",
     "text": [
      " 92%|█████████▏| 2513/2737 [16:03<01:25,  2.61it/s]"
     ]
    },
    {
     "name": "stdout",
     "output_type": "stream",
     "text": [
      "../input/painting-vs-photograph-classification-dataset/Raw Data/painting/28317a2a8d12ace11a9451b5a8e1cdc08302e324.jpg\n"
     ]
    },
    {
     "name": "stderr",
     "output_type": "stream",
     "text": [
      " 92%|█████████▏| 2514/2737 [16:04<01:46,  2.10it/s]"
     ]
    },
    {
     "name": "stdout",
     "output_type": "stream",
     "text": [
      "../input/painting-vs-photograph-classification-dataset/Raw Data/photos/850e11067d7725b6f9c63aafa8f9f16361da40f0.jpg\n"
     ]
    },
    {
     "name": "stderr",
     "output_type": "stream",
     "text": [
      " 92%|█████████▏| 2515/2737 [16:04<01:28,  2.51it/s]"
     ]
    },
    {
     "name": "stdout",
     "output_type": "stream",
     "text": [
      "../input/painting-vs-photograph-classification-dataset/Raw Data/photos/ebe07b4e519e65eccbea4a712a2d3a6b74aee0f8.jpg\n"
     ]
    },
    {
     "name": "stderr",
     "output_type": "stream",
     "text": [
      " 92%|█████████▏| 2516/2737 [16:04<01:19,  2.79it/s]"
     ]
    },
    {
     "name": "stdout",
     "output_type": "stream",
     "text": [
      "../input/painting-vs-photograph-classification-dataset/Raw Data/photos/6907de4453cf2474ac6ce4694736413c2dd43014.jpg\n"
     ]
    },
    {
     "name": "stderr",
     "output_type": "stream",
     "text": [
      " 92%|█████████▏| 2518/2737 [16:05<01:01,  3.54it/s]"
     ]
    },
    {
     "name": "stdout",
     "output_type": "stream",
     "text": [
      "../input/painting-vs-photograph-classification-dataset/Raw Data/photos/e8265a014821fc566dc76928a93a0e74ac54dbad.jpg\n",
      "../input/painting-vs-photograph-classification-dataset/Raw Data/painting/f6a3caa036cbafa2b9b3c23e71021ef5fa5225c4.jpg\n"
     ]
    },
    {
     "name": "stderr",
     "output_type": "stream",
     "text": [
      " 92%|█████████▏| 2519/2737 [16:05<01:27,  2.48it/s]"
     ]
    },
    {
     "name": "stdout",
     "output_type": "stream",
     "text": [
      "../input/painting-vs-photograph-classification-dataset/Raw Data/photos/0340bfee9918eb4b56da46a92e94d34485e29a77.jpg\n"
     ]
    },
    {
     "name": "stderr",
     "output_type": "stream",
     "text": [
      " 92%|█████████▏| 2520/2737 [16:06<01:17,  2.78it/s]"
     ]
    },
    {
     "name": "stdout",
     "output_type": "stream",
     "text": [
      "../input/painting-vs-photograph-classification-dataset/Raw Data/photos/987ecb93dc715faa40ae338414d446952a975809.jpg\n"
     ]
    },
    {
     "name": "stderr",
     "output_type": "stream",
     "text": [
      " 92%|█████████▏| 2521/2737 [16:06<01:16,  2.81it/s]"
     ]
    },
    {
     "name": "stdout",
     "output_type": "stream",
     "text": [
      "../input/painting-vs-photograph-classification-dataset/Raw Data/painting/cbef3098d6f75987dbd34936abdfbac6f89d78b9.jpg\n"
     ]
    },
    {
     "name": "stderr",
     "output_type": "stream",
     "text": [
      " 92%|█████████▏| 2522/2737 [16:07<02:00,  1.78it/s]"
     ]
    },
    {
     "name": "stdout",
     "output_type": "stream",
     "text": [
      "../input/painting-vs-photograph-classification-dataset/Raw Data/photos/cbb6d649ca7bfb11fbccba11566a0a407c6f46f1.jpg\n"
     ]
    },
    {
     "name": "stderr",
     "output_type": "stream",
     "text": [
      " 92%|█████████▏| 2523/2737 [16:07<01:40,  2.12it/s]"
     ]
    },
    {
     "name": "stdout",
     "output_type": "stream",
     "text": [
      "../input/painting-vs-photograph-classification-dataset/Raw Data/photos/3683378c20f987d839f253f983eb94eefe362aa9.jpg\n"
     ]
    },
    {
     "name": "stderr",
     "output_type": "stream",
     "text": [
      " 92%|█████████▏| 2524/2737 [16:07<01:25,  2.48it/s]"
     ]
    },
    {
     "name": "stdout",
     "output_type": "stream",
     "text": [
      "../input/painting-vs-photograph-classification-dataset/Raw Data/photos/3d775dd09880b37384e8ec9dcffe784bd9c196be.jpg\n"
     ]
    },
    {
     "name": "stderr",
     "output_type": "stream",
     "text": [
      " 92%|█████████▏| 2525/2737 [16:08<01:18,  2.70it/s]"
     ]
    },
    {
     "name": "stdout",
     "output_type": "stream",
     "text": [
      "../input/painting-vs-photograph-classification-dataset/Raw Data/photos/177f79354afbc18fe4845ab191224f18c7a8d964.jpg\n"
     ]
    },
    {
     "name": "stderr",
     "output_type": "stream",
     "text": [
      " 92%|█████████▏| 2526/2737 [16:08<01:11,  2.94it/s]"
     ]
    },
    {
     "name": "stdout",
     "output_type": "stream",
     "text": [
      "../input/painting-vs-photograph-classification-dataset/Raw Data/painting/cd94a5e671fe0f939b42371b06c79dab1540a515.jpg\n"
     ]
    },
    {
     "name": "stderr",
     "output_type": "stream",
     "text": [
      " 92%|█████████▏| 2527/2737 [16:09<01:36,  2.18it/s]"
     ]
    },
    {
     "name": "stdout",
     "output_type": "stream",
     "text": [
      "../input/painting-vs-photograph-classification-dataset/Raw Data/photos/f4ef41cf524f61e078e15bcaa49daab3a8bdf02e.jpg\n"
     ]
    },
    {
     "name": "stderr",
     "output_type": "stream",
     "text": [
      " 92%|█████████▏| 2529/2737 [16:09<01:07,  3.06it/s]"
     ]
    },
    {
     "name": "stdout",
     "output_type": "stream",
     "text": [
      "../input/painting-vs-photograph-classification-dataset/Raw Data/photos/c249ccfe7511153d1038ceb88fab7bf8d11512af.jpg\n",
      "../input/painting-vs-photograph-classification-dataset/Raw Data/photos/bea1cb65b1cea8af3474a7dcf3896854716f5ecf.jpg\n"
     ]
    },
    {
     "name": "stderr",
     "output_type": "stream",
     "text": [
      " 92%|█████████▏| 2530/2737 [16:09<01:04,  3.23it/s]"
     ]
    },
    {
     "name": "stdout",
     "output_type": "stream",
     "text": [
      "../input/painting-vs-photograph-classification-dataset/Raw Data/painting/ef098f4407ebd43cf8d5989a473c183a8ff6ecbf.jpg\n"
     ]
    },
    {
     "name": "stderr",
     "output_type": "stream",
     "text": [
      " 92%|█████████▏| 2531/2737 [16:10<01:34,  2.19it/s]"
     ]
    },
    {
     "name": "stdout",
     "output_type": "stream",
     "text": [
      "../input/painting-vs-photograph-classification-dataset/Raw Data/photos/ea0ddee16de69896f3e6e664336e6b24031036d8.jpg\n"
     ]
    },
    {
     "name": "stderr",
     "output_type": "stream",
     "text": [
      " 93%|█████████▎| 2532/2737 [16:10<01:20,  2.56it/s]"
     ]
    },
    {
     "name": "stdout",
     "output_type": "stream",
     "text": [
      "../input/painting-vs-photograph-classification-dataset/Raw Data/photos/213b5856410809c3690cf04999f3e818d0d9e66d.jpg\n"
     ]
    },
    {
     "name": "stderr",
     "output_type": "stream",
     "text": [
      " 93%|█████████▎| 2533/2737 [16:11<01:09,  2.93it/s]"
     ]
    },
    {
     "name": "stdout",
     "output_type": "stream",
     "text": [
      "../input/painting-vs-photograph-classification-dataset/Raw Data/painting/f744f6155d5ddb0ab8425e1801bc1460c4e6c1c9.jpg\n"
     ]
    },
    {
     "name": "stderr",
     "output_type": "stream",
     "text": [
      " 93%|█████████▎| 2534/2737 [16:12<01:35,  2.12it/s]"
     ]
    },
    {
     "name": "stdout",
     "output_type": "stream",
     "text": [
      "../input/painting-vs-photograph-classification-dataset/Raw Data/painting/1804c05d4b398af775585bb46c9651b9c7c4ccb8.jpg\n"
     ]
    },
    {
     "name": "stderr",
     "output_type": "stream",
     "text": [
      " 93%|█████████▎| 2535/2737 [16:12<01:57,  1.71it/s]"
     ]
    },
    {
     "name": "stdout",
     "output_type": "stream",
     "text": [
      "../input/painting-vs-photograph-classification-dataset/Raw Data/photos/d7d89a73d4034964da4fe0cea4d1b23efa3dd46d.jpg\n"
     ]
    },
    {
     "name": "stderr",
     "output_type": "stream",
     "text": [
      " 93%|█████████▎| 2536/2737 [16:13<01:35,  2.10it/s]"
     ]
    },
    {
     "name": "stdout",
     "output_type": "stream",
     "text": [
      "../input/painting-vs-photograph-classification-dataset/Raw Data/painting/b7c5a0cb74f038f7458c75f4c6d97c776f7a4c90.jpg\n"
     ]
    },
    {
     "name": "stderr",
     "output_type": "stream",
     "text": [
      " 93%|█████████▎| 2537/2737 [16:13<01:56,  1.71it/s]"
     ]
    },
    {
     "name": "stdout",
     "output_type": "stream",
     "text": [
      "../input/painting-vs-photograph-classification-dataset/Raw Data/photos/1924f05f64c0694a5e2607061c13e0cdebdb343e.jpg\n"
     ]
    },
    {
     "name": "stderr",
     "output_type": "stream",
     "text": [
      " 93%|█████████▎| 2539/2737 [16:14<01:19,  2.48it/s]"
     ]
    },
    {
     "name": "stdout",
     "output_type": "stream",
     "text": [
      "../input/painting-vs-photograph-classification-dataset/Raw Data/photos/91583d7ca6730fa75218aabea4fed287231d3276.jpg\n",
      "../input/painting-vs-photograph-classification-dataset/Raw Data/photos/ca4367db6aadb5ac6c7b6bc21fe18caec1a3b900.jpg\n"
     ]
    },
    {
     "name": "stderr",
     "output_type": "stream",
     "text": [
      " 93%|█████████▎| 2540/2737 [16:14<01:08,  2.87it/s]"
     ]
    },
    {
     "name": "stdout",
     "output_type": "stream",
     "text": [
      "../input/painting-vs-photograph-classification-dataset/Raw Data/photos/a6fbc9850866b87fdb49c194e5d951c100a15271.jpg\n"
     ]
    },
    {
     "name": "stderr",
     "output_type": "stream",
     "text": [
      " 93%|█████████▎| 2541/2737 [16:14<01:01,  3.19it/s]"
     ]
    },
    {
     "name": "stdout",
     "output_type": "stream",
     "text": [
      "../input/painting-vs-photograph-classification-dataset/Raw Data/painting/21e624029ff1a6bc04a334ebbc0cccb37e4a2085.jpg\n"
     ]
    },
    {
     "name": "stderr",
     "output_type": "stream",
     "text": [
      " 93%|█████████▎| 2542/2737 [16:15<01:21,  2.39it/s]"
     ]
    },
    {
     "name": "stdout",
     "output_type": "stream",
     "text": [
      "../input/painting-vs-photograph-classification-dataset/Raw Data/photos/f4df41198e815a23c3329eca21bd377266be72f5.jpg\n"
     ]
    },
    {
     "name": "stderr",
     "output_type": "stream",
     "text": [
      " 93%|█████████▎| 2543/2737 [16:15<01:12,  2.67it/s]"
     ]
    },
    {
     "name": "stdout",
     "output_type": "stream",
     "text": [
      "../input/painting-vs-photograph-classification-dataset/Raw Data/painting/f4378834e536ddf6b14202bd0f739d5867017ccf.jpg\n"
     ]
    },
    {
     "name": "stderr",
     "output_type": "stream",
     "text": [
      " 93%|█████████▎| 2544/2737 [16:16<01:10,  2.75it/s]"
     ]
    },
    {
     "name": "stdout",
     "output_type": "stream",
     "text": [
      "../input/painting-vs-photograph-classification-dataset/Raw Data/painting/44601f520343398234d29f4f83b15ea8bc8ed6c8.jpg\n"
     ]
    },
    {
     "name": "stderr",
     "output_type": "stream",
     "text": [
      " 93%|█████████▎| 2545/2737 [16:16<01:36,  1.99it/s]"
     ]
    },
    {
     "name": "stdout",
     "output_type": "stream",
     "text": [
      "../input/painting-vs-photograph-classification-dataset/Raw Data/photos/80e25c57cab952e445731c3cbdc6a1046e453b98.jpg\n"
     ]
    },
    {
     "name": "stderr",
     "output_type": "stream",
     "text": [
      " 93%|█████████▎| 2546/2737 [16:17<01:19,  2.39it/s]"
     ]
    },
    {
     "name": "stdout",
     "output_type": "stream",
     "text": [
      "../input/painting-vs-photograph-classification-dataset/Raw Data/photos/21684ca5fbbf21c8150110161fe3f2c3f6fcfa78.jpg\n"
     ]
    },
    {
     "name": "stderr",
     "output_type": "stream",
     "text": [
      " 93%|█████████▎| 2547/2737 [16:17<01:08,  2.76it/s]"
     ]
    },
    {
     "name": "stdout",
     "output_type": "stream",
     "text": [
      "../input/painting-vs-photograph-classification-dataset/Raw Data/painting/23b16cb05c928149e4efd88fe82b48d3de1b4055.jpg\n"
     ]
    },
    {
     "name": "stderr",
     "output_type": "stream",
     "text": [
      " 93%|█████████▎| 2548/2737 [16:18<01:24,  2.23it/s]"
     ]
    },
    {
     "name": "stdout",
     "output_type": "stream",
     "text": [
      "../input/painting-vs-photograph-classification-dataset/Raw Data/photos/e72fded0f7363d0fbb9822f4ff26ed2933f479d3.jpg\n"
     ]
    },
    {
     "name": "stderr",
     "output_type": "stream",
     "text": [
      " 93%|█████████▎| 2550/2737 [16:18<01:00,  3.07it/s]"
     ]
    },
    {
     "name": "stdout",
     "output_type": "stream",
     "text": [
      "../input/painting-vs-photograph-classification-dataset/Raw Data/photos/9bfb0688b7d1a7cb124e5b456d4d278305949e17.jpg\n",
      "../input/painting-vs-photograph-classification-dataset/Raw Data/photos/b7ff322ef607aa0a82fdce91173819a084965948.jpg\n"
     ]
    },
    {
     "name": "stderr",
     "output_type": "stream",
     "text": [
      " 93%|█████████▎| 2551/2737 [16:18<00:56,  3.29it/s]"
     ]
    },
    {
     "name": "stdout",
     "output_type": "stream",
     "text": [
      "../input/painting-vs-photograph-classification-dataset/Raw Data/photos/f92e5d281e2ba9724090ec8576dff1f06e448b8f.jpg\n"
     ]
    },
    {
     "name": "stderr",
     "output_type": "stream",
     "text": [
      " 93%|█████████▎| 2552/2737 [16:18<00:51,  3.56it/s]"
     ]
    },
    {
     "name": "stdout",
     "output_type": "stream",
     "text": [
      "../input/painting-vs-photograph-classification-dataset/Raw Data/photos/b38daf7de21ef3381855b059462b9a24bb2509f6.jpg\n"
     ]
    },
    {
     "name": "stderr",
     "output_type": "stream",
     "text": [
      " 93%|█████████▎| 2553/2737 [16:19<00:48,  3.80it/s]"
     ]
    },
    {
     "name": "stdout",
     "output_type": "stream",
     "text": [
      "../input/painting-vs-photograph-classification-dataset/Raw Data/photos/f61f544c89b2884b266ae1c1954fbb60b7e0388c.jpg\n"
     ]
    },
    {
     "name": "stderr",
     "output_type": "stream",
     "text": [
      " 93%|█████████▎| 2554/2737 [16:19<00:50,  3.61it/s]"
     ]
    },
    {
     "name": "stdout",
     "output_type": "stream",
     "text": [
      "../input/painting-vs-photograph-classification-dataset/Raw Data/painting/32da0dcb504140fa2b82b34dcff70d257db7e156.jpg\n"
     ]
    },
    {
     "name": "stderr",
     "output_type": "stream",
     "text": [
      " 93%|█████████▎| 2555/2737 [16:20<01:31,  1.99it/s]"
     ]
    },
    {
     "name": "stdout",
     "output_type": "stream",
     "text": [
      "../input/painting-vs-photograph-classification-dataset/Raw Data/photos/fe340dd3be46c6a6f55d883be4c139223af642c8.jpg\n"
     ]
    },
    {
     "name": "stderr",
     "output_type": "stream",
     "text": [
      " 93%|█████████▎| 2556/2737 [16:20<01:15,  2.39it/s]"
     ]
    },
    {
     "name": "stdout",
     "output_type": "stream",
     "text": [
      "../input/painting-vs-photograph-classification-dataset/Raw Data/photos/a0329903b409476258675dc82cd15c83912761ed.jpg\n"
     ]
    },
    {
     "name": "stderr",
     "output_type": "stream",
     "text": [
      " 93%|█████████▎| 2557/2737 [16:20<01:05,  2.74it/s]"
     ]
    },
    {
     "name": "stdout",
     "output_type": "stream",
     "text": [
      "../input/painting-vs-photograph-classification-dataset/Raw Data/photos/fa96db791b2dc4ac4f5977a2fbc101a584527477.jpg\n"
     ]
    },
    {
     "name": "stderr",
     "output_type": "stream",
     "text": [
      " 93%|█████████▎| 2558/2737 [16:21<00:59,  3.03it/s]"
     ]
    },
    {
     "name": "stdout",
     "output_type": "stream",
     "text": [
      "../input/painting-vs-photograph-classification-dataset/Raw Data/photos/cdc0faab0cdc3b986fde1c1a5fe2815e5481167e.jpg\n"
     ]
    },
    {
     "name": "stderr",
     "output_type": "stream",
     "text": [
      " 93%|█████████▎| 2559/2737 [16:21<00:54,  3.29it/s]"
     ]
    },
    {
     "name": "stdout",
     "output_type": "stream",
     "text": [
      "../input/painting-vs-photograph-classification-dataset/Raw Data/photos/2967dff56ae8c1d2883d25c46941b2a265831fb8.jpg\n"
     ]
    },
    {
     "name": "stderr",
     "output_type": "stream",
     "text": [
      " 94%|█████████▎| 2560/2737 [16:21<00:51,  3.45it/s]"
     ]
    },
    {
     "name": "stdout",
     "output_type": "stream",
     "text": [
      "../input/painting-vs-photograph-classification-dataset/Raw Data/photos/914cf9b9a20d470eb24ea0cc9ba5018d953a7164.jpg\n"
     ]
    },
    {
     "name": "stderr",
     "output_type": "stream",
     "text": [
      " 94%|█████████▎| 2562/2737 [16:22<00:47,  3.68it/s]"
     ]
    },
    {
     "name": "stdout",
     "output_type": "stream",
     "text": [
      "../input/painting-vs-photograph-classification-dataset/Raw Data/photos/c09737b75199bbe460fb399e7c16b949996949a4.jpg\n",
      "../input/painting-vs-photograph-classification-dataset/Raw Data/photos/4646c75a531607154dad2e3347b0a73a78528fa3.jpg\n"
     ]
    },
    {
     "name": "stderr",
     "output_type": "stream",
     "text": [
      " 94%|█████████▎| 2563/2737 [16:22<00:47,  3.69it/s]"
     ]
    },
    {
     "name": "stdout",
     "output_type": "stream",
     "text": [
      "../input/painting-vs-photograph-classification-dataset/Raw Data/photos/c51f662b4c168693a0762982475a3178269df6f6.jpg\n"
     ]
    },
    {
     "name": "stderr",
     "output_type": "stream",
     "text": [
      " 94%|█████████▎| 2564/2737 [16:22<00:48,  3.60it/s]"
     ]
    },
    {
     "name": "stdout",
     "output_type": "stream",
     "text": [
      "../input/painting-vs-photograph-classification-dataset/Raw Data/photos/45d74e491be499c0f5c40dd0656b2999ee18edba.jpg\n"
     ]
    },
    {
     "name": "stderr",
     "output_type": "stream",
     "text": [
      " 94%|█████████▎| 2565/2737 [16:23<00:45,  3.74it/s]"
     ]
    },
    {
     "name": "stdout",
     "output_type": "stream",
     "text": [
      "../input/painting-vs-photograph-classification-dataset/Raw Data/painting/a717445fe5438fe2a18914479bafbc06485f3480.jpg\n"
     ]
    },
    {
     "name": "stderr",
     "output_type": "stream",
     "text": [
      " 94%|█████████▍| 2566/2737 [16:23<01:08,  2.51it/s]"
     ]
    },
    {
     "name": "stdout",
     "output_type": "stream",
     "text": [
      "../input/painting-vs-photograph-classification-dataset/Raw Data/painting/ea422ae88f06742afe47f227dfbd843d16cefce1.jpg\n"
     ]
    },
    {
     "name": "stderr",
     "output_type": "stream",
     "text": [
      " 94%|█████████▍| 2567/2737 [16:24<01:11,  2.39it/s]"
     ]
    },
    {
     "name": "stdout",
     "output_type": "stream",
     "text": [
      "../input/painting-vs-photograph-classification-dataset/Raw Data/photos/ca55e4e4a82b3b8888bba88b0d3f8572d4faa3ab.jpg\n"
     ]
    },
    {
     "name": "stderr",
     "output_type": "stream",
     "text": [
      " 94%|█████████▍| 2568/2737 [16:24<01:01,  2.76it/s]"
     ]
    },
    {
     "name": "stdout",
     "output_type": "stream",
     "text": [
      "../input/painting-vs-photograph-classification-dataset/Raw Data/photos/f28e76db7bd4eca948f524ae8e59f4568116eb1c.jpg\n"
     ]
    },
    {
     "name": "stderr",
     "output_type": "stream",
     "text": [
      " 94%|█████████▍| 2569/2737 [16:24<00:54,  3.10it/s]"
     ]
    },
    {
     "name": "stdout",
     "output_type": "stream",
     "text": [
      "../input/painting-vs-photograph-classification-dataset/Raw Data/photos/fdcf5e4a0427a48a7ca9826f0d9288acb35b0449.jpg\n"
     ]
    },
    {
     "name": "stderr",
     "output_type": "stream",
     "text": [
      " 94%|█████████▍| 2570/2737 [16:24<00:49,  3.38it/s]"
     ]
    },
    {
     "name": "stdout",
     "output_type": "stream",
     "text": [
      "../input/painting-vs-photograph-classification-dataset/Raw Data/painting/efbc2785ff904ac4d7a429bb5bffb9d46a540ea9.jpg\n"
     ]
    },
    {
     "name": "stderr",
     "output_type": "stream",
     "text": [
      " 94%|█████████▍| 2571/2737 [16:25<01:11,  2.33it/s]"
     ]
    },
    {
     "name": "stdout",
     "output_type": "stream",
     "text": [
      "../input/painting-vs-photograph-classification-dataset/Raw Data/photos/8424c02d094cc91f2e1d9aaef58d2ada4e47a594.jpg\n"
     ]
    },
    {
     "name": "stderr",
     "output_type": "stream",
     "text": [
      " 94%|█████████▍| 2572/2737 [16:25<00:59,  2.75it/s]"
     ]
    },
    {
     "name": "stdout",
     "output_type": "stream",
     "text": [
      "../input/painting-vs-photograph-classification-dataset/Raw Data/photos/7578186b9b54f6d9d917bf4c4c345e5b02c8e981.jpg\n"
     ]
    },
    {
     "name": "stderr",
     "output_type": "stream",
     "text": [
      " 94%|█████████▍| 2573/2737 [16:26<00:51,  3.15it/s]"
     ]
    },
    {
     "name": "stdout",
     "output_type": "stream",
     "text": [
      "../input/painting-vs-photograph-classification-dataset/Raw Data/painting/694b32183b4d395061b52e3921114869bdd9a3d7.jpg\n"
     ]
    },
    {
     "name": "stderr",
     "output_type": "stream",
     "text": [
      " 94%|█████████▍| 2574/2737 [16:27<01:27,  1.87it/s]"
     ]
    },
    {
     "name": "stdout",
     "output_type": "stream",
     "text": [
      "../input/painting-vs-photograph-classification-dataset/Raw Data/painting/15c5d17015d89452a2fdc11c1770ef08a7f93e2e.jpg\n"
     ]
    },
    {
     "name": "stderr",
     "output_type": "stream",
     "text": [
      " 94%|█████████▍| 2575/2737 [16:27<01:35,  1.69it/s]"
     ]
    },
    {
     "name": "stdout",
     "output_type": "stream",
     "text": [
      "../input/painting-vs-photograph-classification-dataset/Raw Data/painting/db774dbbb2dc3174a72b46e68e56fdd3f9485f9e.jpg\n"
     ]
    },
    {
     "name": "stderr",
     "output_type": "stream",
     "text": [
      " 94%|█████████▍| 2576/2737 [16:28<01:40,  1.61it/s]"
     ]
    },
    {
     "name": "stdout",
     "output_type": "stream",
     "text": [
      "../input/painting-vs-photograph-classification-dataset/Raw Data/painting/877662a70348310215888aceef83c9b66a930f24.jpg\n"
     ]
    },
    {
     "name": "stderr",
     "output_type": "stream",
     "text": [
      " 94%|█████████▍| 2577/2737 [16:29<01:33,  1.71it/s]"
     ]
    },
    {
     "name": "stdout",
     "output_type": "stream",
     "text": [
      "../input/painting-vs-photograph-classification-dataset/Raw Data/photos/d4815751e4a12543f1d337eca753330ee2b5b92b.jpg\n"
     ]
    },
    {
     "name": "stderr",
     "output_type": "stream",
     "text": [
      " 94%|█████████▍| 2578/2737 [16:29<01:17,  2.06it/s]"
     ]
    },
    {
     "name": "stdout",
     "output_type": "stream",
     "text": [
      "../input/painting-vs-photograph-classification-dataset/Raw Data/photos/18a39316d4cf13789cf8961d14181526a2462086.jpg\n"
     ]
    },
    {
     "name": "stderr",
     "output_type": "stream",
     "text": [
      " 94%|█████████▍| 2579/2737 [16:29<01:05,  2.42it/s]"
     ]
    },
    {
     "name": "stdout",
     "output_type": "stream",
     "text": [
      "../input/painting-vs-photograph-classification-dataset/Raw Data/painting/765a08a95754502378a4482175dafc9b9f694a32.jpg\n"
     ]
    },
    {
     "name": "stderr",
     "output_type": "stream",
     "text": [
      " 94%|█████████▍| 2580/2737 [16:30<01:34,  1.67it/s]"
     ]
    },
    {
     "name": "stdout",
     "output_type": "stream",
     "text": [
      "../input/painting-vs-photograph-classification-dataset/Raw Data/photos/d2034d702b4eabd8ca55a46930d2dc9c45ed1263.jpg\n"
     ]
    },
    {
     "name": "stderr",
     "output_type": "stream",
     "text": [
      " 94%|█████████▍| 2581/2737 [16:30<01:16,  2.05it/s]"
     ]
    },
    {
     "name": "stdout",
     "output_type": "stream",
     "text": [
      "../input/painting-vs-photograph-classification-dataset/Raw Data/photos/074e2f8a549e05df27e421cf89c6fecacc847e25.jpg\n"
     ]
    },
    {
     "name": "stderr",
     "output_type": "stream",
     "text": [
      " 94%|█████████▍| 2582/2737 [16:31<01:04,  2.42it/s]"
     ]
    },
    {
     "name": "stdout",
     "output_type": "stream",
     "text": [
      "../input/painting-vs-photograph-classification-dataset/Raw Data/painting/16b493b647355d7ef34c3b5d58bbb7695cdb347b.jpg\n"
     ]
    },
    {
     "name": "stderr",
     "output_type": "stream",
     "text": [
      " 94%|█████████▍| 2583/2737 [16:31<01:13,  2.10it/s]"
     ]
    },
    {
     "name": "stdout",
     "output_type": "stream",
     "text": [
      "../input/painting-vs-photograph-classification-dataset/Raw Data/photos/cc657eeba465a1e0e103fd916b7c63859564c304.jpg\n"
     ]
    },
    {
     "name": "stderr",
     "output_type": "stream",
     "text": [
      " 94%|█████████▍| 2584/2737 [16:31<01:02,  2.46it/s]"
     ]
    },
    {
     "name": "stdout",
     "output_type": "stream",
     "text": [
      "../input/painting-vs-photograph-classification-dataset/Raw Data/painting/f7eefa8c69beac34922bf68316a8e62255bd9871.jpg\n"
     ]
    },
    {
     "name": "stderr",
     "output_type": "stream",
     "text": [
      " 94%|█████████▍| 2585/2737 [16:32<01:20,  1.89it/s]"
     ]
    },
    {
     "name": "stdout",
     "output_type": "stream",
     "text": [
      "../input/painting-vs-photograph-classification-dataset/Raw Data/photos/984f66f9de91e198393310a12e2b0e1059549dea.jpg\n"
     ]
    },
    {
     "name": "stderr",
     "output_type": "stream",
     "text": [
      " 95%|█████████▍| 2587/2737 [16:33<00:56,  2.64it/s]"
     ]
    },
    {
     "name": "stdout",
     "output_type": "stream",
     "text": [
      "../input/painting-vs-photograph-classification-dataset/Raw Data/photos/f5573dac19e5111b7832c0a20628dd39410397ed.jpg\n",
      "../input/painting-vs-photograph-classification-dataset/Raw Data/photos/3f1c06fa3588c2ab4533805bf756a62efb7042ac.jpg\n"
     ]
    },
    {
     "name": "stderr",
     "output_type": "stream",
     "text": [
      " 95%|█████████▍| 2588/2737 [16:33<00:53,  2.76it/s]"
     ]
    },
    {
     "name": "stdout",
     "output_type": "stream",
     "text": [
      "../input/painting-vs-photograph-classification-dataset/Raw Data/photos/83328b68e165182bec9044d9c30b340b9dc1b41b.jpg\n"
     ]
    },
    {
     "name": "stderr",
     "output_type": "stream",
     "text": [
      " 95%|█████████▍| 2589/2737 [16:33<00:47,  3.09it/s]"
     ]
    },
    {
     "name": "stdout",
     "output_type": "stream",
     "text": [
      "../input/painting-vs-photograph-classification-dataset/Raw Data/photos/49e5016295a91ccffb407a22ce4d4dce0c514440.jpg\n"
     ]
    },
    {
     "name": "stderr",
     "output_type": "stream",
     "text": [
      " 95%|█████████▍| 2590/2737 [16:34<00:48,  3.03it/s]"
     ]
    },
    {
     "name": "stdout",
     "output_type": "stream",
     "text": [
      "../input/painting-vs-photograph-classification-dataset/Raw Data/painting/d38ae2c521be531b3d2b629a9d64ce9b2d04c7c5.jpg\n"
     ]
    },
    {
     "name": "stderr",
     "output_type": "stream",
     "text": [
      " 95%|█████████▍| 2591/2737 [16:34<00:52,  2.76it/s]"
     ]
    },
    {
     "name": "stdout",
     "output_type": "stream",
     "text": [
      "../input/painting-vs-photograph-classification-dataset/Raw Data/photos/86b8afff538ef5493c0e6118691bb31d35499980.jpg\n"
     ]
    },
    {
     "name": "stderr",
     "output_type": "stream",
     "text": [
      " 95%|█████████▍| 2592/2737 [16:34<00:50,  2.87it/s]"
     ]
    },
    {
     "name": "stdout",
     "output_type": "stream",
     "text": [
      "../input/painting-vs-photograph-classification-dataset/Raw Data/photos/c67e0c5ff48eb063e2fa3e4e36c554e255d5c689.jpg\n"
     ]
    },
    {
     "name": "stderr",
     "output_type": "stream",
     "text": [
      " 95%|█████████▍| 2594/2737 [16:35<00:43,  3.28it/s]"
     ]
    },
    {
     "name": "stdout",
     "output_type": "stream",
     "text": [
      "../input/painting-vs-photograph-classification-dataset/Raw Data/photos/b76363e2dba45fb4ac3017734f2dd09a10b5b12c.jpg\n",
      "../input/painting-vs-photograph-classification-dataset/Raw Data/painting/23aa8aa5fa9d958a4648a4930ae470856a21be96.jpg\n"
     ]
    },
    {
     "name": "stderr",
     "output_type": "stream",
     "text": [
      " 95%|█████████▍| 2596/2737 [16:36<00:59,  2.36it/s]"
     ]
    },
    {
     "name": "stdout",
     "output_type": "stream",
     "text": [
      "../input/painting-vs-photograph-classification-dataset/Raw Data/photos/651dbf93a835c858492c3bc888651f5dd3ea8edf.jpg\n",
      "../input/painting-vs-photograph-classification-dataset/Raw Data/photos/e327738ae5eea7c1fd156ade1adf4098bd9ac11a.jpg\n"
     ]
    },
    {
     "name": "stderr",
     "output_type": "stream",
     "text": [
      " 95%|█████████▍| 2597/2737 [16:36<00:52,  2.67it/s]"
     ]
    },
    {
     "name": "stdout",
     "output_type": "stream",
     "text": [
      "../input/painting-vs-photograph-classification-dataset/Raw Data/painting/66f61bf88acd43b82944a7fbb29754af767eca2d.jpg\n"
     ]
    },
    {
     "name": "stderr",
     "output_type": "stream",
     "text": [
      " 95%|█████████▍| 2598/2737 [16:37<00:59,  2.34it/s]"
     ]
    },
    {
     "name": "stdout",
     "output_type": "stream",
     "text": [
      "../input/painting-vs-photograph-classification-dataset/Raw Data/painting/11f7943e8f8380c2134ffabfe34f3e7850d151d8.jpg\n"
     ]
    },
    {
     "name": "stderr",
     "output_type": "stream",
     "text": [
      " 95%|█████████▍| 2599/2737 [16:38<01:10,  1.96it/s]"
     ]
    },
    {
     "name": "stdout",
     "output_type": "stream",
     "text": [
      "../input/painting-vs-photograph-classification-dataset/Raw Data/painting/a44fc7b098291eaa66a32c83bba90728e242cf44.jpg\n"
     ]
    },
    {
     "name": "stderr",
     "output_type": "stream",
     "text": [
      " 95%|█████████▍| 2600/2737 [16:38<01:10,  1.95it/s]"
     ]
    },
    {
     "name": "stdout",
     "output_type": "stream",
     "text": [
      "../input/painting-vs-photograph-classification-dataset/Raw Data/photos/c55e0cbf502cde097ea14de2f13c2d9b17c1529e.jpg\n"
     ]
    },
    {
     "name": "stderr",
     "output_type": "stream",
     "text": [
      " 95%|█████████▌| 2601/2737 [16:38<00:57,  2.38it/s]"
     ]
    },
    {
     "name": "stdout",
     "output_type": "stream",
     "text": [
      "../input/painting-vs-photograph-classification-dataset/Raw Data/photos/e7316a3f412d50052feeda22045a1f2d66919392.jpg\n"
     ]
    },
    {
     "name": "stderr",
     "output_type": "stream",
     "text": [
      " 95%|█████████▌| 2602/2737 [16:39<00:50,  2.69it/s]"
     ]
    },
    {
     "name": "stdout",
     "output_type": "stream",
     "text": [
      "../input/painting-vs-photograph-classification-dataset/Raw Data/photos/f34c2f3dbc33e3cabdd21a9fe7b10ccae7a5360f.jpg\n"
     ]
    },
    {
     "name": "stderr",
     "output_type": "stream",
     "text": [
      " 95%|█████████▌| 2603/2737 [16:39<00:44,  3.03it/s]"
     ]
    },
    {
     "name": "stdout",
     "output_type": "stream",
     "text": [
      "../input/painting-vs-photograph-classification-dataset/Raw Data/photos/6560af7ce5713bdc8ef56e7fa255f5e1307c4858.jpg\n"
     ]
    },
    {
     "name": "stderr",
     "output_type": "stream",
     "text": [
      " 95%|█████████▌| 2605/2737 [16:39<00:35,  3.77it/s]"
     ]
    },
    {
     "name": "stdout",
     "output_type": "stream",
     "text": [
      "../input/painting-vs-photograph-classification-dataset/Raw Data/photos/b1d8df7e710695e13cdb54d0d5bc820d7ecf99df.jpg\n",
      "../input/painting-vs-photograph-classification-dataset/Raw Data/photos/626ebb77ac767871e4e51385de53ac1d90d7a0d6.jpg\n"
     ]
    },
    {
     "name": "stderr",
     "output_type": "stream",
     "text": [
      " 95%|█████████▌| 2606/2737 [16:40<00:32,  4.01it/s]"
     ]
    },
    {
     "name": "stdout",
     "output_type": "stream",
     "text": [
      "../input/painting-vs-photograph-classification-dataset/Raw Data/photos/bde046c1e0e0c553e01264d431ca1aa51abe0f5f.jpg\n"
     ]
    },
    {
     "name": "stderr",
     "output_type": "stream",
     "text": [
      " 95%|█████████▌| 2608/2737 [16:40<00:27,  4.73it/s]"
     ]
    },
    {
     "name": "stdout",
     "output_type": "stream",
     "text": [
      "../input/painting-vs-photograph-classification-dataset/Raw Data/photos/c083714ab311ae02f9ed805fb373fb14d33ec592.jpg\n",
      "../input/painting-vs-photograph-classification-dataset/Raw Data/photos/a83d65e38188c544301ed33e83c32dedc65db16c.jpg\n"
     ]
    },
    {
     "name": "stderr",
     "output_type": "stream",
     "text": [
      " 95%|█████████▌| 2609/2737 [16:40<00:30,  4.26it/s]"
     ]
    },
    {
     "name": "stdout",
     "output_type": "stream",
     "text": [
      "../input/painting-vs-photograph-classification-dataset/Raw Data/painting/7b3620d840dc24abeb6de6f73e4890880eb2822f.jpg\n"
     ]
    },
    {
     "name": "stderr",
     "output_type": "stream",
     "text": [
      " 95%|█████████▌| 2610/2737 [16:41<00:54,  2.32it/s]"
     ]
    },
    {
     "name": "stdout",
     "output_type": "stream",
     "text": [
      "../input/painting-vs-photograph-classification-dataset/Raw Data/photos/ec9e8446cac2a92a04f0654d62ff7130599e3edf.jpg\n"
     ]
    },
    {
     "name": "stderr",
     "output_type": "stream",
     "text": [
      " 95%|█████████▌| 2611/2737 [16:41<00:47,  2.63it/s]"
     ]
    },
    {
     "name": "stdout",
     "output_type": "stream",
     "text": [
      "../input/painting-vs-photograph-classification-dataset/Raw Data/painting/bac3e2a0b217c3dd8e3976bcde4971b0cbf5f603.jpg\n"
     ]
    },
    {
     "name": "stderr",
     "output_type": "stream",
     "text": [
      " 95%|█████████▌| 2612/2737 [16:42<01:01,  2.03it/s]"
     ]
    },
    {
     "name": "stdout",
     "output_type": "stream",
     "text": [
      "../input/painting-vs-photograph-classification-dataset/Raw Data/photos/be69696f2d398083f3ced49970a0a1932b2d4332.jpg\n"
     ]
    },
    {
     "name": "stderr",
     "output_type": "stream",
     "text": [
      " 95%|█████████▌| 2613/2737 [16:42<00:51,  2.42it/s]"
     ]
    },
    {
     "name": "stdout",
     "output_type": "stream",
     "text": [
      "../input/painting-vs-photograph-classification-dataset/Raw Data/painting/5030583ccdd02e8d2b1e941430d4f0a4ee159a49.jpg\n"
     ]
    },
    {
     "name": "stderr",
     "output_type": "stream",
     "text": [
      " 96%|█████████▌| 2614/2737 [16:43<00:58,  2.09it/s]"
     ]
    },
    {
     "name": "stdout",
     "output_type": "stream",
     "text": [
      "../input/painting-vs-photograph-classification-dataset/Raw Data/photos/a29308169adcd99ea1374837c63a659af70ab3df.jpg\n"
     ]
    },
    {
     "name": "stderr",
     "output_type": "stream",
     "text": [
      " 96%|█████████▌| 2615/2737 [16:43<00:49,  2.46it/s]"
     ]
    },
    {
     "name": "stdout",
     "output_type": "stream",
     "text": [
      "../input/painting-vs-photograph-classification-dataset/Raw Data/photos/220cffa1ada1a7caddf5c5c834e5ace1c0ed0ac9.jpg\n"
     ]
    },
    {
     "name": "stderr",
     "output_type": "stream",
     "text": [
      " 96%|█████████▌| 2616/2737 [16:43<00:43,  2.79it/s]"
     ]
    },
    {
     "name": "stdout",
     "output_type": "stream",
     "text": [
      "../input/painting-vs-photograph-classification-dataset/Raw Data/photos/274f0fc547625da22e3dce337fe05bc077a8f919.jpg\n"
     ]
    },
    {
     "name": "stderr",
     "output_type": "stream",
     "text": [
      " 96%|█████████▌| 2617/2737 [16:44<00:38,  3.12it/s]"
     ]
    },
    {
     "name": "stdout",
     "output_type": "stream",
     "text": [
      "../input/painting-vs-photograph-classification-dataset/Raw Data/painting/2da5298d142ce2e309791fa7a62719439620943e.jpg\n"
     ]
    },
    {
     "name": "stderr",
     "output_type": "stream",
     "text": [
      " 96%|█████████▌| 2618/2737 [16:44<00:51,  2.30it/s]"
     ]
    },
    {
     "name": "stdout",
     "output_type": "stream",
     "text": [
      "../input/painting-vs-photograph-classification-dataset/Raw Data/photos/d8493bc47cca488416e085550cf4ab8aea579b35.jpg\n"
     ]
    },
    {
     "name": "stderr",
     "output_type": "stream",
     "text": [
      " 96%|█████████▌| 2619/2737 [16:45<00:44,  2.66it/s]"
     ]
    },
    {
     "name": "stdout",
     "output_type": "stream",
     "text": [
      "../input/painting-vs-photograph-classification-dataset/Raw Data/painting/2f6cf0001cf588312803715bc0cd2e5ee176857b.jpg\n"
     ]
    },
    {
     "name": "stderr",
     "output_type": "stream",
     "text": [
      " 96%|█████████▌| 2621/2737 [16:45<00:43,  2.67it/s]"
     ]
    },
    {
     "name": "stdout",
     "output_type": "stream",
     "text": [
      "../input/painting-vs-photograph-classification-dataset/Raw Data/photos/7bcc94661d85662d5290b49444783e64d5fa3e6a.jpg\n"
     ]
    },
    {
     "name": "stderr",
     "output_type": "stream",
     "text": [
      " 96%|█████████▌| 2622/2737 [16:46<00:59,  1.93it/s]"
     ]
    },
    {
     "name": "stdout",
     "output_type": "stream",
     "text": [
      "../input/painting-vs-photograph-classification-dataset/Raw Data/painting/ed0dc692e94b3c111912f2d6b66a08ced959e7a8.jpg\n",
      "../input/painting-vs-photograph-classification-dataset/Raw Data/photos/7842135e937982dd8d35dc846d7c870a4e655bf5.jpg\n"
     ]
    },
    {
     "name": "stderr",
     "output_type": "stream",
     "text": [
      " 96%|█████████▌| 2623/2737 [16:46<00:49,  2.31it/s]"
     ]
    },
    {
     "name": "stdout",
     "output_type": "stream",
     "text": [
      "../input/painting-vs-photograph-classification-dataset/Raw Data/painting/9c22b315ab54ddca4882f25772bd807a0cabff58.jpg\n"
     ]
    },
    {
     "name": "stderr",
     "output_type": "stream",
     "text": [
      " 96%|█████████▌| 2625/2737 [16:48<00:55,  2.02it/s]"
     ]
    },
    {
     "name": "stdout",
     "output_type": "stream",
     "text": [
      "../input/painting-vs-photograph-classification-dataset/Raw Data/photos/e7e0dcab9972daac68791494fd85d2269ede439b.jpg\n",
      "../input/painting-vs-photograph-classification-dataset/Raw Data/photos/582e2a70623649cfc78ed9be2d517e52ed04946c.jpg\n"
     ]
    },
    {
     "name": "stderr",
     "output_type": "stream",
     "text": [
      " 96%|█████████▌| 2626/2737 [16:48<00:42,  2.58it/s]"
     ]
    },
    {
     "name": "stdout",
     "output_type": "stream",
     "text": [
      "../input/painting-vs-photograph-classification-dataset/Raw Data/painting/38a3b07561547334506096a6c78d9dcddcb22c43.jpg\n"
     ]
    },
    {
     "name": "stderr",
     "output_type": "stream",
     "text": [
      " 96%|█████████▌| 2627/2737 [16:49<00:58,  1.88it/s]"
     ]
    },
    {
     "name": "stdout",
     "output_type": "stream",
     "text": [
      "../input/painting-vs-photograph-classification-dataset/Raw Data/painting/59e3478d4655ba129cc6180c1ee77ba84c44fe33.jpg\n"
     ]
    },
    {
     "name": "stderr",
     "output_type": "stream",
     "text": [
      " 96%|█████████▌| 2628/2737 [16:49<01:00,  1.79it/s]"
     ]
    },
    {
     "name": "stdout",
     "output_type": "stream",
     "text": [
      "../input/painting-vs-photograph-classification-dataset/Raw Data/photos/cc3683ac4915ad24566c63f4d81eb933073c1bfb.jpg\n"
     ]
    },
    {
     "name": "stderr",
     "output_type": "stream",
     "text": [
      " 96%|█████████▌| 2629/2737 [16:50<00:50,  2.15it/s]"
     ]
    },
    {
     "name": "stdout",
     "output_type": "stream",
     "text": [
      "../input/painting-vs-photograph-classification-dataset/Raw Data/painting/98af0aecfaa22b06b830489a5933feffb4ea7041.jpg\n"
     ]
    },
    {
     "name": "stderr",
     "output_type": "stream",
     "text": [
      " 96%|█████████▌| 2631/2737 [16:51<00:51,  2.07it/s]"
     ]
    },
    {
     "name": "stdout",
     "output_type": "stream",
     "text": [
      "../input/painting-vs-photograph-classification-dataset/Raw Data/photos/f55310f9fe0fce4cdf48d9f6acaf186f41a24ed7.jpg\n",
      "../input/painting-vs-photograph-classification-dataset/Raw Data/photos/581075f711b856634ce36105343263f662c108fe.jpg\n"
     ]
    },
    {
     "name": "stderr",
     "output_type": "stream",
     "text": [
      " 96%|█████████▌| 2632/2737 [16:51<00:45,  2.33it/s]"
     ]
    },
    {
     "name": "stdout",
     "output_type": "stream",
     "text": [
      "../input/painting-vs-photograph-classification-dataset/Raw Data/painting/9bf5bf872209f3cdfbd4a9e6d2632cf280bc409c.jpg\n"
     ]
    },
    {
     "name": "stderr",
     "output_type": "stream",
     "text": [
      " 96%|█████████▌| 2633/2737 [16:51<00:41,  2.53it/s]"
     ]
    },
    {
     "name": "stdout",
     "output_type": "stream",
     "text": [
      "../input/painting-vs-photograph-classification-dataset/Raw Data/painting/44d063ea3e79f841425e0ca0c7037c56649124de.jpg\n"
     ]
    },
    {
     "name": "stderr",
     "output_type": "stream",
     "text": [
      " 96%|█████████▌| 2634/2737 [16:52<00:53,  1.91it/s]"
     ]
    },
    {
     "name": "stdout",
     "output_type": "stream",
     "text": [
      "../input/painting-vs-photograph-classification-dataset/Raw Data/painting/4054b04f2335f7eb8062cda93340c5aa5f5429ef.jpg\n"
     ]
    },
    {
     "name": "stderr",
     "output_type": "stream",
     "text": [
      " 96%|█████████▋| 2635/2737 [16:53<00:57,  1.76it/s]"
     ]
    },
    {
     "name": "stdout",
     "output_type": "stream",
     "text": [
      "../input/painting-vs-photograph-classification-dataset/Raw Data/photos/ce7ae56f91f4075e8e05239e4939d3476082c9ad.jpg\n"
     ]
    },
    {
     "name": "stderr",
     "output_type": "stream",
     "text": [
      " 96%|█████████▋| 2636/2737 [16:53<00:47,  2.15it/s]"
     ]
    },
    {
     "name": "stdout",
     "output_type": "stream",
     "text": [
      "../input/painting-vs-photograph-classification-dataset/Raw Data/photos/ebcbf904f759f96ca6781c4c3cde8567aaf45873.jpg\n"
     ]
    },
    {
     "name": "stderr",
     "output_type": "stream",
     "text": [
      " 96%|█████████▋| 2637/2737 [16:53<00:39,  2.52it/s]"
     ]
    },
    {
     "name": "stdout",
     "output_type": "stream",
     "text": [
      "../input/painting-vs-photograph-classification-dataset/Raw Data/painting/52b5bf816cc546ffb015a5b91f6ca22c8431cb82.jpg\n"
     ]
    },
    {
     "name": "stderr",
     "output_type": "stream",
     "text": [
      " 96%|█████████▋| 2638/2737 [16:54<00:44,  2.22it/s]"
     ]
    },
    {
     "name": "stdout",
     "output_type": "stream",
     "text": [
      "../input/painting-vs-photograph-classification-dataset/Raw Data/photos/e4bc411e2a1ed8536ea3ad25d1975c79a4a62b3c.jpg\n"
     ]
    },
    {
     "name": "stderr",
     "output_type": "stream",
     "text": [
      " 96%|█████████▋| 2639/2737 [16:54<00:36,  2.65it/s]"
     ]
    },
    {
     "name": "stdout",
     "output_type": "stream",
     "text": [
      "../input/painting-vs-photograph-classification-dataset/Raw Data/photos/61a9f8df69646e5a2ae0b46ec91f613ea3400bb0.jpg\n"
     ]
    },
    {
     "name": "stderr",
     "output_type": "stream",
     "text": [
      " 96%|█████████▋| 2641/2737 [16:54<00:25,  3.71it/s]"
     ]
    },
    {
     "name": "stdout",
     "output_type": "stream",
     "text": [
      "../input/painting-vs-photograph-classification-dataset/Raw Data/photos/83776beace319ac184e1fee2bed08cdfd026718b.jpg\n",
      "../input/painting-vs-photograph-classification-dataset/Raw Data/painting/fa30a92dcacc9655fd332a91f9153eeb7db164c4.jpg\n"
     ]
    },
    {
     "name": "stderr",
     "output_type": "stream",
     "text": [
      " 97%|█████████▋| 2643/2737 [16:56<00:37,  2.53it/s]"
     ]
    },
    {
     "name": "stdout",
     "output_type": "stream",
     "text": [
      "../input/painting-vs-photograph-classification-dataset/Raw Data/photos/f64e730475927ea532524eddc5c341dd89fba76b.jpg\n",
      "../input/painting-vs-photograph-classification-dataset/Raw Data/photos/cfe0204d5f47f98b9b697ef8eaf1ae6d37bda434.jpg\n"
     ]
    },
    {
     "name": "stderr",
     "output_type": "stream",
     "text": [
      " 97%|█████████▋| 2644/2737 [16:56<00:30,  3.05it/s]"
     ]
    },
    {
     "name": "stdout",
     "output_type": "stream",
     "text": [
      "../input/painting-vs-photograph-classification-dataset/Raw Data/photos/85a20308d2f4a430a30b0d5fccfd898a9175c145.jpg\n"
     ]
    },
    {
     "name": "stderr",
     "output_type": "stream",
     "text": [
      " 97%|█████████▋| 2645/2737 [16:56<00:27,  3.30it/s]"
     ]
    },
    {
     "name": "stdout",
     "output_type": "stream",
     "text": [
      "../input/painting-vs-photograph-classification-dataset/Raw Data/photos/bff2674c3a35e165a5a4852759913fe99c6a0400.jpg\n"
     ]
    },
    {
     "name": "stderr",
     "output_type": "stream",
     "text": [
      " 97%|█████████▋| 2646/2737 [16:56<00:25,  3.50it/s]"
     ]
    },
    {
     "name": "stdout",
     "output_type": "stream",
     "text": [
      "../input/painting-vs-photograph-classification-dataset/Raw Data/photos/76d882c9617e7482e66318a8ae12937773e3ed39.jpg\n"
     ]
    },
    {
     "name": "stderr",
     "output_type": "stream",
     "text": [
      " 97%|█████████▋| 2647/2737 [16:57<00:24,  3.60it/s]"
     ]
    },
    {
     "name": "stdout",
     "output_type": "stream",
     "text": [
      "../input/painting-vs-photograph-classification-dataset/Raw Data/painting/10745fb09833f7fe25b08368f860535dd2ebd569.jpg\n"
     ]
    },
    {
     "name": "stderr",
     "output_type": "stream",
     "text": [
      " 97%|█████████▋| 2648/2737 [16:57<00:39,  2.26it/s]"
     ]
    },
    {
     "name": "stdout",
     "output_type": "stream",
     "text": [
      "../input/painting-vs-photograph-classification-dataset/Raw Data/photos/63a2a8ccf663d8aa4e26e42574e242b7c0fa20c2.jpg\n"
     ]
    },
    {
     "name": "stderr",
     "output_type": "stream",
     "text": [
      " 97%|█████████▋| 2650/2737 [16:58<00:27,  3.11it/s]"
     ]
    },
    {
     "name": "stdout",
     "output_type": "stream",
     "text": [
      "../input/painting-vs-photograph-classification-dataset/Raw Data/photos/50254db5c2cb2cb153188542ebf471b6504707fe.jpg\n",
      "../input/painting-vs-photograph-classification-dataset/Raw Data/photos/f59893af30a4aab89aa3085f9fb17dbbdada1c14.jpg\n"
     ]
    },
    {
     "name": "stderr",
     "output_type": "stream",
     "text": [
      " 97%|█████████▋| 2652/2737 [16:58<00:20,  4.23it/s]"
     ]
    },
    {
     "name": "stdout",
     "output_type": "stream",
     "text": [
      "../input/painting-vs-photograph-classification-dataset/Raw Data/photos/f2fa68768424b60abbd779d6b2aa39fd7426c292.jpg\n",
      "../input/painting-vs-photograph-classification-dataset/Raw Data/painting/edeb3bc01b70089655071613b1e3ae91f1d7dc7b.jpg\n"
     ]
    },
    {
     "name": "stderr",
     "output_type": "stream",
     "text": [
      " 97%|█████████▋| 2653/2737 [16:59<00:26,  3.17it/s]"
     ]
    },
    {
     "name": "stdout",
     "output_type": "stream",
     "text": [
      "../input/painting-vs-photograph-classification-dataset/Raw Data/painting/4618c5aae943a657aded40757858b742037fde1d.jpg\n"
     ]
    },
    {
     "name": "stderr",
     "output_type": "stream",
     "text": [
      " 97%|█████████▋| 2654/2737 [16:59<00:38,  2.16it/s]"
     ]
    },
    {
     "name": "stdout",
     "output_type": "stream",
     "text": [
      "../input/painting-vs-photograph-classification-dataset/Raw Data/photos/729dac32fd242ab85d6ac6bbeea9a29fc56d1d07.jpg\n"
     ]
    },
    {
     "name": "stderr",
     "output_type": "stream",
     "text": [
      " 97%|█████████▋| 2655/2737 [17:00<00:32,  2.53it/s]"
     ]
    },
    {
     "name": "stdout",
     "output_type": "stream",
     "text": [
      "../input/painting-vs-photograph-classification-dataset/Raw Data/photos/fcd6e4eca24c3a60408711b0d079d94967cf3b09.jpg\n"
     ]
    },
    {
     "name": "stderr",
     "output_type": "stream",
     "text": [
      " 97%|█████████▋| 2657/2737 [17:00<00:24,  3.29it/s]"
     ]
    },
    {
     "name": "stdout",
     "output_type": "stream",
     "text": [
      "../input/painting-vs-photograph-classification-dataset/Raw Data/photos/72f22418540ab908f96040fb5baf5f7db28da568.jpg\n",
      "../input/painting-vs-photograph-classification-dataset/Raw Data/photos/f449eed8a8e76d4912b4468c453c8a23e8c3f686.jpg\n"
     ]
    },
    {
     "name": "stderr",
     "output_type": "stream",
     "text": [
      " 97%|█████████▋| 2658/2737 [17:00<00:22,  3.51it/s]"
     ]
    },
    {
     "name": "stdout",
     "output_type": "stream",
     "text": [
      "../input/painting-vs-photograph-classification-dataset/Raw Data/painting/03319d579322f7a20c53a86920b5d40891ce519b.jpg\n"
     ]
    },
    {
     "name": "stderr",
     "output_type": "stream",
     "text": [
      " 97%|█████████▋| 2659/2737 [17:01<00:33,  2.32it/s]"
     ]
    },
    {
     "name": "stdout",
     "output_type": "stream",
     "text": [
      "../input/painting-vs-photograph-classification-dataset/Raw Data/photos/d7b9e04012b94545bf95975ccc6da3062e3934b1.jpg\n"
     ]
    },
    {
     "name": "stderr",
     "output_type": "stream",
     "text": [
      " 97%|█████████▋| 2660/2737 [17:01<00:29,  2.63it/s]"
     ]
    },
    {
     "name": "stdout",
     "output_type": "stream",
     "text": [
      "../input/painting-vs-photograph-classification-dataset/Raw Data/photos/9070c29b66d9a0cb6a67b2122542f9d097d85acb.jpg\n"
     ]
    },
    {
     "name": "stderr",
     "output_type": "stream",
     "text": [
      " 97%|█████████▋| 2662/2737 [17:02<00:21,  3.41it/s]"
     ]
    },
    {
     "name": "stdout",
     "output_type": "stream",
     "text": [
      "../input/painting-vs-photograph-classification-dataset/Raw Data/photos/b428a55d11a2000be82404e5438be63e34191a10.jpg\n",
      "../input/painting-vs-photograph-classification-dataset/Raw Data/painting/9edc80934e9b6abc8a2305ed01fd038c19a87d86.jpg\n"
     ]
    },
    {
     "name": "stderr",
     "output_type": "stream",
     "text": [
      " 97%|█████████▋| 2663/2737 [17:03<00:32,  2.28it/s]"
     ]
    },
    {
     "name": "stdout",
     "output_type": "stream",
     "text": [
      "../input/painting-vs-photograph-classification-dataset/Raw Data/painting/ec55d44e5c2220e767ba9d1625a57fba443e4b5a.jpg\n"
     ]
    },
    {
     "name": "stderr",
     "output_type": "stream",
     "text": [
      " 97%|█████████▋| 2664/2737 [17:03<00:39,  1.83it/s]"
     ]
    },
    {
     "name": "stdout",
     "output_type": "stream",
     "text": [
      "../input/painting-vs-photograph-classification-dataset/Raw Data/painting/f4257d2f56c3613eab724195e62a8c9b28e4b003.jpg\n"
     ]
    },
    {
     "name": "stderr",
     "output_type": "stream",
     "text": [
      " 97%|█████████▋| 2665/2737 [17:04<00:43,  1.67it/s]"
     ]
    },
    {
     "name": "stdout",
     "output_type": "stream",
     "text": [
      "../input/painting-vs-photograph-classification-dataset/Raw Data/photos/2946bf14c45c3c6b61f4290f16dfd1b1a2d77611.jpg\n"
     ]
    },
    {
     "name": "stderr",
     "output_type": "stream",
     "text": [
      " 97%|█████████▋| 2666/2737 [17:04<00:34,  2.03it/s]"
     ]
    },
    {
     "name": "stdout",
     "output_type": "stream",
     "text": [
      "../input/painting-vs-photograph-classification-dataset/Raw Data/painting/cbcf5fc188c5375f1d2255517896f3afff4b901b.jpg\n"
     ]
    },
    {
     "name": "stderr",
     "output_type": "stream",
     "text": [
      " 97%|█████████▋| 2667/2737 [17:05<00:33,  2.10it/s]"
     ]
    },
    {
     "name": "stdout",
     "output_type": "stream",
     "text": [
      "../input/painting-vs-photograph-classification-dataset/Raw Data/photos/55aef398a27f2852c7cfa58e56da56a021f55448.jpg\n"
     ]
    },
    {
     "name": "stderr",
     "output_type": "stream",
     "text": [
      " 97%|█████████▋| 2668/2737 [17:05<00:27,  2.48it/s]"
     ]
    },
    {
     "name": "stdout",
     "output_type": "stream",
     "text": [
      "../input/painting-vs-photograph-classification-dataset/Raw Data/painting/ef2608b625de6e4923dde8d5ac053be2fe8e7dcb.jpg\n"
     ]
    },
    {
     "name": "stderr",
     "output_type": "stream",
     "text": [
      " 98%|█████████▊| 2669/2737 [17:06<00:30,  2.24it/s]"
     ]
    },
    {
     "name": "stdout",
     "output_type": "stream",
     "text": [
      "../input/painting-vs-photograph-classification-dataset/Raw Data/photos/0987e13ee2149c32f53485b68af9f91744d8dc23.jpg\n"
     ]
    },
    {
     "name": "stderr",
     "output_type": "stream",
     "text": [
      " 98%|█████████▊| 2671/2737 [17:06<00:21,  3.05it/s]"
     ]
    },
    {
     "name": "stdout",
     "output_type": "stream",
     "text": [
      "../input/painting-vs-photograph-classification-dataset/Raw Data/photos/a0c85109a168b514492704552f232256df3ef4ba.jpg\n",
      "../input/painting-vs-photograph-classification-dataset/Raw Data/photos/ab45ac43255585f93e40e3b4af29bd09edd76d6b.jpg\n"
     ]
    },
    {
     "name": "stderr",
     "output_type": "stream",
     "text": [
      " 98%|█████████▊| 2672/2737 [17:06<00:20,  3.15it/s]"
     ]
    },
    {
     "name": "stdout",
     "output_type": "stream",
     "text": [
      "../input/painting-vs-photograph-classification-dataset/Raw Data/painting/e5715b00ef82ef4c39c4aa83b4788ec58603576c.jpg\n"
     ]
    },
    {
     "name": "stderr",
     "output_type": "stream",
     "text": [
      " 98%|█████████▊| 2673/2737 [17:07<00:32,  1.97it/s]"
     ]
    },
    {
     "name": "stdout",
     "output_type": "stream",
     "text": [
      "../input/painting-vs-photograph-classification-dataset/Raw Data/photos/18013d288dadb25c881d97d15e7f40649fbf2637.jpg\n"
     ]
    },
    {
     "name": "stderr",
     "output_type": "stream",
     "text": [
      " 98%|█████████▊| 2675/2737 [17:08<00:21,  2.92it/s]"
     ]
    },
    {
     "name": "stdout",
     "output_type": "stream",
     "text": [
      "../input/painting-vs-photograph-classification-dataset/Raw Data/photos/39d42df31f790091ac9d5d502d9660afd1dcf0d6.jpg\n",
      "../input/painting-vs-photograph-classification-dataset/Raw Data/photos/e375caeed3fc3cc79d55c16fb70a276a9dcbf083.jpg\n"
     ]
    },
    {
     "name": "stderr",
     "output_type": "stream",
     "text": [
      " 98%|█████████▊| 2676/2737 [17:08<00:20,  2.98it/s]"
     ]
    },
    {
     "name": "stdout",
     "output_type": "stream",
     "text": [
      "../input/painting-vs-photograph-classification-dataset/Raw Data/painting/1e1fa6d05619c7e08f83670e8e5e854cc19eda7d.jpg\n"
     ]
    },
    {
     "name": "stderr",
     "output_type": "stream",
     "text": [
      " 98%|█████████▊| 2677/2737 [17:09<00:30,  1.99it/s]"
     ]
    },
    {
     "name": "stdout",
     "output_type": "stream",
     "text": [
      "../input/painting-vs-photograph-classification-dataset/Raw Data/photos/461913c6e5f94427fcfbf3a00a05d4b5673272a4.jpg\n"
     ]
    },
    {
     "name": "stderr",
     "output_type": "stream",
     "text": [
      " 98%|█████████▊| 2678/2737 [17:09<00:26,  2.24it/s]"
     ]
    },
    {
     "name": "stdout",
     "output_type": "stream",
     "text": [
      "../input/painting-vs-photograph-classification-dataset/Raw Data/photos/f45f2e95fa11c6730a718961bb2a265bc1dbb03e.jpg\n"
     ]
    },
    {
     "name": "stderr",
     "output_type": "stream",
     "text": [
      " 98%|█████████▊| 2679/2737 [17:09<00:22,  2.54it/s]"
     ]
    },
    {
     "name": "stdout",
     "output_type": "stream",
     "text": [
      "../input/painting-vs-photograph-classification-dataset/Raw Data/photos/39091b7e1ccbfff7f20901dc75cab0e7cdd5f684.jpg\n"
     ]
    },
    {
     "name": "stderr",
     "output_type": "stream",
     "text": [
      " 98%|█████████▊| 2680/2737 [17:10<00:20,  2.74it/s]"
     ]
    },
    {
     "name": "stdout",
     "output_type": "stream",
     "text": [
      "../input/painting-vs-photograph-classification-dataset/Raw Data/painting/4f5e09ccf30f0b392ef73aae4bc4da284b9e2c12.jpg\n"
     ]
    },
    {
     "name": "stderr",
     "output_type": "stream",
     "text": [
      " 98%|█████████▊| 2681/2737 [17:10<00:24,  2.26it/s]"
     ]
    },
    {
     "name": "stdout",
     "output_type": "stream",
     "text": [
      "../input/painting-vs-photograph-classification-dataset/Raw Data/photos/c38e753e6fe5d6b57961210e6799666b48df9506.jpg\n"
     ]
    },
    {
     "name": "stderr",
     "output_type": "stream",
     "text": [
      " 98%|█████████▊| 2682/2737 [17:11<00:20,  2.67it/s]"
     ]
    },
    {
     "name": "stdout",
     "output_type": "stream",
     "text": [
      "../input/painting-vs-photograph-classification-dataset/Raw Data/photos/daee338edc75307c557a48b3cdb2b474d39c25e5.jpg\n"
     ]
    },
    {
     "name": "stderr",
     "output_type": "stream",
     "text": [
      " 98%|█████████▊| 2683/2737 [17:11<00:17,  3.01it/s]"
     ]
    },
    {
     "name": "stdout",
     "output_type": "stream",
     "text": [
      "../input/painting-vs-photograph-classification-dataset/Raw Data/painting/eee400a6423bc090c06577015d6b6f2d6ec3da4a.jpg\n"
     ]
    },
    {
     "name": "stderr",
     "output_type": "stream",
     "text": [
      " 98%|█████████▊| 2684/2737 [17:11<00:20,  2.59it/s]"
     ]
    },
    {
     "name": "stdout",
     "output_type": "stream",
     "text": [
      "../input/painting-vs-photograph-classification-dataset/Raw Data/photos/f22e4739b73994fc3ca5e0742b1f0f8ed721d1b1.jpg\n"
     ]
    },
    {
     "name": "stderr",
     "output_type": "stream",
     "text": [
      " 98%|█████████▊| 2685/2737 [17:12<00:17,  2.98it/s]"
     ]
    },
    {
     "name": "stdout",
     "output_type": "stream",
     "text": [
      "../input/painting-vs-photograph-classification-dataset/Raw Data/photos/db54fb20c615602e57132ae45eb3e575b3fa5a68.jpg\n"
     ]
    },
    {
     "name": "stderr",
     "output_type": "stream",
     "text": [
      " 98%|█████████▊| 2686/2737 [17:12<00:15,  3.31it/s]"
     ]
    },
    {
     "name": "stdout",
     "output_type": "stream",
     "text": [
      "../input/painting-vs-photograph-classification-dataset/Raw Data/photos/6349806b8a2604b772fde6ac2e7d0b3f4f8c2d90.jpg\n"
     ]
    },
    {
     "name": "stderr",
     "output_type": "stream",
     "text": [
      " 98%|█████████▊| 2687/2737 [17:12<00:14,  3.54it/s]"
     ]
    },
    {
     "name": "stdout",
     "output_type": "stream",
     "text": [
      "../input/painting-vs-photograph-classification-dataset/Raw Data/photos/eb2e2d3608f805d78d327fab285ae9e275315409.jpg\n"
     ]
    },
    {
     "name": "stderr",
     "output_type": "stream",
     "text": [
      " 98%|█████████▊| 2688/2737 [17:12<00:13,  3.66it/s]"
     ]
    },
    {
     "name": "stdout",
     "output_type": "stream",
     "text": [
      "../input/painting-vs-photograph-classification-dataset/Raw Data/photos/d3496f382810e90579ce6ba7e262fa8682919677.jpg\n"
     ]
    },
    {
     "name": "stderr",
     "output_type": "stream",
     "text": [
      " 98%|█████████▊| 2689/2737 [17:13<00:12,  3.76it/s]"
     ]
    },
    {
     "name": "stdout",
     "output_type": "stream",
     "text": [
      "../input/painting-vs-photograph-classification-dataset/Raw Data/painting/eb210820282fbb3b72bf3985667a52e372270909.jpg\n"
     ]
    },
    {
     "name": "stderr",
     "output_type": "stream",
     "text": [
      " 98%|█████████▊| 2690/2737 [17:13<00:20,  2.29it/s]"
     ]
    },
    {
     "name": "stdout",
     "output_type": "stream",
     "text": [
      "../input/painting-vs-photograph-classification-dataset/Raw Data/photos/e45b59b0a74f8b5a9aa9fb660b46a4d4119eb699.jpg\n"
     ]
    },
    {
     "name": "stderr",
     "output_type": "stream",
     "text": [
      " 98%|█████████▊| 2691/2737 [17:14<00:17,  2.64it/s]"
     ]
    },
    {
     "name": "stdout",
     "output_type": "stream",
     "text": [
      "../input/painting-vs-photograph-classification-dataset/Raw Data/painting/8f902e367afd2a9c61ccb5563e431c65f391239b.jpg\n"
     ]
    },
    {
     "name": "stderr",
     "output_type": "stream",
     "text": [
      " 98%|█████████▊| 2692/2737 [17:14<00:22,  1.99it/s]"
     ]
    },
    {
     "name": "stdout",
     "output_type": "stream",
     "text": [
      "../input/painting-vs-photograph-classification-dataset/Raw Data/photos/466bb197e2762959b7158ba8d3a0f272ec2abf77.jpg\n"
     ]
    },
    {
     "name": "stderr",
     "output_type": "stream",
     "text": [
      " 98%|█████████▊| 2694/2737 [17:15<00:16,  2.66it/s]"
     ]
    },
    {
     "name": "stdout",
     "output_type": "stream",
     "text": [
      "../input/painting-vs-photograph-classification-dataset/Raw Data/photos/376e66c338293526b791f6b018a54865e22d8aa9.jpg\n",
      "../input/painting-vs-photograph-classification-dataset/Raw Data/photos/05fda110d45af3eb81b20fe622ce90e5fdb6f7b4.jpg\n"
     ]
    },
    {
     "name": "stderr",
     "output_type": "stream",
     "text": [
      " 98%|█████████▊| 2695/2737 [17:15<00:14,  2.99it/s]"
     ]
    },
    {
     "name": "stdout",
     "output_type": "stream",
     "text": [
      "../input/painting-vs-photograph-classification-dataset/Raw Data/painting/fb930dc9f7139138fee087bf14d0da6422c78416.jpg\n"
     ]
    },
    {
     "name": "stderr",
     "output_type": "stream",
     "text": [
      " 99%|█████████▊| 2696/2737 [17:16<00:19,  2.06it/s]"
     ]
    },
    {
     "name": "stdout",
     "output_type": "stream",
     "text": [
      "../input/painting-vs-photograph-classification-dataset/Raw Data/painting/c55eb5fc0d567749104ccb781850ea3b7947f6de.jpg\n"
     ]
    },
    {
     "name": "stderr",
     "output_type": "stream",
     "text": [
      " 99%|█████████▊| 2697/2737 [17:17<00:26,  1.53it/s]"
     ]
    },
    {
     "name": "stdout",
     "output_type": "stream",
     "text": [
      "../input/painting-vs-photograph-classification-dataset/Raw Data/painting/db964d72fd63be5b582e98ee29bb5b7c30b21a5b.jpg\n"
     ]
    },
    {
     "name": "stderr",
     "output_type": "stream",
     "text": [
      " 99%|█████████▊| 2699/2737 [17:18<00:20,  1.87it/s]"
     ]
    },
    {
     "name": "stdout",
     "output_type": "stream",
     "text": [
      "../input/painting-vs-photograph-classification-dataset/Raw Data/photos/5829296e745351606ea6df1da95242e9d75f9d88.jpg\n",
      "../input/painting-vs-photograph-classification-dataset/Raw Data/photos/e21dde8e8f89e42d8f6ae75f3a46dc5bc835cf96.jpg\n"
     ]
    },
    {
     "name": "stderr",
     "output_type": "stream",
     "text": [
      " 99%|█████████▊| 2700/2737 [17:18<00:16,  2.21it/s]"
     ]
    },
    {
     "name": "stdout",
     "output_type": "stream",
     "text": [
      "../input/painting-vs-photograph-classification-dataset/Raw Data/photos/63f57ab75b50d1be4abe4c672490a0ffe68a05b9.jpg\n"
     ]
    },
    {
     "name": "stderr",
     "output_type": "stream",
     "text": [
      " 99%|█████████▊| 2701/2737 [17:18<00:13,  2.58it/s]"
     ]
    },
    {
     "name": "stdout",
     "output_type": "stream",
     "text": [
      "../input/painting-vs-photograph-classification-dataset/Raw Data/photos/ec7788fa34319e06feef963177365deeae5d8b42.jpg\n"
     ]
    },
    {
     "name": "stderr",
     "output_type": "stream",
     "text": [
      " 99%|█████████▊| 2702/2737 [17:19<00:12,  2.86it/s]"
     ]
    },
    {
     "name": "stdout",
     "output_type": "stream",
     "text": [
      "../input/painting-vs-photograph-classification-dataset/Raw Data/photos/b10fd3e38ca2c97e8b3151db9315ce670923219a.jpg\n"
     ]
    },
    {
     "name": "stderr",
     "output_type": "stream",
     "text": [
      " 99%|█████████▉| 2703/2737 [17:19<00:10,  3.21it/s]"
     ]
    },
    {
     "name": "stdout",
     "output_type": "stream",
     "text": [
      "../input/painting-vs-photograph-classification-dataset/Raw Data/painting/8f84880284d33f33365fabad377b95245bfe0153.jpg\n"
     ]
    },
    {
     "name": "stderr",
     "output_type": "stream",
     "text": [
      " 99%|█████████▉| 2704/2737 [17:20<00:17,  1.90it/s]"
     ]
    },
    {
     "name": "stdout",
     "output_type": "stream",
     "text": [
      "../input/painting-vs-photograph-classification-dataset/Raw Data/photos/bfebb92dbdc90f8000aa0e0f5b6a32e8d91c0b1d.jpg\n"
     ]
    },
    {
     "name": "stderr",
     "output_type": "stream",
     "text": [
      " 99%|█████████▉| 2706/2737 [17:20<00:11,  2.74it/s]"
     ]
    },
    {
     "name": "stdout",
     "output_type": "stream",
     "text": [
      "../input/painting-vs-photograph-classification-dataset/Raw Data/photos/5377558c3ed6af5f938cfd774a232d541d8c6afd.jpg\n",
      "../input/painting-vs-photograph-classification-dataset/Raw Data/painting/f3dc7d223932cf2d0fba8c34cf14dcf9b0ed76fb.jpg\n"
     ]
    },
    {
     "name": "stderr",
     "output_type": "stream",
     "text": [
      " 99%|█████████▉| 2707/2737 [17:21<00:13,  2.27it/s]"
     ]
    },
    {
     "name": "stdout",
     "output_type": "stream",
     "text": [
      "../input/painting-vs-photograph-classification-dataset/Raw Data/photos/91e03e1c9c6c70c0bd86e9a64b0743f826855b2f.jpg\n"
     ]
    },
    {
     "name": "stderr",
     "output_type": "stream",
     "text": [
      " 99%|█████████▉| 2708/2737 [17:21<00:10,  2.64it/s]"
     ]
    },
    {
     "name": "stdout",
     "output_type": "stream",
     "text": [
      "../input/painting-vs-photograph-classification-dataset/Raw Data/photos/93f3b3122cb9ed046ffb001d88c1b093ccf4f835.jpg\n"
     ]
    },
    {
     "name": "stderr",
     "output_type": "stream",
     "text": [
      " 99%|█████████▉| 2709/2737 [17:22<00:09,  2.98it/s]"
     ]
    },
    {
     "name": "stdout",
     "output_type": "stream",
     "text": [
      "../input/painting-vs-photograph-classification-dataset/Raw Data/photos/167bb6501f4f1e75ed516bf825fde6d573796c4c.jpg\n"
     ]
    },
    {
     "name": "stderr",
     "output_type": "stream",
     "text": [
      " 99%|█████████▉| 2710/2737 [17:22<00:07,  3.38it/s]"
     ]
    },
    {
     "name": "stdout",
     "output_type": "stream",
     "text": [
      "../input/painting-vs-photograph-classification-dataset/Raw Data/painting/41b56f6be34fa727cbf1ac24afe23286a2a966c4.jpg\n"
     ]
    },
    {
     "name": "stderr",
     "output_type": "stream",
     "text": [
      " 99%|█████████▉| 2712/2737 [17:23<00:09,  2.52it/s]"
     ]
    },
    {
     "name": "stdout",
     "output_type": "stream",
     "text": [
      "../input/painting-vs-photograph-classification-dataset/Raw Data/photos/74a7569ca4415f7fc1de98b0ba8d88a7bd13aed4.jpg\n",
      "../input/painting-vs-photograph-classification-dataset/Raw Data/photos/220903da59199e98d4244331ad205eb6f16f9083.jpg\n"
     ]
    },
    {
     "name": "stderr",
     "output_type": "stream",
     "text": [
      " 99%|█████████▉| 2713/2737 [17:23<00:08,  2.87it/s]"
     ]
    },
    {
     "name": "stdout",
     "output_type": "stream",
     "text": [
      "../input/painting-vs-photograph-classification-dataset/Raw Data/photos/e1c98fd8b6e40e3315e6b41d1226be35227f150d.jpg\n"
     ]
    },
    {
     "name": "stderr",
     "output_type": "stream",
     "text": [
      " 99%|█████████▉| 2714/2737 [17:23<00:07,  3.16it/s]"
     ]
    },
    {
     "name": "stdout",
     "output_type": "stream",
     "text": [
      "../input/painting-vs-photograph-classification-dataset/Raw Data/photos/aea82b6d5daa79f825bc19ff1867525691659a61.jpg\n"
     ]
    },
    {
     "name": "stderr",
     "output_type": "stream",
     "text": [
      " 99%|█████████▉| 2715/2737 [17:24<00:06,  3.37it/s]"
     ]
    },
    {
     "name": "stdout",
     "output_type": "stream",
     "text": [
      "../input/painting-vs-photograph-classification-dataset/Raw Data/painting/f81bcf9515b0cc24395b058511719fb280827a4f.jpg\n"
     ]
    },
    {
     "name": "stderr",
     "output_type": "stream",
     "text": [
      " 99%|█████████▉| 2716/2737 [17:24<00:08,  2.43it/s]"
     ]
    },
    {
     "name": "stdout",
     "output_type": "stream",
     "text": [
      "../input/painting-vs-photograph-classification-dataset/Raw Data/photos/db856f4891773fe109b0e426fe152eb8513c81d3.jpg\n"
     ]
    },
    {
     "name": "stderr",
     "output_type": "stream",
     "text": [
      " 99%|█████████▉| 2718/2737 [17:25<00:05,  3.20it/s]"
     ]
    },
    {
     "name": "stdout",
     "output_type": "stream",
     "text": [
      "../input/painting-vs-photograph-classification-dataset/Raw Data/photos/e1a4ffa85c5d3cd706045bedcaf3d721fc72e686.jpg\n",
      "../input/painting-vs-photograph-classification-dataset/Raw Data/photos/eedfdc897b3b126a36a415ceec5ec6f7f4a50bc8.jpg\n"
     ]
    },
    {
     "name": "stderr",
     "output_type": "stream",
     "text": [
      " 99%|█████████▉| 2719/2737 [17:25<00:05,  3.42it/s]"
     ]
    },
    {
     "name": "stdout",
     "output_type": "stream",
     "text": [
      "../input/painting-vs-photograph-classification-dataset/Raw Data/photos/c5db322b027263af681abe89f77ccd857ee32800.jpg\n"
     ]
    },
    {
     "name": "stderr",
     "output_type": "stream",
     "text": [
      " 99%|█████████▉| 2720/2737 [17:25<00:04,  3.67it/s]"
     ]
    },
    {
     "name": "stdout",
     "output_type": "stream",
     "text": [
      "../input/painting-vs-photograph-classification-dataset/Raw Data/painting/efe6c40a3db9aa69db7dfab3fc4c5244d79bb963.jpg\n"
     ]
    },
    {
     "name": "stderr",
     "output_type": "stream",
     "text": [
      " 99%|█████████▉| 2721/2737 [17:26<00:07,  2.03it/s]"
     ]
    },
    {
     "name": "stdout",
     "output_type": "stream",
     "text": [
      "../input/painting-vs-photograph-classification-dataset/Raw Data/photos/467f4f980319e18c1baf39d595eaaa7116f03956.jpg\n"
     ]
    },
    {
     "name": "stderr",
     "output_type": "stream",
     "text": [
      " 99%|█████████▉| 2722/2737 [17:26<00:06,  2.40it/s]"
     ]
    },
    {
     "name": "stdout",
     "output_type": "stream",
     "text": [
      "../input/painting-vs-photograph-classification-dataset/Raw Data/photos/fe2168e82393056512a0eadf6cad0d30eb87eb30.jpg\n"
     ]
    },
    {
     "name": "stderr",
     "output_type": "stream",
     "text": [
      "100%|█████████▉| 2724/2737 [17:27<00:03,  3.29it/s]"
     ]
    },
    {
     "name": "stdout",
     "output_type": "stream",
     "text": [
      "../input/painting-vs-photograph-classification-dataset/Raw Data/photos/038931581f18eaf6f519a4018c291b35035fd701.jpg\n",
      "../input/painting-vs-photograph-classification-dataset/Raw Data/photos/766382361a6f651e88dc87ebdcb4f5ee9f2a7d90.jpg\n"
     ]
    },
    {
     "name": "stderr",
     "output_type": "stream",
     "text": [
      "100%|█████████▉| 2726/2737 [17:27<00:02,  4.18it/s]"
     ]
    },
    {
     "name": "stdout",
     "output_type": "stream",
     "text": [
      "../input/painting-vs-photograph-classification-dataset/Raw Data/photos/8ba6c1ff44dd81a9a517b39410c385c09f274ccd.jpg\n",
      "../input/painting-vs-photograph-classification-dataset/Raw Data/photos/ab4664c574d8d3cc72966ead9ffe022fa55ada5e.jpg\n"
     ]
    },
    {
     "name": "stderr",
     "output_type": "stream",
     "text": [
      "100%|█████████▉| 2728/2737 [17:28<00:01,  4.59it/s]"
     ]
    },
    {
     "name": "stdout",
     "output_type": "stream",
     "text": [
      "../input/painting-vs-photograph-classification-dataset/Raw Data/photos/47c6bb5be82017d5d81f9ea27cc360ac8e642af1.jpg\n",
      "../input/painting-vs-photograph-classification-dataset/Raw Data/painting/4a004e2b64fdac46bb229ec0ffdc676b77db17a1.jpg\n"
     ]
    },
    {
     "name": "stderr",
     "output_type": "stream",
     "text": [
      "100%|█████████▉| 2729/2737 [17:28<00:02,  2.71it/s]"
     ]
    },
    {
     "name": "stdout",
     "output_type": "stream",
     "text": [
      "../input/painting-vs-photograph-classification-dataset/Raw Data/painting/48f0b13e0fc6b5590381c78a96837a06f09b8e07.jpg\n"
     ]
    },
    {
     "name": "stderr",
     "output_type": "stream",
     "text": [
      "100%|█████████▉| 2730/2737 [17:29<00:03,  2.01it/s]"
     ]
    },
    {
     "name": "stdout",
     "output_type": "stream",
     "text": [
      "../input/painting-vs-photograph-classification-dataset/Raw Data/photos/74d62e22a12e5a737429fbd2e9ecae6fb4b8be3a.jpg\n"
     ]
    },
    {
     "name": "stderr",
     "output_type": "stream",
     "text": [
      "100%|█████████▉| 2732/2737 [17:30<00:01,  2.86it/s]"
     ]
    },
    {
     "name": "stdout",
     "output_type": "stream",
     "text": [
      "../input/painting-vs-photograph-classification-dataset/Raw Data/photos/c82559fc6ab57c2c6376bf4920ba2b2fed790c4d.jpg\n",
      "../input/painting-vs-photograph-classification-dataset/Raw Data/photos/f5ec15ed93826990ef8f8904210741fb42df5a5f.jpg\n"
     ]
    },
    {
     "name": "stderr",
     "output_type": "stream",
     "text": [
      "100%|█████████▉| 2733/2737 [17:30<00:01,  3.18it/s]"
     ]
    },
    {
     "name": "stdout",
     "output_type": "stream",
     "text": [
      "../input/painting-vs-photograph-classification-dataset/Raw Data/photos/a23ca55754cab3a704067f01cf019a1bbeb1db14.jpg\n"
     ]
    },
    {
     "name": "stderr",
     "output_type": "stream",
     "text": [
      "100%|█████████▉| 2735/2737 [17:30<00:00,  3.69it/s]"
     ]
    },
    {
     "name": "stdout",
     "output_type": "stream",
     "text": [
      "../input/painting-vs-photograph-classification-dataset/Raw Data/photos/7089c0ef9cd75f544abf7a009f5c0a5a92a99092.jpg\n",
      "../input/painting-vs-photograph-classification-dataset/Raw Data/photos/edce9a5ab4b59124d1f9d417ab867a6151b54a26.jpg\n"
     ]
    },
    {
     "name": "stderr",
     "output_type": "stream",
     "text": [
      "100%|█████████▉| 2736/2737 [17:30<00:00,  4.11it/s]"
     ]
    },
    {
     "name": "stdout",
     "output_type": "stream",
     "text": [
      "../input/painting-vs-photograph-classification-dataset/Raw Data/painting/452420cf3f68158fec02f2ea74cc1c87d53a21d7.jpg\n"
     ]
    },
    {
     "name": "stderr",
     "output_type": "stream",
     "text": [
      "100%|██████████| 2737/2737 [17:31<00:00,  2.60it/s]\n"
     ]
    }
   ],
   "source": [
    "save_iter = 0\n",
    "new_arr =[]\n",
    "for entry in tqdm(train_df.index):\n",
    "    \n",
    "    file_path = train_df.at[entry, 'file_name']\n",
    "    category = train_df.at[entry, 'category']\n",
    "    \n",
    "    print((file_path))\n",
    "    \n",
    "    img =  cv2.imread(file_path)\n",
    "    \n",
    "    save_path = str(save_iter)+'.png'\n",
    "    save_iter+=1\n",
    "    \n",
    "    cv2.imwrite(save_path, img)\n",
    "    \n",
    "    new_arr.append([save_path, category])\n",
    "    \n",
    "    \n",
    "    image_single = img_to_array(img)\n",
    "    image_single = expand_dims(image_single, 0)\n",
    "    \n",
    "    \n",
    "    if(category == 1):\n",
    "        \n",
    "        for _ in range(   round(((len(train_df[train_df.category==0]))/(len(train_df[train_df.category==1]))))  *  4):\n",
    "            \n",
    "            it = image_augment.flow(image_single, batch_size = 1)\n",
    "            batch = it.next()\n",
    "            image_aug = batch[0].astype('float32')\n",
    "            image_aug  = Image.fromarray(image_aug, 'RGB')\n",
    "            save_path = str(save_iter)+'.png'\n",
    "            image_aug.save(save_path)\n",
    "            save_iter += 1\n",
    "            \n",
    "            new_arr.append([save_path, category])\n",
    "    else:\n",
    "        for _ in range(4):\n",
    "            \n",
    "            it = image_augment.flow(image_single, batch_size = 1)\n",
    "            batch = it.next()\n",
    "            image_aug = batch[0].astype('float32')\n",
    "            image_aug  = Image.fromarray(image_aug, 'RGB')\n",
    "            save_path = str(save_iter)+'.png'\n",
    "            image_aug.save(save_path)\n",
    "            save_iter += 1\n",
    "            \n",
    "            new_arr.append([save_path, category])\n",
    "        \n",
    "\n",
    "    "
   ]
  },
  {
   "cell_type": "code",
   "execution_count": null,
   "metadata": {},
   "outputs": [],
   "source": []
  },
  {
   "cell_type": "code",
   "execution_count": null,
   "metadata": {},
   "outputs": [],
   "source": []
  },
  {
   "cell_type": "code",
   "execution_count": null,
   "metadata": {},
   "outputs": [],
   "source": []
  },
  {
   "cell_type": "code",
   "execution_count": null,
   "metadata": {},
   "outputs": [],
   "source": []
  }
 ],
 "metadata": {
  "kernelspec": {
   "display_name": "Python 3",
   "language": "python",
   "name": "python3"
  },
  "language_info": {
   "codemirror_mode": {
    "name": "ipython",
    "version": 3
   },
   "file_extension": ".py",
   "mimetype": "text/x-python",
   "name": "python",
   "nbconvert_exporter": "python",
   "pygments_lexer": "ipython3",
   "version": "3.7.6"
  }
 },
 "nbformat": 4,
 "nbformat_minor": 4
}
